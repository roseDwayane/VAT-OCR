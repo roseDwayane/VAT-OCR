{
 "cells": [
  {
   "cell_type": "code",
   "execution_count": 1,
   "id": "5edcc16a",
   "metadata": {},
   "outputs": [
    {
     "name": "stderr",
     "output_type": "stream",
     "text": [
      "c:\\Users\\user\\anaconda3\\envs\\VAT\\Lib\\site-packages\\tqdm\\auto.py:21: TqdmWarning: IProgress not found. Please update jupyter and ipywidgets. See https://ipywidgets.readthedocs.io/en/stable/user_install.html\n",
      "  from .autonotebook import tqdm as notebook_tqdm\n",
      "Exception in thread Thread-11 (_readerthread):\n",
      "Traceback (most recent call last):\n",
      "  File \"c:\\Users\\user\\anaconda3\\envs\\VAT\\Lib\\threading.py\", line 1045, in _bootstrap_inner\n",
      "    self.run()\n",
      "  File \"c:\\Users\\user\\anaconda3\\envs\\VAT\\Lib\\site-packages\\ipykernel\\ipkernel.py\", line 772, in run_closure\n",
      "    _threading_Thread_run(self)\n",
      "  File \"c:\\Users\\user\\anaconda3\\envs\\VAT\\Lib\\threading.py\", line 982, in run\n",
      "    self._target(*self._args, **self._kwargs)\n",
      "  File \"c:\\Users\\user\\anaconda3\\envs\\VAT\\Lib\\subprocess.py\", line 1599, in _readerthread\n",
      "    buffer.append(fh.read())\n",
      "                  ^^^^^^^^^\n",
      "  File \"<frozen codecs>\", line 322, in decode\n",
      "UnicodeDecodeError: 'utf-8' codec can't decode byte 0xa4 in position 7: invalid start byte\n"
     ]
    },
    {
     "name": "stdout",
     "output_type": "stream",
     "text": [
      "🦥 Unsloth: Will patch your computer to enable 2x faster free finetuning.\n"
     ]
    },
    {
     "name": "stderr",
     "output_type": "stream",
     "text": [
      "W0924 11:45:23.880000 40504 site-packages\\torch\\distributed\\elastic\\multiprocessing\\redirects.py:29] NOTE: Redirects are currently not supported in Windows or MacOs.\n"
     ]
    },
    {
     "name": "stdout",
     "output_type": "stream",
     "text": [
      "🦥 Unsloth Zoo will now patch everything to make training faster!\n"
     ]
    },
    {
     "name": "stderr",
     "output_type": "stream",
     "text": [
      "c:\\Users\\user\\anaconda3\\envs\\VAT\\Lib\\site-packages\\unsloth_zoo\\gradient_checkpointing.py:339: UserWarning: expandable_segments not supported on this platform (Triggered internally at C:\\actions-runner\\_work\\pytorch\\pytorch\\pytorch\\c10/cuda/CUDAAllocatorConfig.h:35.)\n",
      "  GPU_BUFFERS = tuple([torch.empty(2*256*2048, dtype = dtype, device = f\"{DEVICE_TYPE}:{i}\") for i in range(n_gpus)])\n"
     ]
    },
    {
     "name": "stdout",
     "output_type": "stream",
     "text": [
      "==((====))==  Unsloth 2025.9.4: Fast Qwen2_5_Vl patching. Transformers: 4.56.1.\n",
      "   \\\\   /|    NVIDIA GeForce RTX 4070. Num GPUs = 1. Max memory: 11.994 GB. Platform: Windows.\n",
      "O^O/ \\_/ \\    Torch: 2.8.0+cu126. CUDA: 8.9. CUDA Toolkit: 12.6. Triton: 3.4.0\n",
      "\\        /    Bfloat16 = TRUE. FA [Xformers = 0.0.32.post2. FA2 = False]\n",
      " \"-____-\"     Free license: http://github.com/unslothai/unsloth\n",
      "Unsloth: Fast downloading is enabled - ignore downloading bars which are red colored!\n"
     ]
    }
   ],
   "source": [
    "if True:\n",
    "    from unsloth import FastVisionModel\n",
    "    model, tokenizer = FastVisionModel.from_pretrained(\n",
    "        model_name = \"VAT_model_small\", # \"VAT_model\", \"VAT_model_small\"\n",
    "        load_in_4bit = True, # Set to False for 16bit LoRA\n",
    "    )\n",
    "    FastVisionModel.for_inference(model) # Enable for inference!\n",
    "\n",
    "import re, json, ast\n",
    "from typing import Tuple, Any, List, Optional\n"
   ]
  },
  {
   "cell_type": "code",
   "execution_count": 2,
   "id": "6249f468",
   "metadata": {},
   "outputs": [],
   "source": [
    "def repair_json(s: str, schema: Optional[dict] = None) -> Tuple[str, Any, List[str]]:\n",
    "    \"\"\"\n",
    "    將「幾乎 JSON」的字串修復成合法 JSON。\n",
    "    回傳: (fixed_text, obj, logs)\n",
    "      fixed_text: 修復後的 JSON 字串\n",
    "      obj:        對應的 Python 物件 (dict/list)\n",
    "      logs:       修復步驟紀錄\n",
    "    \"\"\"\n",
    "    logs: List[str] = []\n",
    "    text = s.strip()\n",
    "\n",
    "    # 0) 去掉 ```json ... ``` 或一般 ``` 區塊外殼\n",
    "    if \"```\" in text:\n",
    "        text = re.sub(r\"```(?:json|JSON)?\", \"\", text)\n",
    "        text = text.replace(\"```\", \"\")\n",
    "        text = text.strip()\n",
    "        logs.append(\"removed code fences\")\n",
    "\n",
    "    # 1) 只擷取最外層 {...} 或 [...]\n",
    "    def _extract_json_region(t: str) -> str:\n",
    "        lb, rb = t.find(\"{\"), t.rfind(\"}\")\n",
    "        if lb != -1 and rb != -1 and rb > lb:\n",
    "            return t[lb:rb+1]\n",
    "        lb, rb = t.find(\"[\"), t.rfind(\"]\")\n",
    "        if lb != -1 and rb != -1 and rb > lb:\n",
    "            return t[lb:rb+1]\n",
    "        return t\n",
    "\n",
    "    text2 = _extract_json_region(text)\n",
    "    if text2 != text:\n",
    "        logs.append(\"extracted outer JSON-like region\")\n",
    "        text = text2\n",
    "\n",
    "    # 2) 嘗試標準 JSON\n",
    "    try:\n",
    "        obj = json.loads(text)\n",
    "        logs.append(\"parsed by json\")\n",
    "        if schema:\n",
    "            from jsonschema import validate\n",
    "            validate(obj, schema); logs.append(\"validated by jsonschema\")\n",
    "        return json.dumps(obj, ensure_ascii=False, indent=2), obj, logs\n",
    "    except Exception as e:\n",
    "        logs.append(f\"json.loads failed: {e}\")\n",
    "\n",
    "    # 3) 用 ast.literal_eval 吃單引號/尾逗號 等 Python 字面量\n",
    "    try:\n",
    "        obj = ast.literal_eval(text)\n",
    "        logs.append(\"parsed by ast.literal_eval\")\n",
    "        if schema:\n",
    "            from jsonschema import validate\n",
    "            validate(obj, schema); logs.append(\"validated by jsonschema\")\n",
    "        return json.dumps(obj, ensure_ascii=False, indent=2), obj, logs\n",
    "    except Exception as e:\n",
    "        logs.append(f\"ast.literal_eval failed: {e}\")\n",
    "\n",
    "    # 4) 常見修補：彎引號→直引號、True/False/None→JSON、刪尾逗號、單引號→雙引號\n",
    "    fixed = text.translate(str.maketrans({\n",
    "        \"\\u201c\": '\"', \"\\u201d\": '\"', \"\\u2018\": \"'\", \"\\u2019\": \"'\",\n",
    "    }))\n",
    "    if fixed != text:\n",
    "        logs.append(\"normalized curly quotes\")\n",
    "\n",
    "    # Python 常量 → JSON 常量\n",
    "    fixed2 = re.sub(r'(?<!\")\\bTrue\\b(?!\")', \"true\", fixed)\n",
    "    fixed2 = re.sub(r'(?<!\")\\bFalse\\b(?!\")', \"false\", fixed2)\n",
    "    fixed2 = re.sub(r'(?<!\")\\bNone\\b(?!\")', \"null\", fixed2)\n",
    "    if fixed2 != fixed:\n",
    "        logs.append(\"converted Python literals to JSON\")\n",
    "    fixed = fixed2\n",
    "\n",
    "    # 移除尾逗號\n",
    "    no_trailing_commas = re.sub(r\",\\s*([}\\]])\", r\"\\1\", fixed)\n",
    "    if no_trailing_commas != fixed:\n",
    "        logs.append(\"removed trailing commas\")\n",
    "    fixed = no_trailing_commas\n",
    "\n",
    "    # 粗略：單引號 → 雙引號（在中文內容通常安全）\n",
    "    dq = re.sub(r\"(?<!\\\\)'\", '\"', fixed)\n",
    "    if dq != fixed:\n",
    "        logs.append(\"replaced single quotes with double quotes\")\n",
    "    fixed = dq\n",
    "\n",
    "    # 5) 最終嘗試標準 JSON\n",
    "    try:\n",
    "        obj = json.loads(fixed)\n",
    "        logs.append(\"fixed manually then parsed by json\")\n",
    "        if schema:\n",
    "            from jsonschema import validate\n",
    "            validate(obj, schema); logs.append(\"validated by jsonschema\")\n",
    "        return json.dumps(obj, ensure_ascii=False, indent=2), obj, logs\n",
    "    except Exception as e:\n",
    "        logs.append(f\"final json.loads failed: {e}\")\n",
    "        # 兜底：包 raw\n",
    "        fallback = {\"raw\": s}\n",
    "        if schema:\n",
    "            logs.append(\"returned raw because schema validation/parse failed\")\n",
    "        return json.dumps(fallback, ensure_ascii=False, indent=2), fallback, logs\n",
    "\n",
    "import json, re\n",
    "from typing import Any, Dict, Tuple, Mapping, Optional\n",
    "\n",
    "def _extract_json(s: str) -> Dict[str, Any]:\n",
    "    start = s.find(\"{\"); end = s.rfind(\"}\")\n",
    "    if start == -1 or end == -1 or end < start:\n",
    "        raise ValueError(\"找不到可解析的 JSON 內容\")\n",
    "    return json.loads(s[start:end+1])\n",
    "\n",
    "def _canonical_key_map(d: Dict[str, Any]) -> Dict[str, str]:\n",
    "    # 建立不分大小寫的鍵名映射：lower(key) -> 原鍵名\n",
    "    return {k.lower(): k for k in d.keys()}\n",
    "\n",
    "def _get_ci(d: Dict[str, Any], key: str):\n",
    "    # 不分大小寫取值；找不到返回 None\n",
    "    if key in d: return d[key]\n",
    "    lk = key.lower()\n",
    "    for k in d.keys():\n",
    "        if k.lower() == lk:\n",
    "            return d[k]\n",
    "    return None\n",
    "\n",
    "def _is_none(x: Any) -> bool: return x is None\n",
    "def _is_nonempty_str(x: Any) -> bool: return isinstance(x, str) and len(x.strip()) > 0\n",
    "def _re_match(pattern: str, x: Any) -> bool:\n",
    "    if x is None: return True          # 非必填且 None 視為 OK；是否必填由 required 控制\n",
    "    if not isinstance(x, str): return False\n",
    "    return re.fullmatch(pattern, x.strip()) is not None\n",
    "\n",
    "def _amount_parse_and_normalize_int_str(x: Any) -> Optional[str]:\n",
    "    \"\"\"允許千分位與 .00；回傳正規化整數字串，否則 None。\"\"\"\n",
    "    if not isinstance(x, str) or not x.strip():\n",
    "        return None\n",
    "    s = x.strip()\n",
    "    # 允許 \"123456\", \"1,234,567\", \"1,234,567.00\"\n",
    "    if re.fullmatch(r\"\\d{1,3}(,\\d{3})*(?:\\.00)?\", s):\n",
    "        s_no_comma = s.replace(\",\", \"\")\n",
    "        if s_no_comma.endswith(\".00\"):\n",
    "            s_no_comma = s_no_comma[:-3]\n",
    "        try:\n",
    "            return str(int(s_no_comma))\n",
    "        except ValueError:\n",
    "            return None\n",
    "    # 允許無逗號但帶 .00\n",
    "    if re.fullmatch(r\"\\d+(?:\\.00)?\", s):\n",
    "        if s.endswith(\".00\"):\n",
    "            s = s[:-3]\n",
    "        try:\n",
    "            return str(int(s))\n",
    "        except ValueError:\n",
    "            return None\n",
    "    return None\n",
    "\n",
    "def _normalize_year_to_gregorian(y: Any) -> Optional[str]:\n",
    "    \"\"\"2~3 碼視為民國年 +1911；4 碼視為西元年；其餘回 None。\"\"\"\n",
    "    if not isinstance(y, str) or not y.strip() or not y.strip().isdigit():\n",
    "        return None\n",
    "    s = y.strip()\n",
    "    if len(s) in (2, 3):  # 民國年\n",
    "        return str(int(s) + 1911)\n",
    "    if len(s) == 4:       # 西元年\n",
    "        return s\n",
    "    return None\n",
    "\n",
    "\n",
    "def _strip_leading_zero_num_str(x: Any) -> Optional[str]:\n",
    "    \"\"\"將 '09' -> '9'；若非數字字串則回 None。\"\"\"\n",
    "    if not isinstance(x, str) or not x.strip():\n",
    "        return None\n",
    "    s = x.strip()\n",
    "    if not re.fullmatch(r\"\\d+\", s):\n",
    "        return None\n",
    "    try:\n",
    "        return str(int(s))\n",
    "    except ValueError:\n",
    "        return None\n",
    "\n",
    "PAT_MM = r\"(0?[1-9]|1[0-2])\"\n",
    "PAT_DD = r\"(0?[1-9]|[12]\\d|3[01])\"\n",
    "\n",
    "def check_compliance(\n",
    "    data_or_str: Any,\n",
    "    required_fields: Optional[Tuple[str, ...]] = None,\n",
    "    required_fields_by_doc_class: Optional[Mapping[str, Tuple[str, ...]]] = None,\n",
    "    only_required_and_rules: bool = True,\n",
    "    emit_info: bool = True,  # 若要加上 @info，可設 True\n",
    "    emit_normalized: bool = False,                  # ★ 會輸出 @normalized:*（三個金額欄位）\n",
    "    return_normalized_object: bool = True,        # ★ 回傳 (結果, 正規化後物件)\n",
    ") -> Dict[str, bool]:\n",
    "    # 1) 解析\n",
    "    if isinstance(data_or_str, str):\n",
    "        obj = _extract_json(data_or_str)\n",
    "    elif isinstance(data_or_str, dict):\n",
    "        obj = data_or_str\n",
    "    else:\n",
    "        raise TypeError(\"只接受 dict 或 str (JSON)\")\n",
    "\n",
    "    # 2) 取出扁平的 gt_parse（若不在 gt_parse，則視為已是扁平）\n",
    "    root = obj.get(\"gt_parse\", obj)\n",
    "    keymap = _canonical_key_map(root)\n",
    "    # 支援 Doc_class / doc_class；Rationale / rationale\n",
    "    doc_class_key = keymap.get(\"doc_class\", \"Doc_class\" if \"Doc_class\" in root else \"doc_class\")\n",
    "    rationale_key = keymap.get(\"rationale\", \"Rationale\" if \"Rationale\" in root else \"rationale\")\n",
    "    doc_class = _get_ci(root, doc_class_key)\n",
    "\n",
    "    # 3) 欄位格式規則（扁平版）\n",
    "    rules = {\n",
    "        \"PrefixTwoLetters\":    lambda v: _re_match(r\"[A-Z]{2}\", v),\n",
    "        \"InvoiceNumber\":       lambda v: _re_match(r\"\\d{8}\", v),\n",
    "        \"InvoiceYear\":         lambda v: _re_match(r\"(\\d{2,3}|\\d{4})\", v),\n",
    "        \"InvoiceMonth\":        lambda v: _re_match(r\"(0?[1-9]|1[0-2])\", v),\n",
    "        \"InvoiceDay\":          lambda v: _re_match(r\"(0?[1-9]|[12]\\d|3[01])\", v),\n",
    "        \"BuyerName\":           lambda v: True if v is None else _is_nonempty_str(v),\n",
    "        \"BuyerTaxIDNumber\":    lambda v: True if v is None else _re_match(r\"\\d{8}\", v),\n",
    "        \"CompanyName\":         lambda v: True if v is None else _is_nonempty_str(v),\n",
    "        \"CompanyAddress\":      lambda v: True if v is None else _is_nonempty_str(v),\n",
    "        \"CompanyTaxIDNumber\":  lambda v: True if v is None else _re_match(r\"\\d{8}\", v),\n",
    "        \"PhoneNumber\":         lambda v: True if v is None else _re_match(r\"[0-9()+\\- ]{7,}\", v),\n",
    "        \"Abstract\":            lambda v: True if v is None else _is_nonempty_str(v),\n",
    "        \"SalesTotalAmount\":    lambda v: (_amount_parse_and_normalize_int_str(v) is not None),\n",
    "        \"SalesTax\":            lambda v: (_amount_parse_and_normalize_int_str(v) is not None),\n",
    "        \"TotalAmount\":         lambda v: (_amount_parse_and_normalize_int_str(v) is not None),\n",
    "        # meta\n",
    "        doc_class_key:         lambda v: _is_nonempty_str(v) if v is not None else True,\n",
    "        rationale_key:         lambda v: True if v is None else _is_nonempty_str(v),\n",
    "    }\n",
    "\n",
    "    # 4) 平面值（用輸入的實際鍵名；找不到就是 None）\n",
    "    values = { k: root.get(k) for k in [\n",
    "        \"PrefixTwoLetters\",\"InvoiceNumber\",\"InvoiceYear\",\"InvoiceMonth\",\"InvoiceDay\",\n",
    "        \"BuyerName\",\"BuyerTaxIDNumber\",\"CompanyName\",\"CompanyAddress\",\"CompanyTaxIDNumber\",\n",
    "        \"PhoneNumber\",\"Abstract\",\"SalesTotalAmount\",\"SalesTax\",\"TotalAmount\",\n",
    "    ]}\n",
    "    values[doc_class_key] = doc_class\n",
    "    values[rationale_key] = _get_ci(root, rationale_key)\n",
    "\n",
    "    # 5) 必填欄位（扁平版；可依需求調整）\n",
    "    default_required = required_fields or (\n",
    "        \"PrefixTwoLetters\",\"InvoiceNumber\",\"SalesTotalAmount\",\"SalesTax\",\"TotalAmount\",\n",
    "    )\n",
    "    per_class_required = required_fields_by_doc_class or {\n",
    "        \"triple_invoice\": (\n",
    "            \"PrefixTwoLetters\",\"InvoiceNumber\", \"BuyerTaxIDNumber\",\n",
    "            \"InvoiceYear\",\"InvoiceMonth\",\"InvoiceDay\", \"Abstract\",\n",
    "            \"SalesTotalAmount\",\"SalesTax\",\"TotalAmount\", \"CompanyTaxIDNumber\",\n",
    "        ),\n",
    "        \"triple_receipt\": (\n",
    "            \"PrefixTwoLetters\",\"InvoiceNumber\", \"CompanyTaxIDNumber\",\n",
    "            \"InvoiceYear\",\"InvoiceMonth\",\"InvoiceDay\", \"BuyerTaxIDNumber\",\n",
    "            \"Abstract\",\n",
    "            \"SalesTotalAmount\",\"SalesTax\",\"TotalAmount\",\n",
    "        ),\n",
    "    }\n",
    "    active_required = per_class_required.get(str(doc_class), default_required)\n",
    "\n",
    "    # 基本 + 必填\n",
    "    full_result: Dict[str, bool] = {}\n",
    "    for key, val in values.items():\n",
    "        validator = rules.get(key, lambda v: True)\n",
    "        ok = validator(val)\n",
    "        if ok and key in active_required:\n",
    "            ok = not _is_none(val) and (not isinstance(val, str) or len(val.strip()) > 0)\n",
    "        full_result[key] = bool(ok)\n",
    "\n",
    "    # 合計規則：以正規化後數值進行\n",
    "    def _to_int_from_amount(x: Any) -> Optional[int]:\n",
    "        norm = _amount_parse_and_normalize_int_str(x)\n",
    "        if norm is not None:\n",
    "            return int(norm)\n",
    "        if isinstance(x, str) and re.fullmatch(r\"\\d+\", x or \"\"):\n",
    "            return int(x)\n",
    "        return None\n",
    "\n",
    "    st = _to_int_from_amount(values.get(\"SalesTotalAmount\"))\n",
    "    tax = _to_int_from_amount(values.get(\"SalesTax\"))\n",
    "    total = _to_int_from_amount(values.get(\"TotalAmount\"))\n",
    "    if None not in (st, tax, total):\n",
    "        full_result[\"@rule:TotalAmount_equals_SalesTotal_plus_SalesTax\"] = (st + tax == total)\n",
    "\n",
    "    # 正規化輸出與物件（依 doc_class 組出「固定欄位 + 固定順序」）\n",
    "    # 1) 先準備各欄位的正規化值\n",
    "    st_norm = _amount_parse_and_normalize_int_str(values.get(\"SalesTotalAmount\"))\n",
    "    tax_norm = _amount_parse_and_normalize_int_str(values.get(\"SalesTax\"))\n",
    "    total_norm = _amount_parse_and_normalize_int_str(values.get(\"TotalAmount\"))\n",
    "    year_norm = _normalize_year_to_gregorian(values.get(\"InvoiceYear\"))\n",
    "    mm_norm = _strip_leading_zero_num_str(values.get(\"InvoiceMonth\")) or values.get(\"InvoiceMonth\")\n",
    "    dd_norm = _strip_leading_zero_num_str(values.get(\"InvoiceDay\")) or values.get(\"InvoiceDay\")\n",
    "\n",
    "    # 2) 建立以固定順序輸出的 gt_parse\n",
    "    if str(doc_class) == \"triple_receipt\":\n",
    "        normalized_gt_parse = {\n",
    "            \"Doc_class\": \"triple_receipt\",\n",
    "            \"Rationale\": _get_ci(root, \"Rationale\"),\n",
    "            \"PrefixTwoLetters\": _get_ci(root, \"PrefixTwoLetters\"),\n",
    "            \"InvoiceNumber\": _get_ci(root, \"InvoiceNumber\"),\n",
    "            \"CompanyName\": _get_ci(root, \"CompanyName\"),\n",
    "            \"PhoneNumber\": _get_ci(root, \"PhoneNumber\"),\n",
    "            \"CompanyTaxIDNumber\": _get_ci(root, \"CompanyTaxIDNumber\"),\n",
    "            \"CompanyAddress\": _get_ci(root, \"CompanyAddress\"),\n",
    "            \"InvoiceYear\": _get_ci(root, \"InvoiceYear\"), # year_norm\n",
    "            \"InvoiceMonth\": mm_norm,\n",
    "            \"InvoiceDay\": dd_norm,\n",
    "            \"BuyerTaxIDNumber\": _get_ci(root, \"BuyerTaxIDNumber\"),\n",
    "            \"BuyerName\": _get_ci(root, \"BuyerName\"),\n",
    "            \"Abstract\": _get_ci(root, \"Abstract\"),\n",
    "            \"SalesTotalAmount\": st_norm if st_norm is not None else _get_ci(root, \"SalesTotalAmount\"),\n",
    "            \"SalesTax\": tax_norm if tax_norm is not None else _get_ci(root, \"SalesTax\"),\n",
    "            \"TotalAmount\": total_norm if total_norm is not None else _get_ci(root, \"TotalAmount\"),\n",
    "        }\n",
    "    else:  # 預設視為 triple_invoice（或其他類型也用這個順序以符合需求）\n",
    "        normalized_gt_parse = {\n",
    "            \"Doc_class\": \"triple_invoice\",\n",
    "            \"Rationale\": _get_ci(root, \"Rationale\"),\n",
    "            \"PrefixTwoLetters\": _get_ci(root, \"PrefixTwoLetters\"),\n",
    "            \"InvoiceNumber\": _get_ci(root, \"InvoiceNumber\"),\n",
    "            \"BuyerName\": _get_ci(root, \"BuyerName\"),\n",
    "            \"BuyerTaxIDNumber\": _get_ci(root, \"BuyerTaxIDNumber\"),\n",
    "            \"InvoiceYear\": _get_ci(root, \"InvoiceYear\"), # year_norm\n",
    "            \"InvoiceMonth\": mm_norm,\n",
    "            \"InvoiceDay\": dd_norm,\n",
    "            \"Abstract\": _get_ci(root, \"Abstract\"),\n",
    "            \"SalesTotalAmount\": st_norm if st_norm is not None else _get_ci(root, \"SalesTotalAmount\"),\n",
    "            \"SalesTax\": tax_norm if tax_norm is not None else _get_ci(root, \"SalesTax\"),\n",
    "            \"TotalAmount\": total_norm if total_norm is not None else _get_ci(root, \"TotalAmount\"),\n",
    "            \"CompanyName\": _get_ci(root, \"CompanyName\"),\n",
    "            \"CompanyTaxIDNumber\": _get_ci(root, \"CompanyTaxIDNumber\"),\n",
    "            \"PhoneNumber\": _get_ci(root, \"PhoneNumber\"),\n",
    "            \"CompanyAddress\": _get_ci(root, \"CompanyAddress\"),\n",
    "        }\n",
    "\n",
    "    normalized_obj = {\"gt_parse\": normalized_gt_parse}\n",
    "\n",
    "    # 3) 在結果中標出三個金額欄位的正規化值（如有）\n",
    "    if emit_normalized:\n",
    "        if year_norm is not None:  full_result[\"@normalized:InvoiceYear\"] = year_norm\n",
    "        if mm_norm is not None: full_result[\"@normalized:InvoiceMonth\"] = mm_norm\n",
    "        if dd_norm is not None:   full_result[\"@normalized:InvoiceDay\"] = dd_norm\n",
    "        if st_norm is not None:    full_result[\"@normalized:SalesTotalAmount\"] = st_norm\n",
    "        if tax_norm is not None:   full_result[\"@normalized:SalesTax\"] = tax_norm\n",
    "        if total_norm is not None: full_result[\"@normalized:TotalAmount\"] = total_norm\n",
    "\n",
    "    # 只輸出必填 + 規則 + 正規化資訊\n",
    "    if only_required_and_rules:\n",
    "        filtered = {k: v for k, v in full_result.items()\n",
    "                    if k in active_required or k.startswith(\"@rule:\") or k.startswith(\"@normalized:\") or (emit_info and k.startswith(\"@info:\"))}\n",
    "    else:\n",
    "        filtered = full_result\n",
    "\n",
    "    return (filtered, normalized_obj) if return_normalized_object else filtered\n",
    "\n"
   ]
  },
  {
   "cell_type": "code",
   "execution_count": null,
   "id": "2bf4621f",
   "metadata": {},
   "outputs": [],
   "source": [
    "from pathlib import Path\n",
    "import json\n",
    "from PIL import Image\n",
    "\n",
    "FastVisionModel.for_inference(model)  # inference 模式\n",
    "\n",
    "\n",
    "def chat_once(image):\n",
    "    instruction = \"你是發票/單據分類器與結構化抽取器，請辨識這張文件\"\n",
    "\n",
    "    messages = [\n",
    "        {\"role\": \"user\", \"content\": [\n",
    "            {\"type\": \"image\"},\n",
    "            {\"type\": \"text\", \"text\": instruction}\n",
    "        ]}\n",
    "    ]\n",
    "\n",
    "    # 準備輸入\n",
    "    input_text = tokenizer.apply_chat_template(messages, add_generation_prompt=True)\n",
    "    inputs = tokenizer(\n",
    "        image,\n",
    "        input_text,\n",
    "        add_special_tokens=False,\n",
    "        return_tensors=\"pt\",\n",
    "    ).to(\"cuda\")\n",
    "\n",
    "    # 產生（不使用 streamer，改成一次取回）\n",
    "    gen_ids = model.generate(\n",
    "        **inputs,\n",
    "        max_new_tokens=1024,\n",
    "        use_cache=True,\n",
    "        temperature=0.1,\n",
    "        min_p=0.1,\n",
    "        do_sample=True,              # 若你想要可重現，可改成 False\n",
    "        eos_token_id=tokenizer.eos_token_id,\n",
    "        pad_token_id=tokenizer.pad_token_id,\n",
    "    )\n",
    "\n",
    "    # 只取「模型新產生」的 token，排除提示部分\n",
    "    prompt_len = inputs[\"input_ids\"].shape[1]\n",
    "    new_token_ids = gen_ids[0, prompt_len:]\n",
    "\n",
    "    output_text = tokenizer.decode(new_token_ids, skip_special_tokens=True).strip()\n",
    "\n",
    "    try:\n",
    "        #print(\"json is good!\")\n",
    "        result = json.loads(output_text)\n",
    "    except Exception:\n",
    "        #print(\"bad json is repaired!\")\n",
    "        result, obj, logs = repair_json(output_text)\n",
    "\n",
    "    #print(type(result), result)\n",
    "    #result = json.loads(result)\n",
    "    #print(type(result), json.dumps(result['gt_parse'], ensure_ascii=False, indent=2))\n",
    "    return result\n",
    "\n",
    "image = Image.open(\"./invoice2.jpg\").convert(\"RGB\")\n",
    "input_string = json.loads(chat_once(image))\n",
    "input_string['gt_parse']['doc_class'] = \"triple_receipt\" # triple_receipt, triple_invoice\n",
    "compliance, edit_string = check_compliance(input_string)\n",
    "print(type(compliance))\n",
    "print(json.dumps(compliance, ensure_ascii=False, indent=2))\n",
    "print(json.dumps(edit_string, ensure_ascii=False, indent=2))\n"
   ]
  },
  {
   "cell_type": "code",
   "execution_count": null,
   "id": "52244f62",
   "metadata": {},
   "outputs": [
    {
     "name": "stdout",
     "output_type": "stream",
     "text": [
      "Total entries found: 1621\n"
     ]
    },
    {
     "name": "stderr",
     "output_type": "stream",
     "text": [
      "Processing entries:   0%|          | 1/1621 [00:18<8:10:43, 18.17s/it]"
     ]
    },
    {
     "name": "stdout",
     "output_type": "stream",
     "text": [
      "[OK] photo_20240920015837.json -> C:/Users/user/pythonproject/AllDataset/VAT-OCR\\triple_receipt\\label\\train_new\\photo_20240920015837.json\n"
     ]
    },
    {
     "name": "stderr",
     "output_type": "stream",
     "text": [
      "Processing entries:   0%|          | 2/1621 [00:37<8:30:17, 18.91s/it]"
     ]
    },
    {
     "name": "stdout",
     "output_type": "stream",
     "text": [
      "[OK] photo_20240920033442.json -> C:/Users/user/pythonproject/AllDataset/VAT-OCR\\triple_receipt\\label\\train_new\\photo_20240920033442.json\n"
     ]
    },
    {
     "name": "stderr",
     "output_type": "stream",
     "text": [
      "Processing entries:   0%|          | 3/1621 [00:56<8:32:13, 18.99s/it]"
     ]
    },
    {
     "name": "stdout",
     "output_type": "stream",
     "text": [
      "[OK] photo_20240920033442_1.json -> C:/Users/user/pythonproject/AllDataset/VAT-OCR\\triple_receipt\\label\\train_new\\photo_20240920033442_1.json\n"
     ]
    },
    {
     "name": "stderr",
     "output_type": "stream",
     "text": [
      "Processing entries:   0%|          | 4/1621 [01:17<8:46:07, 19.52s/it]"
     ]
    },
    {
     "name": "stdout",
     "output_type": "stream",
     "text": [
      "[OK] photo_20240920033442_2.json -> C:/Users/user/pythonproject/AllDataset/VAT-OCR\\triple_receipt\\label\\train_new\\photo_20240920033442_2.json\n"
     ]
    },
    {
     "name": "stderr",
     "output_type": "stream",
     "text": [
      "Processing entries:   0%|          | 5/1621 [01:35<8:38:10, 19.24s/it]"
     ]
    },
    {
     "name": "stdout",
     "output_type": "stream",
     "text": [
      "[OK] photo_20240920033442_3.json -> C:/Users/user/pythonproject/AllDataset/VAT-OCR\\triple_receipt\\label\\train_new\\photo_20240920033442_3.json\n"
     ]
    },
    {
     "name": "stderr",
     "output_type": "stream",
     "text": [
      "Processing entries:   0%|          | 6/1621 [01:56<8:54:20, 19.85s/it]"
     ]
    },
    {
     "name": "stdout",
     "output_type": "stream",
     "text": [
      "[OK] photo_20240920033442_4.json -> C:/Users/user/pythonproject/AllDataset/VAT-OCR\\triple_receipt\\label\\train_new\\photo_20240920033442_4.json\n"
     ]
    },
    {
     "name": "stderr",
     "output_type": "stream",
     "text": [
      "Processing entries:   0%|          | 7/1621 [02:12<8:21:16, 18.63s/it]"
     ]
    },
    {
     "name": "stdout",
     "output_type": "stream",
     "text": [
      "[OK] photo_20240920054107.json -> C:/Users/user/pythonproject/AllDataset/VAT-OCR\\triple_receipt\\label\\train_new\\photo_20240920054107.json\n"
     ]
    },
    {
     "name": "stderr",
     "output_type": "stream",
     "text": [
      "Processing entries:   0%|          | 8/1621 [02:29<7:59:57, 17.85s/it]"
     ]
    },
    {
     "name": "stdout",
     "output_type": "stream",
     "text": [
      "[OK] photo_20240920060238.json -> C:/Users/user/pythonproject/AllDataset/VAT-OCR\\triple_receipt\\label\\train_new\\photo_20240920060238.json\n"
     ]
    },
    {
     "name": "stderr",
     "output_type": "stream",
     "text": [
      "Processing entries:   1%|          | 9/1621 [02:45<7:47:05, 17.39s/it]"
     ]
    },
    {
     "name": "stdout",
     "output_type": "stream",
     "text": [
      "[OK] photo_20240920060238_1.json -> C:/Users/user/pythonproject/AllDataset/VAT-OCR\\triple_receipt\\label\\train_new\\photo_20240920060238_1.json\n"
     ]
    },
    {
     "name": "stderr",
     "output_type": "stream",
     "text": [
      "Processing entries:   1%|          | 10/1621 [03:01<7:38:00, 17.06s/it]"
     ]
    },
    {
     "name": "stdout",
     "output_type": "stream",
     "text": [
      "[FAIL] photo_20240920060238_2.json -> C:/Users/user/pythonproject/AllDataset/VAT-OCR\\triple_receipt\\label\\train_fail\\photo_20240920060238_2.json\n"
     ]
    },
    {
     "name": "stderr",
     "output_type": "stream",
     "text": [
      "Processing entries:   1%|          | 11/1621 [03:18<7:31:35, 16.83s/it]"
     ]
    },
    {
     "name": "stdout",
     "output_type": "stream",
     "text": [
      "[OK] photo_20240920060238_3.json -> C:/Users/user/pythonproject/AllDataset/VAT-OCR\\triple_receipt\\label\\train_new\\photo_20240920060238_3.json\n"
     ]
    },
    {
     "name": "stderr",
     "output_type": "stream",
     "text": [
      "Processing entries:   1%|          | 12/1621 [03:34<7:27:20, 16.68s/it]"
     ]
    },
    {
     "name": "stdout",
     "output_type": "stream",
     "text": [
      "[FAIL] photo_20240920060238_4.json -> C:/Users/user/pythonproject/AllDataset/VAT-OCR\\triple_receipt\\label\\train_fail\\photo_20240920060238_4.json\n"
     ]
    },
    {
     "name": "stderr",
     "output_type": "stream",
     "text": [
      "Processing entries:   1%|          | 13/1621 [03:54<7:53:13, 17.66s/it]"
     ]
    },
    {
     "name": "stdout",
     "output_type": "stream",
     "text": [
      "[OK] photo_20240920061848.json -> C:/Users/user/pythonproject/AllDataset/VAT-OCR\\triple_receipt\\label\\train_new\\photo_20240920061848.json\n"
     ]
    },
    {
     "name": "stderr",
     "output_type": "stream",
     "text": [
      "Processing entries:   1%|          | 14/1621 [04:12<7:56:57, 17.81s/it]"
     ]
    },
    {
     "name": "stdout",
     "output_type": "stream",
     "text": [
      "[OK] photo_20240920063319_3.json -> C:/Users/user/pythonproject/AllDataset/VAT-OCR\\triple_receipt\\label\\train_new\\photo_20240920063319_3.json\n"
     ]
    },
    {
     "name": "stderr",
     "output_type": "stream",
     "text": [
      "Processing entries:   1%|          | 15/1621 [04:31<8:03:36, 18.07s/it]"
     ]
    },
    {
     "name": "stdout",
     "output_type": "stream",
     "text": [
      "[OK] photo_20240920063319_4.json -> C:/Users/user/pythonproject/AllDataset/VAT-OCR\\triple_receipt\\label\\train_new\\photo_20240920063319_4.json\n"
     ]
    },
    {
     "name": "stderr",
     "output_type": "stream",
     "text": [
      "Processing entries:   1%|          | 16/1621 [04:50<8:10:10, 18.32s/it]"
     ]
    },
    {
     "name": "stdout",
     "output_type": "stream",
     "text": [
      "[OK] photo_20240920063319_5.json -> C:/Users/user/pythonproject/AllDataset/VAT-OCR\\triple_receipt\\label\\train_new\\photo_20240920063319_5.json\n"
     ]
    },
    {
     "name": "stderr",
     "output_type": "stream",
     "text": [
      "Processing entries:   1%|          | 17/1621 [05:09<8:20:32, 18.72s/it]"
     ]
    },
    {
     "name": "stdout",
     "output_type": "stream",
     "text": [
      "[FAIL] photo_20240920083556.json -> C:/Users/user/pythonproject/AllDataset/VAT-OCR\\triple_receipt\\label\\train_fail\\photo_20240920083556.json\n"
     ]
    },
    {
     "name": "stderr",
     "output_type": "stream",
     "text": [
      "Processing entries:   1%|          | 18/1621 [05:31<8:44:59, 19.65s/it]"
     ]
    },
    {
     "name": "stdout",
     "output_type": "stream",
     "text": [
      "[FAIL] photo_20240920084447.json -> C:/Users/user/pythonproject/AllDataset/VAT-OCR\\triple_receipt\\label\\train_fail\\photo_20240920084447.json\n"
     ]
    },
    {
     "name": "stderr",
     "output_type": "stream",
     "text": [
      "Processing entries:   1%|          | 19/1621 [05:54<9:14:11, 20.76s/it]"
     ]
    },
    {
     "name": "stdout",
     "output_type": "stream",
     "text": [
      "[FAIL] photo_20240920084447_1.json -> C:/Users/user/pythonproject/AllDataset/VAT-OCR\\triple_receipt\\label\\train_fail\\photo_20240920084447_1.json\n"
     ]
    },
    {
     "name": "stderr",
     "output_type": "stream",
     "text": [
      "Processing entries:   1%|          | 20/1621 [06:16<9:22:02, 21.06s/it]"
     ]
    },
    {
     "name": "stdout",
     "output_type": "stream",
     "text": [
      "[OK] photo_20240920084447_2.json -> C:/Users/user/pythonproject/AllDataset/VAT-OCR\\triple_receipt\\label\\train_new\\photo_20240920084447_2.json\n"
     ]
    },
    {
     "name": "stderr",
     "output_type": "stream",
     "text": [
      "Processing entries:   1%|▏         | 21/1621 [06:40<9:42:40, 21.85s/it]"
     ]
    },
    {
     "name": "stdout",
     "output_type": "stream",
     "text": [
      "[OK] photo_20240920084447_3.json -> C:/Users/user/pythonproject/AllDataset/VAT-OCR\\triple_receipt\\label\\train_new\\photo_20240920084447_3.json\n"
     ]
    },
    {
     "name": "stderr",
     "output_type": "stream",
     "text": [
      "Processing entries:   1%|▏         | 22/1621 [07:04<10:00:57, 22.55s/it]"
     ]
    },
    {
     "name": "stdout",
     "output_type": "stream",
     "text": [
      "[FAIL] photo_20240920084447_4.json -> C:/Users/user/pythonproject/AllDataset/VAT-OCR\\triple_receipt\\label\\train_fail\\photo_20240920084447_4.json\n"
     ]
    },
    {
     "name": "stderr",
     "output_type": "stream",
     "text": [
      "Processing entries:   1%|▏         | 23/1621 [07:26<9:59:19, 22.50s/it] "
     ]
    },
    {
     "name": "stdout",
     "output_type": "stream",
     "text": [
      "[FAIL] photo_20240920085855.json -> C:/Users/user/pythonproject/AllDataset/VAT-OCR\\triple_receipt\\label\\train_fail\\photo_20240920085855.json\n"
     ]
    },
    {
     "name": "stderr",
     "output_type": "stream",
     "text": [
      "Processing entries:   1%|▏         | 24/1621 [07:48<9:47:40, 22.08s/it]"
     ]
    },
    {
     "name": "stdout",
     "output_type": "stream",
     "text": [
      "[OK] photo_20240920085855_1.json -> C:/Users/user/pythonproject/AllDataset/VAT-OCR\\triple_receipt\\label\\train_new\\photo_20240920085855_1.json\n"
     ]
    },
    {
     "name": "stderr",
     "output_type": "stream",
     "text": [
      "Processing entries:   2%|▏         | 25/1621 [08:07<9:26:35, 21.30s/it]"
     ]
    },
    {
     "name": "stdout",
     "output_type": "stream",
     "text": [
      "[OK] photo_20240920085855_2.json -> C:/Users/user/pythonproject/AllDataset/VAT-OCR\\triple_receipt\\label\\train_new\\photo_20240920085855_2.json\n"
     ]
    },
    {
     "name": "stderr",
     "output_type": "stream",
     "text": [
      "Processing entries:   2%|▏         | 26/1621 [08:29<9:30:50, 21.47s/it]"
     ]
    },
    {
     "name": "stdout",
     "output_type": "stream",
     "text": [
      "[OK] photo_20240920085855_3.json -> C:/Users/user/pythonproject/AllDataset/VAT-OCR\\triple_receipt\\label\\train_new\\photo_20240920085855_3.json\n"
     ]
    },
    {
     "name": "stderr",
     "output_type": "stream",
     "text": [
      "Processing entries:   2%|▏         | 27/1621 [08:48<9:10:54, 20.74s/it]"
     ]
    },
    {
     "name": "stdout",
     "output_type": "stream",
     "text": [
      "[OK] photo_20240920085855_4.json -> C:/Users/user/pythonproject/AllDataset/VAT-OCR\\triple_receipt\\label\\train_new\\photo_20240920085855_4.json\n"
     ]
    },
    {
     "name": "stderr",
     "output_type": "stream",
     "text": [
      "Processing entries:   2%|▏         | 28/1621 [09:12<9:38:08, 21.78s/it]"
     ]
    },
    {
     "name": "stdout",
     "output_type": "stream",
     "text": [
      "[OK] photo_20240920085855_5.json -> C:/Users/user/pythonproject/AllDataset/VAT-OCR\\triple_receipt\\label\\train_new\\photo_20240920085855_5.json\n"
     ]
    },
    {
     "name": "stderr",
     "output_type": "stream",
     "text": [
      "Processing entries:   2%|▏         | 29/1621 [09:33<9:30:13, 21.49s/it]"
     ]
    },
    {
     "name": "stdout",
     "output_type": "stream",
     "text": [
      "[FAIL] photo_20240920090732.json -> C:/Users/user/pythonproject/AllDataset/VAT-OCR\\triple_receipt\\label\\train_fail\\photo_20240920090732.json\n"
     ]
    },
    {
     "name": "stderr",
     "output_type": "stream",
     "text": [
      "Processing entries:   2%|▏         | 30/1621 [09:52<9:14:29, 20.91s/it]"
     ]
    },
    {
     "name": "stdout",
     "output_type": "stream",
     "text": [
      "[OK] photo_20240920090732_1.json -> C:/Users/user/pythonproject/AllDataset/VAT-OCR\\triple_receipt\\label\\train_new\\photo_20240920090732_1.json\n"
     ]
    },
    {
     "name": "stderr",
     "output_type": "stream",
     "text": [
      "Processing entries:   2%|▏         | 31/1621 [10:15<9:23:22, 21.26s/it]"
     ]
    },
    {
     "name": "stdout",
     "output_type": "stream",
     "text": [
      "[OK] photo_20240920090732_2.json -> C:/Users/user/pythonproject/AllDataset/VAT-OCR\\triple_receipt\\label\\train_new\\photo_20240920090732_2.json\n"
     ]
    },
    {
     "name": "stderr",
     "output_type": "stream",
     "text": [
      "Processing entries:   2%|▏         | 32/1621 [10:34<9:05:16, 20.59s/it]"
     ]
    },
    {
     "name": "stdout",
     "output_type": "stream",
     "text": [
      "[OK] photo_20240920090732_3.json -> C:/Users/user/pythonproject/AllDataset/VAT-OCR\\triple_receipt\\label\\train_new\\photo_20240920090732_3.json\n"
     ]
    },
    {
     "name": "stderr",
     "output_type": "stream",
     "text": [
      "Processing entries:   2%|▏         | 33/1621 [10:58<9:32:35, 21.63s/it]"
     ]
    },
    {
     "name": "stdout",
     "output_type": "stream",
     "text": [
      "[OK] photo_20240920090732_4.json -> C:/Users/user/pythonproject/AllDataset/VAT-OCR\\triple_receipt\\label\\train_new\\photo_20240920090732_4.json\n"
     ]
    },
    {
     "name": "stderr",
     "output_type": "stream",
     "text": [
      "Processing entries:   2%|▏         | 34/1621 [11:15<8:55:01, 20.23s/it]"
     ]
    },
    {
     "name": "stdout",
     "output_type": "stream",
     "text": [
      "[OK] photo_20240920092108.json -> C:/Users/user/pythonproject/AllDataset/VAT-OCR\\triple_receipt\\label\\train_new\\photo_20240920092108.json\n"
     ]
    },
    {
     "name": "stderr",
     "output_type": "stream",
     "text": [
      "Processing entries:   2%|▏         | 35/1621 [11:32<8:28:57, 19.25s/it]"
     ]
    },
    {
     "name": "stdout",
     "output_type": "stream",
     "text": [
      "[OK] photo_20240920092941.json -> C:/Users/user/pythonproject/AllDataset/VAT-OCR\\triple_receipt\\label\\train_new\\photo_20240920092941.json\n"
     ]
    },
    {
     "name": "stderr",
     "output_type": "stream",
     "text": [
      "Processing entries:   2%|▏         | 36/1621 [11:51<8:30:52, 19.34s/it]"
     ]
    },
    {
     "name": "stdout",
     "output_type": "stream",
     "text": [
      "[OK] photo_20240920092941_1.json -> C:/Users/user/pythonproject/AllDataset/VAT-OCR\\triple_receipt\\label\\train_new\\photo_20240920092941_1.json\n"
     ]
    },
    {
     "name": "stderr",
     "output_type": "stream",
     "text": [
      "Processing entries:   2%|▏         | 37/1621 [12:09<8:17:50, 18.86s/it]"
     ]
    },
    {
     "name": "stdout",
     "output_type": "stream",
     "text": [
      "[OK] photo_20240920092941_2.json -> C:/Users/user/pythonproject/AllDataset/VAT-OCR\\triple_receipt\\label\\train_new\\photo_20240920092941_2.json\n"
     ]
    },
    {
     "name": "stderr",
     "output_type": "stream",
     "text": [
      "Processing entries:   2%|▏         | 38/1621 [12:27<8:09:49, 18.57s/it]"
     ]
    },
    {
     "name": "stdout",
     "output_type": "stream",
     "text": [
      "[OK] photo_20240920092941_3.json -> C:/Users/user/pythonproject/AllDataset/VAT-OCR\\triple_receipt\\label\\train_new\\photo_20240920092941_3.json\n"
     ]
    },
    {
     "name": "stderr",
     "output_type": "stream",
     "text": [
      "Processing entries:   2%|▏         | 39/1621 [12:44<8:01:22, 18.26s/it]"
     ]
    },
    {
     "name": "stdout",
     "output_type": "stream",
     "text": [
      "[OK] photo_20240920093129.json -> C:/Users/user/pythonproject/AllDataset/VAT-OCR\\triple_receipt\\label\\train_new\\photo_20240920093129.json\n"
     ]
    },
    {
     "name": "stderr",
     "output_type": "stream",
     "text": [
      "Processing entries:   2%|▏         | 40/1621 [13:04<8:08:53, 18.55s/it]"
     ]
    },
    {
     "name": "stdout",
     "output_type": "stream",
     "text": [
      "[OK] photo_20240920093129_1.json -> C:/Users/user/pythonproject/AllDataset/VAT-OCR\\triple_receipt\\label\\train_new\\photo_20240920093129_1.json\n"
     ]
    },
    {
     "name": "stderr",
     "output_type": "stream",
     "text": [
      "Processing entries:   3%|▎         | 41/1621 [13:21<7:56:40, 18.10s/it]"
     ]
    },
    {
     "name": "stdout",
     "output_type": "stream",
     "text": [
      "[OK] photo_20240920093129_2.json -> C:/Users/user/pythonproject/AllDataset/VAT-OCR\\triple_receipt\\label\\train_new\\photo_20240920093129_2.json\n"
     ]
    },
    {
     "name": "stderr",
     "output_type": "stream",
     "text": [
      "Processing entries:   3%|▎         | 42/1621 [13:38<7:47:30, 17.76s/it]"
     ]
    },
    {
     "name": "stdout",
     "output_type": "stream",
     "text": [
      "[OK] photo_20240920093129_3.json -> C:/Users/user/pythonproject/AllDataset/VAT-OCR\\triple_receipt\\label\\train_new\\photo_20240920093129_3.json\n"
     ]
    },
    {
     "name": "stderr",
     "output_type": "stream",
     "text": [
      "Processing entries:   3%|▎         | 43/1621 [13:55<7:44:11, 17.65s/it]"
     ]
    },
    {
     "name": "stdout",
     "output_type": "stream",
     "text": [
      "[OK] photo_20241001045552.json -> C:/Users/user/pythonproject/AllDataset/VAT-OCR\\triple_receipt\\label\\train_new\\photo_20241001045552.json\n"
     ]
    },
    {
     "name": "stderr",
     "output_type": "stream",
     "text": [
      "Processing entries:   3%|▎         | 44/1621 [14:13<7:47:35, 17.79s/it]"
     ]
    },
    {
     "name": "stdout",
     "output_type": "stream",
     "text": [
      "[OK] photo_20241001045552_1.json -> C:/Users/user/pythonproject/AllDataset/VAT-OCR\\triple_receipt\\label\\train_new\\photo_20241001045552_1.json\n"
     ]
    },
    {
     "name": "stderr",
     "output_type": "stream",
     "text": [
      "Processing entries:   3%|▎         | 45/1621 [14:29<7:32:52, 17.24s/it]"
     ]
    },
    {
     "name": "stdout",
     "output_type": "stream",
     "text": [
      "[OK] photo_20241001045552_10.json -> C:/Users/user/pythonproject/AllDataset/VAT-OCR\\triple_receipt\\label\\train_new\\photo_20241001045552_10.json\n"
     ]
    },
    {
     "name": "stderr",
     "output_type": "stream",
     "text": [
      "Processing entries:   3%|▎         | 46/1621 [14:43<7:10:33, 16.40s/it]"
     ]
    },
    {
     "name": "stdout",
     "output_type": "stream",
     "text": [
      "[OK] photo_20241001045552_11.json -> C:/Users/user/pythonproject/AllDataset/VAT-OCR\\triple_receipt\\label\\train_new\\photo_20241001045552_11.json\n"
     ]
    },
    {
     "name": "stderr",
     "output_type": "stream",
     "text": [
      "Processing entries:   3%|▎         | 47/1621 [15:02<7:26:36, 17.02s/it]"
     ]
    },
    {
     "name": "stdout",
     "output_type": "stream",
     "text": [
      "[OK] photo_20241001045552_12.json -> C:/Users/user/pythonproject/AllDataset/VAT-OCR\\triple_receipt\\label\\train_new\\photo_20241001045552_12.json\n"
     ]
    },
    {
     "name": "stderr",
     "output_type": "stream",
     "text": [
      "Processing entries:   3%|▎         | 48/1621 [15:18<7:20:01, 16.78s/it]"
     ]
    },
    {
     "name": "stdout",
     "output_type": "stream",
     "text": [
      "[FAIL] photo_20241001045552_13.json -> C:/Users/user/pythonproject/AllDataset/VAT-OCR\\triple_receipt\\label\\train_fail\\photo_20241001045552_13.json\n"
     ]
    },
    {
     "name": "stderr",
     "output_type": "stream",
     "text": [
      "Processing entries:   3%|▎         | 49/1621 [15:36<7:27:58, 17.10s/it]"
     ]
    },
    {
     "name": "stdout",
     "output_type": "stream",
     "text": [
      "[OK] photo_20241001045552_14.json -> C:/Users/user/pythonproject/AllDataset/VAT-OCR\\triple_receipt\\label\\train_new\\photo_20241001045552_14.json\n"
     ]
    },
    {
     "name": "stderr",
     "output_type": "stream",
     "text": [
      "Processing entries:   3%|▎         | 50/1621 [15:50<7:06:59, 16.31s/it]"
     ]
    },
    {
     "name": "stdout",
     "output_type": "stream",
     "text": [
      "[OK] photo_20241001045552_15.json -> C:/Users/user/pythonproject/AllDataset/VAT-OCR\\triple_receipt\\label\\train_new\\photo_20241001045552_15.json\n"
     ]
    },
    {
     "name": "stderr",
     "output_type": "stream",
     "text": [
      "Processing entries:   3%|▎         | 51/1621 [16:04<6:44:24, 15.45s/it]"
     ]
    },
    {
     "name": "stdout",
     "output_type": "stream",
     "text": [
      "[FAIL] photo_20241001045552_16.json -> C:/Users/user/pythonproject/AllDataset/VAT-OCR\\triple_receipt\\label\\train_fail\\photo_20241001045552_16.json\n"
     ]
    },
    {
     "name": "stderr",
     "output_type": "stream",
     "text": [
      "Processing entries:   3%|▎         | 52/1621 [16:18<6:31:01, 14.95s/it]"
     ]
    },
    {
     "name": "stdout",
     "output_type": "stream",
     "text": [
      "[FAIL] photo_20241001045552_17.json -> C:/Users/user/pythonproject/AllDataset/VAT-OCR\\triple_receipt\\label\\train_fail\\photo_20241001045552_17.json\n"
     ]
    },
    {
     "name": "stderr",
     "output_type": "stream",
     "text": [
      "Processing entries:   3%|▎         | 53/1621 [16:32<6:23:15, 14.67s/it]"
     ]
    },
    {
     "name": "stdout",
     "output_type": "stream",
     "text": [
      "[FAIL] photo_20241001045552_18.json -> C:/Users/user/pythonproject/AllDataset/VAT-OCR\\triple_receipt\\label\\train_fail\\photo_20241001045552_18.json\n"
     ]
    },
    {
     "name": "stderr",
     "output_type": "stream",
     "text": [
      "Processing entries:   3%|▎         | 54/1621 [16:48<6:34:07, 15.09s/it]"
     ]
    },
    {
     "name": "stdout",
     "output_type": "stream",
     "text": [
      "[FAIL] photo_20241001045552_19.json -> C:/Users/user/pythonproject/AllDataset/VAT-OCR\\triple_receipt\\label\\train_fail\\photo_20241001045552_19.json\n"
     ]
    },
    {
     "name": "stderr",
     "output_type": "stream",
     "text": [
      "Processing entries:   3%|▎         | 55/1621 [17:07<7:06:05, 16.33s/it]"
     ]
    },
    {
     "name": "stdout",
     "output_type": "stream",
     "text": [
      "[FAIL] photo_20241001045552_2.json -> C:/Users/user/pythonproject/AllDataset/VAT-OCR\\triple_receipt\\label\\train_fail\\photo_20241001045552_2.json\n"
     ]
    },
    {
     "name": "stderr",
     "output_type": "stream",
     "text": [
      "Processing entries:   3%|▎         | 56/1621 [17:25<7:21:58, 16.94s/it]"
     ]
    },
    {
     "name": "stdout",
     "output_type": "stream",
     "text": [
      "[FAIL] photo_20241001045552_20.json -> C:/Users/user/pythonproject/AllDataset/VAT-OCR\\triple_receipt\\label\\train_fail\\photo_20241001045552_20.json\n"
     ]
    },
    {
     "name": "stderr",
     "output_type": "stream",
     "text": [
      "Processing entries:   4%|▎         | 57/1621 [17:42<7:22:56, 16.99s/it]"
     ]
    },
    {
     "name": "stdout",
     "output_type": "stream",
     "text": [
      "[OK] photo_20241001045552_21.json -> C:/Users/user/pythonproject/AllDataset/VAT-OCR\\triple_receipt\\label\\train_new\\photo_20241001045552_21.json\n"
     ]
    },
    {
     "name": "stderr",
     "output_type": "stream",
     "text": [
      "Processing entries:   4%|▎         | 58/1621 [18:01<7:31:40, 17.34s/it]"
     ]
    },
    {
     "name": "stdout",
     "output_type": "stream",
     "text": [
      "[OK] photo_20241001045552_22.json -> C:/Users/user/pythonproject/AllDataset/VAT-OCR\\triple_receipt\\label\\train_new\\photo_20241001045552_22.json\n"
     ]
    },
    {
     "name": "stderr",
     "output_type": "stream",
     "text": [
      "Processing entries:   4%|▎         | 59/1621 [18:23<8:09:54, 18.82s/it]"
     ]
    },
    {
     "name": "stdout",
     "output_type": "stream",
     "text": [
      "[OK] photo_20241001045552_23.json -> C:/Users/user/pythonproject/AllDataset/VAT-OCR\\triple_receipt\\label\\train_new\\photo_20241001045552_23.json\n"
     ]
    },
    {
     "name": "stderr",
     "output_type": "stream",
     "text": [
      "Processing entries:   4%|▎         | 60/1621 [18:39<7:51:14, 18.11s/it]"
     ]
    },
    {
     "name": "stdout",
     "output_type": "stream",
     "text": [
      "[FAIL] photo_20241001045552_24.json -> C:/Users/user/pythonproject/AllDataset/VAT-OCR\\triple_receipt\\label\\train_fail\\photo_20241001045552_24.json\n"
     ]
    },
    {
     "name": "stderr",
     "output_type": "stream",
     "text": [
      "Processing entries:   4%|▍         | 61/1621 [18:55<7:32:59, 17.42s/it]"
     ]
    },
    {
     "name": "stdout",
     "output_type": "stream",
     "text": [
      "[FAIL] photo_20241001045552_25.json -> C:/Users/user/pythonproject/AllDataset/VAT-OCR\\triple_receipt\\label\\train_fail\\photo_20241001045552_25.json\n"
     ]
    },
    {
     "name": "stderr",
     "output_type": "stream",
     "text": [
      "Processing entries:   4%|▍         | 62/1621 [19:16<7:58:14, 18.41s/it]"
     ]
    },
    {
     "name": "stdout",
     "output_type": "stream",
     "text": [
      "[FAIL] photo_20241001045552_26.json -> C:/Users/user/pythonproject/AllDataset/VAT-OCR\\triple_receipt\\label\\train_fail\\photo_20241001045552_26.json\n"
     ]
    },
    {
     "name": "stderr",
     "output_type": "stream",
     "text": [
      "Processing entries:   4%|▍         | 63/1621 [19:36<8:15:13, 19.07s/it]"
     ]
    },
    {
     "name": "stdout",
     "output_type": "stream",
     "text": [
      "[FAIL] photo_20241001045552_27.json -> C:/Users/user/pythonproject/AllDataset/VAT-OCR\\triple_receipt\\label\\train_fail\\photo_20241001045552_27.json\n"
     ]
    },
    {
     "name": "stderr",
     "output_type": "stream",
     "text": [
      "Processing entries:   4%|▍         | 64/1621 [19:53<7:58:14, 18.43s/it]"
     ]
    },
    {
     "name": "stdout",
     "output_type": "stream",
     "text": [
      "[FAIL] photo_20241001045552_28.json -> C:/Users/user/pythonproject/AllDataset/VAT-OCR\\triple_receipt\\label\\train_fail\\photo_20241001045552_28.json\n"
     ]
    },
    {
     "name": "stderr",
     "output_type": "stream",
     "text": [
      "Processing entries:   4%|▍         | 65/1621 [20:12<7:58:55, 18.47s/it]"
     ]
    },
    {
     "name": "stdout",
     "output_type": "stream",
     "text": [
      "[OK] photo_20241001045552_29.json -> C:/Users/user/pythonproject/AllDataset/VAT-OCR\\triple_receipt\\label\\train_new\\photo_20241001045552_29.json\n"
     ]
    },
    {
     "name": "stderr",
     "output_type": "stream",
     "text": [
      "Processing entries:   4%|▍         | 66/1621 [20:31<8:00:49, 18.55s/it]"
     ]
    },
    {
     "name": "stdout",
     "output_type": "stream",
     "text": [
      "[OK] photo_20241001045552_3.json -> C:/Users/user/pythonproject/AllDataset/VAT-OCR\\triple_receipt\\label\\train_new\\photo_20241001045552_3.json\n"
     ]
    },
    {
     "name": "stderr",
     "output_type": "stream",
     "text": [
      "Processing entries:   4%|▍         | 67/1621 [20:48<7:47:20, 18.04s/it]"
     ]
    },
    {
     "name": "stdout",
     "output_type": "stream",
     "text": [
      "[OK] photo_20241001045552_4.json -> C:/Users/user/pythonproject/AllDataset/VAT-OCR\\triple_receipt\\label\\train_new\\photo_20241001045552_4.json\n"
     ]
    },
    {
     "name": "stderr",
     "output_type": "stream",
     "text": [
      "Processing entries:   4%|▍         | 68/1621 [21:05<7:41:43, 17.84s/it]"
     ]
    },
    {
     "name": "stdout",
     "output_type": "stream",
     "text": [
      "[OK] photo_20241001045552_5.json -> C:/Users/user/pythonproject/AllDataset/VAT-OCR\\triple_receipt\\label\\train_new\\photo_20241001045552_5.json\n"
     ]
    },
    {
     "name": "stderr",
     "output_type": "stream",
     "text": [
      "Processing entries:   4%|▍         | 69/1621 [21:23<7:43:27, 17.92s/it]"
     ]
    },
    {
     "name": "stdout",
     "output_type": "stream",
     "text": [
      "[OK] photo_20241001045552_6.json -> C:/Users/user/pythonproject/AllDataset/VAT-OCR\\triple_receipt\\label\\train_new\\photo_20241001045552_6.json\n"
     ]
    },
    {
     "name": "stderr",
     "output_type": "stream",
     "text": [
      "Processing entries:   4%|▍         | 70/1621 [21:40<7:36:50, 17.67s/it]"
     ]
    },
    {
     "name": "stdout",
     "output_type": "stream",
     "text": [
      "[OK] photo_20241001045552_7.json -> C:/Users/user/pythonproject/AllDataset/VAT-OCR\\triple_receipt\\label\\train_new\\photo_20241001045552_7.json\n"
     ]
    },
    {
     "name": "stderr",
     "output_type": "stream",
     "text": [
      "Processing entries:   4%|▍         | 71/1621 [21:54<7:04:44, 16.44s/it]"
     ]
    },
    {
     "name": "stdout",
     "output_type": "stream",
     "text": [
      "[FAIL] photo_20241001045552_8.json -> C:/Users/user/pythonproject/AllDataset/VAT-OCR\\triple_receipt\\label\\train_fail\\photo_20241001045552_8.json\n"
     ]
    },
    {
     "name": "stderr",
     "output_type": "stream",
     "text": [
      "Processing entries:   4%|▍         | 72/1621 [22:09<6:51:35, 15.94s/it]"
     ]
    },
    {
     "name": "stdout",
     "output_type": "stream",
     "text": [
      "[OK] photo_20241001045552_9.json -> C:/Users/user/pythonproject/AllDataset/VAT-OCR\\triple_receipt\\label\\train_new\\photo_20241001045552_9.json\n"
     ]
    },
    {
     "name": "stderr",
     "output_type": "stream",
     "text": [
      "Processing entries:   5%|▍         | 73/1621 [22:26<7:00:56, 16.32s/it]"
     ]
    },
    {
     "name": "stdout",
     "output_type": "stream",
     "text": [
      "[OK] photo_20241002025716.json -> C:/Users/user/pythonproject/AllDataset/VAT-OCR\\triple_receipt\\label\\train_new\\photo_20241002025716.json\n"
     ]
    },
    {
     "name": "stderr",
     "output_type": "stream",
     "text": [
      "Processing entries:   5%|▍         | 74/1621 [22:45<7:27:14, 17.35s/it]"
     ]
    },
    {
     "name": "stdout",
     "output_type": "stream",
     "text": [
      "[FAIL] photo_20241002025716_1.json -> C:/Users/user/pythonproject/AllDataset/VAT-OCR\\triple_receipt\\label\\train_fail\\photo_20241002025716_1.json\n"
     ]
    },
    {
     "name": "stderr",
     "output_type": "stream",
     "text": [
      "Processing entries:   5%|▍         | 75/1621 [23:01<7:15:29, 16.90s/it]"
     ]
    },
    {
     "name": "stdout",
     "output_type": "stream",
     "text": [
      "[OK] photo_20241002025716_10.json -> C:/Users/user/pythonproject/AllDataset/VAT-OCR\\triple_receipt\\label\\train_new\\photo_20241002025716_10.json\n"
     ]
    },
    {
     "name": "stderr",
     "output_type": "stream",
     "text": [
      "Processing entries:   5%|▍         | 76/1621 [23:16<6:57:09, 16.20s/it]"
     ]
    },
    {
     "name": "stdout",
     "output_type": "stream",
     "text": [
      "[FAIL] photo_20241002025716_11.json -> C:/Users/user/pythonproject/AllDataset/VAT-OCR\\triple_receipt\\label\\train_fail\\photo_20241002025716_11.json\n"
     ]
    },
    {
     "name": "stderr",
     "output_type": "stream",
     "text": [
      "Processing entries:   5%|▍         | 77/1621 [23:32<6:55:20, 16.14s/it]"
     ]
    },
    {
     "name": "stdout",
     "output_type": "stream",
     "text": [
      "[FAIL] photo_20241002025716_2.json -> C:/Users/user/pythonproject/AllDataset/VAT-OCR\\triple_receipt\\label\\train_fail\\photo_20241002025716_2.json\n"
     ]
    },
    {
     "name": "stderr",
     "output_type": "stream",
     "text": [
      "Processing entries:   5%|▍         | 78/1621 [23:53<7:31:15, 17.55s/it]"
     ]
    },
    {
     "name": "stdout",
     "output_type": "stream",
     "text": [
      "[OK] photo_20241002025716_3.json -> C:/Users/user/pythonproject/AllDataset/VAT-OCR\\triple_receipt\\label\\train_new\\photo_20241002025716_3.json\n"
     ]
    },
    {
     "name": "stderr",
     "output_type": "stream",
     "text": [
      "Processing entries:   5%|▍         | 79/1621 [24:14<7:59:55, 18.67s/it]"
     ]
    },
    {
     "name": "stdout",
     "output_type": "stream",
     "text": [
      "[OK] photo_20241002025716_4.json -> C:/Users/user/pythonproject/AllDataset/VAT-OCR\\triple_receipt\\label\\train_new\\photo_20241002025716_4.json\n"
     ]
    },
    {
     "name": "stderr",
     "output_type": "stream",
     "text": [
      "Processing entries:   5%|▍         | 80/1621 [24:36<8:22:50, 19.58s/it]"
     ]
    },
    {
     "name": "stdout",
     "output_type": "stream",
     "text": [
      "[FAIL] photo_20241002025716_5.json -> C:/Users/user/pythonproject/AllDataset/VAT-OCR\\triple_receipt\\label\\train_fail\\photo_20241002025716_5.json\n"
     ]
    },
    {
     "name": "stderr",
     "output_type": "stream",
     "text": [
      "Processing entries:   5%|▍         | 81/1621 [24:55<8:18:05, 19.41s/it]"
     ]
    },
    {
     "name": "stdout",
     "output_type": "stream",
     "text": [
      "[FAIL] photo_20241002025716_6.json -> C:/Users/user/pythonproject/AllDataset/VAT-OCR\\triple_receipt\\label\\train_fail\\photo_20241002025716_6.json\n"
     ]
    },
    {
     "name": "stderr",
     "output_type": "stream",
     "text": [
      "Processing entries:   5%|▌         | 82/1621 [26:02<14:30:07, 33.92s/it]"
     ]
    },
    {
     "name": "stdout",
     "output_type": "stream",
     "text": [
      "[FAIL] photo_20241002025716_7.json -> C:/Users/user/pythonproject/AllDataset/VAT-OCR\\triple_receipt\\label\\train_fail\\photo_20241002025716_7.json\n"
     ]
    },
    {
     "name": "stderr",
     "output_type": "stream",
     "text": [
      "Processing entries:   5%|▌         | 83/1621 [26:20<12:25:38, 29.09s/it]"
     ]
    },
    {
     "name": "stdout",
     "output_type": "stream",
     "text": [
      "[OK] photo_20241002025716_8.json -> C:/Users/user/pythonproject/AllDataset/VAT-OCR\\triple_receipt\\label\\train_new\\photo_20241002025716_8.json\n"
     ]
    },
    {
     "name": "stderr",
     "output_type": "stream",
     "text": [
      "Processing entries:   5%|▌         | 84/1621 [26:34<10:24:35, 24.38s/it]"
     ]
    },
    {
     "name": "stdout",
     "output_type": "stream",
     "text": [
      "[FAIL] photo_20241002025716_9.json -> C:/Users/user/pythonproject/AllDataset/VAT-OCR\\triple_receipt\\label\\train_fail\\photo_20241002025716_9.json\n"
     ]
    },
    {
     "name": "stderr",
     "output_type": "stream",
     "text": [
      "Processing entries:   5%|▌         | 85/1621 [26:59<10:29:51, 24.60s/it]"
     ]
    },
    {
     "name": "stdout",
     "output_type": "stream",
     "text": [
      "[OK] photo_20241004055652.json -> C:/Users/user/pythonproject/AllDataset/VAT-OCR\\triple_receipt\\label\\train_new\\photo_20241004055652.json\n"
     ]
    },
    {
     "name": "stderr",
     "output_type": "stream",
     "text": [
      "Processing entries:   5%|▌         | 86/1621 [27:22<10:16:54, 24.11s/it]"
     ]
    },
    {
     "name": "stdout",
     "output_type": "stream",
     "text": [
      "[OK] photo_20241004084832_10.json -> C:/Users/user/pythonproject/AllDataset/VAT-OCR\\triple_receipt\\label\\train_new\\photo_20241004084832_10.json\n"
     ]
    },
    {
     "name": "stderr",
     "output_type": "stream",
     "text": [
      "Processing entries:   5%|▌         | 87/1621 [27:45<10:08:52, 23.82s/it]"
     ]
    },
    {
     "name": "stdout",
     "output_type": "stream",
     "text": [
      "[OK] photo_20241004084832_11.json -> C:/Users/user/pythonproject/AllDataset/VAT-OCR\\triple_receipt\\label\\train_new\\photo_20241004084832_11.json\n"
     ]
    },
    {
     "name": "stderr",
     "output_type": "stream",
     "text": [
      "Processing entries:   5%|▌         | 88/1621 [28:10<10:14:50, 24.06s/it]"
     ]
    },
    {
     "name": "stdout",
     "output_type": "stream",
     "text": [
      "[OK] photo_20241004084832_12.json -> C:/Users/user/pythonproject/AllDataset/VAT-OCR\\triple_receipt\\label\\train_new\\photo_20241004084832_12.json\n"
     ]
    },
    {
     "name": "stderr",
     "output_type": "stream",
     "text": [
      "Processing entries:   5%|▌         | 89/1621 [28:31<9:51:05, 23.15s/it] "
     ]
    },
    {
     "name": "stdout",
     "output_type": "stream",
     "text": [
      "[FAIL] photo_20241004084832_13.json -> C:/Users/user/pythonproject/AllDataset/VAT-OCR\\triple_receipt\\label\\train_fail\\photo_20241004084832_13.json\n"
     ]
    },
    {
     "name": "stderr",
     "output_type": "stream",
     "text": [
      "Processing entries:   6%|▌         | 90/1621 [28:56<10:10:19, 23.92s/it]"
     ]
    },
    {
     "name": "stdout",
     "output_type": "stream",
     "text": [
      "[OK] photo_20241004084832_14.json -> C:/Users/user/pythonproject/AllDataset/VAT-OCR\\triple_receipt\\label\\train_new\\photo_20241004084832_14.json\n"
     ]
    },
    {
     "name": "stderr",
     "output_type": "stream",
     "text": [
      "Processing entries:   6%|▌         | 91/1621 [29:19<10:03:57, 23.68s/it]"
     ]
    },
    {
     "name": "stdout",
     "output_type": "stream",
     "text": [
      "[FAIL] photo_20241004084832_15.json -> C:/Users/user/pythonproject/AllDataset/VAT-OCR\\triple_receipt\\label\\train_fail\\photo_20241004084832_15.json\n"
     ]
    },
    {
     "name": "stderr",
     "output_type": "stream",
     "text": [
      "Processing entries:   6%|▌         | 92/1621 [29:47<10:30:17, 24.73s/it]"
     ]
    },
    {
     "name": "stdout",
     "output_type": "stream",
     "text": [
      "[OK] photo_20241004084832_16.json -> C:/Users/user/pythonproject/AllDataset/VAT-OCR\\triple_receipt\\label\\train_new\\photo_20241004084832_16.json\n"
     ]
    },
    {
     "name": "stderr",
     "output_type": "stream",
     "text": [
      "Processing entries:   6%|▌         | 93/1621 [30:10<10:21:27, 24.40s/it]"
     ]
    },
    {
     "name": "stdout",
     "output_type": "stream",
     "text": [
      "[OK] photo_20241004084832_17.json -> C:/Users/user/pythonproject/AllDataset/VAT-OCR\\triple_receipt\\label\\train_new\\photo_20241004084832_17.json\n"
     ]
    },
    {
     "name": "stderr",
     "output_type": "stream",
     "text": [
      "Processing entries:   6%|▌         | 94/1621 [30:39<10:53:51, 25.69s/it]"
     ]
    },
    {
     "name": "stdout",
     "output_type": "stream",
     "text": [
      "[OK] photo_20241004084832_18.json -> C:/Users/user/pythonproject/AllDataset/VAT-OCR\\triple_receipt\\label\\train_new\\photo_20241004084832_18.json\n"
     ]
    },
    {
     "name": "stderr",
     "output_type": "stream",
     "text": [
      "Processing entries:   6%|▌         | 95/1621 [31:06<11:05:12, 26.15s/it]"
     ]
    },
    {
     "name": "stdout",
     "output_type": "stream",
     "text": [
      "[OK] photo_20241004084832_19.json -> C:/Users/user/pythonproject/AllDataset/VAT-OCR\\triple_receipt\\label\\train_new\\photo_20241004084832_19.json\n"
     ]
    },
    {
     "name": "stderr",
     "output_type": "stream",
     "text": [
      "Processing entries:   6%|▌         | 96/1621 [31:32<11:04:01, 26.13s/it]"
     ]
    },
    {
     "name": "stdout",
     "output_type": "stream",
     "text": [
      "[OK] photo_20241004084832_2.json -> C:/Users/user/pythonproject/AllDataset/VAT-OCR\\triple_receipt\\label\\train_new\\photo_20241004084832_2.json\n"
     ]
    },
    {
     "name": "stderr",
     "output_type": "stream",
     "text": [
      "Processing entries:   6%|▌         | 97/1621 [31:57<10:52:47, 25.70s/it]"
     ]
    },
    {
     "name": "stdout",
     "output_type": "stream",
     "text": [
      "[OK] photo_20241004084832_20.json -> C:/Users/user/pythonproject/AllDataset/VAT-OCR\\triple_receipt\\label\\train_new\\photo_20241004084832_20.json\n"
     ]
    },
    {
     "name": "stderr",
     "output_type": "stream",
     "text": [
      "Processing entries:   6%|▌         | 98/1621 [32:11<9:23:40, 22.21s/it] "
     ]
    },
    {
     "name": "stdout",
     "output_type": "stream",
     "text": [
      "[OK] photo_20241004084832_21.json -> C:/Users/user/pythonproject/AllDataset/VAT-OCR\\triple_receipt\\label\\train_new\\photo_20241004084832_21.json\n"
     ]
    },
    {
     "name": "stderr",
     "output_type": "stream",
     "text": [
      "Processing entries:   6%|▌         | 99/1621 [32:33<9:20:52, 22.11s/it]"
     ]
    },
    {
     "name": "stdout",
     "output_type": "stream",
     "text": [
      "[FAIL] photo_20241004084832_22.json -> C:/Users/user/pythonproject/AllDataset/VAT-OCR\\triple_receipt\\label\\train_fail\\photo_20241004084832_22.json\n"
     ]
    },
    {
     "name": "stderr",
     "output_type": "stream",
     "text": [
      "Processing entries:   6%|▌         | 100/1621 [32:56<9:30:24, 22.50s/it]"
     ]
    },
    {
     "name": "stdout",
     "output_type": "stream",
     "text": [
      "[OK] photo_20241004084832_23.json -> C:/Users/user/pythonproject/AllDataset/VAT-OCR\\triple_receipt\\label\\train_new\\photo_20241004084832_23.json\n"
     ]
    },
    {
     "name": "stderr",
     "output_type": "stream",
     "text": [
      "Processing entries:   6%|▌         | 101/1621 [33:21<9:44:22, 23.07s/it]"
     ]
    },
    {
     "name": "stdout",
     "output_type": "stream",
     "text": [
      "[OK] photo_20241004084832_24.json -> C:/Users/user/pythonproject/AllDataset/VAT-OCR\\triple_receipt\\label\\train_new\\photo_20241004084832_24.json\n"
     ]
    },
    {
     "name": "stderr",
     "output_type": "stream",
     "text": [
      "Processing entries:   6%|▋         | 102/1621 [33:41<9:23:54, 22.27s/it]"
     ]
    },
    {
     "name": "stdout",
     "output_type": "stream",
     "text": [
      "[OK] photo_20241004084832_25.json -> C:/Users/user/pythonproject/AllDataset/VAT-OCR\\triple_receipt\\label\\train_new\\photo_20241004084832_25.json\n"
     ]
    },
    {
     "name": "stderr",
     "output_type": "stream",
     "text": [
      "Processing entries:   6%|▋         | 103/1621 [34:07<9:52:43, 23.43s/it]"
     ]
    },
    {
     "name": "stdout",
     "output_type": "stream",
     "text": [
      "[OK] photo_20241004084832_26.json -> C:/Users/user/pythonproject/AllDataset/VAT-OCR\\triple_receipt\\label\\train_new\\photo_20241004084832_26.json\n"
     ]
    },
    {
     "name": "stderr",
     "output_type": "stream",
     "text": [
      "Processing entries:   6%|▋         | 104/1621 [34:32<10:03:25, 23.87s/it]"
     ]
    },
    {
     "name": "stdout",
     "output_type": "stream",
     "text": [
      "[OK] photo_20241004084832_27.json -> C:/Users/user/pythonproject/AllDataset/VAT-OCR\\triple_receipt\\label\\train_new\\photo_20241004084832_27.json\n"
     ]
    },
    {
     "name": "stderr",
     "output_type": "stream",
     "text": [
      "Processing entries:   6%|▋         | 105/1621 [34:54<9:49:55, 23.35s/it] "
     ]
    },
    {
     "name": "stdout",
     "output_type": "stream",
     "text": [
      "[FAIL] photo_20241004084832_28.json -> C:/Users/user/pythonproject/AllDataset/VAT-OCR\\triple_receipt\\label\\train_fail\\photo_20241004084832_28.json\n"
     ]
    },
    {
     "name": "stderr",
     "output_type": "stream",
     "text": [
      "Processing entries:   7%|▋         | 106/1621 [35:08<8:37:06, 20.48s/it]"
     ]
    },
    {
     "name": "stdout",
     "output_type": "stream",
     "text": [
      "[OK] photo_20241004084832_29.json -> C:/Users/user/pythonproject/AllDataset/VAT-OCR\\triple_receipt\\label\\train_new\\photo_20241004084832_29.json\n"
     ]
    },
    {
     "name": "stderr",
     "output_type": "stream",
     "text": [
      "Processing entries:   7%|▋         | 107/1621 [35:34<9:17:28, 22.09s/it]"
     ]
    },
    {
     "name": "stdout",
     "output_type": "stream",
     "text": [
      "[OK] photo_20241004084832_3.json -> C:/Users/user/pythonproject/AllDataset/VAT-OCR\\triple_receipt\\label\\train_new\\photo_20241004084832_3.json\n"
     ]
    },
    {
     "name": "stderr",
     "output_type": "stream",
     "text": [
      "Processing entries:   7%|▋         | 108/1621 [36:01<9:52:25, 23.49s/it]"
     ]
    },
    {
     "name": "stdout",
     "output_type": "stream",
     "text": [
      "[OK] photo_20241004084832_30.json -> C:/Users/user/pythonproject/AllDataset/VAT-OCR\\triple_receipt\\label\\train_new\\photo_20241004084832_30.json\n"
     ]
    },
    {
     "name": "stderr",
     "output_type": "stream",
     "text": [
      "Processing entries:   7%|▋         | 109/1621 [36:26<10:08:52, 24.16s/it]"
     ]
    },
    {
     "name": "stdout",
     "output_type": "stream",
     "text": [
      "[FAIL] photo_20241004084832_31.json -> C:/Users/user/pythonproject/AllDataset/VAT-OCR\\triple_receipt\\label\\train_fail\\photo_20241004084832_31.json\n"
     ]
    },
    {
     "name": "stderr",
     "output_type": "stream",
     "text": [
      "Processing entries:   7%|▋         | 110/1621 [36:44<9:21:40, 22.30s/it] "
     ]
    },
    {
     "name": "stdout",
     "output_type": "stream",
     "text": [
      "[FAIL] photo_20241004084832_32.json -> C:/Users/user/pythonproject/AllDataset/VAT-OCR\\triple_receipt\\label\\train_fail\\photo_20241004084832_32.json\n"
     ]
    },
    {
     "name": "stderr",
     "output_type": "stream",
     "text": [
      "Processing entries:   7%|▋         | 111/1621 [37:10<9:47:52, 23.36s/it]"
     ]
    },
    {
     "name": "stdout",
     "output_type": "stream",
     "text": [
      "[OK] photo_20241004084832_4.json -> C:/Users/user/pythonproject/AllDataset/VAT-OCR\\triple_receipt\\label\\train_new\\photo_20241004084832_4.json\n"
     ]
    },
    {
     "name": "stderr",
     "output_type": "stream",
     "text": [
      "Processing entries:   7%|▋         | 112/1621 [37:38<10:20:35, 24.68s/it]"
     ]
    },
    {
     "name": "stdout",
     "output_type": "stream",
     "text": [
      "[OK] photo_20241004084832_5.json -> C:/Users/user/pythonproject/AllDataset/VAT-OCR\\triple_receipt\\label\\train_new\\photo_20241004084832_5.json\n"
     ]
    },
    {
     "name": "stderr",
     "output_type": "stream",
     "text": [
      "Processing entries:   7%|▋         | 113/1621 [38:05<10:38:20, 25.40s/it]"
     ]
    },
    {
     "name": "stdout",
     "output_type": "stream",
     "text": [
      "[FAIL] photo_20241004084832_6.json -> C:/Users/user/pythonproject/AllDataset/VAT-OCR\\triple_receipt\\label\\train_fail\\photo_20241004084832_6.json\n"
     ]
    },
    {
     "name": "stderr",
     "output_type": "stream",
     "text": [
      "Processing entries:   7%|▋         | 114/1621 [38:30<10:35:00, 25.28s/it]"
     ]
    },
    {
     "name": "stdout",
     "output_type": "stream",
     "text": [
      "[OK] photo_20241004084832_7.json -> C:/Users/user/pythonproject/AllDataset/VAT-OCR\\triple_receipt\\label\\train_new\\photo_20241004084832_7.json\n"
     ]
    },
    {
     "name": "stderr",
     "output_type": "stream",
     "text": [
      "Processing entries:   7%|▋         | 115/1621 [38:50<9:51:18, 23.56s/it] "
     ]
    },
    {
     "name": "stdout",
     "output_type": "stream",
     "text": [
      "[OK] photo_20241004084832_8.json -> C:/Users/user/pythonproject/AllDataset/VAT-OCR\\triple_receipt\\label\\train_new\\photo_20241004084832_8.json\n"
     ]
    },
    {
     "name": "stderr",
     "output_type": "stream",
     "text": [
      "Processing entries:   7%|▋         | 116/1621 [39:14<9:58:24, 23.86s/it]"
     ]
    },
    {
     "name": "stdout",
     "output_type": "stream",
     "text": [
      "[OK] photo_20241004084832_9.json -> C:/Users/user/pythonproject/AllDataset/VAT-OCR\\triple_receipt\\label\\train_new\\photo_20241004084832_9.json\n"
     ]
    },
    {
     "name": "stderr",
     "output_type": "stream",
     "text": [
      "Processing entries:   7%|▋         | 117/1621 [39:32<9:15:01, 22.14s/it]"
     ]
    },
    {
     "name": "stdout",
     "output_type": "stream",
     "text": [
      "[FAIL] photo_20241004100510.json -> C:/Users/user/pythonproject/AllDataset/VAT-OCR\\triple_receipt\\label\\train_fail\\photo_20241004100510.json\n"
     ]
    },
    {
     "name": "stderr",
     "output_type": "stream",
     "text": [
      "Processing entries:   7%|▋         | 118/1621 [39:54<9:13:59, 22.12s/it]"
     ]
    },
    {
     "name": "stdout",
     "output_type": "stream",
     "text": [
      "[FAIL] photo_20241004100510_1.json -> C:/Users/user/pythonproject/AllDataset/VAT-OCR\\triple_receipt\\label\\train_fail\\photo_20241004100510_1.json\n"
     ]
    },
    {
     "name": "stderr",
     "output_type": "stream",
     "text": [
      "Processing entries:   7%|▋         | 119/1621 [40:10<8:21:57, 20.05s/it]"
     ]
    },
    {
     "name": "stdout",
     "output_type": "stream",
     "text": [
      "[OK] photo_20241004100510_10.json -> C:/Users/user/pythonproject/AllDataset/VAT-OCR\\triple_receipt\\label\\train_new\\photo_20241004100510_10.json\n"
     ]
    },
    {
     "name": "stderr",
     "output_type": "stream",
     "text": [
      "Processing entries:   7%|▋         | 120/1621 [40:35<9:03:24, 21.72s/it]"
     ]
    },
    {
     "name": "stdout",
     "output_type": "stream",
     "text": [
      "[FAIL] photo_20241004100510_11.json -> C:/Users/user/pythonproject/AllDataset/VAT-OCR\\triple_receipt\\label\\train_fail\\photo_20241004100510_11.json\n"
     ]
    },
    {
     "name": "stderr",
     "output_type": "stream",
     "text": [
      "Processing entries:   7%|▋         | 121/1621 [40:58<9:10:41, 22.03s/it]"
     ]
    },
    {
     "name": "stdout",
     "output_type": "stream",
     "text": [
      "[FAIL] photo_20241004100510_12.json -> C:/Users/user/pythonproject/AllDataset/VAT-OCR\\triple_receipt\\label\\train_fail\\photo_20241004100510_12.json\n"
     ]
    },
    {
     "name": "stderr",
     "output_type": "stream",
     "text": [
      "Processing entries:   8%|▊         | 122/1621 [41:23<9:29:45, 22.81s/it]"
     ]
    },
    {
     "name": "stdout",
     "output_type": "stream",
     "text": [
      "[OK] photo_20241004100510_13.json -> C:/Users/user/pythonproject/AllDataset/VAT-OCR\\triple_receipt\\label\\train_new\\photo_20241004100510_13.json\n"
     ]
    },
    {
     "name": "stderr",
     "output_type": "stream",
     "text": [
      "Processing entries:   8%|▊         | 123/1621 [41:46<9:37:38, 23.14s/it]"
     ]
    },
    {
     "name": "stdout",
     "output_type": "stream",
     "text": [
      "[FAIL] photo_20241004100510_14.json -> C:/Users/user/pythonproject/AllDataset/VAT-OCR\\triple_receipt\\label\\train_fail\\photo_20241004100510_14.json\n"
     ]
    },
    {
     "name": "stderr",
     "output_type": "stream",
     "text": [
      "Processing entries:   8%|▊         | 124/1621 [42:07<9:18:14, 22.37s/it]"
     ]
    },
    {
     "name": "stdout",
     "output_type": "stream",
     "text": [
      "[OK] photo_20241004100510_15.json -> C:/Users/user/pythonproject/AllDataset/VAT-OCR\\triple_receipt\\label\\train_new\\photo_20241004100510_15.json\n"
     ]
    },
    {
     "name": "stderr",
     "output_type": "stream",
     "text": [
      "Processing entries:   8%|▊         | 125/1621 [42:34<9:50:04, 23.67s/it]"
     ]
    },
    {
     "name": "stdout",
     "output_type": "stream",
     "text": [
      "[OK] photo_20241004100510_16.json -> C:/Users/user/pythonproject/AllDataset/VAT-OCR\\triple_receipt\\label\\train_new\\photo_20241004100510_16.json\n"
     ]
    },
    {
     "name": "stderr",
     "output_type": "stream",
     "text": [
      "Processing entries:   8%|▊         | 126/1621 [43:04<10:40:46, 25.72s/it]"
     ]
    },
    {
     "name": "stdout",
     "output_type": "stream",
     "text": [
      "[OK] photo_20241004100510_17.json -> C:/Users/user/pythonproject/AllDataset/VAT-OCR\\triple_receipt\\label\\train_new\\photo_20241004100510_17.json\n"
     ]
    },
    {
     "name": "stderr",
     "output_type": "stream",
     "text": [
      "Processing entries:   8%|▊         | 127/1621 [43:31<10:44:52, 25.90s/it]"
     ]
    },
    {
     "name": "stdout",
     "output_type": "stream",
     "text": [
      "[OK] photo_20241004100510_18.json -> C:/Users/user/pythonproject/AllDataset/VAT-OCR\\triple_receipt\\label\\train_new\\photo_20241004100510_18.json\n"
     ]
    },
    {
     "name": "stderr",
     "output_type": "stream",
     "text": [
      "Processing entries:   8%|▊         | 128/1621 [43:55<10:36:22, 25.57s/it]"
     ]
    },
    {
     "name": "stdout",
     "output_type": "stream",
     "text": [
      "[OK] photo_20241004100510_19.json -> C:/Users/user/pythonproject/AllDataset/VAT-OCR\\triple_receipt\\label\\train_new\\photo_20241004100510_19.json\n"
     ]
    },
    {
     "name": "stderr",
     "output_type": "stream",
     "text": [
      "Processing entries:   8%|▊         | 129/1621 [44:15<9:51:05, 23.77s/it] "
     ]
    },
    {
     "name": "stdout",
     "output_type": "stream",
     "text": [
      "[OK] photo_20241004100510_2.json -> C:/Users/user/pythonproject/AllDataset/VAT-OCR\\triple_receipt\\label\\train_new\\photo_20241004100510_2.json\n"
     ]
    },
    {
     "name": "stderr",
     "output_type": "stream",
     "text": [
      "Processing entries:   8%|▊         | 130/1621 [44:39<9:54:59, 23.94s/it]"
     ]
    },
    {
     "name": "stdout",
     "output_type": "stream",
     "text": [
      "[OK] photo_20241004100510_20.json -> C:/Users/user/pythonproject/AllDataset/VAT-OCR\\triple_receipt\\label\\train_new\\photo_20241004100510_20.json\n"
     ]
    },
    {
     "name": "stderr",
     "output_type": "stream",
     "text": [
      "Processing entries:   8%|▊         | 131/1621 [44:52<8:32:44, 20.65s/it]"
     ]
    },
    {
     "name": "stdout",
     "output_type": "stream",
     "text": [
      "[FAIL] photo_20241004100510_21.json -> C:/Users/user/pythonproject/AllDataset/VAT-OCR\\triple_receipt\\label\\train_fail\\photo_20241004100510_21.json\n"
     ]
    },
    {
     "name": "stderr",
     "output_type": "stream",
     "text": [
      "Processing entries:   8%|▊         | 132/1621 [45:15<8:48:28, 21.30s/it]"
     ]
    },
    {
     "name": "stdout",
     "output_type": "stream",
     "text": [
      "[OK] photo_20241004100510_22.json -> C:/Users/user/pythonproject/AllDataset/VAT-OCR\\triple_receipt\\label\\train_new\\photo_20241004100510_22.json\n"
     ]
    },
    {
     "name": "stderr",
     "output_type": "stream",
     "text": [
      "Processing entries:   8%|▊         | 133/1621 [45:41<9:20:46, 22.61s/it]"
     ]
    },
    {
     "name": "stdout",
     "output_type": "stream",
     "text": [
      "[OK] photo_20241004100510_23.json -> C:/Users/user/pythonproject/AllDataset/VAT-OCR\\triple_receipt\\label\\train_new\\photo_20241004100510_23.json\n"
     ]
    },
    {
     "name": "stderr",
     "output_type": "stream",
     "text": [
      "Processing entries:   8%|▊         | 134/1621 [46:06<9:40:00, 23.40s/it]"
     ]
    },
    {
     "name": "stdout",
     "output_type": "stream",
     "text": [
      "[OK] photo_20241004100510_24.json -> C:/Users/user/pythonproject/AllDataset/VAT-OCR\\triple_receipt\\label\\train_new\\photo_20241004100510_24.json\n"
     ]
    },
    {
     "name": "stderr",
     "output_type": "stream",
     "text": [
      "Processing entries:   8%|▊         | 135/1621 [46:33<10:05:21, 24.44s/it]"
     ]
    },
    {
     "name": "stdout",
     "output_type": "stream",
     "text": [
      "[OK] photo_20241004100510_25.json -> C:/Users/user/pythonproject/AllDataset/VAT-OCR\\triple_receipt\\label\\train_new\\photo_20241004100510_25.json\n"
     ]
    },
    {
     "name": "stderr",
     "output_type": "stream",
     "text": [
      "Processing entries:   8%|▊         | 136/1621 [46:57<10:05:04, 24.45s/it]"
     ]
    },
    {
     "name": "stdout",
     "output_type": "stream",
     "text": [
      "[OK] photo_20241004100510_3.json -> C:/Users/user/pythonproject/AllDataset/VAT-OCR\\triple_receipt\\label\\train_new\\photo_20241004100510_3.json\n"
     ]
    },
    {
     "name": "stderr",
     "output_type": "stream",
     "text": [
      "Processing entries:   8%|▊         | 137/1621 [47:24<10:23:53, 25.22s/it]"
     ]
    },
    {
     "name": "stdout",
     "output_type": "stream",
     "text": [
      "[OK] photo_20241004100510_4.json -> C:/Users/user/pythonproject/AllDataset/VAT-OCR\\triple_receipt\\label\\train_new\\photo_20241004100510_4.json\n"
     ]
    },
    {
     "name": "stderr",
     "output_type": "stream",
     "text": [
      "Processing entries:   9%|▊         | 138/1621 [47:44<9:45:47, 23.70s/it] "
     ]
    },
    {
     "name": "stdout",
     "output_type": "stream",
     "text": [
      "[FAIL] photo_20241004100510_5.json -> C:/Users/user/pythonproject/AllDataset/VAT-OCR\\triple_receipt\\label\\train_fail\\photo_20241004100510_5.json\n"
     ]
    },
    {
     "name": "stderr",
     "output_type": "stream",
     "text": [
      "Processing entries:   9%|▊         | 139/1621 [48:14<10:29:02, 25.47s/it]"
     ]
    },
    {
     "name": "stdout",
     "output_type": "stream",
     "text": [
      "[OK] photo_20241004100510_6.json -> C:/Users/user/pythonproject/AllDataset/VAT-OCR\\triple_receipt\\label\\train_new\\photo_20241004100510_6.json\n"
     ]
    },
    {
     "name": "stderr",
     "output_type": "stream",
     "text": [
      "Processing entries:   9%|▊         | 140/1621 [48:39<10:25:02, 25.32s/it]"
     ]
    },
    {
     "name": "stdout",
     "output_type": "stream",
     "text": [
      "[OK] photo_20241004100510_7.json -> C:/Users/user/pythonproject/AllDataset/VAT-OCR\\triple_receipt\\label\\train_new\\photo_20241004100510_7.json\n"
     ]
    },
    {
     "name": "stderr",
     "output_type": "stream",
     "text": [
      "Processing entries:   9%|▊         | 141/1621 [49:06<10:40:21, 25.96s/it]"
     ]
    },
    {
     "name": "stdout",
     "output_type": "stream",
     "text": [
      "[OK] photo_20241004100510_8.json -> C:/Users/user/pythonproject/AllDataset/VAT-OCR\\triple_receipt\\label\\train_new\\photo_20241004100510_8.json\n"
     ]
    },
    {
     "name": "stderr",
     "output_type": "stream",
     "text": [
      "Processing entries:   9%|▉         | 142/1621 [49:28<10:10:02, 24.75s/it]"
     ]
    },
    {
     "name": "stdout",
     "output_type": "stream",
     "text": [
      "[OK] photo_20241004100510_9.json -> C:/Users/user/pythonproject/AllDataset/VAT-OCR\\triple_receipt\\label\\train_new\\photo_20241004100510_9.json\n"
     ]
    },
    {
     "name": "stderr",
     "output_type": "stream",
     "text": [
      "Processing entries:   9%|▉         | 143/1621 [49:45<9:12:24, 22.43s/it] "
     ]
    },
    {
     "name": "stdout",
     "output_type": "stream",
     "text": [
      "[OK] photo_20241004122208.json -> C:/Users/user/pythonproject/AllDataset/VAT-OCR\\triple_receipt\\label\\train_new\\photo_20241004122208.json\n"
     ]
    },
    {
     "name": "stderr",
     "output_type": "stream",
     "text": [
      "Processing entries:   9%|▉         | 144/1621 [50:03<8:38:38, 21.07s/it]"
     ]
    },
    {
     "name": "stdout",
     "output_type": "stream",
     "text": [
      "[OK] photo_20241004131138.json -> C:/Users/user/pythonproject/AllDataset/VAT-OCR\\triple_receipt\\label\\train_new\\photo_20241004131138.json\n"
     ]
    },
    {
     "name": "stderr",
     "output_type": "stream",
     "text": [
      "Processing entries:   9%|▉         | 145/1621 [50:19<7:58:42, 19.46s/it]"
     ]
    },
    {
     "name": "stdout",
     "output_type": "stream",
     "text": [
      "[FAIL] photo_20241004131138_1.json -> C:/Users/user/pythonproject/AllDataset/VAT-OCR\\triple_receipt\\label\\train_fail\\photo_20241004131138_1.json\n"
     ]
    },
    {
     "name": "stderr",
     "output_type": "stream",
     "text": [
      "Processing entries:   9%|▉         | 146/1621 [50:39<8:02:14, 19.62s/it]"
     ]
    },
    {
     "name": "stdout",
     "output_type": "stream",
     "text": [
      "[OK] photo_20241004131138_10.json -> C:/Users/user/pythonproject/AllDataset/VAT-OCR\\triple_receipt\\label\\train_new\\photo_20241004131138_10.json\n"
     ]
    },
    {
     "name": "stderr",
     "output_type": "stream",
     "text": [
      "Processing entries:   9%|▉         | 147/1621 [51:01<8:17:39, 20.26s/it]"
     ]
    },
    {
     "name": "stdout",
     "output_type": "stream",
     "text": [
      "[OK] photo_20241004131138_11.json -> C:/Users/user/pythonproject/AllDataset/VAT-OCR\\triple_receipt\\label\\train_new\\photo_20241004131138_11.json\n"
     ]
    },
    {
     "name": "stderr",
     "output_type": "stream",
     "text": [
      "Processing entries:   9%|▉         | 148/1621 [51:21<8:13:49, 20.12s/it]"
     ]
    },
    {
     "name": "stdout",
     "output_type": "stream",
     "text": [
      "[OK] photo_20241004131138_12.json -> C:/Users/user/pythonproject/AllDataset/VAT-OCR\\triple_receipt\\label\\train_new\\photo_20241004131138_12.json\n"
     ]
    },
    {
     "name": "stderr",
     "output_type": "stream",
     "text": [
      "Processing entries:   9%|▉         | 149/1621 [51:38<7:51:04, 19.20s/it]"
     ]
    },
    {
     "name": "stdout",
     "output_type": "stream",
     "text": [
      "[FAIL] photo_20241004131138_13.json -> C:/Users/user/pythonproject/AllDataset/VAT-OCR\\triple_receipt\\label\\train_fail\\photo_20241004131138_13.json\n"
     ]
    },
    {
     "name": "stderr",
     "output_type": "stream",
     "text": [
      "Processing entries:   9%|▉         | 150/1621 [51:59<8:07:45, 19.90s/it]"
     ]
    },
    {
     "name": "stdout",
     "output_type": "stream",
     "text": [
      "[FAIL] photo_20241004131138_14.json -> C:/Users/user/pythonproject/AllDataset/VAT-OCR\\triple_receipt\\label\\train_fail\\photo_20241004131138_14.json\n"
     ]
    },
    {
     "name": "stderr",
     "output_type": "stream",
     "text": [
      "Processing entries:   9%|▉         | 151/1621 [52:19<8:09:30, 19.98s/it]"
     ]
    },
    {
     "name": "stdout",
     "output_type": "stream",
     "text": [
      "[OK] photo_20241004131138_15.json -> C:/Users/user/pythonproject/AllDataset/VAT-OCR\\triple_receipt\\label\\train_new\\photo_20241004131138_15.json\n"
     ]
    },
    {
     "name": "stderr",
     "output_type": "stream",
     "text": [
      "Processing entries:   9%|▉         | 152/1621 [52:37<7:52:40, 19.31s/it]"
     ]
    },
    {
     "name": "stdout",
     "output_type": "stream",
     "text": [
      "[OK] photo_20241004131138_16.json -> C:/Users/user/pythonproject/AllDataset/VAT-OCR\\triple_receipt\\label\\train_new\\photo_20241004131138_16.json\n"
     ]
    },
    {
     "name": "stderr",
     "output_type": "stream",
     "text": [
      "Processing entries:   9%|▉         | 153/1621 [52:55<7:40:01, 18.80s/it]"
     ]
    },
    {
     "name": "stdout",
     "output_type": "stream",
     "text": [
      "[FAIL] photo_20241004131138_17.json -> C:/Users/user/pythonproject/AllDataset/VAT-OCR\\triple_receipt\\label\\train_fail\\photo_20241004131138_17.json\n"
     ]
    },
    {
     "name": "stderr",
     "output_type": "stream",
     "text": [
      "Processing entries:  10%|▉         | 154/1621 [53:11<7:24:39, 18.19s/it]"
     ]
    },
    {
     "name": "stdout",
     "output_type": "stream",
     "text": [
      "[FAIL] photo_20241004131138_18.json -> C:/Users/user/pythonproject/AllDataset/VAT-OCR\\triple_receipt\\label\\train_fail\\photo_20241004131138_18.json\n"
     ]
    },
    {
     "name": "stderr",
     "output_type": "stream",
     "text": [
      "Processing entries:  10%|▉         | 155/1621 [53:33<7:53:06, 19.36s/it]"
     ]
    },
    {
     "name": "stdout",
     "output_type": "stream",
     "text": [
      "[OK] photo_20241004131138_19.json -> C:/Users/user/pythonproject/AllDataset/VAT-OCR\\triple_receipt\\label\\train_new\\photo_20241004131138_19.json\n"
     ]
    },
    {
     "name": "stderr",
     "output_type": "stream",
     "text": [
      "Processing entries:  10%|▉         | 156/1621 [53:56<8:12:17, 20.16s/it]"
     ]
    },
    {
     "name": "stdout",
     "output_type": "stream",
     "text": [
      "[OK] photo_20241004131138_2.json -> C:/Users/user/pythonproject/AllDataset/VAT-OCR\\triple_receipt\\label\\train_new\\photo_20241004131138_2.json\n"
     ]
    },
    {
     "name": "stderr",
     "output_type": "stream",
     "text": [
      "Processing entries:  10%|▉         | 157/1621 [54:15<8:05:52, 19.91s/it]"
     ]
    },
    {
     "name": "stdout",
     "output_type": "stream",
     "text": [
      "[OK] photo_20241004131138_20.json -> C:/Users/user/pythonproject/AllDataset/VAT-OCR\\triple_receipt\\label\\train_new\\photo_20241004131138_20.json\n"
     ]
    },
    {
     "name": "stderr",
     "output_type": "stream",
     "text": [
      "Processing entries:  10%|▉         | 158/1621 [54:32<7:42:42, 18.98s/it]"
     ]
    },
    {
     "name": "stdout",
     "output_type": "stream",
     "text": [
      "[FAIL] photo_20241004131138_21.json -> C:/Users/user/pythonproject/AllDataset/VAT-OCR\\triple_receipt\\label\\train_fail\\photo_20241004131138_21.json\n"
     ]
    },
    {
     "name": "stderr",
     "output_type": "stream",
     "text": [
      "Processing entries:  10%|▉         | 159/1621 [54:52<7:50:22, 19.30s/it]"
     ]
    },
    {
     "name": "stdout",
     "output_type": "stream",
     "text": [
      "[OK] photo_20241004131138_22.json -> C:/Users/user/pythonproject/AllDataset/VAT-OCR\\triple_receipt\\label\\train_new\\photo_20241004131138_22.json\n"
     ]
    },
    {
     "name": "stderr",
     "output_type": "stream",
     "text": [
      "Processing entries:  10%|▉         | 160/1621 [55:08<7:30:07, 18.49s/it]"
     ]
    },
    {
     "name": "stdout",
     "output_type": "stream",
     "text": [
      "[FAIL] photo_20241004131138_3.json -> C:/Users/user/pythonproject/AllDataset/VAT-OCR\\triple_receipt\\label\\train_fail\\photo_20241004131138_3.json\n"
     ]
    },
    {
     "name": "stderr",
     "output_type": "stream",
     "text": [
      "Processing entries:  10%|▉         | 161/1621 [55:31<7:58:49, 19.68s/it]"
     ]
    },
    {
     "name": "stdout",
     "output_type": "stream",
     "text": [
      "[OK] photo_20241004131138_4.json -> C:/Users/user/pythonproject/AllDataset/VAT-OCR\\triple_receipt\\label\\train_new\\photo_20241004131138_4.json\n"
     ]
    },
    {
     "name": "stderr",
     "output_type": "stream",
     "text": [
      "Processing entries:  10%|▉         | 162/1621 [55:47<7:36:34, 18.78s/it]"
     ]
    },
    {
     "name": "stdout",
     "output_type": "stream",
     "text": [
      "[OK] photo_20241004131138_5.json -> C:/Users/user/pythonproject/AllDataset/VAT-OCR\\triple_receipt\\label\\train_new\\photo_20241004131138_5.json\n"
     ]
    },
    {
     "name": "stderr",
     "output_type": "stream",
     "text": [
      "Processing entries:  10%|█         | 163/1621 [56:07<7:44:10, 19.10s/it]"
     ]
    },
    {
     "name": "stdout",
     "output_type": "stream",
     "text": [
      "[OK] photo_20241004131138_6.json -> C:/Users/user/pythonproject/AllDataset/VAT-OCR\\triple_receipt\\label\\train_new\\photo_20241004131138_6.json\n"
     ]
    },
    {
     "name": "stderr",
     "output_type": "stream",
     "text": [
      "Processing entries:  10%|█         | 164/1621 [56:27<7:46:26, 19.21s/it]"
     ]
    },
    {
     "name": "stdout",
     "output_type": "stream",
     "text": [
      "[OK] photo_20241004131138_7.json -> C:/Users/user/pythonproject/AllDataset/VAT-OCR\\triple_receipt\\label\\train_new\\photo_20241004131138_7.json\n"
     ]
    },
    {
     "name": "stderr",
     "output_type": "stream",
     "text": [
      "Processing entries:  10%|█         | 165/1621 [56:43<7:25:14, 18.35s/it]"
     ]
    },
    {
     "name": "stdout",
     "output_type": "stream",
     "text": [
      "[OK] photo_20241004131138_8.json -> C:/Users/user/pythonproject/AllDataset/VAT-OCR\\triple_receipt\\label\\train_new\\photo_20241004131138_8.json\n"
     ]
    },
    {
     "name": "stderr",
     "output_type": "stream",
     "text": [
      "Processing entries:  10%|█         | 166/1621 [57:03<7:35:39, 18.79s/it]"
     ]
    },
    {
     "name": "stdout",
     "output_type": "stream",
     "text": [
      "[OK] photo_20241004131138_9.json -> C:/Users/user/pythonproject/AllDataset/VAT-OCR\\triple_receipt\\label\\train_new\\photo_20241004131138_9.json\n"
     ]
    },
    {
     "name": "stderr",
     "output_type": "stream",
     "text": [
      "Processing entries:  10%|█         | 167/1621 [57:33<8:58:43, 22.23s/it]"
     ]
    },
    {
     "name": "stdout",
     "output_type": "stream",
     "text": [
      "[OK] photo_20241004153102_1.json -> C:/Users/user/pythonproject/AllDataset/VAT-OCR\\triple_receipt\\label\\train_new\\photo_20241004153102_1.json\n"
     ]
    },
    {
     "name": "stderr",
     "output_type": "stream",
     "text": [
      "Processing entries:  10%|█         | 168/1621 [57:59<9:22:52, 23.24s/it]"
     ]
    },
    {
     "name": "stdout",
     "output_type": "stream",
     "text": [
      "[OK] photo_20241004153102_10.json -> C:/Users/user/pythonproject/AllDataset/VAT-OCR\\triple_receipt\\label\\train_new\\photo_20241004153102_10.json\n"
     ]
    },
    {
     "name": "stderr",
     "output_type": "stream",
     "text": [
      "Processing entries:  10%|█         | 169/1621 [58:26<9:50:06, 24.38s/it]"
     ]
    },
    {
     "name": "stdout",
     "output_type": "stream",
     "text": [
      "[FAIL] photo_20241004153102_2.json -> C:/Users/user/pythonproject/AllDataset/VAT-OCR\\triple_receipt\\label\\train_fail\\photo_20241004153102_2.json\n"
     ]
    },
    {
     "name": "stderr",
     "output_type": "stream",
     "text": [
      "Processing entries:  10%|█         | 170/1621 [58:47<9:26:52, 23.44s/it]"
     ]
    },
    {
     "name": "stdout",
     "output_type": "stream",
     "text": [
      "[OK] photo_20241004153102_4.json -> C:/Users/user/pythonproject/AllDataset/VAT-OCR\\triple_receipt\\label\\train_new\\photo_20241004153102_4.json\n"
     ]
    },
    {
     "name": "stderr",
     "output_type": "stream",
     "text": [
      "Processing entries:  11%|█         | 171/1621 [59:16<10:08:06, 25.16s/it]"
     ]
    },
    {
     "name": "stdout",
     "output_type": "stream",
     "text": [
      "[FAIL] photo_20241004153102_5.json -> C:/Users/user/pythonproject/AllDataset/VAT-OCR\\triple_receipt\\label\\train_fail\\photo_20241004153102_5.json\n"
     ]
    },
    {
     "name": "stderr",
     "output_type": "stream",
     "text": [
      "Processing entries:  11%|█         | 172/1621 [59:46<10:44:15, 26.68s/it]"
     ]
    },
    {
     "name": "stdout",
     "output_type": "stream",
     "text": [
      "[OK] photo_20241004153102_6.json -> C:/Users/user/pythonproject/AllDataset/VAT-OCR\\triple_receipt\\label\\train_new\\photo_20241004153102_6.json\n"
     ]
    },
    {
     "name": "stderr",
     "output_type": "stream",
     "text": [
      "Processing entries:  11%|█         | 173/1621 [1:00:09<10:10:23, 25.29s/it]"
     ]
    },
    {
     "name": "stdout",
     "output_type": "stream",
     "text": [
      "[FAIL] photo_20241004153102_7.json -> C:/Users/user/pythonproject/AllDataset/VAT-OCR\\triple_receipt\\label\\train_fail\\photo_20241004153102_7.json\n"
     ]
    },
    {
     "name": "stderr",
     "output_type": "stream",
     "text": [
      "Processing entries:  11%|█         | 174/1621 [1:00:42<11:10:59, 27.82s/it]"
     ]
    },
    {
     "name": "stdout",
     "output_type": "stream",
     "text": [
      "[FAIL] photo_20241004153102_8.json -> C:/Users/user/pythonproject/AllDataset/VAT-OCR\\triple_receipt\\label\\train_fail\\photo_20241004153102_8.json\n"
     ]
    },
    {
     "name": "stderr",
     "output_type": "stream",
     "text": [
      "Processing entries:  11%|█         | 175/1621 [1:01:16<11:50:14, 29.47s/it]"
     ]
    },
    {
     "name": "stdout",
     "output_type": "stream",
     "text": [
      "[FAIL] photo_20241004153102_9.json -> C:/Users/user/pythonproject/AllDataset/VAT-OCR\\triple_receipt\\label\\train_fail\\photo_20241004153102_9.json\n"
     ]
    },
    {
     "name": "stderr",
     "output_type": "stream",
     "text": [
      "Processing entries:  11%|█         | 176/1621 [1:01:45<11:46:53, 29.35s/it]"
     ]
    },
    {
     "name": "stdout",
     "output_type": "stream",
     "text": [
      "[OK] photo_20241005085518.json -> C:/Users/user/pythonproject/AllDataset/VAT-OCR\\triple_receipt\\label\\train_new\\photo_20241005085518.json\n"
     ]
    },
    {
     "name": "stderr",
     "output_type": "stream",
     "text": [
      "Processing entries:  11%|█         | 177/1621 [1:02:01<10:15:32, 25.58s/it]"
     ]
    },
    {
     "name": "stdout",
     "output_type": "stream",
     "text": [
      "[OK] photo_20241006083142.json -> C:/Users/user/pythonproject/AllDataset/VAT-OCR\\triple_receipt\\label\\train_new\\photo_20241006083142.json\n"
     ]
    },
    {
     "name": "stderr",
     "output_type": "stream",
     "text": [
      "Processing entries:  11%|█         | 178/1621 [1:02:19<9:16:30, 23.14s/it] "
     ]
    },
    {
     "name": "stdout",
     "output_type": "stream",
     "text": [
      "[FAIL] photo_20241006083142_1.json -> C:/Users/user/pythonproject/AllDataset/VAT-OCR\\triple_receipt\\label\\train_fail\\photo_20241006083142_1.json\n"
     ]
    },
    {
     "name": "stderr",
     "output_type": "stream",
     "text": [
      "Processing entries:  11%|█         | 179/1621 [1:03:26<14:34:20, 36.38s/it]"
     ]
    },
    {
     "name": "stdout",
     "output_type": "stream",
     "text": [
      "[FAIL] photo_20241006132005.json -> C:/Users/user/pythonproject/AllDataset/VAT-OCR\\triple_receipt\\label\\train_fail\\photo_20241006132005.json\n"
     ]
    },
    {
     "name": "stderr",
     "output_type": "stream",
     "text": [
      "Processing entries:  11%|█         | 180/1621 [1:03:45<12:25:24, 31.04s/it]"
     ]
    },
    {
     "name": "stdout",
     "output_type": "stream",
     "text": [
      "[OK] photo_20241007065539.json -> C:/Users/user/pythonproject/AllDataset/VAT-OCR\\triple_receipt\\label\\train_new\\photo_20241007065539.json\n"
     ]
    },
    {
     "name": "stderr",
     "output_type": "stream",
     "text": [
      "Processing entries:  11%|█         | 181/1621 [1:04:04<10:57:27, 27.39s/it]"
     ]
    },
    {
     "name": "stdout",
     "output_type": "stream",
     "text": [
      "[FAIL] photo_20241007065539_1.json -> C:/Users/user/pythonproject/AllDataset/VAT-OCR\\triple_receipt\\label\\train_fail\\photo_20241007065539_1.json\n"
     ]
    },
    {
     "name": "stderr",
     "output_type": "stream",
     "text": [
      "Processing entries:  11%|█         | 182/1621 [1:04:20<9:36:30, 24.04s/it] "
     ]
    },
    {
     "name": "stdout",
     "output_type": "stream",
     "text": [
      "[OK] photo_20241007072645.json -> C:/Users/user/pythonproject/AllDataset/VAT-OCR\\triple_receipt\\label\\train_new\\photo_20241007072645.json\n"
     ]
    },
    {
     "name": "stderr",
     "output_type": "stream",
     "text": [
      "Processing entries:  11%|█▏        | 183/1621 [1:04:35<8:31:20, 21.34s/it]"
     ]
    },
    {
     "name": "stdout",
     "output_type": "stream",
     "text": [
      "[OK] photo_20241007081837.json -> C:/Users/user/pythonproject/AllDataset/VAT-OCR\\triple_receipt\\label\\train_new\\photo_20241007081837.json\n"
     ]
    },
    {
     "name": "stderr",
     "output_type": "stream",
     "text": [
      "Processing entries:  11%|█▏        | 184/1621 [1:04:52<8:03:21, 20.18s/it]"
     ]
    },
    {
     "name": "stdout",
     "output_type": "stream",
     "text": [
      "[OK] photo_20241007092652.json -> C:/Users/user/pythonproject/AllDataset/VAT-OCR\\triple_receipt\\label\\train_new\\photo_20241007092652.json\n"
     ]
    },
    {
     "name": "stderr",
     "output_type": "stream",
     "text": [
      "Processing entries:  11%|█▏        | 185/1621 [1:05:10<7:43:22, 19.36s/it]"
     ]
    },
    {
     "name": "stdout",
     "output_type": "stream",
     "text": [
      "[FAIL] photo_20241007100310.json -> C:/Users/user/pythonproject/AllDataset/VAT-OCR\\triple_receipt\\label\\train_fail\\photo_20241007100310.json\n"
     ]
    },
    {
     "name": "stderr",
     "output_type": "stream",
     "text": [
      "Processing entries:  11%|█▏        | 186/1621 [1:05:25<7:15:08, 18.19s/it]"
     ]
    },
    {
     "name": "stdout",
     "output_type": "stream",
     "text": [
      "[FAIL] photo_20241007104707.json -> C:/Users/user/pythonproject/AllDataset/VAT-OCR\\triple_receipt\\label\\train_fail\\photo_20241007104707.json\n"
     ]
    },
    {
     "name": "stderr",
     "output_type": "stream",
     "text": [
      "Processing entries:  12%|█▏        | 187/1621 [1:05:51<8:06:55, 20.37s/it]"
     ]
    },
    {
     "name": "stdout",
     "output_type": "stream",
     "text": [
      "[FAIL] photo_20241007110656.json -> C:/Users/user/pythonproject/AllDataset/VAT-OCR\\triple_receipt\\label\\train_fail\\photo_20241007110656.json\n"
     ]
    },
    {
     "name": "stderr",
     "output_type": "stream",
     "text": [
      "Processing entries:  12%|█▏        | 188/1621 [1:06:12<8:13:02, 20.64s/it]"
     ]
    },
    {
     "name": "stdout",
     "output_type": "stream",
     "text": [
      "[FAIL] photo_20241007113012.json -> C:/Users/user/pythonproject/AllDataset/VAT-OCR\\triple_receipt\\label\\train_fail\\photo_20241007113012.json\n"
     ]
    },
    {
     "name": "stderr",
     "output_type": "stream",
     "text": [
      "Processing entries:  12%|█▏        | 189/1621 [1:06:40<9:03:45, 22.78s/it]"
     ]
    },
    {
     "name": "stdout",
     "output_type": "stream",
     "text": [
      "[FAIL] photo_20241007151419.json -> C:/Users/user/pythonproject/AllDataset/VAT-OCR\\triple_receipt\\label\\train_fail\\photo_20241007151419.json\n"
     ]
    },
    {
     "name": "stderr",
     "output_type": "stream",
     "text": [
      "Processing entries:  12%|█▏        | 190/1621 [1:06:58<8:31:19, 21.44s/it]"
     ]
    },
    {
     "name": "stdout",
     "output_type": "stream",
     "text": [
      "[OK] photo_20241008015503.json -> C:/Users/user/pythonproject/AllDataset/VAT-OCR\\triple_receipt\\label\\train_new\\photo_20241008015503.json\n"
     ]
    },
    {
     "name": "stderr",
     "output_type": "stream",
     "text": [
      "Processing entries:  12%|█▏        | 191/1621 [1:07:20<8:35:45, 21.64s/it]"
     ]
    },
    {
     "name": "stdout",
     "output_type": "stream",
     "text": [
      "[FAIL] photo_20241008015503_1.json -> C:/Users/user/pythonproject/AllDataset/VAT-OCR\\triple_receipt\\label\\train_fail\\photo_20241008015503_1.json\n"
     ]
    },
    {
     "name": "stderr",
     "output_type": "stream",
     "text": [
      "Processing entries:  12%|█▏        | 192/1621 [1:07:37<8:03:38, 20.31s/it]"
     ]
    },
    {
     "name": "stdout",
     "output_type": "stream",
     "text": [
      "[FAIL] photo_20241008015503_3.json -> C:/Users/user/pythonproject/AllDataset/VAT-OCR\\triple_receipt\\label\\train_fail\\photo_20241008015503_3.json\n"
     ]
    },
    {
     "name": "stderr",
     "output_type": "stream",
     "text": [
      "Processing entries:  12%|█▏        | 193/1621 [1:07:55<7:44:28, 19.52s/it]"
     ]
    },
    {
     "name": "stdout",
     "output_type": "stream",
     "text": [
      "[FAIL] photo_20241008015503_4.json -> C:/Users/user/pythonproject/AllDataset/VAT-OCR\\triple_receipt\\label\\train_fail\\photo_20241008015503_4.json\n"
     ]
    },
    {
     "name": "stderr",
     "output_type": "stream",
     "text": [
      "Processing entries:  12%|█▏        | 194/1621 [1:08:15<7:47:46, 19.67s/it]"
     ]
    },
    {
     "name": "stdout",
     "output_type": "stream",
     "text": [
      "[FAIL] photo_20241008015503_5.json -> C:/Users/user/pythonproject/AllDataset/VAT-OCR\\triple_receipt\\label\\train_fail\\photo_20241008015503_5.json\n"
     ]
    },
    {
     "name": "stderr",
     "output_type": "stream",
     "text": [
      "Processing entries:  12%|█▏        | 195/1621 [1:08:32<7:24:39, 18.71s/it]"
     ]
    },
    {
     "name": "stdout",
     "output_type": "stream",
     "text": [
      "[OK] photo_20241008025250.json -> C:/Users/user/pythonproject/AllDataset/VAT-OCR\\triple_receipt\\label\\train_new\\photo_20241008025250.json\n"
     ]
    },
    {
     "name": "stderr",
     "output_type": "stream",
     "text": [
      "Processing entries:  12%|█▏        | 196/1621 [1:08:48<7:05:01, 17.90s/it]"
     ]
    },
    {
     "name": "stdout",
     "output_type": "stream",
     "text": [
      "[FAIL] photo_20241008074641.json -> C:/Users/user/pythonproject/AllDataset/VAT-OCR\\triple_receipt\\label\\train_fail\\photo_20241008074641.json\n"
     ]
    },
    {
     "name": "stderr",
     "output_type": "stream",
     "text": [
      "Processing entries:  12%|█▏        | 197/1621 [1:09:05<7:00:55, 17.74s/it]"
     ]
    },
    {
     "name": "stdout",
     "output_type": "stream",
     "text": [
      "[OK] photo_20241008074641_1.json -> C:/Users/user/pythonproject/AllDataset/VAT-OCR\\triple_receipt\\label\\train_new\\photo_20241008074641_1.json\n"
     ]
    },
    {
     "name": "stderr",
     "output_type": "stream",
     "text": [
      "Processing entries:  12%|█▏        | 198/1621 [1:09:25<7:18:40, 18.50s/it]"
     ]
    },
    {
     "name": "stdout",
     "output_type": "stream",
     "text": [
      "[OK] photo_20241008074641_2.json -> C:/Users/user/pythonproject/AllDataset/VAT-OCR\\triple_receipt\\label\\train_new\\photo_20241008074641_2.json\n"
     ]
    },
    {
     "name": "stderr",
     "output_type": "stream",
     "text": [
      "Processing entries:  12%|█▏        | 199/1621 [1:09:43<7:17:17, 18.45s/it]"
     ]
    },
    {
     "name": "stdout",
     "output_type": "stream",
     "text": [
      "[FAIL] photo_20241008074641_3.json -> C:/Users/user/pythonproject/AllDataset/VAT-OCR\\triple_receipt\\label\\train_fail\\photo_20241008074641_3.json\n"
     ]
    },
    {
     "name": "stderr",
     "output_type": "stream",
     "text": [
      "Processing entries:  12%|█▏        | 200/1621 [1:10:00<7:02:14, 17.83s/it]"
     ]
    },
    {
     "name": "stdout",
     "output_type": "stream",
     "text": [
      "[FAIL] photo_20241008074641_4.json -> C:/Users/user/pythonproject/AllDataset/VAT-OCR\\triple_receipt\\label\\train_fail\\photo_20241008074641_4.json\n"
     ]
    },
    {
     "name": "stderr",
     "output_type": "stream",
     "text": [
      "Processing entries:  12%|█▏        | 201/1621 [1:10:16<6:49:48, 17.32s/it]"
     ]
    },
    {
     "name": "stdout",
     "output_type": "stream",
     "text": [
      "[OK] photo_20241008101941.json -> C:/Users/user/pythonproject/AllDataset/VAT-OCR\\triple_receipt\\label\\train_new\\photo_20241008101941.json\n"
     ]
    },
    {
     "name": "stderr",
     "output_type": "stream",
     "text": [
      "Processing entries:  12%|█▏        | 202/1621 [1:10:31<6:36:40, 16.77s/it]"
     ]
    },
    {
     "name": "stdout",
     "output_type": "stream",
     "text": [
      "[OK] photo_20241008101941_1.json -> C:/Users/user/pythonproject/AllDataset/VAT-OCR\\triple_receipt\\label\\train_new\\photo_20241008101941_1.json\n"
     ]
    },
    {
     "name": "stderr",
     "output_type": "stream",
     "text": [
      "Processing entries:  13%|█▎        | 203/1621 [1:10:48<6:33:43, 16.66s/it]"
     ]
    },
    {
     "name": "stdout",
     "output_type": "stream",
     "text": [
      "[FAIL] photo_20241008101941_2.json -> C:/Users/user/pythonproject/AllDataset/VAT-OCR\\triple_receipt\\label\\train_fail\\photo_20241008101941_2.json\n"
     ]
    },
    {
     "name": "stderr",
     "output_type": "stream",
     "text": [
      "Processing entries:  13%|█▎        | 204/1621 [1:11:05<6:33:59, 16.68s/it]"
     ]
    },
    {
     "name": "stdout",
     "output_type": "stream",
     "text": [
      "[OK] photo_20241008101941_3.json -> C:/Users/user/pythonproject/AllDataset/VAT-OCR\\triple_receipt\\label\\train_new\\photo_20241008101941_3.json\n"
     ]
    },
    {
     "name": "stderr",
     "output_type": "stream",
     "text": [
      "Processing entries:  13%|█▎        | 205/1621 [1:11:21<6:29:46, 16.52s/it]"
     ]
    },
    {
     "name": "stdout",
     "output_type": "stream",
     "text": [
      "[OK] photo_20241008151706.json -> C:/Users/user/pythonproject/AllDataset/VAT-OCR\\triple_receipt\\label\\train_new\\photo_20241008151706.json\n"
     ]
    },
    {
     "name": "stderr",
     "output_type": "stream",
     "text": [
      "Processing entries:  13%|█▎        | 206/1621 [1:11:37<6:29:37, 16.52s/it]"
     ]
    },
    {
     "name": "stdout",
     "output_type": "stream",
     "text": [
      "[OK] photo_20241008155728.json -> C:/Users/user/pythonproject/AllDataset/VAT-OCR\\triple_receipt\\label\\train_new\\photo_20241008155728.json\n"
     ]
    },
    {
     "name": "stderr",
     "output_type": "stream",
     "text": [
      "Processing entries:  13%|█▎        | 207/1621 [1:12:03<7:32:09, 19.19s/it]"
     ]
    },
    {
     "name": "stdout",
     "output_type": "stream",
     "text": [
      "[OK] photo_20241009014322.json -> C:/Users/user/pythonproject/AllDataset/VAT-OCR\\triple_receipt\\label\\train_new\\photo_20241009014322.json\n"
     ]
    },
    {
     "name": "stderr",
     "output_type": "stream",
     "text": [
      "Processing entries:  13%|█▎        | 208/1621 [1:12:23<7:40:16, 19.54s/it]"
     ]
    },
    {
     "name": "stdout",
     "output_type": "stream",
     "text": [
      "[FAIL] photo_20241009022125_3.json -> C:/Users/user/pythonproject/AllDataset/VAT-OCR\\triple_receipt\\label\\train_fail\\photo_20241009022125_3.json\n"
     ]
    },
    {
     "name": "stderr",
     "output_type": "stream",
     "text": [
      "Processing entries:  13%|█▎        | 209/1621 [1:12:44<7:50:33, 20.00s/it]"
     ]
    },
    {
     "name": "stdout",
     "output_type": "stream",
     "text": [
      "[OK] photo_20241009022821.json -> C:/Users/user/pythonproject/AllDataset/VAT-OCR\\triple_receipt\\label\\train_new\\photo_20241009022821.json\n"
     ]
    },
    {
     "name": "stderr",
     "output_type": "stream",
     "text": [
      "Processing entries:  13%|█▎        | 210/1621 [1:13:05<7:57:13, 20.29s/it]"
     ]
    },
    {
     "name": "stdout",
     "output_type": "stream",
     "text": [
      "[FAIL] photo_20241009033040.json -> C:/Users/user/pythonproject/AllDataset/VAT-OCR\\triple_receipt\\label\\train_fail\\photo_20241009033040.json\n"
     ]
    },
    {
     "name": "stderr",
     "output_type": "stream",
     "text": [
      "Processing entries:  13%|█▎        | 211/1621 [1:13:28<8:12:42, 20.97s/it]"
     ]
    },
    {
     "name": "stdout",
     "output_type": "stream",
     "text": [
      "[FAIL] photo_20241009035104.json -> C:/Users/user/pythonproject/AllDataset/VAT-OCR\\triple_receipt\\label\\train_fail\\photo_20241009035104.json\n"
     ]
    },
    {
     "name": "stderr",
     "output_type": "stream",
     "text": [
      "Processing entries:  13%|█▎        | 212/1621 [1:13:59<9:26:49, 24.14s/it]"
     ]
    },
    {
     "name": "stdout",
     "output_type": "stream",
     "text": [
      "[FAIL] photo_20241009040752.json -> C:/Users/user/pythonproject/AllDataset/VAT-OCR\\triple_receipt\\label\\train_fail\\photo_20241009040752.json\n"
     ]
    },
    {
     "name": "stderr",
     "output_type": "stream",
     "text": [
      "Processing entries:  13%|█▎        | 213/1621 [1:14:15<8:29:56, 21.73s/it]"
     ]
    },
    {
     "name": "stdout",
     "output_type": "stream",
     "text": [
      "[FAIL] photo_20241009042157.json -> C:/Users/user/pythonproject/AllDataset/VAT-OCR\\triple_receipt\\label\\train_fail\\photo_20241009042157.json\n"
     ]
    },
    {
     "name": "stderr",
     "output_type": "stream",
     "text": [
      "Processing entries:  13%|█▎        | 214/1621 [1:14:32<7:51:57, 20.13s/it]"
     ]
    },
    {
     "name": "stdout",
     "output_type": "stream",
     "text": [
      "[OK] photo_20241009043411.json -> C:/Users/user/pythonproject/AllDataset/VAT-OCR\\triple_receipt\\label\\train_new\\photo_20241009043411.json\n"
     ]
    },
    {
     "name": "stderr",
     "output_type": "stream",
     "text": [
      "Processing entries:  13%|█▎        | 215/1621 [1:14:48<7:24:08, 18.95s/it]"
     ]
    },
    {
     "name": "stdout",
     "output_type": "stream",
     "text": [
      "[OK] photo_20241009044543.json -> C:/Users/user/pythonproject/AllDataset/VAT-OCR\\triple_receipt\\label\\train_new\\photo_20241009044543.json\n"
     ]
    },
    {
     "name": "stderr",
     "output_type": "stream",
     "text": [
      "Processing entries:  13%|█▎        | 216/1621 [1:15:03<6:55:40, 17.75s/it]"
     ]
    },
    {
     "name": "stdout",
     "output_type": "stream",
     "text": [
      "[OK] photo_20241009045451.json -> C:/Users/user/pythonproject/AllDataset/VAT-OCR\\triple_receipt\\label\\train_new\\photo_20241009045451.json\n"
     ]
    },
    {
     "name": "stderr",
     "output_type": "stream",
     "text": [
      "Processing entries:  13%|█▎        | 217/1621 [1:16:11<12:46:16, 32.75s/it]"
     ]
    },
    {
     "name": "stdout",
     "output_type": "stream",
     "text": [
      "[FAIL] photo_20241009063049.json -> C:/Users/user/pythonproject/AllDataset/VAT-OCR\\triple_receipt\\label\\train_fail\\photo_20241009063049.json\n"
     ]
    },
    {
     "name": "stderr",
     "output_type": "stream",
     "text": [
      "Processing entries:  13%|█▎        | 218/1621 [1:16:27<10:49:34, 27.78s/it]"
     ]
    },
    {
     "name": "stdout",
     "output_type": "stream",
     "text": [
      "[OK] photo_20241009064733_1.json -> C:/Users/user/pythonproject/AllDataset/VAT-OCR\\triple_receipt\\label\\train_new\\photo_20241009064733_1.json\n"
     ]
    },
    {
     "name": "stderr",
     "output_type": "stream",
     "text": [
      "Processing entries:  14%|█▎        | 219/1621 [1:16:45<9:41:26, 24.88s/it] "
     ]
    },
    {
     "name": "stdout",
     "output_type": "stream",
     "text": [
      "[OK] photo_20241009065607.json -> C:/Users/user/pythonproject/AllDataset/VAT-OCR\\triple_receipt\\label\\train_new\\photo_20241009065607.json\n"
     ]
    },
    {
     "name": "stderr",
     "output_type": "stream",
     "text": [
      "Processing entries:  14%|█▎        | 220/1621 [1:17:03<8:53:18, 22.84s/it]"
     ]
    },
    {
     "name": "stdout",
     "output_type": "stream",
     "text": [
      "[FAIL] photo_20241009072813.json -> C:/Users/user/pythonproject/AllDataset/VAT-OCR\\triple_receipt\\label\\train_fail\\photo_20241009072813.json\n"
     ]
    },
    {
     "name": "stderr",
     "output_type": "stream",
     "text": [
      "Processing entries:  14%|█▎        | 221/1621 [1:17:21<8:21:47, 21.51s/it]"
     ]
    },
    {
     "name": "stdout",
     "output_type": "stream",
     "text": [
      "[FAIL] photo_20241009074306_1.json -> C:/Users/user/pythonproject/AllDataset/VAT-OCR\\triple_receipt\\label\\train_fail\\photo_20241009074306_1.json\n"
     ]
    },
    {
     "name": "stderr",
     "output_type": "stream",
     "text": [
      "Processing entries:  14%|█▎        | 222/1621 [1:17:38<7:48:15, 20.08s/it]"
     ]
    },
    {
     "name": "stdout",
     "output_type": "stream",
     "text": [
      "[FAIL] photo_20241009082932_1.json -> C:/Users/user/pythonproject/AllDataset/VAT-OCR\\triple_receipt\\label\\train_fail\\photo_20241009082932_1.json\n"
     ]
    },
    {
     "name": "stderr",
     "output_type": "stream",
     "text": [
      "Processing entries:  14%|█▍        | 223/1621 [1:17:55<7:26:07, 19.15s/it]"
     ]
    },
    {
     "name": "stdout",
     "output_type": "stream",
     "text": [
      "[FAIL] photo_20241009084137.json -> C:/Users/user/pythonproject/AllDataset/VAT-OCR\\triple_receipt\\label\\train_fail\\photo_20241009084137.json\n"
     ]
    },
    {
     "name": "stderr",
     "output_type": "stream",
     "text": [
      "Processing entries:  14%|█▍        | 224/1621 [1:18:09<6:46:34, 17.46s/it]"
     ]
    },
    {
     "name": "stdout",
     "output_type": "stream",
     "text": [
      "[FAIL] photo_20241009085428.json -> C:/Users/user/pythonproject/AllDataset/VAT-OCR\\triple_receipt\\label\\train_fail\\photo_20241009085428.json\n"
     ]
    },
    {
     "name": "stderr",
     "output_type": "stream",
     "text": [
      "Processing entries:  14%|█▍        | 225/1621 [1:18:23<6:26:53, 16.63s/it]"
     ]
    },
    {
     "name": "stdout",
     "output_type": "stream",
     "text": [
      "[FAIL] photo_20241009091300.json -> C:/Users/user/pythonproject/AllDataset/VAT-OCR\\triple_receipt\\label\\train_fail\\photo_20241009091300.json\n"
     ]
    },
    {
     "name": "stderr",
     "output_type": "stream",
     "text": [
      "Processing entries:  14%|█▍        | 226/1621 [1:18:38<6:16:13, 16.18s/it]"
     ]
    },
    {
     "name": "stdout",
     "output_type": "stream",
     "text": [
      "[OK] photo_20241009093257.json -> C:/Users/user/pythonproject/AllDataset/VAT-OCR\\triple_receipt\\label\\train_new\\photo_20241009093257.json\n"
     ]
    },
    {
     "name": "stderr",
     "output_type": "stream",
     "text": [
      "Processing entries:  14%|█▍        | 227/1621 [1:18:55<6:19:16, 16.32s/it]"
     ]
    },
    {
     "name": "stdout",
     "output_type": "stream",
     "text": [
      "[OK] photo_20241009094903.json -> C:/Users/user/pythonproject/AllDataset/VAT-OCR\\triple_receipt\\label\\train_new\\photo_20241009094903.json\n"
     ]
    },
    {
     "name": "stderr",
     "output_type": "stream",
     "text": [
      "Processing entries:  14%|█▍        | 228/1621 [1:19:10<6:10:36, 15.96s/it]"
     ]
    },
    {
     "name": "stdout",
     "output_type": "stream",
     "text": [
      "[OK] photo_20241009100224_1.json -> C:/Users/user/pythonproject/AllDataset/VAT-OCR\\triple_receipt\\label\\train_new\\photo_20241009100224_1.json\n"
     ]
    },
    {
     "name": "stderr",
     "output_type": "stream",
     "text": [
      "Processing entries:  14%|█▍        | 229/1621 [1:19:28<6:24:28, 16.57s/it]"
     ]
    },
    {
     "name": "stdout",
     "output_type": "stream",
     "text": [
      "[FAIL] photo_20241009103638.json -> C:/Users/user/pythonproject/AllDataset/VAT-OCR\\triple_receipt\\label\\train_fail\\photo_20241009103638.json\n"
     ]
    },
    {
     "name": "stderr",
     "output_type": "stream",
     "text": [
      "Processing entries:  14%|█▍        | 230/1621 [1:19:48<6:48:20, 17.61s/it]"
     ]
    },
    {
     "name": "stdout",
     "output_type": "stream",
     "text": [
      "[FAIL] photo_20241009123945.json -> C:/Users/user/pythonproject/AllDataset/VAT-OCR\\triple_receipt\\label\\train_fail\\photo_20241009123945.json\n"
     ]
    },
    {
     "name": "stderr",
     "output_type": "stream",
     "text": [
      "Processing entries:  14%|█▍        | 231/1621 [1:20:05<6:44:59, 17.48s/it]"
     ]
    },
    {
     "name": "stdout",
     "output_type": "stream",
     "text": [
      "[FAIL] photo_20241009125606.json -> C:/Users/user/pythonproject/AllDataset/VAT-OCR\\triple_receipt\\label\\train_fail\\photo_20241009125606.json\n"
     ]
    },
    {
     "name": "stderr",
     "output_type": "stream",
     "text": [
      "Processing entries:  14%|█▍        | 232/1621 [1:20:24<6:49:52, 17.71s/it]"
     ]
    },
    {
     "name": "stdout",
     "output_type": "stream",
     "text": [
      "[FAIL] photo_20241009132202.json -> C:/Users/user/pythonproject/AllDataset/VAT-OCR\\triple_receipt\\label\\train_fail\\photo_20241009132202.json\n"
     ]
    },
    {
     "name": "stderr",
     "output_type": "stream",
     "text": [
      "Processing entries:  14%|█▍        | 233/1621 [1:20:40<6:39:12, 17.26s/it]"
     ]
    },
    {
     "name": "stdout",
     "output_type": "stream",
     "text": [
      "[OK] photo_20241009134109.json -> C:/Users/user/pythonproject/AllDataset/VAT-OCR\\triple_receipt\\label\\train_new\\photo_20241009134109.json\n"
     ]
    },
    {
     "name": "stderr",
     "output_type": "stream",
     "text": [
      "Processing entries:  14%|█▍        | 234/1621 [1:20:59<6:48:48, 17.68s/it]"
     ]
    },
    {
     "name": "stdout",
     "output_type": "stream",
     "text": [
      "[FAIL] photo_20241009140541.json -> C:/Users/user/pythonproject/AllDataset/VAT-OCR\\triple_receipt\\label\\train_fail\\photo_20241009140541.json\n"
     ]
    },
    {
     "name": "stderr",
     "output_type": "stream",
     "text": [
      "Processing entries:  14%|█▍        | 235/1621 [1:21:13<6:27:15, 16.76s/it]"
     ]
    },
    {
     "name": "stdout",
     "output_type": "stream",
     "text": [
      "[OK] photo_20241009143557.json -> C:/Users/user/pythonproject/AllDataset/VAT-OCR\\triple_receipt\\label\\train_new\\photo_20241009143557.json\n"
     ]
    },
    {
     "name": "stderr",
     "output_type": "stream",
     "text": [
      "Processing entries:  15%|█▍        | 236/1621 [1:21:28<6:12:41, 16.15s/it]"
     ]
    },
    {
     "name": "stdout",
     "output_type": "stream",
     "text": [
      "[OK] photo_20241009144915.json -> C:/Users/user/pythonproject/AllDataset/VAT-OCR\\triple_receipt\\label\\train_new\\photo_20241009144915.json\n"
     ]
    },
    {
     "name": "stderr",
     "output_type": "stream",
     "text": [
      "Processing entries:  15%|█▍        | 237/1621 [1:21:51<6:59:12, 18.17s/it]"
     ]
    },
    {
     "name": "stdout",
     "output_type": "stream",
     "text": [
      "[OK] photo_20241009153203_1.json -> C:/Users/user/pythonproject/AllDataset/VAT-OCR\\triple_receipt\\label\\train_new\\photo_20241009153203_1.json\n"
     ]
    },
    {
     "name": "stderr",
     "output_type": "stream",
     "text": [
      "Processing entries:  15%|█▍        | 238/1621 [1:22:14<7:35:10, 19.75s/it]"
     ]
    },
    {
     "name": "stdout",
     "output_type": "stream",
     "text": [
      "[OK] photo_20241009154433.json -> C:/Users/user/pythonproject/AllDataset/VAT-OCR\\triple_receipt\\label\\train_new\\photo_20241009154433.json\n"
     ]
    },
    {
     "name": "stderr",
     "output_type": "stream",
     "text": [
      "Processing entries:  15%|█▍        | 239/1621 [1:22:39<8:09:47, 21.26s/it]"
     ]
    },
    {
     "name": "stdout",
     "output_type": "stream",
     "text": [
      "[OK] photo_20241009160401.json -> C:/Users/user/pythonproject/AllDataset/VAT-OCR\\triple_receipt\\label\\train_new\\photo_20241009160401.json\n"
     ]
    },
    {
     "name": "stderr",
     "output_type": "stream",
     "text": [
      "Processing entries:  15%|█▍        | 240/1621 [1:23:05<8:41:12, 22.65s/it]"
     ]
    },
    {
     "name": "stdout",
     "output_type": "stream",
     "text": [
      "[OK] photo_20241009161358.json -> C:/Users/user/pythonproject/AllDataset/VAT-OCR\\triple_receipt\\label\\train_new\\photo_20241009161358.json\n"
     ]
    },
    {
     "name": "stderr",
     "output_type": "stream",
     "text": [
      "Processing entries:  15%|█▍        | 241/1621 [1:23:29<8:50:00, 23.04s/it]"
     ]
    },
    {
     "name": "stdout",
     "output_type": "stream",
     "text": [
      "[OK] photo_20241009162541.json -> C:/Users/user/pythonproject/AllDataset/VAT-OCR\\triple_receipt\\label\\train_new\\photo_20241009162541.json\n"
     ]
    },
    {
     "name": "stderr",
     "output_type": "stream",
     "text": [
      "Processing entries:  15%|█▍        | 242/1621 [1:23:55<9:14:36, 24.13s/it]"
     ]
    },
    {
     "name": "stdout",
     "output_type": "stream",
     "text": [
      "[FAIL] photo_20241009170239_1.json -> C:/Users/user/pythonproject/AllDataset/VAT-OCR\\triple_receipt\\label\\train_fail\\photo_20241009170239_1.json\n"
     ]
    },
    {
     "name": "stderr",
     "output_type": "stream",
     "text": [
      "Processing entries:  15%|█▍        | 243/1621 [1:24:20<9:14:42, 24.15s/it]"
     ]
    },
    {
     "name": "stdout",
     "output_type": "stream",
     "text": [
      "[FAIL] photo_20241009171431.json -> C:/Users/user/pythonproject/AllDataset/VAT-OCR\\triple_receipt\\label\\train_fail\\photo_20241009171431.json\n"
     ]
    },
    {
     "name": "stderr",
     "output_type": "stream",
     "text": [
      "Processing entries:  15%|█▌        | 244/1621 [1:24:41<8:55:42, 23.34s/it]"
     ]
    },
    {
     "name": "stdout",
     "output_type": "stream",
     "text": [
      "[FAIL] photo_20241010014051_2.json -> C:/Users/user/pythonproject/AllDataset/VAT-OCR\\triple_receipt\\label\\train_fail\\photo_20241010014051_2.json\n"
     ]
    },
    {
     "name": "stderr",
     "output_type": "stream",
     "text": [
      "Processing entries:  15%|█▌        | 245/1621 [1:24:59<8:17:53, 21.71s/it]"
     ]
    },
    {
     "name": "stdout",
     "output_type": "stream",
     "text": [
      "[FAIL] photo_20241010020050.json -> C:/Users/user/pythonproject/AllDataset/VAT-OCR\\triple_receipt\\label\\train_fail\\photo_20241010020050.json\n"
     ]
    },
    {
     "name": "stderr",
     "output_type": "stream",
     "text": [
      "Processing entries:  15%|█▌        | 246/1621 [1:25:17<7:53:10, 20.65s/it]"
     ]
    },
    {
     "name": "stdout",
     "output_type": "stream",
     "text": [
      "[FAIL] photo_20241010021451.json -> C:/Users/user/pythonproject/AllDataset/VAT-OCR\\triple_receipt\\label\\train_fail\\photo_20241010021451.json\n"
     ]
    },
    {
     "name": "stderr",
     "output_type": "stream",
     "text": [
      "Processing entries:  15%|█▌        | 247/1621 [1:25:44<8:32:56, 22.40s/it]"
     ]
    },
    {
     "name": "stdout",
     "output_type": "stream",
     "text": [
      "[OK] photo_20241010022848.json -> C:/Users/user/pythonproject/AllDataset/VAT-OCR\\triple_receipt\\label\\train_new\\photo_20241010022848.json\n"
     ]
    },
    {
     "name": "stderr",
     "output_type": "stream",
     "text": [
      "Processing entries:  15%|█▌        | 248/1621 [1:26:09<8:50:25, 23.18s/it]"
     ]
    },
    {
     "name": "stdout",
     "output_type": "stream",
     "text": [
      "[OK] photo_20241010023721.json -> C:/Users/user/pythonproject/AllDataset/VAT-OCR\\triple_receipt\\label\\train_new\\photo_20241010023721.json\n"
     ]
    },
    {
     "name": "stderr",
     "output_type": "stream",
     "text": [
      "Processing entries:  15%|█▌        | 249/1621 [1:26:28<8:26:21, 22.14s/it]"
     ]
    },
    {
     "name": "stdout",
     "output_type": "stream",
     "text": [
      "[OK] photo_20241010024621.json -> C:/Users/user/pythonproject/AllDataset/VAT-OCR\\triple_receipt\\label\\train_new\\photo_20241010024621.json\n"
     ]
    },
    {
     "name": "stderr",
     "output_type": "stream",
     "text": [
      "Processing entries:  15%|█▌        | 250/1621 [1:26:59<9:23:04, 24.64s/it]"
     ]
    },
    {
     "name": "stdout",
     "output_type": "stream",
     "text": [
      "[FAIL] photo_20241010025446.json -> C:/Users/user/pythonproject/AllDataset/VAT-OCR\\triple_receipt\\label\\train_fail\\photo_20241010025446.json\n"
     ]
    },
    {
     "name": "stderr",
     "output_type": "stream",
     "text": [
      "Processing entries:  15%|█▌        | 251/1621 [1:27:25<9:35:39, 25.21s/it]"
     ]
    },
    {
     "name": "stdout",
     "output_type": "stream",
     "text": [
      "[OK] photo_20241010030551_1.json -> C:/Users/user/pythonproject/AllDataset/VAT-OCR\\triple_receipt\\label\\train_new\\photo_20241010030551_1.json\n"
     ]
    },
    {
     "name": "stderr",
     "output_type": "stream",
     "text": [
      "Processing entries:  16%|█▌        | 252/1621 [1:27:49<9:26:51, 24.84s/it]"
     ]
    },
    {
     "name": "stdout",
     "output_type": "stream",
     "text": [
      "[OK] photo_20241010031643.json -> C:/Users/user/pythonproject/AllDataset/VAT-OCR\\triple_receipt\\label\\train_new\\photo_20241010031643.json\n"
     ]
    },
    {
     "name": "stderr",
     "output_type": "stream",
     "text": [
      "Processing entries:  16%|█▌        | 253/1621 [1:28:09<8:52:19, 23.35s/it]"
     ]
    },
    {
     "name": "stdout",
     "output_type": "stream",
     "text": [
      "[FAIL] photo_20241010032458.json -> C:/Users/user/pythonproject/AllDataset/VAT-OCR\\triple_receipt\\label\\train_fail\\photo_20241010032458.json\n"
     ]
    },
    {
     "name": "stderr",
     "output_type": "stream",
     "text": [
      "Processing entries:  16%|█▌        | 254/1621 [1:28:33<8:57:38, 23.60s/it]"
     ]
    },
    {
     "name": "stdout",
     "output_type": "stream",
     "text": [
      "[OK] photo_20241010033310.json -> C:/Users/user/pythonproject/AllDataset/VAT-OCR\\triple_receipt\\label\\train_new\\photo_20241010033310.json\n"
     ]
    },
    {
     "name": "stderr",
     "output_type": "stream",
     "text": [
      "Processing entries:  16%|█▌        | 255/1621 [1:29:01<9:22:22, 24.70s/it]"
     ]
    },
    {
     "name": "stdout",
     "output_type": "stream",
     "text": [
      "[OK] photo_20241010035052_1.json -> C:/Users/user/pythonproject/AllDataset/VAT-OCR\\triple_receipt\\label\\train_new\\photo_20241010035052_1.json\n"
     ]
    },
    {
     "name": "stderr",
     "output_type": "stream",
     "text": [
      "Processing entries:  16%|█▌        | 256/1621 [1:29:20<8:45:24, 23.09s/it]"
     ]
    },
    {
     "name": "stdout",
     "output_type": "stream",
     "text": [
      "[OK] photo_20241010040929.json -> C:/Users/user/pythonproject/AllDataset/VAT-OCR\\triple_receipt\\label\\train_new\\photo_20241010040929.json\n"
     ]
    },
    {
     "name": "stderr",
     "output_type": "stream",
     "text": [
      "Processing entries:  16%|█▌        | 257/1621 [1:29:39<8:15:04, 21.78s/it]"
     ]
    },
    {
     "name": "stdout",
     "output_type": "stream",
     "text": [
      "[OK] photo_20241010041837.json -> C:/Users/user/pythonproject/AllDataset/VAT-OCR\\triple_receipt\\label\\train_new\\photo_20241010041837.json\n"
     ]
    },
    {
     "name": "stderr",
     "output_type": "stream",
     "text": [
      "Processing entries:  16%|█▌        | 258/1621 [1:30:04<8:35:11, 22.68s/it]"
     ]
    },
    {
     "name": "stdout",
     "output_type": "stream",
     "text": [
      "[OK] photo_20241010042750.json -> C:/Users/user/pythonproject/AllDataset/VAT-OCR\\triple_receipt\\label\\train_new\\photo_20241010042750.json\n"
     ]
    },
    {
     "name": "stderr",
     "output_type": "stream",
     "text": [
      "Processing entries:  16%|█▌        | 259/1621 [1:30:28<8:44:19, 23.10s/it]"
     ]
    },
    {
     "name": "stdout",
     "output_type": "stream",
     "text": [
      "[OK] photo_20241010043720.json -> C:/Users/user/pythonproject/AllDataset/VAT-OCR\\triple_receipt\\label\\train_new\\photo_20241010043720.json\n"
     ]
    },
    {
     "name": "stderr",
     "output_type": "stream",
     "text": [
      "Processing entries:  16%|█▌        | 260/1621 [1:30:52<8:49:52, 23.36s/it]"
     ]
    },
    {
     "name": "stdout",
     "output_type": "stream",
     "text": [
      "[OK] photo_20241010061656.json -> C:/Users/user/pythonproject/AllDataset/VAT-OCR\\triple_receipt\\label\\train_new\\photo_20241010061656.json\n"
     ]
    },
    {
     "name": "stderr",
     "output_type": "stream",
     "text": [
      "Processing entries:  16%|█▌        | 261/1621 [1:31:18<9:12:13, 24.36s/it]"
     ]
    },
    {
     "name": "stdout",
     "output_type": "stream",
     "text": [
      "[FAIL] photo_20241010062935_1.json -> C:/Users/user/pythonproject/AllDataset/VAT-OCR\\triple_receipt\\label\\train_fail\\photo_20241010062935_1.json\n"
     ]
    },
    {
     "name": "stderr",
     "output_type": "stream",
     "text": [
      "Processing entries:  16%|█▌        | 262/1621 [1:31:33<8:07:03, 21.50s/it]"
     ]
    },
    {
     "name": "stdout",
     "output_type": "stream",
     "text": [
      "[FAIL] photo_20241010064131.json -> C:/Users/user/pythonproject/AllDataset/VAT-OCR\\triple_receipt\\label\\train_fail\\photo_20241010064131.json\n"
     ]
    },
    {
     "name": "stderr",
     "output_type": "stream",
     "text": [
      "Processing entries:  16%|█▌        | 263/1621 [1:31:51<7:44:17, 20.51s/it]"
     ]
    },
    {
     "name": "stdout",
     "output_type": "stream",
     "text": [
      "[OK] photo_20241010065026.json -> C:/Users/user/pythonproject/AllDataset/VAT-OCR\\triple_receipt\\label\\train_new\\photo_20241010065026.json\n"
     ]
    },
    {
     "name": "stderr",
     "output_type": "stream",
     "text": [
      "Processing entries:  16%|█▋        | 264/1621 [1:32:13<7:50:00, 20.78s/it]"
     ]
    },
    {
     "name": "stdout",
     "output_type": "stream",
     "text": [
      "[OK] photo_20241010070516.json -> C:/Users/user/pythonproject/AllDataset/VAT-OCR\\triple_receipt\\label\\train_new\\photo_20241010070516.json\n"
     ]
    },
    {
     "name": "stderr",
     "output_type": "stream",
     "text": [
      "Processing entries:  16%|█▋        | 265/1621 [1:32:26<6:58:47, 18.53s/it]"
     ]
    },
    {
     "name": "stdout",
     "output_type": "stream",
     "text": [
      "[FAIL] photo_20241010073712.json -> C:/Users/user/pythonproject/AllDataset/VAT-OCR\\triple_receipt\\label\\train_fail\\photo_20241010073712.json\n"
     ]
    },
    {
     "name": "stderr",
     "output_type": "stream",
     "text": [
      "Processing entries:  16%|█▋        | 266/1621 [1:32:50<7:33:42, 20.09s/it]"
     ]
    },
    {
     "name": "stdout",
     "output_type": "stream",
     "text": [
      "[FAIL] photo_20241010090700.json -> C:/Users/user/pythonproject/AllDataset/VAT-OCR\\triple_receipt\\label\\train_fail\\photo_20241010090700.json\n"
     ]
    },
    {
     "name": "stderr",
     "output_type": "stream",
     "text": [
      "Processing entries:  16%|█▋        | 267/1621 [1:33:06<7:04:28, 18.81s/it]"
     ]
    },
    {
     "name": "stdout",
     "output_type": "stream",
     "text": [
      "[FAIL] photo_20241010093905.json -> C:/Users/user/pythonproject/AllDataset/VAT-OCR\\triple_receipt\\label\\train_fail\\photo_20241010093905.json\n"
     ]
    },
    {
     "name": "stderr",
     "output_type": "stream",
     "text": [
      "Processing entries:  17%|█▋        | 268/1621 [1:33:23<6:52:19, 18.28s/it]"
     ]
    },
    {
     "name": "stdout",
     "output_type": "stream",
     "text": [
      "[OK] photo_20241010101728.json -> C:/Users/user/pythonproject/AllDataset/VAT-OCR\\triple_receipt\\label\\train_new\\photo_20241010101728.json\n"
     ]
    },
    {
     "name": "stderr",
     "output_type": "stream",
     "text": [
      "Processing entries:  17%|█▋        | 269/1621 [1:33:39<6:41:54, 17.84s/it]"
     ]
    },
    {
     "name": "stdout",
     "output_type": "stream",
     "text": [
      "[FAIL] photo_20241010103152.json -> C:/Users/user/pythonproject/AllDataset/VAT-OCR\\triple_receipt\\label\\train_fail\\photo_20241010103152.json\n"
     ]
    },
    {
     "name": "stderr",
     "output_type": "stream",
     "text": [
      "Processing entries:  17%|█▋        | 270/1621 [1:33:57<6:42:42, 17.89s/it]"
     ]
    },
    {
     "name": "stdout",
     "output_type": "stream",
     "text": [
      "[FAIL] photo_20241011113410.json -> C:/Users/user/pythonproject/AllDataset/VAT-OCR\\triple_receipt\\label\\train_fail\\photo_20241011113410.json\n"
     ]
    },
    {
     "name": "stderr",
     "output_type": "stream",
     "text": [
      "Processing entries:  17%|█▋        | 271/1621 [1:34:25<7:50:57, 20.93s/it]"
     ]
    },
    {
     "name": "stdout",
     "output_type": "stream",
     "text": [
      "[OK] photo_20241011115443_1.json -> C:/Users/user/pythonproject/AllDataset/VAT-OCR\\triple_receipt\\label\\train_new\\photo_20241011115443_1.json\n"
     ]
    },
    {
     "name": "stderr",
     "output_type": "stream",
     "text": [
      "Processing entries:  17%|█▋        | 272/1621 [1:34:44<7:32:35, 20.13s/it]"
     ]
    },
    {
     "name": "stdout",
     "output_type": "stream",
     "text": [
      "[OK] photo_20241011123318.json -> C:/Users/user/pythonproject/AllDataset/VAT-OCR\\triple_receipt\\label\\train_new\\photo_20241011123318.json\n"
     ]
    },
    {
     "name": "stderr",
     "output_type": "stream",
     "text": [
      "Processing entries:  17%|█▋        | 273/1621 [1:35:07<7:52:21, 21.02s/it]"
     ]
    },
    {
     "name": "stdout",
     "output_type": "stream",
     "text": [
      "[OK] photo_20241014003346.json -> C:/Users/user/pythonproject/AllDataset/VAT-OCR\\triple_receipt\\label\\train_new\\photo_20241014003346.json\n"
     ]
    },
    {
     "name": "stderr",
     "output_type": "stream",
     "text": [
      "Processing entries:  17%|█▋        | 274/1621 [1:35:31<8:16:20, 22.11s/it]"
     ]
    },
    {
     "name": "stdout",
     "output_type": "stream",
     "text": [
      "[OK] photo_20241014005515.json -> C:/Users/user/pythonproject/AllDataset/VAT-OCR\\triple_receipt\\label\\train_new\\photo_20241014005515.json\n"
     ]
    },
    {
     "name": "stderr",
     "output_type": "stream",
     "text": [
      "Processing entries:  17%|█▋        | 275/1621 [1:35:48<7:37:11, 20.38s/it]"
     ]
    },
    {
     "name": "stdout",
     "output_type": "stream",
     "text": [
      "[FAIL] photo_20241014010934.json -> C:/Users/user/pythonproject/AllDataset/VAT-OCR\\triple_receipt\\label\\train_fail\\photo_20241014010934.json\n"
     ]
    },
    {
     "name": "stderr",
     "output_type": "stream",
     "text": [
      "Processing entries:  17%|█▋        | 276/1621 [1:36:10<7:47:26, 20.85s/it]"
     ]
    },
    {
     "name": "stdout",
     "output_type": "stream",
     "text": [
      "[FAIL] photo_20241014022547.json -> C:/Users/user/pythonproject/AllDataset/VAT-OCR\\triple_receipt\\label\\train_fail\\photo_20241014022547.json\n"
     ]
    },
    {
     "name": "stderr",
     "output_type": "stream",
     "text": [
      "Processing entries:  17%|█▋        | 277/1621 [1:36:29<7:36:41, 20.39s/it]"
     ]
    },
    {
     "name": "stdout",
     "output_type": "stream",
     "text": [
      "[FAIL] photo_20241014024328.json -> C:/Users/user/pythonproject/AllDataset/VAT-OCR\\triple_receipt\\label\\train_fail\\photo_20241014024328.json\n"
     ]
    },
    {
     "name": "stderr",
     "output_type": "stream",
     "text": [
      "Processing entries:  17%|█▋        | 278/1621 [1:36:50<7:41:41, 20.63s/it]"
     ]
    },
    {
     "name": "stdout",
     "output_type": "stream",
     "text": [
      "[FAIL] photo_20241014025410.json -> C:/Users/user/pythonproject/AllDataset/VAT-OCR\\triple_receipt\\label\\train_fail\\photo_20241014025410.json\n"
     ]
    },
    {
     "name": "stderr",
     "output_type": "stream",
     "text": [
      "Processing entries:  17%|█▋        | 279/1621 [1:37:13<7:52:13, 21.11s/it]"
     ]
    },
    {
     "name": "stdout",
     "output_type": "stream",
     "text": [
      "[FAIL] photo_20241014030828_1.json -> C:/Users/user/pythonproject/AllDataset/VAT-OCR\\triple_receipt\\label\\train_fail\\photo_20241014030828_1.json\n"
     ]
    },
    {
     "name": "stderr",
     "output_type": "stream",
     "text": [
      "Processing entries:  17%|█▋        | 280/1621 [1:37:30<7:26:16, 19.97s/it]"
     ]
    },
    {
     "name": "stdout",
     "output_type": "stream",
     "text": [
      "[FAIL] photo_20241014035843.json -> C:/Users/user/pythonproject/AllDataset/VAT-OCR\\triple_receipt\\label\\train_fail\\photo_20241014035843.json\n"
     ]
    },
    {
     "name": "stderr",
     "output_type": "stream",
     "text": [
      "Processing entries:  17%|█▋        | 281/1621 [1:37:49<7:23:50, 19.87s/it]"
     ]
    },
    {
     "name": "stdout",
     "output_type": "stream",
     "text": [
      "[FAIL] photo_20241014041254.json -> C:/Users/user/pythonproject/AllDataset/VAT-OCR\\triple_receipt\\label\\train_fail\\photo_20241014041254.json\n"
     ]
    },
    {
     "name": "stderr",
     "output_type": "stream",
     "text": [
      "Processing entries:  17%|█▋        | 282/1621 [1:38:10<7:29:30, 20.14s/it]"
     ]
    },
    {
     "name": "stdout",
     "output_type": "stream",
     "text": [
      "[FAIL] photo_20241014063322.json -> C:/Users/user/pythonproject/AllDataset/VAT-OCR\\triple_receipt\\label\\train_fail\\photo_20241014063322.json\n"
     ]
    },
    {
     "name": "stderr",
     "output_type": "stream",
     "text": [
      "Processing entries:  17%|█▋        | 283/1621 [1:38:25<6:50:07, 18.39s/it]"
     ]
    },
    {
     "name": "stdout",
     "output_type": "stream",
     "text": [
      "[FAIL] photo_20241014064852.json -> C:/Users/user/pythonproject/AllDataset/VAT-OCR\\triple_receipt\\label\\train_fail\\photo_20241014064852.json\n"
     ]
    },
    {
     "name": "stderr",
     "output_type": "stream",
     "text": [
      "Processing entries:  18%|█▊        | 284/1621 [1:38:40<6:31:54, 17.59s/it]"
     ]
    },
    {
     "name": "stdout",
     "output_type": "stream",
     "text": [
      "[OK] photo_20241014070202.json -> C:/Users/user/pythonproject/AllDataset/VAT-OCR\\triple_receipt\\label\\train_new\\photo_20241014070202.json\n"
     ]
    },
    {
     "name": "stderr",
     "output_type": "stream",
     "text": [
      "Processing entries:  18%|█▊        | 285/1621 [1:38:55<6:15:27, 16.86s/it]"
     ]
    },
    {
     "name": "stdout",
     "output_type": "stream",
     "text": [
      "[OK] photo_20241014073255.json -> C:/Users/user/pythonproject/AllDataset/VAT-OCR\\triple_receipt\\label\\train_new\\photo_20241014073255.json\n"
     ]
    },
    {
     "name": "stderr",
     "output_type": "stream",
     "text": [
      "Processing entries:  18%|█▊        | 286/1621 [1:39:09<5:56:20, 16.02s/it]"
     ]
    },
    {
     "name": "stdout",
     "output_type": "stream",
     "text": [
      "[FAIL] photo_20241014074643.json -> C:/Users/user/pythonproject/AllDataset/VAT-OCR\\triple_receipt\\label\\train_fail\\photo_20241014074643.json\n"
     ]
    },
    {
     "name": "stderr",
     "output_type": "stream",
     "text": [
      "Processing entries:  18%|█▊        | 287/1621 [1:39:23<5:37:51, 15.20s/it]"
     ]
    },
    {
     "name": "stdout",
     "output_type": "stream",
     "text": [
      "[FAIL] photo_20241014075823.json -> C:/Users/user/pythonproject/AllDataset/VAT-OCR\\triple_receipt\\label\\train_fail\\photo_20241014075823.json\n"
     ]
    },
    {
     "name": "stderr",
     "output_type": "stream",
     "text": [
      "Processing entries:  18%|█▊        | 288/1621 [1:39:38<5:36:40, 15.15s/it]"
     ]
    },
    {
     "name": "stdout",
     "output_type": "stream",
     "text": [
      "[OK] photo_20241014080949.json -> C:/Users/user/pythonproject/AllDataset/VAT-OCR\\triple_receipt\\label\\train_new\\photo_20241014080949.json\n"
     ]
    },
    {
     "name": "stderr",
     "output_type": "stream",
     "text": [
      "Processing entries:  18%|█▊        | 289/1621 [1:39:54<5:45:49, 15.58s/it]"
     ]
    },
    {
     "name": "stdout",
     "output_type": "stream",
     "text": [
      "[OK] photo_20241014082322_1.json -> C:/Users/user/pythonproject/AllDataset/VAT-OCR\\triple_receipt\\label\\train_new\\photo_20241014082322_1.json\n"
     ]
    },
    {
     "name": "stderr",
     "output_type": "stream",
     "text": [
      "Processing entries:  18%|█▊        | 290/1621 [1:40:14<6:14:30, 16.88s/it]"
     ]
    },
    {
     "name": "stdout",
     "output_type": "stream",
     "text": [
      "[FAIL] photo_20241014083457.json -> C:/Users/user/pythonproject/AllDataset/VAT-OCR\\triple_receipt\\label\\train_fail\\photo_20241014083457.json\n"
     ]
    },
    {
     "name": "stderr",
     "output_type": "stream",
     "text": [
      "Processing entries:  18%|█▊        | 291/1621 [1:40:32<6:20:09, 17.15s/it]"
     ]
    },
    {
     "name": "stdout",
     "output_type": "stream",
     "text": [
      "[OK] photo_20241014094114.json -> C:/Users/user/pythonproject/AllDataset/VAT-OCR\\triple_receipt\\label\\train_new\\photo_20241014094114.json\n"
     ]
    },
    {
     "name": "stderr",
     "output_type": "stream",
     "text": [
      "Processing entries:  18%|█▊        | 292/1621 [1:40:50<6:23:59, 17.34s/it]"
     ]
    },
    {
     "name": "stdout",
     "output_type": "stream",
     "text": [
      "[FAIL] photo_20241014095618.json -> C:/Users/user/pythonproject/AllDataset/VAT-OCR\\triple_receipt\\label\\train_fail\\photo_20241014095618.json\n"
     ]
    },
    {
     "name": "stderr",
     "output_type": "stream",
     "text": [
      "Processing entries:  18%|█▊        | 293/1621 [1:41:08<6:28:55, 17.57s/it]"
     ]
    },
    {
     "name": "stdout",
     "output_type": "stream",
     "text": [
      "[FAIL] photo_20241014100747.json -> C:/Users/user/pythonproject/AllDataset/VAT-OCR\\triple_receipt\\label\\train_fail\\photo_20241014100747.json\n"
     ]
    },
    {
     "name": "stderr",
     "output_type": "stream",
     "text": [
      "Processing entries:  18%|█▊        | 294/1621 [1:41:24<6:15:37, 16.98s/it]"
     ]
    },
    {
     "name": "stdout",
     "output_type": "stream",
     "text": [
      "[FAIL] photo_20241014115400.json -> C:/Users/user/pythonproject/AllDataset/VAT-OCR\\triple_receipt\\label\\train_fail\\photo_20241014115400.json\n"
     ]
    },
    {
     "name": "stderr",
     "output_type": "stream",
     "text": [
      "Processing entries:  18%|█▊        | 295/1621 [1:41:37<5:52:37, 15.96s/it]"
     ]
    },
    {
     "name": "stdout",
     "output_type": "stream",
     "text": [
      "[FAIL] photo_20241014120828.json -> C:/Users/user/pythonproject/AllDataset/VAT-OCR\\triple_receipt\\label\\train_fail\\photo_20241014120828.json\n"
     ]
    },
    {
     "name": "stderr",
     "output_type": "stream",
     "text": [
      "Processing entries:  18%|█▊        | 296/1621 [1:41:53<5:52:18, 15.95s/it]"
     ]
    },
    {
     "name": "stdout",
     "output_type": "stream",
     "text": [
      "[FAIL] photo_20241014122624.json -> C:/Users/user/pythonproject/AllDataset/VAT-OCR\\triple_receipt\\label\\train_fail\\photo_20241014122624.json\n"
     ]
    },
    {
     "name": "stderr",
     "output_type": "stream",
     "text": [
      "Processing entries:  18%|█▊        | 297/1621 [1:42:11<6:02:20, 16.42s/it]"
     ]
    },
    {
     "name": "stdout",
     "output_type": "stream",
     "text": [
      "[FAIL] photo_20241014131001.json -> C:/Users/user/pythonproject/AllDataset/VAT-OCR\\triple_receipt\\label\\train_fail\\photo_20241014131001.json\n"
     ]
    },
    {
     "name": "stderr",
     "output_type": "stream",
     "text": [
      "Processing entries:  18%|█▊        | 298/1621 [1:42:29<6:14:01, 16.96s/it]"
     ]
    },
    {
     "name": "stdout",
     "output_type": "stream",
     "text": [
      "[OK] photo_20241014133928.json -> C:/Users/user/pythonproject/AllDataset/VAT-OCR\\triple_receipt\\label\\train_new\\photo_20241014133928.json\n"
     ]
    },
    {
     "name": "stderr",
     "output_type": "stream",
     "text": [
      "Processing entries:  18%|█▊        | 299/1621 [1:42:48<6:28:06, 17.61s/it]"
     ]
    },
    {
     "name": "stdout",
     "output_type": "stream",
     "text": [
      "[OK] photo_20241014141444.json -> C:/Users/user/pythonproject/AllDataset/VAT-OCR\\triple_receipt\\label\\train_new\\photo_20241014141444.json\n"
     ]
    },
    {
     "name": "stderr",
     "output_type": "stream",
     "text": [
      "Processing entries:  19%|█▊        | 300/1621 [1:43:06<6:28:19, 17.64s/it]"
     ]
    },
    {
     "name": "stdout",
     "output_type": "stream",
     "text": [
      "[OK] photo_20241014142541.json -> C:/Users/user/pythonproject/AllDataset/VAT-OCR\\triple_receipt\\label\\train_new\\photo_20241014142541.json\n"
     ]
    },
    {
     "name": "stderr",
     "output_type": "stream",
     "text": [
      "Processing entries:  19%|█▊        | 301/1621 [1:43:28<6:57:16, 18.97s/it]"
     ]
    },
    {
     "name": "stdout",
     "output_type": "stream",
     "text": [
      "[FAIL] photo_20241014143639.json -> C:/Users/user/pythonproject/AllDataset/VAT-OCR\\triple_receipt\\label\\train_fail\\photo_20241014143639.json\n"
     ]
    },
    {
     "name": "stderr",
     "output_type": "stream",
     "text": [
      "Processing entries:  19%|█▊        | 302/1621 [1:43:47<6:56:25, 18.94s/it]"
     ]
    },
    {
     "name": "stdout",
     "output_type": "stream",
     "text": [
      "[FAIL] photo_20241014151939_1.json -> C:/Users/user/pythonproject/AllDataset/VAT-OCR\\triple_receipt\\label\\train_fail\\photo_20241014151939_1.json\n"
     ]
    },
    {
     "name": "stderr",
     "output_type": "stream",
     "text": [
      "Processing entries:  19%|█▊        | 303/1621 [1:44:07<7:07:42, 19.47s/it]"
     ]
    },
    {
     "name": "stdout",
     "output_type": "stream",
     "text": [
      "[FAIL] photo_20241014153200.json -> C:/Users/user/pythonproject/AllDataset/VAT-OCR\\triple_receipt\\label\\train_fail\\photo_20241014153200.json\n"
     ]
    },
    {
     "name": "stderr",
     "output_type": "stream",
     "text": [
      "Processing entries:  19%|█▉        | 304/1621 [1:44:30<7:28:32, 20.43s/it]"
     ]
    },
    {
     "name": "stdout",
     "output_type": "stream",
     "text": [
      "[OK] photo_20241014154315.json -> C:/Users/user/pythonproject/AllDataset/VAT-OCR\\triple_receipt\\label\\train_new\\photo_20241014154315.json\n"
     ]
    },
    {
     "name": "stderr",
     "output_type": "stream",
     "text": [
      "Processing entries:  19%|█▉        | 305/1621 [1:44:54<7:49:20, 21.40s/it]"
     ]
    },
    {
     "name": "stdout",
     "output_type": "stream",
     "text": [
      "[OK] photo_20241014155105.json -> C:/Users/user/pythonproject/AllDataset/VAT-OCR\\triple_receipt\\label\\train_new\\photo_20241014155105.json\n"
     ]
    },
    {
     "name": "stderr",
     "output_type": "stream",
     "text": [
      "Processing entries:  19%|█▉        | 306/1621 [1:45:17<7:59:47, 21.89s/it]"
     ]
    },
    {
     "name": "stdout",
     "output_type": "stream",
     "text": [
      "[FAIL] photo_20241014155743.json -> C:/Users/user/pythonproject/AllDataset/VAT-OCR\\triple_receipt\\label\\train_fail\\photo_20241014155743.json\n"
     ]
    },
    {
     "name": "stderr",
     "output_type": "stream",
     "text": [
      "Processing entries:  19%|█▉        | 307/1621 [1:45:35<7:36:04, 20.83s/it]"
     ]
    },
    {
     "name": "stdout",
     "output_type": "stream",
     "text": [
      "[OK] photo_20241014160355_1.json -> C:/Users/user/pythonproject/AllDataset/VAT-OCR\\triple_receipt\\label\\train_new\\photo_20241014160355_1.json\n"
     ]
    },
    {
     "name": "stderr",
     "output_type": "stream",
     "text": [
      "Processing entries:  19%|█▉        | 308/1621 [1:46:00<8:03:05, 22.08s/it]"
     ]
    },
    {
     "name": "stdout",
     "output_type": "stream",
     "text": [
      "[FAIL] photo_20241014161253.json -> C:/Users/user/pythonproject/AllDataset/VAT-OCR\\triple_receipt\\label\\train_fail\\photo_20241014161253.json\n"
     ]
    },
    {
     "name": "stderr",
     "output_type": "stream",
     "text": [
      "Processing entries:  19%|█▉        | 309/1621 [1:46:24<8:14:38, 22.62s/it]"
     ]
    },
    {
     "name": "stdout",
     "output_type": "stream",
     "text": [
      "[OK] photo_20241014162048.json -> C:/Users/user/pythonproject/AllDataset/VAT-OCR\\triple_receipt\\label\\train_new\\photo_20241014162048.json\n"
     ]
    },
    {
     "name": "stderr",
     "output_type": "stream",
     "text": [
      "Processing entries:  19%|█▉        | 310/1621 [1:46:43<7:53:14, 21.66s/it]"
     ]
    },
    {
     "name": "stdout",
     "output_type": "stream",
     "text": [
      "[FAIL] photo_20241014162729.json -> C:/Users/user/pythonproject/AllDataset/VAT-OCR\\triple_receipt\\label\\train_fail\\photo_20241014162729.json\n"
     ]
    },
    {
     "name": "stderr",
     "output_type": "stream",
     "text": [
      "Processing entries:  19%|█▉        | 311/1621 [1:47:07<8:08:54, 22.39s/it]"
     ]
    },
    {
     "name": "stdout",
     "output_type": "stream",
     "text": [
      "[OK] photo_20241014163522.json -> C:/Users/user/pythonproject/AllDataset/VAT-OCR\\triple_receipt\\label\\train_new\\photo_20241014163522.json\n"
     ]
    },
    {
     "name": "stderr",
     "output_type": "stream",
     "text": [
      "Processing entries:  19%|█▉        | 312/1621 [1:47:32<8:23:05, 23.06s/it]"
     ]
    },
    {
     "name": "stdout",
     "output_type": "stream",
     "text": [
      "[OK] photo_20241014164238.json -> C:/Users/user/pythonproject/AllDataset/VAT-OCR\\triple_receipt\\label\\train_new\\photo_20241014164238.json\n"
     ]
    },
    {
     "name": "stderr",
     "output_type": "stream",
     "text": [
      "Processing entries:  19%|█▉        | 313/1621 [1:47:58<8:39:46, 23.84s/it]"
     ]
    },
    {
     "name": "stdout",
     "output_type": "stream",
     "text": [
      "[OK] photo_20241014164900.json -> C:/Users/user/pythonproject/AllDataset/VAT-OCR\\triple_receipt\\label\\train_new\\photo_20241014164900.json\n"
     ]
    },
    {
     "name": "stderr",
     "output_type": "stream",
     "text": [
      "Processing entries:  19%|█▉        | 314/1621 [1:48:18<8:15:41, 22.76s/it]"
     ]
    },
    {
     "name": "stdout",
     "output_type": "stream",
     "text": [
      "[OK] photo_20241014165652.json -> C:/Users/user/pythonproject/AllDataset/VAT-OCR\\triple_receipt\\label\\train_new\\photo_20241014165652.json\n"
     ]
    },
    {
     "name": "stderr",
     "output_type": "stream",
     "text": [
      "Processing entries:  19%|█▉        | 315/1621 [1:48:42<8:22:16, 23.08s/it]"
     ]
    },
    {
     "name": "stdout",
     "output_type": "stream",
     "text": [
      "[OK] photo_20241014170319.json -> C:/Users/user/pythonproject/AllDataset/VAT-OCR\\triple_receipt\\label\\train_new\\photo_20241014170319.json\n"
     ]
    },
    {
     "name": "stderr",
     "output_type": "stream",
     "text": [
      "Processing entries:  19%|█▉        | 316/1621 [1:49:05<8:25:41, 23.25s/it]"
     ]
    },
    {
     "name": "stdout",
     "output_type": "stream",
     "text": [
      "[OK] photo_20241015011948_1.json -> C:/Users/user/pythonproject/AllDataset/VAT-OCR\\triple_receipt\\label\\train_new\\photo_20241015011948_1.json\n"
     ]
    },
    {
     "name": "stderr",
     "output_type": "stream",
     "text": [
      "Processing entries:  20%|█▉        | 317/1621 [1:49:28<8:19:14, 22.97s/it]"
     ]
    },
    {
     "name": "stdout",
     "output_type": "stream",
     "text": [
      "[FAIL] photo_20241015012840.json -> C:/Users/user/pythonproject/AllDataset/VAT-OCR\\triple_receipt\\label\\train_fail\\photo_20241015012840.json\n"
     ]
    },
    {
     "name": "stderr",
     "output_type": "stream",
     "text": [
      "Processing entries:  20%|█▉        | 318/1621 [1:49:44<7:36:01, 21.00s/it]"
     ]
    },
    {
     "name": "stdout",
     "output_type": "stream",
     "text": [
      "[OK] photo_20241015013620.json -> C:/Users/user/pythonproject/AllDataset/VAT-OCR\\triple_receipt\\label\\train_new\\photo_20241015013620.json\n"
     ]
    },
    {
     "name": "stderr",
     "output_type": "stream",
     "text": [
      "Processing entries:  20%|█▉        | 319/1621 [1:50:12<8:19:22, 23.01s/it]"
     ]
    },
    {
     "name": "stdout",
     "output_type": "stream",
     "text": [
      "[OK] photo_20241015014342.json -> C:/Users/user/pythonproject/AllDataset/VAT-OCR\\triple_receipt\\label\\train_new\\photo_20241015014342.json\n"
     ]
    },
    {
     "name": "stderr",
     "output_type": "stream",
     "text": [
      "Processing entries:  20%|█▉        | 320/1621 [1:50:36<8:29:03, 23.48s/it]"
     ]
    },
    {
     "name": "stdout",
     "output_type": "stream",
     "text": [
      "[OK] photo_20241015015111.json -> C:/Users/user/pythonproject/AllDataset/VAT-OCR\\triple_receipt\\label\\train_new\\photo_20241015015111.json\n"
     ]
    },
    {
     "name": "stderr",
     "output_type": "stream",
     "text": [
      "Processing entries:  20%|█▉        | 321/1621 [1:50:52<7:36:07, 21.05s/it]"
     ]
    },
    {
     "name": "stdout",
     "output_type": "stream",
     "text": [
      "[OK] photo_20241015020534.json -> C:/Users/user/pythonproject/AllDataset/VAT-OCR\\triple_receipt\\label\\train_new\\photo_20241015020534.json\n"
     ]
    },
    {
     "name": "stderr",
     "output_type": "stream",
     "text": [
      "Processing entries:  20%|█▉        | 322/1621 [1:51:06<6:51:30, 19.01s/it]"
     ]
    },
    {
     "name": "stdout",
     "output_type": "stream",
     "text": [
      "[OK] photo_20241015021758.json -> C:/Users/user/pythonproject/AllDataset/VAT-OCR\\triple_receipt\\label\\train_new\\photo_20241015021758.json\n"
     ]
    },
    {
     "name": "stderr",
     "output_type": "stream",
     "text": [
      "Processing entries:  20%|█▉        | 323/1621 [1:51:23<6:36:36, 18.33s/it]"
     ]
    },
    {
     "name": "stdout",
     "output_type": "stream",
     "text": [
      "[FAIL] photo_20241015023229.json -> C:/Users/user/pythonproject/AllDataset/VAT-OCR\\triple_receipt\\label\\train_fail\\photo_20241015023229.json\n"
     ]
    },
    {
     "name": "stderr",
     "output_type": "stream",
     "text": [
      "Processing entries:  20%|█▉        | 324/1621 [1:51:40<6:25:48, 17.85s/it]"
     ]
    },
    {
     "name": "stdout",
     "output_type": "stream",
     "text": [
      "[OK] photo_20241015024307.json -> C:/Users/user/pythonproject/AllDataset/VAT-OCR\\triple_receipt\\label\\train_new\\photo_20241015024307.json\n"
     ]
    },
    {
     "name": "stderr",
     "output_type": "stream",
     "text": [
      "Processing entries:  20%|██        | 325/1621 [1:51:59<6:35:48, 18.32s/it]"
     ]
    },
    {
     "name": "stdout",
     "output_type": "stream",
     "text": [
      "[FAIL] photo_20241015025603.json -> C:/Users/user/pythonproject/AllDataset/VAT-OCR\\triple_receipt\\label\\train_fail\\photo_20241015025603.json\n"
     ]
    },
    {
     "name": "stderr",
     "output_type": "stream",
     "text": [
      "Processing entries:  20%|██        | 326/1621 [1:52:16<6:24:32, 17.82s/it]"
     ]
    },
    {
     "name": "stdout",
     "output_type": "stream",
     "text": [
      "[OK] photo_20241015032012.json -> C:/Users/user/pythonproject/AllDataset/VAT-OCR\\triple_receipt\\label\\train_new\\photo_20241015032012.json\n"
     ]
    },
    {
     "name": "stderr",
     "output_type": "stream",
     "text": [
      "Processing entries:  20%|██        | 327/1621 [1:52:32<6:17:26, 17.50s/it]"
     ]
    },
    {
     "name": "stdout",
     "output_type": "stream",
     "text": [
      "[FAIL] photo_20241015034734.json -> C:/Users/user/pythonproject/AllDataset/VAT-OCR\\triple_receipt\\label\\train_fail\\photo_20241015034734.json\n"
     ]
    },
    {
     "name": "stderr",
     "output_type": "stream",
     "text": [
      "Processing entries:  20%|██        | 328/1621 [1:52:49<6:11:27, 17.24s/it]"
     ]
    },
    {
     "name": "stdout",
     "output_type": "stream",
     "text": [
      "[OK] photo_20241015043438.json -> C:/Users/user/pythonproject/AllDataset/VAT-OCR\\triple_receipt\\label\\train_new\\photo_20241015043438.json\n"
     ]
    },
    {
     "name": "stderr",
     "output_type": "stream",
     "text": [
      "Processing entries:  20%|██        | 329/1621 [1:53:09<6:30:28, 18.13s/it]"
     ]
    },
    {
     "name": "stdout",
     "output_type": "stream",
     "text": [
      "[FAIL] photo_20241015044449.json -> C:/Users/user/pythonproject/AllDataset/VAT-OCR\\triple_receipt\\label\\train_fail\\photo_20241015044449.json\n"
     ]
    },
    {
     "name": "stderr",
     "output_type": "stream",
     "text": [
      "Processing entries:  20%|██        | 330/1621 [1:53:27<6:26:24, 17.96s/it]"
     ]
    },
    {
     "name": "stdout",
     "output_type": "stream",
     "text": [
      "[FAIL] photo_20241015045436.json -> C:/Users/user/pythonproject/AllDataset/VAT-OCR\\triple_receipt\\label\\train_fail\\photo_20241015045436.json\n"
     ]
    },
    {
     "name": "stderr",
     "output_type": "stream",
     "text": [
      "Processing entries:  20%|██        | 331/1621 [1:53:43<6:14:23, 17.41s/it]"
     ]
    },
    {
     "name": "stdout",
     "output_type": "stream",
     "text": [
      "[OK] photo_20241015085317.json -> C:/Users/user/pythonproject/AllDataset/VAT-OCR\\triple_receipt\\label\\train_new\\photo_20241015085317.json\n"
     ]
    },
    {
     "name": "stderr",
     "output_type": "stream",
     "text": [
      "Processing entries:  20%|██        | 332/1621 [1:54:00<6:10:57, 17.27s/it]"
     ]
    },
    {
     "name": "stdout",
     "output_type": "stream",
     "text": [
      "[FAIL] photo_20241015092153.json -> C:/Users/user/pythonproject/AllDataset/VAT-OCR\\triple_receipt\\label\\train_fail\\photo_20241015092153.json\n"
     ]
    },
    {
     "name": "stderr",
     "output_type": "stream",
     "text": [
      "Processing entries:  21%|██        | 333/1621 [1:54:20<6:31:06, 18.22s/it]"
     ]
    },
    {
     "name": "stdout",
     "output_type": "stream",
     "text": [
      "[FAIL] photo_20241015093415_1.json -> C:/Users/user/pythonproject/AllDataset/VAT-OCR\\triple_receipt\\label\\train_fail\\photo_20241015093415_1.json\n"
     ]
    },
    {
     "name": "stderr",
     "output_type": "stream",
     "text": [
      "Processing entries:  21%|██        | 334/1621 [1:54:39<6:33:10, 18.33s/it]"
     ]
    },
    {
     "name": "stdout",
     "output_type": "stream",
     "text": [
      "[FAIL] photo_20241015094538.json -> C:/Users/user/pythonproject/AllDataset/VAT-OCR\\triple_receipt\\label\\train_fail\\photo_20241015094538.json\n"
     ]
    },
    {
     "name": "stderr",
     "output_type": "stream",
     "text": [
      "Processing entries:  21%|██        | 335/1621 [1:55:03<7:09:56, 20.06s/it]"
     ]
    },
    {
     "name": "stdout",
     "output_type": "stream",
     "text": [
      "[FAIL] photo_20241015101544.json -> C:/Users/user/pythonproject/AllDataset/VAT-OCR\\triple_receipt\\label\\train_fail\\photo_20241015101544.json\n"
     ]
    },
    {
     "name": "stderr",
     "output_type": "stream",
     "text": [
      "Processing entries:  21%|██        | 336/1621 [1:55:17<6:30:00, 18.21s/it]"
     ]
    },
    {
     "name": "stdout",
     "output_type": "stream",
     "text": [
      "[FAIL] photo_20241015143820.json -> C:/Users/user/pythonproject/AllDataset/VAT-OCR\\triple_receipt\\label\\train_fail\\photo_20241015143820.json\n"
     ]
    },
    {
     "name": "stderr",
     "output_type": "stream",
     "text": [
      "Processing entries:  21%|██        | 337/1621 [1:55:34<6:24:55, 17.99s/it]"
     ]
    },
    {
     "name": "stdout",
     "output_type": "stream",
     "text": [
      "[FAIL] photo_20241015145243_1.json -> C:/Users/user/pythonproject/AllDataset/VAT-OCR\\triple_receipt\\label\\train_fail\\photo_20241015145243_1.json\n"
     ]
    },
    {
     "name": "stderr",
     "output_type": "stream",
     "text": [
      "Processing entries:  21%|██        | 338/1621 [1:55:53<6:31:19, 18.30s/it]"
     ]
    },
    {
     "name": "stdout",
     "output_type": "stream",
     "text": [
      "[OK] photo_20241015154107.json -> C:/Users/user/pythonproject/AllDataset/VAT-OCR\\triple_receipt\\label\\train_new\\photo_20241015154107.json\n"
     ]
    },
    {
     "name": "stderr",
     "output_type": "stream",
     "text": [
      "Processing entries:  21%|██        | 339/1621 [1:56:12<6:33:28, 18.42s/it]"
     ]
    },
    {
     "name": "stdout",
     "output_type": "stream",
     "text": [
      "[OK] photo_20241029112203_1.json -> C:/Users/user/pythonproject/AllDataset/VAT-OCR\\triple_receipt\\label\\train_new\\photo_20241029112203_1.json\n"
     ]
    },
    {
     "name": "stderr",
     "output_type": "stream",
     "text": [
      "Processing entries:  21%|██        | 340/1621 [1:56:27<6:13:40, 17.50s/it]"
     ]
    },
    {
     "name": "stdout",
     "output_type": "stream",
     "text": [
      "[OK] photo_20241030144818_1.json -> C:/Users/user/pythonproject/AllDataset/VAT-OCR\\triple_receipt\\label\\train_new\\photo_20241030144818_1.json\n"
     ]
    },
    {
     "name": "stderr",
     "output_type": "stream",
     "text": [
      "Processing entries:  21%|██        | 341/1621 [1:56:45<6:16:11, 17.63s/it]"
     ]
    },
    {
     "name": "stdout",
     "output_type": "stream",
     "text": [
      "[OK] photo_20241030145614_1.json -> C:/Users/user/pythonproject/AllDataset/VAT-OCR\\triple_receipt\\label\\train_new\\photo_20241030145614_1.json\n"
     ]
    },
    {
     "name": "stderr",
     "output_type": "stream",
     "text": [
      "Processing entries:  21%|██        | 342/1621 [1:57:03<6:17:55, 17.73s/it]"
     ]
    },
    {
     "name": "stdout",
     "output_type": "stream",
     "text": [
      "[FAIL] photo_20241030145614_2.json -> C:/Users/user/pythonproject/AllDataset/VAT-OCR\\triple_receipt\\label\\train_fail\\photo_20241030145614_2.json\n"
     ]
    },
    {
     "name": "stderr",
     "output_type": "stream",
     "text": [
      "Processing entries:  21%|██        | 343/1621 [1:57:19<6:03:44, 17.08s/it]"
     ]
    },
    {
     "name": "stdout",
     "output_type": "stream",
     "text": [
      "[FAIL] photo_20241030145614_3.json -> C:/Users/user/pythonproject/AllDataset/VAT-OCR\\triple_receipt\\label\\train_fail\\photo_20241030145614_3.json\n"
     ]
    },
    {
     "name": "stderr",
     "output_type": "stream",
     "text": [
      "Processing entries:  21%|██        | 344/1621 [1:57:36<6:01:22, 16.98s/it]"
     ]
    },
    {
     "name": "stdout",
     "output_type": "stream",
     "text": [
      "[OK] photo_20241030145614_4.json -> C:/Users/user/pythonproject/AllDataset/VAT-OCR\\triple_receipt\\label\\train_new\\photo_20241030145614_4.json\n"
     ]
    },
    {
     "name": "stderr",
     "output_type": "stream",
     "text": [
      "Processing entries:  21%|██▏       | 345/1621 [1:57:54<6:10:21, 17.41s/it]"
     ]
    },
    {
     "name": "stdout",
     "output_type": "stream",
     "text": [
      "[OK] photo_20241030145614_5.json -> C:/Users/user/pythonproject/AllDataset/VAT-OCR\\triple_receipt\\label\\train_new\\photo_20241030145614_5.json\n"
     ]
    },
    {
     "name": "stderr",
     "output_type": "stream",
     "text": [
      "Processing entries:  21%|██▏       | 346/1621 [1:58:13<6:22:42, 18.01s/it]"
     ]
    },
    {
     "name": "stdout",
     "output_type": "stream",
     "text": [
      "[OK] photo_20241030145916_1.json -> C:/Users/user/pythonproject/AllDataset/VAT-OCR\\triple_receipt\\label\\train_new\\photo_20241030145916_1.json\n"
     ]
    },
    {
     "name": "stderr",
     "output_type": "stream",
     "text": [
      "Processing entries:  21%|██▏       | 347/1621 [1:58:25<5:42:34, 16.13s/it]"
     ]
    },
    {
     "name": "stdout",
     "output_type": "stream",
     "text": [
      "[FAIL] photo_20241030150206_1.json -> C:/Users/user/pythonproject/AllDataset/VAT-OCR\\triple_receipt\\label\\train_fail\\photo_20241030150206_1.json\n"
     ]
    },
    {
     "name": "stderr",
     "output_type": "stream",
     "text": [
      "Processing entries:  21%|██▏       | 348/1621 [1:58:42<5:45:34, 16.29s/it]"
     ]
    },
    {
     "name": "stdout",
     "output_type": "stream",
     "text": [
      "[FAIL] photo_20241030150800_1.json -> C:/Users/user/pythonproject/AllDataset/VAT-OCR\\triple_receipt\\label\\train_fail\\photo_20241030150800_1.json\n"
     ]
    },
    {
     "name": "stderr",
     "output_type": "stream",
     "text": [
      "Processing entries:  22%|██▏       | 349/1621 [1:58:59<5:52:36, 16.63s/it]"
     ]
    },
    {
     "name": "stdout",
     "output_type": "stream",
     "text": [
      "[FAIL] photo_20241030151225_1.json -> C:/Users/user/pythonproject/AllDataset/VAT-OCR\\triple_receipt\\label\\train_fail\\photo_20241030151225_1.json\n"
     ]
    },
    {
     "name": "stderr",
     "output_type": "stream",
     "text": [
      "Processing entries:  22%|██▏       | 350/1621 [1:59:14<5:42:50, 16.18s/it]"
     ]
    },
    {
     "name": "stdout",
     "output_type": "stream",
     "text": [
      "[FAIL] photo_20241030151530_1.json -> C:/Users/user/pythonproject/AllDataset/VAT-OCR\\triple_receipt\\label\\train_fail\\photo_20241030151530_1.json\n"
     ]
    },
    {
     "name": "stderr",
     "output_type": "stream",
     "text": [
      "Processing entries:  22%|██▏       | 351/1621 [1:59:31<5:42:57, 16.20s/it]"
     ]
    },
    {
     "name": "stdout",
     "output_type": "stream",
     "text": [
      "[OK] photo_20241030151726_1.json -> C:/Users/user/pythonproject/AllDataset/VAT-OCR\\triple_receipt\\label\\train_new\\photo_20241030151726_1.json\n"
     ]
    },
    {
     "name": "stderr",
     "output_type": "stream",
     "text": [
      "Processing entries:  22%|██▏       | 352/1621 [1:59:48<5:49:20, 16.52s/it]"
     ]
    },
    {
     "name": "stdout",
     "output_type": "stream",
     "text": [
      "[FAIL] photo_20241030151924_1.json -> C:/Users/user/pythonproject/AllDataset/VAT-OCR\\triple_receipt\\label\\train_fail\\photo_20241030151924_1.json\n"
     ]
    },
    {
     "name": "stderr",
     "output_type": "stream",
     "text": [
      "Processing entries:  22%|██▏       | 353/1621 [2:00:06<5:59:36, 17.02s/it]"
     ]
    },
    {
     "name": "stdout",
     "output_type": "stream",
     "text": [
      "[FAIL] photo_20241030152101_1.json -> C:/Users/user/pythonproject/AllDataset/VAT-OCR\\triple_receipt\\label\\train_fail\\photo_20241030152101_1.json\n"
     ]
    },
    {
     "name": "stderr",
     "output_type": "stream",
     "text": [
      "Processing entries:  22%|██▏       | 354/1621 [2:00:28<6:28:53, 18.42s/it]"
     ]
    },
    {
     "name": "stdout",
     "output_type": "stream",
     "text": [
      "[OK] photo_20241030152234_1.json -> C:/Users/user/pythonproject/AllDataset/VAT-OCR\\triple_receipt\\label\\train_new\\photo_20241030152234_1.json\n"
     ]
    },
    {
     "name": "stderr",
     "output_type": "stream",
     "text": [
      "Processing entries:  22%|██▏       | 355/1621 [2:00:48<6:38:56, 18.91s/it]"
     ]
    },
    {
     "name": "stdout",
     "output_type": "stream",
     "text": [
      "[OK] photo_20241030152414_1.json -> C:/Users/user/pythonproject/AllDataset/VAT-OCR\\triple_receipt\\label\\train_new\\photo_20241030152414_1.json\n"
     ]
    },
    {
     "name": "stderr",
     "output_type": "stream",
     "text": [
      "Processing entries:  22%|██▏       | 356/1621 [2:01:09<6:50:52, 19.49s/it]"
     ]
    },
    {
     "name": "stdout",
     "output_type": "stream",
     "text": [
      "[FAIL] photo_20241030152602_1.json -> C:/Users/user/pythonproject/AllDataset/VAT-OCR\\triple_receipt\\label\\train_fail\\photo_20241030152602_1.json\n"
     ]
    },
    {
     "name": "stderr",
     "output_type": "stream",
     "text": [
      "Processing entries:  22%|██▏       | 357/1621 [2:01:38<7:52:15, 22.42s/it]"
     ]
    },
    {
     "name": "stdout",
     "output_type": "stream",
     "text": [
      "[OK] photo_20241030152832_1.json -> C:/Users/user/pythonproject/AllDataset/VAT-OCR\\triple_receipt\\label\\train_new\\photo_20241030152832_1.json\n"
     ]
    },
    {
     "name": "stderr",
     "output_type": "stream",
     "text": [
      "Processing entries:  22%|██▏       | 358/1621 [2:02:07<8:33:33, 24.40s/it]"
     ]
    },
    {
     "name": "stdout",
     "output_type": "stream",
     "text": [
      "[OK] photo_20241030153222_1.json -> C:/Users/user/pythonproject/AllDataset/VAT-OCR\\triple_receipt\\label\\train_new\\photo_20241030153222_1.json\n"
     ]
    },
    {
     "name": "stderr",
     "output_type": "stream",
     "text": [
      "Processing entries:  22%|██▏       | 359/1621 [2:02:23<7:41:33, 21.94s/it]"
     ]
    },
    {
     "name": "stdout",
     "output_type": "stream",
     "text": [
      "[OK] photo_20241030153421_1.json -> C:/Users/user/pythonproject/AllDataset/VAT-OCR\\triple_receipt\\label\\train_new\\photo_20241030153421_1.json\n"
     ]
    },
    {
     "name": "stderr",
     "output_type": "stream",
     "text": [
      "Processing entries:  22%|██▏       | 360/1621 [2:02:39<7:05:36, 20.25s/it]"
     ]
    },
    {
     "name": "stdout",
     "output_type": "stream",
     "text": [
      "[OK] photo_20241030153645_1.json -> C:/Users/user/pythonproject/AllDataset/VAT-OCR\\triple_receipt\\label\\train_new\\photo_20241030153645_1.json\n"
     ]
    },
    {
     "name": "stderr",
     "output_type": "stream",
     "text": [
      "Processing entries:  22%|██▏       | 361/1621 [2:02:56<6:41:39, 19.13s/it]"
     ]
    },
    {
     "name": "stdout",
     "output_type": "stream",
     "text": [
      "[OK] photo_20241030153843_1.json -> C:/Users/user/pythonproject/AllDataset/VAT-OCR\\triple_receipt\\label\\train_new\\photo_20241030153843_1.json\n"
     ]
    },
    {
     "name": "stderr",
     "output_type": "stream",
     "text": [
      "Processing entries:  22%|██▏       | 362/1621 [2:03:13<6:29:53, 18.58s/it]"
     ]
    },
    {
     "name": "stdout",
     "output_type": "stream",
     "text": [
      "[OK] photo_20241030154105_1.json -> C:/Users/user/pythonproject/AllDataset/VAT-OCR\\triple_receipt\\label\\train_new\\photo_20241030154105_1.json\n"
     ]
    },
    {
     "name": "stderr",
     "output_type": "stream",
     "text": [
      "Processing entries:  22%|██▏       | 363/1621 [2:03:35<6:51:55, 19.65s/it]"
     ]
    },
    {
     "name": "stdout",
     "output_type": "stream",
     "text": [
      "[OK] photo_20241030154309_1.json -> C:/Users/user/pythonproject/AllDataset/VAT-OCR\\triple_receipt\\label\\train_new\\photo_20241030154309_1.json\n"
     ]
    },
    {
     "name": "stderr",
     "output_type": "stream",
     "text": [
      "Processing entries:  22%|██▏       | 364/1621 [2:03:55<6:50:26, 19.59s/it]"
     ]
    },
    {
     "name": "stdout",
     "output_type": "stream",
     "text": [
      "[FAIL] photo_20241030154438_1.json -> C:/Users/user/pythonproject/AllDataset/VAT-OCR\\triple_receipt\\label\\train_fail\\photo_20241030154438_1.json\n"
     ]
    },
    {
     "name": "stderr",
     "output_type": "stream",
     "text": [
      "Processing entries:  23%|██▎       | 365/1621 [2:04:11<6:27:51, 18.53s/it]"
     ]
    },
    {
     "name": "stdout",
     "output_type": "stream",
     "text": [
      "[FAIL] photo_20241030154726_1.json -> C:/Users/user/pythonproject/AllDataset/VAT-OCR\\triple_receipt\\label\\train_fail\\photo_20241030154726_1.json\n"
     ]
    },
    {
     "name": "stderr",
     "output_type": "stream",
     "text": [
      "Processing entries:  23%|██▎       | 366/1621 [2:04:33<6:48:58, 19.55s/it]"
     ]
    },
    {
     "name": "stdout",
     "output_type": "stream",
     "text": [
      "[OK] photo_20241030154913_1.json -> C:/Users/user/pythonproject/AllDataset/VAT-OCR\\triple_receipt\\label\\train_new\\photo_20241030154913_1.json\n"
     ]
    },
    {
     "name": "stderr",
     "output_type": "stream",
     "text": [
      "Processing entries:  23%|██▎       | 367/1621 [2:04:50<6:32:58, 18.80s/it]"
     ]
    },
    {
     "name": "stdout",
     "output_type": "stream",
     "text": [
      "[OK] photo_20241030155052_1.json -> C:/Users/user/pythonproject/AllDataset/VAT-OCR\\triple_receipt\\label\\train_new\\photo_20241030155052_1.json\n"
     ]
    },
    {
     "name": "stderr",
     "output_type": "stream",
     "text": [
      "Processing entries:  23%|██▎       | 368/1621 [2:05:07<6:22:35, 18.32s/it]"
     ]
    },
    {
     "name": "stdout",
     "output_type": "stream",
     "text": [
      "[FAIL] photo_20241030155317_1.json -> C:/Users/user/pythonproject/AllDataset/VAT-OCR\\triple_receipt\\label\\train_fail\\photo_20241030155317_1.json\n"
     ]
    },
    {
     "name": "stderr",
     "output_type": "stream",
     "text": [
      "Processing entries:  23%|██▎       | 369/1621 [2:05:27<6:32:41, 18.82s/it]"
     ]
    },
    {
     "name": "stdout",
     "output_type": "stream",
     "text": [
      "[OK] photo_20241030155544_1.json -> C:/Users/user/pythonproject/AllDataset/VAT-OCR\\triple_receipt\\label\\train_new\\photo_20241030155544_1.json\n"
     ]
    },
    {
     "name": "stderr",
     "output_type": "stream",
     "text": [
      "Processing entries:  23%|██▎       | 370/1621 [2:05:46<6:33:10, 18.86s/it]"
     ]
    },
    {
     "name": "stdout",
     "output_type": "stream",
     "text": [
      "[FAIL] photo_20241030155732_1.json -> C:/Users/user/pythonproject/AllDataset/VAT-OCR\\triple_receipt\\label\\train_fail\\photo_20241030155732_1.json\n"
     ]
    },
    {
     "name": "stderr",
     "output_type": "stream",
     "text": [
      "Processing entries:  23%|██▎       | 371/1621 [2:06:03<6:21:10, 18.30s/it]"
     ]
    },
    {
     "name": "stdout",
     "output_type": "stream",
     "text": [
      "[FAIL] photo_20241030155920_1.json -> C:/Users/user/pythonproject/AllDataset/VAT-OCR\\triple_receipt\\label\\train_fail\\photo_20241030155920_1.json\n"
     ]
    },
    {
     "name": "stderr",
     "output_type": "stream",
     "text": [
      "Processing entries:  23%|██▎       | 372/1621 [2:06:18<6:03:16, 17.45s/it]"
     ]
    },
    {
     "name": "stdout",
     "output_type": "stream",
     "text": [
      "[FAIL] photo_20241030160110_1.json -> C:/Users/user/pythonproject/AllDataset/VAT-OCR\\triple_receipt\\label\\train_fail\\photo_20241030160110_1.json\n"
     ]
    },
    {
     "name": "stderr",
     "output_type": "stream",
     "text": [
      "Processing entries:  23%|██▎       | 373/1621 [2:06:36<6:01:17, 17.37s/it]"
     ]
    },
    {
     "name": "stdout",
     "output_type": "stream",
     "text": [
      "[FAIL] photo_20241030160242_1.json -> C:/Users/user/pythonproject/AllDataset/VAT-OCR\\triple_receipt\\label\\train_fail\\photo_20241030160242_1.json\n"
     ]
    },
    {
     "name": "stderr",
     "output_type": "stream",
     "text": [
      "Processing entries:  23%|██▎       | 374/1621 [2:07:02<6:54:19, 19.94s/it]"
     ]
    },
    {
     "name": "stdout",
     "output_type": "stream",
     "text": [
      "[OK] photo_20241030160634_1.json -> C:/Users/user/pythonproject/AllDataset/VAT-OCR\\triple_receipt\\label\\train_new\\photo_20241030160634_1.json\n"
     ]
    },
    {
     "name": "stderr",
     "output_type": "stream",
     "text": [
      "Processing entries:  23%|██▎       | 375/1621 [2:07:27<7:25:21, 21.45s/it]"
     ]
    },
    {
     "name": "stdout",
     "output_type": "stream",
     "text": [
      "[OK] photo_20241030160755_1.json -> C:/Users/user/pythonproject/AllDataset/VAT-OCR\\triple_receipt\\label\\train_new\\photo_20241030160755_1.json\n"
     ]
    },
    {
     "name": "stderr",
     "output_type": "stream",
     "text": [
      "Processing entries:  23%|██▎       | 376/1621 [2:07:54<8:01:05, 23.19s/it]"
     ]
    },
    {
     "name": "stdout",
     "output_type": "stream",
     "text": [
      "[OK] photo_20241030160917_1.json -> C:/Users/user/pythonproject/AllDataset/VAT-OCR\\triple_receipt\\label\\train_new\\photo_20241030160917_1.json\n"
     ]
    },
    {
     "name": "stderr",
     "output_type": "stream",
     "text": [
      "Processing entries:  23%|██▎       | 377/1621 [2:08:15<7:47:06, 22.53s/it]"
     ]
    },
    {
     "name": "stdout",
     "output_type": "stream",
     "text": [
      "[OK] photo_20241030161048_1.json -> C:/Users/user/pythonproject/AllDataset/VAT-OCR\\triple_receipt\\label\\train_new\\photo_20241030161048_1.json\n"
     ]
    },
    {
     "name": "stderr",
     "output_type": "stream",
     "text": [
      "Processing entries:  23%|██▎       | 378/1621 [2:08:38<7:49:00, 22.64s/it]"
     ]
    },
    {
     "name": "stdout",
     "output_type": "stream",
     "text": [
      "[OK] photo_20241030161208_1.json -> C:/Users/user/pythonproject/AllDataset/VAT-OCR\\triple_receipt\\label\\train_new\\photo_20241030161208_1.json\n"
     ]
    },
    {
     "name": "stderr",
     "output_type": "stream",
     "text": [
      "Processing entries:  23%|██▎       | 379/1621 [2:08:57<7:26:52, 21.59s/it]"
     ]
    },
    {
     "name": "stdout",
     "output_type": "stream",
     "text": [
      "[OK] photo_20241030161319_1.json -> C:/Users/user/pythonproject/AllDataset/VAT-OCR\\triple_receipt\\label\\train_new\\photo_20241030161319_1.json\n"
     ]
    },
    {
     "name": "stderr",
     "output_type": "stream",
     "text": [
      "Processing entries:  23%|██▎       | 380/1621 [2:09:19<7:28:53, 21.70s/it]"
     ]
    },
    {
     "name": "stdout",
     "output_type": "stream",
     "text": [
      "[OK] photo_20241030161434_1.json -> C:/Users/user/pythonproject/AllDataset/VAT-OCR\\triple_receipt\\label\\train_new\\photo_20241030161434_1.json\n"
     ]
    },
    {
     "name": "stderr",
     "output_type": "stream",
     "text": [
      "Processing entries:  24%|██▎       | 381/1621 [2:09:32<6:34:54, 19.11s/it]"
     ]
    },
    {
     "name": "stdout",
     "output_type": "stream",
     "text": [
      "[FAIL] photo_20241030161543_1.json -> C:/Users/user/pythonproject/AllDataset/VAT-OCR\\triple_receipt\\label\\train_fail\\photo_20241030161543_1.json\n"
     ]
    },
    {
     "name": "stderr",
     "output_type": "stream",
     "text": [
      "Processing entries:  24%|██▎       | 382/1621 [2:09:57<7:13:34, 21.00s/it]"
     ]
    },
    {
     "name": "stdout",
     "output_type": "stream",
     "text": [
      "[FAIL] photo_20241030161700_1.json -> C:/Users/user/pythonproject/AllDataset/VAT-OCR\\triple_receipt\\label\\train_fail\\photo_20241030161700_1.json\n"
     ]
    },
    {
     "name": "stderr",
     "output_type": "stream",
     "text": [
      "Processing entries:  24%|██▎       | 383/1621 [2:10:20<7:23:58, 21.52s/it]"
     ]
    },
    {
     "name": "stdout",
     "output_type": "stream",
     "text": [
      "[FAIL] photo_20241030161828_1.json -> C:/Users/user/pythonproject/AllDataset/VAT-OCR\\triple_receipt\\label\\train_fail\\photo_20241030161828_1.json\n"
     ]
    },
    {
     "name": "stderr",
     "output_type": "stream",
     "text": [
      "Processing entries:  24%|██▎       | 384/1621 [2:10:32<6:26:18, 18.74s/it]"
     ]
    },
    {
     "name": "stdout",
     "output_type": "stream",
     "text": [
      "[FAIL] photo_20241030161938_1.json -> C:/Users/user/pythonproject/AllDataset/VAT-OCR\\triple_receipt\\label\\train_fail\\photo_20241030161938_1.json\n"
     ]
    },
    {
     "name": "stderr",
     "output_type": "stream",
     "text": [
      "Processing entries:  24%|██▍       | 385/1621 [2:10:54<6:44:20, 19.63s/it]"
     ]
    },
    {
     "name": "stdout",
     "output_type": "stream",
     "text": [
      "[FAIL] photo_20241030162145_1.json -> C:/Users/user/pythonproject/AllDataset/VAT-OCR\\triple_receipt\\label\\train_fail\\photo_20241030162145_1.json\n"
     ]
    },
    {
     "name": "stderr",
     "output_type": "stream",
     "text": [
      "Processing entries:  24%|██▍       | 386/1621 [2:11:16<6:58:02, 20.31s/it]"
     ]
    },
    {
     "name": "stdout",
     "output_type": "stream",
     "text": [
      "[FAIL] photo_20241030162247_1.json -> C:/Users/user/pythonproject/AllDataset/VAT-OCR\\triple_receipt\\label\\train_fail\\photo_20241030162247_1.json\n"
     ]
    },
    {
     "name": "stderr",
     "output_type": "stream",
     "text": [
      "Processing entries:  24%|██▍       | 387/1621 [2:11:38<7:12:04, 21.01s/it]"
     ]
    },
    {
     "name": "stdout",
     "output_type": "stream",
     "text": [
      "[OK] photo_20241030162407_1.json -> C:/Users/user/pythonproject/AllDataset/VAT-OCR\\triple_receipt\\label\\train_new\\photo_20241030162407_1.json\n"
     ]
    },
    {
     "name": "stderr",
     "output_type": "stream",
     "text": [
      "Processing entries:  24%|██▍       | 388/1621 [2:12:04<7:40:40, 22.42s/it]"
     ]
    },
    {
     "name": "stdout",
     "output_type": "stream",
     "text": [
      "[OK] photo_20241030162610_1.json -> C:/Users/user/pythonproject/AllDataset/VAT-OCR\\triple_receipt\\label\\train_new\\photo_20241030162610_1.json\n"
     ]
    },
    {
     "name": "stderr",
     "output_type": "stream",
     "text": [
      "Processing entries:  24%|██▍       | 389/1621 [2:12:29<7:56:09, 23.19s/it]"
     ]
    },
    {
     "name": "stdout",
     "output_type": "stream",
     "text": [
      "[OK] photo_20241030162717_2.json -> C:/Users/user/pythonproject/AllDataset/VAT-OCR\\triple_receipt\\label\\train_new\\photo_20241030162717_2.json\n"
     ]
    },
    {
     "name": "stderr",
     "output_type": "stream",
     "text": [
      "Processing entries:  24%|██▍       | 390/1621 [2:12:54<8:06:02, 23.69s/it]"
     ]
    },
    {
     "name": "stdout",
     "output_type": "stream",
     "text": [
      "[FAIL] photo_20241030162850_1.json -> C:/Users/user/pythonproject/AllDataset/VAT-OCR\\triple_receipt\\label\\train_fail\\photo_20241030162850_1.json\n"
     ]
    },
    {
     "name": "stderr",
     "output_type": "stream",
     "text": [
      "Processing entries:  24%|██▍       | 391/1621 [2:13:16<7:53:34, 23.10s/it]"
     ]
    },
    {
     "name": "stdout",
     "output_type": "stream",
     "text": [
      "[FAIL] photo_20241030163009_1.json -> C:/Users/user/pythonproject/AllDataset/VAT-OCR\\triple_receipt\\label\\train_fail\\photo_20241030163009_1.json\n"
     ]
    },
    {
     "name": "stderr",
     "output_type": "stream",
     "text": [
      "Processing entries:  24%|██▍       | 392/1621 [2:13:32<7:13:41, 21.17s/it]"
     ]
    },
    {
     "name": "stdout",
     "output_type": "stream",
     "text": [
      "[FAIL] photo_20241030163137_2.json -> C:/Users/user/pythonproject/AllDataset/VAT-OCR\\triple_receipt\\label\\train_fail\\photo_20241030163137_2.json\n"
     ]
    },
    {
     "name": "stderr",
     "output_type": "stream",
     "text": [
      "Processing entries:  24%|██▍       | 393/1621 [2:13:50<6:52:32, 20.16s/it]"
     ]
    },
    {
     "name": "stdout",
     "output_type": "stream",
     "text": [
      "[FAIL] photo_20241030163350_1.json -> C:/Users/user/pythonproject/AllDataset/VAT-OCR\\triple_receipt\\label\\train_fail\\photo_20241030163350_1.json\n"
     ]
    },
    {
     "name": "stderr",
     "output_type": "stream",
     "text": [
      "Processing entries:  24%|██▍       | 394/1621 [2:14:11<6:54:27, 20.27s/it]"
     ]
    },
    {
     "name": "stdout",
     "output_type": "stream",
     "text": [
      "[FAIL] photo_20241030163513_1.json -> C:/Users/user/pythonproject/AllDataset/VAT-OCR\\triple_receipt\\label\\train_fail\\photo_20241030163513_1.json\n"
     ]
    },
    {
     "name": "stderr",
     "output_type": "stream",
     "text": [
      "Processing entries:  24%|██▍       | 395/1621 [2:14:26<6:24:34, 18.82s/it]"
     ]
    },
    {
     "name": "stdout",
     "output_type": "stream",
     "text": [
      "[FAIL] photo_20241030163708_1.json -> C:/Users/user/pythonproject/AllDataset/VAT-OCR\\triple_receipt\\label\\train_fail\\photo_20241030163708_1.json\n"
     ]
    },
    {
     "name": "stderr",
     "output_type": "stream",
     "text": [
      "Processing entries:  24%|██▍       | 396/1621 [2:14:44<6:20:15, 18.62s/it]"
     ]
    },
    {
     "name": "stdout",
     "output_type": "stream",
     "text": [
      "[OK] photo_20241030164039_1.json -> C:/Users/user/pythonproject/AllDataset/VAT-OCR\\triple_receipt\\label\\train_new\\photo_20241030164039_1.json\n"
     ]
    },
    {
     "name": "stderr",
     "output_type": "stream",
     "text": [
      "Processing entries:  24%|██▍       | 397/1621 [2:15:04<6:27:44, 19.01s/it]"
     ]
    },
    {
     "name": "stdout",
     "output_type": "stream",
     "text": [
      "[OK] photo_20241030164206_1.json -> C:/Users/user/pythonproject/AllDataset/VAT-OCR\\triple_receipt\\label\\train_new\\photo_20241030164206_1.json\n"
     ]
    },
    {
     "name": "stderr",
     "output_type": "stream",
     "text": [
      "Processing entries:  25%|██▍       | 398/1621 [2:15:23<6:26:44, 18.97s/it]"
     ]
    },
    {
     "name": "stdout",
     "output_type": "stream",
     "text": [
      "[FAIL] photo_20241030164342_1.json -> C:/Users/user/pythonproject/AllDataset/VAT-OCR\\triple_receipt\\label\\train_fail\\photo_20241030164342_1.json\n"
     ]
    },
    {
     "name": "stderr",
     "output_type": "stream",
     "text": [
      "Processing entries:  25%|██▍       | 399/1621 [2:15:45<6:41:55, 19.73s/it]"
     ]
    },
    {
     "name": "stdout",
     "output_type": "stream",
     "text": [
      "[OK] photo_20241030164552_1.json -> C:/Users/user/pythonproject/AllDataset/VAT-OCR\\triple_receipt\\label\\train_new\\photo_20241030164552_1.json\n"
     ]
    },
    {
     "name": "stderr",
     "output_type": "stream",
     "text": [
      "Processing entries:  25%|██▍       | 400/1621 [2:16:04<6:38:33, 19.59s/it]"
     ]
    },
    {
     "name": "stdout",
     "output_type": "stream",
     "text": [
      "[FAIL] photo_20241031015916_1.json -> C:/Users/user/pythonproject/AllDataset/VAT-OCR\\triple_receipt\\label\\train_fail\\photo_20241031015916_1.json\n"
     ]
    },
    {
     "name": "stderr",
     "output_type": "stream",
     "text": [
      "Processing entries:  25%|██▍       | 401/1621 [2:16:27<6:57:52, 20.55s/it]"
     ]
    },
    {
     "name": "stdout",
     "output_type": "stream",
     "text": [
      "[OK] photo_20241031020119_1.json -> C:/Users/user/pythonproject/AllDataset/VAT-OCR\\triple_receipt\\label\\train_new\\photo_20241031020119_1.json\n"
     ]
    },
    {
     "name": "stderr",
     "output_type": "stream",
     "text": [
      "Processing entries:  25%|██▍       | 402/1621 [2:16:51<7:18:37, 21.59s/it]"
     ]
    },
    {
     "name": "stdout",
     "output_type": "stream",
     "text": [
      "[OK] photo_20241031020417_1.json -> C:/Users/user/pythonproject/AllDataset/VAT-OCR\\triple_receipt\\label\\train_new\\photo_20241031020417_1.json\n"
     ]
    },
    {
     "name": "stderr",
     "output_type": "stream",
     "text": [
      "Processing entries:  25%|██▍       | 403/1621 [2:17:11<7:10:09, 21.19s/it]"
     ]
    },
    {
     "name": "stdout",
     "output_type": "stream",
     "text": [
      "[FAIL] photo_20241031020603_1.json -> C:/Users/user/pythonproject/AllDataset/VAT-OCR\\triple_receipt\\label\\train_fail\\photo_20241031020603_1.json\n"
     ]
    },
    {
     "name": "stderr",
     "output_type": "stream",
     "text": [
      "Processing entries:  25%|██▍       | 404/1621 [2:17:27<6:40:39, 19.75s/it]"
     ]
    },
    {
     "name": "stdout",
     "output_type": "stream",
     "text": [
      "[FAIL] photo_20241031020946_1.json -> C:/Users/user/pythonproject/AllDataset/VAT-OCR\\triple_receipt\\label\\train_fail\\photo_20241031020946_1.json\n"
     ]
    },
    {
     "name": "stderr",
     "output_type": "stream",
     "text": [
      "Processing entries:  25%|██▍       | 405/1621 [2:17:43<6:17:59, 18.65s/it]"
     ]
    },
    {
     "name": "stdout",
     "output_type": "stream",
     "text": [
      "[OK] photo_20241031021208_1.json -> C:/Users/user/pythonproject/AllDataset/VAT-OCR\\triple_receipt\\label\\train_new\\photo_20241031021208_1.json\n"
     ]
    },
    {
     "name": "stderr",
     "output_type": "stream",
     "text": [
      "Processing entries:  25%|██▌       | 406/1621 [2:18:03<6:21:01, 18.82s/it]"
     ]
    },
    {
     "name": "stdout",
     "output_type": "stream",
     "text": [
      "[FAIL] photo_20241031021401_1.json -> C:/Users/user/pythonproject/AllDataset/VAT-OCR\\triple_receipt\\label\\train_fail\\photo_20241031021401_1.json\n"
     ]
    },
    {
     "name": "stderr",
     "output_type": "stream",
     "text": [
      "Processing entries:  25%|██▌       | 407/1621 [2:18:19<6:06:22, 18.11s/it]"
     ]
    },
    {
     "name": "stdout",
     "output_type": "stream",
     "text": [
      "[FAIL] photo_20241031021602_1.json -> C:/Users/user/pythonproject/AllDataset/VAT-OCR\\triple_receipt\\label\\train_fail\\photo_20241031021602_1.json\n"
     ]
    },
    {
     "name": "stderr",
     "output_type": "stream",
     "text": [
      "Processing entries:  25%|██▌       | 408/1621 [2:18:40<6:20:31, 18.82s/it]"
     ]
    },
    {
     "name": "stdout",
     "output_type": "stream",
     "text": [
      "[FAIL] photo_20241031021813_1.json -> C:/Users/user/pythonproject/AllDataset/VAT-OCR\\triple_receipt\\label\\train_fail\\photo_20241031021813_1.json\n"
     ]
    },
    {
     "name": "stderr",
     "output_type": "stream",
     "text": [
      "Processing entries:  25%|██▌       | 409/1621 [2:19:00<6:32:06, 19.41s/it]"
     ]
    },
    {
     "name": "stdout",
     "output_type": "stream",
     "text": [
      "[FAIL] photo_20241031022003_1.json -> C:/Users/user/pythonproject/AllDataset/VAT-OCR\\triple_receipt\\label\\train_fail\\photo_20241031022003_1.json\n"
     ]
    },
    {
     "name": "stderr",
     "output_type": "stream",
     "text": [
      "Processing entries:  25%|██▌       | 410/1621 [2:19:15<6:05:15, 18.10s/it]"
     ]
    },
    {
     "name": "stdout",
     "output_type": "stream",
     "text": [
      "[FAIL] photo_20241031022136_1.json -> C:/Users/user/pythonproject/AllDataset/VAT-OCR\\triple_receipt\\label\\train_fail\\photo_20241031022136_1.json\n"
     ]
    },
    {
     "name": "stderr",
     "output_type": "stream",
     "text": [
      "Processing entries:  25%|██▌       | 411/1621 [2:19:31<5:47:22, 17.23s/it]"
     ]
    },
    {
     "name": "stdout",
     "output_type": "stream",
     "text": [
      "[FAIL] photo_20241031022322_1.json -> C:/Users/user/pythonproject/AllDataset/VAT-OCR\\triple_receipt\\label\\train_fail\\photo_20241031022322_1.json\n"
     ]
    },
    {
     "name": "stderr",
     "output_type": "stream",
     "text": [
      "Processing entries:  25%|██▌       | 412/1621 [2:19:47<5:42:29, 17.00s/it]"
     ]
    },
    {
     "name": "stdout",
     "output_type": "stream",
     "text": [
      "[FAIL] photo_20241031022629_1.json -> C:/Users/user/pythonproject/AllDataset/VAT-OCR\\triple_receipt\\label\\train_fail\\photo_20241031022629_1.json\n"
     ]
    },
    {
     "name": "stderr",
     "output_type": "stream",
     "text": [
      "Processing entries:  25%|██▌       | 413/1621 [2:20:06<5:53:45, 17.57s/it]"
     ]
    },
    {
     "name": "stdout",
     "output_type": "stream",
     "text": [
      "[FAIL] photo_20241031022844_1.json -> C:/Users/user/pythonproject/AllDataset/VAT-OCR\\triple_receipt\\label\\train_fail\\photo_20241031022844_1.json\n"
     ]
    },
    {
     "name": "stderr",
     "output_type": "stream",
     "text": [
      "Processing entries:  26%|██▌       | 414/1621 [2:20:32<6:46:07, 20.19s/it]"
     ]
    },
    {
     "name": "stdout",
     "output_type": "stream",
     "text": [
      "[FAIL] photo_20241031023029_1.json -> C:/Users/user/pythonproject/AllDataset/VAT-OCR\\triple_receipt\\label\\train_fail\\photo_20241031023029_1.json\n"
     ]
    },
    {
     "name": "stderr",
     "output_type": "stream",
     "text": [
      "Processing entries:  26%|██▌       | 415/1621 [2:20:48<6:19:56, 18.90s/it]"
     ]
    },
    {
     "name": "stdout",
     "output_type": "stream",
     "text": [
      "[FAIL] photo_20241031023318_1.json -> C:/Users/user/pythonproject/AllDataset/VAT-OCR\\triple_receipt\\label\\train_fail\\photo_20241031023318_1.json\n"
     ]
    },
    {
     "name": "stderr",
     "output_type": "stream",
     "text": [
      "Processing entries:  26%|██▌       | 416/1621 [2:21:04<6:04:00, 18.12s/it]"
     ]
    },
    {
     "name": "stdout",
     "output_type": "stream",
     "text": [
      "[OK] photo_20241031023550_1.json -> C:/Users/user/pythonproject/AllDataset/VAT-OCR\\triple_receipt\\label\\train_new\\photo_20241031023550_1.json\n"
     ]
    },
    {
     "name": "stderr",
     "output_type": "stream",
     "text": [
      "Processing entries:  26%|██▌       | 417/1621 [2:21:21<5:51:23, 17.51s/it]"
     ]
    },
    {
     "name": "stdout",
     "output_type": "stream",
     "text": [
      "[FAIL] photo_20241031023731_1.json -> C:/Users/user/pythonproject/AllDataset/VAT-OCR\\triple_receipt\\label\\train_fail\\photo_20241031023731_1.json\n"
     ]
    },
    {
     "name": "stderr",
     "output_type": "stream",
     "text": [
      "Processing entries:  26%|██▌       | 418/1621 [2:21:38<5:51:03, 17.51s/it]"
     ]
    },
    {
     "name": "stdout",
     "output_type": "stream",
     "text": [
      "[OK] photo_20241031024007_1.json -> C:/Users/user/pythonproject/AllDataset/VAT-OCR\\triple_receipt\\label\\train_new\\photo_20241031024007_1.json\n"
     ]
    },
    {
     "name": "stderr",
     "output_type": "stream",
     "text": [
      "Processing entries:  26%|██▌       | 419/1621 [2:21:55<5:46:43, 17.31s/it]"
     ]
    },
    {
     "name": "stdout",
     "output_type": "stream",
     "text": [
      "[FAIL] photo_20241031024247_1.json -> C:/Users/user/pythonproject/AllDataset/VAT-OCR\\triple_receipt\\label\\train_fail\\photo_20241031024247_1.json\n"
     ]
    },
    {
     "name": "stderr",
     "output_type": "stream",
     "text": [
      "Processing entries:  26%|██▌       | 420/1621 [2:22:12<5:46:06, 17.29s/it]"
     ]
    },
    {
     "name": "stdout",
     "output_type": "stream",
     "text": [
      "[FAIL] photo_20241031024915_1.json -> C:/Users/user/pythonproject/AllDataset/VAT-OCR\\triple_receipt\\label\\train_fail\\photo_20241031024915_1.json\n"
     ]
    },
    {
     "name": "stderr",
     "output_type": "stream",
     "text": [
      "Processing entries:  26%|██▌       | 421/1621 [2:22:30<5:48:56, 17.45s/it]"
     ]
    },
    {
     "name": "stdout",
     "output_type": "stream",
     "text": [
      "[FAIL] photo_20241031025137_1.json -> C:/Users/user/pythonproject/AllDataset/VAT-OCR\\triple_receipt\\label\\train_fail\\photo_20241031025137_1.json\n"
     ]
    },
    {
     "name": "stderr",
     "output_type": "stream",
     "text": [
      "Processing entries:  26%|██▌       | 422/1621 [2:22:51<6:08:15, 18.43s/it]"
     ]
    },
    {
     "name": "stdout",
     "output_type": "stream",
     "text": [
      "[FAIL] photo_20241031025403_1.json -> C:/Users/user/pythonproject/AllDataset/VAT-OCR\\triple_receipt\\label\\train_fail\\photo_20241031025403_1.json\n"
     ]
    },
    {
     "name": "stderr",
     "output_type": "stream",
     "text": [
      "Processing entries:  26%|██▌       | 423/1621 [2:23:12<6:24:29, 19.26s/it]"
     ]
    },
    {
     "name": "stdout",
     "output_type": "stream",
     "text": [
      "[FAIL] photo_20241031025540_1.json -> C:/Users/user/pythonproject/AllDataset/VAT-OCR\\triple_receipt\\label\\train_fail\\photo_20241031025540_1.json\n"
     ]
    },
    {
     "name": "stderr",
     "output_type": "stream",
     "text": [
      "Processing entries:  26%|██▌       | 424/1621 [2:23:30<6:14:21, 18.77s/it]"
     ]
    },
    {
     "name": "stdout",
     "output_type": "stream",
     "text": [
      "[FAIL] photo_20241031025719_1.json -> C:/Users/user/pythonproject/AllDataset/VAT-OCR\\triple_receipt\\label\\train_fail\\photo_20241031025719_1.json\n"
     ]
    },
    {
     "name": "stderr",
     "output_type": "stream",
     "text": [
      "Processing entries:  26%|██▌       | 425/1621 [2:23:49<6:16:02, 18.86s/it]"
     ]
    },
    {
     "name": "stdout",
     "output_type": "stream",
     "text": [
      "[FAIL] photo_20241031025837_1.json -> C:/Users/user/pythonproject/AllDataset/VAT-OCR\\triple_receipt\\label\\train_fail\\photo_20241031025837_1.json\n"
     ]
    },
    {
     "name": "stderr",
     "output_type": "stream",
     "text": [
      "Processing entries:  26%|██▋       | 426/1621 [2:24:07<6:11:50, 18.67s/it]"
     ]
    },
    {
     "name": "stdout",
     "output_type": "stream",
     "text": [
      "[FAIL] photo_20241031030017_1.json -> C:/Users/user/pythonproject/AllDataset/VAT-OCR\\triple_receipt\\label\\train_fail\\photo_20241031030017_1.json\n"
     ]
    },
    {
     "name": "stderr",
     "output_type": "stream",
     "text": [
      "Processing entries:  26%|██▋       | 427/1621 [2:24:24<6:03:14, 18.25s/it]"
     ]
    },
    {
     "name": "stdout",
     "output_type": "stream",
     "text": [
      "[OK] photo_20241031030153_1.json -> C:/Users/user/pythonproject/AllDataset/VAT-OCR\\triple_receipt\\label\\train_new\\photo_20241031030153_1.json\n"
     ]
    },
    {
     "name": "stderr",
     "output_type": "stream",
     "text": [
      "Processing entries:  26%|██▋       | 428/1621 [2:24:42<6:02:12, 18.22s/it]"
     ]
    },
    {
     "name": "stdout",
     "output_type": "stream",
     "text": [
      "[FAIL] photo_20241031030309_1.json -> C:/Users/user/pythonproject/AllDataset/VAT-OCR\\triple_receipt\\label\\train_fail\\photo_20241031030309_1.json\n"
     ]
    },
    {
     "name": "stderr",
     "output_type": "stream",
     "text": [
      "Processing entries:  26%|██▋       | 429/1621 [2:25:00<6:01:23, 18.19s/it]"
     ]
    },
    {
     "name": "stdout",
     "output_type": "stream",
     "text": [
      "[OK] photo_20241031030448_1.json -> C:/Users/user/pythonproject/AllDataset/VAT-OCR\\triple_receipt\\label\\train_new\\photo_20241031030448_1.json\n"
     ]
    },
    {
     "name": "stderr",
     "output_type": "stream",
     "text": [
      "Processing entries:  27%|██▋       | 430/1621 [2:25:18<5:55:20, 17.90s/it]"
     ]
    },
    {
     "name": "stdout",
     "output_type": "stream",
     "text": [
      "[OK] photo_20241031030624_1.json -> C:/Users/user/pythonproject/AllDataset/VAT-OCR\\triple_receipt\\label\\train_new\\photo_20241031030624_1.json\n"
     ]
    },
    {
     "name": "stderr",
     "output_type": "stream",
     "text": [
      "Processing entries:  27%|██▋       | 431/1621 [2:25:40<6:24:18, 19.38s/it]"
     ]
    },
    {
     "name": "stdout",
     "output_type": "stream",
     "text": [
      "[OK] photo_20241031030743_1.json -> C:/Users/user/pythonproject/AllDataset/VAT-OCR\\triple_receipt\\label\\train_new\\photo_20241031030743_1.json\n"
     ]
    },
    {
     "name": "stderr",
     "output_type": "stream",
     "text": [
      "Processing entries:  27%|██▋       | 432/1621 [2:26:06<7:01:09, 21.25s/it]"
     ]
    },
    {
     "name": "stdout",
     "output_type": "stream",
     "text": [
      "[OK] photo_20241031030920_1.json -> C:/Users/user/pythonproject/AllDataset/VAT-OCR\\triple_receipt\\label\\train_new\\photo_20241031030920_1.json\n"
     ]
    },
    {
     "name": "stderr",
     "output_type": "stream",
     "text": [
      "Processing entries:  27%|██▋       | 433/1621 [2:26:22<6:30:04, 19.70s/it]"
     ]
    },
    {
     "name": "stdout",
     "output_type": "stream",
     "text": [
      "[OK] photo_20241031031136_1.json -> C:/Users/user/pythonproject/AllDataset/VAT-OCR\\triple_receipt\\label\\train_new\\photo_20241031031136_1.json\n"
     ]
    },
    {
     "name": "stderr",
     "output_type": "stream",
     "text": [
      "Processing entries:  27%|██▋       | 434/1621 [2:26:46<6:56:38, 21.06s/it]"
     ]
    },
    {
     "name": "stdout",
     "output_type": "stream",
     "text": [
      "[OK] photo_20241031031241_1.json -> C:/Users/user/pythonproject/AllDataset/VAT-OCR\\triple_receipt\\label\\train_new\\photo_20241031031241_1.json\n"
     ]
    },
    {
     "name": "stderr",
     "output_type": "stream",
     "text": [
      "Processing entries:  27%|██▋       | 435/1621 [2:27:09<7:07:57, 21.65s/it]"
     ]
    },
    {
     "name": "stdout",
     "output_type": "stream",
     "text": [
      "[OK] photo_20241031031401_1.json -> C:/Users/user/pythonproject/AllDataset/VAT-OCR\\triple_receipt\\label\\train_new\\photo_20241031031401_1.json\n"
     ]
    },
    {
     "name": "stderr",
     "output_type": "stream",
     "text": [
      "Processing entries:  27%|██▋       | 436/1621 [2:27:32<7:11:02, 21.82s/it]"
     ]
    },
    {
     "name": "stdout",
     "output_type": "stream",
     "text": [
      "[OK] photo_20241031031519_1.json -> C:/Users/user/pythonproject/AllDataset/VAT-OCR\\triple_receipt\\label\\train_new\\photo_20241031031519_1.json\n"
     ]
    },
    {
     "name": "stderr",
     "output_type": "stream",
     "text": [
      "Processing entries:  27%|██▋       | 437/1621 [2:27:57<7:31:57, 22.90s/it]"
     ]
    },
    {
     "name": "stdout",
     "output_type": "stream",
     "text": [
      "[OK] photo_20241031031651_1.json -> C:/Users/user/pythonproject/AllDataset/VAT-OCR\\triple_receipt\\label\\train_new\\photo_20241031031651_1.json\n"
     ]
    },
    {
     "name": "stderr",
     "output_type": "stream",
     "text": [
      "Processing entries:  27%|██▋       | 438/1621 [2:28:20<7:34:20, 23.04s/it]"
     ]
    },
    {
     "name": "stdout",
     "output_type": "stream",
     "text": [
      "[OK] photo_20241031031828_1.json -> C:/Users/user/pythonproject/AllDataset/VAT-OCR\\triple_receipt\\label\\train_new\\photo_20241031031828_1.json\n"
     ]
    },
    {
     "name": "stderr",
     "output_type": "stream",
     "text": [
      "Processing entries:  27%|██▋       | 439/1621 [2:28:42<7:25:03, 22.59s/it]"
     ]
    },
    {
     "name": "stdout",
     "output_type": "stream",
     "text": [
      "[OK] photo_20241031031935_1.json -> C:/Users/user/pythonproject/AllDataset/VAT-OCR\\triple_receipt\\label\\train_new\\photo_20241031031935_1.json\n"
     ]
    },
    {
     "name": "stderr",
     "output_type": "stream",
     "text": [
      "Processing entries:  27%|██▋       | 440/1621 [2:29:06<7:31:05, 22.92s/it]"
     ]
    },
    {
     "name": "stdout",
     "output_type": "stream",
     "text": [
      "[OK] photo_20241031032056_1.json -> C:/Users/user/pythonproject/AllDataset/VAT-OCR\\triple_receipt\\label\\train_new\\photo_20241031032056_1.json\n"
     ]
    },
    {
     "name": "stderr",
     "output_type": "stream",
     "text": [
      "Processing entries:  27%|██▋       | 441/1621 [2:29:19<6:36:18, 20.15s/it]"
     ]
    },
    {
     "name": "stdout",
     "output_type": "stream",
     "text": [
      "[OK] photo_20241031032202_1.json -> C:/Users/user/pythonproject/AllDataset/VAT-OCR\\triple_receipt\\label\\train_new\\photo_20241031032202_1.json\n"
     ]
    },
    {
     "name": "stderr",
     "output_type": "stream",
     "text": [
      "Processing entries:  27%|██▋       | 442/1621 [2:29:43<6:57:26, 21.24s/it]"
     ]
    },
    {
     "name": "stdout",
     "output_type": "stream",
     "text": [
      "[OK] photo_20241031032313_1.json -> C:/Users/user/pythonproject/AllDataset/VAT-OCR\\triple_receipt\\label\\train_new\\photo_20241031032313_1.json\n"
     ]
    },
    {
     "name": "stderr",
     "output_type": "stream",
     "text": [
      "Processing entries:  27%|██▋       | 443/1621 [2:30:02<6:42:51, 20.52s/it]"
     ]
    },
    {
     "name": "stdout",
     "output_type": "stream",
     "text": [
      "[OK] photo_20241031032419_1.json -> C:/Users/user/pythonproject/AllDataset/VAT-OCR\\triple_receipt\\label\\train_new\\photo_20241031032419_1.json\n"
     ]
    },
    {
     "name": "stderr",
     "output_type": "stream",
     "text": [
      "Processing entries:  27%|██▋       | 444/1621 [2:30:20<6:29:26, 19.85s/it]"
     ]
    },
    {
     "name": "stdout",
     "output_type": "stream",
     "text": [
      "[OK] photo_20241031032532_1.json -> C:/Users/user/pythonproject/AllDataset/VAT-OCR\\triple_receipt\\label\\train_new\\photo_20241031032532_1.json\n"
     ]
    },
    {
     "name": "stderr",
     "output_type": "stream",
     "text": [
      "Processing entries:  27%|██▋       | 445/1621 [2:30:35<5:59:31, 18.34s/it]"
     ]
    },
    {
     "name": "stdout",
     "output_type": "stream",
     "text": [
      "[OK] photo_20241031032636_1.json -> C:/Users/user/pythonproject/AllDataset/VAT-OCR\\triple_receipt\\label\\train_new\\photo_20241031032636_1.json\n"
     ]
    },
    {
     "name": "stderr",
     "output_type": "stream",
     "text": [
      "Processing entries:  28%|██▊       | 446/1621 [2:30:56<6:12:31, 19.02s/it]"
     ]
    },
    {
     "name": "stdout",
     "output_type": "stream",
     "text": [
      "[OK] photo_20241031032812_1.json -> C:/Users/user/pythonproject/AllDataset/VAT-OCR\\triple_receipt\\label\\train_new\\photo_20241031032812_1.json\n"
     ]
    },
    {
     "name": "stderr",
     "output_type": "stream",
     "text": [
      "Processing entries:  28%|██▊       | 447/1621 [2:31:12<5:54:46, 18.13s/it]"
     ]
    },
    {
     "name": "stdout",
     "output_type": "stream",
     "text": [
      "[OK] photo_20241031032931_1.json -> C:/Users/user/pythonproject/AllDataset/VAT-OCR\\triple_receipt\\label\\train_new\\photo_20241031032931_1.json\n"
     ]
    },
    {
     "name": "stderr",
     "output_type": "stream",
     "text": [
      "Processing entries:  28%|██▊       | 448/1621 [2:31:25<5:28:22, 16.80s/it]"
     ]
    },
    {
     "name": "stdout",
     "output_type": "stream",
     "text": [
      "[OK] photo_20241031033041_1.json -> C:/Users/user/pythonproject/AllDataset/VAT-OCR\\triple_receipt\\label\\train_new\\photo_20241031033041_1.json\n"
     ]
    },
    {
     "name": "stderr",
     "output_type": "stream",
     "text": [
      "Processing entries:  28%|██▊       | 449/1621 [2:31:40<5:16:23, 16.20s/it]"
     ]
    },
    {
     "name": "stdout",
     "output_type": "stream",
     "text": [
      "[OK] photo_20241031033205_2.json -> C:/Users/user/pythonproject/AllDataset/VAT-OCR\\triple_receipt\\label\\train_new\\photo_20241031033205_2.json\n"
     ]
    },
    {
     "name": "stderr",
     "output_type": "stream",
     "text": [
      "Processing entries:  28%|██▊       | 450/1621 [2:32:09<6:29:00, 19.93s/it]"
     ]
    },
    {
     "name": "stdout",
     "output_type": "stream",
     "text": [
      "[OK] photo_20241031033347_1.json -> C:/Users/user/pythonproject/AllDataset/VAT-OCR\\triple_receipt\\label\\train_new\\photo_20241031033347_1.json\n"
     ]
    },
    {
     "name": "stderr",
     "output_type": "stream",
     "text": [
      "Processing entries:  28%|██▊       | 451/1621 [2:32:30<6:37:25, 20.38s/it]"
     ]
    },
    {
     "name": "stdout",
     "output_type": "stream",
     "text": [
      "[OK] photo_20241031033457_1.json -> C:/Users/user/pythonproject/AllDataset/VAT-OCR\\triple_receipt\\label\\train_new\\photo_20241031033457_1.json\n"
     ]
    },
    {
     "name": "stderr",
     "output_type": "stream",
     "text": [
      "Processing entries:  28%|██▊       | 452/1621 [2:32:56<7:05:52, 21.86s/it]"
     ]
    },
    {
     "name": "stdout",
     "output_type": "stream",
     "text": [
      "[OK] photo_20241031033613_1.json -> C:/Users/user/pythonproject/AllDataset/VAT-OCR\\triple_receipt\\label\\train_new\\photo_20241031033613_1.json\n"
     ]
    },
    {
     "name": "stderr",
     "output_type": "stream",
     "text": [
      "Processing entries:  28%|██▊       | 453/1621 [2:33:19<7:15:14, 22.36s/it]"
     ]
    },
    {
     "name": "stdout",
     "output_type": "stream",
     "text": [
      "[OK] photo_20241031033740_1.json -> C:/Users/user/pythonproject/AllDataset/VAT-OCR\\triple_receipt\\label\\train_new\\photo_20241031033740_1.json\n"
     ]
    },
    {
     "name": "stderr",
     "output_type": "stream",
     "text": [
      "Processing entries:  28%|██▊       | 454/1621 [2:33:43<7:25:46, 22.92s/it]"
     ]
    },
    {
     "name": "stdout",
     "output_type": "stream",
     "text": [
      "[OK] photo_20241031033906_1.json -> C:/Users/user/pythonproject/AllDataset/VAT-OCR\\triple_receipt\\label\\train_new\\photo_20241031033906_1.json\n"
     ]
    },
    {
     "name": "stderr",
     "output_type": "stream",
     "text": [
      "Processing entries:  28%|██▊       | 455/1621 [2:34:09<7:43:35, 23.86s/it]"
     ]
    },
    {
     "name": "stdout",
     "output_type": "stream",
     "text": [
      "[OK] photo_20241031034015_1.json -> C:/Users/user/pythonproject/AllDataset/VAT-OCR\\triple_receipt\\label\\train_new\\photo_20241031034015_1.json\n"
     ]
    },
    {
     "name": "stderr",
     "output_type": "stream",
     "text": [
      "Processing entries:  28%|██▊       | 456/1621 [2:34:33<7:42:56, 23.84s/it]"
     ]
    },
    {
     "name": "stdout",
     "output_type": "stream",
     "text": [
      "[OK] photo_20241031034121_1.json -> C:/Users/user/pythonproject/AllDataset/VAT-OCR\\triple_receipt\\label\\train_new\\photo_20241031034121_1.json\n"
     ]
    },
    {
     "name": "stderr",
     "output_type": "stream",
     "text": [
      "Processing entries:  28%|██▊       | 457/1621 [2:34:56<7:37:58, 23.61s/it]"
     ]
    },
    {
     "name": "stdout",
     "output_type": "stream",
     "text": [
      "[FAIL] photo_20241031034255_1.json -> C:/Users/user/pythonproject/AllDataset/VAT-OCR\\triple_receipt\\label\\train_fail\\photo_20241031034255_1.json\n"
     ]
    },
    {
     "name": "stderr",
     "output_type": "stream",
     "text": [
      "Processing entries:  28%|██▊       | 458/1621 [2:35:14<7:05:49, 21.97s/it]"
     ]
    },
    {
     "name": "stdout",
     "output_type": "stream",
     "text": [
      "[FAIL] photo_20241031034447_1.json -> C:/Users/user/pythonproject/AllDataset/VAT-OCR\\triple_receipt\\label\\train_fail\\photo_20241031034447_1.json\n"
     ]
    },
    {
     "name": "stderr",
     "output_type": "stream",
     "text": [
      "Processing entries:  28%|██▊       | 459/1621 [2:35:32<6:38:12, 20.56s/it]"
     ]
    },
    {
     "name": "stdout",
     "output_type": "stream",
     "text": [
      "[OK] photo_20241031034642_1.json -> C:/Users/user/pythonproject/AllDataset/VAT-OCR\\triple_receipt\\label\\train_new\\photo_20241031034642_1.json\n"
     ]
    },
    {
     "name": "stderr",
     "output_type": "stream",
     "text": [
      "Processing entries:  28%|██▊       | 460/1621 [2:35:56<6:57:12, 21.56s/it]"
     ]
    },
    {
     "name": "stdout",
     "output_type": "stream",
     "text": [
      "[FAIL] photo_20241031034816_1.json -> C:/Users/user/pythonproject/AllDataset/VAT-OCR\\triple_receipt\\label\\train_fail\\photo_20241031034816_1.json\n"
     ]
    },
    {
     "name": "stderr",
     "output_type": "stream",
     "text": [
      "Processing entries:  28%|██▊       | 461/1621 [2:36:12<6:28:39, 20.10s/it]"
     ]
    },
    {
     "name": "stdout",
     "output_type": "stream",
     "text": [
      "[FAIL] photo_20241031034945_1.json -> C:/Users/user/pythonproject/AllDataset/VAT-OCR\\triple_receipt\\label\\train_fail\\photo_20241031034945_1.json\n"
     ]
    },
    {
     "name": "stderr",
     "output_type": "stream",
     "text": [
      "Processing entries:  29%|██▊       | 462/1621 [2:36:28<6:03:44, 18.83s/it]"
     ]
    },
    {
     "name": "stdout",
     "output_type": "stream",
     "text": [
      "[FAIL] photo_20241031035259_1.json -> C:/Users/user/pythonproject/AllDataset/VAT-OCR\\triple_receipt\\label\\train_fail\\photo_20241031035259_1.json\n"
     ]
    },
    {
     "name": "stderr",
     "output_type": "stream",
     "text": [
      "Processing entries:  29%|██▊       | 463/1621 [2:36:45<5:50:51, 18.18s/it]"
     ]
    },
    {
     "name": "stdout",
     "output_type": "stream",
     "text": [
      "[FAIL] photo_20241031035526_1.json -> C:/Users/user/pythonproject/AllDataset/VAT-OCR\\triple_receipt\\label\\train_fail\\photo_20241031035526_1.json\n"
     ]
    },
    {
     "name": "stderr",
     "output_type": "stream",
     "text": [
      "Processing entries:  29%|██▊       | 464/1621 [2:37:03<5:51:55, 18.25s/it]"
     ]
    },
    {
     "name": "stdout",
     "output_type": "stream",
     "text": [
      "[OK] photo_20241031035751_1.json -> C:/Users/user/pythonproject/AllDataset/VAT-OCR\\triple_receipt\\label\\train_new\\photo_20241031035751_1.json\n"
     ]
    },
    {
     "name": "stderr",
     "output_type": "stream",
     "text": [
      "Processing entries:  29%|██▊       | 465/1621 [2:37:20<5:41:46, 17.74s/it]"
     ]
    },
    {
     "name": "stdout",
     "output_type": "stream",
     "text": [
      "[FAIL] photo_20241031035925_1.json -> C:/Users/user/pythonproject/AllDataset/VAT-OCR\\triple_receipt\\label\\train_fail\\photo_20241031035925_1.json\n"
     ]
    },
    {
     "name": "stderr",
     "output_type": "stream",
     "text": [
      "Processing entries:  29%|██▊       | 466/1621 [2:37:36<5:31:35, 17.23s/it]"
     ]
    },
    {
     "name": "stdout",
     "output_type": "stream",
     "text": [
      "[FAIL] photo_20241031040050_1.json -> C:/Users/user/pythonproject/AllDataset/VAT-OCR\\triple_receipt\\label\\train_fail\\photo_20241031040050_1.json\n"
     ]
    },
    {
     "name": "stderr",
     "output_type": "stream",
     "text": [
      "Processing entries:  29%|██▉       | 467/1621 [2:37:55<5:45:07, 17.94s/it]"
     ]
    },
    {
     "name": "stdout",
     "output_type": "stream",
     "text": [
      "[OK] photo_20241031040237_1.json -> C:/Users/user/pythonproject/AllDataset/VAT-OCR\\triple_receipt\\label\\train_new\\photo_20241031040237_1.json\n"
     ]
    },
    {
     "name": "stderr",
     "output_type": "stream",
     "text": [
      "Processing entries:  29%|██▉       | 468/1621 [2:38:15<5:56:27, 18.55s/it]"
     ]
    },
    {
     "name": "stdout",
     "output_type": "stream",
     "text": [
      "[FAIL] photo_20241031040407_1.json -> C:/Users/user/pythonproject/AllDataset/VAT-OCR\\triple_receipt\\label\\train_fail\\photo_20241031040407_1.json\n"
     ]
    },
    {
     "name": "stderr",
     "output_type": "stream",
     "text": [
      "Processing entries:  29%|██▉       | 469/1621 [2:38:32<5:42:32, 17.84s/it]"
     ]
    },
    {
     "name": "stdout",
     "output_type": "stream",
     "text": [
      "[OK] photo_20241031040557_1.json -> C:/Users/user/pythonproject/AllDataset/VAT-OCR\\triple_receipt\\label\\train_new\\photo_20241031040557_1.json\n"
     ]
    },
    {
     "name": "stderr",
     "output_type": "stream",
     "text": [
      "Processing entries:  29%|██▉       | 470/1621 [2:38:49<5:38:02, 17.62s/it]"
     ]
    },
    {
     "name": "stdout",
     "output_type": "stream",
     "text": [
      "[OK] photo_20241031040737_1.json -> C:/Users/user/pythonproject/AllDataset/VAT-OCR\\triple_receipt\\label\\train_new\\photo_20241031040737_1.json\n"
     ]
    },
    {
     "name": "stderr",
     "output_type": "stream",
     "text": [
      "Processing entries:  29%|██▉       | 471/1621 [2:39:06<5:38:04, 17.64s/it]"
     ]
    },
    {
     "name": "stdout",
     "output_type": "stream",
     "text": [
      "[FAIL] photo_20241031041022_1.json -> C:/Users/user/pythonproject/AllDataset/VAT-OCR\\triple_receipt\\label\\train_fail\\photo_20241031041022_1.json\n"
     ]
    },
    {
     "name": "stderr",
     "output_type": "stream",
     "text": [
      "Processing entries:  29%|██▉       | 472/1621 [2:39:23<5:31:45, 17.32s/it]"
     ]
    },
    {
     "name": "stdout",
     "output_type": "stream",
     "text": [
      "[FAIL] photo_20241031041234_1.json -> C:/Users/user/pythonproject/AllDataset/VAT-OCR\\triple_receipt\\label\\train_fail\\photo_20241031041234_1.json\n"
     ]
    },
    {
     "name": "stderr",
     "output_type": "stream",
     "text": [
      "Processing entries:  29%|██▉       | 473/1621 [2:40:32<10:25:50, 32.71s/it]"
     ]
    },
    {
     "name": "stdout",
     "output_type": "stream",
     "text": [
      "[FAIL] photo_20241031041514_1.json -> C:/Users/user/pythonproject/AllDataset/VAT-OCR\\triple_receipt\\label\\train_fail\\photo_20241031041514_1.json\n"
     ]
    },
    {
     "name": "stderr",
     "output_type": "stream",
     "text": [
      "Processing entries:  29%|██▉       | 474/1621 [2:40:48<8:50:39, 27.76s/it] "
     ]
    },
    {
     "name": "stdout",
     "output_type": "stream",
     "text": [
      "[OK] photo_20241031041648_1.json -> C:/Users/user/pythonproject/AllDataset/VAT-OCR\\triple_receipt\\label\\train_new\\photo_20241031041648_1.json\n"
     ]
    },
    {
     "name": "stderr",
     "output_type": "stream",
     "text": [
      "Processing entries:  29%|██▉       | 475/1621 [2:41:04<7:44:42, 24.33s/it]"
     ]
    },
    {
     "name": "stdout",
     "output_type": "stream",
     "text": [
      "[FAIL] photo_20241031041818_1.json -> C:/Users/user/pythonproject/AllDataset/VAT-OCR\\triple_receipt\\label\\train_fail\\photo_20241031041818_1.json\n"
     ]
    },
    {
     "name": "stderr",
     "output_type": "stream",
     "text": [
      "Processing entries:  29%|██▉       | 476/1621 [2:41:18<6:45:31, 21.25s/it]"
     ]
    },
    {
     "name": "stdout",
     "output_type": "stream",
     "text": [
      "[OK] photo_20241031041957_1.json -> C:/Users/user/pythonproject/AllDataset/VAT-OCR\\triple_receipt\\label\\train_new\\photo_20241031041957_1.json\n"
     ]
    },
    {
     "name": "stderr",
     "output_type": "stream",
     "text": [
      "Processing entries:  29%|██▉       | 477/1621 [2:41:34<6:12:54, 19.56s/it]"
     ]
    },
    {
     "name": "stdout",
     "output_type": "stream",
     "text": [
      "[FAIL] photo_20241031042114_1.json -> C:/Users/user/pythonproject/AllDataset/VAT-OCR\\triple_receipt\\label\\train_fail\\photo_20241031042114_1.json\n"
     ]
    },
    {
     "name": "stderr",
     "output_type": "stream",
     "text": [
      "Processing entries:  29%|██▉       | 478/1621 [2:41:51<5:59:42, 18.88s/it]"
     ]
    },
    {
     "name": "stdout",
     "output_type": "stream",
     "text": [
      "[OK] photo_20241031042257_1.json -> C:/Users/user/pythonproject/AllDataset/VAT-OCR\\triple_receipt\\label\\train_new\\photo_20241031042257_1.json\n"
     ]
    },
    {
     "name": "stderr",
     "output_type": "stream",
     "text": [
      "Processing entries:  30%|██▉       | 479/1621 [2:42:07<5:40:16, 17.88s/it]"
     ]
    },
    {
     "name": "stdout",
     "output_type": "stream",
     "text": [
      "[FAIL] photo_20241031042416_1.json -> C:/Users/user/pythonproject/AllDataset/VAT-OCR\\triple_receipt\\label\\train_fail\\photo_20241031042416_1.json\n"
     ]
    },
    {
     "name": "stderr",
     "output_type": "stream",
     "text": [
      "Processing entries:  30%|██▉       | 480/1621 [2:42:21<5:19:06, 16.78s/it]"
     ]
    },
    {
     "name": "stdout",
     "output_type": "stream",
     "text": [
      "[OK] photo_20241031042535_1.json -> C:/Users/user/pythonproject/AllDataset/VAT-OCR\\triple_receipt\\label\\train_new\\photo_20241031042535_1.json\n"
     ]
    },
    {
     "name": "stderr",
     "output_type": "stream",
     "text": [
      "Processing entries:  30%|██▉       | 481/1621 [2:43:30<10:19:55, 32.63s/it]"
     ]
    },
    {
     "name": "stdout",
     "output_type": "stream",
     "text": [
      "[FAIL] photo_20241031042649_1.json -> C:/Users/user/pythonproject/AllDataset/VAT-OCR\\triple_receipt\\label\\train_fail\\photo_20241031042649_1.json\n"
     ]
    },
    {
     "name": "stderr",
     "output_type": "stream",
     "text": [
      "Processing entries:  30%|██▉       | 482/1621 [2:43:46<8:44:13, 27.62s/it] "
     ]
    },
    {
     "name": "stdout",
     "output_type": "stream",
     "text": [
      "[OK] photo_20241031042813_1.json -> C:/Users/user/pythonproject/AllDataset/VAT-OCR\\triple_receipt\\label\\train_new\\photo_20241031042813_1.json\n"
     ]
    },
    {
     "name": "stderr",
     "output_type": "stream",
     "text": [
      "Processing entries:  30%|██▉       | 483/1621 [2:44:06<8:00:13, 25.32s/it]"
     ]
    },
    {
     "name": "stdout",
     "output_type": "stream",
     "text": [
      "[FAIL] photo_20241031042936_1.json -> C:/Users/user/pythonproject/AllDataset/VAT-OCR\\triple_receipt\\label\\train_fail\\photo_20241031042936_1.json\n"
     ]
    },
    {
     "name": "stderr",
     "output_type": "stream",
     "text": [
      "Processing entries:  30%|██▉       | 484/1621 [2:44:24<7:15:17, 22.97s/it]"
     ]
    },
    {
     "name": "stdout",
     "output_type": "stream",
     "text": [
      "[OK] photo_20241031043103_1.json -> C:/Users/user/pythonproject/AllDataset/VAT-OCR\\triple_receipt\\label\\train_new\\photo_20241031043103_1.json\n"
     ]
    },
    {
     "name": "stderr",
     "output_type": "stream",
     "text": [
      "Processing entries:  30%|██▉       | 485/1621 [2:44:41<6:40:51, 21.17s/it]"
     ]
    },
    {
     "name": "stdout",
     "output_type": "stream",
     "text": [
      "[FAIL] photo_20241031043215_1.json -> C:/Users/user/pythonproject/AllDataset/VAT-OCR\\triple_receipt\\label\\train_fail\\photo_20241031043215_1.json\n"
     ]
    },
    {
     "name": "stderr",
     "output_type": "stream",
     "text": [
      "Processing entries:  30%|██▉       | 486/1621 [2:45:01<6:32:42, 20.76s/it]"
     ]
    },
    {
     "name": "stdout",
     "output_type": "stream",
     "text": [
      "[FAIL] photo_20241031043404_1.json -> C:/Users/user/pythonproject/AllDataset/VAT-OCR\\triple_receipt\\label\\train_fail\\photo_20241031043404_1.json\n"
     ]
    },
    {
     "name": "stderr",
     "output_type": "stream",
     "text": [
      "Processing entries:  30%|███       | 487/1621 [2:45:19<6:16:58, 19.95s/it]"
     ]
    },
    {
     "name": "stdout",
     "output_type": "stream",
     "text": [
      "[FAIL] photo_20241031043520_1.json -> C:/Users/user/pythonproject/AllDataset/VAT-OCR\\triple_receipt\\label\\train_fail\\photo_20241031043520_1.json\n"
     ]
    },
    {
     "name": "stderr",
     "output_type": "stream",
     "text": [
      "Processing entries:  30%|███       | 488/1621 [2:45:35<5:56:26, 18.88s/it]"
     ]
    },
    {
     "name": "stdout",
     "output_type": "stream",
     "text": [
      "[OK] photo_20241031043640_1.json -> C:/Users/user/pythonproject/AllDataset/VAT-OCR\\triple_receipt\\label\\train_new\\photo_20241031043640_1.json\n"
     ]
    },
    {
     "name": "stderr",
     "output_type": "stream",
     "text": [
      "Processing entries:  30%|███       | 489/1621 [2:45:55<6:00:25, 19.10s/it]"
     ]
    },
    {
     "name": "stdout",
     "output_type": "stream",
     "text": [
      "[FAIL] photo_20241031043737_1.json -> C:/Users/user/pythonproject/AllDataset/VAT-OCR\\triple_receipt\\label\\train_fail\\photo_20241031043737_1.json\n"
     ]
    },
    {
     "name": "stderr",
     "output_type": "stream",
     "text": [
      "Processing entries:  30%|███       | 490/1621 [2:46:09<5:35:35, 17.80s/it]"
     ]
    },
    {
     "name": "stdout",
     "output_type": "stream",
     "text": [
      "[FAIL] photo_20241031043853_1.json -> C:/Users/user/pythonproject/AllDataset/VAT-OCR\\triple_receipt\\label\\train_fail\\photo_20241031043853_1.json\n"
     ]
    },
    {
     "name": "stderr",
     "output_type": "stream",
     "text": [
      "Processing entries:  30%|███       | 491/1621 [2:46:23<5:11:50, 16.56s/it]"
     ]
    },
    {
     "name": "stdout",
     "output_type": "stream",
     "text": [
      "[FAIL] photo_20241031044010_2.json -> C:/Users/user/pythonproject/AllDataset/VAT-OCR\\triple_receipt\\label\\train_fail\\photo_20241031044010_2.json\n"
     ]
    },
    {
     "name": "stderr",
     "output_type": "stream",
     "text": [
      "Processing entries:  30%|███       | 492/1621 [2:46:37<4:55:05, 15.68s/it]"
     ]
    },
    {
     "name": "stdout",
     "output_type": "stream",
     "text": [
      "[FAIL] photo_20241031044151_1.json -> C:/Users/user/pythonproject/AllDataset/VAT-OCR\\triple_receipt\\label\\train_fail\\photo_20241031044151_1.json\n"
     ]
    },
    {
     "name": "stderr",
     "output_type": "stream",
     "text": [
      "Processing entries:  30%|███       | 493/1621 [2:46:52<4:52:14, 15.54s/it]"
     ]
    },
    {
     "name": "stdout",
     "output_type": "stream",
     "text": [
      "[OK] photo_20241031044256_1.json -> C:/Users/user/pythonproject/AllDataset/VAT-OCR\\triple_receipt\\label\\train_new\\photo_20241031044256_1.json\n"
     ]
    },
    {
     "name": "stderr",
     "output_type": "stream",
     "text": [
      "Processing entries:  30%|███       | 494/1621 [2:47:07<4:48:48, 15.38s/it]"
     ]
    },
    {
     "name": "stdout",
     "output_type": "stream",
     "text": [
      "[OK] photo_20241031044413_1.json -> C:/Users/user/pythonproject/AllDataset/VAT-OCR\\triple_receipt\\label\\train_new\\photo_20241031044413_1.json\n"
     ]
    },
    {
     "name": "stderr",
     "output_type": "stream",
     "text": [
      "Processing entries:  31%|███       | 495/1621 [2:47:24<4:58:20, 15.90s/it]"
     ]
    },
    {
     "name": "stdout",
     "output_type": "stream",
     "text": [
      "[OK] photo_20241031063024_1.json -> C:/Users/user/pythonproject/AllDataset/VAT-OCR\\triple_receipt\\label\\train_new\\photo_20241031063024_1.json\n"
     ]
    },
    {
     "name": "stderr",
     "output_type": "stream",
     "text": [
      "Processing entries:  31%|███       | 496/1621 [2:47:41<5:03:55, 16.21s/it]"
     ]
    },
    {
     "name": "stdout",
     "output_type": "stream",
     "text": [
      "[OK] photo_20241031063449_1.json -> C:/Users/user/pythonproject/AllDataset/VAT-OCR\\triple_receipt\\label\\train_new\\photo_20241031063449_1.json\n"
     ]
    },
    {
     "name": "stderr",
     "output_type": "stream",
     "text": [
      "Processing entries:  31%|███       | 497/1621 [2:47:59<5:11:48, 16.64s/it]"
     ]
    },
    {
     "name": "stdout",
     "output_type": "stream",
     "text": [
      "[OK] photo_20241031063650_1.json -> C:/Users/user/pythonproject/AllDataset/VAT-OCR\\triple_receipt\\label\\train_new\\photo_20241031063650_1.json\n"
     ]
    },
    {
     "name": "stderr",
     "output_type": "stream",
     "text": [
      "Processing entries:  31%|███       | 498/1621 [2:48:16<5:17:19, 16.95s/it]"
     ]
    },
    {
     "name": "stdout",
     "output_type": "stream",
     "text": [
      "[OK] photo_20241031064024_1.json -> C:/Users/user/pythonproject/AllDataset/VAT-OCR\\triple_receipt\\label\\train_new\\photo_20241031064024_1.json\n"
     ]
    },
    {
     "name": "stderr",
     "output_type": "stream",
     "text": [
      "Processing entries:  31%|███       | 499/1621 [2:48:34<5:22:06, 17.22s/it]"
     ]
    },
    {
     "name": "stdout",
     "output_type": "stream",
     "text": [
      "[FAIL] photo_20241031064228_1.json -> C:/Users/user/pythonproject/AllDataset/VAT-OCR\\triple_receipt\\label\\train_fail\\photo_20241031064228_1.json\n"
     ]
    },
    {
     "name": "stderr",
     "output_type": "stream",
     "text": [
      "Processing entries:  31%|███       | 500/1621 [2:48:51<5:22:12, 17.25s/it]"
     ]
    },
    {
     "name": "stdout",
     "output_type": "stream",
     "text": [
      "[FAIL] photo_20241031064439_1.json -> C:/Users/user/pythonproject/AllDataset/VAT-OCR\\triple_receipt\\label\\train_fail\\photo_20241031064439_1.json\n"
     ]
    },
    {
     "name": "stderr",
     "output_type": "stream",
     "text": [
      "Processing entries:  31%|███       | 501/1621 [2:49:13<5:44:27, 18.45s/it]"
     ]
    },
    {
     "name": "stdout",
     "output_type": "stream",
     "text": [
      "[FAIL] photo_20241031064645_1.json -> C:/Users/user/pythonproject/AllDataset/VAT-OCR\\triple_receipt\\label\\train_fail\\photo_20241031064645_1.json\n"
     ]
    },
    {
     "name": "stderr",
     "output_type": "stream",
     "text": [
      "Processing entries:  31%|███       | 502/1621 [2:49:30<5:36:21, 18.04s/it]"
     ]
    },
    {
     "name": "stdout",
     "output_type": "stream",
     "text": [
      "[OK] photo_20241031064908_2.json -> C:/Users/user/pythonproject/AllDataset/VAT-OCR\\triple_receipt\\label\\train_new\\photo_20241031064908_2.json\n"
     ]
    },
    {
     "name": "stderr",
     "output_type": "stream",
     "text": [
      "Processing entries:  31%|███       | 503/1621 [2:49:53<6:06:31, 19.67s/it]"
     ]
    },
    {
     "name": "stdout",
     "output_type": "stream",
     "text": [
      "[FAIL] photo_20241031065127_1.json -> C:/Users/user/pythonproject/AllDataset/VAT-OCR\\triple_receipt\\label\\train_fail\\photo_20241031065127_1.json\n"
     ]
    },
    {
     "name": "stderr",
     "output_type": "stream",
     "text": [
      "Processing entries:  31%|███       | 504/1621 [2:50:18<6:36:19, 21.29s/it]"
     ]
    },
    {
     "name": "stdout",
     "output_type": "stream",
     "text": [
      "[FAIL] photo_20241031065315_1.json -> C:/Users/user/pythonproject/AllDataset/VAT-OCR\\triple_receipt\\label\\train_fail\\photo_20241031065315_1.json\n"
     ]
    },
    {
     "name": "stderr",
     "output_type": "stream",
     "text": [
      "Processing entries:  31%|███       | 505/1621 [2:50:39<6:30:50, 21.01s/it]"
     ]
    },
    {
     "name": "stdout",
     "output_type": "stream",
     "text": [
      "[FAIL] photo_20241031065505_1.json -> C:/Users/user/pythonproject/AllDataset/VAT-OCR\\triple_receipt\\label\\train_fail\\photo_20241031065505_1.json\n"
     ]
    },
    {
     "name": "stderr",
     "output_type": "stream",
     "text": [
      "Processing entries:  31%|███       | 506/1621 [2:51:00<6:34:50, 21.25s/it]"
     ]
    },
    {
     "name": "stdout",
     "output_type": "stream",
     "text": [
      "[FAIL] photo_20241031065732_1.json -> C:/Users/user/pythonproject/AllDataset/VAT-OCR\\triple_receipt\\label\\train_fail\\photo_20241031065732_1.json\n"
     ]
    },
    {
     "name": "stderr",
     "output_type": "stream",
     "text": [
      "Processing entries:  31%|███▏      | 507/1621 [2:51:21<6:30:43, 21.04s/it]"
     ]
    },
    {
     "name": "stdout",
     "output_type": "stream",
     "text": [
      "[OK] photo_20241031065925_1.json -> C:/Users/user/pythonproject/AllDataset/VAT-OCR\\triple_receipt\\label\\train_new\\photo_20241031065925_1.json\n"
     ]
    },
    {
     "name": "stderr",
     "output_type": "stream",
     "text": [
      "Processing entries:  31%|███▏      | 508/1621 [2:51:38<6:05:31, 19.70s/it]"
     ]
    },
    {
     "name": "stdout",
     "output_type": "stream",
     "text": [
      "[FAIL] photo_20241031070102_1.json -> C:/Users/user/pythonproject/AllDataset/VAT-OCR\\triple_receipt\\label\\train_fail\\photo_20241031070102_1.json\n"
     ]
    },
    {
     "name": "stderr",
     "output_type": "stream",
     "text": [
      "Processing entries:  31%|███▏      | 509/1621 [2:52:00<6:17:39, 20.38s/it]"
     ]
    },
    {
     "name": "stdout",
     "output_type": "stream",
     "text": [
      "[FAIL] photo_20241031070258_1.json -> C:/Users/user/pythonproject/AllDataset/VAT-OCR\\triple_receipt\\label\\train_fail\\photo_20241031070258_1.json\n"
     ]
    },
    {
     "name": "stderr",
     "output_type": "stream",
     "text": [
      "Processing entries:  31%|███▏      | 510/1621 [2:52:20<6:18:48, 20.46s/it]"
     ]
    },
    {
     "name": "stdout",
     "output_type": "stream",
     "text": [
      "[FAIL] photo_20241031070421_1.json -> C:/Users/user/pythonproject/AllDataset/VAT-OCR\\triple_receipt\\label\\train_fail\\photo_20241031070421_1.json\n"
     ]
    },
    {
     "name": "stderr",
     "output_type": "stream",
     "text": [
      "Processing entries:  32%|███▏      | 511/1621 [2:52:39<6:10:43, 20.04s/it]"
     ]
    },
    {
     "name": "stdout",
     "output_type": "stream",
     "text": [
      "[FAIL] photo_20241031070602_1.json -> C:/Users/user/pythonproject/AllDataset/VAT-OCR\\triple_receipt\\label\\train_fail\\photo_20241031070602_1.json\n"
     ]
    },
    {
     "name": "stderr",
     "output_type": "stream",
     "text": [
      "Processing entries:  32%|███▏      | 512/1621 [2:53:02<6:27:01, 20.94s/it]"
     ]
    },
    {
     "name": "stdout",
     "output_type": "stream",
     "text": [
      "[FAIL] photo_20241031070812_1.json -> C:/Users/user/pythonproject/AllDataset/VAT-OCR\\triple_receipt\\label\\train_fail\\photo_20241031070812_1.json\n"
     ]
    },
    {
     "name": "stderr",
     "output_type": "stream",
     "text": [
      "Processing entries:  32%|███▏      | 513/1621 [2:53:19<6:01:07, 19.56s/it]"
     ]
    },
    {
     "name": "stdout",
     "output_type": "stream",
     "text": [
      "[FAIL] photo_20241031071345_1.json -> C:/Users/user/pythonproject/AllDataset/VAT-OCR\\triple_receipt\\label\\train_fail\\photo_20241031071345_1.json\n"
     ]
    },
    {
     "name": "stderr",
     "output_type": "stream",
     "text": [
      "Processing entries:  32%|███▏      | 514/1621 [2:53:35<5:43:19, 18.61s/it]"
     ]
    },
    {
     "name": "stdout",
     "output_type": "stream",
     "text": [
      "[OK] photo_20241031071559_1.json -> C:/Users/user/pythonproject/AllDataset/VAT-OCR\\triple_receipt\\label\\train_new\\photo_20241031071559_1.json\n"
     ]
    },
    {
     "name": "stderr",
     "output_type": "stream",
     "text": [
      "Processing entries:  32%|███▏      | 515/1621 [2:53:54<5:42:58, 18.61s/it]"
     ]
    },
    {
     "name": "stdout",
     "output_type": "stream",
     "text": [
      "[OK] photo_20241031071813_1.json -> C:/Users/user/pythonproject/AllDataset/VAT-OCR\\triple_receipt\\label\\train_new\\photo_20241031071813_1.json\n"
     ]
    },
    {
     "name": "stderr",
     "output_type": "stream",
     "text": [
      "Processing entries:  32%|███▏      | 516/1621 [2:54:12<5:40:42, 18.50s/it]"
     ]
    },
    {
     "name": "stdout",
     "output_type": "stream",
     "text": [
      "[FAIL] photo_20241031072002_1.json -> C:/Users/user/pythonproject/AllDataset/VAT-OCR\\triple_receipt\\label\\train_fail\\photo_20241031072002_1.json\n"
     ]
    },
    {
     "name": "stderr",
     "output_type": "stream",
     "text": [
      "Processing entries:  32%|███▏      | 517/1621 [2:54:30<5:41:00, 18.53s/it]"
     ]
    },
    {
     "name": "stdout",
     "output_type": "stream",
     "text": [
      "[OK] photo_20241031072154_1.json -> C:/Users/user/pythonproject/AllDataset/VAT-OCR\\triple_receipt\\label\\train_new\\photo_20241031072154_1.json\n"
     ]
    },
    {
     "name": "stderr",
     "output_type": "stream",
     "text": [
      "Processing entries:  32%|███▏      | 518/1621 [2:54:49<5:39:56, 18.49s/it]"
     ]
    },
    {
     "name": "stdout",
     "output_type": "stream",
     "text": [
      "[FAIL] photo_20241031072332_1.json -> C:/Users/user/pythonproject/AllDataset/VAT-OCR\\triple_receipt\\label\\train_fail\\photo_20241031072332_1.json\n"
     ]
    },
    {
     "name": "stderr",
     "output_type": "stream",
     "text": [
      "Processing entries:  32%|███▏      | 519/1621 [2:55:06<5:30:00, 17.97s/it]"
     ]
    },
    {
     "name": "stdout",
     "output_type": "stream",
     "text": [
      "[OK] photo_20241031072502_1.json -> C:/Users/user/pythonproject/AllDataset/VAT-OCR\\triple_receipt\\label\\train_new\\photo_20241031072502_1.json\n"
     ]
    },
    {
     "name": "stderr",
     "output_type": "stream",
     "text": [
      "Processing entries:  32%|███▏      | 520/1621 [2:55:25<5:39:37, 18.51s/it]"
     ]
    },
    {
     "name": "stdout",
     "output_type": "stream",
     "text": [
      "[OK] photo_20241031072659_1.json -> C:/Users/user/pythonproject/AllDataset/VAT-OCR\\triple_receipt\\label\\train_new\\photo_20241031072659_1.json\n"
     ]
    },
    {
     "name": "stderr",
     "output_type": "stream",
     "text": [
      "Processing entries:  32%|███▏      | 521/1621 [2:55:54<6:34:41, 21.53s/it]"
     ]
    },
    {
     "name": "stdout",
     "output_type": "stream",
     "text": [
      "[FAIL] photo_20241031072955_1.json -> C:/Users/user/pythonproject/AllDataset/VAT-OCR\\triple_receipt\\label\\train_fail\\photo_20241031072955_1.json\n"
     ]
    },
    {
     "name": "stderr",
     "output_type": "stream",
     "text": [
      "Processing entries:  32%|███▏      | 522/1621 [2:56:25<7:27:00, 24.40s/it]"
     ]
    },
    {
     "name": "stdout",
     "output_type": "stream",
     "text": [
      "[FAIL] photo_20241031073211_1.json -> C:/Users/user/pythonproject/AllDataset/VAT-OCR\\triple_receipt\\label\\train_fail\\photo_20241031073211_1.json\n"
     ]
    },
    {
     "name": "stderr",
     "output_type": "stream",
     "text": [
      "Processing entries:  32%|███▏      | 523/1621 [2:56:55<7:56:38, 26.05s/it]"
     ]
    },
    {
     "name": "stdout",
     "output_type": "stream",
     "text": [
      "[FAIL] photo_20241031073354_1.json -> C:/Users/user/pythonproject/AllDataset/VAT-OCR\\triple_receipt\\label\\train_fail\\photo_20241031073354_1.json\n"
     ]
    },
    {
     "name": "stderr",
     "output_type": "stream",
     "text": [
      "Processing entries:  32%|███▏      | 524/1621 [2:57:22<7:58:54, 26.19s/it]"
     ]
    },
    {
     "name": "stdout",
     "output_type": "stream",
     "text": [
      "[FAIL] photo_20241031073553_1.json -> C:/Users/user/pythonproject/AllDataset/VAT-OCR\\triple_receipt\\label\\train_fail\\photo_20241031073553_1.json\n"
     ]
    },
    {
     "name": "stderr",
     "output_type": "stream",
     "text": [
      "Processing entries:  32%|███▏      | 525/1621 [2:57:40<7:17:47, 23.97s/it]"
     ]
    },
    {
     "name": "stdout",
     "output_type": "stream",
     "text": [
      "[FAIL] photo_20241031073744_1.json -> C:/Users/user/pythonproject/AllDataset/VAT-OCR\\triple_receipt\\label\\train_fail\\photo_20241031073744_1.json\n"
     ]
    },
    {
     "name": "stderr",
     "output_type": "stream",
     "text": [
      "Processing entries:  32%|███▏      | 526/1621 [2:57:58<6:41:33, 22.00s/it]"
     ]
    },
    {
     "name": "stdout",
     "output_type": "stream",
     "text": [
      "[FAIL] photo_20241031073928_1.json -> C:/Users/user/pythonproject/AllDataset/VAT-OCR\\triple_receipt\\label\\train_fail\\photo_20241031073928_1.json\n"
     ]
    },
    {
     "name": "stderr",
     "output_type": "stream",
     "text": [
      "Processing entries:  33%|███▎      | 527/1621 [2:58:19<6:38:31, 21.86s/it]"
     ]
    },
    {
     "name": "stdout",
     "output_type": "stream",
     "text": [
      "[FAIL] photo_20241031074058_1.json -> C:/Users/user/pythonproject/AllDataset/VAT-OCR\\triple_receipt\\label\\train_fail\\photo_20241031074058_1.json\n"
     ]
    },
    {
     "name": "stderr",
     "output_type": "stream",
     "text": [
      "Processing entries:  33%|███▎      | 528/1621 [2:58:34<6:01:47, 19.86s/it]"
     ]
    },
    {
     "name": "stdout",
     "output_type": "stream",
     "text": [
      "[FAIL] photo_20241031074319_1.json -> C:/Users/user/pythonproject/AllDataset/VAT-OCR\\triple_receipt\\label\\train_fail\\photo_20241031074319_1.json\n"
     ]
    },
    {
     "name": "stderr",
     "output_type": "stream",
     "text": [
      "Processing entries:  33%|███▎      | 529/1621 [2:58:49<5:33:23, 18.32s/it]"
     ]
    },
    {
     "name": "stdout",
     "output_type": "stream",
     "text": [
      "[OK] photo_20241031074454_1.json -> C:/Users/user/pythonproject/AllDataset/VAT-OCR\\triple_receipt\\label\\train_new\\photo_20241031074454_1.json\n"
     ]
    },
    {
     "name": "stderr",
     "output_type": "stream",
     "text": [
      "Processing entries:  33%|███▎      | 530/1621 [2:59:06<5:25:24, 17.90s/it]"
     ]
    },
    {
     "name": "stdout",
     "output_type": "stream",
     "text": [
      "[FAIL] photo_20241031074728_1.json -> C:/Users/user/pythonproject/AllDataset/VAT-OCR\\triple_receipt\\label\\train_fail\\photo_20241031074728_1.json\n"
     ]
    },
    {
     "name": "stderr",
     "output_type": "stream",
     "text": [
      "Processing entries:  33%|███▎      | 531/1621 [2:59:25<5:29:53, 18.16s/it]"
     ]
    },
    {
     "name": "stdout",
     "output_type": "stream",
     "text": [
      "[FAIL] photo_20241031074913_1.json -> C:/Users/user/pythonproject/AllDataset/VAT-OCR\\triple_receipt\\label\\train_fail\\photo_20241031074913_1.json\n"
     ]
    },
    {
     "name": "stderr",
     "output_type": "stream",
     "text": [
      "Processing entries:  33%|███▎      | 532/1621 [2:59:52<6:20:47, 20.98s/it]"
     ]
    },
    {
     "name": "stdout",
     "output_type": "stream",
     "text": [
      "[OK] photo_20241031075204_1.json -> C:/Users/user/pythonproject/AllDataset/VAT-OCR\\triple_receipt\\label\\train_new\\photo_20241031075204_1.json\n"
     ]
    },
    {
     "name": "stderr",
     "output_type": "stream",
     "text": [
      "Processing entries:  33%|███▎      | 533/1621 [3:00:20<6:54:51, 22.88s/it]"
     ]
    },
    {
     "name": "stdout",
     "output_type": "stream",
     "text": [
      "[FAIL] photo_20241031075405_1.json -> C:/Users/user/pythonproject/AllDataset/VAT-OCR\\triple_receipt\\label\\train_fail\\photo_20241031075405_1.json\n"
     ]
    },
    {
     "name": "stderr",
     "output_type": "stream",
     "text": [
      "Processing entries:  33%|███▎      | 534/1621 [3:00:44<7:01:07, 23.24s/it]"
     ]
    },
    {
     "name": "stdout",
     "output_type": "stream",
     "text": [
      "[FAIL] photo_20241031075548_1.json -> C:/Users/user/pythonproject/AllDataset/VAT-OCR\\triple_receipt\\label\\train_fail\\photo_20241031075548_1.json\n"
     ]
    },
    {
     "name": "stderr",
     "output_type": "stream",
     "text": [
      "Processing entries:  33%|███▎      | 535/1621 [3:01:03<6:40:26, 22.12s/it]"
     ]
    },
    {
     "name": "stdout",
     "output_type": "stream",
     "text": [
      "[OK] photo_20241031075742_1.json -> C:/Users/user/pythonproject/AllDataset/VAT-OCR\\triple_receipt\\label\\train_new\\photo_20241031075742_1.json\n"
     ]
    },
    {
     "name": "stderr",
     "output_type": "stream",
     "text": [
      "Processing entries:  33%|███▎      | 536/1621 [3:01:30<7:02:31, 23.37s/it]"
     ]
    },
    {
     "name": "stdout",
     "output_type": "stream",
     "text": [
      "[FAIL] photo_20241031080112_1.json -> C:/Users/user/pythonproject/AllDataset/VAT-OCR\\triple_receipt\\label\\train_fail\\photo_20241031080112_1.json\n"
     ]
    },
    {
     "name": "stderr",
     "output_type": "stream",
     "text": [
      "Processing entries:  33%|███▎      | 537/1621 [3:01:59<7:33:20, 25.09s/it]"
     ]
    },
    {
     "name": "stdout",
     "output_type": "stream",
     "text": [
      "[FAIL] photo_20241031080543_1.json -> C:/Users/user/pythonproject/AllDataset/VAT-OCR\\triple_receipt\\label\\train_fail\\photo_20241031080543_1.json\n"
     ]
    },
    {
     "name": "stderr",
     "output_type": "stream",
     "text": [
      "Processing entries:  33%|███▎      | 538/1621 [3:02:30<8:05:47, 26.91s/it]"
     ]
    },
    {
     "name": "stdout",
     "output_type": "stream",
     "text": [
      "[FAIL] photo_20241031080906_1.json -> C:/Users/user/pythonproject/AllDataset/VAT-OCR\\triple_receipt\\label\\train_fail\\photo_20241031080906_1.json\n"
     ]
    },
    {
     "name": "stderr",
     "output_type": "stream",
     "text": [
      "Processing entries:  33%|███▎      | 539/1621 [3:02:53<7:45:57, 25.84s/it]"
     ]
    },
    {
     "name": "stdout",
     "output_type": "stream",
     "text": [
      "[FAIL] photo_20241031081201_1.json -> C:/Users/user/pythonproject/AllDataset/VAT-OCR\\triple_receipt\\label\\train_fail\\photo_20241031081201_1.json\n"
     ]
    },
    {
     "name": "stderr",
     "output_type": "stream",
     "text": [
      "Processing entries:  33%|███▎      | 540/1621 [3:03:24<8:12:31, 27.34s/it]"
     ]
    },
    {
     "name": "stdout",
     "output_type": "stream",
     "text": [
      "[FAIL] photo_20241031081538_1.json -> C:/Users/user/pythonproject/AllDataset/VAT-OCR\\triple_receipt\\label\\train_fail\\photo_20241031081538_1.json\n"
     ]
    },
    {
     "name": "stderr",
     "output_type": "stream",
     "text": [
      "Processing entries:  33%|███▎      | 541/1621 [3:04:35<12:09:08, 40.51s/it]"
     ]
    },
    {
     "name": "stdout",
     "output_type": "stream",
     "text": [
      "[FAIL] photo_20241031082104_2.json -> C:/Users/user/pythonproject/AllDataset/VAT-OCR\\triple_receipt\\label\\train_fail\\photo_20241031082104_2.json\n"
     ]
    },
    {
     "name": "stderr",
     "output_type": "stream",
     "text": [
      "Processing entries:  33%|███▎      | 542/1621 [3:05:02<10:53:18, 36.33s/it]"
     ]
    },
    {
     "name": "stdout",
     "output_type": "stream",
     "text": [
      "[OK] photo_20241031082520_1.json -> C:/Users/user/pythonproject/AllDataset/VAT-OCR\\triple_receipt\\label\\train_new\\photo_20241031082520_1.json\n"
     ]
    },
    {
     "name": "stderr",
     "output_type": "stream",
     "text": [
      "Processing entries:  33%|███▎      | 543/1621 [3:05:27<9:53:05, 33.01s/it] "
     ]
    },
    {
     "name": "stdout",
     "output_type": "stream",
     "text": [
      "[FAIL] photo_20241031082830_1.json -> C:/Users/user/pythonproject/AllDataset/VAT-OCR\\triple_receipt\\label\\train_fail\\photo_20241031082830_1.json\n"
     ]
    },
    {
     "name": "stderr",
     "output_type": "stream",
     "text": [
      "Processing entries:  34%|███▎      | 544/1621 [3:05:51<9:00:59, 30.14s/it]"
     ]
    },
    {
     "name": "stdout",
     "output_type": "stream",
     "text": [
      "[FAIL] photo_20241031083013_1.json -> C:/Users/user/pythonproject/AllDataset/VAT-OCR\\triple_receipt\\label\\train_fail\\photo_20241031083013_1.json\n"
     ]
    },
    {
     "name": "stderr",
     "output_type": "stream",
     "text": [
      "Processing entries:  34%|███▎      | 545/1621 [3:06:10<8:03:00, 26.93s/it]"
     ]
    },
    {
     "name": "stdout",
     "output_type": "stream",
     "text": [
      "[FAIL] photo_20241031083230_1.json -> C:/Users/user/pythonproject/AllDataset/VAT-OCR\\triple_receipt\\label\\train_fail\\photo_20241031083230_1.json\n"
     ]
    },
    {
     "name": "stderr",
     "output_type": "stream",
     "text": [
      "Processing entries:  34%|███▎      | 546/1621 [3:06:29<7:21:18, 24.63s/it]"
     ]
    },
    {
     "name": "stdout",
     "output_type": "stream",
     "text": [
      "[OK] photo_20241031083410_1.json -> C:/Users/user/pythonproject/AllDataset/VAT-OCR\\triple_receipt\\label\\train_new\\photo_20241031083410_1.json\n"
     ]
    },
    {
     "name": "stderr",
     "output_type": "stream",
     "text": [
      "Processing entries:  34%|███▎      | 547/1621 [3:06:50<6:58:32, 23.38s/it]"
     ]
    },
    {
     "name": "stdout",
     "output_type": "stream",
     "text": [
      "[FAIL] photo_20241031083540_1.json -> C:/Users/user/pythonproject/AllDataset/VAT-OCR\\triple_receipt\\label\\train_fail\\photo_20241031083540_1.json\n"
     ]
    },
    {
     "name": "stderr",
     "output_type": "stream",
     "text": [
      "Processing entries:  34%|███▍      | 548/1621 [3:07:09<6:37:51, 22.25s/it]"
     ]
    },
    {
     "name": "stdout",
     "output_type": "stream",
     "text": [
      "[OK] photo_20241031083711_1.json -> C:/Users/user/pythonproject/AllDataset/VAT-OCR\\triple_receipt\\label\\train_new\\photo_20241031083711_1.json\n"
     ]
    },
    {
     "name": "stderr",
     "output_type": "stream",
     "text": [
      "Processing entries:  34%|███▍      | 549/1621 [3:07:29<6:22:10, 21.39s/it]"
     ]
    },
    {
     "name": "stdout",
     "output_type": "stream",
     "text": [
      "[OK] photo_20241031083849_1.json -> C:/Users/user/pythonproject/AllDataset/VAT-OCR\\triple_receipt\\label\\train_new\\photo_20241031083849_1.json\n"
     ]
    },
    {
     "name": "stderr",
     "output_type": "stream",
     "text": [
      "Processing entries:  34%|███▍      | 550/1621 [3:07:50<6:21:57, 21.40s/it]"
     ]
    },
    {
     "name": "stdout",
     "output_type": "stream",
     "text": [
      "[FAIL] photo_20241031084026_1.json -> C:/Users/user/pythonproject/AllDataset/VAT-OCR\\triple_receipt\\label\\train_fail\\photo_20241031084026_1.json\n"
     ]
    },
    {
     "name": "stderr",
     "output_type": "stream",
     "text": [
      "Processing entries:  34%|███▍      | 551/1621 [3:08:10<6:12:56, 20.91s/it]"
     ]
    },
    {
     "name": "stdout",
     "output_type": "stream",
     "text": [
      "[OK] photo_20241031084201_1.json -> C:/Users/user/pythonproject/AllDataset/VAT-OCR\\triple_receipt\\label\\train_new\\photo_20241031084201_1.json\n"
     ]
    },
    {
     "name": "stderr",
     "output_type": "stream",
     "text": [
      "Processing entries:  34%|███▍      | 552/1621 [3:08:28<5:55:46, 19.97s/it]"
     ]
    },
    {
     "name": "stdout",
     "output_type": "stream",
     "text": [
      "[OK] photo_20241031084349_1.json -> C:/Users/user/pythonproject/AllDataset/VAT-OCR\\triple_receipt\\label\\train_new\\photo_20241031084349_1.json\n"
     ]
    },
    {
     "name": "stderr",
     "output_type": "stream",
     "text": [
      "Processing entries:  34%|███▍      | 553/1621 [3:08:46<5:44:24, 19.35s/it]"
     ]
    },
    {
     "name": "stdout",
     "output_type": "stream",
     "text": [
      "[OK] photo_20241031084545_1.json -> C:/Users/user/pythonproject/AllDataset/VAT-OCR\\triple_receipt\\label\\train_new\\photo_20241031084545_1.json\n"
     ]
    },
    {
     "name": "stderr",
     "output_type": "stream",
     "text": [
      "Processing entries:  34%|███▍      | 554/1621 [3:09:04<5:39:39, 19.10s/it]"
     ]
    },
    {
     "name": "stdout",
     "output_type": "stream",
     "text": [
      "[OK] photo_20241031084720_1.json -> C:/Users/user/pythonproject/AllDataset/VAT-OCR\\triple_receipt\\label\\train_new\\photo_20241031084720_1.json\n"
     ]
    },
    {
     "name": "stderr",
     "output_type": "stream",
     "text": [
      "Processing entries:  34%|███▍      | 555/1621 [3:09:25<5:48:09, 19.60s/it]"
     ]
    },
    {
     "name": "stdout",
     "output_type": "stream",
     "text": [
      "[FAIL] photo_20241031084853_1.json -> C:/Users/user/pythonproject/AllDataset/VAT-OCR\\triple_receipt\\label\\train_fail\\photo_20241031084853_1.json\n"
     ]
    },
    {
     "name": "stderr",
     "output_type": "stream",
     "text": [
      "Processing entries:  34%|███▍      | 556/1621 [3:09:47<5:59:18, 20.24s/it]"
     ]
    },
    {
     "name": "stdout",
     "output_type": "stream",
     "text": [
      "[FAIL] photo_20241031085022_1.json -> C:/Users/user/pythonproject/AllDataset/VAT-OCR\\triple_receipt\\label\\train_fail\\photo_20241031085022_1.json\n"
     ]
    },
    {
     "name": "stderr",
     "output_type": "stream",
     "text": [
      "Processing entries:  34%|███▍      | 557/1621 [3:10:03<5:37:20, 19.02s/it]"
     ]
    },
    {
     "name": "stdout",
     "output_type": "stream",
     "text": [
      "[OK] photo_20241031085219_1.json -> C:/Users/user/pythonproject/AllDataset/VAT-OCR\\triple_receipt\\label\\train_new\\photo_20241031085219_1.json\n"
     ]
    },
    {
     "name": "stderr",
     "output_type": "stream",
     "text": [
      "Processing entries:  34%|███▍      | 558/1621 [3:10:18<5:18:33, 17.98s/it]"
     ]
    },
    {
     "name": "stdout",
     "output_type": "stream",
     "text": [
      "[OK] photo_20241031085539_1.json -> C:/Users/user/pythonproject/AllDataset/VAT-OCR\\triple_receipt\\label\\train_new\\photo_20241031085539_1.json\n"
     ]
    },
    {
     "name": "stderr",
     "output_type": "stream",
     "text": [
      "Processing entries:  34%|███▍      | 559/1621 [3:10:34<5:04:08, 17.18s/it]"
     ]
    },
    {
     "name": "stdout",
     "output_type": "stream",
     "text": [
      "[OK] photo_20241031085845_1.json -> C:/Users/user/pythonproject/AllDataset/VAT-OCR\\triple_receipt\\label\\train_new\\photo_20241031085845_1.json\n"
     ]
    },
    {
     "name": "stderr",
     "output_type": "stream",
     "text": [
      "Processing entries:  35%|███▍      | 560/1621 [3:10:49<4:52:48, 16.56s/it]"
     ]
    },
    {
     "name": "stdout",
     "output_type": "stream",
     "text": [
      "[FAIL] photo_20241031090220_1.json -> C:/Users/user/pythonproject/AllDataset/VAT-OCR\\triple_receipt\\label\\train_fail\\photo_20241031090220_1.json\n"
     ]
    },
    {
     "name": "stderr",
     "output_type": "stream",
     "text": [
      "Processing entries:  35%|███▍      | 561/1621 [3:11:04<4:47:31, 16.27s/it]"
     ]
    },
    {
     "name": "stdout",
     "output_type": "stream",
     "text": [
      "[OK] photo_20241031090502_1.json -> C:/Users/user/pythonproject/AllDataset/VAT-OCR\\triple_receipt\\label\\train_new\\photo_20241031090502_1.json\n"
     ]
    },
    {
     "name": "stderr",
     "output_type": "stream",
     "text": [
      "Processing entries:  35%|███▍      | 562/1621 [3:11:19<4:41:07, 15.93s/it]"
     ]
    },
    {
     "name": "stdout",
     "output_type": "stream",
     "text": [
      "[FAIL] photo_20241031090659_1.json -> C:/Users/user/pythonproject/AllDataset/VAT-OCR\\triple_receipt\\label\\train_fail\\photo_20241031090659_1.json\n"
     ]
    },
    {
     "name": "stderr",
     "output_type": "stream",
     "text": [
      "Processing entries:  35%|███▍      | 563/1621 [3:11:34<4:31:37, 15.40s/it]"
     ]
    },
    {
     "name": "stdout",
     "output_type": "stream",
     "text": [
      "[OK] photo_20241031090928_1.json -> C:/Users/user/pythonproject/AllDataset/VAT-OCR\\triple_receipt\\label\\train_new\\photo_20241031090928_1.json\n"
     ]
    },
    {
     "name": "stderr",
     "output_type": "stream",
     "text": [
      "Processing entries:  35%|███▍      | 564/1621 [3:11:54<4:55:49, 16.79s/it]"
     ]
    },
    {
     "name": "stdout",
     "output_type": "stream",
     "text": [
      "[FAIL] photo_20241031091108_1.json -> C:/Users/user/pythonproject/AllDataset/VAT-OCR\\triple_receipt\\label\\train_fail\\photo_20241031091108_1.json\n"
     ]
    },
    {
     "name": "stderr",
     "output_type": "stream",
     "text": [
      "Processing entries:  35%|███▍      | 565/1621 [3:12:18<5:33:35, 18.95s/it]"
     ]
    },
    {
     "name": "stdout",
     "output_type": "stream",
     "text": [
      "[OK] photo_20241031091302_1.json -> C:/Users/user/pythonproject/AllDataset/VAT-OCR\\triple_receipt\\label\\train_new\\photo_20241031091302_1.json\n"
     ]
    },
    {
     "name": "stderr",
     "output_type": "stream",
     "text": [
      "Processing entries:  35%|███▍      | 566/1621 [3:12:37<5:37:24, 19.19s/it]"
     ]
    },
    {
     "name": "stdout",
     "output_type": "stream",
     "text": [
      "[OK] photo_20241031091427_1.json -> C:/Users/user/pythonproject/AllDataset/VAT-OCR\\triple_receipt\\label\\train_new\\photo_20241031091427_1.json\n"
     ]
    },
    {
     "name": "stderr",
     "output_type": "stream",
     "text": [
      "Processing entries:  35%|███▍      | 567/1621 [3:12:58<5:44:28, 19.61s/it]"
     ]
    },
    {
     "name": "stdout",
     "output_type": "stream",
     "text": [
      "[OK] photo_20241031091608_1.json -> C:/Users/user/pythonproject/AllDataset/VAT-OCR\\triple_receipt\\label\\train_new\\photo_20241031091608_1.json\n"
     ]
    },
    {
     "name": "stderr",
     "output_type": "stream",
     "text": [
      "Processing entries:  35%|███▌      | 568/1621 [3:13:18<5:48:00, 19.83s/it]"
     ]
    },
    {
     "name": "stdout",
     "output_type": "stream",
     "text": [
      "[FAIL] photo_20241031091804_1.json -> C:/Users/user/pythonproject/AllDataset/VAT-OCR\\triple_receipt\\label\\train_fail\\photo_20241031091804_1.json\n"
     ]
    },
    {
     "name": "stderr",
     "output_type": "stream",
     "text": [
      "Processing entries:  35%|███▌      | 569/1621 [3:13:39<5:52:16, 20.09s/it]"
     ]
    },
    {
     "name": "stdout",
     "output_type": "stream",
     "text": [
      "[OK] photo_20241031091943_1.json -> C:/Users/user/pythonproject/AllDataset/VAT-OCR\\triple_receipt\\label\\train_new\\photo_20241031091943_1.json\n"
     ]
    },
    {
     "name": "stderr",
     "output_type": "stream",
     "text": [
      "Processing entries:  35%|███▌      | 570/1621 [3:14:03<6:13:56, 21.35s/it]"
     ]
    },
    {
     "name": "stdout",
     "output_type": "stream",
     "text": [
      "[FAIL] photo_20241031092131_1.json -> C:/Users/user/pythonproject/AllDataset/VAT-OCR\\triple_receipt\\label\\train_fail\\photo_20241031092131_1.json\n"
     ]
    },
    {
     "name": "stderr",
     "output_type": "stream",
     "text": [
      "Processing entries:  35%|███▌      | 571/1621 [3:14:24<6:09:56, 21.14s/it]"
     ]
    },
    {
     "name": "stdout",
     "output_type": "stream",
     "text": [
      "[FAIL] photo_20241031092320_1.json -> C:/Users/user/pythonproject/AllDataset/VAT-OCR\\triple_receipt\\label\\train_fail\\photo_20241031092320_1.json\n"
     ]
    },
    {
     "name": "stderr",
     "output_type": "stream",
     "text": [
      "Processing entries:  35%|███▌      | 572/1621 [3:14:39<5:38:47, 19.38s/it]"
     ]
    },
    {
     "name": "stdout",
     "output_type": "stream",
     "text": [
      "[FAIL] photo_20241031092529_1.json -> C:/Users/user/pythonproject/AllDataset/VAT-OCR\\triple_receipt\\label\\train_fail\\photo_20241031092529_1.json\n"
     ]
    },
    {
     "name": "stderr",
     "output_type": "stream",
     "text": [
      "Processing entries:  35%|███▌      | 573/1621 [3:14:56<5:22:52, 18.49s/it]"
     ]
    },
    {
     "name": "stdout",
     "output_type": "stream",
     "text": [
      "[OK] photo_20241031092803_1.json -> C:/Users/user/pythonproject/AllDataset/VAT-OCR\\triple_receipt\\label\\train_new\\photo_20241031092803_1.json\n"
     ]
    },
    {
     "name": "stderr",
     "output_type": "stream",
     "text": [
      "Processing entries:  35%|███▌      | 574/1621 [3:15:11<5:08:03, 17.65s/it]"
     ]
    },
    {
     "name": "stdout",
     "output_type": "stream",
     "text": [
      "[OK] photo_20241031092929_1.json -> C:/Users/user/pythonproject/AllDataset/VAT-OCR\\triple_receipt\\label\\train_new\\photo_20241031092929_1.json\n"
     ]
    },
    {
     "name": "stderr",
     "output_type": "stream",
     "text": [
      "Processing entries:  35%|███▌      | 575/1621 [3:15:22<4:32:09, 15.61s/it]"
     ]
    },
    {
     "name": "stdout",
     "output_type": "stream",
     "text": [
      "[FAIL] photo_20241031093125_1.json -> C:/Users/user/pythonproject/AllDataset/VAT-OCR\\triple_receipt\\label\\train_fail\\photo_20241031093125_1.json\n"
     ]
    },
    {
     "name": "stderr",
     "output_type": "stream",
     "text": [
      "Processing entries:  36%|███▌      | 576/1621 [3:15:33<4:05:30, 14.10s/it]"
     ]
    },
    {
     "name": "stdout",
     "output_type": "stream",
     "text": [
      "[FAIL] photo_20241031093825_1.json -> C:/Users/user/pythonproject/AllDataset/VAT-OCR\\triple_receipt\\label\\train_fail\\photo_20241031093825_1.json\n"
     ]
    },
    {
     "name": "stderr",
     "output_type": "stream",
     "text": [
      "Processing entries:  36%|███▌      | 577/1621 [3:15:46<4:00:11, 13.80s/it]"
     ]
    },
    {
     "name": "stdout",
     "output_type": "stream",
     "text": [
      "[FAIL] photo_20241031094437_1.json -> C:/Users/user/pythonproject/AllDataset/VAT-OCR\\triple_receipt\\label\\train_fail\\photo_20241031094437_1.json\n"
     ]
    },
    {
     "name": "stderr",
     "output_type": "stream",
     "text": [
      "Processing entries:  36%|███▌      | 578/1621 [3:15:58<3:50:57, 13.29s/it]"
     ]
    },
    {
     "name": "stdout",
     "output_type": "stream",
     "text": [
      "[FAIL] photo_20241031094909_1.json -> C:/Users/user/pythonproject/AllDataset/VAT-OCR\\triple_receipt\\label\\train_fail\\photo_20241031094909_1.json\n"
     ]
    },
    {
     "name": "stderr",
     "output_type": "stream",
     "text": [
      "Processing entries:  36%|███▌      | 579/1621 [3:16:11<3:48:45, 13.17s/it]"
     ]
    },
    {
     "name": "stdout",
     "output_type": "stream",
     "text": [
      "[FAIL] photo_20241031095349_1.json -> C:/Users/user/pythonproject/AllDataset/VAT-OCR\\triple_receipt\\label\\train_fail\\photo_20241031095349_1.json\n"
     ]
    },
    {
     "name": "stderr",
     "output_type": "stream",
     "text": [
      "Processing entries:  36%|███▌      | 580/1621 [3:16:22<3:37:25, 12.53s/it]"
     ]
    },
    {
     "name": "stdout",
     "output_type": "stream",
     "text": [
      "[FAIL] photo_20241031095824_1.json -> C:/Users/user/pythonproject/AllDataset/VAT-OCR\\triple_receipt\\label\\train_fail\\photo_20241031095824_1.json\n"
     ]
    },
    {
     "name": "stderr",
     "output_type": "stream",
     "text": [
      "Processing entries:  36%|███▌      | 581/1621 [3:16:42<4:14:59, 14.71s/it]"
     ]
    },
    {
     "name": "stdout",
     "output_type": "stream",
     "text": [
      "[FAIL] photo_20241031100220_1.json -> C:/Users/user/pythonproject/AllDataset/VAT-OCR\\triple_receipt\\label\\train_fail\\photo_20241031100220_1.json\n"
     ]
    },
    {
     "name": "stderr",
     "output_type": "stream",
     "text": [
      "Processing entries:  36%|███▌      | 582/1621 [3:16:59<4:26:53, 15.41s/it]"
     ]
    },
    {
     "name": "stdout",
     "output_type": "stream",
     "text": [
      "[OK] photo_20241031100423_1.json -> C:/Users/user/pythonproject/AllDataset/VAT-OCR\\triple_receipt\\label\\train_new\\photo_20241031100423_1.json\n"
     ]
    },
    {
     "name": "stderr",
     "output_type": "stream",
     "text": [
      "Processing entries:  36%|███▌      | 583/1621 [3:17:15<4:31:36, 15.70s/it]"
     ]
    },
    {
     "name": "stdout",
     "output_type": "stream",
     "text": [
      "[OK] photo_20241031100604_1.json -> C:/Users/user/pythonproject/AllDataset/VAT-OCR\\triple_receipt\\label\\train_new\\photo_20241031100604_1.json\n"
     ]
    },
    {
     "name": "stderr",
     "output_type": "stream",
     "text": [
      "Processing entries:  36%|███▌      | 584/1621 [3:17:31<4:32:56, 15.79s/it]"
     ]
    },
    {
     "name": "stdout",
     "output_type": "stream",
     "text": [
      "[OK] photo_20241031100747_1.json -> C:/Users/user/pythonproject/AllDataset/VAT-OCR\\triple_receipt\\label\\train_new\\photo_20241031100747_1.json\n"
     ]
    },
    {
     "name": "stderr",
     "output_type": "stream",
     "text": [
      "Processing entries:  36%|███▌      | 585/1621 [3:17:48<4:38:27, 16.13s/it]"
     ]
    },
    {
     "name": "stdout",
     "output_type": "stream",
     "text": [
      "[OK] photo_20241031100920_1.json -> C:/Users/user/pythonproject/AllDataset/VAT-OCR\\triple_receipt\\label\\train_new\\photo_20241031100920_1.json\n"
     ]
    },
    {
     "name": "stderr",
     "output_type": "stream",
     "text": [
      "Processing entries:  36%|███▌      | 586/1621 [3:18:06<4:48:28, 16.72s/it]"
     ]
    },
    {
     "name": "stdout",
     "output_type": "stream",
     "text": [
      "[OK] photo_20241031101108_1.json -> C:/Users/user/pythonproject/AllDataset/VAT-OCR\\triple_receipt\\label\\train_new\\photo_20241031101108_1.json\n"
     ]
    },
    {
     "name": "stderr",
     "output_type": "stream",
     "text": [
      "Processing entries:  36%|███▌      | 587/1621 [3:18:22<4:45:22, 16.56s/it]"
     ]
    },
    {
     "name": "stdout",
     "output_type": "stream",
     "text": [
      "[OK] photo_20241031101238_1.json -> C:/Users/user/pythonproject/AllDataset/VAT-OCR\\triple_receipt\\label\\train_new\\photo_20241031101238_1.json\n"
     ]
    },
    {
     "name": "stderr",
     "output_type": "stream",
     "text": [
      "Processing entries:  36%|███▋      | 588/1621 [3:18:42<4:59:47, 17.41s/it]"
     ]
    },
    {
     "name": "stdout",
     "output_type": "stream",
     "text": [
      "[FAIL] photo_20241031101405_1.json -> C:/Users/user/pythonproject/AllDataset/VAT-OCR\\triple_receipt\\label\\train_fail\\photo_20241031101405_1.json\n"
     ]
    },
    {
     "name": "stderr",
     "output_type": "stream",
     "text": [
      "Processing entries:  36%|███▋      | 589/1621 [3:19:03<5:19:05, 18.55s/it]"
     ]
    },
    {
     "name": "stdout",
     "output_type": "stream",
     "text": [
      "[FAIL] photo_20241031101635_1.json -> C:/Users/user/pythonproject/AllDataset/VAT-OCR\\triple_receipt\\label\\train_fail\\photo_20241031101635_1.json\n"
     ]
    },
    {
     "name": "stderr",
     "output_type": "stream",
     "text": [
      "Processing entries:  36%|███▋      | 590/1621 [3:20:19<10:14:30, 35.76s/it]"
     ]
    },
    {
     "name": "stdout",
     "output_type": "stream",
     "text": [
      "[FAIL] photo_20241031101903_1.json -> C:/Users/user/pythonproject/AllDataset/VAT-OCR\\triple_receipt\\label\\train_fail\\photo_20241031101903_1.json\n"
     ]
    },
    {
     "name": "stderr",
     "output_type": "stream",
     "text": [
      "Processing entries:  36%|███▋      | 591/1621 [3:20:40<8:57:50, 31.33s/it] "
     ]
    },
    {
     "name": "stdout",
     "output_type": "stream",
     "text": [
      "[OK] photo_20241031102115_1.json -> C:/Users/user/pythonproject/AllDataset/VAT-OCR\\triple_receipt\\label\\train_new\\photo_20241031102115_1.json\n"
     ]
    },
    {
     "name": "stderr",
     "output_type": "stream",
     "text": [
      "Processing entries:  37%|███▋      | 592/1621 [3:20:59<7:52:55, 27.58s/it]"
     ]
    },
    {
     "name": "stdout",
     "output_type": "stream",
     "text": [
      "[FAIL] photo_20241031120202_1.json -> C:/Users/user/pythonproject/AllDataset/VAT-OCR\\triple_receipt\\label\\train_fail\\photo_20241031120202_1.json\n"
     ]
    },
    {
     "name": "stderr",
     "output_type": "stream",
     "text": [
      "Processing entries:  37%|███▋      | 593/1621 [3:21:18<7:09:10, 25.05s/it]"
     ]
    },
    {
     "name": "stdout",
     "output_type": "stream",
     "text": [
      "[FAIL] photo_20241031120619_1.json -> C:/Users/user/pythonproject/AllDataset/VAT-OCR\\triple_receipt\\label\\train_fail\\photo_20241031120619_1.json\n"
     ]
    },
    {
     "name": "stderr",
     "output_type": "stream",
     "text": [
      "Processing entries:  37%|███▋      | 594/1621 [3:21:40<6:54:50, 24.24s/it]"
     ]
    },
    {
     "name": "stdout",
     "output_type": "stream",
     "text": [
      "[FAIL] photo_20241031120825_1.json -> C:/Users/user/pythonproject/AllDataset/VAT-OCR\\triple_receipt\\label\\train_fail\\photo_20241031120825_1.json\n"
     ]
    },
    {
     "name": "stderr",
     "output_type": "stream",
     "text": [
      "Processing entries:  37%|███▋      | 595/1621 [3:22:03<6:47:41, 23.84s/it]"
     ]
    },
    {
     "name": "stdout",
     "output_type": "stream",
     "text": [
      "[OK] photo_20241031121011_1.json -> C:/Users/user/pythonproject/AllDataset/VAT-OCR\\triple_receipt\\label\\train_new\\photo_20241031121011_1.json\n"
     ]
    },
    {
     "name": "stderr",
     "output_type": "stream",
     "text": [
      "Processing entries:  37%|███▋      | 596/1621 [3:22:25<6:35:34, 23.16s/it]"
     ]
    },
    {
     "name": "stdout",
     "output_type": "stream",
     "text": [
      "[FAIL] photo_20241031121148_1.json -> C:/Users/user/pythonproject/AllDataset/VAT-OCR\\triple_receipt\\label\\train_fail\\photo_20241031121148_1.json\n"
     ]
    },
    {
     "name": "stderr",
     "output_type": "stream",
     "text": [
      "Processing entries:  37%|███▋      | 597/1621 [3:22:45<6:18:22, 22.17s/it]"
     ]
    },
    {
     "name": "stdout",
     "output_type": "stream",
     "text": [
      "[FAIL] photo_20241031121420_1.json -> C:/Users/user/pythonproject/AllDataset/VAT-OCR\\triple_receipt\\label\\train_fail\\photo_20241031121420_1.json\n"
     ]
    },
    {
     "name": "stderr",
     "output_type": "stream",
     "text": [
      "Processing entries:  37%|███▋      | 598/1621 [3:23:07<6:17:25, 22.14s/it]"
     ]
    },
    {
     "name": "stdout",
     "output_type": "stream",
     "text": [
      "[FAIL] photo_20241031121633_1.json -> C:/Users/user/pythonproject/AllDataset/VAT-OCR\\triple_receipt\\label\\train_fail\\photo_20241031121633_1.json\n"
     ]
    },
    {
     "name": "stderr",
     "output_type": "stream",
     "text": [
      "Processing entries:  37%|███▋      | 599/1621 [3:23:27<6:09:59, 21.72s/it]"
     ]
    },
    {
     "name": "stdout",
     "output_type": "stream",
     "text": [
      "[FAIL] photo_20241031121812_1.json -> C:/Users/user/pythonproject/AllDataset/VAT-OCR\\triple_receipt\\label\\train_fail\\photo_20241031121812_1.json\n"
     ]
    },
    {
     "name": "stderr",
     "output_type": "stream",
     "text": [
      "Processing entries:  37%|███▋      | 600/1621 [3:23:45<5:51:01, 20.63s/it]"
     ]
    },
    {
     "name": "stdout",
     "output_type": "stream",
     "text": [
      "[FAIL] photo_20241101025517_1.json -> C:/Users/user/pythonproject/AllDataset/VAT-OCR\\triple_receipt\\label\\train_fail\\photo_20241101025517_1.json\n"
     ]
    },
    {
     "name": "stderr",
     "output_type": "stream",
     "text": [
      "Processing entries:  37%|███▋      | 601/1621 [3:24:05<5:47:39, 20.45s/it]"
     ]
    },
    {
     "name": "stdout",
     "output_type": "stream",
     "text": [
      "[FAIL] photo_20241101025731_1.json -> C:/Users/user/pythonproject/AllDataset/VAT-OCR\\triple_receipt\\label\\train_fail\\photo_20241101025731_1.json\n"
     ]
    },
    {
     "name": "stderr",
     "output_type": "stream",
     "text": [
      "Processing entries:  37%|███▋      | 602/1621 [3:24:22<5:26:57, 19.25s/it]"
     ]
    },
    {
     "name": "stdout",
     "output_type": "stream",
     "text": [
      "[OK] photo_20241101025948_1.json -> C:/Users/user/pythonproject/AllDataset/VAT-OCR\\triple_receipt\\label\\train_new\\photo_20241101025948_1.json\n"
     ]
    },
    {
     "name": "stderr",
     "output_type": "stream",
     "text": [
      "Processing entries:  37%|███▋      | 603/1621 [3:24:38<5:12:05, 18.39s/it]"
     ]
    },
    {
     "name": "stdout",
     "output_type": "stream",
     "text": [
      "[OK] photo_20241101030147_1.json -> C:/Users/user/pythonproject/AllDataset/VAT-OCR\\triple_receipt\\label\\train_new\\photo_20241101030147_1.json\n"
     ]
    },
    {
     "name": "stderr",
     "output_type": "stream",
     "text": [
      "Processing entries:  37%|███▋      | 604/1621 [3:24:58<5:19:51, 18.87s/it]"
     ]
    },
    {
     "name": "stdout",
     "output_type": "stream",
     "text": [
      "[FAIL] photo_20241101030336_1.json -> C:/Users/user/pythonproject/AllDataset/VAT-OCR\\triple_receipt\\label\\train_fail\\photo_20241101030336_1.json\n"
     ]
    },
    {
     "name": "stderr",
     "output_type": "stream",
     "text": [
      "Processing entries:  37%|███▋      | 605/1621 [3:25:13<4:58:58, 17.66s/it]"
     ]
    },
    {
     "name": "stdout",
     "output_type": "stream",
     "text": [
      "[FAIL] photo_20241101030755_1.json -> C:/Users/user/pythonproject/AllDataset/VAT-OCR\\triple_receipt\\label\\train_fail\\photo_20241101030755_1.json\n"
     ]
    },
    {
     "name": "stderr",
     "output_type": "stream",
     "text": [
      "Processing entries:  37%|███▋      | 606/1621 [3:25:28<4:46:03, 16.91s/it]"
     ]
    },
    {
     "name": "stdout",
     "output_type": "stream",
     "text": [
      "[FAIL] photo_20241101031016_1.json -> C:/Users/user/pythonproject/AllDataset/VAT-OCR\\triple_receipt\\label\\train_fail\\photo_20241101031016_1.json\n"
     ]
    },
    {
     "name": "stderr",
     "output_type": "stream",
     "text": [
      "Processing entries:  37%|███▋      | 607/1621 [3:25:45<4:43:05, 16.75s/it]"
     ]
    },
    {
     "name": "stdout",
     "output_type": "stream",
     "text": [
      "[OK] photo_20241101031150_1.json -> C:/Users/user/pythonproject/AllDataset/VAT-OCR\\triple_receipt\\label\\train_new\\photo_20241101031150_1.json\n"
     ]
    },
    {
     "name": "stderr",
     "output_type": "stream",
     "text": [
      "Processing entries:  38%|███▊      | 608/1621 [3:26:00<4:35:45, 16.33s/it]"
     ]
    },
    {
     "name": "stdout",
     "output_type": "stream",
     "text": [
      "[OK] photo_20241101031325_1.json -> C:/Users/user/pythonproject/AllDataset/VAT-OCR\\triple_receipt\\label\\train_new\\photo_20241101031325_1.json\n"
     ]
    },
    {
     "name": "stderr",
     "output_type": "stream",
     "text": [
      "Processing entries:  38%|███▊      | 609/1621 [3:26:13<4:20:25, 15.44s/it]"
     ]
    },
    {
     "name": "stdout",
     "output_type": "stream",
     "text": [
      "[FAIL] photo_20241101031444_1.json -> C:/Users/user/pythonproject/AllDataset/VAT-OCR\\triple_receipt\\label\\train_fail\\photo_20241101031444_1.json\n"
     ]
    },
    {
     "name": "stderr",
     "output_type": "stream",
     "text": [
      "Processing entries:  38%|███▊      | 610/1621 [3:26:34<4:44:40, 16.90s/it]"
     ]
    },
    {
     "name": "stdout",
     "output_type": "stream",
     "text": [
      "[OK] photo_20241101031647_1.json -> C:/Users/user/pythonproject/AllDataset/VAT-OCR\\triple_receipt\\label\\train_new\\photo_20241101031647_1.json\n"
     ]
    },
    {
     "name": "stderr",
     "output_type": "stream",
     "text": [
      "Processing entries:  38%|███▊      | 611/1621 [3:26:49<4:34:22, 16.30s/it]"
     ]
    },
    {
     "name": "stdout",
     "output_type": "stream",
     "text": [
      "[FAIL] photo_20241101032119_1.json -> C:/Users/user/pythonproject/AllDataset/VAT-OCR\\triple_receipt\\label\\train_fail\\photo_20241101032119_1.json\n"
     ]
    },
    {
     "name": "stderr",
     "output_type": "stream",
     "text": [
      "Processing entries:  38%|███▊      | 612/1621 [3:27:05<4:33:21, 16.25s/it]"
     ]
    },
    {
     "name": "stdout",
     "output_type": "stream",
     "text": [
      "[OK] photo_20241101032333_1.json -> C:/Users/user/pythonproject/AllDataset/VAT-OCR\\triple_receipt\\label\\train_new\\photo_20241101032333_1.json\n"
     ]
    },
    {
     "name": "stderr",
     "output_type": "stream",
     "text": [
      "Processing entries:  38%|███▊      | 613/1621 [3:27:21<4:32:13, 16.20s/it]"
     ]
    },
    {
     "name": "stdout",
     "output_type": "stream",
     "text": [
      "[FAIL] photo_20241101032510_1.json -> C:/Users/user/pythonproject/AllDataset/VAT-OCR\\triple_receipt\\label\\train_fail\\photo_20241101032510_1.json\n"
     ]
    },
    {
     "name": "stderr",
     "output_type": "stream",
     "text": [
      "Processing entries:  38%|███▊      | 614/1621 [3:27:44<5:07:02, 18.29s/it]"
     ]
    },
    {
     "name": "stdout",
     "output_type": "stream",
     "text": [
      "[FAIL] photo_20241101032637_1.json -> C:/Users/user/pythonproject/AllDataset/VAT-OCR\\triple_receipt\\label\\train_fail\\photo_20241101032637_1.json\n"
     ]
    },
    {
     "name": "stderr",
     "output_type": "stream",
     "text": [
      "Processing entries:  38%|███▊      | 615/1621 [3:28:04<5:14:34, 18.76s/it]"
     ]
    },
    {
     "name": "stdout",
     "output_type": "stream",
     "text": [
      "[FAIL] photo_20241101032853_1.json -> C:/Users/user/pythonproject/AllDataset/VAT-OCR\\triple_receipt\\label\\train_fail\\photo_20241101032853_1.json\n"
     ]
    },
    {
     "name": "stderr",
     "output_type": "stream",
     "text": [
      "Processing entries:  38%|███▊      | 616/1621 [3:28:19<4:55:52, 17.66s/it]"
     ]
    },
    {
     "name": "stdout",
     "output_type": "stream",
     "text": [
      "[OK] photo_20241101033250_1.json -> C:/Users/user/pythonproject/AllDataset/VAT-OCR\\triple_receipt\\label\\train_new\\photo_20241101033250_1.json\n"
     ]
    },
    {
     "name": "stderr",
     "output_type": "stream",
     "text": [
      "Processing entries:  38%|███▊      | 617/1621 [3:28:32<4:34:12, 16.39s/it]"
     ]
    },
    {
     "name": "stdout",
     "output_type": "stream",
     "text": [
      "[FAIL] photo_20241101033420_1.json -> C:/Users/user/pythonproject/AllDataset/VAT-OCR\\triple_receipt\\label\\train_fail\\photo_20241101033420_1.json\n"
     ]
    },
    {
     "name": "stderr",
     "output_type": "stream",
     "text": [
      "Processing entries:  38%|███▊      | 618/1621 [3:28:49<4:35:07, 16.46s/it]"
     ]
    },
    {
     "name": "stdout",
     "output_type": "stream",
     "text": [
      "[FAIL] photo_20241101033537_1.json -> C:/Users/user/pythonproject/AllDataset/VAT-OCR\\triple_receipt\\label\\train_fail\\photo_20241101033537_1.json\n"
     ]
    },
    {
     "name": "stderr",
     "output_type": "stream",
     "text": [
      "Processing entries:  38%|███▊      | 619/1621 [3:29:06<4:36:04, 16.53s/it]"
     ]
    },
    {
     "name": "stdout",
     "output_type": "stream",
     "text": [
      "[OK] photo_20241101033847_1.json -> C:/Users/user/pythonproject/AllDataset/VAT-OCR\\triple_receipt\\label\\train_new\\photo_20241101033847_1.json\n"
     ]
    },
    {
     "name": "stderr",
     "output_type": "stream",
     "text": [
      "Processing entries:  38%|███▊      | 620/1621 [3:29:28<5:03:23, 18.19s/it]"
     ]
    },
    {
     "name": "stdout",
     "output_type": "stream",
     "text": [
      "[OK] photo_20241101034230_1.json -> C:/Users/user/pythonproject/AllDataset/VAT-OCR\\triple_receipt\\label\\train_new\\photo_20241101034230_1.json\n"
     ]
    },
    {
     "name": "stderr",
     "output_type": "stream",
     "text": [
      "Processing entries:  38%|███▊      | 621/1621 [3:29:53<5:39:02, 20.34s/it]"
     ]
    },
    {
     "name": "stdout",
     "output_type": "stream",
     "text": [
      "[OK] photo_20241101034348_1.json -> C:/Users/user/pythonproject/AllDataset/VAT-OCR\\triple_receipt\\label\\train_new\\photo_20241101034348_1.json\n"
     ]
    },
    {
     "name": "stderr",
     "output_type": "stream",
     "text": [
      "Processing entries:  38%|███▊      | 622/1621 [3:30:15<5:47:58, 20.90s/it]"
     ]
    },
    {
     "name": "stdout",
     "output_type": "stream",
     "text": [
      "[OK] photo_20241101034458_1.json -> C:/Users/user/pythonproject/AllDataset/VAT-OCR\\triple_receipt\\label\\train_new\\photo_20241101034458_1.json\n"
     ]
    },
    {
     "name": "stderr",
     "output_type": "stream",
     "text": [
      "Processing entries:  38%|███▊      | 623/1621 [3:30:39<6:02:59, 21.82s/it]"
     ]
    },
    {
     "name": "stdout",
     "output_type": "stream",
     "text": [
      "[OK] photo_20241101034622_1.json -> C:/Users/user/pythonproject/AllDataset/VAT-OCR\\triple_receipt\\label\\train_new\\photo_20241101034622_1.json\n"
     ]
    },
    {
     "name": "stderr",
     "output_type": "stream",
     "text": [
      "Processing entries:  38%|███▊      | 624/1621 [3:31:04<6:19:31, 22.84s/it]"
     ]
    },
    {
     "name": "stdout",
     "output_type": "stream",
     "text": [
      "[FAIL] photo_20241101034745_1.json -> C:/Users/user/pythonproject/AllDataset/VAT-OCR\\triple_receipt\\label\\train_fail\\photo_20241101034745_1.json\n"
     ]
    },
    {
     "name": "stderr",
     "output_type": "stream",
     "text": [
      "Processing entries:  39%|███▊      | 625/1621 [3:31:27<6:15:08, 22.60s/it]"
     ]
    },
    {
     "name": "stdout",
     "output_type": "stream",
     "text": [
      "[FAIL] photo_20241101035107_1.json -> C:/Users/user/pythonproject/AllDataset/VAT-OCR\\triple_receipt\\label\\train_fail\\photo_20241101035107_1.json\n"
     ]
    },
    {
     "name": "stderr",
     "output_type": "stream",
     "text": [
      "Processing entries:  39%|███▊      | 626/1621 [3:31:47<6:03:09, 21.90s/it]"
     ]
    },
    {
     "name": "stdout",
     "output_type": "stream",
     "text": [
      "[OK] photo_20241101035229_1.json -> C:/Users/user/pythonproject/AllDataset/VAT-OCR\\triple_receipt\\label\\train_new\\photo_20241101035229_1.json\n"
     ]
    },
    {
     "name": "stderr",
     "output_type": "stream",
     "text": [
      "Processing entries:  39%|███▊      | 627/1621 [3:32:16<6:36:55, 23.96s/it]"
     ]
    },
    {
     "name": "stdout",
     "output_type": "stream",
     "text": [
      "[OK] photo_20241101035343_1.json -> C:/Users/user/pythonproject/AllDataset/VAT-OCR\\triple_receipt\\label\\train_new\\photo_20241101035343_1.json\n"
     ]
    },
    {
     "name": "stderr",
     "output_type": "stream",
     "text": [
      "Processing entries:  39%|███▊      | 628/1621 [3:32:37<6:22:29, 23.11s/it]"
     ]
    },
    {
     "name": "stdout",
     "output_type": "stream",
     "text": [
      "[OK] photo_20241101035453_1.json -> C:/Users/user/pythonproject/AllDataset/VAT-OCR\\triple_receipt\\label\\train_new\\photo_20241101035453_1.json\n"
     ]
    },
    {
     "name": "stderr",
     "output_type": "stream",
     "text": [
      "Processing entries:  39%|███▉      | 629/1621 [3:33:03<6:39:52, 24.19s/it]"
     ]
    },
    {
     "name": "stdout",
     "output_type": "stream",
     "text": [
      "[OK] photo_20241101035603_1.json -> C:/Users/user/pythonproject/AllDataset/VAT-OCR\\triple_receipt\\label\\train_new\\photo_20241101035603_1.json\n"
     ]
    },
    {
     "name": "stderr",
     "output_type": "stream",
     "text": [
      "Processing entries:  39%|███▉      | 630/1621 [3:33:27<6:38:01, 24.10s/it]"
     ]
    },
    {
     "name": "stdout",
     "output_type": "stream",
     "text": [
      "[FAIL] photo_20241101035709_1.json -> C:/Users/user/pythonproject/AllDataset/VAT-OCR\\triple_receipt\\label\\train_fail\\photo_20241101035709_1.json\n"
     ]
    },
    {
     "name": "stderr",
     "output_type": "stream",
     "text": [
      "Processing entries:  39%|███▉      | 631/1621 [3:33:44<6:03:07, 22.01s/it]"
     ]
    },
    {
     "name": "stdout",
     "output_type": "stream",
     "text": [
      "[OK] photo_20241101035832_1.json -> C:/Users/user/pythonproject/AllDataset/VAT-OCR\\triple_receipt\\label\\train_new\\photo_20241101035832_1.json\n"
     ]
    },
    {
     "name": "stderr",
     "output_type": "stream",
     "text": [
      "Processing entries:  39%|███▉      | 632/1621 [3:34:03<5:48:25, 21.14s/it]"
     ]
    },
    {
     "name": "stdout",
     "output_type": "stream",
     "text": [
      "[OK] photo_20241101040007_1.json -> C:/Users/user/pythonproject/AllDataset/VAT-OCR\\triple_receipt\\label\\train_new\\photo_20241101040007_1.json\n"
     ]
    },
    {
     "name": "stderr",
     "output_type": "stream",
     "text": [
      "Processing entries:  39%|███▉      | 633/1621 [3:34:24<5:43:25, 20.86s/it]"
     ]
    },
    {
     "name": "stdout",
     "output_type": "stream",
     "text": [
      "[FAIL] photo_20241101040235_1.json -> C:/Users/user/pythonproject/AllDataset/VAT-OCR\\triple_receipt\\label\\train_fail\\photo_20241101040235_1.json\n"
     ]
    },
    {
     "name": "stderr",
     "output_type": "stream",
     "text": [
      "Processing entries:  39%|███▉      | 634/1621 [3:34:42<5:31:15, 20.14s/it]"
     ]
    },
    {
     "name": "stdout",
     "output_type": "stream",
     "text": [
      "[FAIL] photo_20241101041001_1.json -> C:/Users/user/pythonproject/AllDataset/VAT-OCR\\triple_receipt\\label\\train_fail\\photo_20241101041001_1.json\n"
     ]
    },
    {
     "name": "stderr",
     "output_type": "stream",
     "text": [
      "Processing entries:  39%|███▉      | 635/1621 [3:35:00<5:21:27, 19.56s/it]"
     ]
    },
    {
     "name": "stdout",
     "output_type": "stream",
     "text": [
      "[FAIL] photo_20241101041147_1.json -> C:/Users/user/pythonproject/AllDataset/VAT-OCR\\triple_receipt\\label\\train_fail\\photo_20241101041147_1.json\n"
     ]
    },
    {
     "name": "stderr",
     "output_type": "stream",
     "text": [
      "Processing entries:  39%|███▉      | 636/1621 [3:35:17<5:05:51, 18.63s/it]"
     ]
    },
    {
     "name": "stdout",
     "output_type": "stream",
     "text": [
      "[FAIL] photo_20241101041337_1.json -> C:/Users/user/pythonproject/AllDataset/VAT-OCR\\triple_receipt\\label\\train_fail\\photo_20241101041337_1.json\n"
     ]
    },
    {
     "name": "stderr",
     "output_type": "stream",
     "text": [
      "Processing entries:  39%|███▉      | 637/1621 [3:35:35<5:02:14, 18.43s/it]"
     ]
    },
    {
     "name": "stdout",
     "output_type": "stream",
     "text": [
      "[FAIL] photo_20241101041538_1.json -> C:/Users/user/pythonproject/AllDataset/VAT-OCR\\triple_receipt\\label\\train_fail\\photo_20241101041538_1.json\n"
     ]
    },
    {
     "name": "stderr",
     "output_type": "stream",
     "text": [
      "Processing entries:  39%|███▉      | 638/1621 [3:35:55<5:11:46, 19.03s/it]"
     ]
    },
    {
     "name": "stdout",
     "output_type": "stream",
     "text": [
      "[FAIL] photo_20241101041718_1.json -> C:/Users/user/pythonproject/AllDataset/VAT-OCR\\triple_receipt\\label\\train_fail\\photo_20241101041718_1.json\n"
     ]
    },
    {
     "name": "stderr",
     "output_type": "stream",
     "text": [
      "Processing entries:  39%|███▉      | 639/1621 [3:36:13<5:06:21, 18.72s/it]"
     ]
    },
    {
     "name": "stdout",
     "output_type": "stream",
     "text": [
      "[FAIL] photo_20241101041933_1.json -> C:/Users/user/pythonproject/AllDataset/VAT-OCR\\triple_receipt\\label\\train_fail\\photo_20241101041933_1.json\n"
     ]
    },
    {
     "name": "stderr",
     "output_type": "stream",
     "text": [
      "Processing entries:  39%|███▉      | 640/1621 [3:36:36<5:25:15, 19.89s/it]"
     ]
    },
    {
     "name": "stdout",
     "output_type": "stream",
     "text": [
      "[OK] photo_20241101042201_1.json -> C:/Users/user/pythonproject/AllDataset/VAT-OCR\\triple_receipt\\label\\train_new\\photo_20241101042201_1.json\n"
     ]
    },
    {
     "name": "stderr",
     "output_type": "stream",
     "text": [
      "Processing entries:  40%|███▉      | 641/1621 [3:37:03<6:02:03, 22.17s/it]"
     ]
    },
    {
     "name": "stdout",
     "output_type": "stream",
     "text": [
      "[OK] photo_20241101042312_1.json -> C:/Users/user/pythonproject/AllDataset/VAT-OCR\\triple_receipt\\label\\train_new\\photo_20241101042312_1.json\n"
     ]
    },
    {
     "name": "stderr",
     "output_type": "stream",
     "text": [
      "Processing entries:  40%|███▉      | 642/1621 [3:37:30<6:21:50, 23.40s/it]"
     ]
    },
    {
     "name": "stdout",
     "output_type": "stream",
     "text": [
      "[OK] photo_20241101042448_1.json -> C:/Users/user/pythonproject/AllDataset/VAT-OCR\\triple_receipt\\label\\train_new\\photo_20241101042448_1.json\n"
     ]
    },
    {
     "name": "stderr",
     "output_type": "stream",
     "text": [
      "Processing entries:  40%|███▉      | 643/1621 [3:38:02<7:03:07, 25.96s/it]"
     ]
    },
    {
     "name": "stdout",
     "output_type": "stream",
     "text": [
      "[OK] photo_20241101042616_1.json -> C:/Users/user/pythonproject/AllDataset/VAT-OCR\\triple_receipt\\label\\train_new\\photo_20241101042616_1.json\n"
     ]
    },
    {
     "name": "stderr",
     "output_type": "stream",
     "text": [
      "Processing entries:  40%|███▉      | 644/1621 [3:38:26<6:54:11, 25.44s/it]"
     ]
    },
    {
     "name": "stdout",
     "output_type": "stream",
     "text": [
      "[OK] photo_20241101042716_1.json -> C:/Users/user/pythonproject/AllDataset/VAT-OCR\\triple_receipt\\label\\train_new\\photo_20241101042716_1.json\n"
     ]
    },
    {
     "name": "stderr",
     "output_type": "stream",
     "text": [
      "Processing entries:  40%|███▉      | 645/1621 [3:38:54<7:07:42, 26.29s/it]"
     ]
    },
    {
     "name": "stdout",
     "output_type": "stream",
     "text": [
      "[OK] photo_20241101042825_1.json -> C:/Users/user/pythonproject/AllDataset/VAT-OCR\\triple_receipt\\label\\train_new\\photo_20241101042825_1.json\n"
     ]
    },
    {
     "name": "stderr",
     "output_type": "stream",
     "text": [
      "Processing entries:  40%|███▉      | 646/1621 [3:39:08<6:07:07, 22.59s/it]"
     ]
    },
    {
     "name": "stdout",
     "output_type": "stream",
     "text": [
      "[OK] photo_20241101042924_1.json -> C:/Users/user/pythonproject/AllDataset/VAT-OCR\\triple_receipt\\label\\train_new\\photo_20241101042924_1.json\n"
     ]
    },
    {
     "name": "stderr",
     "output_type": "stream",
     "text": [
      "Processing entries:  40%|███▉      | 647/1621 [3:39:30<6:01:57, 22.30s/it]"
     ]
    },
    {
     "name": "stdout",
     "output_type": "stream",
     "text": [
      "[OK] photo_20241101043033_1.json -> C:/Users/user/pythonproject/AllDataset/VAT-OCR\\triple_receipt\\label\\train_new\\photo_20241101043033_1.json\n"
     ]
    },
    {
     "name": "stderr",
     "output_type": "stream",
     "text": [
      "Processing entries:  40%|███▉      | 648/1621 [3:39:54<6:11:58, 22.94s/it]"
     ]
    },
    {
     "name": "stdout",
     "output_type": "stream",
     "text": [
      "[OK] photo_20241101043206_1.json -> C:/Users/user/pythonproject/AllDataset/VAT-OCR\\triple_receipt\\label\\train_new\\photo_20241101043206_1.json\n"
     ]
    },
    {
     "name": "stderr",
     "output_type": "stream",
     "text": [
      "Processing entries:  40%|████      | 649/1621 [3:40:21<6:28:52, 24.00s/it]"
     ]
    },
    {
     "name": "stdout",
     "output_type": "stream",
     "text": [
      "[OK] photo_20241101043316_1.json -> C:/Users/user/pythonproject/AllDataset/VAT-OCR\\triple_receipt\\label\\train_new\\photo_20241101043316_1.json\n"
     ]
    },
    {
     "name": "stderr",
     "output_type": "stream",
     "text": [
      "Processing entries:  40%|████      | 650/1621 [3:40:46<6:33:57, 24.34s/it]"
     ]
    },
    {
     "name": "stdout",
     "output_type": "stream",
     "text": [
      "[FAIL] photo_20241101043425_1.json -> C:/Users/user/pythonproject/AllDataset/VAT-OCR\\triple_receipt\\label\\train_fail\\photo_20241101043425_1.json\n"
     ]
    },
    {
     "name": "stderr",
     "output_type": "stream",
     "text": [
      "Processing entries:  40%|████      | 651/1621 [3:41:08<6:23:15, 23.71s/it]"
     ]
    },
    {
     "name": "stdout",
     "output_type": "stream",
     "text": [
      "[OK] photo_20241101043546_1.json -> C:/Users/user/pythonproject/AllDataset/VAT-OCR\\triple_receipt\\label\\train_new\\photo_20241101043546_1.json\n"
     ]
    },
    {
     "name": "stderr",
     "output_type": "stream",
     "text": [
      "Processing entries:  40%|████      | 652/1621 [3:41:35<6:38:18, 24.66s/it]"
     ]
    },
    {
     "name": "stdout",
     "output_type": "stream",
     "text": [
      "[OK] photo_20241101043705_1.json -> C:/Users/user/pythonproject/AllDataset/VAT-OCR\\triple_receipt\\label\\train_new\\photo_20241101043705_1.json\n"
     ]
    },
    {
     "name": "stderr",
     "output_type": "stream",
     "text": [
      "Processing entries:  40%|████      | 653/1621 [3:42:01<6:46:03, 25.17s/it]"
     ]
    },
    {
     "name": "stdout",
     "output_type": "stream",
     "text": [
      "[OK] photo_20241101043829_1.json -> C:/Users/user/pythonproject/AllDataset/VAT-OCR\\triple_receipt\\label\\train_new\\photo_20241101043829_1.json\n"
     ]
    },
    {
     "name": "stderr",
     "output_type": "stream",
     "text": [
      "Processing entries:  40%|████      | 654/1621 [3:42:25<6:39:01, 24.76s/it]"
     ]
    },
    {
     "name": "stdout",
     "output_type": "stream",
     "text": [
      "[OK] photo_20241101044000_1.json -> C:/Users/user/pythonproject/AllDataset/VAT-OCR\\triple_receipt\\label\\train_new\\photo_20241101044000_1.json\n"
     ]
    },
    {
     "name": "stderr",
     "output_type": "stream",
     "text": [
      "Processing entries:  40%|████      | 655/1621 [3:42:46<6:21:03, 23.67s/it]"
     ]
    },
    {
     "name": "stdout",
     "output_type": "stream",
     "text": [
      "[OK] photo_20241101044114_1.json -> C:/Users/user/pythonproject/AllDataset/VAT-OCR\\triple_receipt\\label\\train_new\\photo_20241101044114_1.json\n"
     ]
    },
    {
     "name": "stderr",
     "output_type": "stream",
     "text": [
      "Processing entries:  40%|████      | 656/1621 [3:43:12<6:33:04, 24.44s/it]"
     ]
    },
    {
     "name": "stdout",
     "output_type": "stream",
     "text": [
      "[OK] photo_20241101044251_1.json -> C:/Users/user/pythonproject/AllDataset/VAT-OCR\\triple_receipt\\label\\train_new\\photo_20241101044251_1.json\n"
     ]
    },
    {
     "name": "stderr",
     "output_type": "stream",
     "text": [
      "Processing entries:  41%|████      | 657/1621 [3:43:35<6:24:27, 23.93s/it]"
     ]
    },
    {
     "name": "stdout",
     "output_type": "stream",
     "text": [
      "[OK] photo_20241101044400_1.json -> C:/Users/user/pythonproject/AllDataset/VAT-OCR\\triple_receipt\\label\\train_new\\photo_20241101044400_1.json\n"
     ]
    },
    {
     "name": "stderr",
     "output_type": "stream",
     "text": [
      "Processing entries:  41%|████      | 658/1621 [3:44:02<6:40:57, 24.98s/it]"
     ]
    },
    {
     "name": "stdout",
     "output_type": "stream",
     "text": [
      "[OK] photo_20241101044505_1.json -> C:/Users/user/pythonproject/AllDataset/VAT-OCR\\triple_receipt\\label\\train_new\\photo_20241101044505_1.json\n"
     ]
    },
    {
     "name": "stderr",
     "output_type": "stream",
     "text": [
      "Processing entries:  41%|████      | 659/1621 [3:44:27<6:37:41, 24.80s/it]"
     ]
    },
    {
     "name": "stdout",
     "output_type": "stream",
     "text": [
      "[OK] photo_20241101044622_1.json -> C:/Users/user/pythonproject/AllDataset/VAT-OCR\\triple_receipt\\label\\train_new\\photo_20241101044622_1.json\n"
     ]
    },
    {
     "name": "stderr",
     "output_type": "stream",
     "text": [
      "Processing entries:  41%|████      | 660/1621 [3:44:52<6:36:31, 24.76s/it]"
     ]
    },
    {
     "name": "stdout",
     "output_type": "stream",
     "text": [
      "[OK] photo_20241101062607_2.json -> C:/Users/user/pythonproject/AllDataset/VAT-OCR\\triple_receipt\\label\\train_new\\photo_20241101062607_2.json\n"
     ]
    },
    {
     "name": "stderr",
     "output_type": "stream",
     "text": [
      "Processing entries:  41%|████      | 661/1621 [3:45:16<6:35:02, 24.69s/it]"
     ]
    },
    {
     "name": "stdout",
     "output_type": "stream",
     "text": [
      "[OK] photo_20241101062843_1.json -> C:/Users/user/pythonproject/AllDataset/VAT-OCR\\triple_receipt\\label\\train_new\\photo_20241101062843_1.json\n"
     ]
    },
    {
     "name": "stderr",
     "output_type": "stream",
     "text": [
      "Processing entries:  41%|████      | 662/1621 [3:45:30<5:43:38, 21.50s/it]"
     ]
    },
    {
     "name": "stdout",
     "output_type": "stream",
     "text": [
      "[OK] photo_20241101062843_2.json -> C:/Users/user/pythonproject/AllDataset/VAT-OCR\\triple_receipt\\label\\train_new\\photo_20241101062843_2.json\n"
     ]
    },
    {
     "name": "stderr",
     "output_type": "stream",
     "text": [
      "Processing entries:  41%|████      | 663/1621 [3:45:56<6:04:27, 22.83s/it]"
     ]
    },
    {
     "name": "stdout",
     "output_type": "stream",
     "text": [
      "[OK] photo_20241101062843_3.json -> C:/Users/user/pythonproject/AllDataset/VAT-OCR\\triple_receipt\\label\\train_new\\photo_20241101062843_3.json\n"
     ]
    },
    {
     "name": "stderr",
     "output_type": "stream",
     "text": [
      "Processing entries:  41%|████      | 664/1621 [3:46:17<5:56:34, 22.36s/it]"
     ]
    },
    {
     "name": "stdout",
     "output_type": "stream",
     "text": [
      "[OK] photo_20241101062843_4.json -> C:/Users/user/pythonproject/AllDataset/VAT-OCR\\triple_receipt\\label\\train_new\\photo_20241101062843_4.json\n"
     ]
    },
    {
     "name": "stderr",
     "output_type": "stream",
     "text": [
      "Processing entries:  41%|████      | 665/1621 [3:46:37<5:44:32, 21.62s/it]"
     ]
    },
    {
     "name": "stdout",
     "output_type": "stream",
     "text": [
      "[OK] photo_20241101063718_1.json -> C:/Users/user/pythonproject/AllDataset/VAT-OCR\\triple_receipt\\label\\train_new\\photo_20241101063718_1.json\n"
     ]
    },
    {
     "name": "stderr",
     "output_type": "stream",
     "text": [
      "Processing entries:  41%|████      | 666/1621 [3:47:01<5:52:41, 22.16s/it]"
     ]
    },
    {
     "name": "stdout",
     "output_type": "stream",
     "text": [
      "[OK] photo_20241101063718_2.json -> C:/Users/user/pythonproject/AllDataset/VAT-OCR\\triple_receipt\\label\\train_new\\photo_20241101063718_2.json\n"
     ]
    },
    {
     "name": "stderr",
     "output_type": "stream",
     "text": [
      "Processing entries:  41%|████      | 667/1621 [3:47:18<5:29:39, 20.73s/it]"
     ]
    },
    {
     "name": "stdout",
     "output_type": "stream",
     "text": [
      "[OK] photo_20241101063718_3.json -> C:/Users/user/pythonproject/AllDataset/VAT-OCR\\triple_receipt\\label\\train_new\\photo_20241101063718_3.json\n"
     ]
    },
    {
     "name": "stderr",
     "output_type": "stream",
     "text": [
      "Processing entries:  41%|████      | 668/1621 [3:47:32<4:59:01, 18.83s/it]"
     ]
    },
    {
     "name": "stdout",
     "output_type": "stream",
     "text": [
      "[FAIL] photo_20241101063718_4.json -> C:/Users/user/pythonproject/AllDataset/VAT-OCR\\triple_receipt\\label\\train_fail\\photo_20241101063718_4.json\n"
     ]
    },
    {
     "name": "stderr",
     "output_type": "stream",
     "text": [
      "Processing entries:  41%|████▏     | 669/1621 [3:47:51<4:57:47, 18.77s/it]"
     ]
    },
    {
     "name": "stdout",
     "output_type": "stream",
     "text": [
      "[FAIL] photo_20241101063718_5.json -> C:/Users/user/pythonproject/AllDataset/VAT-OCR\\triple_receipt\\label\\train_fail\\photo_20241101063718_5.json\n"
     ]
    },
    {
     "name": "stderr",
     "output_type": "stream",
     "text": [
      "Processing entries:  41%|████▏     | 670/1621 [3:48:08<4:50:56, 18.36s/it]"
     ]
    },
    {
     "name": "stdout",
     "output_type": "stream",
     "text": [
      "[OK] photo_20241101065345_1.json -> C:/Users/user/pythonproject/AllDataset/VAT-OCR\\triple_receipt\\label\\train_new\\photo_20241101065345_1.json\n"
     ]
    },
    {
     "name": "stderr",
     "output_type": "stream",
     "text": [
      "Processing entries:  41%|████▏     | 671/1621 [3:48:22<4:29:46, 17.04s/it]"
     ]
    },
    {
     "name": "stdout",
     "output_type": "stream",
     "text": [
      "[OK] photo_20241101065345_2.json -> C:/Users/user/pythonproject/AllDataset/VAT-OCR\\triple_receipt\\label\\train_new\\photo_20241101065345_2.json\n"
     ]
    },
    {
     "name": "stderr",
     "output_type": "stream",
     "text": [
      "Processing entries:  41%|████▏     | 672/1621 [3:48:37<4:19:59, 16.44s/it]"
     ]
    },
    {
     "name": "stdout",
     "output_type": "stream",
     "text": [
      "[OK] photo_20241101065345_3.json -> C:/Users/user/pythonproject/AllDataset/VAT-OCR\\triple_receipt\\label\\train_new\\photo_20241101065345_3.json\n"
     ]
    },
    {
     "name": "stderr",
     "output_type": "stream",
     "text": [
      "Processing entries:  42%|████▏     | 673/1621 [3:49:00<4:49:18, 18.31s/it]"
     ]
    },
    {
     "name": "stdout",
     "output_type": "stream",
     "text": [
      "[FAIL] photo_20241101065345_4.json -> C:/Users/user/pythonproject/AllDataset/VAT-OCR\\triple_receipt\\label\\train_fail\\photo_20241101065345_4.json\n"
     ]
    },
    {
     "name": "stderr",
     "output_type": "stream",
     "text": [
      "Processing entries:  42%|████▏     | 674/1621 [3:49:16<4:35:20, 17.45s/it]"
     ]
    },
    {
     "name": "stdout",
     "output_type": "stream",
     "text": [
      "[FAIL] photo_20241101065345_5.json -> C:/Users/user/pythonproject/AllDataset/VAT-OCR\\triple_receipt\\label\\train_fail\\photo_20241101065345_5.json\n"
     ]
    },
    {
     "name": "stderr",
     "output_type": "stream",
     "text": [
      "Processing entries:  42%|████▏     | 675/1621 [3:49:32<4:32:32, 17.29s/it]"
     ]
    },
    {
     "name": "stdout",
     "output_type": "stream",
     "text": [
      "[FAIL] photo_20241101070032_1.json -> C:/Users/user/pythonproject/AllDataset/VAT-OCR\\triple_receipt\\label\\train_fail\\photo_20241101070032_1.json\n"
     ]
    },
    {
     "name": "stderr",
     "output_type": "stream",
     "text": [
      "Processing entries:  42%|████▏     | 676/1621 [3:49:56<5:00:45, 19.10s/it]"
     ]
    },
    {
     "name": "stdout",
     "output_type": "stream",
     "text": [
      "[FAIL] photo_20241101070032_2.json -> C:/Users/user/pythonproject/AllDataset/VAT-OCR\\triple_receipt\\label\\train_fail\\photo_20241101070032_2.json\n"
     ]
    },
    {
     "name": "stderr",
     "output_type": "stream",
     "text": [
      "Processing entries:  42%|████▏     | 677/1621 [3:50:15<5:01:07, 19.14s/it]"
     ]
    },
    {
     "name": "stdout",
     "output_type": "stream",
     "text": [
      "[FAIL] photo_20241101070032_3.json -> C:/Users/user/pythonproject/AllDataset/VAT-OCR\\triple_receipt\\label\\train_fail\\photo_20241101070032_3.json\n"
     ]
    },
    {
     "name": "stderr",
     "output_type": "stream",
     "text": [
      "Processing entries:  42%|████▏     | 678/1621 [3:50:32<4:49:40, 18.43s/it]"
     ]
    },
    {
     "name": "stdout",
     "output_type": "stream",
     "text": [
      "[FAIL] photo_20241101070032_4.json -> C:/Users/user/pythonproject/AllDataset/VAT-OCR\\triple_receipt\\label\\train_fail\\photo_20241101070032_4.json\n"
     ]
    },
    {
     "name": "stderr",
     "output_type": "stream",
     "text": [
      "Processing entries:  42%|████▏     | 679/1621 [3:50:49<4:41:24, 17.92s/it]"
     ]
    },
    {
     "name": "stdout",
     "output_type": "stream",
     "text": [
      "[FAIL] photo_20241101070032_5.json -> C:/Users/user/pythonproject/AllDataset/VAT-OCR\\triple_receipt\\label\\train_fail\\photo_20241101070032_5.json\n"
     ]
    },
    {
     "name": "stderr",
     "output_type": "stream",
     "text": [
      "Processing entries:  42%|████▏     | 680/1621 [3:51:07<4:42:30, 18.01s/it]"
     ]
    },
    {
     "name": "stdout",
     "output_type": "stream",
     "text": [
      "[FAIL] photo_20241101071002_1.json -> C:/Users/user/pythonproject/AllDataset/VAT-OCR\\triple_receipt\\label\\train_fail\\photo_20241101071002_1.json\n"
     ]
    },
    {
     "name": "stderr",
     "output_type": "stream",
     "text": [
      "Processing entries:  42%|████▏     | 681/1621 [3:51:24<4:39:27, 17.84s/it]"
     ]
    },
    {
     "name": "stdout",
     "output_type": "stream",
     "text": [
      "[OK] photo_20241101071002_2.json -> C:/Users/user/pythonproject/AllDataset/VAT-OCR\\triple_receipt\\label\\train_new\\photo_20241101071002_2.json\n"
     ]
    },
    {
     "name": "stderr",
     "output_type": "stream",
     "text": [
      "Processing entries:  42%|████▏     | 682/1621 [3:51:39<4:24:44, 16.92s/it]"
     ]
    },
    {
     "name": "stdout",
     "output_type": "stream",
     "text": [
      "[FAIL] photo_20241101071002_3.json -> C:/Users/user/pythonproject/AllDataset/VAT-OCR\\triple_receipt\\label\\train_fail\\photo_20241101071002_3.json\n"
     ]
    },
    {
     "name": "stderr",
     "output_type": "stream",
     "text": [
      "Processing entries:  42%|████▏     | 683/1621 [3:51:59<4:40:25, 17.94s/it]"
     ]
    },
    {
     "name": "stdout",
     "output_type": "stream",
     "text": [
      "[FAIL] photo_20241101071002_4.json -> C:/Users/user/pythonproject/AllDataset/VAT-OCR\\triple_receipt\\label\\train_fail\\photo_20241101071002_4.json\n"
     ]
    },
    {
     "name": "stderr",
     "output_type": "stream",
     "text": [
      "Processing entries:  42%|████▏     | 684/1621 [3:52:17<4:38:18, 17.82s/it]"
     ]
    },
    {
     "name": "stdout",
     "output_type": "stream",
     "text": [
      "[FAIL] photo_20241101071002_5.json -> C:/Users/user/pythonproject/AllDataset/VAT-OCR\\triple_receipt\\label\\train_fail\\photo_20241101071002_5.json\n"
     ]
    },
    {
     "name": "stderr",
     "output_type": "stream",
     "text": [
      "Processing entries:  42%|████▏     | 685/1621 [3:52:35<4:41:14, 18.03s/it]"
     ]
    },
    {
     "name": "stdout",
     "output_type": "stream",
     "text": [
      "[OK] photo_20241101071927_1.json -> C:/Users/user/pythonproject/AllDataset/VAT-OCR\\triple_receipt\\label\\train_new\\photo_20241101071927_1.json\n"
     ]
    },
    {
     "name": "stderr",
     "output_type": "stream",
     "text": [
      "Processing entries:  42%|████▏     | 686/1621 [3:52:55<4:48:33, 18.52s/it]"
     ]
    },
    {
     "name": "stdout",
     "output_type": "stream",
     "text": [
      "[FAIL] photo_20241101071927_2.json -> C:/Users/user/pythonproject/AllDataset/VAT-OCR\\triple_receipt\\label\\train_fail\\photo_20241101071927_2.json\n"
     ]
    },
    {
     "name": "stderr",
     "output_type": "stream",
     "text": [
      "Processing entries:  42%|████▏     | 687/1621 [3:53:12<4:41:15, 18.07s/it]"
     ]
    },
    {
     "name": "stdout",
     "output_type": "stream",
     "text": [
      "[OK] photo_20241101071927_3.json -> C:/Users/user/pythonproject/AllDataset/VAT-OCR\\triple_receipt\\label\\train_new\\photo_20241101071927_3.json\n"
     ]
    },
    {
     "name": "stderr",
     "output_type": "stream",
     "text": [
      "Processing entries:  42%|████▏     | 688/1621 [3:53:28<4:31:50, 17.48s/it]"
     ]
    },
    {
     "name": "stdout",
     "output_type": "stream",
     "text": [
      "[OK] photo_20241101071927_4.json -> C:/Users/user/pythonproject/AllDataset/VAT-OCR\\triple_receipt\\label\\train_new\\photo_20241101071927_4.json\n"
     ]
    },
    {
     "name": "stderr",
     "output_type": "stream",
     "text": [
      "Processing entries:  43%|████▎     | 689/1621 [3:53:44<4:24:59, 17.06s/it]"
     ]
    },
    {
     "name": "stdout",
     "output_type": "stream",
     "text": [
      "[FAIL] photo_20241101071927_5.json -> C:/Users/user/pythonproject/AllDataset/VAT-OCR\\triple_receipt\\label\\train_fail\\photo_20241101071927_5.json\n"
     ]
    },
    {
     "name": "stderr",
     "output_type": "stream",
     "text": [
      "Processing entries:  43%|████▎     | 690/1621 [3:54:02<4:28:04, 17.28s/it]"
     ]
    },
    {
     "name": "stdout",
     "output_type": "stream",
     "text": [
      "[FAIL] photo_20241101072728_1.json -> C:/Users/user/pythonproject/AllDataset/VAT-OCR\\triple_receipt\\label\\train_fail\\photo_20241101072728_1.json\n"
     ]
    },
    {
     "name": "stderr",
     "output_type": "stream",
     "text": [
      "Processing entries:  43%|████▎     | 691/1621 [3:54:18<4:21:39, 16.88s/it]"
     ]
    },
    {
     "name": "stdout",
     "output_type": "stream",
     "text": [
      "[FAIL] photo_20241101072728_2.json -> C:/Users/user/pythonproject/AllDataset/VAT-OCR\\triple_receipt\\label\\train_fail\\photo_20241101072728_2.json\n"
     ]
    },
    {
     "name": "stderr",
     "output_type": "stream",
     "text": [
      "Processing entries:  43%|████▎     | 692/1621 [3:54:34<4:17:58, 16.66s/it]"
     ]
    },
    {
     "name": "stdout",
     "output_type": "stream",
     "text": [
      "[OK] photo_20241101072728_3.json -> C:/Users/user/pythonproject/AllDataset/VAT-OCR\\triple_receipt\\label\\train_new\\photo_20241101072728_3.json\n"
     ]
    },
    {
     "name": "stderr",
     "output_type": "stream",
     "text": [
      "Processing entries:  43%|████▎     | 693/1621 [3:54:57<4:49:04, 18.69s/it]"
     ]
    },
    {
     "name": "stdout",
     "output_type": "stream",
     "text": [
      "[FAIL] photo_20241101072728_4.json -> C:/Users/user/pythonproject/AllDataset/VAT-OCR\\triple_receipt\\label\\train_fail\\photo_20241101072728_4.json\n"
     ]
    },
    {
     "name": "stderr",
     "output_type": "stream",
     "text": [
      "Processing entries:  43%|████▎     | 694/1621 [3:55:12<4:29:25, 17.44s/it]"
     ]
    },
    {
     "name": "stdout",
     "output_type": "stream",
     "text": [
      "[OK] photo_20241101072728_5.json -> C:/Users/user/pythonproject/AllDataset/VAT-OCR\\triple_receipt\\label\\train_new\\photo_20241101072728_5.json\n"
     ]
    },
    {
     "name": "stderr",
     "output_type": "stream",
     "text": [
      "Processing entries:  43%|████▎     | 695/1621 [3:55:24<4:02:09, 15.69s/it]"
     ]
    },
    {
     "name": "stdout",
     "output_type": "stream",
     "text": [
      "[FAIL] photo_20241101074328_1.json -> C:/Users/user/pythonproject/AllDataset/VAT-OCR\\triple_receipt\\label\\train_fail\\photo_20241101074328_1.json\n"
     ]
    },
    {
     "name": "stderr",
     "output_type": "stream",
     "text": [
      "Processing entries:  43%|████▎     | 696/1621 [3:55:39<4:02:23, 15.72s/it]"
     ]
    },
    {
     "name": "stdout",
     "output_type": "stream",
     "text": [
      "[OK] photo_20241101074328_2.json -> C:/Users/user/pythonproject/AllDataset/VAT-OCR\\triple_receipt\\label\\train_new\\photo_20241101074328_2.json\n"
     ]
    },
    {
     "name": "stderr",
     "output_type": "stream",
     "text": [
      "Processing entries:  43%|████▎     | 697/1621 [3:56:01<4:31:23, 17.62s/it]"
     ]
    },
    {
     "name": "stdout",
     "output_type": "stream",
     "text": [
      "[FAIL] photo_20241101074328_3.json -> C:/Users/user/pythonproject/AllDataset/VAT-OCR\\triple_receipt\\label\\train_fail\\photo_20241101074328_3.json\n"
     ]
    },
    {
     "name": "stderr",
     "output_type": "stream",
     "text": [
      "Processing entries:  43%|████▎     | 698/1621 [3:56:18<4:23:59, 17.16s/it]"
     ]
    },
    {
     "name": "stdout",
     "output_type": "stream",
     "text": [
      "[FAIL] photo_20241101074328_4.json -> C:/Users/user/pythonproject/AllDataset/VAT-OCR\\triple_receipt\\label\\train_fail\\photo_20241101074328_4.json\n"
     ]
    },
    {
     "name": "stderr",
     "output_type": "stream",
     "text": [
      "Processing entries:  43%|████▎     | 699/1621 [3:56:39<4:42:58, 18.42s/it]"
     ]
    },
    {
     "name": "stdout",
     "output_type": "stream",
     "text": [
      "[FAIL] photo_20241101074328_5.json -> C:/Users/user/pythonproject/AllDataset/VAT-OCR\\triple_receipt\\label\\train_fail\\photo_20241101074328_5.json\n"
     ]
    },
    {
     "name": "stderr",
     "output_type": "stream",
     "text": [
      "Processing entries:  43%|████▎     | 700/1621 [3:57:02<5:03:43, 19.79s/it]"
     ]
    },
    {
     "name": "stdout",
     "output_type": "stream",
     "text": [
      "[FAIL] photo_20241101075638_1.json -> C:/Users/user/pythonproject/AllDataset/VAT-OCR\\triple_receipt\\label\\train_fail\\photo_20241101075638_1.json\n"
     ]
    },
    {
     "name": "stderr",
     "output_type": "stream",
     "text": [
      "Processing entries:  43%|████▎     | 701/1621 [3:57:25<5:19:25, 20.83s/it]"
     ]
    },
    {
     "name": "stdout",
     "output_type": "stream",
     "text": [
      "[OK] photo_20241101075638_2.json -> C:/Users/user/pythonproject/AllDataset/VAT-OCR\\triple_receipt\\label\\train_new\\photo_20241101075638_2.json\n"
     ]
    },
    {
     "name": "stderr",
     "output_type": "stream",
     "text": [
      "Processing entries:  43%|████▎     | 702/1621 [3:58:35<9:06:26, 35.68s/it]"
     ]
    },
    {
     "name": "stdout",
     "output_type": "stream",
     "text": [
      "[FAIL] photo_20241101075638_3.json -> C:/Users/user/pythonproject/AllDataset/VAT-OCR\\triple_receipt\\label\\train_fail\\photo_20241101075638_3.json\n"
     ]
    },
    {
     "name": "stderr",
     "output_type": "stream",
     "text": [
      "Processing entries:  43%|████▎     | 703/1621 [3:58:54<7:45:57, 30.45s/it]"
     ]
    },
    {
     "name": "stdout",
     "output_type": "stream",
     "text": [
      "[OK] photo_20241101075638_4.json -> C:/Users/user/pythonproject/AllDataset/VAT-OCR\\triple_receipt\\label\\train_new\\photo_20241101075638_4.json\n"
     ]
    },
    {
     "name": "stderr",
     "output_type": "stream",
     "text": [
      "Processing entries:  43%|████▎     | 704/1621 [3:59:10<6:41:35, 26.28s/it]"
     ]
    },
    {
     "name": "stdout",
     "output_type": "stream",
     "text": [
      "[FAIL] photo_20241101075638_5.json -> C:/Users/user/pythonproject/AllDataset/VAT-OCR\\triple_receipt\\label\\train_fail\\photo_20241101075638_5.json\n"
     ]
    },
    {
     "name": "stderr",
     "output_type": "stream",
     "text": [
      "Processing entries:  43%|████▎     | 705/1621 [3:59:28<6:01:55, 23.71s/it]"
     ]
    },
    {
     "name": "stdout",
     "output_type": "stream",
     "text": [
      "[FAIL] photo_20241101075638_6.json -> C:/Users/user/pythonproject/AllDataset/VAT-OCR\\triple_receipt\\label\\train_fail\\photo_20241101075638_6.json\n"
     ]
    },
    {
     "name": "stderr",
     "output_type": "stream",
     "text": [
      "Processing entries:  44%|████▎     | 706/1621 [3:59:45<5:31:14, 21.72s/it]"
     ]
    },
    {
     "name": "stdout",
     "output_type": "stream",
     "text": [
      "[FAIL] photo_20241101081247_1.json -> C:/Users/user/pythonproject/AllDataset/VAT-OCR\\triple_receipt\\label\\train_fail\\photo_20241101081247_1.json\n"
     ]
    },
    {
     "name": "stderr",
     "output_type": "stream",
     "text": [
      "Processing entries:  44%|████▎     | 707/1621 [4:00:04<5:18:26, 20.90s/it]"
     ]
    },
    {
     "name": "stdout",
     "output_type": "stream",
     "text": [
      "[FAIL] photo_20241101081247_2.json -> C:/Users/user/pythonproject/AllDataset/VAT-OCR\\triple_receipt\\label\\train_fail\\photo_20241101081247_2.json\n"
     ]
    },
    {
     "name": "stderr",
     "output_type": "stream",
     "text": [
      "Processing entries:  44%|████▎     | 708/1621 [4:00:31<5:43:36, 22.58s/it]"
     ]
    },
    {
     "name": "stdout",
     "output_type": "stream",
     "text": [
      "[OK] photo_20241101081247_3.json -> C:/Users/user/pythonproject/AllDataset/VAT-OCR\\triple_receipt\\label\\train_new\\photo_20241101081247_3.json\n"
     ]
    },
    {
     "name": "stderr",
     "output_type": "stream",
     "text": [
      "Processing entries:  44%|████▎     | 709/1621 [4:00:55<5:49:47, 23.01s/it]"
     ]
    },
    {
     "name": "stdout",
     "output_type": "stream",
     "text": [
      "[OK] photo_20241101081247_4.json -> C:/Users/user/pythonproject/AllDataset/VAT-OCR\\triple_receipt\\label\\train_new\\photo_20241101081247_4.json\n"
     ]
    },
    {
     "name": "stderr",
     "output_type": "stream",
     "text": [
      "Processing entries:  44%|████▍     | 710/1621 [4:01:19<5:54:56, 23.38s/it]"
     ]
    },
    {
     "name": "stdout",
     "output_type": "stream",
     "text": [
      "[OK] photo_20241101081247_5.json -> C:/Users/user/pythonproject/AllDataset/VAT-OCR\\triple_receipt\\label\\train_new\\photo_20241101081247_5.json\n"
     ]
    },
    {
     "name": "stderr",
     "output_type": "stream",
     "text": [
      "Processing entries:  44%|████▍     | 711/1621 [4:01:35<5:23:41, 21.34s/it]"
     ]
    },
    {
     "name": "stdout",
     "output_type": "stream",
     "text": [
      "[FAIL] photo_20241101081247_6.json -> C:/Users/user/pythonproject/AllDataset/VAT-OCR\\triple_receipt\\label\\train_fail\\photo_20241101081247_6.json\n"
     ]
    },
    {
     "name": "stderr",
     "output_type": "stream",
     "text": [
      "Processing entries:  44%|████▍     | 712/1621 [4:01:55<5:17:02, 20.93s/it]"
     ]
    },
    {
     "name": "stdout",
     "output_type": "stream",
     "text": [
      "[FAIL] photo_20241101082753_1.json -> C:/Users/user/pythonproject/AllDataset/VAT-OCR\\triple_receipt\\label\\train_fail\\photo_20241101082753_1.json\n"
     ]
    },
    {
     "name": "stderr",
     "output_type": "stream",
     "text": [
      "Processing entries:  44%|████▍     | 713/1621 [4:02:16<5:15:06, 20.82s/it]"
     ]
    },
    {
     "name": "stdout",
     "output_type": "stream",
     "text": [
      "[OK] photo_20241101082753_2.json -> C:/Users/user/pythonproject/AllDataset/VAT-OCR\\triple_receipt\\label\\train_new\\photo_20241101082753_2.json\n"
     ]
    },
    {
     "name": "stderr",
     "output_type": "stream",
     "text": [
      "Processing entries:  44%|████▍     | 714/1621 [4:02:31<4:49:42, 19.16s/it]"
     ]
    },
    {
     "name": "stdout",
     "output_type": "stream",
     "text": [
      "[FAIL] photo_20241101082753_3.json -> C:/Users/user/pythonproject/AllDataset/VAT-OCR\\triple_receipt\\label\\train_fail\\photo_20241101082753_3.json\n"
     ]
    },
    {
     "name": "stderr",
     "output_type": "stream",
     "text": [
      "Processing entries:  44%|████▍     | 715/1621 [4:02:51<4:50:26, 19.23s/it]"
     ]
    },
    {
     "name": "stdout",
     "output_type": "stream",
     "text": [
      "[FAIL] photo_20241101082753_4.json -> C:/Users/user/pythonproject/AllDataset/VAT-OCR\\triple_receipt\\label\\train_fail\\photo_20241101082753_4.json\n"
     ]
    },
    {
     "name": "stderr",
     "output_type": "stream",
     "text": [
      "Processing entries:  44%|████▍     | 716/1621 [4:03:09<4:47:07, 19.04s/it]"
     ]
    },
    {
     "name": "stdout",
     "output_type": "stream",
     "text": [
      "[FAIL] photo_20241101082753_5.json -> C:/Users/user/pythonproject/AllDataset/VAT-OCR\\triple_receipt\\label\\train_fail\\photo_20241101082753_5.json\n"
     ]
    },
    {
     "name": "stderr",
     "output_type": "stream",
     "text": [
      "Processing entries:  44%|████▍     | 717/1621 [4:03:24<4:27:18, 17.74s/it]"
     ]
    },
    {
     "name": "stdout",
     "output_type": "stream",
     "text": [
      "[OK] photo_20241101082753_6.json -> C:/Users/user/pythonproject/AllDataset/VAT-OCR\\triple_receipt\\label\\train_new\\photo_20241101082753_6.json\n"
     ]
    },
    {
     "name": "stderr",
     "output_type": "stream",
     "text": [
      "Processing entries:  44%|████▍     | 718/1621 [4:03:40<4:17:34, 17.12s/it]"
     ]
    },
    {
     "name": "stdout",
     "output_type": "stream",
     "text": [
      "[FAIL] photo_20241101085732_1.json -> C:/Users/user/pythonproject/AllDataset/VAT-OCR\\triple_receipt\\label\\train_fail\\photo_20241101085732_1.json\n"
     ]
    },
    {
     "name": "stderr",
     "output_type": "stream",
     "text": [
      "Processing entries:  44%|████▍     | 719/1621 [4:03:59<4:29:07, 17.90s/it]"
     ]
    },
    {
     "name": "stdout",
     "output_type": "stream",
     "text": [
      "[FAIL] photo_20241101085732_2.json -> C:/Users/user/pythonproject/AllDataset/VAT-OCR\\triple_receipt\\label\\train_fail\\photo_20241101085732_2.json\n"
     ]
    },
    {
     "name": "stderr",
     "output_type": "stream",
     "text": [
      "Processing entries:  44%|████▍     | 720/1621 [4:04:16<4:23:46, 17.57s/it]"
     ]
    },
    {
     "name": "stdout",
     "output_type": "stream",
     "text": [
      "[FAIL] photo_20241101085732_3.json -> C:/Users/user/pythonproject/AllDataset/VAT-OCR\\triple_receipt\\label\\train_fail\\photo_20241101085732_3.json\n"
     ]
    },
    {
     "name": "stderr",
     "output_type": "stream",
     "text": [
      "Processing entries:  44%|████▍     | 721/1621 [4:04:31<4:12:42, 16.85s/it]"
     ]
    },
    {
     "name": "stdout",
     "output_type": "stream",
     "text": [
      "[OK] photo_20241101085732_4.json -> C:/Users/user/pythonproject/AllDataset/VAT-OCR\\triple_receipt\\label\\train_new\\photo_20241101085732_4.json\n"
     ]
    },
    {
     "name": "stderr",
     "output_type": "stream",
     "text": [
      "Processing entries:  45%|████▍     | 722/1621 [4:04:47<4:06:43, 16.47s/it]"
     ]
    },
    {
     "name": "stdout",
     "output_type": "stream",
     "text": [
      "[OK] photo_20241101085732_7.json -> C:/Users/user/pythonproject/AllDataset/VAT-OCR\\triple_receipt\\label\\train_new\\photo_20241101085732_7.json\n"
     ]
    },
    {
     "name": "stderr",
     "output_type": "stream",
     "text": [
      "Processing entries:  45%|████▍     | 723/1621 [4:05:09<4:32:06, 18.18s/it]"
     ]
    },
    {
     "name": "stdout",
     "output_type": "stream",
     "text": [
      "[FAIL] photo_20241101085732_8.json -> C:/Users/user/pythonproject/AllDataset/VAT-OCR\\triple_receipt\\label\\train_fail\\photo_20241101085732_8.json\n"
     ]
    },
    {
     "name": "stderr",
     "output_type": "stream",
     "text": [
      "Processing entries:  45%|████▍     | 724/1621 [4:05:34<5:01:19, 20.16s/it]"
     ]
    },
    {
     "name": "stdout",
     "output_type": "stream",
     "text": [
      "[FAIL] photo_20241101085732_9.json -> C:/Users/user/pythonproject/AllDataset/VAT-OCR\\triple_receipt\\label\\train_fail\\photo_20241101085732_9.json\n"
     ]
    },
    {
     "name": "stderr",
     "output_type": "stream",
     "text": [
      "Processing entries:  45%|████▍     | 725/1621 [4:05:49<4:40:11, 18.76s/it]"
     ]
    },
    {
     "name": "stdout",
     "output_type": "stream",
     "text": [
      "[OK] photo_20241101091247_1.json -> C:/Users/user/pythonproject/AllDataset/VAT-OCR\\triple_receipt\\label\\train_new\\photo_20241101091247_1.json\n"
     ]
    },
    {
     "name": "stderr",
     "output_type": "stream",
     "text": [
      "Processing entries:  45%|████▍     | 726/1621 [4:06:06<4:30:29, 18.13s/it]"
     ]
    },
    {
     "name": "stdout",
     "output_type": "stream",
     "text": [
      "[OK] photo_20241101091247_2.json -> C:/Users/user/pythonproject/AllDataset/VAT-OCR\\triple_receipt\\label\\train_new\\photo_20241101091247_2.json\n"
     ]
    },
    {
     "name": "stderr",
     "output_type": "stream",
     "text": [
      "Processing entries:  45%|████▍     | 727/1621 [4:06:23<4:26:27, 17.88s/it]"
     ]
    },
    {
     "name": "stdout",
     "output_type": "stream",
     "text": [
      "[FAIL] photo_20241101091752_1.json -> C:/Users/user/pythonproject/AllDataset/VAT-OCR\\triple_receipt\\label\\train_fail\\photo_20241101091752_1.json\n"
     ]
    },
    {
     "name": "stderr",
     "output_type": "stream",
     "text": [
      "Processing entries:  45%|████▍     | 728/1621 [4:06:42<4:28:22, 18.03s/it]"
     ]
    },
    {
     "name": "stdout",
     "output_type": "stream",
     "text": [
      "[FAIL] photo_20241101091752_2.json -> C:/Users/user/pythonproject/AllDataset/VAT-OCR\\triple_receipt\\label\\train_fail\\photo_20241101091752_2.json\n"
     ]
    },
    {
     "name": "stderr",
     "output_type": "stream",
     "text": [
      "Processing entries:  45%|████▍     | 729/1621 [4:07:00<4:29:08, 18.10s/it]"
     ]
    },
    {
     "name": "stdout",
     "output_type": "stream",
     "text": [
      "[FAIL] photo_20241101091752_3.json -> C:/Users/user/pythonproject/AllDataset/VAT-OCR\\triple_receipt\\label\\train_fail\\photo_20241101091752_3.json\n"
     ]
    },
    {
     "name": "stderr",
     "output_type": "stream",
     "text": [
      "Processing entries:  45%|████▌     | 730/1621 [4:07:17<4:26:02, 17.92s/it]"
     ]
    },
    {
     "name": "stdout",
     "output_type": "stream",
     "text": [
      "[FAIL] photo_20241101091752_5.json -> C:/Users/user/pythonproject/AllDataset/VAT-OCR\\triple_receipt\\label\\train_fail\\photo_20241101091752_5.json\n"
     ]
    },
    {
     "name": "stderr",
     "output_type": "stream",
     "text": [
      "Processing entries:  45%|████▌     | 731/1621 [4:07:36<4:28:28, 18.10s/it]"
     ]
    },
    {
     "name": "stdout",
     "output_type": "stream",
     "text": [
      "[OK] photo_20241101091752_7.json -> C:/Users/user/pythonproject/AllDataset/VAT-OCR\\triple_receipt\\label\\train_new\\photo_20241101091752_7.json\n"
     ]
    },
    {
     "name": "stderr",
     "output_type": "stream",
     "text": [
      "Processing entries:  45%|████▌     | 732/1621 [4:07:56<4:35:35, 18.60s/it]"
     ]
    },
    {
     "name": "stdout",
     "output_type": "stream",
     "text": [
      "[FAIL] photo_20241101093100_1.json -> C:/Users/user/pythonproject/AllDataset/VAT-OCR\\triple_receipt\\label\\train_fail\\photo_20241101093100_1.json\n"
     ]
    },
    {
     "name": "stderr",
     "output_type": "stream",
     "text": [
      "Processing entries:  45%|████▌     | 733/1621 [4:08:09<4:12:42, 17.07s/it]"
     ]
    },
    {
     "name": "stdout",
     "output_type": "stream",
     "text": [
      "[FAIL] photo_20241101093100_2.json -> C:/Users/user/pythonproject/AllDataset/VAT-OCR\\triple_receipt\\label\\train_fail\\photo_20241101093100_2.json\n"
     ]
    },
    {
     "name": "stderr",
     "output_type": "stream",
     "text": [
      "Processing entries:  45%|████▌     | 734/1621 [4:08:27<4:14:59, 17.25s/it]"
     ]
    },
    {
     "name": "stdout",
     "output_type": "stream",
     "text": [
      "[OK] photo_20241101093821_1.json -> C:/Users/user/pythonproject/AllDataset/VAT-OCR\\triple_receipt\\label\\train_new\\photo_20241101093821_1.json\n"
     ]
    },
    {
     "name": "stderr",
     "output_type": "stream",
     "text": [
      "Processing entries:  45%|████▌     | 735/1621 [4:08:52<4:50:05, 19.65s/it]"
     ]
    },
    {
     "name": "stdout",
     "output_type": "stream",
     "text": [
      "[OK] photo_20241101093821_2.json -> C:/Users/user/pythonproject/AllDataset/VAT-OCR\\triple_receipt\\label\\train_new\\photo_20241101093821_2.json\n"
     ]
    },
    {
     "name": "stderr",
     "output_type": "stream",
     "text": [
      "Processing entries:  45%|████▌     | 736/1621 [4:09:17<5:13:52, 21.28s/it]"
     ]
    },
    {
     "name": "stdout",
     "output_type": "stream",
     "text": [
      "[OK] photo_20241101093821_3.json -> C:/Users/user/pythonproject/AllDataset/VAT-OCR\\triple_receipt\\label\\train_new\\photo_20241101093821_3.json\n"
     ]
    },
    {
     "name": "stderr",
     "output_type": "stream",
     "text": [
      "Processing entries:  45%|████▌     | 737/1621 [4:09:40<5:19:01, 21.65s/it]"
     ]
    },
    {
     "name": "stdout",
     "output_type": "stream",
     "text": [
      "[OK] photo_20241101093821_4.json -> C:/Users/user/pythonproject/AllDataset/VAT-OCR\\triple_receipt\\label\\train_new\\photo_20241101093821_4.json\n"
     ]
    },
    {
     "name": "stderr",
     "output_type": "stream",
     "text": [
      "Processing entries:  46%|████▌     | 738/1621 [4:10:05<5:34:59, 22.76s/it]"
     ]
    },
    {
     "name": "stdout",
     "output_type": "stream",
     "text": [
      "[OK] photo_20241101093821_5.json -> C:/Users/user/pythonproject/AllDataset/VAT-OCR\\triple_receipt\\label\\train_new\\photo_20241101093821_5.json\n"
     ]
    },
    {
     "name": "stderr",
     "output_type": "stream",
     "text": [
      "Processing entries:  46%|████▌     | 739/1621 [4:10:30<5:43:12, 23.35s/it]"
     ]
    },
    {
     "name": "stdout",
     "output_type": "stream",
     "text": [
      "[FAIL] photo_20241101093821_6.json -> C:/Users/user/pythonproject/AllDataset/VAT-OCR\\triple_receipt\\label\\train_fail\\photo_20241101093821_6.json\n"
     ]
    },
    {
     "name": "stderr",
     "output_type": "stream",
     "text": [
      "Processing entries:  46%|████▌     | 740/1621 [4:10:56<5:53:55, 24.10s/it]"
     ]
    },
    {
     "name": "stdout",
     "output_type": "stream",
     "text": [
      "[FAIL] photo_20241101093821_7.json -> C:/Users/user/pythonproject/AllDataset/VAT-OCR\\triple_receipt\\label\\train_fail\\photo_20241101093821_7.json\n"
     ]
    },
    {
     "name": "stderr",
     "output_type": "stream",
     "text": [
      "Processing entries:  46%|████▌     | 741/1621 [4:11:19<5:51:54, 23.99s/it]"
     ]
    },
    {
     "name": "stdout",
     "output_type": "stream",
     "text": [
      "[FAIL] photo_20241101093821_8.json -> C:/Users/user/pythonproject/AllDataset/VAT-OCR\\triple_receipt\\label\\train_fail\\photo_20241101093821_8.json\n"
     ]
    },
    {
     "name": "stderr",
     "output_type": "stream",
     "text": [
      "Processing entries:  46%|████▌     | 742/1621 [4:11:42<5:43:18, 23.43s/it]"
     ]
    },
    {
     "name": "stdout",
     "output_type": "stream",
     "text": [
      "[OK] photo_20241102114456_1.json -> C:/Users/user/pythonproject/AllDataset/VAT-OCR\\triple_receipt\\label\\train_new\\photo_20241102114456_1.json\n"
     ]
    },
    {
     "name": "stderr",
     "output_type": "stream",
     "text": [
      "Processing entries:  46%|████▌     | 743/1621 [4:12:09<6:02:07, 24.75s/it]"
     ]
    },
    {
     "name": "stdout",
     "output_type": "stream",
     "text": [
      "[OK] photo_20241102114456_2.json -> C:/Users/user/pythonproject/AllDataset/VAT-OCR\\triple_receipt\\label\\train_new\\photo_20241102114456_2.json\n"
     ]
    },
    {
     "name": "stderr",
     "output_type": "stream",
     "text": [
      "Processing entries:  46%|████▌     | 744/1621 [4:12:25<5:22:25, 22.06s/it]"
     ]
    },
    {
     "name": "stdout",
     "output_type": "stream",
     "text": [
      "[OK] photo_20241102114456_3.json -> C:/Users/user/pythonproject/AllDataset/VAT-OCR\\triple_receipt\\label\\train_new\\photo_20241102114456_3.json\n"
     ]
    },
    {
     "name": "stderr",
     "output_type": "stream",
     "text": [
      "Processing entries:  46%|████▌     | 745/1621 [4:12:51<5:38:37, 23.19s/it]"
     ]
    },
    {
     "name": "stdout",
     "output_type": "stream",
     "text": [
      "[OK] photo_20241102114456_5.json -> C:/Users/user/pythonproject/AllDataset/VAT-OCR\\triple_receipt\\label\\train_new\\photo_20241102114456_5.json\n"
     ]
    },
    {
     "name": "stderr",
     "output_type": "stream",
     "text": [
      "Processing entries:  46%|████▌     | 746/1621 [4:13:16<5:45:34, 23.70s/it]"
     ]
    },
    {
     "name": "stdout",
     "output_type": "stream",
     "text": [
      "[FAIL] photo_20241102114456_7.json -> C:/Users/user/pythonproject/AllDataset/VAT-OCR\\triple_receipt\\label\\train_fail\\photo_20241102114456_7.json\n"
     ]
    },
    {
     "name": "stderr",
     "output_type": "stream",
     "text": [
      "Processing entries:  46%|████▌     | 747/1621 [4:13:40<5:48:39, 23.94s/it]"
     ]
    },
    {
     "name": "stdout",
     "output_type": "stream",
     "text": [
      "[OK] photo_20241102114456_8.json -> C:/Users/user/pythonproject/AllDataset/VAT-OCR\\triple_receipt\\label\\train_new\\photo_20241102114456_8.json\n"
     ]
    },
    {
     "name": "stderr",
     "output_type": "stream",
     "text": [
      "Processing entries:  46%|████▌     | 748/1621 [4:14:04<5:45:40, 23.76s/it]"
     ]
    },
    {
     "name": "stdout",
     "output_type": "stream",
     "text": [
      "[OK] photo_20241102115535_1.json -> C:/Users/user/pythonproject/AllDataset/VAT-OCR\\triple_receipt\\label\\train_new\\photo_20241102115535_1.json\n"
     ]
    },
    {
     "name": "stderr",
     "output_type": "stream",
     "text": [
      "Processing entries:  46%|████▌     | 749/1621 [4:14:17<5:01:19, 20.73s/it]"
     ]
    },
    {
     "name": "stdout",
     "output_type": "stream",
     "text": [
      "[FAIL] photo_20241102115535_11.json -> C:/Users/user/pythonproject/AllDataset/VAT-OCR\\triple_receipt\\label\\train_fail\\photo_20241102115535_11.json\n"
     ]
    },
    {
     "name": "stderr",
     "output_type": "stream",
     "text": [
      "Processing entries:  46%|████▋     | 750/1621 [4:14:33<4:37:05, 19.09s/it]"
     ]
    },
    {
     "name": "stdout",
     "output_type": "stream",
     "text": [
      "[OK] photo_20241102115535_2.json -> C:/Users/user/pythonproject/AllDataset/VAT-OCR\\triple_receipt\\label\\train_new\\photo_20241102115535_2.json\n"
     ]
    },
    {
     "name": "stderr",
     "output_type": "stream",
     "text": [
      "Processing entries:  46%|████▋     | 751/1621 [4:14:54<4:46:01, 19.73s/it]"
     ]
    },
    {
     "name": "stdout",
     "output_type": "stream",
     "text": [
      "[OK] photo_20241102115535_3.json -> C:/Users/user/pythonproject/AllDataset/VAT-OCR\\triple_receipt\\label\\train_new\\photo_20241102115535_3.json\n"
     ]
    },
    {
     "name": "stderr",
     "output_type": "stream",
     "text": [
      "Processing entries:  46%|████▋     | 752/1621 [4:15:18<5:03:04, 20.93s/it]"
     ]
    },
    {
     "name": "stdout",
     "output_type": "stream",
     "text": [
      "[OK] photo_20241102115535_4.json -> C:/Users/user/pythonproject/AllDataset/VAT-OCR\\triple_receipt\\label\\train_new\\photo_20241102115535_4.json\n"
     ]
    },
    {
     "name": "stderr",
     "output_type": "stream",
     "text": [
      "Processing entries:  46%|████▋     | 753/1621 [4:15:42<5:17:55, 21.98s/it]"
     ]
    },
    {
     "name": "stdout",
     "output_type": "stream",
     "text": [
      "[OK] photo_20241102115535_6.json -> C:/Users/user/pythonproject/AllDataset/VAT-OCR\\triple_receipt\\label\\train_new\\photo_20241102115535_6.json\n"
     ]
    },
    {
     "name": "stderr",
     "output_type": "stream",
     "text": [
      "Processing entries:  47%|████▋     | 754/1621 [4:16:07<5:31:11, 22.92s/it]"
     ]
    },
    {
     "name": "stdout",
     "output_type": "stream",
     "text": [
      "[OK] photo_20241102115535_7.json -> C:/Users/user/pythonproject/AllDataset/VAT-OCR\\triple_receipt\\label\\train_new\\photo_20241102115535_7.json\n"
     ]
    },
    {
     "name": "stderr",
     "output_type": "stream",
     "text": [
      "Processing entries:  47%|████▋     | 755/1621 [4:16:31<5:36:42, 23.33s/it]"
     ]
    },
    {
     "name": "stdout",
     "output_type": "stream",
     "text": [
      "[FAIL] photo_20241102115535_8.json -> C:/Users/user/pythonproject/AllDataset/VAT-OCR\\triple_receipt\\label\\train_fail\\photo_20241102115535_8.json\n"
     ]
    },
    {
     "name": "stderr",
     "output_type": "stream",
     "text": [
      "Processing entries:  47%|████▋     | 756/1621 [4:16:56<5:41:02, 23.66s/it]"
     ]
    },
    {
     "name": "stdout",
     "output_type": "stream",
     "text": [
      "[OK] photo_20241102115535_9.json -> C:/Users/user/pythonproject/AllDataset/VAT-OCR\\triple_receipt\\label\\train_new\\photo_20241102115535_9.json\n"
     ]
    },
    {
     "name": "stderr",
     "output_type": "stream",
     "text": [
      "Processing entries:  47%|████▋     | 757/1621 [4:17:21<5:46:21, 24.05s/it]"
     ]
    },
    {
     "name": "stdout",
     "output_type": "stream",
     "text": [
      "[OK] photo_20241102120715_1.json -> C:/Users/user/pythonproject/AllDataset/VAT-OCR\\triple_receipt\\label\\train_new\\photo_20241102120715_1.json\n"
     ]
    },
    {
     "name": "stderr",
     "output_type": "stream",
     "text": [
      "Processing entries:  47%|████▋     | 758/1621 [4:17:41<5:27:30, 22.77s/it]"
     ]
    },
    {
     "name": "stdout",
     "output_type": "stream",
     "text": [
      "[OK] photo_20241102120715_2.json -> C:/Users/user/pythonproject/AllDataset/VAT-OCR\\triple_receipt\\label\\train_new\\photo_20241102120715_2.json\n"
     ]
    },
    {
     "name": "stderr",
     "output_type": "stream",
     "text": [
      "Processing entries:  47%|████▋     | 759/1621 [4:17:56<4:57:19, 20.70s/it]"
     ]
    },
    {
     "name": "stdout",
     "output_type": "stream",
     "text": [
      "[OK] photo_20241102121341_1.json -> C:/Users/user/pythonproject/AllDataset/VAT-OCR\\triple_receipt\\label\\train_new\\photo_20241102121341_1.json\n"
     ]
    },
    {
     "name": "stderr",
     "output_type": "stream",
     "text": [
      "Processing entries:  47%|████▋     | 760/1621 [4:18:14<4:44:07, 19.80s/it]"
     ]
    },
    {
     "name": "stdout",
     "output_type": "stream",
     "text": [
      "[FAIL] photo_20241102121341_2.json -> C:/Users/user/pythonproject/AllDataset/VAT-OCR\\triple_receipt\\label\\train_fail\\photo_20241102121341_2.json\n"
     ]
    },
    {
     "name": "stderr",
     "output_type": "stream",
     "text": [
      "Processing entries:  47%|████▋     | 761/1621 [4:18:30<4:28:02, 18.70s/it]"
     ]
    },
    {
     "name": "stdout",
     "output_type": "stream",
     "text": [
      "[FAIL] photo_20241102121341_3.json -> C:/Users/user/pythonproject/AllDataset/VAT-OCR\\triple_receipt\\label\\train_fail\\photo_20241102121341_3.json\n"
     ]
    },
    {
     "name": "stderr",
     "output_type": "stream",
     "text": [
      "Processing entries:  47%|████▋     | 762/1621 [4:18:50<4:31:35, 18.97s/it]"
     ]
    },
    {
     "name": "stdout",
     "output_type": "stream",
     "text": [
      "[FAIL] photo_20241102121341_4.json -> C:/Users/user/pythonproject/AllDataset/VAT-OCR\\triple_receipt\\label\\train_fail\\photo_20241102121341_4.json\n"
     ]
    },
    {
     "name": "stderr",
     "output_type": "stream",
     "text": [
      "Processing entries:  47%|████▋     | 763/1621 [4:19:08<4:25:50, 18.59s/it]"
     ]
    },
    {
     "name": "stdout",
     "output_type": "stream",
     "text": [
      "[FAIL] photo_20241102121341_5.json -> C:/Users/user/pythonproject/AllDataset/VAT-OCR\\triple_receipt\\label\\train_fail\\photo_20241102121341_5.json\n"
     ]
    },
    {
     "name": "stderr",
     "output_type": "stream",
     "text": [
      "Processing entries:  47%|████▋     | 764/1621 [4:19:28<4:32:59, 19.11s/it]"
     ]
    },
    {
     "name": "stdout",
     "output_type": "stream",
     "text": [
      "[FAIL] photo_20241102122452_1.json -> C:/Users/user/pythonproject/AllDataset/VAT-OCR\\triple_receipt\\label\\train_fail\\photo_20241102122452_1.json\n"
     ]
    },
    {
     "name": "stderr",
     "output_type": "stream",
     "text": [
      "Processing entries:  47%|████▋     | 765/1621 [4:19:46<4:29:40, 18.90s/it]"
     ]
    },
    {
     "name": "stdout",
     "output_type": "stream",
     "text": [
      "[FAIL] photo_20241102122452_3.json -> C:/Users/user/pythonproject/AllDataset/VAT-OCR\\triple_receipt\\label\\train_fail\\photo_20241102122452_3.json\n"
     ]
    },
    {
     "name": "stderr",
     "output_type": "stream",
     "text": [
      "Processing entries:  47%|████▋     | 766/1621 [4:20:03<4:20:25, 18.28s/it]"
     ]
    },
    {
     "name": "stdout",
     "output_type": "stream",
     "text": [
      "[OK] photo_20241102122452_4.json -> C:/Users/user/pythonproject/AllDataset/VAT-OCR\\triple_receipt\\label\\train_new\\photo_20241102122452_4.json\n"
     ]
    },
    {
     "name": "stderr",
     "output_type": "stream",
     "text": [
      "Processing entries:  47%|████▋     | 767/1621 [4:20:19<4:11:59, 17.70s/it]"
     ]
    },
    {
     "name": "stdout",
     "output_type": "stream",
     "text": [
      "[OK] photo_20241102122452_5.json -> C:/Users/user/pythonproject/AllDataset/VAT-OCR\\triple_receipt\\label\\train_new\\photo_20241102122452_5.json\n"
     ]
    },
    {
     "name": "stderr",
     "output_type": "stream",
     "text": [
      "Processing entries:  47%|████▋     | 768/1621 [4:20:36<4:04:48, 17.22s/it]"
     ]
    },
    {
     "name": "stdout",
     "output_type": "stream",
     "text": [
      "[FAIL] photo_20241102122452_6.json -> C:/Users/user/pythonproject/AllDataset/VAT-OCR\\triple_receipt\\label\\train_fail\\photo_20241102122452_6.json\n"
     ]
    },
    {
     "name": "stderr",
     "output_type": "stream",
     "text": [
      "Processing entries:  47%|████▋     | 769/1621 [4:20:53<4:06:34, 17.36s/it]"
     ]
    },
    {
     "name": "stdout",
     "output_type": "stream",
     "text": [
      "[FAIL] photo_20241102123205_1.json -> C:/Users/user/pythonproject/AllDataset/VAT-OCR\\triple_receipt\\label\\train_fail\\photo_20241102123205_1.json\n"
     ]
    },
    {
     "name": "stderr",
     "output_type": "stream",
     "text": [
      "Processing entries:  48%|████▊     | 770/1621 [4:21:12<4:11:29, 17.73s/it]"
     ]
    },
    {
     "name": "stdout",
     "output_type": "stream",
     "text": [
      "[FAIL] photo_20241102123205_2.json -> C:/Users/user/pythonproject/AllDataset/VAT-OCR\\triple_receipt\\label\\train_fail\\photo_20241102123205_2.json\n"
     ]
    },
    {
     "name": "stderr",
     "output_type": "stream",
     "text": [
      "Processing entries:  48%|████▊     | 771/1621 [4:21:28<4:05:17, 17.31s/it]"
     ]
    },
    {
     "name": "stdout",
     "output_type": "stream",
     "text": [
      "[FAIL] photo_20241102123205_3.json -> C:/Users/user/pythonproject/AllDataset/VAT-OCR\\triple_receipt\\label\\train_fail\\photo_20241102123205_3.json\n"
     ]
    },
    {
     "name": "stderr",
     "output_type": "stream",
     "text": [
      "Processing entries:  48%|████▊     | 772/1621 [4:21:45<4:04:11, 17.26s/it]"
     ]
    },
    {
     "name": "stdout",
     "output_type": "stream",
     "text": [
      "[OK] photo_20241102123205_4.json -> C:/Users/user/pythonproject/AllDataset/VAT-OCR\\triple_receipt\\label\\train_new\\photo_20241102123205_4.json\n"
     ]
    },
    {
     "name": "stderr",
     "output_type": "stream",
     "text": [
      "Processing entries:  48%|████▊     | 773/1621 [4:22:04<4:09:31, 17.65s/it]"
     ]
    },
    {
     "name": "stdout",
     "output_type": "stream",
     "text": [
      "[FAIL] photo_20241102123205_5.json -> C:/Users/user/pythonproject/AllDataset/VAT-OCR\\triple_receipt\\label\\train_fail\\photo_20241102123205_5.json\n"
     ]
    },
    {
     "name": "stderr",
     "output_type": "stream",
     "text": [
      "Processing entries:  48%|████▊     | 774/1621 [4:22:20<4:04:39, 17.33s/it]"
     ]
    },
    {
     "name": "stdout",
     "output_type": "stream",
     "text": [
      "[OK] photo_20241102123205_6.json -> C:/Users/user/pythonproject/AllDataset/VAT-OCR\\triple_receipt\\label\\train_new\\photo_20241102123205_6.json\n"
     ]
    },
    {
     "name": "stderr",
     "output_type": "stream",
     "text": [
      "Processing entries:  48%|████▊     | 775/1621 [4:22:36<3:57:33, 16.85s/it]"
     ]
    },
    {
     "name": "stdout",
     "output_type": "stream",
     "text": [
      "[OK] photo_20241102133245_1.json -> C:/Users/user/pythonproject/AllDataset/VAT-OCR\\triple_receipt\\label\\train_new\\photo_20241102133245_1.json\n"
     ]
    },
    {
     "name": "stderr",
     "output_type": "stream",
     "text": [
      "Processing entries:  48%|████▊     | 776/1621 [4:23:00<4:26:59, 18.96s/it]"
     ]
    },
    {
     "name": "stdout",
     "output_type": "stream",
     "text": [
      "[OK] photo_20241102133245_2.json -> C:/Users/user/pythonproject/AllDataset/VAT-OCR\\triple_receipt\\label\\train_new\\photo_20241102133245_2.json\n"
     ]
    },
    {
     "name": "stderr",
     "output_type": "stream",
     "text": [
      "Processing entries:  48%|████▊     | 777/1621 [4:23:16<4:13:29, 18.02s/it]"
     ]
    },
    {
     "name": "stdout",
     "output_type": "stream",
     "text": [
      "[OK] photo_20241102133245_3.json -> C:/Users/user/pythonproject/AllDataset/VAT-OCR\\triple_receipt\\label\\train_new\\photo_20241102133245_3.json\n"
     ]
    },
    {
     "name": "stderr",
     "output_type": "stream",
     "text": [
      "Processing entries:  48%|████▊     | 778/1621 [4:23:32<4:04:09, 17.38s/it]"
     ]
    },
    {
     "name": "stdout",
     "output_type": "stream",
     "text": [
      "[OK] photo_20241102133245_4.json -> C:/Users/user/pythonproject/AllDataset/VAT-OCR\\triple_receipt\\label\\train_new\\photo_20241102133245_4.json\n"
     ]
    },
    {
     "name": "stderr",
     "output_type": "stream",
     "text": [
      "Processing entries:  48%|████▊     | 779/1621 [4:23:49<4:01:56, 17.24s/it]"
     ]
    },
    {
     "name": "stdout",
     "output_type": "stream",
     "text": [
      "[OK] photo_20241102133245_5.json -> C:/Users/user/pythonproject/AllDataset/VAT-OCR\\triple_receipt\\label\\train_new\\photo_20241102133245_5.json\n"
     ]
    },
    {
     "name": "stderr",
     "output_type": "stream",
     "text": [
      "Processing entries:  48%|████▊     | 780/1621 [4:24:12<4:26:39, 19.02s/it]"
     ]
    },
    {
     "name": "stdout",
     "output_type": "stream",
     "text": [
      "[FAIL] photo_20241102134004_1.json -> C:/Users/user/pythonproject/AllDataset/VAT-OCR\\triple_receipt\\label\\train_fail\\photo_20241102134004_1.json\n"
     ]
    },
    {
     "name": "stderr",
     "output_type": "stream",
     "text": [
      "Processing entries:  48%|████▊     | 781/1621 [4:24:32<4:30:11, 19.30s/it]"
     ]
    },
    {
     "name": "stdout",
     "output_type": "stream",
     "text": [
      "[FAIL] photo_20241102134004_2.json -> C:/Users/user/pythonproject/AllDataset/VAT-OCR\\triple_receipt\\label\\train_fail\\photo_20241102134004_2.json\n"
     ]
    },
    {
     "name": "stderr",
     "output_type": "stream",
     "text": [
      "Processing entries:  48%|████▊     | 782/1621 [4:24:48<4:16:19, 18.33s/it]"
     ]
    },
    {
     "name": "stdout",
     "output_type": "stream",
     "text": [
      "[OK] photo_20241102134004_3.json -> C:/Users/user/pythonproject/AllDataset/VAT-OCR\\triple_receipt\\label\\train_new\\photo_20241102134004_3.json\n"
     ]
    },
    {
     "name": "stderr",
     "output_type": "stream",
     "text": [
      "Processing entries:  48%|████▊     | 783/1621 [4:25:06<4:14:47, 18.24s/it]"
     ]
    },
    {
     "name": "stdout",
     "output_type": "stream",
     "text": [
      "[FAIL] photo_20241102134004_5.json -> C:/Users/user/pythonproject/AllDataset/VAT-OCR\\triple_receipt\\label\\train_fail\\photo_20241102134004_5.json\n"
     ]
    },
    {
     "name": "stderr",
     "output_type": "stream",
     "text": [
      "Processing entries:  48%|████▊     | 784/1621 [4:25:22<4:05:55, 17.63s/it]"
     ]
    },
    {
     "name": "stdout",
     "output_type": "stream",
     "text": [
      "[OK] photo_20241102134004_6.json -> C:/Users/user/pythonproject/AllDataset/VAT-OCR\\triple_receipt\\label\\train_new\\photo_20241102134004_6.json\n"
     ]
    },
    {
     "name": "stderr",
     "output_type": "stream",
     "text": [
      "Processing entries:  48%|████▊     | 785/1621 [4:25:41<4:11:26, 18.05s/it]"
     ]
    },
    {
     "name": "stdout",
     "output_type": "stream",
     "text": [
      "[FAIL] photo_20241102134004_7.json -> C:/Users/user/pythonproject/AllDataset/VAT-OCR\\triple_receipt\\label\\train_fail\\photo_20241102134004_7.json\n"
     ]
    },
    {
     "name": "stderr",
     "output_type": "stream",
     "text": [
      "Processing entries:  48%|████▊     | 786/1621 [4:26:02<4:23:24, 18.93s/it]"
     ]
    },
    {
     "name": "stdout",
     "output_type": "stream",
     "text": [
      "[FAIL] photo_20241102134004_8.json -> C:/Users/user/pythonproject/AllDataset/VAT-OCR\\triple_receipt\\label\\train_fail\\photo_20241102134004_8.json\n"
     ]
    },
    {
     "name": "stderr",
     "output_type": "stream",
     "text": [
      "Processing entries:  49%|████▊     | 787/1621 [4:26:22<4:25:08, 19.07s/it]"
     ]
    },
    {
     "name": "stdout",
     "output_type": "stream",
     "text": [
      "[FAIL] photo_20241102135134_1.json -> C:/Users/user/pythonproject/AllDataset/VAT-OCR\\triple_receipt\\label\\train_fail\\photo_20241102135134_1.json\n"
     ]
    },
    {
     "name": "stderr",
     "output_type": "stream",
     "text": [
      "Processing entries:  49%|████▊     | 788/1621 [4:26:37<4:09:01, 17.94s/it]"
     ]
    },
    {
     "name": "stdout",
     "output_type": "stream",
     "text": [
      "[FAIL] photo_20241102135134_2.json -> C:/Users/user/pythonproject/AllDataset/VAT-OCR\\triple_receipt\\label\\train_fail\\photo_20241102135134_2.json\n"
     ]
    },
    {
     "name": "stderr",
     "output_type": "stream",
     "text": [
      "Processing entries:  49%|████▊     | 789/1621 [4:26:55<4:10:55, 18.10s/it]"
     ]
    },
    {
     "name": "stdout",
     "output_type": "stream",
     "text": [
      "[FAIL] photo_20241102135134_3.json -> C:/Users/user/pythonproject/AllDataset/VAT-OCR\\triple_receipt\\label\\train_fail\\photo_20241102135134_3.json\n"
     ]
    },
    {
     "name": "stderr",
     "output_type": "stream",
     "text": [
      "Processing entries:  49%|████▊     | 790/1621 [4:27:13<4:09:37, 18.02s/it]"
     ]
    },
    {
     "name": "stdout",
     "output_type": "stream",
     "text": [
      "[FAIL] photo_20241102135134_4.json -> C:/Users/user/pythonproject/AllDataset/VAT-OCR\\triple_receipt\\label\\train_fail\\photo_20241102135134_4.json\n"
     ]
    },
    {
     "name": "stderr",
     "output_type": "stream",
     "text": [
      "Processing entries:  49%|████▉     | 791/1621 [4:27:34<4:19:51, 18.78s/it]"
     ]
    },
    {
     "name": "stdout",
     "output_type": "stream",
     "text": [
      "[FAIL] photo_20241102135134_5.json -> C:/Users/user/pythonproject/AllDataset/VAT-OCR\\triple_receipt\\label\\train_fail\\photo_20241102135134_5.json\n"
     ]
    },
    {
     "name": "stderr",
     "output_type": "stream",
     "text": [
      "Processing entries:  49%|████▉     | 792/1621 [4:27:54<4:25:57, 19.25s/it]"
     ]
    },
    {
     "name": "stdout",
     "output_type": "stream",
     "text": [
      "[FAIL] photo_20241102135134_6.json -> C:/Users/user/pythonproject/AllDataset/VAT-OCR\\triple_receipt\\label\\train_fail\\photo_20241102135134_6.json\n"
     ]
    },
    {
     "name": "stderr",
     "output_type": "stream",
     "text": [
      "Processing entries:  49%|████▉     | 793/1621 [4:28:11<4:17:20, 18.65s/it]"
     ]
    },
    {
     "name": "stdout",
     "output_type": "stream",
     "text": [
      "[FAIL] photo_20241102135134_7.json -> C:/Users/user/pythonproject/AllDataset/VAT-OCR\\triple_receipt\\label\\train_fail\\photo_20241102135134_7.json\n"
     ]
    },
    {
     "name": "stderr",
     "output_type": "stream",
     "text": [
      "Processing entries:  49%|████▉     | 794/1621 [4:28:27<4:05:31, 17.81s/it]"
     ]
    },
    {
     "name": "stdout",
     "output_type": "stream",
     "text": [
      "[FAIL] photo_20241102135134_8.json -> C:/Users/user/pythonproject/AllDataset/VAT-OCR\\triple_receipt\\label\\train_fail\\photo_20241102135134_8.json\n"
     ]
    },
    {
     "name": "stderr",
     "output_type": "stream",
     "text": [
      "Processing entries:  49%|████▉     | 795/1621 [4:28:43<3:57:41, 17.27s/it]"
     ]
    },
    {
     "name": "stdout",
     "output_type": "stream",
     "text": [
      "[FAIL] photo_20241102140329_1.json -> C:/Users/user/pythonproject/AllDataset/VAT-OCR\\triple_receipt\\label\\train_fail\\photo_20241102140329_1.json\n"
     ]
    },
    {
     "name": "stderr",
     "output_type": "stream",
     "text": [
      "Processing entries:  49%|████▉     | 796/1621 [4:28:59<3:52:43, 16.93s/it]"
     ]
    },
    {
     "name": "stdout",
     "output_type": "stream",
     "text": [
      "[FAIL] photo_20241102140329_2.json -> C:/Users/user/pythonproject/AllDataset/VAT-OCR\\triple_receipt\\label\\train_fail\\photo_20241102140329_2.json\n"
     ]
    },
    {
     "name": "stderr",
     "output_type": "stream",
     "text": [
      "Processing entries:  49%|████▉     | 797/1621 [4:29:10<3:26:12, 15.01s/it]"
     ]
    },
    {
     "name": "stdout",
     "output_type": "stream",
     "text": [
      "[FAIL] photo_20241102140329_3.json -> C:/Users/user/pythonproject/AllDataset/VAT-OCR\\triple_receipt\\label\\train_fail\\photo_20241102140329_3.json\n"
     ]
    },
    {
     "name": "stderr",
     "output_type": "stream",
     "text": [
      "Processing entries:  49%|████▉     | 798/1621 [4:29:26<3:30:00, 15.31s/it]"
     ]
    },
    {
     "name": "stdout",
     "output_type": "stream",
     "text": [
      "[OK] photo_20241102140329_4.json -> C:/Users/user/pythonproject/AllDataset/VAT-OCR\\triple_receipt\\label\\train_new\\photo_20241102140329_4.json\n"
     ]
    },
    {
     "name": "stderr",
     "output_type": "stream",
     "text": [
      "Processing entries:  49%|████▉     | 799/1621 [4:29:42<3:33:28, 15.58s/it]"
     ]
    },
    {
     "name": "stdout",
     "output_type": "stream",
     "text": [
      "[FAIL] photo_20241102140329_5.json -> C:/Users/user/pythonproject/AllDataset/VAT-OCR\\triple_receipt\\label\\train_fail\\photo_20241102140329_5.json\n"
     ]
    },
    {
     "name": "stderr",
     "output_type": "stream",
     "text": [
      "Processing entries:  49%|████▉     | 800/1621 [4:30:04<3:59:04, 17.47s/it]"
     ]
    },
    {
     "name": "stdout",
     "output_type": "stream",
     "text": [
      "[OK] photo_20241102140329_6.json -> C:/Users/user/pythonproject/AllDataset/VAT-OCR\\triple_receipt\\label\\train_new\\photo_20241102140329_6.json\n"
     ]
    },
    {
     "name": "stderr",
     "output_type": "stream",
     "text": [
      "Processing entries:  49%|████▉     | 801/1621 [4:30:25<4:15:09, 18.67s/it]"
     ]
    },
    {
     "name": "stdout",
     "output_type": "stream",
     "text": [
      "[OK] photo_20241102140329_8.json -> C:/Users/user/pythonproject/AllDataset/VAT-OCR\\triple_receipt\\label\\train_new\\photo_20241102140329_8.json\n"
     ]
    },
    {
     "name": "stderr",
     "output_type": "stream",
     "text": [
      "Processing entries:  49%|████▉     | 802/1621 [4:30:44<4:15:13, 18.70s/it]"
     ]
    },
    {
     "name": "stdout",
     "output_type": "stream",
     "text": [
      "[OK] photo_20241102140329_9.json -> C:/Users/user/pythonproject/AllDataset/VAT-OCR\\triple_receipt\\label\\train_new\\photo_20241102140329_9.json\n"
     ]
    },
    {
     "name": "stderr",
     "output_type": "stream",
     "text": [
      "Processing entries:  50%|████▉     | 803/1621 [4:31:05<4:22:57, 19.29s/it]"
     ]
    },
    {
     "name": "stdout",
     "output_type": "stream",
     "text": [
      "[FAIL] photo_20241102142255_1.json -> C:/Users/user/pythonproject/AllDataset/VAT-OCR\\triple_receipt\\label\\train_fail\\photo_20241102142255_1.json\n"
     ]
    },
    {
     "name": "stderr",
     "output_type": "stream",
     "text": [
      "Processing entries:  50%|████▉     | 804/1621 [4:31:24<4:22:05, 19.25s/it]"
     ]
    },
    {
     "name": "stdout",
     "output_type": "stream",
     "text": [
      "[FAIL] photo_20241102142255_10.json -> C:/Users/user/pythonproject/AllDataset/VAT-OCR\\triple_receipt\\label\\train_fail\\photo_20241102142255_10.json\n"
     ]
    },
    {
     "name": "stderr",
     "output_type": "stream",
     "text": [
      "Processing entries:  50%|████▉     | 805/1621 [4:31:40<4:09:55, 18.38s/it]"
     ]
    },
    {
     "name": "stdout",
     "output_type": "stream",
     "text": [
      "[FAIL] photo_20241102142255_2.json -> C:/Users/user/pythonproject/AllDataset/VAT-OCR\\triple_receipt\\label\\train_fail\\photo_20241102142255_2.json\n"
     ]
    },
    {
     "name": "stderr",
     "output_type": "stream",
     "text": [
      "Processing entries:  50%|████▉     | 806/1621 [4:32:02<4:23:16, 19.38s/it]"
     ]
    },
    {
     "name": "stdout",
     "output_type": "stream",
     "text": [
      "[OK] photo_20241102142255_3.json -> C:/Users/user/pythonproject/AllDataset/VAT-OCR\\triple_receipt\\label\\train_new\\photo_20241102142255_3.json\n"
     ]
    },
    {
     "name": "stderr",
     "output_type": "stream",
     "text": [
      "Processing entries:  50%|████▉     | 807/1621 [4:32:17<4:06:44, 18.19s/it]"
     ]
    },
    {
     "name": "stdout",
     "output_type": "stream",
     "text": [
      "[OK] photo_20241102142255_4.json -> C:/Users/user/pythonproject/AllDataset/VAT-OCR\\triple_receipt\\label\\train_new\\photo_20241102142255_4.json\n"
     ]
    },
    {
     "name": "stderr",
     "output_type": "stream",
     "text": [
      "Processing entries:  50%|████▉     | 808/1621 [4:32:33<3:57:28, 17.53s/it]"
     ]
    },
    {
     "name": "stdout",
     "output_type": "stream",
     "text": [
      "[OK] photo_20241102142255_5.json -> C:/Users/user/pythonproject/AllDataset/VAT-OCR\\triple_receipt\\label\\train_new\\photo_20241102142255_5.json\n"
     ]
    },
    {
     "name": "stderr",
     "output_type": "stream",
     "text": [
      "Processing entries:  50%|████▉     | 809/1621 [4:32:53<4:07:09, 18.26s/it]"
     ]
    },
    {
     "name": "stdout",
     "output_type": "stream",
     "text": [
      "[FAIL] photo_20241102142255_6.json -> C:/Users/user/pythonproject/AllDataset/VAT-OCR\\triple_receipt\\label\\train_fail\\photo_20241102142255_6.json\n"
     ]
    },
    {
     "name": "stderr",
     "output_type": "stream",
     "text": [
      "Processing entries:  50%|████▉     | 810/1621 [4:33:10<3:58:05, 17.61s/it]"
     ]
    },
    {
     "name": "stdout",
     "output_type": "stream",
     "text": [
      "[OK] photo_20241102142255_7.json -> C:/Users/user/pythonproject/AllDataset/VAT-OCR\\triple_receipt\\label\\train_new\\photo_20241102142255_7.json\n"
     ]
    },
    {
     "name": "stderr",
     "output_type": "stream",
     "text": [
      "Processing entries:  50%|█████     | 811/1621 [4:33:28<4:01:34, 17.89s/it]"
     ]
    },
    {
     "name": "stdout",
     "output_type": "stream",
     "text": [
      "[FAIL] photo_20241102142255_8.json -> C:/Users/user/pythonproject/AllDataset/VAT-OCR\\triple_receipt\\label\\train_fail\\photo_20241102142255_8.json\n"
     ]
    },
    {
     "name": "stderr",
     "output_type": "stream",
     "text": [
      "Processing entries:  50%|█████     | 812/1621 [4:33:52<4:24:21, 19.61s/it]"
     ]
    },
    {
     "name": "stdout",
     "output_type": "stream",
     "text": [
      "[FAIL] photo_20241102142255_9.json -> C:/Users/user/pythonproject/AllDataset/VAT-OCR\\triple_receipt\\label\\train_fail\\photo_20241102142255_9.json\n"
     ]
    },
    {
     "name": "stderr",
     "output_type": "stream",
     "text": [
      "Processing entries:  50%|█████     | 813/1621 [4:34:10<4:18:37, 19.20s/it]"
     ]
    },
    {
     "name": "stdout",
     "output_type": "stream",
     "text": [
      "[FAIL] photo_20241102145001_1.json -> C:/Users/user/pythonproject/AllDataset/VAT-OCR\\triple_receipt\\label\\train_fail\\photo_20241102145001_1.json\n"
     ]
    },
    {
     "name": "stderr",
     "output_type": "stream",
     "text": [
      "Processing entries:  50%|█████     | 814/1621 [4:34:27<4:08:53, 18.50s/it]"
     ]
    },
    {
     "name": "stdout",
     "output_type": "stream",
     "text": [
      "[FAIL] photo_20241102145001_2.json -> C:/Users/user/pythonproject/AllDataset/VAT-OCR\\triple_receipt\\label\\train_fail\\photo_20241102145001_2.json\n"
     ]
    },
    {
     "name": "stderr",
     "output_type": "stream",
     "text": [
      "Processing entries:  50%|█████     | 815/1621 [4:34:41<3:52:37, 17.32s/it]"
     ]
    },
    {
     "name": "stdout",
     "output_type": "stream",
     "text": [
      "[OK] photo_20241102145001_3.json -> C:/Users/user/pythonproject/AllDataset/VAT-OCR\\triple_receipt\\label\\train_new\\photo_20241102145001_3.json\n"
     ]
    },
    {
     "name": "stderr",
     "output_type": "stream",
     "text": [
      "Processing entries:  50%|█████     | 816/1621 [4:34:59<3:52:27, 17.33s/it]"
     ]
    },
    {
     "name": "stdout",
     "output_type": "stream",
     "text": [
      "[FAIL] photo_20241102145001_4.json -> C:/Users/user/pythonproject/AllDataset/VAT-OCR\\triple_receipt\\label\\train_fail\\photo_20241102145001_4.json\n"
     ]
    },
    {
     "name": "stderr",
     "output_type": "stream",
     "text": [
      "Processing entries:  50%|█████     | 817/1621 [4:35:15<3:48:03, 17.02s/it]"
     ]
    },
    {
     "name": "stdout",
     "output_type": "stream",
     "text": [
      "[OK] photo_20241102145001_5.json -> C:/Users/user/pythonproject/AllDataset/VAT-OCR\\triple_receipt\\label\\train_new\\photo_20241102145001_5.json\n"
     ]
    },
    {
     "name": "stderr",
     "output_type": "stream",
     "text": [
      "Processing entries:  50%|█████     | 818/1621 [4:35:23<3:11:25, 14.30s/it]"
     ]
    },
    {
     "name": "stdout",
     "output_type": "stream",
     "text": [
      "[FAIL] photo_20241102145001_6.json -> C:/Users/user/pythonproject/AllDataset/VAT-OCR\\triple_receipt\\label\\train_fail\\photo_20241102145001_6.json\n"
     ]
    },
    {
     "name": "stderr",
     "output_type": "stream",
     "text": [
      "Processing entries:  51%|█████     | 819/1621 [4:35:39<3:19:42, 14.94s/it]"
     ]
    },
    {
     "name": "stdout",
     "output_type": "stream",
     "text": [
      "[FAIL] photo_20241102145001_7.json -> C:/Users/user/pythonproject/AllDataset/VAT-OCR\\triple_receipt\\label\\train_fail\\photo_20241102145001_7.json\n"
     ]
    },
    {
     "name": "stderr",
     "output_type": "stream",
     "text": [
      "Processing entries:  51%|█████     | 820/1621 [4:35:59<3:38:07, 16.34s/it]"
     ]
    },
    {
     "name": "stdout",
     "output_type": "stream",
     "text": [
      "[FAIL] photo_20241102150903_1.json -> C:/Users/user/pythonproject/AllDataset/VAT-OCR\\triple_receipt\\label\\train_fail\\photo_20241102150903_1.json\n"
     ]
    },
    {
     "name": "stderr",
     "output_type": "stream",
     "text": [
      "Processing entries:  51%|█████     | 821/1621 [4:36:15<3:36:16, 16.22s/it]"
     ]
    },
    {
     "name": "stdout",
     "output_type": "stream",
     "text": [
      "[OK] photo_20241102150903_3.json -> C:/Users/user/pythonproject/AllDataset/VAT-OCR\\triple_receipt\\label\\train_new\\photo_20241102150903_3.json\n"
     ]
    },
    {
     "name": "stderr",
     "output_type": "stream",
     "text": [
      "Processing entries:  51%|█████     | 822/1621 [4:36:41<4:16:56, 19.29s/it]"
     ]
    },
    {
     "name": "stdout",
     "output_type": "stream",
     "text": [
      "[FAIL] photo_20241102150903_5.json -> C:/Users/user/pythonproject/AllDataset/VAT-OCR\\triple_receipt\\label\\train_fail\\photo_20241102150903_5.json\n"
     ]
    },
    {
     "name": "stderr",
     "output_type": "stream",
     "text": [
      "Processing entries:  51%|█████     | 823/1621 [4:37:02<4:21:03, 19.63s/it]"
     ]
    },
    {
     "name": "stdout",
     "output_type": "stream",
     "text": [
      "[FAIL] photo_20241102150903_6.json -> C:/Users/user/pythonproject/AllDataset/VAT-OCR\\triple_receipt\\label\\train_fail\\photo_20241102150903_6.json\n"
     ]
    },
    {
     "name": "stderr",
     "output_type": "stream",
     "text": [
      "Processing entries:  51%|█████     | 824/1621 [4:37:19<4:10:03, 18.83s/it]"
     ]
    },
    {
     "name": "stdout",
     "output_type": "stream",
     "text": [
      "[OK] photo_20241102150903_7.json -> C:/Users/user/pythonproject/AllDataset/VAT-OCR\\triple_receipt\\label\\train_new\\photo_20241102150903_7.json\n"
     ]
    },
    {
     "name": "stderr",
     "output_type": "stream",
     "text": [
      "Processing entries:  51%|█████     | 825/1621 [4:37:33<3:50:13, 17.35s/it]"
     ]
    },
    {
     "name": "stdout",
     "output_type": "stream",
     "text": [
      "[FAIL] photo_20241102150903_8.json -> C:/Users/user/pythonproject/AllDataset/VAT-OCR\\triple_receipt\\label\\train_fail\\photo_20241102150903_8.json\n"
     ]
    },
    {
     "name": "stderr",
     "output_type": "stream",
     "text": [
      "Processing entries:  51%|█████     | 826/1621 [4:37:59<4:27:14, 20.17s/it]"
     ]
    },
    {
     "name": "stdout",
     "output_type": "stream",
     "text": [
      "[OK] photo_20241102152325_1.json -> C:/Users/user/pythonproject/AllDataset/VAT-OCR\\triple_receipt\\label\\train_new\\photo_20241102152325_1.json\n"
     ]
    },
    {
     "name": "stderr",
     "output_type": "stream",
     "text": [
      "Processing entries:  51%|█████     | 827/1621 [4:38:27<4:56:05, 22.37s/it]"
     ]
    },
    {
     "name": "stdout",
     "output_type": "stream",
     "text": [
      "[FAIL] photo_20241102152325_2.json -> C:/Users/user/pythonproject/AllDataset/VAT-OCR\\triple_receipt\\label\\train_fail\\photo_20241102152325_2.json\n"
     ]
    },
    {
     "name": "stderr",
     "output_type": "stream",
     "text": [
      "Processing entries:  51%|█████     | 828/1621 [4:38:48<4:52:09, 22.11s/it]"
     ]
    },
    {
     "name": "stdout",
     "output_type": "stream",
     "text": [
      "[FAIL] photo_20241102152325_3.json -> C:/Users/user/pythonproject/AllDataset/VAT-OCR\\triple_receipt\\label\\train_fail\\photo_20241102152325_3.json\n"
     ]
    },
    {
     "name": "stderr",
     "output_type": "stream",
     "text": [
      "Processing entries:  51%|█████     | 829/1621 [4:39:17<5:15:47, 23.92s/it]"
     ]
    },
    {
     "name": "stdout",
     "output_type": "stream",
     "text": [
      "[FAIL] photo_20241102152325_4.json -> C:/Users/user/pythonproject/AllDataset/VAT-OCR\\triple_receipt\\label\\train_fail\\photo_20241102152325_4.json\n"
     ]
    },
    {
     "name": "stderr",
     "output_type": "stream",
     "text": [
      "Processing entries:  51%|█████     | 830/1621 [4:39:27<4:23:05, 19.96s/it]"
     ]
    },
    {
     "name": "stdout",
     "output_type": "stream",
     "text": [
      "[FAIL] photo_20241102152325_5.json -> C:/Users/user/pythonproject/AllDataset/VAT-OCR\\triple_receipt\\label\\train_fail\\photo_20241102152325_5.json\n"
     ]
    },
    {
     "name": "stderr",
     "output_type": "stream",
     "text": [
      "Processing entries:  51%|█████▏    | 831/1621 [4:39:50<4:35:30, 20.92s/it]"
     ]
    },
    {
     "name": "stdout",
     "output_type": "stream",
     "text": [
      "[FAIL] photo_20241102152325_6.json -> C:/Users/user/pythonproject/AllDataset/VAT-OCR\\triple_receipt\\label\\train_fail\\photo_20241102152325_6.json\n"
     ]
    },
    {
     "name": "stderr",
     "output_type": "stream",
     "text": [
      "Processing entries:  51%|█████▏    | 832/1621 [4:40:15<4:50:25, 22.09s/it]"
     ]
    },
    {
     "name": "stdout",
     "output_type": "stream",
     "text": [
      "[OK] photo_20241102152325_7.json -> C:/Users/user/pythonproject/AllDataset/VAT-OCR\\triple_receipt\\label\\train_new\\photo_20241102152325_7.json\n"
     ]
    },
    {
     "name": "stderr",
     "output_type": "stream",
     "text": [
      "Processing entries:  51%|█████▏    | 833/1621 [4:40:43<5:10:48, 23.67s/it]"
     ]
    },
    {
     "name": "stdout",
     "output_type": "stream",
     "text": [
      "[FAIL] photo_20241102152325_8.json -> C:/Users/user/pythonproject/AllDataset/VAT-OCR\\triple_receipt\\label\\train_fail\\photo_20241102152325_8.json\n"
     ]
    },
    {
     "name": "stderr",
     "output_type": "stream",
     "text": [
      "Processing entries:  51%|█████▏    | 834/1621 [4:41:03<4:58:14, 22.74s/it]"
     ]
    },
    {
     "name": "stdout",
     "output_type": "stream",
     "text": [
      "[OK] photo_20241102153720_1.json -> C:/Users/user/pythonproject/AllDataset/VAT-OCR\\triple_receipt\\label\\train_new\\photo_20241102153720_1.json\n"
     ]
    },
    {
     "name": "stderr",
     "output_type": "stream",
     "text": [
      "Processing entries:  52%|█████▏    | 835/1621 [4:41:21<4:36:58, 21.14s/it]"
     ]
    },
    {
     "name": "stdout",
     "output_type": "stream",
     "text": [
      "[FAIL] photo_20241102153720_2.json -> C:/Users/user/pythonproject/AllDataset/VAT-OCR\\triple_receipt\\label\\train_fail\\photo_20241102153720_2.json\n"
     ]
    },
    {
     "name": "stderr",
     "output_type": "stream",
     "text": [
      "Processing entries:  52%|█████▏    | 836/1621 [4:41:39<4:24:17, 20.20s/it]"
     ]
    },
    {
     "name": "stdout",
     "output_type": "stream",
     "text": [
      "[FAIL] photo_20241102153720_3.json -> C:/Users/user/pythonproject/AllDataset/VAT-OCR\\triple_receipt\\label\\train_fail\\photo_20241102153720_3.json\n"
     ]
    },
    {
     "name": "stderr",
     "output_type": "stream",
     "text": [
      "Processing entries:  52%|█████▏    | 837/1621 [4:41:58<4:20:15, 19.92s/it]"
     ]
    },
    {
     "name": "stdout",
     "output_type": "stream",
     "text": [
      "[OK] photo_20241102153720_5.json -> C:/Users/user/pythonproject/AllDataset/VAT-OCR\\triple_receipt\\label\\train_new\\photo_20241102153720_5.json\n"
     ]
    },
    {
     "name": "stderr",
     "output_type": "stream",
     "text": [
      "Processing entries:  52%|█████▏    | 838/1621 [4:42:20<4:27:10, 20.47s/it]"
     ]
    },
    {
     "name": "stdout",
     "output_type": "stream",
     "text": [
      "[OK] photo_20241102153720_7.json -> C:/Users/user/pythonproject/AllDataset/VAT-OCR\\triple_receipt\\label\\train_new\\photo_20241102153720_7.json\n"
     ]
    },
    {
     "name": "stderr",
     "output_type": "stream",
     "text": [
      "Processing entries:  52%|█████▏    | 839/1621 [4:42:45<4:47:20, 22.05s/it]"
     ]
    },
    {
     "name": "stdout",
     "output_type": "stream",
     "text": [
      "[FAIL] photo_20241102153720_8.json -> C:/Users/user/pythonproject/AllDataset/VAT-OCR\\triple_receipt\\label\\train_fail\\photo_20241102153720_8.json\n"
     ]
    },
    {
     "name": "stderr",
     "output_type": "stream",
     "text": [
      "Processing entries:  52%|█████▏    | 840/1621 [4:43:08<4:49:46, 22.26s/it]"
     ]
    },
    {
     "name": "stdout",
     "output_type": "stream",
     "text": [
      "[OK] photo_20241102154555_1.json -> C:/Users/user/pythonproject/AllDataset/VAT-OCR\\triple_receipt\\label\\train_new\\photo_20241102154555_1.json\n"
     ]
    },
    {
     "name": "stderr",
     "output_type": "stream",
     "text": [
      "Processing entries:  52%|█████▏    | 841/1621 [4:43:29<4:45:20, 21.95s/it]"
     ]
    },
    {
     "name": "stdout",
     "output_type": "stream",
     "text": [
      "[FAIL] photo_20241102154555_2.json -> C:/Users/user/pythonproject/AllDataset/VAT-OCR\\triple_receipt\\label\\train_fail\\photo_20241102154555_2.json\n"
     ]
    },
    {
     "name": "stderr",
     "output_type": "stream",
     "text": [
      "Processing entries:  52%|█████▏    | 842/1621 [4:43:55<5:00:18, 23.13s/it]"
     ]
    },
    {
     "name": "stdout",
     "output_type": "stream",
     "text": [
      "[FAIL] photo_20241102154555_3.json -> C:/Users/user/pythonproject/AllDataset/VAT-OCR\\triple_receipt\\label\\train_fail\\photo_20241102154555_3.json\n"
     ]
    },
    {
     "name": "stderr",
     "output_type": "stream",
     "text": [
      "Processing entries:  52%|█████▏    | 843/1621 [4:44:18<4:57:59, 22.98s/it]"
     ]
    },
    {
     "name": "stdout",
     "output_type": "stream",
     "text": [
      "[FAIL] photo_20241102154555_4.json -> C:/Users/user/pythonproject/AllDataset/VAT-OCR\\triple_receipt\\label\\train_fail\\photo_20241102154555_4.json\n"
     ]
    },
    {
     "name": "stderr",
     "output_type": "stream",
     "text": [
      "Processing entries:  52%|█████▏    | 844/1621 [4:44:39<4:51:58, 22.55s/it]"
     ]
    },
    {
     "name": "stdout",
     "output_type": "stream",
     "text": [
      "[FAIL] photo_20241102154555_5.json -> C:/Users/user/pythonproject/AllDataset/VAT-OCR\\triple_receipt\\label\\train_fail\\photo_20241102154555_5.json\n"
     ]
    },
    {
     "name": "stderr",
     "output_type": "stream",
     "text": [
      "Processing entries:  52%|█████▏    | 845/1621 [4:45:02<4:51:56, 22.57s/it]"
     ]
    },
    {
     "name": "stdout",
     "output_type": "stream",
     "text": [
      "[FAIL] photo_20241102154555_6.json -> C:/Users/user/pythonproject/AllDataset/VAT-OCR\\triple_receipt\\label\\train_fail\\photo_20241102154555_6.json\n"
     ]
    },
    {
     "name": "stderr",
     "output_type": "stream",
     "text": [
      "Processing entries:  52%|█████▏    | 846/1621 [4:45:21<4:38:46, 21.58s/it]"
     ]
    },
    {
     "name": "stdout",
     "output_type": "stream",
     "text": [
      "[OK] photo_20241102154555_7.json -> C:/Users/user/pythonproject/AllDataset/VAT-OCR\\triple_receipt\\label\\train_new\\photo_20241102154555_7.json\n"
     ]
    },
    {
     "name": "stderr",
     "output_type": "stream",
     "text": [
      "Processing entries:  52%|█████▏    | 847/1621 [4:45:39<4:22:07, 20.32s/it]"
     ]
    },
    {
     "name": "stdout",
     "output_type": "stream",
     "text": [
      "[FAIL] photo_20241103074055_1.json -> C:/Users/user/pythonproject/AllDataset/VAT-OCR\\triple_receipt\\label\\train_fail\\photo_20241103074055_1.json\n"
     ]
    },
    {
     "name": "stderr",
     "output_type": "stream",
     "text": [
      "Processing entries:  52%|█████▏    | 848/1621 [4:46:00<4:24:18, 20.52s/it]"
     ]
    },
    {
     "name": "stdout",
     "output_type": "stream",
     "text": [
      "[FAIL] photo_20241103074055_2.json -> C:/Users/user/pythonproject/AllDataset/VAT-OCR\\triple_receipt\\label\\train_fail\\photo_20241103074055_2.json\n"
     ]
    },
    {
     "name": "stderr",
     "output_type": "stream",
     "text": [
      "Processing entries:  52%|█████▏    | 849/1621 [4:46:19<4:19:50, 20.19s/it]"
     ]
    },
    {
     "name": "stdout",
     "output_type": "stream",
     "text": [
      "[FAIL] photo_20241103074055_3.json -> C:/Users/user/pythonproject/AllDataset/VAT-OCR\\triple_receipt\\label\\train_fail\\photo_20241103074055_3.json\n"
     ]
    },
    {
     "name": "stderr",
     "output_type": "stream",
     "text": [
      "Processing entries:  52%|█████▏    | 850/1621 [4:46:37<4:12:18, 19.64s/it]"
     ]
    },
    {
     "name": "stdout",
     "output_type": "stream",
     "text": [
      "[FAIL] photo_20241103074055_4.json -> C:/Users/user/pythonproject/AllDataset/VAT-OCR\\triple_receipt\\label\\train_fail\\photo_20241103074055_4.json\n"
     ]
    },
    {
     "name": "stderr",
     "output_type": "stream",
     "text": [
      "Processing entries:  52%|█████▏    | 851/1621 [4:46:57<4:09:52, 19.47s/it]"
     ]
    },
    {
     "name": "stdout",
     "output_type": "stream",
     "text": [
      "[FAIL] photo_20241103074055_5.json -> C:/Users/user/pythonproject/AllDataset/VAT-OCR\\triple_receipt\\label\\train_fail\\photo_20241103074055_5.json\n"
     ]
    },
    {
     "name": "stderr",
     "output_type": "stream",
     "text": [
      "Processing entries:  53%|█████▎    | 852/1621 [4:47:14<4:00:40, 18.78s/it]"
     ]
    },
    {
     "name": "stdout",
     "output_type": "stream",
     "text": [
      "[OK] photo_20241103074055_6.json -> C:/Users/user/pythonproject/AllDataset/VAT-OCR\\triple_receipt\\label\\train_new\\photo_20241103074055_6.json\n"
     ]
    },
    {
     "name": "stderr",
     "output_type": "stream",
     "text": [
      "Processing entries:  53%|█████▎    | 853/1621 [4:47:30<3:50:52, 18.04s/it]"
     ]
    },
    {
     "name": "stdout",
     "output_type": "stream",
     "text": [
      "[OK] photo_20241103075342_1.json -> C:/Users/user/pythonproject/AllDataset/VAT-OCR\\triple_receipt\\label\\train_new\\photo_20241103075342_1.json\n"
     ]
    },
    {
     "name": "stderr",
     "output_type": "stream",
     "text": [
      "Processing entries:  53%|█████▎    | 854/1621 [4:47:48<3:48:52, 17.90s/it]"
     ]
    },
    {
     "name": "stdout",
     "output_type": "stream",
     "text": [
      "[FAIL] photo_20241103075342_2.json -> C:/Users/user/pythonproject/AllDataset/VAT-OCR\\triple_receipt\\label\\train_fail\\photo_20241103075342_2.json\n"
     ]
    },
    {
     "name": "stderr",
     "output_type": "stream",
     "text": [
      "Processing entries:  53%|█████▎    | 855/1621 [4:48:06<3:51:31, 18.14s/it]"
     ]
    },
    {
     "name": "stdout",
     "output_type": "stream",
     "text": [
      "[OK] photo_20241103075342_3.json -> C:/Users/user/pythonproject/AllDataset/VAT-OCR\\triple_receipt\\label\\train_new\\photo_20241103075342_3.json\n"
     ]
    },
    {
     "name": "stderr",
     "output_type": "stream",
     "text": [
      "Processing entries:  53%|█████▎    | 856/1621 [4:48:22<3:43:40, 17.54s/it]"
     ]
    },
    {
     "name": "stdout",
     "output_type": "stream",
     "text": [
      "[FAIL] photo_20241103075342_4.json -> C:/Users/user/pythonproject/AllDataset/VAT-OCR\\triple_receipt\\label\\train_fail\\photo_20241103075342_4.json\n"
     ]
    },
    {
     "name": "stderr",
     "output_type": "stream",
     "text": [
      "Processing entries:  53%|█████▎    | 857/1621 [4:48:39<3:39:58, 17.28s/it]"
     ]
    },
    {
     "name": "stdout",
     "output_type": "stream",
     "text": [
      "[OK] photo_20241103075342_5.json -> C:/Users/user/pythonproject/AllDataset/VAT-OCR\\triple_receipt\\label\\train_new\\photo_20241103075342_5.json\n"
     ]
    },
    {
     "name": "stderr",
     "output_type": "stream",
     "text": [
      "Processing entries:  53%|█████▎    | 858/1621 [4:48:53<3:27:38, 16.33s/it]"
     ]
    },
    {
     "name": "stdout",
     "output_type": "stream",
     "text": [
      "[FAIL] photo_20241103075342_6.json -> C:/Users/user/pythonproject/AllDataset/VAT-OCR\\triple_receipt\\label\\train_fail\\photo_20241103075342_6.json\n"
     ]
    },
    {
     "name": "stderr",
     "output_type": "stream",
     "text": [
      "Processing entries:  53%|█████▎    | 859/1621 [4:49:09<3:23:51, 16.05s/it]"
     ]
    },
    {
     "name": "stdout",
     "output_type": "stream",
     "text": [
      "[OK] photo_20241103075342_7.json -> C:/Users/user/pythonproject/AllDataset/VAT-OCR\\triple_receipt\\label\\train_new\\photo_20241103075342_7.json\n"
     ]
    },
    {
     "name": "stderr",
     "output_type": "stream",
     "text": [
      "Processing entries:  53%|█████▎    | 860/1621 [4:49:23<3:16:04, 15.46s/it]"
     ]
    },
    {
     "name": "stdout",
     "output_type": "stream",
     "text": [
      "[FAIL] photo_20241103080235_1.json -> C:/Users/user/pythonproject/AllDataset/VAT-OCR\\triple_receipt\\label\\train_fail\\photo_20241103080235_1.json\n"
     ]
    },
    {
     "name": "stderr",
     "output_type": "stream",
     "text": [
      "Processing entries:  53%|█████▎    | 861/1621 [4:49:43<3:35:12, 16.99s/it]"
     ]
    },
    {
     "name": "stdout",
     "output_type": "stream",
     "text": [
      "[OK] photo_20241103080235_10.json -> C:/Users/user/pythonproject/AllDataset/VAT-OCR\\triple_receipt\\label\\train_new\\photo_20241103080235_10.json\n"
     ]
    },
    {
     "name": "stderr",
     "output_type": "stream",
     "text": [
      "Processing entries:  53%|█████▎    | 862/1621 [4:50:01<3:37:29, 17.19s/it]"
     ]
    },
    {
     "name": "stdout",
     "output_type": "stream",
     "text": [
      "[FAIL] photo_20241103080235_11.json -> C:/Users/user/pythonproject/AllDataset/VAT-OCR\\triple_receipt\\label\\train_fail\\photo_20241103080235_11.json\n"
     ]
    },
    {
     "name": "stderr",
     "output_type": "stream",
     "text": [
      "Processing entries:  53%|█████▎    | 863/1621 [4:50:24<3:59:25, 18.95s/it]"
     ]
    },
    {
     "name": "stdout",
     "output_type": "stream",
     "text": [
      "[FAIL] photo_20241103080235_2.json -> C:/Users/user/pythonproject/AllDataset/VAT-OCR\\triple_receipt\\label\\train_fail\\photo_20241103080235_2.json\n"
     ]
    },
    {
     "name": "stderr",
     "output_type": "stream",
     "text": [
      "Processing entries:  53%|█████▎    | 864/1621 [4:50:45<4:05:55, 19.49s/it]"
     ]
    },
    {
     "name": "stdout",
     "output_type": "stream",
     "text": [
      "[FAIL] photo_20241103080235_3.json -> C:/Users/user/pythonproject/AllDataset/VAT-OCR\\triple_receipt\\label\\train_fail\\photo_20241103080235_3.json\n"
     ]
    },
    {
     "name": "stderr",
     "output_type": "stream",
     "text": [
      "Processing entries:  53%|█████▎    | 865/1621 [4:51:06<4:13:39, 20.13s/it]"
     ]
    },
    {
     "name": "stdout",
     "output_type": "stream",
     "text": [
      "[OK] photo_20241103080235_4.json -> C:/Users/user/pythonproject/AllDataset/VAT-OCR\\triple_receipt\\label\\train_new\\photo_20241103080235_4.json\n"
     ]
    },
    {
     "name": "stderr",
     "output_type": "stream",
     "text": [
      "Processing entries:  53%|█████▎    | 866/1621 [4:52:16<7:21:24, 35.08s/it]"
     ]
    },
    {
     "name": "stdout",
     "output_type": "stream",
     "text": [
      "[FAIL] photo_20241103080235_5.json -> C:/Users/user/pythonproject/AllDataset/VAT-OCR\\triple_receipt\\label\\train_fail\\photo_20241103080235_5.json\n"
     ]
    },
    {
     "name": "stderr",
     "output_type": "stream",
     "text": [
      "Processing entries:  53%|█████▎    | 867/1621 [4:53:24<9:23:53, 44.87s/it]"
     ]
    },
    {
     "name": "stdout",
     "output_type": "stream",
     "text": [
      "[FAIL] photo_20241103080235_7.json -> C:/Users/user/pythonproject/AllDataset/VAT-OCR\\triple_receipt\\label\\train_fail\\photo_20241103080235_7.json\n"
     ]
    },
    {
     "name": "stderr",
     "output_type": "stream",
     "text": [
      "Processing entries:  54%|█████▎    | 868/1621 [4:54:33<10:55:02, 52.19s/it]"
     ]
    },
    {
     "name": "stdout",
     "output_type": "stream",
     "text": [
      "[FAIL] photo_20241103080235_9.json -> C:/Users/user/pythonproject/AllDataset/VAT-OCR\\triple_receipt\\label\\train_fail\\photo_20241103080235_9.json\n"
     ]
    },
    {
     "name": "stderr",
     "output_type": "stream",
     "text": [
      "Processing entries:  54%|█████▎    | 869/1621 [4:55:39<11:45:30, 56.29s/it]"
     ]
    },
    {
     "name": "stdout",
     "output_type": "stream",
     "text": [
      "[FAIL] photo_20241103081500_1.json -> C:/Users/user/pythonproject/AllDataset/VAT-OCR\\triple_receipt\\label\\train_fail\\photo_20241103081500_1.json\n"
     ]
    },
    {
     "name": "stderr",
     "output_type": "stream",
     "text": [
      "Processing entries:  54%|█████▎    | 870/1621 [4:56:08<10:01:19, 48.04s/it]"
     ]
    },
    {
     "name": "stdout",
     "output_type": "stream",
     "text": [
      "[FAIL] photo_20241103081500_2.json -> C:/Users/user/pythonproject/AllDataset/VAT-OCR\\triple_receipt\\label\\train_fail\\photo_20241103081500_2.json\n"
     ]
    },
    {
     "name": "stderr",
     "output_type": "stream",
     "text": [
      "Processing entries:  54%|█████▎    | 871/1621 [4:56:27<8:11:36, 39.33s/it] "
     ]
    },
    {
     "name": "stdout",
     "output_type": "stream",
     "text": [
      "[FAIL] photo_20241103081500_3.json -> C:/Users/user/pythonproject/AllDataset/VAT-OCR\\triple_receipt\\label\\train_fail\\photo_20241103081500_3.json\n"
     ]
    },
    {
     "name": "stderr",
     "output_type": "stream",
     "text": [
      "Processing entries:  54%|█████▍    | 872/1621 [4:56:45<6:52:24, 33.04s/it]"
     ]
    },
    {
     "name": "stdout",
     "output_type": "stream",
     "text": [
      "[FAIL] photo_20241103081500_4.json -> C:/Users/user/pythonproject/AllDataset/VAT-OCR\\triple_receipt\\label\\train_fail\\photo_20241103081500_4.json\n"
     ]
    },
    {
     "name": "stderr",
     "output_type": "stream",
     "text": [
      "Processing entries:  54%|█████▍    | 873/1621 [4:57:08<6:13:55, 29.99s/it]"
     ]
    },
    {
     "name": "stdout",
     "output_type": "stream",
     "text": [
      "[FAIL] photo_20241103081500_5.json -> C:/Users/user/pythonproject/AllDataset/VAT-OCR\\triple_receipt\\label\\train_fail\\photo_20241103081500_5.json\n"
     ]
    },
    {
     "name": "stderr",
     "output_type": "stream",
     "text": [
      "Processing entries:  54%|█████▍    | 874/1621 [4:57:31<5:48:14, 27.97s/it]"
     ]
    },
    {
     "name": "stdout",
     "output_type": "stream",
     "text": [
      "[FAIL] photo_20241103081500_6.json -> C:/Users/user/pythonproject/AllDataset/VAT-OCR\\triple_receipt\\label\\train_fail\\photo_20241103081500_6.json\n"
     ]
    },
    {
     "name": "stderr",
     "output_type": "stream",
     "text": [
      "Processing entries:  54%|█████▍    | 875/1621 [4:57:56<5:33:53, 26.85s/it]"
     ]
    },
    {
     "name": "stdout",
     "output_type": "stream",
     "text": [
      "[FAIL] photo_20241103082042_1.json -> C:/Users/user/pythonproject/AllDataset/VAT-OCR\\triple_receipt\\label\\train_fail\\photo_20241103082042_1.json\n"
     ]
    },
    {
     "name": "stderr",
     "output_type": "stream",
     "text": [
      "Processing entries:  54%|█████▍    | 876/1621 [4:58:18<5:16:45, 25.51s/it]"
     ]
    },
    {
     "name": "stdout",
     "output_type": "stream",
     "text": [
      "[OK] photo_20241103082042_2.json -> C:/Users/user/pythonproject/AllDataset/VAT-OCR\\triple_receipt\\label\\train_new\\photo_20241103082042_2.json\n"
     ]
    },
    {
     "name": "stderr",
     "output_type": "stream",
     "text": [
      "Processing entries:  54%|█████▍    | 877/1621 [4:58:38<4:55:22, 23.82s/it]"
     ]
    },
    {
     "name": "stdout",
     "output_type": "stream",
     "text": [
      "[OK] photo_20241103082042_3.json -> C:/Users/user/pythonproject/AllDataset/VAT-OCR\\triple_receipt\\label\\train_new\\photo_20241103082042_3.json\n"
     ]
    },
    {
     "name": "stderr",
     "output_type": "stream",
     "text": [
      "Processing entries:  54%|█████▍    | 878/1621 [4:59:01<4:50:30, 23.46s/it]"
     ]
    },
    {
     "name": "stdout",
     "output_type": "stream",
     "text": [
      "[FAIL] photo_20241103082042_4.json -> C:/Users/user/pythonproject/AllDataset/VAT-OCR\\triple_receipt\\label\\train_fail\\photo_20241103082042_4.json\n"
     ]
    },
    {
     "name": "stderr",
     "output_type": "stream",
     "text": [
      "Processing entries:  54%|█████▍    | 879/1621 [4:59:23<4:47:29, 23.25s/it]"
     ]
    },
    {
     "name": "stdout",
     "output_type": "stream",
     "text": [
      "[FAIL] photo_20241103082042_5.json -> C:/Users/user/pythonproject/AllDataset/VAT-OCR\\triple_receipt\\label\\train_fail\\photo_20241103082042_5.json\n"
     ]
    },
    {
     "name": "stderr",
     "output_type": "stream",
     "text": [
      "Processing entries:  54%|█████▍    | 880/1621 [4:59:42<4:30:18, 21.89s/it]"
     ]
    },
    {
     "name": "stdout",
     "output_type": "stream",
     "text": [
      "[FAIL] photo_20241103082042_6.json -> C:/Users/user/pythonproject/AllDataset/VAT-OCR\\triple_receipt\\label\\train_fail\\photo_20241103082042_6.json\n"
     ]
    },
    {
     "name": "stderr",
     "output_type": "stream",
     "text": [
      "Processing entries:  54%|█████▍    | 881/1621 [5:00:00<4:13:52, 20.58s/it]"
     ]
    },
    {
     "name": "stdout",
     "output_type": "stream",
     "text": [
      "[FAIL] photo_20241103082042_7.json -> C:/Users/user/pythonproject/AllDataset/VAT-OCR\\triple_receipt\\label\\train_fail\\photo_20241103082042_7.json\n"
     ]
    },
    {
     "name": "stderr",
     "output_type": "stream",
     "text": [
      "Processing entries:  54%|█████▍    | 882/1621 [5:00:16<3:57:02, 19.24s/it]"
     ]
    },
    {
     "name": "stdout",
     "output_type": "stream",
     "text": [
      "[OK] photo_20241103082042_8.json -> C:/Users/user/pythonproject/AllDataset/VAT-OCR\\triple_receipt\\label\\train_new\\photo_20241103082042_8.json\n"
     ]
    },
    {
     "name": "stderr",
     "output_type": "stream",
     "text": [
      "Processing entries:  54%|█████▍    | 883/1621 [5:00:30<3:39:15, 17.83s/it]"
     ]
    },
    {
     "name": "stdout",
     "output_type": "stream",
     "text": [
      "[FAIL] photo_20241103083020_1.json -> C:/Users/user/pythonproject/AllDataset/VAT-OCR\\triple_receipt\\label\\train_fail\\photo_20241103083020_1.json\n"
     ]
    },
    {
     "name": "stderr",
     "output_type": "stream",
     "text": [
      "Processing entries:  55%|█████▍    | 884/1621 [5:00:47<3:33:59, 17.42s/it]"
     ]
    },
    {
     "name": "stdout",
     "output_type": "stream",
     "text": [
      "[FAIL] photo_20241103083020_2.json -> C:/Users/user/pythonproject/AllDataset/VAT-OCR\\triple_receipt\\label\\train_fail\\photo_20241103083020_2.json\n"
     ]
    },
    {
     "name": "stderr",
     "output_type": "stream",
     "text": [
      "Processing entries:  55%|█████▍    | 885/1621 [5:01:04<3:35:01, 17.53s/it]"
     ]
    },
    {
     "name": "stdout",
     "output_type": "stream",
     "text": [
      "[FAIL] photo_20241103083020_3.json -> C:/Users/user/pythonproject/AllDataset/VAT-OCR\\triple_receipt\\label\\train_fail\\photo_20241103083020_3.json\n"
     ]
    },
    {
     "name": "stderr",
     "output_type": "stream",
     "text": [
      "Processing entries:  55%|█████▍    | 886/1621 [5:01:24<3:43:18, 18.23s/it]"
     ]
    },
    {
     "name": "stdout",
     "output_type": "stream",
     "text": [
      "[OK] photo_20241103083020_4.json -> C:/Users/user/pythonproject/AllDataset/VAT-OCR\\triple_receipt\\label\\train_new\\photo_20241103083020_4.json\n"
     ]
    },
    {
     "name": "stderr",
     "output_type": "stream",
     "text": [
      "Processing entries:  55%|█████▍    | 887/1621 [5:01:45<3:53:27, 19.08s/it]"
     ]
    },
    {
     "name": "stdout",
     "output_type": "stream",
     "text": [
      "[OK] photo_20241103083020_5.json -> C:/Users/user/pythonproject/AllDataset/VAT-OCR\\triple_receipt\\label\\train_new\\photo_20241103083020_5.json\n"
     ]
    },
    {
     "name": "stderr",
     "output_type": "stream",
     "text": [
      "Processing entries:  55%|█████▍    | 888/1621 [5:02:06<3:58:40, 19.54s/it]"
     ]
    },
    {
     "name": "stdout",
     "output_type": "stream",
     "text": [
      "[OK] photo_20241103083020_6.json -> C:/Users/user/pythonproject/AllDataset/VAT-OCR\\triple_receipt\\label\\train_new\\photo_20241103083020_6.json\n"
     ]
    },
    {
     "name": "stderr",
     "output_type": "stream",
     "text": [
      "Processing entries:  55%|█████▍    | 889/1621 [5:02:26<3:59:23, 19.62s/it]"
     ]
    },
    {
     "name": "stdout",
     "output_type": "stream",
     "text": [
      "[FAIL] photo_20241103083020_7.json -> C:/Users/user/pythonproject/AllDataset/VAT-OCR\\triple_receipt\\label\\train_fail\\photo_20241103083020_7.json\n"
     ]
    },
    {
     "name": "stderr",
     "output_type": "stream",
     "text": [
      "Processing entries:  55%|█████▍    | 890/1621 [5:02:44<3:53:37, 19.18s/it]"
     ]
    },
    {
     "name": "stdout",
     "output_type": "stream",
     "text": [
      "[FAIL] photo_20241103083020_8.json -> C:/Users/user/pythonproject/AllDataset/VAT-OCR\\triple_receipt\\label\\train_fail\\photo_20241103083020_8.json\n"
     ]
    },
    {
     "name": "stderr",
     "output_type": "stream",
     "text": [
      "Processing entries:  55%|█████▍    | 891/1621 [5:03:01<3:46:59, 18.66s/it]"
     ]
    },
    {
     "name": "stdout",
     "output_type": "stream",
     "text": [
      "[FAIL] photo_20241104055950_1.json -> C:/Users/user/pythonproject/AllDataset/VAT-OCR\\triple_receipt\\label\\train_fail\\photo_20241104055950_1.json\n"
     ]
    },
    {
     "name": "stderr",
     "output_type": "stream",
     "text": [
      "Processing entries:  55%|█████▌    | 892/1621 [5:03:27<4:12:33, 20.79s/it]"
     ]
    },
    {
     "name": "stdout",
     "output_type": "stream",
     "text": [
      "[OK] photo_20241104055950_2.json -> C:/Users/user/pythonproject/AllDataset/VAT-OCR\\triple_receipt\\label\\train_new\\photo_20241104055950_2.json\n"
     ]
    },
    {
     "name": "stderr",
     "output_type": "stream",
     "text": [
      "Processing entries:  55%|█████▌    | 893/1621 [5:03:47<4:08:08, 20.45s/it]"
     ]
    },
    {
     "name": "stdout",
     "output_type": "stream",
     "text": [
      "[FAIL] photo_20241104055950_3.json -> C:/Users/user/pythonproject/AllDataset/VAT-OCR\\triple_receipt\\label\\train_fail\\photo_20241104055950_3.json\n"
     ]
    },
    {
     "name": "stderr",
     "output_type": "stream",
     "text": [
      "Processing entries:  55%|█████▌    | 894/1621 [5:04:13<4:29:15, 22.22s/it]"
     ]
    },
    {
     "name": "stdout",
     "output_type": "stream",
     "text": [
      "[FAIL] photo_20241104055950_4.json -> C:/Users/user/pythonproject/AllDataset/VAT-OCR\\triple_receipt\\label\\train_fail\\photo_20241104055950_4.json\n"
     ]
    },
    {
     "name": "stderr",
     "output_type": "stream",
     "text": [
      "Processing entries:  55%|█████▌    | 895/1621 [5:04:30<4:08:58, 20.58s/it]"
     ]
    },
    {
     "name": "stdout",
     "output_type": "stream",
     "text": [
      "[FAIL] photo_20241104055950_5.json -> C:/Users/user/pythonproject/AllDataset/VAT-OCR\\triple_receipt\\label\\train_fail\\photo_20241104055950_5.json\n"
     ]
    },
    {
     "name": "stderr",
     "output_type": "stream",
     "text": [
      "Processing entries:  55%|█████▌    | 896/1621 [5:04:47<3:55:18, 19.47s/it]"
     ]
    },
    {
     "name": "stdout",
     "output_type": "stream",
     "text": [
      "[OK] photo_20241104055950_6.json -> C:/Users/user/pythonproject/AllDataset/VAT-OCR\\triple_receipt\\label\\train_new\\photo_20241104055950_6.json\n"
     ]
    },
    {
     "name": "stderr",
     "output_type": "stream",
     "text": [
      "Processing entries:  55%|█████▌    | 897/1621 [5:05:03<3:44:36, 18.61s/it]"
     ]
    },
    {
     "name": "stdout",
     "output_type": "stream",
     "text": [
      "[FAIL] photo_20241104055950_7.json -> C:/Users/user/pythonproject/AllDataset/VAT-OCR\\triple_receipt\\label\\train_fail\\photo_20241104055950_7.json\n"
     ]
    },
    {
     "name": "stderr",
     "output_type": "stream",
     "text": [
      "Processing entries:  55%|█████▌    | 898/1621 [5:05:19<3:33:54, 17.75s/it]"
     ]
    },
    {
     "name": "stdout",
     "output_type": "stream",
     "text": [
      "[FAIL] photo_20241104055950_8.json -> C:/Users/user/pythonproject/AllDataset/VAT-OCR\\triple_receipt\\label\\train_fail\\photo_20241104055950_8.json\n"
     ]
    },
    {
     "name": "stderr",
     "output_type": "stream",
     "text": [
      "Processing entries:  55%|█████▌    | 899/1621 [5:05:34<3:23:53, 16.94s/it]"
     ]
    },
    {
     "name": "stdout",
     "output_type": "stream",
     "text": [
      "[FAIL] photo_20241104061838_1.json -> C:/Users/user/pythonproject/AllDataset/VAT-OCR\\triple_receipt\\label\\train_fail\\photo_20241104061838_1.json\n"
     ]
    },
    {
     "name": "stderr",
     "output_type": "stream",
     "text": [
      "Processing entries:  56%|█████▌    | 900/1621 [5:05:51<3:22:27, 16.85s/it]"
     ]
    },
    {
     "name": "stdout",
     "output_type": "stream",
     "text": [
      "[FAIL] photo_20241104061838_2.json -> C:/Users/user/pythonproject/AllDataset/VAT-OCR\\triple_receipt\\label\\train_fail\\photo_20241104061838_2.json\n"
     ]
    },
    {
     "name": "stderr",
     "output_type": "stream",
     "text": [
      "Processing entries:  56%|█████▌    | 901/1621 [5:06:08<3:23:37, 16.97s/it]"
     ]
    },
    {
     "name": "stdout",
     "output_type": "stream",
     "text": [
      "[OK] photo_20241104061838_3.json -> C:/Users/user/pythonproject/AllDataset/VAT-OCR\\triple_receipt\\label\\train_new\\photo_20241104061838_3.json\n"
     ]
    },
    {
     "name": "stderr",
     "output_type": "stream",
     "text": [
      "Processing entries:  56%|█████▌    | 902/1621 [5:06:23<3:16:00, 16.36s/it]"
     ]
    },
    {
     "name": "stdout",
     "output_type": "stream",
     "text": [
      "[OK] photo_20241104061838_4.json -> C:/Users/user/pythonproject/AllDataset/VAT-OCR\\triple_receipt\\label\\train_new\\photo_20241104061838_4.json\n"
     ]
    },
    {
     "name": "stderr",
     "output_type": "stream",
     "text": [
      "Processing entries:  56%|█████▌    | 903/1621 [5:06:39<3:12:59, 16.13s/it]"
     ]
    },
    {
     "name": "stdout",
     "output_type": "stream",
     "text": [
      "[FAIL] photo_20241104061838_5.json -> C:/Users/user/pythonproject/AllDataset/VAT-OCR\\triple_receipt\\label\\train_fail\\photo_20241104061838_5.json\n"
     ]
    },
    {
     "name": "stderr",
     "output_type": "stream",
     "text": [
      "Processing entries:  56%|█████▌    | 904/1621 [5:06:54<3:11:14, 16.00s/it]"
     ]
    },
    {
     "name": "stdout",
     "output_type": "stream",
     "text": [
      "[FAIL] photo_20241104061838_6.json -> C:/Users/user/pythonproject/AllDataset/VAT-OCR\\triple_receipt\\label\\train_fail\\photo_20241104061838_6.json\n"
     ]
    },
    {
     "name": "stderr",
     "output_type": "stream",
     "text": [
      "Processing entries:  56%|█████▌    | 905/1621 [5:07:14<3:23:12, 17.03s/it]"
     ]
    },
    {
     "name": "stdout",
     "output_type": "stream",
     "text": [
      "[OK] photo_20241104061838_7.json -> C:/Users/user/pythonproject/AllDataset/VAT-OCR\\triple_receipt\\label\\train_new\\photo_20241104061838_7.json\n"
     ]
    },
    {
     "name": "stderr",
     "output_type": "stream",
     "text": [
      "Processing entries:  56%|█████▌    | 906/1621 [5:07:34<3:33:51, 17.95s/it]"
     ]
    },
    {
     "name": "stdout",
     "output_type": "stream",
     "text": [
      "[FAIL] photo_20241104061838_8.json -> C:/Users/user/pythonproject/AllDataset/VAT-OCR\\triple_receipt\\label\\train_fail\\photo_20241104061838_8.json\n"
     ]
    },
    {
     "name": "stderr",
     "output_type": "stream",
     "text": [
      "Processing entries:  56%|█████▌    | 907/1621 [5:07:54<3:41:41, 18.63s/it]"
     ]
    },
    {
     "name": "stdout",
     "output_type": "stream",
     "text": [
      "[OK] photo_20241104061838_9.json -> C:/Users/user/pythonproject/AllDataset/VAT-OCR\\triple_receipt\\label\\train_new\\photo_20241104061838_9.json\n"
     ]
    },
    {
     "name": "stderr",
     "output_type": "stream",
     "text": [
      "Processing entries:  56%|█████▌    | 908/1621 [5:08:14<3:44:55, 18.93s/it]"
     ]
    },
    {
     "name": "stdout",
     "output_type": "stream",
     "text": [
      "[OK] photo_20241104063423_1.json -> C:/Users/user/pythonproject/AllDataset/VAT-OCR\\triple_receipt\\label\\train_new\\photo_20241104063423_1.json\n"
     ]
    },
    {
     "name": "stderr",
     "output_type": "stream",
     "text": [
      "Processing entries:  56%|█████▌    | 909/1621 [5:08:36<3:55:52, 19.88s/it]"
     ]
    },
    {
     "name": "stdout",
     "output_type": "stream",
     "text": [
      "[FAIL] photo_20241104063423_10.json -> C:/Users/user/pythonproject/AllDataset/VAT-OCR\\triple_receipt\\label\\train_fail\\photo_20241104063423_10.json\n"
     ]
    },
    {
     "name": "stderr",
     "output_type": "stream",
     "text": [
      "Processing entries:  56%|█████▌    | 910/1621 [5:08:55<3:55:00, 19.83s/it]"
     ]
    },
    {
     "name": "stdout",
     "output_type": "stream",
     "text": [
      "[FAIL] photo_20241104063423_2.json -> C:/Users/user/pythonproject/AllDataset/VAT-OCR\\triple_receipt\\label\\train_fail\\photo_20241104063423_2.json\n"
     ]
    },
    {
     "name": "stderr",
     "output_type": "stream",
     "text": [
      "Processing entries:  56%|█████▌    | 911/1621 [5:09:15<3:52:09, 19.62s/it]"
     ]
    },
    {
     "name": "stdout",
     "output_type": "stream",
     "text": [
      "[OK] photo_20241104063423_3.json -> C:/Users/user/pythonproject/AllDataset/VAT-OCR\\triple_receipt\\label\\train_new\\photo_20241104063423_3.json\n"
     ]
    },
    {
     "name": "stderr",
     "output_type": "stream",
     "text": [
      "Processing entries:  56%|█████▋    | 912/1621 [5:09:33<3:48:13, 19.31s/it]"
     ]
    },
    {
     "name": "stdout",
     "output_type": "stream",
     "text": [
      "[OK] photo_20241104063423_4.json -> C:/Users/user/pythonproject/AllDataset/VAT-OCR\\triple_receipt\\label\\train_new\\photo_20241104063423_4.json\n"
     ]
    },
    {
     "name": "stderr",
     "output_type": "stream",
     "text": [
      "Processing entries:  56%|█████▋    | 913/1621 [5:09:53<3:51:12, 19.59s/it]"
     ]
    },
    {
     "name": "stdout",
     "output_type": "stream",
     "text": [
      "[OK] photo_20241104063423_5.json -> C:/Users/user/pythonproject/AllDataset/VAT-OCR\\triple_receipt\\label\\train_new\\photo_20241104063423_5.json\n"
     ]
    },
    {
     "name": "stderr",
     "output_type": "stream",
     "text": [
      "Processing entries:  56%|█████▋    | 914/1621 [5:10:14<3:52:27, 19.73s/it]"
     ]
    },
    {
     "name": "stdout",
     "output_type": "stream",
     "text": [
      "[OK] photo_20241104063423_6.json -> C:/Users/user/pythonproject/AllDataset/VAT-OCR\\triple_receipt\\label\\train_new\\photo_20241104063423_6.json\n"
     ]
    },
    {
     "name": "stderr",
     "output_type": "stream",
     "text": [
      "Processing entries:  56%|█████▋    | 915/1621 [5:10:35<3:58:12, 20.24s/it]"
     ]
    },
    {
     "name": "stdout",
     "output_type": "stream",
     "text": [
      "[FAIL] photo_20241104063423_7.json -> C:/Users/user/pythonproject/AllDataset/VAT-OCR\\triple_receipt\\label\\train_fail\\photo_20241104063423_7.json\n"
     ]
    },
    {
     "name": "stderr",
     "output_type": "stream",
     "text": [
      "Processing entries:  57%|█████▋    | 916/1621 [5:10:54<3:51:55, 19.74s/it]"
     ]
    },
    {
     "name": "stdout",
     "output_type": "stream",
     "text": [
      "[FAIL] photo_20241104063423_8.json -> C:/Users/user/pythonproject/AllDataset/VAT-OCR\\triple_receipt\\label\\train_fail\\photo_20241104063423_8.json\n"
     ]
    },
    {
     "name": "stderr",
     "output_type": "stream",
     "text": [
      "Processing entries:  57%|█████▋    | 917/1621 [5:11:24<4:30:28, 23.05s/it]"
     ]
    },
    {
     "name": "stdout",
     "output_type": "stream",
     "text": [
      "[FAIL] photo_20241104063423_9.json -> C:/Users/user/pythonproject/AllDataset/VAT-OCR\\triple_receipt\\label\\train_fail\\photo_20241104063423_9.json\n"
     ]
    },
    {
     "name": "stderr",
     "output_type": "stream",
     "text": [
      "Processing entries:  57%|█████▋    | 918/1621 [5:11:51<4:43:43, 24.22s/it]"
     ]
    },
    {
     "name": "stdout",
     "output_type": "stream",
     "text": [
      "[FAIL] photo_20241104064652_1.json -> C:/Users/user/pythonproject/AllDataset/VAT-OCR\\triple_receipt\\label\\train_fail\\photo_20241104064652_1.json\n"
     ]
    },
    {
     "name": "stderr",
     "output_type": "stream",
     "text": [
      "Processing entries:  57%|█████▋    | 919/1621 [5:12:18<4:50:51, 24.86s/it]"
     ]
    },
    {
     "name": "stdout",
     "output_type": "stream",
     "text": [
      "[FAIL] photo_20241104064652_2.json -> C:/Users/user/pythonproject/AllDataset/VAT-OCR\\triple_receipt\\label\\train_fail\\photo_20241104064652_2.json\n"
     ]
    },
    {
     "name": "stderr",
     "output_type": "stream",
     "text": [
      "Processing entries:  57%|█████▋    | 920/1621 [5:12:41<4:43:45, 24.29s/it]"
     ]
    },
    {
     "name": "stdout",
     "output_type": "stream",
     "text": [
      "[OK] photo_20241104064652_3.json -> C:/Users/user/pythonproject/AllDataset/VAT-OCR\\triple_receipt\\label\\train_new\\photo_20241104064652_3.json\n"
     ]
    },
    {
     "name": "stderr",
     "output_type": "stream",
     "text": [
      "Processing entries:  57%|█████▋    | 921/1621 [5:13:00<4:26:45, 22.86s/it]"
     ]
    },
    {
     "name": "stdout",
     "output_type": "stream",
     "text": [
      "[FAIL] photo_20241104064652_4.json -> C:/Users/user/pythonproject/AllDataset/VAT-OCR\\triple_receipt\\label\\train_fail\\photo_20241104064652_4.json\n"
     ]
    },
    {
     "name": "stderr",
     "output_type": "stream",
     "text": [
      "Processing entries:  57%|█████▋    | 922/1621 [5:13:17<4:07:07, 21.21s/it]"
     ]
    },
    {
     "name": "stdout",
     "output_type": "stream",
     "text": [
      "[OK] photo_20241104064652_5.json -> C:/Users/user/pythonproject/AllDataset/VAT-OCR\\triple_receipt\\label\\train_new\\photo_20241104064652_5.json\n"
     ]
    },
    {
     "name": "stderr",
     "output_type": "stream",
     "text": [
      "Processing entries:  57%|█████▋    | 923/1621 [5:13:37<4:02:19, 20.83s/it]"
     ]
    },
    {
     "name": "stdout",
     "output_type": "stream",
     "text": [
      "[OK] photo_20241104064652_6.json -> C:/Users/user/pythonproject/AllDataset/VAT-OCR\\triple_receipt\\label\\train_new\\photo_20241104064652_6.json\n"
     ]
    },
    {
     "name": "stderr",
     "output_type": "stream",
     "text": [
      "Processing entries:  57%|█████▋    | 924/1621 [5:13:58<4:00:21, 20.69s/it]"
     ]
    },
    {
     "name": "stdout",
     "output_type": "stream",
     "text": [
      "[FAIL] photo_20241104064652_7.json -> C:/Users/user/pythonproject/AllDataset/VAT-OCR\\triple_receipt\\label\\train_fail\\photo_20241104064652_7.json\n"
     ]
    },
    {
     "name": "stderr",
     "output_type": "stream",
     "text": [
      "Processing entries:  57%|█████▋    | 925/1621 [5:14:18<3:56:59, 20.43s/it]"
     ]
    },
    {
     "name": "stdout",
     "output_type": "stream",
     "text": [
      "[OK] photo_20241104064652_8.json -> C:/Users/user/pythonproject/AllDataset/VAT-OCR\\triple_receipt\\label\\train_new\\photo_20241104064652_8.json\n"
     ]
    },
    {
     "name": "stderr",
     "output_type": "stream",
     "text": [
      "Processing entries:  57%|█████▋    | 926/1621 [5:14:32<3:35:34, 18.61s/it]"
     ]
    },
    {
     "name": "stdout",
     "output_type": "stream",
     "text": [
      "[FAIL] photo_20241104064652_9.json -> C:/Users/user/pythonproject/AllDataset/VAT-OCR\\triple_receipt\\label\\train_fail\\photo_20241104064652_9.json\n"
     ]
    },
    {
     "name": "stderr",
     "output_type": "stream",
     "text": [
      "Processing entries:  57%|█████▋    | 927/1621 [5:14:48<3:26:01, 17.81s/it]"
     ]
    },
    {
     "name": "stdout",
     "output_type": "stream",
     "text": [
      "[OK] photo_20241104065626_1.json -> C:/Users/user/pythonproject/AllDataset/VAT-OCR\\triple_receipt\\label\\train_new\\photo_20241104065626_1.json\n"
     ]
    },
    {
     "name": "stderr",
     "output_type": "stream",
     "text": [
      "Processing entries:  57%|█████▋    | 928/1621 [5:15:05<3:23:39, 17.63s/it]"
     ]
    },
    {
     "name": "stdout",
     "output_type": "stream",
     "text": [
      "[FAIL] photo_20241104065626_10.json -> C:/Users/user/pythonproject/AllDataset/VAT-OCR\\triple_receipt\\label\\train_fail\\photo_20241104065626_10.json\n"
     ]
    },
    {
     "name": "stderr",
     "output_type": "stream",
     "text": [
      "Processing entries:  57%|█████▋    | 929/1621 [5:15:19<3:10:59, 16.56s/it]"
     ]
    },
    {
     "name": "stdout",
     "output_type": "stream",
     "text": [
      "[FAIL] photo_20241104065626_2.json -> C:/Users/user/pythonproject/AllDataset/VAT-OCR\\triple_receipt\\label\\train_fail\\photo_20241104065626_2.json\n"
     ]
    },
    {
     "name": "stderr",
     "output_type": "stream",
     "text": [
      "Processing entries:  57%|█████▋    | 930/1621 [5:15:37<3:15:35, 16.98s/it]"
     ]
    },
    {
     "name": "stdout",
     "output_type": "stream",
     "text": [
      "[OK] photo_20241104065626_3.json -> C:/Users/user/pythonproject/AllDataset/VAT-OCR\\triple_receipt\\label\\train_new\\photo_20241104065626_3.json\n"
     ]
    },
    {
     "name": "stderr",
     "output_type": "stream",
     "text": [
      "Processing entries:  57%|█████▋    | 931/1621 [5:15:56<3:21:10, 17.49s/it]"
     ]
    },
    {
     "name": "stdout",
     "output_type": "stream",
     "text": [
      "[OK] photo_20241104065626_4.json -> C:/Users/user/pythonproject/AllDataset/VAT-OCR\\triple_receipt\\label\\train_new\\photo_20241104065626_4.json\n"
     ]
    },
    {
     "name": "stderr",
     "output_type": "stream",
     "text": [
      "Processing entries:  57%|█████▋    | 932/1621 [5:16:14<3:22:32, 17.64s/it]"
     ]
    },
    {
     "name": "stdout",
     "output_type": "stream",
     "text": [
      "[OK] photo_20241104065626_5.json -> C:/Users/user/pythonproject/AllDataset/VAT-OCR\\triple_receipt\\label\\train_new\\photo_20241104065626_5.json\n"
     ]
    },
    {
     "name": "stderr",
     "output_type": "stream",
     "text": [
      "Processing entries:  58%|█████▊    | 933/1621 [5:16:30<3:18:52, 17.34s/it]"
     ]
    },
    {
     "name": "stdout",
     "output_type": "stream",
     "text": [
      "[FAIL] photo_20241104065626_6.json -> C:/Users/user/pythonproject/AllDataset/VAT-OCR\\triple_receipt\\label\\train_fail\\photo_20241104065626_6.json\n"
     ]
    },
    {
     "name": "stderr",
     "output_type": "stream",
     "text": [
      "Processing entries:  58%|█████▊    | 934/1621 [5:16:48<3:18:25, 17.33s/it]"
     ]
    },
    {
     "name": "stdout",
     "output_type": "stream",
     "text": [
      "[OK] photo_20241104065626_7.json -> C:/Users/user/pythonproject/AllDataset/VAT-OCR\\triple_receipt\\label\\train_new\\photo_20241104065626_7.json\n"
     ]
    },
    {
     "name": "stderr",
     "output_type": "stream",
     "text": [
      "Processing entries:  58%|█████▊    | 935/1621 [5:17:05<3:18:42, 17.38s/it]"
     ]
    },
    {
     "name": "stdout",
     "output_type": "stream",
     "text": [
      "[OK] photo_20241104065626_8.json -> C:/Users/user/pythonproject/AllDataset/VAT-OCR\\triple_receipt\\label\\train_new\\photo_20241104065626_8.json\n"
     ]
    },
    {
     "name": "stderr",
     "output_type": "stream",
     "text": [
      "Processing entries:  58%|█████▊    | 936/1621 [5:17:22<3:15:06, 17.09s/it]"
     ]
    },
    {
     "name": "stdout",
     "output_type": "stream",
     "text": [
      "[OK] photo_20241104065626_9.json -> C:/Users/user/pythonproject/AllDataset/VAT-OCR\\triple_receipt\\label\\train_new\\photo_20241104065626_9.json\n"
     ]
    },
    {
     "name": "stderr",
     "output_type": "stream",
     "text": [
      "Processing entries:  58%|█████▊    | 937/1621 [5:17:38<3:11:06, 16.76s/it]"
     ]
    },
    {
     "name": "stdout",
     "output_type": "stream",
     "text": [
      "[FAIL] photo_20241104070756_1.json -> C:/Users/user/pythonproject/AllDataset/VAT-OCR\\triple_receipt\\label\\train_fail\\photo_20241104070756_1.json\n"
     ]
    },
    {
     "name": "stderr",
     "output_type": "stream",
     "text": [
      "Processing entries:  58%|█████▊    | 938/1621 [5:17:59<3:25:15, 18.03s/it]"
     ]
    },
    {
     "name": "stdout",
     "output_type": "stream",
     "text": [
      "[FAIL] photo_20241104070756_2.json -> C:/Users/user/pythonproject/AllDataset/VAT-OCR\\triple_receipt\\label\\train_fail\\photo_20241104070756_2.json\n"
     ]
    },
    {
     "name": "stderr",
     "output_type": "stream",
     "text": [
      "Processing entries:  58%|█████▊    | 939/1621 [5:18:17<3:27:31, 18.26s/it]"
     ]
    },
    {
     "name": "stdout",
     "output_type": "stream",
     "text": [
      "[FAIL] photo_20241104070756_3.json -> C:/Users/user/pythonproject/AllDataset/VAT-OCR\\triple_receipt\\label\\train_fail\\photo_20241104070756_3.json\n"
     ]
    },
    {
     "name": "stderr",
     "output_type": "stream",
     "text": [
      "Processing entries:  58%|█████▊    | 940/1621 [5:18:33<3:18:23, 17.48s/it]"
     ]
    },
    {
     "name": "stdout",
     "output_type": "stream",
     "text": [
      "[FAIL] photo_20241104070756_4.json -> C:/Users/user/pythonproject/AllDataset/VAT-OCR\\triple_receipt\\label\\train_fail\\photo_20241104070756_4.json\n"
     ]
    },
    {
     "name": "stderr",
     "output_type": "stream",
     "text": [
      "Processing entries:  58%|█████▊    | 941/1621 [5:18:49<3:12:05, 16.95s/it]"
     ]
    },
    {
     "name": "stdout",
     "output_type": "stream",
     "text": [
      "[FAIL] photo_20241104070756_5.json -> C:/Users/user/pythonproject/AllDataset/VAT-OCR\\triple_receipt\\label\\train_fail\\photo_20241104070756_5.json\n"
     ]
    },
    {
     "name": "stderr",
     "output_type": "stream",
     "text": [
      "Processing entries:  58%|█████▊    | 942/1621 [5:19:09<3:23:18, 17.97s/it]"
     ]
    },
    {
     "name": "stdout",
     "output_type": "stream",
     "text": [
      "[FAIL] photo_20241104070756_6.json -> C:/Users/user/pythonproject/AllDataset/VAT-OCR\\triple_receipt\\label\\train_fail\\photo_20241104070756_6.json\n"
     ]
    },
    {
     "name": "stderr",
     "output_type": "stream",
     "text": [
      "Processing entries:  58%|█████▊    | 943/1621 [5:19:30<3:31:41, 18.73s/it]"
     ]
    },
    {
     "name": "stdout",
     "output_type": "stream",
     "text": [
      "[FAIL] photo_20241104070756_7.json -> C:/Users/user/pythonproject/AllDataset/VAT-OCR\\triple_receipt\\label\\train_fail\\photo_20241104070756_7.json\n"
     ]
    },
    {
     "name": "stderr",
     "output_type": "stream",
     "text": [
      "Processing entries:  58%|█████▊    | 944/1621 [5:19:53<3:47:50, 20.19s/it]"
     ]
    },
    {
     "name": "stdout",
     "output_type": "stream",
     "text": [
      "[FAIL] photo_20241104070756_8.json -> C:/Users/user/pythonproject/AllDataset/VAT-OCR\\triple_receipt\\label\\train_fail\\photo_20241104070756_8.json\n"
     ]
    },
    {
     "name": "stderr",
     "output_type": "stream",
     "text": [
      "Processing entries:  58%|█████▊    | 945/1621 [5:20:16<3:56:53, 21.03s/it]"
     ]
    },
    {
     "name": "stdout",
     "output_type": "stream",
     "text": [
      "[FAIL] photo_20241104070756_9.json -> C:/Users/user/pythonproject/AllDataset/VAT-OCR\\triple_receipt\\label\\train_fail\\photo_20241104070756_9.json\n"
     ]
    },
    {
     "name": "stderr",
     "output_type": "stream",
     "text": [
      "Processing entries:  58%|█████▊    | 946/1621 [5:20:38<3:58:27, 21.20s/it]"
     ]
    },
    {
     "name": "stdout",
     "output_type": "stream",
     "text": [
      "[FAIL] photo_20241104072029_1.json -> C:/Users/user/pythonproject/AllDataset/VAT-OCR\\triple_receipt\\label\\train_fail\\photo_20241104072029_1.json\n"
     ]
    },
    {
     "name": "stderr",
     "output_type": "stream",
     "text": [
      "Processing entries:  58%|█████▊    | 947/1621 [5:20:57<3:51:58, 20.65s/it]"
     ]
    },
    {
     "name": "stdout",
     "output_type": "stream",
     "text": [
      "[OK] photo_20241104072029_10.json -> C:/Users/user/pythonproject/AllDataset/VAT-OCR\\triple_receipt\\label\\train_new\\photo_20241104072029_10.json\n"
     ]
    },
    {
     "name": "stderr",
     "output_type": "stream",
     "text": [
      "Processing entries:  58%|█████▊    | 948/1621 [5:21:18<3:52:49, 20.76s/it]"
     ]
    },
    {
     "name": "stdout",
     "output_type": "stream",
     "text": [
      "[FAIL] photo_20241104072029_11.json -> C:/Users/user/pythonproject/AllDataset/VAT-OCR\\triple_receipt\\label\\train_fail\\photo_20241104072029_11.json\n"
     ]
    },
    {
     "name": "stderr",
     "output_type": "stream",
     "text": [
      "Processing entries:  59%|█████▊    | 949/1621 [5:21:42<4:02:52, 21.68s/it]"
     ]
    },
    {
     "name": "stdout",
     "output_type": "stream",
     "text": [
      "[FAIL] photo_20241104072029_2.json -> C:/Users/user/pythonproject/AllDataset/VAT-OCR\\triple_receipt\\label\\train_fail\\photo_20241104072029_2.json\n"
     ]
    },
    {
     "name": "stderr",
     "output_type": "stream",
     "text": [
      "Processing entries:  59%|█████▊    | 950/1621 [5:22:04<4:03:23, 21.76s/it]"
     ]
    },
    {
     "name": "stdout",
     "output_type": "stream",
     "text": [
      "[OK] photo_20241104072029_4.json -> C:/Users/user/pythonproject/AllDataset/VAT-OCR\\triple_receipt\\label\\train_new\\photo_20241104072029_4.json\n"
     ]
    },
    {
     "name": "stderr",
     "output_type": "stream",
     "text": [
      "Processing entries:  59%|█████▊    | 951/1621 [5:22:24<3:57:40, 21.28s/it]"
     ]
    },
    {
     "name": "stdout",
     "output_type": "stream",
     "text": [
      "[OK] photo_20241104072029_5.json -> C:/Users/user/pythonproject/AllDataset/VAT-OCR\\triple_receipt\\label\\train_new\\photo_20241104072029_5.json\n"
     ]
    },
    {
     "name": "stderr",
     "output_type": "stream",
     "text": [
      "Processing entries:  59%|█████▊    | 952/1621 [5:22:42<3:45:23, 20.21s/it]"
     ]
    },
    {
     "name": "stdout",
     "output_type": "stream",
     "text": [
      "[OK] photo_20241104072029_6.json -> C:/Users/user/pythonproject/AllDataset/VAT-OCR\\triple_receipt\\label\\train_new\\photo_20241104072029_6.json\n"
     ]
    },
    {
     "name": "stderr",
     "output_type": "stream",
     "text": [
      "Processing entries:  59%|█████▉    | 953/1621 [5:22:59<3:35:01, 19.31s/it]"
     ]
    },
    {
     "name": "stdout",
     "output_type": "stream",
     "text": [
      "[FAIL] photo_20241104072029_7.json -> C:/Users/user/pythonproject/AllDataset/VAT-OCR\\triple_receipt\\label\\train_fail\\photo_20241104072029_7.json\n"
     ]
    },
    {
     "name": "stderr",
     "output_type": "stream",
     "text": [
      "Processing entries:  59%|█████▉    | 954/1621 [5:23:20<3:39:06, 19.71s/it]"
     ]
    },
    {
     "name": "stdout",
     "output_type": "stream",
     "text": [
      "[FAIL] photo_20241104072029_8.json -> C:/Users/user/pythonproject/AllDataset/VAT-OCR\\triple_receipt\\label\\train_fail\\photo_20241104072029_8.json\n"
     ]
    },
    {
     "name": "stderr",
     "output_type": "stream",
     "text": [
      "Processing entries:  59%|█████▉    | 955/1621 [5:23:38<3:34:41, 19.34s/it]"
     ]
    },
    {
     "name": "stdout",
     "output_type": "stream",
     "text": [
      "[FAIL] photo_20241104072029_9.json -> C:/Users/user/pythonproject/AllDataset/VAT-OCR\\triple_receipt\\label\\train_fail\\photo_20241104072029_9.json\n"
     ]
    },
    {
     "name": "stderr",
     "output_type": "stream",
     "text": [
      "Processing entries:  59%|█████▉    | 956/1621 [5:24:04<3:54:38, 21.17s/it]"
     ]
    },
    {
     "name": "stdout",
     "output_type": "stream",
     "text": [
      "[OK] photo_20241104073301_1.json -> C:/Users/user/pythonproject/AllDataset/VAT-OCR\\triple_receipt\\label\\train_new\\photo_20241104073301_1.json\n"
     ]
    },
    {
     "name": "stderr",
     "output_type": "stream",
     "text": [
      "Processing entries:  59%|█████▉    | 957/1621 [5:24:21<3:41:00, 19.97s/it]"
     ]
    },
    {
     "name": "stdout",
     "output_type": "stream",
     "text": [
      "[FAIL] photo_20241104073301_10.json -> C:/Users/user/pythonproject/AllDataset/VAT-OCR\\triple_receipt\\label\\train_fail\\photo_20241104073301_10.json\n"
     ]
    },
    {
     "name": "stderr",
     "output_type": "stream",
     "text": [
      "Processing entries:  59%|█████▉    | 958/1621 [5:24:38<3:30:23, 19.04s/it]"
     ]
    },
    {
     "name": "stdout",
     "output_type": "stream",
     "text": [
      "[FAIL] photo_20241104073301_11.json -> C:/Users/user/pythonproject/AllDataset/VAT-OCR\\triple_receipt\\label\\train_fail\\photo_20241104073301_11.json\n"
     ]
    },
    {
     "name": "stderr",
     "output_type": "stream",
     "text": [
      "Processing entries:  59%|█████▉    | 959/1621 [5:25:02<3:49:04, 20.76s/it]"
     ]
    },
    {
     "name": "stdout",
     "output_type": "stream",
     "text": [
      "[FAIL] photo_20241104073301_12.json -> C:/Users/user/pythonproject/AllDataset/VAT-OCR\\triple_receipt\\label\\train_fail\\photo_20241104073301_12.json\n"
     ]
    },
    {
     "name": "stderr",
     "output_type": "stream",
     "text": [
      "Processing entries:  59%|█████▉    | 960/1621 [5:25:18<3:31:41, 19.21s/it]"
     ]
    },
    {
     "name": "stdout",
     "output_type": "stream",
     "text": [
      "[FAIL] photo_20241104073301_13.json -> C:/Users/user/pythonproject/AllDataset/VAT-OCR\\triple_receipt\\label\\train_fail\\photo_20241104073301_13.json\n"
     ]
    },
    {
     "name": "stderr",
     "output_type": "stream",
     "text": [
      "Processing entries:  59%|█████▉    | 961/1621 [5:25:33<3:16:09, 17.83s/it]"
     ]
    },
    {
     "name": "stdout",
     "output_type": "stream",
     "text": [
      "[FAIL] photo_20241104073301_14.json -> C:/Users/user/pythonproject/AllDataset/VAT-OCR\\triple_receipt\\label\\train_fail\\photo_20241104073301_14.json\n"
     ]
    },
    {
     "name": "stderr",
     "output_type": "stream",
     "text": [
      "Processing entries:  59%|█████▉    | 962/1621 [5:25:50<3:13:55, 17.66s/it]"
     ]
    },
    {
     "name": "stdout",
     "output_type": "stream",
     "text": [
      "[OK] photo_20241104073301_15.json -> C:/Users/user/pythonproject/AllDataset/VAT-OCR\\triple_receipt\\label\\train_new\\photo_20241104073301_15.json\n"
     ]
    },
    {
     "name": "stderr",
     "output_type": "stream",
     "text": [
      "Processing entries:  59%|█████▉    | 963/1621 [5:26:10<3:20:13, 18.26s/it]"
     ]
    },
    {
     "name": "stdout",
     "output_type": "stream",
     "text": [
      "[OK] photo_20241104073301_16.json -> C:/Users/user/pythonproject/AllDataset/VAT-OCR\\triple_receipt\\label\\train_new\\photo_20241104073301_16.json\n"
     ]
    },
    {
     "name": "stderr",
     "output_type": "stream",
     "text": [
      "Processing entries:  59%|█████▉    | 964/1621 [5:26:28<3:20:40, 18.33s/it]"
     ]
    },
    {
     "name": "stdout",
     "output_type": "stream",
     "text": [
      "[FAIL] photo_20241104073301_2.json -> C:/Users/user/pythonproject/AllDataset/VAT-OCR\\triple_receipt\\label\\train_fail\\photo_20241104073301_2.json\n"
     ]
    },
    {
     "name": "stderr",
     "output_type": "stream",
     "text": [
      "Processing entries:  60%|█████▉    | 965/1621 [5:26:48<3:26:17, 18.87s/it]"
     ]
    },
    {
     "name": "stdout",
     "output_type": "stream",
     "text": [
      "[FAIL] photo_20241104073301_3.json -> C:/Users/user/pythonproject/AllDataset/VAT-OCR\\triple_receipt\\label\\train_fail\\photo_20241104073301_3.json\n"
     ]
    },
    {
     "name": "stderr",
     "output_type": "stream",
     "text": [
      "Processing entries:  60%|█████▉    | 966/1621 [5:27:12<3:41:56, 20.33s/it]"
     ]
    },
    {
     "name": "stdout",
     "output_type": "stream",
     "text": [
      "[OK] photo_20241104073301_4.json -> C:/Users/user/pythonproject/AllDataset/VAT-OCR\\triple_receipt\\label\\train_new\\photo_20241104073301_4.json\n"
     ]
    },
    {
     "name": "stderr",
     "output_type": "stream",
     "text": [
      "Processing entries:  60%|█████▉    | 967/1621 [5:27:38<4:00:55, 22.10s/it]"
     ]
    },
    {
     "name": "stdout",
     "output_type": "stream",
     "text": [
      "[FAIL] photo_20241104073301_5.json -> C:/Users/user/pythonproject/AllDataset/VAT-OCR\\triple_receipt\\label\\train_fail\\photo_20241104073301_5.json\n"
     ]
    },
    {
     "name": "stderr",
     "output_type": "stream",
     "text": [
      "Processing entries:  60%|█████▉    | 968/1621 [5:28:09<4:29:42, 24.78s/it]"
     ]
    },
    {
     "name": "stdout",
     "output_type": "stream",
     "text": [
      "[OK] photo_20241104073301_6.json -> C:/Users/user/pythonproject/AllDataset/VAT-OCR\\triple_receipt\\label\\train_new\\photo_20241104073301_6.json\n"
     ]
    },
    {
     "name": "stderr",
     "output_type": "stream",
     "text": [
      "Processing entries:  60%|█████▉    | 969/1621 [5:28:37<4:39:27, 25.72s/it]"
     ]
    },
    {
     "name": "stdout",
     "output_type": "stream",
     "text": [
      "[FAIL] photo_20241104073301_7.json -> C:/Users/user/pythonproject/AllDataset/VAT-OCR\\triple_receipt\\label\\train_fail\\photo_20241104073301_7.json\n"
     ]
    },
    {
     "name": "stderr",
     "output_type": "stream",
     "text": [
      "Processing entries:  60%|█████▉    | 970/1621 [5:29:04<4:41:50, 25.98s/it]"
     ]
    },
    {
     "name": "stdout",
     "output_type": "stream",
     "text": [
      "[FAIL] photo_20241104073301_8.json -> C:/Users/user/pythonproject/AllDataset/VAT-OCR\\triple_receipt\\label\\train_fail\\photo_20241104073301_8.json\n"
     ]
    },
    {
     "name": "stderr",
     "output_type": "stream",
     "text": [
      "Processing entries:  60%|█████▉    | 971/1621 [5:29:23<4:19:42, 23.97s/it]"
     ]
    },
    {
     "name": "stdout",
     "output_type": "stream",
     "text": [
      "[FAIL] photo_20241104073301_9.json -> C:/Users/user/pythonproject/AllDataset/VAT-OCR\\triple_receipt\\label\\train_fail\\photo_20241104073301_9.json\n"
     ]
    },
    {
     "name": "stderr",
     "output_type": "stream",
     "text": [
      "Processing entries:  60%|█████▉    | 972/1621 [5:29:40<3:57:46, 21.98s/it]"
     ]
    },
    {
     "name": "stdout",
     "output_type": "stream",
     "text": [
      "[FAIL] photo_20241104082524_1.json -> C:/Users/user/pythonproject/AllDataset/VAT-OCR\\triple_receipt\\label\\train_fail\\photo_20241104082524_1.json\n"
     ]
    },
    {
     "name": "stderr",
     "output_type": "stream",
     "text": [
      "Processing entries:  60%|██████    | 973/1621 [5:29:59<3:45:13, 20.85s/it]"
     ]
    },
    {
     "name": "stdout",
     "output_type": "stream",
     "text": [
      "[OK] photo_20241104082524_10.json -> C:/Users/user/pythonproject/AllDataset/VAT-OCR\\triple_receipt\\label\\train_new\\photo_20241104082524_10.json\n"
     ]
    },
    {
     "name": "stderr",
     "output_type": "stream",
     "text": [
      "Processing entries:  60%|██████    | 974/1621 [5:30:16<3:34:01, 19.85s/it]"
     ]
    },
    {
     "name": "stdout",
     "output_type": "stream",
     "text": [
      "[OK] photo_20241104082524_11.json -> C:/Users/user/pythonproject/AllDataset/VAT-OCR\\triple_receipt\\label\\train_new\\photo_20241104082524_11.json\n"
     ]
    },
    {
     "name": "stderr",
     "output_type": "stream",
     "text": [
      "Processing entries:  60%|██████    | 975/1621 [5:30:32<3:19:28, 18.53s/it]"
     ]
    },
    {
     "name": "stdout",
     "output_type": "stream",
     "text": [
      "[FAIL] photo_20241104082524_3.json -> C:/Users/user/pythonproject/AllDataset/VAT-OCR\\triple_receipt\\label\\train_fail\\photo_20241104082524_3.json\n"
     ]
    },
    {
     "name": "stderr",
     "output_type": "stream",
     "text": [
      "Processing entries:  60%|██████    | 976/1621 [5:30:49<3:14:47, 18.12s/it]"
     ]
    },
    {
     "name": "stdout",
     "output_type": "stream",
     "text": [
      "[OK] photo_20241104082524_4.json -> C:/Users/user/pythonproject/AllDataset/VAT-OCR\\triple_receipt\\label\\train_new\\photo_20241104082524_4.json\n"
     ]
    },
    {
     "name": "stderr",
     "output_type": "stream",
     "text": [
      "Processing entries:  60%|██████    | 977/1621 [5:31:15<3:40:31, 20.55s/it]"
     ]
    },
    {
     "name": "stdout",
     "output_type": "stream",
     "text": [
      "[OK] photo_20241104082524_5.json -> C:/Users/user/pythonproject/AllDataset/VAT-OCR\\triple_receipt\\label\\train_new\\photo_20241104082524_5.json\n"
     ]
    },
    {
     "name": "stderr",
     "output_type": "stream",
     "text": [
      "Processing entries:  60%|██████    | 978/1621 [5:31:41<3:57:46, 22.19s/it]"
     ]
    },
    {
     "name": "stdout",
     "output_type": "stream",
     "text": [
      "[FAIL] photo_20241104082524_6.json -> C:/Users/user/pythonproject/AllDataset/VAT-OCR\\triple_receipt\\label\\train_fail\\photo_20241104082524_6.json\n"
     ]
    },
    {
     "name": "stderr",
     "output_type": "stream",
     "text": [
      "Processing entries:  60%|██████    | 979/1621 [5:32:00<3:48:11, 21.33s/it]"
     ]
    },
    {
     "name": "stdout",
     "output_type": "stream",
     "text": [
      "[OK] photo_20241104082524_7.json -> C:/Users/user/pythonproject/AllDataset/VAT-OCR\\triple_receipt\\label\\train_new\\photo_20241104082524_7.json\n"
     ]
    },
    {
     "name": "stderr",
     "output_type": "stream",
     "text": [
      "Processing entries:  60%|██████    | 980/1621 [5:32:18<3:35:39, 20.19s/it]"
     ]
    },
    {
     "name": "stdout",
     "output_type": "stream",
     "text": [
      "[FAIL] photo_20241104082524_8.json -> C:/Users/user/pythonproject/AllDataset/VAT-OCR\\triple_receipt\\label\\train_fail\\photo_20241104082524_8.json\n"
     ]
    },
    {
     "name": "stderr",
     "output_type": "stream",
     "text": [
      "Processing entries:  61%|██████    | 981/1621 [5:32:36<3:29:25, 19.63s/it]"
     ]
    },
    {
     "name": "stdout",
     "output_type": "stream",
     "text": [
      "[OK] photo_20241104082524_9.json -> C:/Users/user/pythonproject/AllDataset/VAT-OCR\\triple_receipt\\label\\train_new\\photo_20241104082524_9.json\n"
     ]
    },
    {
     "name": "stderr",
     "output_type": "stream",
     "text": [
      "Processing entries:  61%|██████    | 982/1621 [5:32:53<3:20:05, 18.79s/it]"
     ]
    },
    {
     "name": "stdout",
     "output_type": "stream",
     "text": [
      "[OK] photo_20241104083958_1.json -> C:/Users/user/pythonproject/AllDataset/VAT-OCR\\triple_receipt\\label\\train_new\\photo_20241104083958_1.json\n"
     ]
    },
    {
     "name": "stderr",
     "output_type": "stream",
     "text": [
      "Processing entries:  61%|██████    | 983/1621 [5:33:28<4:11:40, 23.67s/it]"
     ]
    },
    {
     "name": "stdout",
     "output_type": "stream",
     "text": [
      "[FAIL] photo_20241104083958_10.json -> C:/Users/user/pythonproject/AllDataset/VAT-OCR\\triple_receipt\\label\\train_fail\\photo_20241104083958_10.json\n"
     ]
    },
    {
     "name": "stderr",
     "output_type": "stream",
     "text": [
      "Processing entries:  61%|██████    | 984/1621 [5:33:49<4:02:42, 22.86s/it]"
     ]
    },
    {
     "name": "stdout",
     "output_type": "stream",
     "text": [
      "[OK] photo_20241104083958_2.json -> C:/Users/user/pythonproject/AllDataset/VAT-OCR\\triple_receipt\\label\\train_new\\photo_20241104083958_2.json\n"
     ]
    },
    {
     "name": "stderr",
     "output_type": "stream",
     "text": [
      "Processing entries:  61%|██████    | 985/1621 [5:34:13<4:07:02, 23.31s/it]"
     ]
    },
    {
     "name": "stdout",
     "output_type": "stream",
     "text": [
      "[FAIL] photo_20241104083958_3.json -> C:/Users/user/pythonproject/AllDataset/VAT-OCR\\triple_receipt\\label\\train_fail\\photo_20241104083958_3.json\n"
     ]
    },
    {
     "name": "stderr",
     "output_type": "stream",
     "text": [
      "Processing entries:  61%|██████    | 986/1621 [5:34:31<3:49:29, 21.68s/it]"
     ]
    },
    {
     "name": "stdout",
     "output_type": "stream",
     "text": [
      "[OK] photo_20241104083958_4.json -> C:/Users/user/pythonproject/AllDataset/VAT-OCR\\triple_receipt\\label\\train_new\\photo_20241104083958_4.json\n"
     ]
    },
    {
     "name": "stderr",
     "output_type": "stream",
     "text": [
      "Processing entries:  61%|██████    | 987/1621 [5:34:53<3:49:35, 21.73s/it]"
     ]
    },
    {
     "name": "stdout",
     "output_type": "stream",
     "text": [
      "[OK] photo_20241104083958_5.json -> C:/Users/user/pythonproject/AllDataset/VAT-OCR\\triple_receipt\\label\\train_new\\photo_20241104083958_5.json\n"
     ]
    },
    {
     "name": "stderr",
     "output_type": "stream",
     "text": [
      "Processing entries:  61%|██████    | 988/1621 [5:35:24<4:17:59, 24.45s/it]"
     ]
    },
    {
     "name": "stdout",
     "output_type": "stream",
     "text": [
      "[FAIL] photo_20241104083958_6.json -> C:/Users/user/pythonproject/AllDataset/VAT-OCR\\triple_receipt\\label\\train_fail\\photo_20241104083958_6.json\n"
     ]
    },
    {
     "name": "stderr",
     "output_type": "stream",
     "text": [
      "Processing entries:  61%|██████    | 989/1621 [5:35:48<4:16:36, 24.36s/it]"
     ]
    },
    {
     "name": "stdout",
     "output_type": "stream",
     "text": [
      "[OK] photo_20241104083958_7.json -> C:/Users/user/pythonproject/AllDataset/VAT-OCR\\triple_receipt\\label\\train_new\\photo_20241104083958_7.json\n"
     ]
    },
    {
     "name": "stderr",
     "output_type": "stream",
     "text": [
      "Processing entries:  61%|██████    | 990/1621 [5:36:21<4:42:10, 26.83s/it]"
     ]
    },
    {
     "name": "stdout",
     "output_type": "stream",
     "text": [
      "[OK] photo_20241104083958_8.json -> C:/Users/user/pythonproject/AllDataset/VAT-OCR\\triple_receipt\\label\\train_new\\photo_20241104083958_8.json\n"
     ]
    },
    {
     "name": "stderr",
     "output_type": "stream",
     "text": [
      "Processing entries:  61%|██████    | 991/1621 [5:37:27<6:47:10, 38.78s/it]"
     ]
    },
    {
     "name": "stdout",
     "output_type": "stream",
     "text": [
      "[FAIL] photo_20241104085141_1.json -> C:/Users/user/pythonproject/AllDataset/VAT-OCR\\triple_receipt\\label\\train_fail\\photo_20241104085141_1.json\n"
     ]
    },
    {
     "name": "stderr",
     "output_type": "stream",
     "text": [
      "Processing entries:  61%|██████    | 992/1621 [5:37:48<5:50:41, 33.45s/it]"
     ]
    },
    {
     "name": "stdout",
     "output_type": "stream",
     "text": [
      "[OK] photo_20241104085141_10.json -> C:/Users/user/pythonproject/AllDataset/VAT-OCR\\triple_receipt\\label\\train_new\\photo_20241104085141_10.json\n"
     ]
    },
    {
     "name": "stderr",
     "output_type": "stream",
     "text": [
      "Processing entries:  61%|██████▏   | 993/1621 [5:38:06<5:02:21, 28.89s/it]"
     ]
    },
    {
     "name": "stdout",
     "output_type": "stream",
     "text": [
      "[FAIL] photo_20241104085141_11.json -> C:/Users/user/pythonproject/AllDataset/VAT-OCR\\triple_receipt\\label\\train_fail\\photo_20241104085141_11.json\n"
     ]
    },
    {
     "name": "stderr",
     "output_type": "stream",
     "text": [
      "Processing entries:  61%|██████▏   | 994/1621 [5:38:27<4:34:09, 26.23s/it]"
     ]
    },
    {
     "name": "stdout",
     "output_type": "stream",
     "text": [
      "[FAIL] photo_20241104085141_12.json -> C:/Users/user/pythonproject/AllDataset/VAT-OCR\\triple_receipt\\label\\train_fail\\photo_20241104085141_12.json\n"
     ]
    },
    {
     "name": "stderr",
     "output_type": "stream",
     "text": [
      "Processing entries:  61%|██████▏   | 995/1621 [5:38:48<4:17:29, 24.68s/it]"
     ]
    },
    {
     "name": "stdout",
     "output_type": "stream",
     "text": [
      "[OK] photo_20241104085141_3.json -> C:/Users/user/pythonproject/AllDataset/VAT-OCR\\triple_receipt\\label\\train_new\\photo_20241104085141_3.json\n"
     ]
    },
    {
     "name": "stderr",
     "output_type": "stream",
     "text": [
      "Processing entries:  61%|██████▏   | 996/1621 [5:39:07<4:00:35, 23.10s/it]"
     ]
    },
    {
     "name": "stdout",
     "output_type": "stream",
     "text": [
      "[OK] photo_20241104085141_4.json -> C:/Users/user/pythonproject/AllDataset/VAT-OCR\\triple_receipt\\label\\train_new\\photo_20241104085141_4.json\n"
     ]
    },
    {
     "name": "stderr",
     "output_type": "stream",
     "text": [
      "Processing entries:  62%|██████▏   | 997/1621 [5:39:24<3:41:39, 21.31s/it]"
     ]
    },
    {
     "name": "stdout",
     "output_type": "stream",
     "text": [
      "[OK] photo_20241104085141_5.json -> C:/Users/user/pythonproject/AllDataset/VAT-OCR\\triple_receipt\\label\\train_new\\photo_20241104085141_5.json\n"
     ]
    },
    {
     "name": "stderr",
     "output_type": "stream",
     "text": [
      "Processing entries:  62%|██████▏   | 998/1621 [5:39:42<3:31:43, 20.39s/it]"
     ]
    },
    {
     "name": "stdout",
     "output_type": "stream",
     "text": [
      "[OK] photo_20241104085141_6.json -> C:/Users/user/pythonproject/AllDataset/VAT-OCR\\triple_receipt\\label\\train_new\\photo_20241104085141_6.json\n"
     ]
    },
    {
     "name": "stderr",
     "output_type": "stream",
     "text": [
      "Processing entries:  62%|██████▏   | 999/1621 [5:40:04<3:34:06, 20.65s/it]"
     ]
    },
    {
     "name": "stdout",
     "output_type": "stream",
     "text": [
      "[FAIL] photo_20241104085141_7.json -> C:/Users/user/pythonproject/AllDataset/VAT-OCR\\triple_receipt\\label\\train_fail\\photo_20241104085141_7.json\n"
     ]
    },
    {
     "name": "stderr",
     "output_type": "stream",
     "text": [
      "Processing entries:  62%|██████▏   | 1000/1621 [5:40:25<3:37:04, 20.97s/it]"
     ]
    },
    {
     "name": "stdout",
     "output_type": "stream",
     "text": [
      "[OK] photo_20241104085141_8.json -> C:/Users/user/pythonproject/AllDataset/VAT-OCR\\triple_receipt\\label\\train_new\\photo_20241104085141_8.json\n"
     ]
    },
    {
     "name": "stderr",
     "output_type": "stream",
     "text": [
      "Processing entries:  62%|██████▏   | 1001/1621 [5:40:45<3:33:51, 20.70s/it]"
     ]
    },
    {
     "name": "stdout",
     "output_type": "stream",
     "text": [
      "[FAIL] photo_20241104085141_9.json -> C:/Users/user/pythonproject/AllDataset/VAT-OCR\\triple_receipt\\label\\train_fail\\photo_20241104085141_9.json\n"
     ]
    },
    {
     "name": "stderr",
     "output_type": "stream",
     "text": [
      "Processing entries:  62%|██████▏   | 1002/1621 [5:41:19<4:11:57, 24.42s/it]"
     ]
    },
    {
     "name": "stdout",
     "output_type": "stream",
     "text": [
      "[FAIL] photo_20241104093530_1.json -> C:/Users/user/pythonproject/AllDataset/VAT-OCR\\triple_receipt\\label\\train_fail\\photo_20241104093530_1.json\n"
     ]
    },
    {
     "name": "stderr",
     "output_type": "stream",
     "text": [
      "Processing entries:  62%|██████▏   | 1003/1621 [5:41:36<3:51:05, 22.44s/it]"
     ]
    },
    {
     "name": "stdout",
     "output_type": "stream",
     "text": [
      "[FAIL] photo_20241104093530_10.json -> C:/Users/user/pythonproject/AllDataset/VAT-OCR\\triple_receipt\\label\\train_fail\\photo_20241104093530_10.json\n"
     ]
    },
    {
     "name": "stderr",
     "output_type": "stream",
     "text": [
      "Processing entries:  62%|██████▏   | 1004/1621 [5:41:57<3:46:31, 22.03s/it]"
     ]
    },
    {
     "name": "stdout",
     "output_type": "stream",
     "text": [
      "[FAIL] photo_20241104093530_11.json -> C:/Users/user/pythonproject/AllDataset/VAT-OCR\\triple_receipt\\label\\train_fail\\photo_20241104093530_11.json\n"
     ]
    },
    {
     "name": "stderr",
     "output_type": "stream",
     "text": [
      "Processing entries:  62%|██████▏   | 1005/1621 [5:42:14<3:27:55, 20.25s/it]"
     ]
    },
    {
     "name": "stdout",
     "output_type": "stream",
     "text": [
      "[FAIL] photo_20241104093530_2.json -> C:/Users/user/pythonproject/AllDataset/VAT-OCR\\triple_receipt\\label\\train_fail\\photo_20241104093530_2.json\n"
     ]
    },
    {
     "name": "stderr",
     "output_type": "stream",
     "text": [
      "Processing entries:  62%|██████▏   | 1006/1621 [5:42:38<3:41:47, 21.64s/it]"
     ]
    },
    {
     "name": "stdout",
     "output_type": "stream",
     "text": [
      "[FAIL] photo_20241104093530_3.json -> C:/Users/user/pythonproject/AllDataset/VAT-OCR\\triple_receipt\\label\\train_fail\\photo_20241104093530_3.json\n"
     ]
    },
    {
     "name": "stderr",
     "output_type": "stream",
     "text": [
      "Processing entries:  62%|██████▏   | 1007/1621 [5:42:55<3:25:54, 20.12s/it]"
     ]
    },
    {
     "name": "stdout",
     "output_type": "stream",
     "text": [
      "[OK] photo_20241104093530_5.json -> C:/Users/user/pythonproject/AllDataset/VAT-OCR\\triple_receipt\\label\\train_new\\photo_20241104093530_5.json\n"
     ]
    },
    {
     "name": "stderr",
     "output_type": "stream",
     "text": [
      "Processing entries:  62%|██████▏   | 1008/1621 [5:43:13<3:19:22, 19.52s/it]"
     ]
    },
    {
     "name": "stdout",
     "output_type": "stream",
     "text": [
      "[OK] photo_20241104093530_6.json -> C:/Users/user/pythonproject/AllDataset/VAT-OCR\\triple_receipt\\label\\train_new\\photo_20241104093530_6.json\n"
     ]
    },
    {
     "name": "stderr",
     "output_type": "stream",
     "text": [
      "Processing entries:  62%|██████▏   | 1009/1621 [5:43:32<3:16:22, 19.25s/it]"
     ]
    },
    {
     "name": "stdout",
     "output_type": "stream",
     "text": [
      "[FAIL] photo_20241104093530_7.json -> C:/Users/user/pythonproject/AllDataset/VAT-OCR\\triple_receipt\\label\\train_fail\\photo_20241104093530_7.json\n"
     ]
    },
    {
     "name": "stderr",
     "output_type": "stream",
     "text": [
      "Processing entries:  62%|██████▏   | 1010/1621 [5:43:50<3:12:38, 18.92s/it]"
     ]
    },
    {
     "name": "stdout",
     "output_type": "stream",
     "text": [
      "[OK] photo_20241104093530_8.json -> C:/Users/user/pythonproject/AllDataset/VAT-OCR\\triple_receipt\\label\\train_new\\photo_20241104093530_8.json\n"
     ]
    },
    {
     "name": "stderr",
     "output_type": "stream",
     "text": [
      "Processing entries:  62%|██████▏   | 1011/1621 [5:44:08<3:09:53, 18.68s/it]"
     ]
    },
    {
     "name": "stdout",
     "output_type": "stream",
     "text": [
      "[OK] photo_20241104093530_9.json -> C:/Users/user/pythonproject/AllDataset/VAT-OCR\\triple_receipt\\label\\train_new\\photo_20241104093530_9.json\n"
     ]
    },
    {
     "name": "stderr",
     "output_type": "stream",
     "text": [
      "Processing entries:  62%|██████▏   | 1012/1621 [5:44:31<3:23:54, 20.09s/it]"
     ]
    },
    {
     "name": "stdout",
     "output_type": "stream",
     "text": [
      "[FAIL] photo_20241104095101_1.json -> C:/Users/user/pythonproject/AllDataset/VAT-OCR\\triple_receipt\\label\\train_fail\\photo_20241104095101_1.json\n"
     ]
    },
    {
     "name": "stderr",
     "output_type": "stream",
     "text": [
      "Processing entries:  62%|██████▏   | 1013/1621 [5:44:49<3:17:35, 19.50s/it]"
     ]
    },
    {
     "name": "stdout",
     "output_type": "stream",
     "text": [
      "[FAIL] photo_20241104095101_10.json -> C:/Users/user/pythonproject/AllDataset/VAT-OCR\\triple_receipt\\label\\train_fail\\photo_20241104095101_10.json\n"
     ]
    },
    {
     "name": "stderr",
     "output_type": "stream",
     "text": [
      "Processing entries:  63%|██████▎   | 1014/1621 [5:45:10<3:19:51, 19.76s/it]"
     ]
    },
    {
     "name": "stdout",
     "output_type": "stream",
     "text": [
      "[FAIL] photo_20241104095101_11.json -> C:/Users/user/pythonproject/AllDataset/VAT-OCR\\triple_receipt\\label\\train_fail\\photo_20241104095101_11.json\n"
     ]
    },
    {
     "name": "stderr",
     "output_type": "stream",
     "text": [
      "Processing entries:  63%|██████▎   | 1015/1621 [5:45:29<3:17:06, 19.52s/it]"
     ]
    },
    {
     "name": "stdout",
     "output_type": "stream",
     "text": [
      "[FAIL] photo_20241104095101_12.json -> C:/Users/user/pythonproject/AllDataset/VAT-OCR\\triple_receipt\\label\\train_fail\\photo_20241104095101_12.json\n"
     ]
    },
    {
     "name": "stderr",
     "output_type": "stream",
     "text": [
      "Processing entries:  63%|██████▎   | 1016/1621 [5:45:46<3:11:03, 18.95s/it]"
     ]
    },
    {
     "name": "stdout",
     "output_type": "stream",
     "text": [
      "[OK] photo_20241104095101_2.json -> C:/Users/user/pythonproject/AllDataset/VAT-OCR\\triple_receipt\\label\\train_new\\photo_20241104095101_2.json\n"
     ]
    },
    {
     "name": "stderr",
     "output_type": "stream",
     "text": [
      "Processing entries:  63%|██████▎   | 1017/1621 [5:46:06<3:11:27, 19.02s/it]"
     ]
    },
    {
     "name": "stdout",
     "output_type": "stream",
     "text": [
      "[FAIL] photo_20241104095101_3.json -> C:/Users/user/pythonproject/AllDataset/VAT-OCR\\triple_receipt\\label\\train_fail\\photo_20241104095101_3.json\n"
     ]
    },
    {
     "name": "stderr",
     "output_type": "stream",
     "text": [
      "Processing entries:  63%|██████▎   | 1018/1621 [5:46:23<3:04:49, 18.39s/it]"
     ]
    },
    {
     "name": "stdout",
     "output_type": "stream",
     "text": [
      "[OK] photo_20241104095101_4.json -> C:/Users/user/pythonproject/AllDataset/VAT-OCR\\triple_receipt\\label\\train_new\\photo_20241104095101_4.json\n"
     ]
    },
    {
     "name": "stderr",
     "output_type": "stream",
     "text": [
      "Processing entries:  63%|██████▎   | 1019/1621 [5:46:41<3:05:06, 18.45s/it]"
     ]
    },
    {
     "name": "stdout",
     "output_type": "stream",
     "text": [
      "[FAIL] photo_20241104095101_5.json -> C:/Users/user/pythonproject/AllDataset/VAT-OCR\\triple_receipt\\label\\train_fail\\photo_20241104095101_5.json\n"
     ]
    },
    {
     "name": "stderr",
     "output_type": "stream",
     "text": [
      "Processing entries:  63%|██████▎   | 1020/1621 [5:46:59<3:02:23, 18.21s/it]"
     ]
    },
    {
     "name": "stdout",
     "output_type": "stream",
     "text": [
      "[FAIL] photo_20241104095101_6.json -> C:/Users/user/pythonproject/AllDataset/VAT-OCR\\triple_receipt\\label\\train_fail\\photo_20241104095101_6.json\n"
     ]
    },
    {
     "name": "stderr",
     "output_type": "stream",
     "text": [
      "Processing entries:  63%|██████▎   | 1021/1621 [5:47:15<2:55:03, 17.51s/it]"
     ]
    },
    {
     "name": "stdout",
     "output_type": "stream",
     "text": [
      "[FAIL] photo_20241104095101_7.json -> C:/Users/user/pythonproject/AllDataset/VAT-OCR\\triple_receipt\\label\\train_fail\\photo_20241104095101_7.json\n"
     ]
    },
    {
     "name": "stderr",
     "output_type": "stream",
     "text": [
      "Processing entries:  63%|██████▎   | 1022/1621 [5:47:32<2:55:17, 17.56s/it]"
     ]
    },
    {
     "name": "stdout",
     "output_type": "stream",
     "text": [
      "[FAIL] photo_20241104095101_8.json -> C:/Users/user/pythonproject/AllDataset/VAT-OCR\\triple_receipt\\label\\train_fail\\photo_20241104095101_8.json\n"
     ]
    },
    {
     "name": "stderr",
     "output_type": "stream",
     "text": [
      "Processing entries:  63%|██████▎   | 1023/1621 [5:47:51<2:57:27, 17.80s/it]"
     ]
    },
    {
     "name": "stdout",
     "output_type": "stream",
     "text": [
      "[FAIL] photo_20241104095101_9.json -> C:/Users/user/pythonproject/AllDataset/VAT-OCR\\triple_receipt\\label\\train_fail\\photo_20241104095101_9.json\n"
     ]
    },
    {
     "name": "stderr",
     "output_type": "stream",
     "text": [
      "Processing entries:  63%|██████▎   | 1024/1621 [5:48:08<2:56:58, 17.79s/it]"
     ]
    },
    {
     "name": "stdout",
     "output_type": "stream",
     "text": [
      "[FAIL] photo_20241104131047_1.json -> C:/Users/user/pythonproject/AllDataset/VAT-OCR\\triple_receipt\\label\\train_fail\\photo_20241104131047_1.json\n"
     ]
    },
    {
     "name": "stderr",
     "output_type": "stream",
     "text": [
      "Processing entries:  63%|██████▎   | 1025/1621 [5:48:27<2:59:20, 18.06s/it]"
     ]
    },
    {
     "name": "stdout",
     "output_type": "stream",
     "text": [
      "[FAIL] photo_20241104131047_10.json -> C:/Users/user/pythonproject/AllDataset/VAT-OCR\\triple_receipt\\label\\train_fail\\photo_20241104131047_10.json\n"
     ]
    },
    {
     "name": "stderr",
     "output_type": "stream",
     "text": [
      "Processing entries:  63%|██████▎   | 1026/1621 [5:48:46<3:01:39, 18.32s/it]"
     ]
    },
    {
     "name": "stdout",
     "output_type": "stream",
     "text": [
      "[FAIL] photo_20241104131047_2.json -> C:/Users/user/pythonproject/AllDataset/VAT-OCR\\triple_receipt\\label\\train_fail\\photo_20241104131047_2.json\n"
     ]
    },
    {
     "name": "stderr",
     "output_type": "stream",
     "text": [
      "Processing entries:  63%|██████▎   | 1027/1621 [5:49:07<3:09:26, 19.14s/it]"
     ]
    },
    {
     "name": "stdout",
     "output_type": "stream",
     "text": [
      "[FAIL] photo_20241104131047_3.json -> C:/Users/user/pythonproject/AllDataset/VAT-OCR\\triple_receipt\\label\\train_fail\\photo_20241104131047_3.json\n"
     ]
    },
    {
     "name": "stderr",
     "output_type": "stream",
     "text": [
      "Processing entries:  63%|██████▎   | 1028/1621 [5:49:23<3:00:25, 18.25s/it]"
     ]
    },
    {
     "name": "stdout",
     "output_type": "stream",
     "text": [
      "[FAIL] photo_20241104131047_4.json -> C:/Users/user/pythonproject/AllDataset/VAT-OCR\\triple_receipt\\label\\train_fail\\photo_20241104131047_4.json\n"
     ]
    },
    {
     "name": "stderr",
     "output_type": "stream",
     "text": [
      "Processing entries:  63%|██████▎   | 1029/1621 [5:49:40<2:55:09, 17.75s/it]"
     ]
    },
    {
     "name": "stdout",
     "output_type": "stream",
     "text": [
      "[FAIL] photo_20241104131047_5.json -> C:/Users/user/pythonproject/AllDataset/VAT-OCR\\triple_receipt\\label\\train_fail\\photo_20241104131047_5.json\n"
     ]
    },
    {
     "name": "stderr",
     "output_type": "stream",
     "text": [
      "Processing entries:  64%|██████▎   | 1030/1621 [5:50:00<3:01:14, 18.40s/it]"
     ]
    },
    {
     "name": "stdout",
     "output_type": "stream",
     "text": [
      "[FAIL] photo_20241104131047_6.json -> C:/Users/user/pythonproject/AllDataset/VAT-OCR\\triple_receipt\\label\\train_fail\\photo_20241104131047_6.json\n"
     ]
    },
    {
     "name": "stderr",
     "output_type": "stream",
     "text": [
      "Processing entries:  64%|██████▎   | 1031/1621 [5:50:17<2:57:35, 18.06s/it]"
     ]
    },
    {
     "name": "stdout",
     "output_type": "stream",
     "text": [
      "[OK] photo_20241104131047_7.json -> C:/Users/user/pythonproject/AllDataset/VAT-OCR\\triple_receipt\\label\\train_new\\photo_20241104131047_7.json\n"
     ]
    },
    {
     "name": "stderr",
     "output_type": "stream",
     "text": [
      "Processing entries:  64%|██████▎   | 1032/1621 [5:50:34<2:53:12, 17.64s/it]"
     ]
    },
    {
     "name": "stdout",
     "output_type": "stream",
     "text": [
      "[FAIL] photo_20241104131047_8.json -> C:/Users/user/pythonproject/AllDataset/VAT-OCR\\triple_receipt\\label\\train_fail\\photo_20241104131047_8.json\n"
     ]
    },
    {
     "name": "stderr",
     "output_type": "stream",
     "text": [
      "Processing entries:  64%|██████▎   | 1033/1621 [5:50:51<2:51:47, 17.53s/it]"
     ]
    },
    {
     "name": "stdout",
     "output_type": "stream",
     "text": [
      "[OK] photo_20241104131047_9.json -> C:/Users/user/pythonproject/AllDataset/VAT-OCR\\triple_receipt\\label\\train_new\\photo_20241104131047_9.json\n"
     ]
    },
    {
     "name": "stderr",
     "output_type": "stream",
     "text": [
      "Processing entries:  64%|██████▍   | 1034/1621 [5:51:14<3:06:42, 19.08s/it]"
     ]
    },
    {
     "name": "stdout",
     "output_type": "stream",
     "text": [
      "[FAIL] photo_20241104132952_1.json -> C:/Users/user/pythonproject/AllDataset/VAT-OCR\\triple_receipt\\label\\train_fail\\photo_20241104132952_1.json\n"
     ]
    },
    {
     "name": "stderr",
     "output_type": "stream",
     "text": [
      "Processing entries:  64%|██████▍   | 1035/1621 [5:51:28<2:53:50, 17.80s/it]"
     ]
    },
    {
     "name": "stdout",
     "output_type": "stream",
     "text": [
      "[FAIL] photo_20241104132952_10.json -> C:/Users/user/pythonproject/AllDataset/VAT-OCR\\triple_receipt\\label\\train_fail\\photo_20241104132952_10.json\n"
     ]
    },
    {
     "name": "stderr",
     "output_type": "stream",
     "text": [
      "Processing entries:  64%|██████▍   | 1036/1621 [5:51:50<3:03:32, 18.83s/it]"
     ]
    },
    {
     "name": "stdout",
     "output_type": "stream",
     "text": [
      "[FAIL] photo_20241104132952_2.json -> C:/Users/user/pythonproject/AllDataset/VAT-OCR\\triple_receipt\\label\\train_fail\\photo_20241104132952_2.json\n"
     ]
    },
    {
     "name": "stderr",
     "output_type": "stream",
     "text": [
      "Processing entries:  64%|██████▍   | 1037/1621 [5:52:11<3:11:35, 19.68s/it]"
     ]
    },
    {
     "name": "stdout",
     "output_type": "stream",
     "text": [
      "[OK] photo_20241104132952_3.json -> C:/Users/user/pythonproject/AllDataset/VAT-OCR\\triple_receipt\\label\\train_new\\photo_20241104132952_3.json\n"
     ]
    },
    {
     "name": "stderr",
     "output_type": "stream",
     "text": [
      "Processing entries:  64%|██████▍   | 1038/1621 [5:52:31<3:11:43, 19.73s/it]"
     ]
    },
    {
     "name": "stdout",
     "output_type": "stream",
     "text": [
      "[OK] photo_20241104132952_4.json -> C:/Users/user/pythonproject/AllDataset/VAT-OCR\\triple_receipt\\label\\train_new\\photo_20241104132952_4.json\n"
     ]
    },
    {
     "name": "stderr",
     "output_type": "stream",
     "text": [
      "Processing entries:  64%|██████▍   | 1039/1621 [5:52:46<2:56:28, 18.19s/it]"
     ]
    },
    {
     "name": "stdout",
     "output_type": "stream",
     "text": [
      "[FAIL] photo_20241104132952_5.json -> C:/Users/user/pythonproject/AllDataset/VAT-OCR\\triple_receipt\\label\\train_fail\\photo_20241104132952_5.json\n"
     ]
    },
    {
     "name": "stderr",
     "output_type": "stream",
     "text": [
      "Processing entries:  64%|██████▍   | 1040/1621 [5:53:01<2:48:25, 17.39s/it]"
     ]
    },
    {
     "name": "stdout",
     "output_type": "stream",
     "text": [
      "[OK] photo_20241104132952_6.json -> C:/Users/user/pythonproject/AllDataset/VAT-OCR\\triple_receipt\\label\\train_new\\photo_20241104132952_6.json\n"
     ]
    },
    {
     "name": "stderr",
     "output_type": "stream",
     "text": [
      "Processing entries:  64%|██████▍   | 1041/1621 [5:53:17<2:42:34, 16.82s/it]"
     ]
    },
    {
     "name": "stdout",
     "output_type": "stream",
     "text": [
      "[FAIL] photo_20241104132952_7.json -> C:/Users/user/pythonproject/AllDataset/VAT-OCR\\triple_receipt\\label\\train_fail\\photo_20241104132952_7.json\n"
     ]
    },
    {
     "name": "stderr",
     "output_type": "stream",
     "text": [
      "Processing entries:  64%|██████▍   | 1042/1621 [5:53:32<2:36:36, 16.23s/it]"
     ]
    },
    {
     "name": "stdout",
     "output_type": "stream",
     "text": [
      "[OK] photo_20241104132952_8.json -> C:/Users/user/pythonproject/AllDataset/VAT-OCR\\triple_receipt\\label\\train_new\\photo_20241104132952_8.json\n"
     ]
    },
    {
     "name": "stderr",
     "output_type": "stream",
     "text": [
      "Processing entries:  64%|██████▍   | 1043/1621 [5:53:48<2:36:12, 16.21s/it]"
     ]
    },
    {
     "name": "stdout",
     "output_type": "stream",
     "text": [
      "[OK] photo_20241104132952_9.json -> C:/Users/user/pythonproject/AllDataset/VAT-OCR\\triple_receipt\\label\\train_new\\photo_20241104132952_9.json\n"
     ]
    },
    {
     "name": "stderr",
     "output_type": "stream",
     "text": [
      "Processing entries:  64%|██████▍   | 1044/1621 [5:54:05<2:39:12, 16.56s/it]"
     ]
    },
    {
     "name": "stdout",
     "output_type": "stream",
     "text": [
      "[FAIL] photo_20241104134644_1.json -> C:/Users/user/pythonproject/AllDataset/VAT-OCR\\triple_receipt\\label\\train_fail\\photo_20241104134644_1.json\n"
     ]
    },
    {
     "name": "stderr",
     "output_type": "stream",
     "text": [
      "Processing entries:  64%|██████▍   | 1045/1621 [5:54:27<2:53:24, 18.06s/it]"
     ]
    },
    {
     "name": "stdout",
     "output_type": "stream",
     "text": [
      "[FAIL] photo_20241104134644_2.json -> C:/Users/user/pythonproject/AllDataset/VAT-OCR\\triple_receipt\\label\\train_fail\\photo_20241104134644_2.json\n"
     ]
    },
    {
     "name": "stderr",
     "output_type": "stream",
     "text": [
      "Processing entries:  65%|██████▍   | 1046/1621 [5:54:47<2:59:00, 18.68s/it]"
     ]
    },
    {
     "name": "stdout",
     "output_type": "stream",
     "text": [
      "[FAIL] photo_20241104134644_3.json -> C:/Users/user/pythonproject/AllDataset/VAT-OCR\\triple_receipt\\label\\train_fail\\photo_20241104134644_3.json\n"
     ]
    },
    {
     "name": "stderr",
     "output_type": "stream",
     "text": [
      "Processing entries:  65%|██████▍   | 1047/1621 [5:55:10<3:12:27, 20.12s/it]"
     ]
    },
    {
     "name": "stdout",
     "output_type": "stream",
     "text": [
      "[FAIL] photo_20241104134644_4.json -> C:/Users/user/pythonproject/AllDataset/VAT-OCR\\triple_receipt\\label\\train_fail\\photo_20241104134644_4.json\n"
     ]
    },
    {
     "name": "stderr",
     "output_type": "stream",
     "text": [
      "Processing entries:  65%|██████▍   | 1048/1621 [5:56:22<5:38:46, 35.47s/it]"
     ]
    },
    {
     "name": "stdout",
     "output_type": "stream",
     "text": [
      "[FAIL] photo_20241104134644_5.json -> C:/Users/user/pythonproject/AllDataset/VAT-OCR\\triple_receipt\\label\\train_fail\\photo_20241104134644_5.json\n"
     ]
    },
    {
     "name": "stderr",
     "output_type": "stream",
     "text": [
      "Processing entries:  65%|██████▍   | 1049/1621 [5:56:47<5:08:39, 32.38s/it]"
     ]
    },
    {
     "name": "stdout",
     "output_type": "stream",
     "text": [
      "[FAIL] photo_20241104134644_6.json -> C:/Users/user/pythonproject/AllDataset/VAT-OCR\\triple_receipt\\label\\train_fail\\photo_20241104134644_6.json\n"
     ]
    },
    {
     "name": "stderr",
     "output_type": "stream",
     "text": [
      "Processing entries:  65%|██████▍   | 1050/1621 [5:57:12<4:47:50, 30.25s/it]"
     ]
    },
    {
     "name": "stdout",
     "output_type": "stream",
     "text": [
      "[FAIL] photo_20241104134644_7.json -> C:/Users/user/pythonproject/AllDataset/VAT-OCR\\triple_receipt\\label\\train_fail\\photo_20241104134644_7.json\n"
     ]
    },
    {
     "name": "stderr",
     "output_type": "stream",
     "text": [
      "Processing entries:  65%|██████▍   | 1051/1621 [5:57:34<4:22:07, 27.59s/it]"
     ]
    },
    {
     "name": "stdout",
     "output_type": "stream",
     "text": [
      "[FAIL] photo_20241104134644_8.json -> C:/Users/user/pythonproject/AllDataset/VAT-OCR\\triple_receipt\\label\\train_fail\\photo_20241104134644_8.json\n"
     ]
    },
    {
     "name": "stderr",
     "output_type": "stream",
     "text": [
      "Processing entries:  65%|██████▍   | 1052/1621 [5:57:56<4:07:37, 26.11s/it]"
     ]
    },
    {
     "name": "stdout",
     "output_type": "stream",
     "text": [
      "[FAIL] photo_20241104140041_1.json -> C:/Users/user/pythonproject/AllDataset/VAT-OCR\\triple_receipt\\label\\train_fail\\photo_20241104140041_1.json\n"
     ]
    },
    {
     "name": "stderr",
     "output_type": "stream",
     "text": [
      "Processing entries:  65%|██████▍   | 1053/1621 [5:58:22<4:07:24, 26.13s/it]"
     ]
    },
    {
     "name": "stdout",
     "output_type": "stream",
     "text": [
      "[OK] photo_20241104140041_10.json -> C:/Users/user/pythonproject/AllDataset/VAT-OCR\\triple_receipt\\label\\train_new\\photo_20241104140041_10.json\n"
     ]
    },
    {
     "name": "stderr",
     "output_type": "stream",
     "text": [
      "Processing entries:  65%|██████▌   | 1054/1621 [5:58:51<4:12:41, 26.74s/it]"
     ]
    },
    {
     "name": "stdout",
     "output_type": "stream",
     "text": [
      "[FAIL] photo_20241104140041_11.json -> C:/Users/user/pythonproject/AllDataset/VAT-OCR\\triple_receipt\\label\\train_fail\\photo_20241104140041_11.json\n"
     ]
    },
    {
     "name": "stderr",
     "output_type": "stream",
     "text": [
      "Processing entries:  65%|██████▌   | 1055/1621 [5:59:08<3:45:11, 23.87s/it]"
     ]
    },
    {
     "name": "stdout",
     "output_type": "stream",
     "text": [
      "[FAIL] photo_20241104140041_2.json -> C:/Users/user/pythonproject/AllDataset/VAT-OCR\\triple_receipt\\label\\train_fail\\photo_20241104140041_2.json\n"
     ]
    },
    {
     "name": "stderr",
     "output_type": "stream",
     "text": [
      "Processing entries:  65%|██████▌   | 1056/1621 [5:59:26<3:28:12, 22.11s/it]"
     ]
    },
    {
     "name": "stdout",
     "output_type": "stream",
     "text": [
      "[FAIL] photo_20241104140041_3.json -> C:/Users/user/pythonproject/AllDataset/VAT-OCR\\triple_receipt\\label\\train_fail\\photo_20241104140041_3.json\n"
     ]
    },
    {
     "name": "stderr",
     "output_type": "stream",
     "text": [
      "Processing entries:  65%|██████▌   | 1057/1621 [5:59:43<3:14:55, 20.74s/it]"
     ]
    },
    {
     "name": "stdout",
     "output_type": "stream",
     "text": [
      "[FAIL] photo_20241104140041_4.json -> C:/Users/user/pythonproject/AllDataset/VAT-OCR\\triple_receipt\\label\\train_fail\\photo_20241104140041_4.json\n"
     ]
    },
    {
     "name": "stderr",
     "output_type": "stream",
     "text": [
      "Processing entries:  65%|██████▌   | 1058/1621 [6:00:14<3:42:14, 23.68s/it]"
     ]
    },
    {
     "name": "stdout",
     "output_type": "stream",
     "text": [
      "[FAIL] photo_20241104140041_5.json -> C:/Users/user/pythonproject/AllDataset/VAT-OCR\\triple_receipt\\label\\train_fail\\photo_20241104140041_5.json\n"
     ]
    },
    {
     "name": "stderr",
     "output_type": "stream",
     "text": [
      "Processing entries:  65%|██████▌   | 1059/1621 [6:00:42<3:53:08, 24.89s/it]"
     ]
    },
    {
     "name": "stdout",
     "output_type": "stream",
     "text": [
      "[FAIL] photo_20241104140041_6.json -> C:/Users/user/pythonproject/AllDataset/VAT-OCR\\triple_receipt\\label\\train_fail\\photo_20241104140041_6.json\n"
     ]
    },
    {
     "name": "stderr",
     "output_type": "stream",
     "text": [
      "Processing entries:  65%|██████▌   | 1060/1621 [6:01:09<3:58:55, 25.55s/it]"
     ]
    },
    {
     "name": "stdout",
     "output_type": "stream",
     "text": [
      "[OK] photo_20241104140041_7.json -> C:/Users/user/pythonproject/AllDataset/VAT-OCR\\triple_receipt\\label\\train_new\\photo_20241104140041_7.json\n"
     ]
    },
    {
     "name": "stderr",
     "output_type": "stream",
     "text": [
      "Processing entries:  65%|██████▌   | 1061/1621 [6:01:39<4:12:32, 27.06s/it]"
     ]
    },
    {
     "name": "stdout",
     "output_type": "stream",
     "text": [
      "[FAIL] photo_20241104140041_8.json -> C:/Users/user/pythonproject/AllDataset/VAT-OCR\\triple_receipt\\label\\train_fail\\photo_20241104140041_8.json\n"
     ]
    },
    {
     "name": "stderr",
     "output_type": "stream",
     "text": [
      "Processing entries:  66%|██████▌   | 1062/1621 [6:02:08<4:18:22, 27.73s/it]"
     ]
    },
    {
     "name": "stdout",
     "output_type": "stream",
     "text": [
      "[FAIL] photo_20241104140041_9.json -> C:/Users/user/pythonproject/AllDataset/VAT-OCR\\triple_receipt\\label\\train_fail\\photo_20241104140041_9.json\n"
     ]
    },
    {
     "name": "stderr",
     "output_type": "stream",
     "text": [
      "Processing entries:  66%|██████▌   | 1063/1621 [6:02:30<4:00:56, 25.91s/it]"
     ]
    },
    {
     "name": "stdout",
     "output_type": "stream",
     "text": [
      "[OK] photo_20241104141816_1.json -> C:/Users/user/pythonproject/AllDataset/VAT-OCR\\triple_receipt\\label\\train_new\\photo_20241104141816_1.json\n"
     ]
    },
    {
     "name": "stderr",
     "output_type": "stream",
     "text": [
      "Processing entries:  66%|██████▌   | 1064/1621 [6:02:46<3:33:17, 22.98s/it]"
     ]
    },
    {
     "name": "stdout",
     "output_type": "stream",
     "text": [
      "[FAIL] photo_20241104141816_10.json -> C:/Users/user/pythonproject/AllDataset/VAT-OCR\\triple_receipt\\label\\train_fail\\photo_20241104141816_10.json\n"
     ]
    },
    {
     "name": "stderr",
     "output_type": "stream",
     "text": [
      "Processing entries:  66%|██████▌   | 1065/1621 [6:03:11<3:37:38, 23.49s/it]"
     ]
    },
    {
     "name": "stdout",
     "output_type": "stream",
     "text": [
      "[OK] photo_20241104141816_11.json -> C:/Users/user/pythonproject/AllDataset/VAT-OCR\\triple_receipt\\label\\train_new\\photo_20241104141816_11.json\n"
     ]
    },
    {
     "name": "stderr",
     "output_type": "stream",
     "text": [
      "Processing entries:  66%|██████▌   | 1066/1621 [6:03:31<3:27:56, 22.48s/it]"
     ]
    },
    {
     "name": "stdout",
     "output_type": "stream",
     "text": [
      "[FAIL] photo_20241104141816_2.json -> C:/Users/user/pythonproject/AllDataset/VAT-OCR\\triple_receipt\\label\\train_fail\\photo_20241104141816_2.json\n"
     ]
    },
    {
     "name": "stderr",
     "output_type": "stream",
     "text": [
      "Processing entries:  66%|██████▌   | 1067/1621 [6:03:50<3:16:26, 21.27s/it]"
     ]
    },
    {
     "name": "stdout",
     "output_type": "stream",
     "text": [
      "[FAIL] photo_20241104141816_3.json -> C:/Users/user/pythonproject/AllDataset/VAT-OCR\\triple_receipt\\label\\train_fail\\photo_20241104141816_3.json\n"
     ]
    },
    {
     "name": "stderr",
     "output_type": "stream",
     "text": [
      "Processing entries:  66%|██████▌   | 1068/1621 [6:04:12<3:20:09, 21.72s/it]"
     ]
    },
    {
     "name": "stdout",
     "output_type": "stream",
     "text": [
      "[FAIL] photo_20241104141816_4.json -> C:/Users/user/pythonproject/AllDataset/VAT-OCR\\triple_receipt\\label\\train_fail\\photo_20241104141816_4.json\n"
     ]
    },
    {
     "name": "stderr",
     "output_type": "stream",
     "text": [
      "Processing entries:  66%|██████▌   | 1069/1621 [6:04:36<3:25:44, 22.36s/it]"
     ]
    },
    {
     "name": "stdout",
     "output_type": "stream",
     "text": [
      "[FAIL] photo_20241104141816_5.json -> C:/Users/user/pythonproject/AllDataset/VAT-OCR\\triple_receipt\\label\\train_fail\\photo_20241104141816_5.json\n"
     ]
    },
    {
     "name": "stderr",
     "output_type": "stream",
     "text": [
      "Processing entries:  66%|██████▌   | 1070/1621 [6:05:02<3:35:29, 23.46s/it]"
     ]
    },
    {
     "name": "stdout",
     "output_type": "stream",
     "text": [
      "[OK] photo_20241104141816_6.json -> C:/Users/user/pythonproject/AllDataset/VAT-OCR\\triple_receipt\\label\\train_new\\photo_20241104141816_6.json\n"
     ]
    },
    {
     "name": "stderr",
     "output_type": "stream",
     "text": [
      "Processing entries:  66%|██████▌   | 1071/1621 [6:05:28<3:40:47, 24.09s/it]"
     ]
    },
    {
     "name": "stdout",
     "output_type": "stream",
     "text": [
      "[OK] photo_20241104141816_7.json -> C:/Users/user/pythonproject/AllDataset/VAT-OCR\\triple_receipt\\label\\train_new\\photo_20241104141816_7.json\n"
     ]
    },
    {
     "name": "stderr",
     "output_type": "stream",
     "text": [
      "Processing entries:  66%|██████▌   | 1072/1621 [6:05:57<3:54:15, 25.60s/it]"
     ]
    },
    {
     "name": "stdout",
     "output_type": "stream",
     "text": [
      "[OK] photo_20241104141816_8.json -> C:/Users/user/pythonproject/AllDataset/VAT-OCR\\triple_receipt\\label\\train_new\\photo_20241104141816_8.json\n"
     ]
    },
    {
     "name": "stderr",
     "output_type": "stream",
     "text": [
      "Processing entries:  66%|██████▌   | 1073/1621 [6:06:15<3:32:33, 23.27s/it]"
     ]
    },
    {
     "name": "stdout",
     "output_type": "stream",
     "text": [
      "[FAIL] photo_20241104141816_9.json -> C:/Users/user/pythonproject/AllDataset/VAT-OCR\\triple_receipt\\label\\train_fail\\photo_20241104141816_9.json\n"
     ]
    },
    {
     "name": "stderr",
     "output_type": "stream",
     "text": [
      "Processing entries:  66%|██████▋   | 1074/1621 [6:06:35<3:22:48, 22.25s/it]"
     ]
    },
    {
     "name": "stdout",
     "output_type": "stream",
     "text": [
      "[OK] photo_20241104143406_1.json -> C:/Users/user/pythonproject/AllDataset/VAT-OCR\\triple_receipt\\label\\train_new\\photo_20241104143406_1.json\n"
     ]
    },
    {
     "name": "stderr",
     "output_type": "stream",
     "text": [
      "Processing entries:  66%|██████▋   | 1075/1621 [6:06:50<3:03:18, 20.14s/it]"
     ]
    },
    {
     "name": "stdout",
     "output_type": "stream",
     "text": [
      "[FAIL] photo_20241104143406_10.json -> C:/Users/user/pythonproject/AllDataset/VAT-OCR\\triple_receipt\\label\\train_fail\\photo_20241104143406_10.json\n"
     ]
    },
    {
     "name": "stderr",
     "output_type": "stream",
     "text": [
      "Processing entries:  66%|██████▋   | 1076/1621 [6:07:11<3:04:50, 20.35s/it]"
     ]
    },
    {
     "name": "stdout",
     "output_type": "stream",
     "text": [
      "[OK] photo_20241104143406_11.json -> C:/Users/user/pythonproject/AllDataset/VAT-OCR\\triple_receipt\\label\\train_new\\photo_20241104143406_11.json\n"
     ]
    },
    {
     "name": "stderr",
     "output_type": "stream",
     "text": [
      "Processing entries:  66%|██████▋   | 1077/1621 [6:07:30<3:02:31, 20.13s/it]"
     ]
    },
    {
     "name": "stdout",
     "output_type": "stream",
     "text": [
      "[OK] photo_20241104143406_12.json -> C:/Users/user/pythonproject/AllDataset/VAT-OCR\\triple_receipt\\label\\train_new\\photo_20241104143406_12.json\n"
     ]
    },
    {
     "name": "stderr",
     "output_type": "stream",
     "text": [
      "Processing entries:  67%|██████▋   | 1078/1621 [6:07:51<3:03:10, 20.24s/it]"
     ]
    },
    {
     "name": "stdout",
     "output_type": "stream",
     "text": [
      "[FAIL] photo_20241104143406_13.json -> C:/Users/user/pythonproject/AllDataset/VAT-OCR\\triple_receipt\\label\\train_fail\\photo_20241104143406_13.json\n"
     ]
    },
    {
     "name": "stderr",
     "output_type": "stream",
     "text": [
      "Processing entries:  67%|██████▋   | 1079/1621 [6:08:13<3:07:35, 20.77s/it]"
     ]
    },
    {
     "name": "stdout",
     "output_type": "stream",
     "text": [
      "[OK] photo_20241104143406_15.json -> C:/Users/user/pythonproject/AllDataset/VAT-OCR\\triple_receipt\\label\\train_new\\photo_20241104143406_15.json\n"
     ]
    },
    {
     "name": "stderr",
     "output_type": "stream",
     "text": [
      "Processing entries:  67%|██████▋   | 1080/1621 [6:08:29<2:55:30, 19.46s/it]"
     ]
    },
    {
     "name": "stdout",
     "output_type": "stream",
     "text": [
      "[FAIL] photo_20241104143406_16.json -> C:/Users/user/pythonproject/AllDataset/VAT-OCR\\triple_receipt\\label\\train_fail\\photo_20241104143406_16.json\n"
     ]
    },
    {
     "name": "stderr",
     "output_type": "stream",
     "text": [
      "Processing entries:  67%|██████▋   | 1081/1621 [6:08:46<2:49:09, 18.80s/it]"
     ]
    },
    {
     "name": "stdout",
     "output_type": "stream",
     "text": [
      "[FAIL] photo_20241104143406_17.json -> C:/Users/user/pythonproject/AllDataset/VAT-OCR\\triple_receipt\\label\\train_fail\\photo_20241104143406_17.json\n"
     ]
    },
    {
     "name": "stderr",
     "output_type": "stream",
     "text": [
      "Processing entries:  67%|██████▋   | 1082/1621 [6:09:05<2:49:34, 18.88s/it]"
     ]
    },
    {
     "name": "stdout",
     "output_type": "stream",
     "text": [
      "[OK] photo_20241104143406_2.json -> C:/Users/user/pythonproject/AllDataset/VAT-OCR\\triple_receipt\\label\\train_new\\photo_20241104143406_2.json\n"
     ]
    },
    {
     "name": "stderr",
     "output_type": "stream",
     "text": [
      "Processing entries:  67%|██████▋   | 1083/1621 [6:09:30<3:03:50, 20.50s/it]"
     ]
    },
    {
     "name": "stdout",
     "output_type": "stream",
     "text": [
      "[OK] photo_20241104143406_3.json -> C:/Users/user/pythonproject/AllDataset/VAT-OCR\\triple_receipt\\label\\train_new\\photo_20241104143406_3.json\n"
     ]
    },
    {
     "name": "stderr",
     "output_type": "stream",
     "text": [
      "Processing entries:  67%|██████▋   | 1084/1621 [6:09:53<3:11:28, 21.39s/it]"
     ]
    },
    {
     "name": "stdout",
     "output_type": "stream",
     "text": [
      "[FAIL] photo_20241104143406_4.json -> C:/Users/user/pythonproject/AllDataset/VAT-OCR\\triple_receipt\\label\\train_fail\\photo_20241104143406_4.json\n"
     ]
    },
    {
     "name": "stderr",
     "output_type": "stream",
     "text": [
      "Processing entries:  67%|██████▋   | 1085/1621 [6:10:10<2:59:16, 20.07s/it]"
     ]
    },
    {
     "name": "stdout",
     "output_type": "stream",
     "text": [
      "[FAIL] photo_20241104143406_5.json -> C:/Users/user/pythonproject/AllDataset/VAT-OCR\\triple_receipt\\label\\train_fail\\photo_20241104143406_5.json\n"
     ]
    },
    {
     "name": "stderr",
     "output_type": "stream",
     "text": [
      "Processing entries:  67%|██████▋   | 1086/1621 [6:10:26<2:48:47, 18.93s/it]"
     ]
    },
    {
     "name": "stdout",
     "output_type": "stream",
     "text": [
      "[FAIL] photo_20241104143406_6.json -> C:/Users/user/pythonproject/AllDataset/VAT-OCR\\triple_receipt\\label\\train_fail\\photo_20241104143406_6.json\n"
     ]
    },
    {
     "name": "stderr",
     "output_type": "stream",
     "text": [
      "Processing entries:  67%|██████▋   | 1087/1621 [6:10:43<2:42:38, 18.27s/it]"
     ]
    },
    {
     "name": "stdout",
     "output_type": "stream",
     "text": [
      "[OK] photo_20241104143406_7.json -> C:/Users/user/pythonproject/AllDataset/VAT-OCR\\triple_receipt\\label\\train_new\\photo_20241104143406_7.json\n"
     ]
    },
    {
     "name": "stderr",
     "output_type": "stream",
     "text": [
      "Processing entries:  67%|██████▋   | 1088/1621 [6:10:59<2:35:11, 17.47s/it]"
     ]
    },
    {
     "name": "stdout",
     "output_type": "stream",
     "text": [
      "[OK] photo_20241104143406_8.json -> C:/Users/user/pythonproject/AllDataset/VAT-OCR\\triple_receipt\\label\\train_new\\photo_20241104143406_8.json\n"
     ]
    },
    {
     "name": "stderr",
     "output_type": "stream",
     "text": [
      "Processing entries:  67%|██████▋   | 1089/1621 [6:11:15<2:30:37, 16.99s/it]"
     ]
    },
    {
     "name": "stdout",
     "output_type": "stream",
     "text": [
      "[FAIL] photo_20241104143406_9.json -> C:/Users/user/pythonproject/AllDataset/VAT-OCR\\triple_receipt\\label\\train_fail\\photo_20241104143406_9.json\n"
     ]
    },
    {
     "name": "stderr",
     "output_type": "stream",
     "text": [
      "Processing entries:  67%|██████▋   | 1090/1621 [6:11:34<2:36:46, 17.72s/it]"
     ]
    },
    {
     "name": "stdout",
     "output_type": "stream",
     "text": [
      "[FAIL] photo_20241104150159_1.json -> C:/Users/user/pythonproject/AllDataset/VAT-OCR\\triple_receipt\\label\\train_fail\\photo_20241104150159_1.json\n"
     ]
    },
    {
     "name": "stderr",
     "output_type": "stream",
     "text": [
      "Processing entries:  67%|██████▋   | 1091/1621 [6:11:58<2:52:35, 19.54s/it]"
     ]
    },
    {
     "name": "stdout",
     "output_type": "stream",
     "text": [
      "[OK] photo_20241104150159_10.json -> C:/Users/user/pythonproject/AllDataset/VAT-OCR\\triple_receipt\\label\\train_new\\photo_20241104150159_10.json\n"
     ]
    },
    {
     "name": "stderr",
     "output_type": "stream",
     "text": [
      "Processing entries:  67%|██████▋   | 1092/1621 [6:12:14<2:43:48, 18.58s/it]"
     ]
    },
    {
     "name": "stdout",
     "output_type": "stream",
     "text": [
      "[FAIL] photo_20241104150159_2.json -> C:/Users/user/pythonproject/AllDataset/VAT-OCR\\triple_receipt\\label\\train_fail\\photo_20241104150159_2.json\n"
     ]
    },
    {
     "name": "stderr",
     "output_type": "stream",
     "text": [
      "Processing entries:  67%|██████▋   | 1093/1621 [6:12:29<2:33:47, 17.48s/it]"
     ]
    },
    {
     "name": "stdout",
     "output_type": "stream",
     "text": [
      "[FAIL] photo_20241104150159_3.json -> C:/Users/user/pythonproject/AllDataset/VAT-OCR\\triple_receipt\\label\\train_fail\\photo_20241104150159_3.json\n"
     ]
    },
    {
     "name": "stderr",
     "output_type": "stream",
     "text": [
      "Processing entries:  67%|██████▋   | 1094/1621 [6:12:47<2:33:59, 17.53s/it]"
     ]
    },
    {
     "name": "stdout",
     "output_type": "stream",
     "text": [
      "[FAIL] photo_20241104150159_4.json -> C:/Users/user/pythonproject/AllDataset/VAT-OCR\\triple_receipt\\label\\train_fail\\photo_20241104150159_4.json\n"
     ]
    },
    {
     "name": "stderr",
     "output_type": "stream",
     "text": [
      "Processing entries:  68%|██████▊   | 1095/1621 [6:13:05<2:34:19, 17.60s/it]"
     ]
    },
    {
     "name": "stdout",
     "output_type": "stream",
     "text": [
      "[FAIL] photo_20241104150159_5.json -> C:/Users/user/pythonproject/AllDataset/VAT-OCR\\triple_receipt\\label\\train_fail\\photo_20241104150159_5.json\n"
     ]
    },
    {
     "name": "stderr",
     "output_type": "stream",
     "text": [
      "Processing entries:  68%|██████▊   | 1096/1621 [6:13:18<2:22:18, 16.26s/it]"
     ]
    },
    {
     "name": "stdout",
     "output_type": "stream",
     "text": [
      "[FAIL] photo_20241104150159_6.json -> C:/Users/user/pythonproject/AllDataset/VAT-OCR\\triple_receipt\\label\\train_fail\\photo_20241104150159_6.json\n"
     ]
    },
    {
     "name": "stderr",
     "output_type": "stream",
     "text": [
      "Processing entries:  68%|██████▊   | 1097/1621 [6:13:42<2:41:51, 18.53s/it]"
     ]
    },
    {
     "name": "stdout",
     "output_type": "stream",
     "text": [
      "[OK] photo_20241104150159_7.json -> C:/Users/user/pythonproject/AllDataset/VAT-OCR\\triple_receipt\\label\\train_new\\photo_20241104150159_7.json\n"
     ]
    },
    {
     "name": "stderr",
     "output_type": "stream",
     "text": [
      "Processing entries:  68%|██████▊   | 1098/1621 [6:14:08<3:01:15, 20.79s/it]"
     ]
    },
    {
     "name": "stdout",
     "output_type": "stream",
     "text": [
      "[OK] photo_20241104150159_8.json -> C:/Users/user/pythonproject/AllDataset/VAT-OCR\\triple_receipt\\label\\train_new\\photo_20241104150159_8.json\n"
     ]
    },
    {
     "name": "stderr",
     "output_type": "stream",
     "text": [
      "Processing entries:  68%|██████▊   | 1099/1621 [6:14:31<3:06:29, 21.44s/it]"
     ]
    },
    {
     "name": "stdout",
     "output_type": "stream",
     "text": [
      "[FAIL] photo_20241104150159_9.json -> C:/Users/user/pythonproject/AllDataset/VAT-OCR\\triple_receipt\\label\\train_fail\\photo_20241104150159_9.json\n"
     ]
    },
    {
     "name": "stderr",
     "output_type": "stream",
     "text": [
      "Processing entries:  68%|██████▊   | 1100/1621 [6:14:45<2:49:11, 19.49s/it]"
     ]
    },
    {
     "name": "stdout",
     "output_type": "stream",
     "text": [
      "[FAIL] photo_20241105021253_1.json -> C:/Users/user/pythonproject/AllDataset/VAT-OCR\\triple_receipt\\label\\train_fail\\photo_20241105021253_1.json\n"
     ]
    },
    {
     "name": "stderr",
     "output_type": "stream",
     "text": [
      "Processing entries:  68%|██████▊   | 1101/1621 [6:15:03<2:44:50, 19.02s/it]"
     ]
    },
    {
     "name": "stdout",
     "output_type": "stream",
     "text": [
      "[OK] photo_20241105021253_10.json -> C:/Users/user/pythonproject/AllDataset/VAT-OCR\\triple_receipt\\label\\train_new\\photo_20241105021253_10.json\n"
     ]
    },
    {
     "name": "stderr",
     "output_type": "stream",
     "text": [
      "Processing entries:  68%|██████▊   | 1102/1621 [6:15:23<2:47:11, 19.33s/it]"
     ]
    },
    {
     "name": "stdout",
     "output_type": "stream",
     "text": [
      "[FAIL] photo_20241105021253_11.json -> C:/Users/user/pythonproject/AllDataset/VAT-OCR\\triple_receipt\\label\\train_fail\\photo_20241105021253_11.json\n"
     ]
    },
    {
     "name": "stderr",
     "output_type": "stream",
     "text": [
      "Processing entries:  68%|██████▊   | 1103/1621 [6:15:42<2:45:52, 19.21s/it]"
     ]
    },
    {
     "name": "stdout",
     "output_type": "stream",
     "text": [
      "[OK] photo_20241105021253_2.json -> C:/Users/user/pythonproject/AllDataset/VAT-OCR\\triple_receipt\\label\\train_new\\photo_20241105021253_2.json\n"
     ]
    },
    {
     "name": "stderr",
     "output_type": "stream",
     "text": [
      "Processing entries:  68%|██████▊   | 1104/1621 [6:15:59<2:38:00, 18.34s/it]"
     ]
    },
    {
     "name": "stdout",
     "output_type": "stream",
     "text": [
      "[OK] photo_20241105021253_4.json -> C:/Users/user/pythonproject/AllDataset/VAT-OCR\\triple_receipt\\label\\train_new\\photo_20241105021253_4.json\n"
     ]
    },
    {
     "name": "stderr",
     "output_type": "stream",
     "text": [
      "Processing entries:  68%|██████▊   | 1105/1621 [6:16:15<2:31:37, 17.63s/it]"
     ]
    },
    {
     "name": "stdout",
     "output_type": "stream",
     "text": [
      "[OK] photo_20241105021253_5.json -> C:/Users/user/pythonproject/AllDataset/VAT-OCR\\triple_receipt\\label\\train_new\\photo_20241105021253_5.json\n"
     ]
    },
    {
     "name": "stderr",
     "output_type": "stream",
     "text": [
      "Processing entries:  68%|██████▊   | 1106/1621 [6:16:29<2:21:39, 16.50s/it]"
     ]
    },
    {
     "name": "stdout",
     "output_type": "stream",
     "text": [
      "[FAIL] photo_20241105021253_6.json -> C:/Users/user/pythonproject/AllDataset/VAT-OCR\\triple_receipt\\label\\train_fail\\photo_20241105021253_6.json\n"
     ]
    },
    {
     "name": "stderr",
     "output_type": "stream",
     "text": [
      "Processing entries:  68%|██████▊   | 1107/1621 [6:16:43<2:15:48, 15.85s/it]"
     ]
    },
    {
     "name": "stdout",
     "output_type": "stream",
     "text": [
      "[FAIL] photo_20241105021253_7.json -> C:/Users/user/pythonproject/AllDataset/VAT-OCR\\triple_receipt\\label\\train_fail\\photo_20241105021253_7.json\n"
     ]
    },
    {
     "name": "stderr",
     "output_type": "stream",
     "text": [
      "Processing entries:  68%|██████▊   | 1108/1621 [6:17:00<2:19:23, 16.30s/it]"
     ]
    },
    {
     "name": "stdout",
     "output_type": "stream",
     "text": [
      "[OK] photo_20241105021253_8.json -> C:/Users/user/pythonproject/AllDataset/VAT-OCR\\triple_receipt\\label\\train_new\\photo_20241105021253_8.json\n"
     ]
    },
    {
     "name": "stderr",
     "output_type": "stream",
     "text": [
      "Processing entries:  68%|██████▊   | 1109/1621 [6:17:17<2:19:57, 16.40s/it]"
     ]
    },
    {
     "name": "stdout",
     "output_type": "stream",
     "text": [
      "[OK] photo_20241105021253_9.json -> C:/Users/user/pythonproject/AllDataset/VAT-OCR\\triple_receipt\\label\\train_new\\photo_20241105021253_9.json\n"
     ]
    },
    {
     "name": "stderr",
     "output_type": "stream",
     "text": [
      "Processing entries:  68%|██████▊   | 1110/1621 [6:17:32<2:17:23, 16.13s/it]"
     ]
    },
    {
     "name": "stdout",
     "output_type": "stream",
     "text": [
      "[OK] photo_20241105022453_1.json -> C:/Users/user/pythonproject/AllDataset/VAT-OCR\\triple_receipt\\label\\train_new\\photo_20241105022453_1.json\n"
     ]
    },
    {
     "name": "stderr",
     "output_type": "stream",
     "text": [
      "Processing entries:  69%|██████▊   | 1111/1621 [6:17:50<2:21:08, 16.60s/it]"
     ]
    },
    {
     "name": "stdout",
     "output_type": "stream",
     "text": [
      "[OK] photo_20241105022453_2.json -> C:/Users/user/pythonproject/AllDataset/VAT-OCR\\triple_receipt\\label\\train_new\\photo_20241105022453_2.json\n"
     ]
    },
    {
     "name": "stderr",
     "output_type": "stream",
     "text": [
      "Processing entries:  69%|██████▊   | 1112/1621 [6:18:10<2:29:18, 17.60s/it]"
     ]
    },
    {
     "name": "stdout",
     "output_type": "stream",
     "text": [
      "[FAIL] photo_20241105022453_3.json -> C:/Users/user/pythonproject/AllDataset/VAT-OCR\\triple_receipt\\label\\train_fail\\photo_20241105022453_3.json\n"
     ]
    },
    {
     "name": "stderr",
     "output_type": "stream",
     "text": [
      "Processing entries:  69%|██████▊   | 1113/1621 [6:18:26<2:25:05, 17.14s/it]"
     ]
    },
    {
     "name": "stdout",
     "output_type": "stream",
     "text": [
      "[OK] photo_20241105022453_4.json -> C:/Users/user/pythonproject/AllDataset/VAT-OCR\\triple_receipt\\label\\train_new\\photo_20241105022453_4.json\n"
     ]
    },
    {
     "name": "stderr",
     "output_type": "stream",
     "text": [
      "Processing entries:  69%|██████▊   | 1114/1621 [6:18:45<2:28:54, 17.62s/it]"
     ]
    },
    {
     "name": "stdout",
     "output_type": "stream",
     "text": [
      "[FAIL] photo_20241105022453_5.json -> C:/Users/user/pythonproject/AllDataset/VAT-OCR\\triple_receipt\\label\\train_fail\\photo_20241105022453_5.json\n"
     ]
    },
    {
     "name": "stderr",
     "output_type": "stream",
     "text": [
      "Processing entries:  69%|██████▉   | 1115/1621 [6:19:02<2:28:06, 17.56s/it]"
     ]
    },
    {
     "name": "stdout",
     "output_type": "stream",
     "text": [
      "[FAIL] photo_20241105022453_6.json -> C:/Users/user/pythonproject/AllDataset/VAT-OCR\\triple_receipt\\label\\train_fail\\photo_20241105022453_6.json\n"
     ]
    },
    {
     "name": "stderr",
     "output_type": "stream",
     "text": [
      "Processing entries:  69%|██████▉   | 1116/1621 [6:19:21<2:29:53, 17.81s/it]"
     ]
    },
    {
     "name": "stdout",
     "output_type": "stream",
     "text": [
      "[FAIL] photo_20241105022453_7.json -> C:/Users/user/pythonproject/AllDataset/VAT-OCR\\triple_receipt\\label\\train_fail\\photo_20241105022453_7.json\n"
     ]
    },
    {
     "name": "stderr",
     "output_type": "stream",
     "text": [
      "Processing entries:  69%|██████▉   | 1117/1621 [6:19:41<2:36:59, 18.69s/it]"
     ]
    },
    {
     "name": "stdout",
     "output_type": "stream",
     "text": [
      "[FAIL] photo_20241105022453_8.json -> C:/Users/user/pythonproject/AllDataset/VAT-OCR\\triple_receipt\\label\\train_fail\\photo_20241105022453_8.json\n"
     ]
    },
    {
     "name": "stderr",
     "output_type": "stream",
     "text": [
      "Processing entries:  69%|██████▉   | 1118/1621 [6:20:08<2:55:53, 20.98s/it]"
     ]
    },
    {
     "name": "stdout",
     "output_type": "stream",
     "text": [
      "[OK] photo_20241105023651_1.json -> C:/Users/user/pythonproject/AllDataset/VAT-OCR\\triple_receipt\\label\\train_new\\photo_20241105023651_1.json\n"
     ]
    },
    {
     "name": "stderr",
     "output_type": "stream",
     "text": [
      "Processing entries:  69%|██████▉   | 1119/1621 [6:20:27<2:51:24, 20.49s/it]"
     ]
    },
    {
     "name": "stdout",
     "output_type": "stream",
     "text": [
      "[OK] photo_20241105023651_10.json -> C:/Users/user/pythonproject/AllDataset/VAT-OCR\\triple_receipt\\label\\train_new\\photo_20241105023651_10.json\n"
     ]
    },
    {
     "name": "stderr",
     "output_type": "stream",
     "text": [
      "Processing entries:  69%|██████▉   | 1120/1621 [6:20:47<2:48:52, 20.22s/it]"
     ]
    },
    {
     "name": "stdout",
     "output_type": "stream",
     "text": [
      "[FAIL] photo_20241105023651_11.json -> C:/Users/user/pythonproject/AllDataset/VAT-OCR\\triple_receipt\\label\\train_fail\\photo_20241105023651_11.json\n"
     ]
    },
    {
     "name": "stderr",
     "output_type": "stream",
     "text": [
      "Processing entries:  69%|██████▉   | 1121/1621 [6:21:08<2:52:09, 20.66s/it]"
     ]
    },
    {
     "name": "stdout",
     "output_type": "stream",
     "text": [
      "[OK] photo_20241105023651_12.json -> C:/Users/user/pythonproject/AllDataset/VAT-OCR\\triple_receipt\\label\\train_new\\photo_20241105023651_12.json\n"
     ]
    },
    {
     "name": "stderr",
     "output_type": "stream",
     "text": [
      "Processing entries:  69%|██████▉   | 1122/1621 [6:21:28<2:49:16, 20.35s/it]"
     ]
    },
    {
     "name": "stdout",
     "output_type": "stream",
     "text": [
      "[FAIL] photo_20241105023651_2.json -> C:/Users/user/pythonproject/AllDataset/VAT-OCR\\triple_receipt\\label\\train_fail\\photo_20241105023651_2.json\n"
     ]
    },
    {
     "name": "stderr",
     "output_type": "stream",
     "text": [
      "Processing entries:  69%|██████▉   | 1123/1621 [6:21:51<2:55:13, 21.11s/it]"
     ]
    },
    {
     "name": "stdout",
     "output_type": "stream",
     "text": [
      "[FAIL] photo_20241105023651_3.json -> C:/Users/user/pythonproject/AllDataset/VAT-OCR\\triple_receipt\\label\\train_fail\\photo_20241105023651_3.json\n"
     ]
    },
    {
     "name": "stderr",
     "output_type": "stream",
     "text": [
      "Processing entries:  69%|██████▉   | 1124/1621 [6:22:15<3:03:30, 22.15s/it]"
     ]
    },
    {
     "name": "stdout",
     "output_type": "stream",
     "text": [
      "[OK] photo_20241105023651_4.json -> C:/Users/user/pythonproject/AllDataset/VAT-OCR\\triple_receipt\\label\\train_new\\photo_20241105023651_4.json\n"
     ]
    },
    {
     "name": "stderr",
     "output_type": "stream",
     "text": [
      "Processing entries:  69%|██████▉   | 1125/1621 [6:22:31<2:46:01, 20.08s/it]"
     ]
    },
    {
     "name": "stdout",
     "output_type": "stream",
     "text": [
      "[OK] photo_20241105023651_5.json -> C:/Users/user/pythonproject/AllDataset/VAT-OCR\\triple_receipt\\label\\train_new\\photo_20241105023651_5.json\n"
     ]
    },
    {
     "name": "stderr",
     "output_type": "stream",
     "text": [
      "Processing entries:  69%|██████▉   | 1126/1621 [6:22:52<2:49:32, 20.55s/it]"
     ]
    },
    {
     "name": "stdout",
     "output_type": "stream",
     "text": [
      "[OK] photo_20241105023651_6.json -> C:/Users/user/pythonproject/AllDataset/VAT-OCR\\triple_receipt\\label\\train_new\\photo_20241105023651_6.json\n"
     ]
    },
    {
     "name": "stderr",
     "output_type": "stream",
     "text": [
      "Processing entries:  70%|██████▉   | 1127/1621 [6:23:11<2:44:58, 20.04s/it]"
     ]
    },
    {
     "name": "stdout",
     "output_type": "stream",
     "text": [
      "[OK] photo_20241105023651_7.json -> C:/Users/user/pythonproject/AllDataset/VAT-OCR\\triple_receipt\\label\\train_new\\photo_20241105023651_7.json\n"
     ]
    },
    {
     "name": "stderr",
     "output_type": "stream",
     "text": [
      "Processing entries:  70%|██████▉   | 1128/1621 [6:23:28<2:37:58, 19.23s/it]"
     ]
    },
    {
     "name": "stdout",
     "output_type": "stream",
     "text": [
      "[OK] photo_20241105023651_8.json -> C:/Users/user/pythonproject/AllDataset/VAT-OCR\\triple_receipt\\label\\train_new\\photo_20241105023651_8.json\n"
     ]
    },
    {
     "name": "stderr",
     "output_type": "stream",
     "text": [
      "Processing entries:  70%|██████▉   | 1129/1621 [6:23:45<2:30:08, 18.31s/it]"
     ]
    },
    {
     "name": "stdout",
     "output_type": "stream",
     "text": [
      "[OK] photo_20241105023651_9.json -> C:/Users/user/pythonproject/AllDataset/VAT-OCR\\triple_receipt\\label\\train_new\\photo_20241105023651_9.json\n"
     ]
    },
    {
     "name": "stderr",
     "output_type": "stream",
     "text": [
      "Processing entries:  70%|██████▉   | 1130/1621 [6:24:07<2:40:33, 19.62s/it]"
     ]
    },
    {
     "name": "stdout",
     "output_type": "stream",
     "text": [
      "[OK] photo_20241105025317_1.json -> C:/Users/user/pythonproject/AllDataset/VAT-OCR\\triple_receipt\\label\\train_new\\photo_20241105025317_1.json\n"
     ]
    },
    {
     "name": "stderr",
     "output_type": "stream",
     "text": [
      "Processing entries:  70%|██████▉   | 1131/1621 [6:24:24<2:32:19, 18.65s/it]"
     ]
    },
    {
     "name": "stdout",
     "output_type": "stream",
     "text": [
      "[OK] photo_20241105025317_10.json -> C:/Users/user/pythonproject/AllDataset/VAT-OCR\\triple_receipt\\label\\train_new\\photo_20241105025317_10.json\n"
     ]
    },
    {
     "name": "stderr",
     "output_type": "stream",
     "text": [
      "Processing entries:  70%|██████▉   | 1132/1621 [6:24:41<2:28:22, 18.20s/it]"
     ]
    },
    {
     "name": "stdout",
     "output_type": "stream",
     "text": [
      "[OK] photo_20241105025317_11.json -> C:/Users/user/pythonproject/AllDataset/VAT-OCR\\triple_receipt\\label\\train_new\\photo_20241105025317_11.json\n"
     ]
    },
    {
     "name": "stderr",
     "output_type": "stream",
     "text": [
      "Processing entries:  70%|██████▉   | 1133/1621 [6:25:01<2:33:27, 18.87s/it]"
     ]
    },
    {
     "name": "stdout",
     "output_type": "stream",
     "text": [
      "[OK] photo_20241105025317_12.json -> C:/Users/user/pythonproject/AllDataset/VAT-OCR\\triple_receipt\\label\\train_new\\photo_20241105025317_12.json\n"
     ]
    },
    {
     "name": "stderr",
     "output_type": "stream",
     "text": [
      "Processing entries:  70%|██████▉   | 1134/1621 [6:25:22<2:36:28, 19.28s/it]"
     ]
    },
    {
     "name": "stdout",
     "output_type": "stream",
     "text": [
      "[OK] photo_20241105025317_13.json -> C:/Users/user/pythonproject/AllDataset/VAT-OCR\\triple_receipt\\label\\train_new\\photo_20241105025317_13.json\n"
     ]
    },
    {
     "name": "stderr",
     "output_type": "stream",
     "text": [
      "Processing entries:  70%|███████   | 1135/1621 [6:25:44<2:44:34, 20.32s/it]"
     ]
    },
    {
     "name": "stdout",
     "output_type": "stream",
     "text": [
      "[OK] photo_20241105025317_14.json -> C:/Users/user/pythonproject/AllDataset/VAT-OCR\\triple_receipt\\label\\train_new\\photo_20241105025317_14.json\n"
     ]
    },
    {
     "name": "stderr",
     "output_type": "stream",
     "text": [
      "Processing entries:  70%|███████   | 1136/1621 [6:26:09<2:54:53, 21.64s/it]"
     ]
    },
    {
     "name": "stdout",
     "output_type": "stream",
     "text": [
      "[FAIL] photo_20241105025317_2.json -> C:/Users/user/pythonproject/AllDataset/VAT-OCR\\triple_receipt\\label\\train_fail\\photo_20241105025317_2.json\n"
     ]
    },
    {
     "name": "stderr",
     "output_type": "stream",
     "text": [
      "Processing entries:  70%|███████   | 1137/1621 [6:26:25<2:40:12, 19.86s/it]"
     ]
    },
    {
     "name": "stdout",
     "output_type": "stream",
     "text": [
      "[FAIL] photo_20241105025317_3.json -> C:/Users/user/pythonproject/AllDataset/VAT-OCR\\triple_receipt\\label\\train_fail\\photo_20241105025317_3.json\n"
     ]
    },
    {
     "name": "stderr",
     "output_type": "stream",
     "text": [
      "Processing entries:  70%|███████   | 1138/1621 [6:26:44<2:37:47, 19.60s/it]"
     ]
    },
    {
     "name": "stdout",
     "output_type": "stream",
     "text": [
      "[FAIL] photo_20241105025317_4.json -> C:/Users/user/pythonproject/AllDataset/VAT-OCR\\triple_receipt\\label\\train_fail\\photo_20241105025317_4.json\n"
     ]
    },
    {
     "name": "stderr",
     "output_type": "stream",
     "text": [
      "Processing entries:  70%|███████   | 1139/1621 [6:27:08<2:47:34, 20.86s/it]"
     ]
    },
    {
     "name": "stdout",
     "output_type": "stream",
     "text": [
      "[FAIL] photo_20241105025317_5.json -> C:/Users/user/pythonproject/AllDataset/VAT-OCR\\triple_receipt\\label\\train_fail\\photo_20241105025317_5.json\n"
     ]
    },
    {
     "name": "stderr",
     "output_type": "stream",
     "text": [
      "Processing entries:  70%|███████   | 1140/1621 [6:27:26<2:41:48, 20.18s/it]"
     ]
    },
    {
     "name": "stdout",
     "output_type": "stream",
     "text": [
      "[OK] photo_20241105025317_6.json -> C:/Users/user/pythonproject/AllDataset/VAT-OCR\\triple_receipt\\label\\train_new\\photo_20241105025317_6.json\n"
     ]
    },
    {
     "name": "stderr",
     "output_type": "stream",
     "text": [
      "Processing entries:  70%|███████   | 1141/1621 [6:27:46<2:40:13, 20.03s/it]"
     ]
    },
    {
     "name": "stdout",
     "output_type": "stream",
     "text": [
      "[OK] photo_20241105025317_7.json -> C:/Users/user/pythonproject/AllDataset/VAT-OCR\\triple_receipt\\label\\train_new\\photo_20241105025317_7.json\n"
     ]
    },
    {
     "name": "stderr",
     "output_type": "stream",
     "text": [
      "Processing entries:  70%|███████   | 1142/1621 [6:28:05<2:38:22, 19.84s/it]"
     ]
    },
    {
     "name": "stdout",
     "output_type": "stream",
     "text": [
      "[OK] photo_20241105025317_8.json -> C:/Users/user/pythonproject/AllDataset/VAT-OCR\\triple_receipt\\label\\train_new\\photo_20241105025317_8.json\n"
     ]
    },
    {
     "name": "stderr",
     "output_type": "stream",
     "text": [
      "Processing entries:  71%|███████   | 1143/1621 [6:28:23<2:32:11, 19.10s/it]"
     ]
    },
    {
     "name": "stdout",
     "output_type": "stream",
     "text": [
      "[OK] photo_20241105025317_9.json -> C:/Users/user/pythonproject/AllDataset/VAT-OCR\\triple_receipt\\label\\train_new\\photo_20241105025317_9.json\n"
     ]
    },
    {
     "name": "stderr",
     "output_type": "stream",
     "text": [
      "Processing entries:  71%|███████   | 1144/1621 [6:28:41<2:30:38, 18.95s/it]"
     ]
    },
    {
     "name": "stdout",
     "output_type": "stream",
     "text": [
      "[OK] photo_20241105031739_1.json -> C:/Users/user/pythonproject/AllDataset/VAT-OCR\\triple_receipt\\label\\train_new\\photo_20241105031739_1.json\n"
     ]
    },
    {
     "name": "stderr",
     "output_type": "stream",
     "text": [
      "Processing entries:  71%|███████   | 1145/1621 [6:28:58<2:25:28, 18.34s/it]"
     ]
    },
    {
     "name": "stdout",
     "output_type": "stream",
     "text": [
      "[OK] photo_20241105031739_2.json -> C:/Users/user/pythonproject/AllDataset/VAT-OCR\\triple_receipt\\label\\train_new\\photo_20241105031739_2.json\n"
     ]
    },
    {
     "name": "stderr",
     "output_type": "stream",
     "text": [
      "Processing entries:  71%|███████   | 1146/1621 [6:29:16<2:24:18, 18.23s/it]"
     ]
    },
    {
     "name": "stdout",
     "output_type": "stream",
     "text": [
      "[OK] photo_20241105031739_3.json -> C:/Users/user/pythonproject/AllDataset/VAT-OCR\\triple_receipt\\label\\train_new\\photo_20241105031739_3.json\n"
     ]
    },
    {
     "name": "stderr",
     "output_type": "stream",
     "text": [
      "Processing entries:  71%|███████   | 1147/1621 [6:29:34<2:22:29, 18.04s/it]"
     ]
    },
    {
     "name": "stdout",
     "output_type": "stream",
     "text": [
      "[OK] photo_20241105031739_4.json -> C:/Users/user/pythonproject/AllDataset/VAT-OCR\\triple_receipt\\label\\train_new\\photo_20241105031739_4.json\n"
     ]
    },
    {
     "name": "stderr",
     "output_type": "stream",
     "text": [
      "Processing entries:  71%|███████   | 1148/1621 [6:29:53<2:24:57, 18.39s/it]"
     ]
    },
    {
     "name": "stdout",
     "output_type": "stream",
     "text": [
      "[OK] photo_20241105031739_5.json -> C:/Users/user/pythonproject/AllDataset/VAT-OCR\\triple_receipt\\label\\train_new\\photo_20241105031739_5.json\n"
     ]
    },
    {
     "name": "stderr",
     "output_type": "stream",
     "text": [
      "Processing entries:  71%|███████   | 1149/1621 [6:30:12<2:26:22, 18.61s/it]"
     ]
    },
    {
     "name": "stdout",
     "output_type": "stream",
     "text": [
      "[OK] photo_20241105031739_6.json -> C:/Users/user/pythonproject/AllDataset/VAT-OCR\\triple_receipt\\label\\train_new\\photo_20241105031739_6.json\n"
     ]
    },
    {
     "name": "stderr",
     "output_type": "stream",
     "text": [
      "Processing entries:  71%|███████   | 1150/1621 [6:30:28<2:19:48, 17.81s/it]"
     ]
    },
    {
     "name": "stdout",
     "output_type": "stream",
     "text": [
      "[OK] photo_20241105031739_7.json -> C:/Users/user/pythonproject/AllDataset/VAT-OCR\\triple_receipt\\label\\train_new\\photo_20241105031739_7.json\n"
     ]
    },
    {
     "name": "stderr",
     "output_type": "stream",
     "text": [
      "Processing entries:  71%|███████   | 1151/1621 [6:30:45<2:17:52, 17.60s/it]"
     ]
    },
    {
     "name": "stdout",
     "output_type": "stream",
     "text": [
      "[FAIL] photo_20241105032657_1.json -> C:/Users/user/pythonproject/AllDataset/VAT-OCR\\triple_receipt\\label\\train_fail\\photo_20241105032657_1.json\n"
     ]
    },
    {
     "name": "stderr",
     "output_type": "stream",
     "text": [
      "Processing entries:  71%|███████   | 1152/1621 [6:30:59<2:10:10, 16.65s/it]"
     ]
    },
    {
     "name": "stdout",
     "output_type": "stream",
     "text": [
      "[FAIL] photo_20241105032657_10.json -> C:/Users/user/pythonproject/AllDataset/VAT-OCR\\triple_receipt\\label\\train_fail\\photo_20241105032657_10.json\n"
     ]
    },
    {
     "name": "stderr",
     "output_type": "stream",
     "text": [
      "Processing entries:  71%|███████   | 1153/1621 [6:31:13<2:03:45, 15.87s/it]"
     ]
    },
    {
     "name": "stdout",
     "output_type": "stream",
     "text": [
      "[FAIL] photo_20241105032657_11.json -> C:/Users/user/pythonproject/AllDataset/VAT-OCR\\triple_receipt\\label\\train_fail\\photo_20241105032657_11.json\n"
     ]
    },
    {
     "name": "stderr",
     "output_type": "stream",
     "text": [
      "Processing entries:  71%|███████   | 1154/1621 [6:31:28<2:00:43, 15.51s/it]"
     ]
    },
    {
     "name": "stdout",
     "output_type": "stream",
     "text": [
      "[OK] photo_20241105032657_12.json -> C:/Users/user/pythonproject/AllDataset/VAT-OCR\\triple_receipt\\label\\train_new\\photo_20241105032657_12.json\n"
     ]
    },
    {
     "name": "stderr",
     "output_type": "stream",
     "text": [
      "Processing entries:  71%|███████▏  | 1155/1621 [6:31:44<2:01:54, 15.70s/it]"
     ]
    },
    {
     "name": "stdout",
     "output_type": "stream",
     "text": [
      "[OK] photo_20241105032657_13.json -> C:/Users/user/pythonproject/AllDataset/VAT-OCR\\triple_receipt\\label\\train_new\\photo_20241105032657_13.json\n"
     ]
    },
    {
     "name": "stderr",
     "output_type": "stream",
     "text": [
      "Processing entries:  71%|███████▏  | 1156/1621 [6:32:03<2:08:49, 16.62s/it]"
     ]
    },
    {
     "name": "stdout",
     "output_type": "stream",
     "text": [
      "[FAIL] photo_20241105032657_14.json -> C:/Users/user/pythonproject/AllDataset/VAT-OCR\\triple_receipt\\label\\train_fail\\photo_20241105032657_14.json\n"
     ]
    },
    {
     "name": "stderr",
     "output_type": "stream",
     "text": [
      "Processing entries:  71%|███████▏  | 1157/1621 [6:32:20<2:08:36, 16.63s/it]"
     ]
    },
    {
     "name": "stdout",
     "output_type": "stream",
     "text": [
      "[FAIL] photo_20241105032657_15.json -> C:/Users/user/pythonproject/AllDataset/VAT-OCR\\triple_receipt\\label\\train_fail\\photo_20241105032657_15.json\n"
     ]
    },
    {
     "name": "stderr",
     "output_type": "stream",
     "text": [
      "Processing entries:  71%|███████▏  | 1158/1621 [6:32:37<2:10:26, 16.90s/it]"
     ]
    },
    {
     "name": "stdout",
     "output_type": "stream",
     "text": [
      "[OK] photo_20241105032657_2.json -> C:/Users/user/pythonproject/AllDataset/VAT-OCR\\triple_receipt\\label\\train_new\\photo_20241105032657_2.json\n"
     ]
    },
    {
     "name": "stderr",
     "output_type": "stream",
     "text": [
      "Processing entries:  71%|███████▏  | 1159/1621 [6:33:02<2:28:18, 19.26s/it]"
     ]
    },
    {
     "name": "stdout",
     "output_type": "stream",
     "text": [
      "[OK] photo_20241105032657_3.json -> C:/Users/user/pythonproject/AllDataset/VAT-OCR\\triple_receipt\\label\\train_new\\photo_20241105032657_3.json\n"
     ]
    },
    {
     "name": "stderr",
     "output_type": "stream",
     "text": [
      "Processing entries:  72%|███████▏  | 1160/1621 [6:33:24<2:34:25, 20.10s/it]"
     ]
    },
    {
     "name": "stdout",
     "output_type": "stream",
     "text": [
      "[FAIL] photo_20241105032657_4.json -> C:/Users/user/pythonproject/AllDataset/VAT-OCR\\triple_receipt\\label\\train_fail\\photo_20241105032657_4.json\n"
     ]
    },
    {
     "name": "stderr",
     "output_type": "stream",
     "text": [
      "Processing entries:  72%|███████▏  | 1161/1621 [6:33:47<2:40:56, 20.99s/it]"
     ]
    },
    {
     "name": "stdout",
     "output_type": "stream",
     "text": [
      "[FAIL] photo_20241105032657_5.json -> C:/Users/user/pythonproject/AllDataset/VAT-OCR\\triple_receipt\\label\\train_fail\\photo_20241105032657_5.json\n"
     ]
    },
    {
     "name": "stderr",
     "output_type": "stream",
     "text": [
      "Processing entries:  72%|███████▏  | 1162/1621 [6:34:12<2:48:48, 22.07s/it]"
     ]
    },
    {
     "name": "stdout",
     "output_type": "stream",
     "text": [
      "[FAIL] photo_20241105032657_6.json -> C:/Users/user/pythonproject/AllDataset/VAT-OCR\\triple_receipt\\label\\train_fail\\photo_20241105032657_6.json\n"
     ]
    },
    {
     "name": "stderr",
     "output_type": "stream",
     "text": [
      "Processing entries:  72%|███████▏  | 1163/1621 [6:34:32<2:43:28, 21.42s/it]"
     ]
    },
    {
     "name": "stdout",
     "output_type": "stream",
     "text": [
      "[FAIL] photo_20241105032657_7.json -> C:/Users/user/pythonproject/AllDataset/VAT-OCR\\triple_receipt\\label\\train_fail\\photo_20241105032657_7.json\n"
     ]
    },
    {
     "name": "stderr",
     "output_type": "stream",
     "text": [
      "Processing entries:  72%|███████▏  | 1164/1621 [6:34:51<2:39:09, 20.90s/it]"
     ]
    },
    {
     "name": "stdout",
     "output_type": "stream",
     "text": [
      "[OK] photo_20241105032657_8.json -> C:/Users/user/pythonproject/AllDataset/VAT-OCR\\triple_receipt\\label\\train_new\\photo_20241105032657_8.json\n"
     ]
    },
    {
     "name": "stderr",
     "output_type": "stream",
     "text": [
      "Processing entries:  72%|███████▏  | 1165/1621 [6:35:06<2:24:25, 19.00s/it]"
     ]
    },
    {
     "name": "stdout",
     "output_type": "stream",
     "text": [
      "[FAIL] photo_20241105032657_9.json -> C:/Users/user/pythonproject/AllDataset/VAT-OCR\\triple_receipt\\label\\train_fail\\photo_20241105032657_9.json\n"
     ]
    },
    {
     "name": "stderr",
     "output_type": "stream",
     "text": [
      "Processing entries:  72%|███████▏  | 1166/1621 [6:35:24<2:21:33, 18.67s/it]"
     ]
    },
    {
     "name": "stdout",
     "output_type": "stream",
     "text": [
      "[FAIL] photo_20241105034112_1.json -> C:/Users/user/pythonproject/AllDataset/VAT-OCR\\triple_receipt\\label\\train_fail\\photo_20241105034112_1.json\n"
     ]
    },
    {
     "name": "stderr",
     "output_type": "stream",
     "text": [
      "Processing entries:  72%|███████▏  | 1167/1621 [6:35:42<2:20:21, 18.55s/it]"
     ]
    },
    {
     "name": "stdout",
     "output_type": "stream",
     "text": [
      "[OK] photo_20241105034112_10.json -> C:/Users/user/pythonproject/AllDataset/VAT-OCR\\triple_receipt\\label\\train_new\\photo_20241105034112_10.json\n"
     ]
    },
    {
     "name": "stderr",
     "output_type": "stream",
     "text": [
      "Processing entries:  72%|███████▏  | 1168/1621 [6:36:00<2:19:00, 18.41s/it]"
     ]
    },
    {
     "name": "stdout",
     "output_type": "stream",
     "text": [
      "[OK] photo_20241105034112_11.json -> C:/Users/user/pythonproject/AllDataset/VAT-OCR\\triple_receipt\\label\\train_new\\photo_20241105034112_11.json\n"
     ]
    },
    {
     "name": "stderr",
     "output_type": "stream",
     "text": [
      "Processing entries:  72%|███████▏  | 1169/1621 [6:36:22<2:27:03, 19.52s/it]"
     ]
    },
    {
     "name": "stdout",
     "output_type": "stream",
     "text": [
      "[OK] photo_20241105034112_12.json -> C:/Users/user/pythonproject/AllDataset/VAT-OCR\\triple_receipt\\label\\train_new\\photo_20241105034112_12.json\n"
     ]
    },
    {
     "name": "stderr",
     "output_type": "stream",
     "text": [
      "Processing entries:  72%|███████▏  | 1170/1621 [6:36:41<2:24:21, 19.20s/it]"
     ]
    },
    {
     "name": "stdout",
     "output_type": "stream",
     "text": [
      "[OK] photo_20241105034112_13.json -> C:/Users/user/pythonproject/AllDataset/VAT-OCR\\triple_receipt\\label\\train_new\\photo_20241105034112_13.json\n"
     ]
    },
    {
     "name": "stderr",
     "output_type": "stream",
     "text": [
      "Processing entries:  72%|███████▏  | 1171/1621 [6:37:03<2:31:29, 20.20s/it]"
     ]
    },
    {
     "name": "stdout",
     "output_type": "stream",
     "text": [
      "[OK] photo_20241105034112_14.json -> C:/Users/user/pythonproject/AllDataset/VAT-OCR\\triple_receipt\\label\\train_new\\photo_20241105034112_14.json\n"
     ]
    },
    {
     "name": "stderr",
     "output_type": "stream",
     "text": [
      "Processing entries:  72%|███████▏  | 1172/1621 [6:37:22<2:27:06, 19.66s/it]"
     ]
    },
    {
     "name": "stdout",
     "output_type": "stream",
     "text": [
      "[FAIL] photo_20241105034112_15.json -> C:/Users/user/pythonproject/AllDataset/VAT-OCR\\triple_receipt\\label\\train_fail\\photo_20241105034112_15.json\n"
     ]
    },
    {
     "name": "stderr",
     "output_type": "stream",
     "text": [
      "Processing entries:  72%|███████▏  | 1173/1621 [6:37:42<2:28:58, 19.95s/it]"
     ]
    },
    {
     "name": "stdout",
     "output_type": "stream",
     "text": [
      "[OK] photo_20241105034112_16.json -> C:/Users/user/pythonproject/AllDataset/VAT-OCR\\triple_receipt\\label\\train_new\\photo_20241105034112_16.json\n"
     ]
    },
    {
     "name": "stderr",
     "output_type": "stream",
     "text": [
      "Processing entries:  72%|███████▏  | 1174/1621 [6:38:04<2:32:28, 20.47s/it]"
     ]
    },
    {
     "name": "stdout",
     "output_type": "stream",
     "text": [
      "[OK] photo_20241105034112_17.json -> C:/Users/user/pythonproject/AllDataset/VAT-OCR\\triple_receipt\\label\\train_new\\photo_20241105034112_17.json\n"
     ]
    },
    {
     "name": "stderr",
     "output_type": "stream",
     "text": [
      "Processing entries:  72%|███████▏  | 1175/1621 [6:38:29<2:41:37, 21.74s/it]"
     ]
    },
    {
     "name": "stdout",
     "output_type": "stream",
     "text": [
      "[FAIL] photo_20241105034112_18.json -> C:/Users/user/pythonproject/AllDataset/VAT-OCR\\triple_receipt\\label\\train_fail\\photo_20241105034112_18.json\n"
     ]
    },
    {
     "name": "stderr",
     "output_type": "stream",
     "text": [
      "Processing entries:  73%|███████▎  | 1176/1621 [6:38:46<2:31:52, 20.48s/it]"
     ]
    },
    {
     "name": "stdout",
     "output_type": "stream",
     "text": [
      "[FAIL] photo_20241105034112_2.json -> C:/Users/user/pythonproject/AllDataset/VAT-OCR\\triple_receipt\\label\\train_fail\\photo_20241105034112_2.json\n"
     ]
    },
    {
     "name": "stderr",
     "output_type": "stream",
     "text": [
      "Processing entries:  73%|███████▎  | 1177/1621 [6:39:06<2:30:23, 20.32s/it]"
     ]
    },
    {
     "name": "stdout",
     "output_type": "stream",
     "text": [
      "[FAIL] photo_20241105034112_3.json -> C:/Users/user/pythonproject/AllDataset/VAT-OCR\\triple_receipt\\label\\train_fail\\photo_20241105034112_3.json\n"
     ]
    },
    {
     "name": "stderr",
     "output_type": "stream",
     "text": [
      "Processing entries:  73%|███████▎  | 1178/1621 [6:39:23<2:21:17, 19.14s/it]"
     ]
    },
    {
     "name": "stdout",
     "output_type": "stream",
     "text": [
      "[FAIL] photo_20241105034112_4.json -> C:/Users/user/pythonproject/AllDataset/VAT-OCR\\triple_receipt\\label\\train_fail\\photo_20241105034112_4.json\n"
     ]
    },
    {
     "name": "stderr",
     "output_type": "stream",
     "text": [
      "Processing entries:  73%|███████▎  | 1179/1621 [6:39:39<2:14:46, 18.30s/it]"
     ]
    },
    {
     "name": "stdout",
     "output_type": "stream",
     "text": [
      "[OK] photo_20241105034112_5.json -> C:/Users/user/pythonproject/AllDataset/VAT-OCR\\triple_receipt\\label\\train_new\\photo_20241105034112_5.json\n"
     ]
    },
    {
     "name": "stderr",
     "output_type": "stream",
     "text": [
      "Processing entries:  73%|███████▎  | 1180/1621 [6:39:57<2:14:36, 18.31s/it]"
     ]
    },
    {
     "name": "stdout",
     "output_type": "stream",
     "text": [
      "[OK] photo_20241105034112_6.json -> C:/Users/user/pythonproject/AllDataset/VAT-OCR\\triple_receipt\\label\\train_new\\photo_20241105034112_6.json\n"
     ]
    },
    {
     "name": "stderr",
     "output_type": "stream",
     "text": [
      "Processing entries:  73%|███████▎  | 1181/1621 [6:40:14<2:12:00, 18.00s/it]"
     ]
    },
    {
     "name": "stdout",
     "output_type": "stream",
     "text": [
      "[OK] photo_20241105034112_7.json -> C:/Users/user/pythonproject/AllDataset/VAT-OCR\\triple_receipt\\label\\train_new\\photo_20241105034112_7.json\n"
     ]
    },
    {
     "name": "stderr",
     "output_type": "stream",
     "text": [
      "Processing entries:  73%|███████▎  | 1182/1621 [6:40:33<2:12:04, 18.05s/it]"
     ]
    },
    {
     "name": "stdout",
     "output_type": "stream",
     "text": [
      "[OK] photo_20241105034112_8.json -> C:/Users/user/pythonproject/AllDataset/VAT-OCR\\triple_receipt\\label\\train_new\\photo_20241105034112_8.json\n"
     ]
    },
    {
     "name": "stderr",
     "output_type": "stream",
     "text": [
      "Processing entries:  73%|███████▎  | 1183/1621 [6:40:52<2:13:31, 18.29s/it]"
     ]
    },
    {
     "name": "stdout",
     "output_type": "stream",
     "text": [
      "[OK] photo_20241105034112_9.json -> C:/Users/user/pythonproject/AllDataset/VAT-OCR\\triple_receipt\\label\\train_new\\photo_20241105034112_9.json\n"
     ]
    },
    {
     "name": "stderr",
     "output_type": "stream",
     "text": [
      "Processing entries:  73%|███████▎  | 1184/1621 [6:41:19<2:33:09, 21.03s/it]"
     ]
    },
    {
     "name": "stdout",
     "output_type": "stream",
     "text": [
      "[FAIL] photo_20241105054603_1.json -> C:/Users/user/pythonproject/AllDataset/VAT-OCR\\triple_receipt\\label\\train_fail\\photo_20241105054603_1.json\n"
     ]
    },
    {
     "name": "stderr",
     "output_type": "stream",
     "text": [
      "Processing entries:  73%|███████▎  | 1185/1621 [6:41:36<2:24:05, 19.83s/it]"
     ]
    },
    {
     "name": "stdout",
     "output_type": "stream",
     "text": [
      "[OK] photo_20241105054603_10.json -> C:/Users/user/pythonproject/AllDataset/VAT-OCR\\triple_receipt\\label\\train_new\\photo_20241105054603_10.json\n"
     ]
    },
    {
     "name": "stderr",
     "output_type": "stream",
     "text": [
      "Processing entries:  73%|███████▎  | 1186/1621 [6:41:57<2:26:58, 20.27s/it]"
     ]
    },
    {
     "name": "stdout",
     "output_type": "stream",
     "text": [
      "[OK] photo_20241105054603_12.json -> C:/Users/user/pythonproject/AllDataset/VAT-OCR\\triple_receipt\\label\\train_new\\photo_20241105054603_12.json\n"
     ]
    },
    {
     "name": "stderr",
     "output_type": "stream",
     "text": [
      "Processing entries:  73%|███████▎  | 1187/1621 [6:42:16<2:23:34, 19.85s/it]"
     ]
    },
    {
     "name": "stdout",
     "output_type": "stream",
     "text": [
      "[FAIL] photo_20241105054603_13.json -> C:/Users/user/pythonproject/AllDataset/VAT-OCR\\triple_receipt\\label\\train_fail\\photo_20241105054603_13.json\n"
     ]
    },
    {
     "name": "stderr",
     "output_type": "stream",
     "text": [
      "Processing entries:  73%|███████▎  | 1188/1621 [6:42:34<2:17:54, 19.11s/it]"
     ]
    },
    {
     "name": "stdout",
     "output_type": "stream",
     "text": [
      "[OK] photo_20241105054603_14.json -> C:/Users/user/pythonproject/AllDataset/VAT-OCR\\triple_receipt\\label\\train_new\\photo_20241105054603_14.json\n"
     ]
    },
    {
     "name": "stderr",
     "output_type": "stream",
     "text": [
      "Processing entries:  73%|███████▎  | 1189/1621 [6:42:57<2:26:26, 20.34s/it]"
     ]
    },
    {
     "name": "stdout",
     "output_type": "stream",
     "text": [
      "[FAIL] photo_20241105054603_2.json -> C:/Users/user/pythonproject/AllDataset/VAT-OCR\\triple_receipt\\label\\train_fail\\photo_20241105054603_2.json\n"
     ]
    },
    {
     "name": "stderr",
     "output_type": "stream",
     "text": [
      "Processing entries:  73%|███████▎  | 1190/1621 [6:43:23<2:38:23, 22.05s/it]"
     ]
    },
    {
     "name": "stdout",
     "output_type": "stream",
     "text": [
      "[FAIL] photo_20241105054603_3.json -> C:/Users/user/pythonproject/AllDataset/VAT-OCR\\triple_receipt\\label\\train_fail\\photo_20241105054603_3.json\n"
     ]
    },
    {
     "name": "stderr",
     "output_type": "stream",
     "text": [
      "Processing entries:  73%|███████▎  | 1191/1621 [6:44:34<4:24:21, 36.89s/it]"
     ]
    },
    {
     "name": "stdout",
     "output_type": "stream",
     "text": [
      "[FAIL] photo_20241105054603_4.json -> C:/Users/user/pythonproject/AllDataset/VAT-OCR\\triple_receipt\\label\\train_fail\\photo_20241105054603_4.json\n"
     ]
    },
    {
     "name": "stderr",
     "output_type": "stream",
     "text": [
      "Processing entries:  74%|███████▎  | 1192/1621 [6:44:54<3:47:16, 31.79s/it]"
     ]
    },
    {
     "name": "stdout",
     "output_type": "stream",
     "text": [
      "[FAIL] photo_20241105054603_5.json -> C:/Users/user/pythonproject/AllDataset/VAT-OCR\\triple_receipt\\label\\train_fail\\photo_20241105054603_5.json\n"
     ]
    },
    {
     "name": "stderr",
     "output_type": "stream",
     "text": [
      "Processing entries:  74%|███████▎  | 1193/1621 [6:45:16<3:25:32, 28.81s/it]"
     ]
    },
    {
     "name": "stdout",
     "output_type": "stream",
     "text": [
      "[FAIL] photo_20241105054603_6.json -> C:/Users/user/pythonproject/AllDataset/VAT-OCR\\triple_receipt\\label\\train_fail\\photo_20241105054603_6.json\n"
     ]
    },
    {
     "name": "stderr",
     "output_type": "stream",
     "text": [
      "Processing entries:  74%|███████▎  | 1194/1621 [6:45:34<3:02:28, 25.64s/it]"
     ]
    },
    {
     "name": "stdout",
     "output_type": "stream",
     "text": [
      "[OK] photo_20241105054603_7.json -> C:/Users/user/pythonproject/AllDataset/VAT-OCR\\triple_receipt\\label\\train_new\\photo_20241105054603_7.json\n"
     ]
    },
    {
     "name": "stderr",
     "output_type": "stream",
     "text": [
      "Processing entries:  74%|███████▎  | 1195/1621 [6:45:54<2:50:25, 24.00s/it]"
     ]
    },
    {
     "name": "stdout",
     "output_type": "stream",
     "text": [
      "[FAIL] photo_20241105054603_8.json -> C:/Users/user/pythonproject/AllDataset/VAT-OCR\\triple_receipt\\label\\train_fail\\photo_20241105054603_8.json\n"
     ]
    },
    {
     "name": "stderr",
     "output_type": "stream",
     "text": [
      "Processing entries:  74%|███████▍  | 1196/1621 [6:46:15<2:42:28, 22.94s/it]"
     ]
    },
    {
     "name": "stdout",
     "output_type": "stream",
     "text": [
      "[OK] photo_20241105054603_9.json -> C:/Users/user/pythonproject/AllDataset/VAT-OCR\\triple_receipt\\label\\train_new\\photo_20241105054603_9.json\n"
     ]
    },
    {
     "name": "stderr",
     "output_type": "stream",
     "text": [
      "Processing entries:  74%|███████▍  | 1197/1621 [6:46:34<2:32:54, 21.64s/it]"
     ]
    },
    {
     "name": "stdout",
     "output_type": "stream",
     "text": [
      "[OK] photo_20241105061134_1.json -> C:/Users/user/pythonproject/AllDataset/VAT-OCR\\triple_receipt\\label\\train_new\\photo_20241105061134_1.json\n"
     ]
    },
    {
     "name": "stderr",
     "output_type": "stream",
     "text": [
      "Processing entries:  74%|███████▍  | 1198/1621 [6:46:48<2:18:22, 19.63s/it]"
     ]
    },
    {
     "name": "stdout",
     "output_type": "stream",
     "text": [
      "[FAIL] photo_20241105061134_10.json -> C:/Users/user/pythonproject/AllDataset/VAT-OCR\\triple_receipt\\label\\train_fail\\photo_20241105061134_10.json\n"
     ]
    },
    {
     "name": "stderr",
     "output_type": "stream",
     "text": [
      "Processing entries:  74%|███████▍  | 1199/1621 [6:47:04<2:09:55, 18.47s/it]"
     ]
    },
    {
     "name": "stdout",
     "output_type": "stream",
     "text": [
      "[FAIL] photo_20241105061134_11.json -> C:/Users/user/pythonproject/AllDataset/VAT-OCR\\triple_receipt\\label\\train_fail\\photo_20241105061134_11.json\n"
     ]
    },
    {
     "name": "stderr",
     "output_type": "stream",
     "text": [
      "Processing entries:  74%|███████▍  | 1200/1621 [6:47:20<2:04:40, 17.77s/it]"
     ]
    },
    {
     "name": "stdout",
     "output_type": "stream",
     "text": [
      "[OK] photo_20241105061134_12.json -> C:/Users/user/pythonproject/AllDataset/VAT-OCR\\triple_receipt\\label\\train_new\\photo_20241105061134_12.json\n"
     ]
    },
    {
     "name": "stderr",
     "output_type": "stream",
     "text": [
      "Processing entries:  74%|███████▍  | 1201/1621 [6:47:36<2:00:55, 17.28s/it]"
     ]
    },
    {
     "name": "stdout",
     "output_type": "stream",
     "text": [
      "[OK] photo_20241105061134_13.json -> C:/Users/user/pythonproject/AllDataset/VAT-OCR\\triple_receipt\\label\\train_new\\photo_20241105061134_13.json\n"
     ]
    },
    {
     "name": "stderr",
     "output_type": "stream",
     "text": [
      "Processing entries:  74%|███████▍  | 1202/1621 [6:47:56<2:05:33, 17.98s/it]"
     ]
    },
    {
     "name": "stdout",
     "output_type": "stream",
     "text": [
      "[OK] photo_20241105061134_14.json -> C:/Users/user/pythonproject/AllDataset/VAT-OCR\\triple_receipt\\label\\train_new\\photo_20241105061134_14.json\n"
     ]
    },
    {
     "name": "stderr",
     "output_type": "stream",
     "text": [
      "Processing entries:  74%|███████▍  | 1203/1621 [6:48:32<2:42:20, 23.30s/it]"
     ]
    },
    {
     "name": "stdout",
     "output_type": "stream",
     "text": [
      "[OK] photo_20241105061134_15.json -> C:/Users/user/pythonproject/AllDataset/VAT-OCR\\triple_receipt\\label\\train_new\\photo_20241105061134_15.json\n"
     ]
    },
    {
     "name": "stderr",
     "output_type": "stream",
     "text": [
      "Processing entries:  74%|███████▍  | 1204/1621 [6:48:48<2:28:00, 21.29s/it]"
     ]
    },
    {
     "name": "stdout",
     "output_type": "stream",
     "text": [
      "[OK] photo_20241105061134_16.json -> C:/Users/user/pythonproject/AllDataset/VAT-OCR\\triple_receipt\\label\\train_new\\photo_20241105061134_16.json\n"
     ]
    },
    {
     "name": "stderr",
     "output_type": "stream",
     "text": [
      "Processing entries:  74%|███████▍  | 1205/1621 [6:49:08<2:24:24, 20.83s/it]"
     ]
    },
    {
     "name": "stdout",
     "output_type": "stream",
     "text": [
      "[OK] photo_20241105061134_2.json -> C:/Users/user/pythonproject/AllDataset/VAT-OCR\\triple_receipt\\label\\train_new\\photo_20241105061134_2.json\n"
     ]
    },
    {
     "name": "stderr",
     "output_type": "stream",
     "text": [
      "Processing entries:  74%|███████▍  | 1206/1621 [6:49:27<2:20:30, 20.32s/it]"
     ]
    },
    {
     "name": "stdout",
     "output_type": "stream",
     "text": [
      "[OK] photo_20241105061134_3.json -> C:/Users/user/pythonproject/AllDataset/VAT-OCR\\triple_receipt\\label\\train_new\\photo_20241105061134_3.json\n"
     ]
    },
    {
     "name": "stderr",
     "output_type": "stream",
     "text": [
      "Processing entries:  74%|███████▍  | 1207/1621 [6:49:47<2:19:05, 20.16s/it]"
     ]
    },
    {
     "name": "stdout",
     "output_type": "stream",
     "text": [
      "[OK] photo_20241105061134_4.json -> C:/Users/user/pythonproject/AllDataset/VAT-OCR\\triple_receipt\\label\\train_new\\photo_20241105061134_4.json\n"
     ]
    },
    {
     "name": "stderr",
     "output_type": "stream",
     "text": [
      "Processing entries:  75%|███████▍  | 1208/1621 [6:50:09<2:21:39, 20.58s/it]"
     ]
    },
    {
     "name": "stdout",
     "output_type": "stream",
     "text": [
      "[OK] photo_20241105061134_5.json -> C:/Users/user/pythonproject/AllDataset/VAT-OCR\\triple_receipt\\label\\train_new\\photo_20241105061134_5.json\n"
     ]
    },
    {
     "name": "stderr",
     "output_type": "stream",
     "text": [
      "Processing entries:  75%|███████▍  | 1209/1621 [6:50:24<2:09:59, 18.93s/it]"
     ]
    },
    {
     "name": "stdout",
     "output_type": "stream",
     "text": [
      "[FAIL] photo_20241105061134_6.json -> C:/Users/user/pythonproject/AllDataset/VAT-OCR\\triple_receipt\\label\\train_fail\\photo_20241105061134_6.json\n"
     ]
    },
    {
     "name": "stderr",
     "output_type": "stream",
     "text": [
      "Processing entries:  75%|███████▍  | 1210/1621 [6:50:39<2:02:38, 17.90s/it]"
     ]
    },
    {
     "name": "stdout",
     "output_type": "stream",
     "text": [
      "[FAIL] photo_20241105061134_7.json -> C:/Users/user/pythonproject/AllDataset/VAT-OCR\\triple_receipt\\label\\train_fail\\photo_20241105061134_7.json\n"
     ]
    },
    {
     "name": "stderr",
     "output_type": "stream",
     "text": [
      "Processing entries:  75%|███████▍  | 1211/1621 [6:50:56<1:59:10, 17.44s/it]"
     ]
    },
    {
     "name": "stdout",
     "output_type": "stream",
     "text": [
      "[FAIL] photo_20241105061134_8.json -> C:/Users/user/pythonproject/AllDataset/VAT-OCR\\triple_receipt\\label\\train_fail\\photo_20241105061134_8.json\n"
     ]
    },
    {
     "name": "stderr",
     "output_type": "stream",
     "text": [
      "Processing entries:  75%|███████▍  | 1212/1621 [6:51:12<1:56:14, 17.05s/it]"
     ]
    },
    {
     "name": "stdout",
     "output_type": "stream",
     "text": [
      "[FAIL] photo_20241105061134_9.json -> C:/Users/user/pythonproject/AllDataset/VAT-OCR\\triple_receipt\\label\\train_fail\\photo_20241105061134_9.json\n"
     ]
    },
    {
     "name": "stderr",
     "output_type": "stream",
     "text": [
      "Processing entries:  75%|███████▍  | 1213/1621 [6:51:39<2:15:53, 19.98s/it]"
     ]
    },
    {
     "name": "stdout",
     "output_type": "stream",
     "text": [
      "[OK] photo_20241105063641_1.json -> C:/Users/user/pythonproject/AllDataset/VAT-OCR\\triple_receipt\\label\\train_new\\photo_20241105063641_1.json\n"
     ]
    },
    {
     "name": "stderr",
     "output_type": "stream",
     "text": [
      "Processing entries:  75%|███████▍  | 1214/1621 [6:51:56<2:09:46, 19.13s/it]"
     ]
    },
    {
     "name": "stdout",
     "output_type": "stream",
     "text": [
      "[OK] photo_20241105063641_10.json -> C:/Users/user/pythonproject/AllDataset/VAT-OCR\\triple_receipt\\label\\train_new\\photo_20241105063641_10.json\n"
     ]
    },
    {
     "name": "stderr",
     "output_type": "stream",
     "text": [
      "Processing entries:  75%|███████▍  | 1215/1621 [6:52:12<2:04:14, 18.36s/it]"
     ]
    },
    {
     "name": "stdout",
     "output_type": "stream",
     "text": [
      "[FAIL] photo_20241105063641_11.json -> C:/Users/user/pythonproject/AllDataset/VAT-OCR\\triple_receipt\\label\\train_fail\\photo_20241105063641_11.json\n"
     ]
    },
    {
     "name": "stderr",
     "output_type": "stream",
     "text": [
      "Processing entries:  75%|███████▌  | 1216/1621 [6:52:35<2:12:47, 19.67s/it]"
     ]
    },
    {
     "name": "stdout",
     "output_type": "stream",
     "text": [
      "[FAIL] photo_20241105063641_12.json -> C:/Users/user/pythonproject/AllDataset/VAT-OCR\\triple_receipt\\label\\train_fail\\photo_20241105063641_12.json\n"
     ]
    },
    {
     "name": "stderr",
     "output_type": "stream",
     "text": [
      "Processing entries:  75%|███████▌  | 1217/1621 [6:52:59<2:21:34, 21.03s/it]"
     ]
    },
    {
     "name": "stdout",
     "output_type": "stream",
     "text": [
      "[OK] photo_20241105063641_2.json -> C:/Users/user/pythonproject/AllDataset/VAT-OCR\\triple_receipt\\label\\train_new\\photo_20241105063641_2.json\n"
     ]
    },
    {
     "name": "stderr",
     "output_type": "stream",
     "text": [
      "Processing entries:  75%|███████▌  | 1218/1621 [6:53:24<2:28:29, 22.11s/it]"
     ]
    },
    {
     "name": "stdout",
     "output_type": "stream",
     "text": [
      "[FAIL] photo_20241105063641_3.json -> C:/Users/user/pythonproject/AllDataset/VAT-OCR\\triple_receipt\\label\\train_fail\\photo_20241105063641_3.json\n"
     ]
    },
    {
     "name": "stderr",
     "output_type": "stream",
     "text": [
      "Processing entries:  75%|███████▌  | 1219/1621 [6:53:45<2:25:56, 21.78s/it]"
     ]
    },
    {
     "name": "stdout",
     "output_type": "stream",
     "text": [
      "[FAIL] photo_20241105063641_4.json -> C:/Users/user/pythonproject/AllDataset/VAT-OCR\\triple_receipt\\label\\train_fail\\photo_20241105063641_4.json\n"
     ]
    },
    {
     "name": "stderr",
     "output_type": "stream",
     "text": [
      "Processing entries:  75%|███████▌  | 1220/1621 [6:54:08<2:28:32, 22.22s/it]"
     ]
    },
    {
     "name": "stdout",
     "output_type": "stream",
     "text": [
      "[FAIL] photo_20241105063641_5.json -> C:/Users/user/pythonproject/AllDataset/VAT-OCR\\triple_receipt\\label\\train_fail\\photo_20241105063641_5.json\n"
     ]
    },
    {
     "name": "stderr",
     "output_type": "stream",
     "text": [
      "Processing entries:  75%|███████▌  | 1221/1621 [6:54:29<2:25:27, 21.82s/it]"
     ]
    },
    {
     "name": "stdout",
     "output_type": "stream",
     "text": [
      "[FAIL] photo_20241105063641_6.json -> C:/Users/user/pythonproject/AllDataset/VAT-OCR\\triple_receipt\\label\\train_fail\\photo_20241105063641_6.json\n"
     ]
    },
    {
     "name": "stderr",
     "output_type": "stream",
     "text": [
      "Processing entries:  75%|███████▌  | 1222/1621 [6:54:51<2:24:40, 21.76s/it]"
     ]
    },
    {
     "name": "stdout",
     "output_type": "stream",
     "text": [
      "[FAIL] photo_20241105063641_7.json -> C:/Users/user/pythonproject/AllDataset/VAT-OCR\\triple_receipt\\label\\train_fail\\photo_20241105063641_7.json\n"
     ]
    },
    {
     "name": "stderr",
     "output_type": "stream",
     "text": [
      "Processing entries:  75%|███████▌  | 1223/1621 [6:55:11<2:21:59, 21.41s/it]"
     ]
    },
    {
     "name": "stdout",
     "output_type": "stream",
     "text": [
      "[FAIL] photo_20241105063641_8.json -> C:/Users/user/pythonproject/AllDataset/VAT-OCR\\triple_receipt\\label\\train_fail\\photo_20241105063641_8.json\n"
     ]
    },
    {
     "name": "stderr",
     "output_type": "stream",
     "text": [
      "Processing entries:  76%|███████▌  | 1224/1621 [6:55:28<2:11:55, 19.94s/it]"
     ]
    },
    {
     "name": "stdout",
     "output_type": "stream",
     "text": [
      "[OK] photo_20241105063641_9.json -> C:/Users/user/pythonproject/AllDataset/VAT-OCR\\triple_receipt\\label\\train_new\\photo_20241105063641_9.json\n"
     ]
    },
    {
     "name": "stderr",
     "output_type": "stream",
     "text": [
      "Processing entries:  76%|███████▌  | 1225/1621 [6:55:46<2:08:57, 19.54s/it]"
     ]
    },
    {
     "name": "stdout",
     "output_type": "stream",
     "text": [
      "[FAIL] photo_20241105065710_1.json -> C:/Users/user/pythonproject/AllDataset/VAT-OCR\\triple_receipt\\label\\train_fail\\photo_20241105065710_1.json\n"
     ]
    },
    {
     "name": "stderr",
     "output_type": "stream",
     "text": [
      "Processing entries:  76%|███████▌  | 1226/1621 [6:56:09<2:13:54, 20.34s/it]"
     ]
    },
    {
     "name": "stdout",
     "output_type": "stream",
     "text": [
      "[FAIL] photo_20241105065710_2.json -> C:/Users/user/pythonproject/AllDataset/VAT-OCR\\triple_receipt\\label\\train_fail\\photo_20241105065710_2.json\n"
     ]
    },
    {
     "name": "stderr",
     "output_type": "stream",
     "text": [
      "Processing entries:  76%|███████▌  | 1227/1621 [6:56:29<2:13:16, 20.30s/it]"
     ]
    },
    {
     "name": "stdout",
     "output_type": "stream",
     "text": [
      "[FAIL] photo_20241105065710_3.json -> C:/Users/user/pythonproject/AllDataset/VAT-OCR\\triple_receipt\\label\\train_fail\\photo_20241105065710_3.json\n"
     ]
    },
    {
     "name": "stderr",
     "output_type": "stream",
     "text": [
      "Processing entries:  76%|███████▌  | 1228/1621 [6:56:50<2:14:35, 20.55s/it]"
     ]
    },
    {
     "name": "stdout",
     "output_type": "stream",
     "text": [
      "[FAIL] photo_20241105065710_4.json -> C:/Users/user/pythonproject/AllDataset/VAT-OCR\\triple_receipt\\label\\train_fail\\photo_20241105065710_4.json\n"
     ]
    },
    {
     "name": "stderr",
     "output_type": "stream",
     "text": [
      "Processing entries:  76%|███████▌  | 1229/1621 [6:57:11<2:15:47, 20.78s/it]"
     ]
    },
    {
     "name": "stdout",
     "output_type": "stream",
     "text": [
      "[OK] photo_20241105065710_5.json -> C:/Users/user/pythonproject/AllDataset/VAT-OCR\\triple_receipt\\label\\train_new\\photo_20241105065710_5.json\n"
     ]
    },
    {
     "name": "stderr",
     "output_type": "stream",
     "text": [
      "Processing entries:  76%|███████▌  | 1230/1621 [6:57:31<2:14:11, 20.59s/it]"
     ]
    },
    {
     "name": "stdout",
     "output_type": "stream",
     "text": [
      "[OK] photo_20241105065710_6.json -> C:/Users/user/pythonproject/AllDataset/VAT-OCR\\triple_receipt\\label\\train_new\\photo_20241105065710_6.json\n"
     ]
    },
    {
     "name": "stderr",
     "output_type": "stream",
     "text": [
      "Processing entries:  76%|███████▌  | 1231/1621 [6:57:54<2:17:09, 21.10s/it]"
     ]
    },
    {
     "name": "stdout",
     "output_type": "stream",
     "text": [
      "[FAIL] photo_20241105065710_7.json -> C:/Users/user/pythonproject/AllDataset/VAT-OCR\\triple_receipt\\label\\train_fail\\photo_20241105065710_7.json\n"
     ]
    },
    {
     "name": "stderr",
     "output_type": "stream",
     "text": [
      "Processing entries:  76%|███████▌  | 1232/1621 [6:58:16<2:19:22, 21.50s/it]"
     ]
    },
    {
     "name": "stdout",
     "output_type": "stream",
     "text": [
      "[FAIL] photo_20241105065710_8.json -> C:/Users/user/pythonproject/AllDataset/VAT-OCR\\triple_receipt\\label\\train_fail\\photo_20241105065710_8.json\n"
     ]
    },
    {
     "name": "stderr",
     "output_type": "stream",
     "text": [
      "Processing entries:  76%|███████▌  | 1233/1621 [6:58:34<2:12:40, 20.52s/it]"
     ]
    },
    {
     "name": "stdout",
     "output_type": "stream",
     "text": [
      "[FAIL] photo_20241105081508_1.json -> C:/Users/user/pythonproject/AllDataset/VAT-OCR\\triple_receipt\\label\\train_fail\\photo_20241105081508_1.json\n"
     ]
    },
    {
     "name": "stderr",
     "output_type": "stream",
     "text": [
      "Processing entries:  76%|███████▌  | 1234/1621 [6:58:51<2:05:40, 19.48s/it]"
     ]
    },
    {
     "name": "stdout",
     "output_type": "stream",
     "text": [
      "[OK] photo_20241105081508_10.json -> C:/Users/user/pythonproject/AllDataset/VAT-OCR\\triple_receipt\\label\\train_new\\photo_20241105081508_10.json\n"
     ]
    },
    {
     "name": "stderr",
     "output_type": "stream",
     "text": [
      "Processing entries:  76%|███████▌  | 1235/1621 [6:59:10<2:04:44, 19.39s/it]"
     ]
    },
    {
     "name": "stdout",
     "output_type": "stream",
     "text": [
      "[FAIL] photo_20241105081508_11.json -> C:/Users/user/pythonproject/AllDataset/VAT-OCR\\triple_receipt\\label\\train_fail\\photo_20241105081508_11.json\n"
     ]
    },
    {
     "name": "stderr",
     "output_type": "stream",
     "text": [
      "Processing entries:  76%|███████▌  | 1236/1621 [6:59:30<2:05:25, 19.55s/it]"
     ]
    },
    {
     "name": "stdout",
     "output_type": "stream",
     "text": [
      "[FAIL] photo_20241105081508_12.json -> C:/Users/user/pythonproject/AllDataset/VAT-OCR\\triple_receipt\\label\\train_fail\\photo_20241105081508_12.json\n"
     ]
    },
    {
     "name": "stderr",
     "output_type": "stream",
     "text": [
      "Processing entries:  76%|███████▋  | 1237/1621 [6:59:50<2:05:11, 19.56s/it]"
     ]
    },
    {
     "name": "stdout",
     "output_type": "stream",
     "text": [
      "[OK] photo_20241105081508_13.json -> C:/Users/user/pythonproject/AllDataset/VAT-OCR\\triple_receipt\\label\\train_new\\photo_20241105081508_13.json\n"
     ]
    },
    {
     "name": "stderr",
     "output_type": "stream",
     "text": [
      "Processing entries:  76%|███████▋  | 1238/1621 [7:00:14<2:13:46, 20.96s/it]"
     ]
    },
    {
     "name": "stdout",
     "output_type": "stream",
     "text": [
      "[OK] photo_20241105081508_14.json -> C:/Users/user/pythonproject/AllDataset/VAT-OCR\\triple_receipt\\label\\train_new\\photo_20241105081508_14.json\n"
     ]
    },
    {
     "name": "stderr",
     "output_type": "stream",
     "text": [
      "Processing entries:  76%|███████▋  | 1239/1621 [7:00:31<2:04:44, 19.59s/it]"
     ]
    },
    {
     "name": "stdout",
     "output_type": "stream",
     "text": [
      "[OK] photo_20241105081508_15.json -> C:/Users/user/pythonproject/AllDataset/VAT-OCR\\triple_receipt\\label\\train_new\\photo_20241105081508_15.json\n"
     ]
    },
    {
     "name": "stderr",
     "output_type": "stream",
     "text": [
      "Processing entries:  76%|███████▋  | 1240/1621 [7:00:49<2:02:06, 19.23s/it]"
     ]
    },
    {
     "name": "stdout",
     "output_type": "stream",
     "text": [
      "[OK] photo_20241105081508_16.json -> C:/Users/user/pythonproject/AllDataset/VAT-OCR\\triple_receipt\\label\\train_new\\photo_20241105081508_16.json\n"
     ]
    },
    {
     "name": "stderr",
     "output_type": "stream",
     "text": [
      "Processing entries:  77%|███████▋  | 1241/1621 [7:01:09<2:03:27, 19.49s/it]"
     ]
    },
    {
     "name": "stdout",
     "output_type": "stream",
     "text": [
      "[FAIL] photo_20241105081508_2.json -> C:/Users/user/pythonproject/AllDataset/VAT-OCR\\triple_receipt\\label\\train_fail\\photo_20241105081508_2.json\n"
     ]
    },
    {
     "name": "stderr",
     "output_type": "stream",
     "text": [
      "Processing entries:  77%|███████▋  | 1242/1621 [7:01:24<1:54:57, 18.20s/it]"
     ]
    },
    {
     "name": "stdout",
     "output_type": "stream",
     "text": [
      "[OK] photo_20241105081508_3.json -> C:/Users/user/pythonproject/AllDataset/VAT-OCR\\triple_receipt\\label\\train_new\\photo_20241105081508_3.json\n"
     ]
    },
    {
     "name": "stderr",
     "output_type": "stream",
     "text": [
      "Processing entries:  77%|███████▋  | 1243/1621 [7:01:40<1:49:06, 17.32s/it]"
     ]
    },
    {
     "name": "stdout",
     "output_type": "stream",
     "text": [
      "[OK] photo_20241105081508_4.json -> C:/Users/user/pythonproject/AllDataset/VAT-OCR\\triple_receipt\\label\\train_new\\photo_20241105081508_4.json\n"
     ]
    },
    {
     "name": "stderr",
     "output_type": "stream",
     "text": [
      "Processing entries:  77%|███████▋  | 1244/1621 [7:02:01<1:56:13, 18.50s/it]"
     ]
    },
    {
     "name": "stdout",
     "output_type": "stream",
     "text": [
      "[OK] photo_20241105081508_5.json -> C:/Users/user/pythonproject/AllDataset/VAT-OCR\\triple_receipt\\label\\train_new\\photo_20241105081508_5.json\n"
     ]
    },
    {
     "name": "stderr",
     "output_type": "stream",
     "text": [
      "Processing entries:  77%|███████▋  | 1245/1621 [7:02:21<1:59:35, 19.08s/it]"
     ]
    },
    {
     "name": "stdout",
     "output_type": "stream",
     "text": [
      "[OK] photo_20241105081508_6.json -> C:/Users/user/pythonproject/AllDataset/VAT-OCR\\triple_receipt\\label\\train_new\\photo_20241105081508_6.json\n"
     ]
    },
    {
     "name": "stderr",
     "output_type": "stream",
     "text": [
      "Processing entries:  77%|███████▋  | 1246/1621 [7:02:39<1:56:00, 18.56s/it]"
     ]
    },
    {
     "name": "stdout",
     "output_type": "stream",
     "text": [
      "[FAIL] photo_20241105081508_7.json -> C:/Users/user/pythonproject/AllDataset/VAT-OCR\\triple_receipt\\label\\train_fail\\photo_20241105081508_7.json\n"
     ]
    },
    {
     "name": "stderr",
     "output_type": "stream",
     "text": [
      "Processing entries:  77%|███████▋  | 1247/1621 [7:02:57<1:56:13, 18.65s/it]"
     ]
    },
    {
     "name": "stdout",
     "output_type": "stream",
     "text": [
      "[OK] photo_20241105081508_8.json -> C:/Users/user/pythonproject/AllDataset/VAT-OCR\\triple_receipt\\label\\train_new\\photo_20241105081508_8.json\n"
     ]
    },
    {
     "name": "stderr",
     "output_type": "stream",
     "text": [
      "Processing entries:  77%|███████▋  | 1248/1621 [7:03:20<2:03:07, 19.81s/it]"
     ]
    },
    {
     "name": "stdout",
     "output_type": "stream",
     "text": [
      "[OK] photo_20241105081508_9.json -> C:/Users/user/pythonproject/AllDataset/VAT-OCR\\triple_receipt\\label\\train_new\\photo_20241105081508_9.json\n"
     ]
    },
    {
     "name": "stderr",
     "output_type": "stream",
     "text": [
      "Processing entries:  77%|███████▋  | 1249/1621 [7:03:37<1:58:01, 19.04s/it]"
     ]
    },
    {
     "name": "stdout",
     "output_type": "stream",
     "text": [
      "[OK] photo_20241105084038_1.json -> C:/Users/user/pythonproject/AllDataset/VAT-OCR\\triple_receipt\\label\\train_new\\photo_20241105084038_1.json\n"
     ]
    },
    {
     "name": "stderr",
     "output_type": "stream",
     "text": [
      "Processing entries:  77%|███████▋  | 1250/1621 [7:04:50<3:37:40, 35.20s/it]"
     ]
    },
    {
     "name": "stdout",
     "output_type": "stream",
     "text": [
      "[FAIL] photo_20241105084038_10.json -> C:/Users/user/pythonproject/AllDataset/VAT-OCR\\triple_receipt\\label\\train_fail\\photo_20241105084038_10.json\n"
     ]
    },
    {
     "name": "stderr",
     "output_type": "stream",
     "text": [
      "Processing entries:  77%|███████▋  | 1251/1621 [7:05:09<3:07:34, 30.42s/it]"
     ]
    },
    {
     "name": "stdout",
     "output_type": "stream",
     "text": [
      "[OK] photo_20241105084038_2.json -> C:/Users/user/pythonproject/AllDataset/VAT-OCR\\triple_receipt\\label\\train_new\\photo_20241105084038_2.json\n"
     ]
    },
    {
     "name": "stderr",
     "output_type": "stream",
     "text": [
      "Processing entries:  77%|███████▋  | 1252/1621 [7:05:29<2:47:53, 27.30s/it]"
     ]
    },
    {
     "name": "stdout",
     "output_type": "stream",
     "text": [
      "[OK] photo_20241105084038_3.json -> C:/Users/user/pythonproject/AllDataset/VAT-OCR\\triple_receipt\\label\\train_new\\photo_20241105084038_3.json\n"
     ]
    },
    {
     "name": "stderr",
     "output_type": "stream",
     "text": [
      "Processing entries:  77%|███████▋  | 1253/1621 [7:05:50<2:34:29, 25.19s/it]"
     ]
    },
    {
     "name": "stdout",
     "output_type": "stream",
     "text": [
      "[OK] photo_20241105084038_4.json -> C:/Users/user/pythonproject/AllDataset/VAT-OCR\\triple_receipt\\label\\train_new\\photo_20241105084038_4.json\n"
     ]
    },
    {
     "name": "stderr",
     "output_type": "stream",
     "text": [
      "Processing entries:  77%|███████▋  | 1254/1621 [7:06:09<2:23:47, 23.51s/it]"
     ]
    },
    {
     "name": "stdout",
     "output_type": "stream",
     "text": [
      "[OK] photo_20241105084038_5.json -> C:/Users/user/pythonproject/AllDataset/VAT-OCR\\triple_receipt\\label\\train_new\\photo_20241105084038_5.json\n"
     ]
    },
    {
     "name": "stderr",
     "output_type": "stream",
     "text": [
      "Processing entries:  77%|███████▋  | 1255/1621 [7:06:26<2:11:51, 21.62s/it]"
     ]
    },
    {
     "name": "stdout",
     "output_type": "stream",
     "text": [
      "[FAIL] photo_20241105084038_6.json -> C:/Users/user/pythonproject/AllDataset/VAT-OCR\\triple_receipt\\label\\train_fail\\photo_20241105084038_6.json\n"
     ]
    },
    {
     "name": "stderr",
     "output_type": "stream",
     "text": [
      "Processing entries:  77%|███████▋  | 1256/1621 [7:06:45<2:05:59, 20.71s/it]"
     ]
    },
    {
     "name": "stdout",
     "output_type": "stream",
     "text": [
      "[OK] photo_20241105084038_7.json -> C:/Users/user/pythonproject/AllDataset/VAT-OCR\\triple_receipt\\label\\train_new\\photo_20241105084038_7.json\n"
     ]
    },
    {
     "name": "stderr",
     "output_type": "stream",
     "text": [
      "Processing entries:  78%|███████▊  | 1257/1621 [7:07:02<1:59:05, 19.63s/it]"
     ]
    },
    {
     "name": "stdout",
     "output_type": "stream",
     "text": [
      "[FAIL] photo_20241105084038_8.json -> C:/Users/user/pythonproject/AllDataset/VAT-OCR\\triple_receipt\\label\\train_fail\\photo_20241105084038_8.json\n"
     ]
    },
    {
     "name": "stderr",
     "output_type": "stream",
     "text": [
      "Processing entries:  78%|███████▊  | 1258/1621 [7:08:13<3:31:25, 34.95s/it]"
     ]
    },
    {
     "name": "stdout",
     "output_type": "stream",
     "text": [
      "[FAIL] photo_20241105084038_9.json -> C:/Users/user/pythonproject/AllDataset/VAT-OCR\\triple_receipt\\label\\train_fail\\photo_20241105084038_9.json\n"
     ]
    },
    {
     "name": "stderr",
     "output_type": "stream",
     "text": [
      "Processing entries:  78%|███████▊  | 1259/1621 [7:08:37<3:11:57, 31.82s/it]"
     ]
    },
    {
     "name": "stdout",
     "output_type": "stream",
     "text": [
      "[OK] photo_20241105085307_1.json -> C:/Users/user/pythonproject/AllDataset/VAT-OCR\\triple_receipt\\label\\train_new\\photo_20241105085307_1.json\n"
     ]
    },
    {
     "name": "stderr",
     "output_type": "stream",
     "text": [
      "Processing entries:  78%|███████▊  | 1260/1621 [7:08:55<2:45:41, 27.54s/it]"
     ]
    },
    {
     "name": "stdout",
     "output_type": "stream",
     "text": [
      "[FAIL] photo_20241105085307_10.json -> C:/Users/user/pythonproject/AllDataset/VAT-OCR\\triple_receipt\\label\\train_fail\\photo_20241105085307_10.json\n"
     ]
    },
    {
     "name": "stderr",
     "output_type": "stream",
     "text": [
      "Processing entries:  78%|███████▊  | 1261/1621 [7:09:12<2:25:46, 24.30s/it]"
     ]
    },
    {
     "name": "stdout",
     "output_type": "stream",
     "text": [
      "[OK] photo_20241105085307_11.json -> C:/Users/user/pythonproject/AllDataset/VAT-OCR\\triple_receipt\\label\\train_new\\photo_20241105085307_11.json\n"
     ]
    },
    {
     "name": "stderr",
     "output_type": "stream",
     "text": [
      "Processing entries:  78%|███████▊  | 1262/1621 [7:09:28<2:10:45, 21.85s/it]"
     ]
    },
    {
     "name": "stdout",
     "output_type": "stream",
     "text": [
      "[OK] photo_20241105085307_12.json -> C:/Users/user/pythonproject/AllDataset/VAT-OCR\\triple_receipt\\label\\train_new\\photo_20241105085307_12.json\n"
     ]
    },
    {
     "name": "stderr",
     "output_type": "stream",
     "text": [
      "Processing entries:  78%|███████▊  | 1263/1621 [7:09:45<2:02:28, 20.53s/it]"
     ]
    },
    {
     "name": "stdout",
     "output_type": "stream",
     "text": [
      "[OK] photo_20241105085307_13.json -> C:/Users/user/pythonproject/AllDataset/VAT-OCR\\triple_receipt\\label\\train_new\\photo_20241105085307_13.json\n"
     ]
    },
    {
     "name": "stderr",
     "output_type": "stream",
     "text": [
      "Processing entries:  78%|███████▊  | 1264/1621 [7:10:04<1:59:29, 20.08s/it]"
     ]
    },
    {
     "name": "stdout",
     "output_type": "stream",
     "text": [
      "[FAIL] photo_20241105085307_14.json -> C:/Users/user/pythonproject/AllDataset/VAT-OCR\\triple_receipt\\label\\train_fail\\photo_20241105085307_14.json\n"
     ]
    },
    {
     "name": "stderr",
     "output_type": "stream",
     "text": [
      "Processing entries:  78%|███████▊  | 1265/1621 [7:10:33<2:13:39, 22.53s/it]"
     ]
    },
    {
     "name": "stdout",
     "output_type": "stream",
     "text": [
      "[OK] photo_20241105085307_2.json -> C:/Users/user/pythonproject/AllDataset/VAT-OCR\\triple_receipt\\label\\train_new\\photo_20241105085307_2.json\n"
     ]
    },
    {
     "name": "stderr",
     "output_type": "stream",
     "text": [
      "Processing entries:  78%|███████▊  | 1266/1621 [7:11:04<2:29:43, 25.31s/it]"
     ]
    },
    {
     "name": "stdout",
     "output_type": "stream",
     "text": [
      "[OK] photo_20241105085307_3.json -> C:/Users/user/pythonproject/AllDataset/VAT-OCR\\triple_receipt\\label\\train_new\\photo_20241105085307_3.json\n"
     ]
    },
    {
     "name": "stderr",
     "output_type": "stream",
     "text": [
      "Processing entries:  78%|███████▊  | 1267/1621 [7:12:14<3:47:27, 38.55s/it]"
     ]
    },
    {
     "name": "stdout",
     "output_type": "stream",
     "text": [
      "[FAIL] photo_20241105085307_4.json -> C:/Users/user/pythonproject/AllDataset/VAT-OCR\\triple_receipt\\label\\train_fail\\photo_20241105085307_4.json\n"
     ]
    },
    {
     "name": "stderr",
     "output_type": "stream",
     "text": [
      "Processing entries:  78%|███████▊  | 1268/1621 [7:12:30<3:07:28, 31.86s/it]"
     ]
    },
    {
     "name": "stdout",
     "output_type": "stream",
     "text": [
      "[FAIL] photo_20241105085307_5.json -> C:/Users/user/pythonproject/AllDataset/VAT-OCR\\triple_receipt\\label\\train_fail\\photo_20241105085307_5.json\n"
     ]
    },
    {
     "name": "stderr",
     "output_type": "stream",
     "text": [
      "Processing entries:  78%|███████▊  | 1269/1621 [7:12:45<2:36:52, 26.74s/it]"
     ]
    },
    {
     "name": "stdout",
     "output_type": "stream",
     "text": [
      "[OK] photo_20241105085307_6.json -> C:/Users/user/pythonproject/AllDataset/VAT-OCR\\triple_receipt\\label\\train_new\\photo_20241105085307_6.json\n"
     ]
    },
    {
     "name": "stderr",
     "output_type": "stream",
     "text": [
      "Processing entries:  78%|███████▊  | 1270/1621 [7:12:58<2:13:17, 22.79s/it]"
     ]
    },
    {
     "name": "stdout",
     "output_type": "stream",
     "text": [
      "[FAIL] photo_20241105085307_7.json -> C:/Users/user/pythonproject/AllDataset/VAT-OCR\\triple_receipt\\label\\train_fail\\photo_20241105085307_7.json\n"
     ]
    },
    {
     "name": "stderr",
     "output_type": "stream",
     "text": [
      "Processing entries:  78%|███████▊  | 1271/1621 [7:13:14<2:01:14, 20.78s/it]"
     ]
    },
    {
     "name": "stdout",
     "output_type": "stream",
     "text": [
      "[OK] photo_20241105085307_8.json -> C:/Users/user/pythonproject/AllDataset/VAT-OCR\\triple_receipt\\label\\train_new\\photo_20241105085307_8.json\n"
     ]
    },
    {
     "name": "stderr",
     "output_type": "stream",
     "text": [
      "Processing entries:  78%|███████▊  | 1272/1621 [7:13:31<1:52:53, 19.41s/it]"
     ]
    },
    {
     "name": "stdout",
     "output_type": "stream",
     "text": [
      "[OK] photo_20241105085307_9.json -> C:/Users/user/pythonproject/AllDataset/VAT-OCR\\triple_receipt\\label\\train_new\\photo_20241105085307_9.json\n"
     ]
    },
    {
     "name": "stderr",
     "output_type": "stream",
     "text": [
      "Processing entries:  79%|███████▊  | 1273/1621 [7:13:47<1:46:27, 18.36s/it]"
     ]
    },
    {
     "name": "stdout",
     "output_type": "stream",
     "text": [
      "[FAIL] photo_20241105091501_1.json -> C:/Users/user/pythonproject/AllDataset/VAT-OCR\\triple_receipt\\label\\train_fail\\photo_20241105091501_1.json\n"
     ]
    },
    {
     "name": "stderr",
     "output_type": "stream",
     "text": [
      "Processing entries:  79%|███████▊  | 1274/1621 [7:14:02<1:41:17, 17.51s/it]"
     ]
    },
    {
     "name": "stdout",
     "output_type": "stream",
     "text": [
      "[FAIL] photo_20241105091501_10.json -> C:/Users/user/pythonproject/AllDataset/VAT-OCR\\triple_receipt\\label\\train_fail\\photo_20241105091501_10.json\n"
     ]
    },
    {
     "name": "stderr",
     "output_type": "stream",
     "text": [
      "Processing entries:  79%|███████▊  | 1275/1621 [7:14:17<1:37:17, 16.87s/it]"
     ]
    },
    {
     "name": "stdout",
     "output_type": "stream",
     "text": [
      "[FAIL] photo_20241105091501_11.json -> C:/Users/user/pythonproject/AllDataset/VAT-OCR\\triple_receipt\\label\\train_fail\\photo_20241105091501_11.json\n"
     ]
    },
    {
     "name": "stderr",
     "output_type": "stream",
     "text": [
      "Processing entries:  79%|███████▊  | 1276/1621 [7:14:33<1:34:22, 16.41s/it]"
     ]
    },
    {
     "name": "stdout",
     "output_type": "stream",
     "text": [
      "[FAIL] photo_20241105091501_12.json -> C:/Users/user/pythonproject/AllDataset/VAT-OCR\\triple_receipt\\label\\train_fail\\photo_20241105091501_12.json\n"
     ]
    },
    {
     "name": "stderr",
     "output_type": "stream",
     "text": [
      "Processing entries:  79%|███████▉  | 1277/1621 [7:14:48<1:31:39, 15.99s/it]"
     ]
    },
    {
     "name": "stdout",
     "output_type": "stream",
     "text": [
      "[FAIL] photo_20241105091501_2.json -> C:/Users/user/pythonproject/AllDataset/VAT-OCR\\triple_receipt\\label\\train_fail\\photo_20241105091501_2.json\n"
     ]
    },
    {
     "name": "stderr",
     "output_type": "stream",
     "text": [
      "Processing entries:  79%|███████▉  | 1278/1621 [7:15:08<1:38:37, 17.25s/it]"
     ]
    },
    {
     "name": "stdout",
     "output_type": "stream",
     "text": [
      "[FAIL] photo_20241105091501_3.json -> C:/Users/user/pythonproject/AllDataset/VAT-OCR\\triple_receipt\\label\\train_fail\\photo_20241105091501_3.json\n"
     ]
    },
    {
     "name": "stderr",
     "output_type": "stream",
     "text": [
      "Processing entries:  79%|███████▉  | 1279/1621 [7:15:24<1:36:34, 16.94s/it]"
     ]
    },
    {
     "name": "stdout",
     "output_type": "stream",
     "text": [
      "[OK] photo_20241105091501_4.json -> C:/Users/user/pythonproject/AllDataset/VAT-OCR\\triple_receipt\\label\\train_new\\photo_20241105091501_4.json\n"
     ]
    },
    {
     "name": "stderr",
     "output_type": "stream",
     "text": [
      "Processing entries:  79%|███████▉  | 1280/1621 [7:15:41<1:35:51, 16.87s/it]"
     ]
    },
    {
     "name": "stdout",
     "output_type": "stream",
     "text": [
      "[FAIL] photo_20241105091501_5.json -> C:/Users/user/pythonproject/AllDataset/VAT-OCR\\triple_receipt\\label\\train_fail\\photo_20241105091501_5.json\n"
     ]
    },
    {
     "name": "stderr",
     "output_type": "stream",
     "text": [
      "Processing entries:  79%|███████▉  | 1281/1621 [7:15:59<1:37:41, 17.24s/it]"
     ]
    },
    {
     "name": "stdout",
     "output_type": "stream",
     "text": [
      "[FAIL] photo_20241105091501_6.json -> C:/Users/user/pythonproject/AllDataset/VAT-OCR\\triple_receipt\\label\\train_fail\\photo_20241105091501_6.json\n"
     ]
    },
    {
     "name": "stderr",
     "output_type": "stream",
     "text": [
      "Processing entries:  79%|███████▉  | 1282/1621 [7:16:15<1:35:29, 16.90s/it]"
     ]
    },
    {
     "name": "stdout",
     "output_type": "stream",
     "text": [
      "[FAIL] photo_20241105091501_7.json -> C:/Users/user/pythonproject/AllDataset/VAT-OCR\\triple_receipt\\label\\train_fail\\photo_20241105091501_7.json\n"
     ]
    },
    {
     "name": "stderr",
     "output_type": "stream",
     "text": [
      "Processing entries:  79%|███████▉  | 1283/1621 [7:16:31<1:32:38, 16.45s/it]"
     ]
    },
    {
     "name": "stdout",
     "output_type": "stream",
     "text": [
      "[FAIL] photo_20241105091501_8.json -> C:/Users/user/pythonproject/AllDataset/VAT-OCR\\triple_receipt\\label\\train_fail\\photo_20241105091501_8.json\n"
     ]
    },
    {
     "name": "stderr",
     "output_type": "stream",
     "text": [
      "Processing entries:  79%|███████▉  | 1284/1621 [7:16:46<1:30:55, 16.19s/it]"
     ]
    },
    {
     "name": "stdout",
     "output_type": "stream",
     "text": [
      "[FAIL] photo_20241105091501_9.json -> C:/Users/user/pythonproject/AllDataset/VAT-OCR\\triple_receipt\\label\\train_fail\\photo_20241105091501_9.json\n"
     ]
    },
    {
     "name": "stderr",
     "output_type": "stream",
     "text": [
      "Processing entries:  79%|███████▉  | 1285/1621 [7:17:02<1:30:21, 16.13s/it]"
     ]
    },
    {
     "name": "stdout",
     "output_type": "stream",
     "text": [
      "[FAIL] photo_20241105093319_1.json -> C:/Users/user/pythonproject/AllDataset/VAT-OCR\\triple_receipt\\label\\train_fail\\photo_20241105093319_1.json\n"
     ]
    },
    {
     "name": "stderr",
     "output_type": "stream",
     "text": [
      "Processing entries:  79%|███████▉  | 1286/1621 [7:17:19<1:30:45, 16.26s/it]"
     ]
    },
    {
     "name": "stdout",
     "output_type": "stream",
     "text": [
      "[FAIL] photo_20241105093319_11.json -> C:/Users/user/pythonproject/AllDataset/VAT-OCR\\triple_receipt\\label\\train_fail\\photo_20241105093319_11.json\n"
     ]
    },
    {
     "name": "stderr",
     "output_type": "stream",
     "text": [
      "Processing entries:  79%|███████▉  | 1287/1621 [7:17:38<1:36:13, 17.29s/it]"
     ]
    },
    {
     "name": "stdout",
     "output_type": "stream",
     "text": [
      "[FAIL] photo_20241105093319_12.json -> C:/Users/user/pythonproject/AllDataset/VAT-OCR\\triple_receipt\\label\\train_fail\\photo_20241105093319_12.json\n"
     ]
    },
    {
     "name": "stderr",
     "output_type": "stream",
     "text": [
      "Processing entries:  79%|███████▉  | 1288/1621 [7:17:57<1:38:33, 17.76s/it]"
     ]
    },
    {
     "name": "stdout",
     "output_type": "stream",
     "text": [
      "[FAIL] photo_20241105093319_2.json -> C:/Users/user/pythonproject/AllDataset/VAT-OCR\\triple_receipt\\label\\train_fail\\photo_20241105093319_2.json\n"
     ]
    },
    {
     "name": "stderr",
     "output_type": "stream",
     "text": [
      "Processing entries:  80%|███████▉  | 1289/1621 [7:18:20<1:47:12, 19.37s/it]"
     ]
    },
    {
     "name": "stdout",
     "output_type": "stream",
     "text": [
      "[FAIL] photo_20241105093319_3.json -> C:/Users/user/pythonproject/AllDataset/VAT-OCR\\triple_receipt\\label\\train_fail\\photo_20241105093319_3.json\n"
     ]
    },
    {
     "name": "stderr",
     "output_type": "stream",
     "text": [
      "Processing entries:  80%|███████▉  | 1290/1621 [7:18:46<1:56:57, 21.20s/it]"
     ]
    },
    {
     "name": "stdout",
     "output_type": "stream",
     "text": [
      "[FAIL] photo_20241105093319_4.json -> C:/Users/user/pythonproject/AllDataset/VAT-OCR\\triple_receipt\\label\\train_fail\\photo_20241105093319_4.json\n"
     ]
    },
    {
     "name": "stderr",
     "output_type": "stream",
     "text": [
      "Processing entries:  80%|███████▉  | 1291/1621 [7:19:05<1:53:13, 20.59s/it]"
     ]
    },
    {
     "name": "stdout",
     "output_type": "stream",
     "text": [
      "[OK] photo_20241105093319_5.json -> C:/Users/user/pythonproject/AllDataset/VAT-OCR\\triple_receipt\\label\\train_new\\photo_20241105093319_5.json\n"
     ]
    },
    {
     "name": "stderr",
     "output_type": "stream",
     "text": [
      "Processing entries:  80%|███████▉  | 1292/1621 [7:19:26<1:54:16, 20.84s/it]"
     ]
    },
    {
     "name": "stdout",
     "output_type": "stream",
     "text": [
      "[FAIL] photo_20241105093319_6.json -> C:/Users/user/pythonproject/AllDataset/VAT-OCR\\triple_receipt\\label\\train_fail\\photo_20241105093319_6.json\n"
     ]
    },
    {
     "name": "stderr",
     "output_type": "stream",
     "text": [
      "Processing entries:  80%|███████▉  | 1293/1621 [7:19:50<1:57:49, 21.55s/it]"
     ]
    },
    {
     "name": "stdout",
     "output_type": "stream",
     "text": [
      "[OK] photo_20241105093319_7.json -> C:/Users/user/pythonproject/AllDataset/VAT-OCR\\triple_receipt\\label\\train_new\\photo_20241105093319_7.json\n"
     ]
    },
    {
     "name": "stderr",
     "output_type": "stream",
     "text": [
      "Processing entries:  80%|███████▉  | 1294/1621 [7:20:20<2:12:10, 24.25s/it]"
     ]
    },
    {
     "name": "stdout",
     "output_type": "stream",
     "text": [
      "[FAIL] photo_20241105093319_8.json -> C:/Users/user/pythonproject/AllDataset/VAT-OCR\\triple_receipt\\label\\train_fail\\photo_20241105093319_8.json\n"
     ]
    },
    {
     "name": "stderr",
     "output_type": "stream",
     "text": [
      "Processing entries:  80%|███████▉  | 1295/1621 [7:20:49<2:18:32, 25.50s/it]"
     ]
    },
    {
     "name": "stdout",
     "output_type": "stream",
     "text": [
      "[OK] photo_20241105093319_9.json -> C:/Users/user/pythonproject/AllDataset/VAT-OCR\\triple_receipt\\label\\train_new\\photo_20241105093319_9.json\n"
     ]
    },
    {
     "name": "stderr",
     "output_type": "stream",
     "text": [
      "Processing entries:  80%|███████▉  | 1296/1621 [7:21:07<2:07:01, 23.45s/it]"
     ]
    },
    {
     "name": "stdout",
     "output_type": "stream",
     "text": [
      "[FAIL] photo_20241105094948_1.json -> C:/Users/user/pythonproject/AllDataset/VAT-OCR\\triple_receipt\\label\\train_fail\\photo_20241105094948_1.json\n"
     ]
    },
    {
     "name": "stderr",
     "output_type": "stream",
     "text": [
      "Processing entries:  80%|████████  | 1297/1621 [7:21:30<2:05:36, 23.26s/it]"
     ]
    },
    {
     "name": "stdout",
     "output_type": "stream",
     "text": [
      "[OK] photo_20241105095810_1.json -> C:/Users/user/pythonproject/AllDataset/VAT-OCR\\triple_receipt\\label\\train_new\\photo_20241105095810_1.json\n"
     ]
    },
    {
     "name": "stderr",
     "output_type": "stream",
     "text": [
      "Processing entries:  80%|████████  | 1298/1621 [7:21:51<2:02:10, 22.70s/it]"
     ]
    },
    {
     "name": "stdout",
     "output_type": "stream",
     "text": [
      "[FAIL] photo_20241105095810_10.json -> C:/Users/user/pythonproject/AllDataset/VAT-OCR\\triple_receipt\\label\\train_fail\\photo_20241105095810_10.json\n"
     ]
    },
    {
     "name": "stderr",
     "output_type": "stream",
     "text": [
      "Processing entries:  80%|████████  | 1299/1621 [7:22:10<1:54:34, 21.35s/it]"
     ]
    },
    {
     "name": "stdout",
     "output_type": "stream",
     "text": [
      "[FAIL] photo_20241105095810_11.json -> C:/Users/user/pythonproject/AllDataset/VAT-OCR\\triple_receipt\\label\\train_fail\\photo_20241105095810_11.json\n"
     ]
    },
    {
     "name": "stderr",
     "output_type": "stream",
     "text": [
      "Processing entries:  80%|████████  | 1300/1621 [7:22:25<1:44:04, 19.45s/it]"
     ]
    },
    {
     "name": "stdout",
     "output_type": "stream",
     "text": [
      "[OK] photo_20241105095810_12.json -> C:/Users/user/pythonproject/AllDataset/VAT-OCR\\triple_receipt\\label\\train_new\\photo_20241105095810_12.json\n"
     ]
    },
    {
     "name": "stderr",
     "output_type": "stream",
     "text": [
      "Processing entries:  80%|████████  | 1301/1621 [7:22:53<1:57:37, 22.05s/it]"
     ]
    },
    {
     "name": "stdout",
     "output_type": "stream",
     "text": [
      "[FAIL] photo_20241105095810_2.json -> C:/Users/user/pythonproject/AllDataset/VAT-OCR\\triple_receipt\\label\\train_fail\\photo_20241105095810_2.json\n"
     ]
    },
    {
     "name": "stderr",
     "output_type": "stream",
     "text": [
      "Processing entries:  80%|████████  | 1302/1621 [7:23:21<2:06:55, 23.87s/it]"
     ]
    },
    {
     "name": "stdout",
     "output_type": "stream",
     "text": [
      "[FAIL] photo_20241105095810_3.json -> C:/Users/user/pythonproject/AllDataset/VAT-OCR\\triple_receipt\\label\\train_fail\\photo_20241105095810_3.json\n"
     ]
    },
    {
     "name": "stderr",
     "output_type": "stream",
     "text": [
      "Processing entries:  80%|████████  | 1303/1621 [7:23:48<2:11:02, 24.73s/it]"
     ]
    },
    {
     "name": "stdout",
     "output_type": "stream",
     "text": [
      "[OK] photo_20241105095810_4.json -> C:/Users/user/pythonproject/AllDataset/VAT-OCR\\triple_receipt\\label\\train_new\\photo_20241105095810_4.json\n"
     ]
    },
    {
     "name": "stderr",
     "output_type": "stream",
     "text": [
      "Processing entries:  80%|████████  | 1304/1621 [7:24:18<2:18:49, 26.28s/it]"
     ]
    },
    {
     "name": "stdout",
     "output_type": "stream",
     "text": [
      "[FAIL] photo_20241105095810_5.json -> C:/Users/user/pythonproject/AllDataset/VAT-OCR\\triple_receipt\\label\\train_fail\\photo_20241105095810_5.json\n"
     ]
    },
    {
     "name": "stderr",
     "output_type": "stream",
     "text": [
      "Processing entries:  81%|████████  | 1305/1621 [7:24:39<2:10:54, 24.85s/it]"
     ]
    },
    {
     "name": "stdout",
     "output_type": "stream",
     "text": [
      "[FAIL] photo_20241105095810_6.json -> C:/Users/user/pythonproject/AllDataset/VAT-OCR\\triple_receipt\\label\\train_fail\\photo_20241105095810_6.json\n"
     ]
    },
    {
     "name": "stderr",
     "output_type": "stream",
     "text": [
      "Processing entries:  81%|████████  | 1306/1621 [7:24:59<2:03:12, 23.47s/it]"
     ]
    },
    {
     "name": "stdout",
     "output_type": "stream",
     "text": [
      "[FAIL] photo_20241105095810_7.json -> C:/Users/user/pythonproject/AllDataset/VAT-OCR\\triple_receipt\\label\\train_fail\\photo_20241105095810_7.json\n"
     ]
    },
    {
     "name": "stderr",
     "output_type": "stream",
     "text": [
      "Processing entries:  81%|████████  | 1307/1621 [7:25:15<1:49:58, 21.01s/it]"
     ]
    },
    {
     "name": "stdout",
     "output_type": "stream",
     "text": [
      "[FAIL] photo_20241105095810_8.json -> C:/Users/user/pythonproject/AllDataset/VAT-OCR\\triple_receipt\\label\\train_fail\\photo_20241105095810_8.json\n"
     ]
    },
    {
     "name": "stderr",
     "output_type": "stream",
     "text": [
      "Processing entries:  81%|████████  | 1308/1621 [7:25:30<1:40:40, 19.30s/it]"
     ]
    },
    {
     "name": "stdout",
     "output_type": "stream",
     "text": [
      "[FAIL] photo_20241105095810_9.json -> C:/Users/user/pythonproject/AllDataset/VAT-OCR\\triple_receipt\\label\\train_fail\\photo_20241105095810_9.json\n"
     ]
    },
    {
     "name": "stderr",
     "output_type": "stream",
     "text": [
      "Processing entries:  81%|████████  | 1309/1621 [7:25:50<1:41:19, 19.48s/it]"
     ]
    },
    {
     "name": "stdout",
     "output_type": "stream",
     "text": [
      "[OK] photo_20241105144147_1.json -> C:/Users/user/pythonproject/AllDataset/VAT-OCR\\triple_receipt\\label\\train_new\\photo_20241105144147_1.json\n"
     ]
    },
    {
     "name": "stderr",
     "output_type": "stream",
     "text": [
      "Processing entries:  81%|████████  | 1310/1621 [7:26:10<1:42:15, 19.73s/it]"
     ]
    },
    {
     "name": "stdout",
     "output_type": "stream",
     "text": [
      "[OK] photo_20241105144147_10.json -> C:/Users/user/pythonproject/AllDataset/VAT-OCR\\triple_receipt\\label\\train_new\\photo_20241105144147_10.json\n"
     ]
    },
    {
     "name": "stderr",
     "output_type": "stream",
     "text": [
      "Processing entries:  81%|████████  | 1311/1621 [7:26:29<1:39:53, 19.33s/it]"
     ]
    },
    {
     "name": "stdout",
     "output_type": "stream",
     "text": [
      "[OK] photo_20241105144147_11.json -> C:/Users/user/pythonproject/AllDataset/VAT-OCR\\triple_receipt\\label\\train_new\\photo_20241105144147_11.json\n"
     ]
    },
    {
     "name": "stderr",
     "output_type": "stream",
     "text": [
      "Processing entries:  81%|████████  | 1312/1621 [7:26:45<1:35:38, 18.57s/it]"
     ]
    },
    {
     "name": "stdout",
     "output_type": "stream",
     "text": [
      "[FAIL] photo_20241105144147_2.json -> C:/Users/user/pythonproject/AllDataset/VAT-OCR\\triple_receipt\\label\\train_fail\\photo_20241105144147_2.json\n"
     ]
    },
    {
     "name": "stderr",
     "output_type": "stream",
     "text": [
      "Processing entries:  81%|████████  | 1313/1621 [7:27:03<1:34:25, 18.39s/it]"
     ]
    },
    {
     "name": "stdout",
     "output_type": "stream",
     "text": [
      "[FAIL] photo_20241105144147_3.json -> C:/Users/user/pythonproject/AllDataset/VAT-OCR\\triple_receipt\\label\\train_fail\\photo_20241105144147_3.json\n"
     ]
    },
    {
     "name": "stderr",
     "output_type": "stream",
     "text": [
      "Processing entries:  81%|████████  | 1314/1621 [7:27:20<1:30:55, 17.77s/it]"
     ]
    },
    {
     "name": "stdout",
     "output_type": "stream",
     "text": [
      "[FAIL] photo_20241105144147_4.json -> C:/Users/user/pythonproject/AllDataset/VAT-OCR\\triple_receipt\\label\\train_fail\\photo_20241105144147_4.json\n"
     ]
    },
    {
     "name": "stderr",
     "output_type": "stream",
     "text": [
      "Processing entries:  81%|████████  | 1315/1621 [7:27:37<1:30:38, 17.77s/it]"
     ]
    },
    {
     "name": "stdout",
     "output_type": "stream",
     "text": [
      "[FAIL] photo_20241105144147_5.json -> C:/Users/user/pythonproject/AllDataset/VAT-OCR\\triple_receipt\\label\\train_fail\\photo_20241105144147_5.json\n"
     ]
    },
    {
     "name": "stderr",
     "output_type": "stream",
     "text": [
      "Processing entries:  81%|████████  | 1316/1621 [7:27:58<1:34:19, 18.56s/it]"
     ]
    },
    {
     "name": "stdout",
     "output_type": "stream",
     "text": [
      "[FAIL] photo_20241105144147_6.json -> C:/Users/user/pythonproject/AllDataset/VAT-OCR\\triple_receipt\\label\\train_fail\\photo_20241105144147_6.json\n"
     ]
    },
    {
     "name": "stderr",
     "output_type": "stream",
     "text": [
      "Processing entries:  81%|████████  | 1317/1621 [7:28:17<1:35:23, 18.83s/it]"
     ]
    },
    {
     "name": "stdout",
     "output_type": "stream",
     "text": [
      "[OK] photo_20241105144147_7.json -> C:/Users/user/pythonproject/AllDataset/VAT-OCR\\triple_receipt\\label\\train_new\\photo_20241105144147_7.json\n"
     ]
    },
    {
     "name": "stderr",
     "output_type": "stream",
     "text": [
      "Processing entries:  81%|████████▏ | 1318/1621 [7:28:35<1:33:26, 18.50s/it]"
     ]
    },
    {
     "name": "stdout",
     "output_type": "stream",
     "text": [
      "[OK] photo_20241105144147_8.json -> C:/Users/user/pythonproject/AllDataset/VAT-OCR\\triple_receipt\\label\\train_new\\photo_20241105144147_8.json\n"
     ]
    },
    {
     "name": "stderr",
     "output_type": "stream",
     "text": [
      "Processing entries:  81%|████████▏ | 1319/1621 [7:28:58<1:39:31, 19.77s/it]"
     ]
    },
    {
     "name": "stdout",
     "output_type": "stream",
     "text": [
      "[OK] photo_20241105144147_9.json -> C:/Users/user/pythonproject/AllDataset/VAT-OCR\\triple_receipt\\label\\train_new\\photo_20241105144147_9.json\n"
     ]
    },
    {
     "name": "stderr",
     "output_type": "stream",
     "text": [
      "Processing entries:  81%|████████▏ | 1320/1621 [7:29:18<1:40:19, 20.00s/it]"
     ]
    },
    {
     "name": "stdout",
     "output_type": "stream",
     "text": [
      "[FAIL] photo_20241105145526_1.json -> C:/Users/user/pythonproject/AllDataset/VAT-OCR\\triple_receipt\\label\\train_fail\\photo_20241105145526_1.json\n"
     ]
    },
    {
     "name": "stderr",
     "output_type": "stream",
     "text": [
      "Processing entries:  81%|████████▏ | 1321/1621 [7:29:37<1:38:07, 19.63s/it]"
     ]
    },
    {
     "name": "stdout",
     "output_type": "stream",
     "text": [
      "[FAIL] photo_20241105145526_10.json -> C:/Users/user/pythonproject/AllDataset/VAT-OCR\\triple_receipt\\label\\train_fail\\photo_20241105145526_10.json\n"
     ]
    },
    {
     "name": "stderr",
     "output_type": "stream",
     "text": [
      "Processing entries:  82%|████████▏ | 1322/1621 [7:29:57<1:37:47, 19.62s/it]"
     ]
    },
    {
     "name": "stdout",
     "output_type": "stream",
     "text": [
      "[OK] photo_20241105145526_2.json -> C:/Users/user/pythonproject/AllDataset/VAT-OCR\\triple_receipt\\label\\train_new\\photo_20241105145526_2.json\n"
     ]
    },
    {
     "name": "stderr",
     "output_type": "stream",
     "text": [
      "Processing entries:  82%|████████▏ | 1323/1621 [7:30:19<1:41:56, 20.52s/it]"
     ]
    },
    {
     "name": "stdout",
     "output_type": "stream",
     "text": [
      "[OK] photo_20241105145526_3.json -> C:/Users/user/pythonproject/AllDataset/VAT-OCR\\triple_receipt\\label\\train_new\\photo_20241105145526_3.json\n"
     ]
    },
    {
     "name": "stderr",
     "output_type": "stream",
     "text": [
      "Processing entries:  82%|████████▏ | 1324/1621 [7:30:39<1:40:28, 20.30s/it]"
     ]
    },
    {
     "name": "stdout",
     "output_type": "stream",
     "text": [
      "[OK] photo_20241105145526_4.json -> C:/Users/user/pythonproject/AllDataset/VAT-OCR\\triple_receipt\\label\\train_new\\photo_20241105145526_4.json\n"
     ]
    },
    {
     "name": "stderr",
     "output_type": "stream",
     "text": [
      "Processing entries:  82%|████████▏ | 1325/1621 [7:30:56<1:34:55, 19.24s/it]"
     ]
    },
    {
     "name": "stdout",
     "output_type": "stream",
     "text": [
      "[OK] photo_20241105145526_5.json -> C:/Users/user/pythonproject/AllDataset/VAT-OCR\\triple_receipt\\label\\train_new\\photo_20241105145526_5.json\n"
     ]
    },
    {
     "name": "stderr",
     "output_type": "stream",
     "text": [
      "Processing entries:  82%|████████▏ | 1326/1621 [7:31:13<1:31:42, 18.65s/it]"
     ]
    },
    {
     "name": "stdout",
     "output_type": "stream",
     "text": [
      "[FAIL] photo_20241105145526_6.json -> C:/Users/user/pythonproject/AllDataset/VAT-OCR\\triple_receipt\\label\\train_fail\\photo_20241105145526_6.json\n"
     ]
    },
    {
     "name": "stderr",
     "output_type": "stream",
     "text": [
      "Processing entries:  82%|████████▏ | 1327/1621 [7:32:24<2:47:57, 34.28s/it]"
     ]
    },
    {
     "name": "stdout",
     "output_type": "stream",
     "text": [
      "[FAIL] photo_20241105145526_7.json -> C:/Users/user/pythonproject/AllDataset/VAT-OCR\\triple_receipt\\label\\train_fail\\photo_20241105145526_7.json\n"
     ]
    },
    {
     "name": "stderr",
     "output_type": "stream",
     "text": [
      "Processing entries:  82%|████████▏ | 1328/1621 [7:33:37<3:44:08, 45.90s/it]"
     ]
    },
    {
     "name": "stdout",
     "output_type": "stream",
     "text": [
      "[FAIL] photo_20241105145526_8.json -> C:/Users/user/pythonproject/AllDataset/VAT-OCR\\triple_receipt\\label\\train_fail\\photo_20241105145526_8.json\n"
     ]
    },
    {
     "name": "stderr",
     "output_type": "stream",
     "text": [
      "Processing entries:  82%|████████▏ | 1329/1621 [7:34:07<3:21:00, 41.30s/it]"
     ]
    },
    {
     "name": "stdout",
     "output_type": "stream",
     "text": [
      "[FAIL] photo_20241105145526_9.json -> C:/Users/user/pythonproject/AllDataset/VAT-OCR\\triple_receipt\\label\\train_fail\\photo_20241105145526_9.json\n"
     ]
    },
    {
     "name": "stderr",
     "output_type": "stream",
     "text": [
      "Processing entries:  82%|████████▏ | 1330/1621 [7:34:22<2:41:34, 33.31s/it]"
     ]
    },
    {
     "name": "stdout",
     "output_type": "stream",
     "text": [
      "[OK] photo_20250317135357_1.json -> C:/Users/user/pythonproject/AllDataset/VAT-OCR\\triple_receipt\\label\\train_new\\photo_20250317135357_1.json\n"
     ]
    },
    {
     "name": "stderr",
     "output_type": "stream",
     "text": [
      "Processing entries:  82%|████████▏ | 1331/1621 [7:34:36<2:12:52, 27.49s/it]"
     ]
    },
    {
     "name": "stdout",
     "output_type": "stream",
     "text": [
      "[FAIL] photo_20250317135357_10.json -> C:/Users/user/pythonproject/AllDataset/VAT-OCR\\triple_receipt\\label\\train_fail\\photo_20250317135357_10.json\n"
     ]
    },
    {
     "name": "stderr",
     "output_type": "stream",
     "text": [
      "Processing entries:  82%|████████▏ | 1332/1621 [7:34:57<2:03:23, 25.62s/it]"
     ]
    },
    {
     "name": "stdout",
     "output_type": "stream",
     "text": [
      "[FAIL] photo_20250317135357_11.json -> C:/Users/user/pythonproject/AllDataset/VAT-OCR\\triple_receipt\\label\\train_fail\\photo_20250317135357_11.json\n"
     ]
    },
    {
     "name": "stderr",
     "output_type": "stream",
     "text": [
      "Processing entries:  82%|████████▏ | 1333/1621 [7:35:14<1:50:20, 22.99s/it]"
     ]
    },
    {
     "name": "stdout",
     "output_type": "stream",
     "text": [
      "[OK] photo_20250317135357_12.json -> C:/Users/user/pythonproject/AllDataset/VAT-OCR\\triple_receipt\\label\\train_new\\photo_20250317135357_12.json\n"
     ]
    },
    {
     "name": "stderr",
     "output_type": "stream",
     "text": [
      "Processing entries:  82%|████████▏ | 1334/1621 [7:35:35<1:46:55, 22.35s/it]"
     ]
    },
    {
     "name": "stdout",
     "output_type": "stream",
     "text": [
      "[FAIL] photo_20250317135357_13.json -> C:/Users/user/pythonproject/AllDataset/VAT-OCR\\triple_receipt\\label\\train_fail\\photo_20250317135357_13.json\n"
     ]
    },
    {
     "name": "stderr",
     "output_type": "stream",
     "text": [
      "Processing entries:  82%|████████▏ | 1335/1621 [7:35:55<1:43:56, 21.80s/it]"
     ]
    },
    {
     "name": "stdout",
     "output_type": "stream",
     "text": [
      "[OK] photo_20250317135357_14.json -> C:/Users/user/pythonproject/AllDataset/VAT-OCR\\triple_receipt\\label\\train_new\\photo_20250317135357_14.json\n"
     ]
    },
    {
     "name": "stderr",
     "output_type": "stream",
     "text": [
      "Processing entries:  82%|████████▏ | 1336/1621 [7:36:13<1:36:54, 20.40s/it]"
     ]
    },
    {
     "name": "stdout",
     "output_type": "stream",
     "text": [
      "[OK] photo_20250317135357_15.json -> C:/Users/user/pythonproject/AllDataset/VAT-OCR\\triple_receipt\\label\\train_new\\photo_20250317135357_15.json\n"
     ]
    },
    {
     "name": "stderr",
     "output_type": "stream",
     "text": [
      "Processing entries:  82%|████████▏ | 1337/1621 [7:36:36<1:41:27, 21.43s/it]"
     ]
    },
    {
     "name": "stdout",
     "output_type": "stream",
     "text": [
      "[FAIL] photo_20250317135357_16.json -> C:/Users/user/pythonproject/AllDataset/VAT-OCR\\triple_receipt\\label\\train_fail\\photo_20250317135357_16.json\n"
     ]
    },
    {
     "name": "stderr",
     "output_type": "stream",
     "text": [
      "Processing entries:  83%|████████▎ | 1338/1621 [7:37:00<1:44:39, 22.19s/it]"
     ]
    },
    {
     "name": "stdout",
     "output_type": "stream",
     "text": [
      "[FAIL] photo_20250317135357_17.json -> C:/Users/user/pythonproject/AllDataset/VAT-OCR\\triple_receipt\\label\\train_fail\\photo_20250317135357_17.json\n"
     ]
    },
    {
     "name": "stderr",
     "output_type": "stream",
     "text": [
      "Processing entries:  83%|████████▎ | 1339/1621 [7:37:22<1:43:50, 22.09s/it]"
     ]
    },
    {
     "name": "stdout",
     "output_type": "stream",
     "text": [
      "[FAIL] photo_20250317135357_18.json -> C:/Users/user/pythonproject/AllDataset/VAT-OCR\\triple_receipt\\label\\train_fail\\photo_20250317135357_18.json\n"
     ]
    },
    {
     "name": "stderr",
     "output_type": "stream",
     "text": [
      "Processing entries:  83%|████████▎ | 1340/1621 [7:37:39<1:35:22, 20.36s/it]"
     ]
    },
    {
     "name": "stdout",
     "output_type": "stream",
     "text": [
      "[FAIL] photo_20250317135357_19.json -> C:/Users/user/pythonproject/AllDataset/VAT-OCR\\triple_receipt\\label\\train_fail\\photo_20250317135357_19.json\n"
     ]
    },
    {
     "name": "stderr",
     "output_type": "stream",
     "text": [
      "Processing entries:  83%|████████▎ | 1341/1621 [7:37:57<1:32:04, 19.73s/it]"
     ]
    },
    {
     "name": "stdout",
     "output_type": "stream",
     "text": [
      "[FAIL] photo_20250317135357_2.json -> C:/Users/user/pythonproject/AllDataset/VAT-OCR\\triple_receipt\\label\\train_fail\\photo_20250317135357_2.json\n"
     ]
    },
    {
     "name": "stderr",
     "output_type": "stream",
     "text": [
      "Processing entries:  83%|████████▎ | 1342/1621 [7:38:12<1:25:21, 18.36s/it]"
     ]
    },
    {
     "name": "stdout",
     "output_type": "stream",
     "text": [
      "[FAIL] photo_20250317135357_20.json -> C:/Users/user/pythonproject/AllDataset/VAT-OCR\\triple_receipt\\label\\train_fail\\photo_20250317135357_20.json\n"
     ]
    },
    {
     "name": "stderr",
     "output_type": "stream",
     "text": [
      "Processing entries:  83%|████████▎ | 1343/1621 [7:38:29<1:22:46, 17.86s/it]"
     ]
    },
    {
     "name": "stdout",
     "output_type": "stream",
     "text": [
      "[FAIL] photo_20250317135357_21.json -> C:/Users/user/pythonproject/AllDataset/VAT-OCR\\triple_receipt\\label\\train_fail\\photo_20250317135357_21.json\n"
     ]
    },
    {
     "name": "stderr",
     "output_type": "stream",
     "text": [
      "Processing entries:  83%|████████▎ | 1344/1621 [7:38:39<1:12:14, 15.65s/it]"
     ]
    },
    {
     "name": "stdout",
     "output_type": "stream",
     "text": [
      "[FAIL] photo_20250317135357_22.json -> C:/Users/user/pythonproject/AllDataset/VAT-OCR\\triple_receipt\\label\\train_fail\\photo_20250317135357_22.json\n"
     ]
    },
    {
     "name": "stderr",
     "output_type": "stream",
     "text": [
      "Processing entries:  83%|████████▎ | 1345/1621 [7:38:50<1:05:52, 14.32s/it]"
     ]
    },
    {
     "name": "stdout",
     "output_type": "stream",
     "text": [
      "[FAIL] photo_20250317135357_23.json -> C:/Users/user/pythonproject/AllDataset/VAT-OCR\\triple_receipt\\label\\train_fail\\photo_20250317135357_23.json\n"
     ]
    },
    {
     "name": "stderr",
     "output_type": "stream",
     "text": [
      "Processing entries:  83%|████████▎ | 1346/1621 [7:39:08<1:09:40, 15.20s/it]"
     ]
    },
    {
     "name": "stdout",
     "output_type": "stream",
     "text": [
      "[FAIL] photo_20250317135357_3.json -> C:/Users/user/pythonproject/AllDataset/VAT-OCR\\triple_receipt\\label\\train_fail\\photo_20250317135357_3.json\n"
     ]
    },
    {
     "name": "stderr",
     "output_type": "stream",
     "text": [
      "Processing entries:  83%|████████▎ | 1347/1621 [7:39:24<1:11:02, 15.56s/it]"
     ]
    },
    {
     "name": "stdout",
     "output_type": "stream",
     "text": [
      "[OK] photo_20250317135357_4.json -> C:/Users/user/pythonproject/AllDataset/VAT-OCR\\triple_receipt\\label\\train_new\\photo_20250317135357_4.json\n"
     ]
    },
    {
     "name": "stderr",
     "output_type": "stream",
     "text": [
      "Processing entries:  83%|████████▎ | 1348/1621 [7:39:38<1:08:57, 15.16s/it]"
     ]
    },
    {
     "name": "stdout",
     "output_type": "stream",
     "text": [
      "[FAIL] photo_20250317135357_5.json -> C:/Users/user/pythonproject/AllDataset/VAT-OCR\\triple_receipt\\label\\train_fail\\photo_20250317135357_5.json\n"
     ]
    },
    {
     "name": "stderr",
     "output_type": "stream",
     "text": [
      "Processing entries:  83%|████████▎ | 1349/1621 [7:40:00<1:18:09, 17.24s/it]"
     ]
    },
    {
     "name": "stdout",
     "output_type": "stream",
     "text": [
      "[OK] photo_20250317135357_6.json -> C:/Users/user/pythonproject/AllDataset/VAT-OCR\\triple_receipt\\label\\train_new\\photo_20250317135357_6.json\n"
     ]
    },
    {
     "name": "stderr",
     "output_type": "stream",
     "text": [
      "Processing entries:  83%|████████▎ | 1350/1621 [7:40:15<1:14:05, 16.40s/it]"
     ]
    },
    {
     "name": "stdout",
     "output_type": "stream",
     "text": [
      "[FAIL] photo_20250317135357_7.json -> C:/Users/user/pythonproject/AllDataset/VAT-OCR\\triple_receipt\\label\\train_fail\\photo_20250317135357_7.json\n"
     ]
    },
    {
     "name": "stderr",
     "output_type": "stream",
     "text": [
      "Processing entries:  83%|████████▎ | 1351/1621 [7:40:36<1:20:47, 17.95s/it]"
     ]
    },
    {
     "name": "stdout",
     "output_type": "stream",
     "text": [
      "[FAIL] photo_20250317135357_8.json -> C:/Users/user/pythonproject/AllDataset/VAT-OCR\\triple_receipt\\label\\train_fail\\photo_20250317135357_8.json\n"
     ]
    },
    {
     "name": "stderr",
     "output_type": "stream",
     "text": [
      "Processing entries:  83%|████████▎ | 1352/1621 [7:40:54<1:19:47, 17.80s/it]"
     ]
    },
    {
     "name": "stdout",
     "output_type": "stream",
     "text": [
      "[FAIL] photo_20250317135357_9.json -> C:/Users/user/pythonproject/AllDataset/VAT-OCR\\triple_receipt\\label\\train_fail\\photo_20250317135357_9.json\n"
     ]
    },
    {
     "name": "stderr",
     "output_type": "stream",
     "text": [
      "Processing entries:  83%|████████▎ | 1353/1621 [7:41:07<1:13:54, 16.55s/it]"
     ]
    },
    {
     "name": "stdout",
     "output_type": "stream",
     "text": [
      "[FAIL] photo_20250317145953_1.json -> C:/Users/user/pythonproject/AllDataset/VAT-OCR\\triple_receipt\\label\\train_fail\\photo_20250317145953_1.json\n"
     ]
    },
    {
     "name": "stderr",
     "output_type": "stream",
     "text": [
      "Processing entries:  84%|████████▎ | 1354/1621 [7:41:30<1:22:08, 18.46s/it]"
     ]
    },
    {
     "name": "stdout",
     "output_type": "stream",
     "text": [
      "[OK] photo_20250317145953_10.json -> C:/Users/user/pythonproject/AllDataset/VAT-OCR\\triple_receipt\\label\\train_new\\photo_20250317145953_10.json\n"
     ]
    },
    {
     "name": "stderr",
     "output_type": "stream",
     "text": [
      "Processing entries:  84%|████████▎ | 1355/1621 [7:41:58<1:34:26, 21.30s/it]"
     ]
    },
    {
     "name": "stdout",
     "output_type": "stream",
     "text": [
      "[OK] photo_20250317145953_11.json -> C:/Users/user/pythonproject/AllDataset/VAT-OCR\\triple_receipt\\label\\train_new\\photo_20250317145953_11.json\n"
     ]
    },
    {
     "name": "stderr",
     "output_type": "stream",
     "text": [
      "Processing entries:  84%|████████▎ | 1356/1621 [7:42:21<1:36:17, 21.80s/it]"
     ]
    },
    {
     "name": "stdout",
     "output_type": "stream",
     "text": [
      "[FAIL] photo_20250317145953_12.json -> C:/Users/user/pythonproject/AllDataset/VAT-OCR\\triple_receipt\\label\\train_fail\\photo_20250317145953_12.json\n"
     ]
    },
    {
     "name": "stderr",
     "output_type": "stream",
     "text": [
      "Processing entries:  84%|████████▎ | 1357/1621 [7:42:36<1:26:00, 19.55s/it]"
     ]
    },
    {
     "name": "stdout",
     "output_type": "stream",
     "text": [
      "[FAIL] photo_20250317145953_13.json -> C:/Users/user/pythonproject/AllDataset/VAT-OCR\\triple_receipt\\label\\train_fail\\photo_20250317145953_13.json\n"
     ]
    },
    {
     "name": "stderr",
     "output_type": "stream",
     "text": [
      "Processing entries:  84%|████████▍ | 1358/1621 [7:42:59<1:30:32, 20.65s/it]"
     ]
    },
    {
     "name": "stdout",
     "output_type": "stream",
     "text": [
      "[OK] photo_20250317145953_14.json -> C:/Users/user/pythonproject/AllDataset/VAT-OCR\\triple_receipt\\label\\train_new\\photo_20250317145953_14.json\n"
     ]
    },
    {
     "name": "stderr",
     "output_type": "stream",
     "text": [
      "Processing entries:  84%|████████▍ | 1359/1621 [7:43:25<1:37:02, 22.22s/it]"
     ]
    },
    {
     "name": "stdout",
     "output_type": "stream",
     "text": [
      "[FAIL] photo_20250317145953_15.json -> C:/Users/user/pythonproject/AllDataset/VAT-OCR\\triple_receipt\\label\\train_fail\\photo_20250317145953_15.json\n"
     ]
    },
    {
     "name": "stderr",
     "output_type": "stream",
     "text": [
      "Processing entries:  84%|████████▍ | 1360/1621 [7:43:48<1:38:37, 22.67s/it]"
     ]
    },
    {
     "name": "stdout",
     "output_type": "stream",
     "text": [
      "[FAIL] photo_20250317145953_16.json -> C:/Users/user/pythonproject/AllDataset/VAT-OCR\\triple_receipt\\label\\train_fail\\photo_20250317145953_16.json\n"
     ]
    },
    {
     "name": "stderr",
     "output_type": "stream",
     "text": [
      "Processing entries:  84%|████████▍ | 1361/1621 [7:44:57<2:38:30, 36.58s/it]"
     ]
    },
    {
     "name": "stdout",
     "output_type": "stream",
     "text": [
      "[FAIL] photo_20250317145953_17.json -> C:/Users/user/pythonproject/AllDataset/VAT-OCR\\triple_receipt\\label\\train_fail\\photo_20250317145953_17.json\n"
     ]
    },
    {
     "name": "stderr",
     "output_type": "stream",
     "text": [
      "Processing entries:  84%|████████▍ | 1362/1621 [7:45:17<2:15:58, 31.50s/it]"
     ]
    },
    {
     "name": "stdout",
     "output_type": "stream",
     "text": [
      "[FAIL] photo_20250317145953_18.json -> C:/Users/user/pythonproject/AllDataset/VAT-OCR\\triple_receipt\\label\\train_fail\\photo_20250317145953_18.json\n"
     ]
    },
    {
     "name": "stderr",
     "output_type": "stream",
     "text": [
      "Processing entries:  84%|████████▍ | 1363/1621 [7:45:35<1:58:06, 27.47s/it]"
     ]
    },
    {
     "name": "stdout",
     "output_type": "stream",
     "text": [
      "[FAIL] photo_20250317145953_19.json -> C:/Users/user/pythonproject/AllDataset/VAT-OCR\\triple_receipt\\label\\train_fail\\photo_20250317145953_19.json\n"
     ]
    },
    {
     "name": "stderr",
     "output_type": "stream",
     "text": [
      "Processing entries:  84%|████████▍ | 1364/1621 [7:45:58<1:51:35, 26.05s/it]"
     ]
    },
    {
     "name": "stdout",
     "output_type": "stream",
     "text": [
      "[FAIL] photo_20250317145953_2.json -> C:/Users/user/pythonproject/AllDataset/VAT-OCR\\triple_receipt\\label\\train_fail\\photo_20250317145953_2.json\n"
     ]
    },
    {
     "name": "stderr",
     "output_type": "stream",
     "text": [
      "Processing entries:  84%|████████▍ | 1365/1621 [7:46:23<1:49:27, 25.65s/it]"
     ]
    },
    {
     "name": "stdout",
     "output_type": "stream",
     "text": [
      "[OK] photo_20250317145953_20.json -> C:/Users/user/pythonproject/AllDataset/VAT-OCR\\triple_receipt\\label\\train_new\\photo_20250317145953_20.json\n"
     ]
    },
    {
     "name": "stderr",
     "output_type": "stream",
     "text": [
      "Processing entries:  84%|████████▍ | 1366/1621 [7:46:44<1:44:12, 24.52s/it]"
     ]
    },
    {
     "name": "stdout",
     "output_type": "stream",
     "text": [
      "[FAIL] photo_20250317145953_21.json -> C:/Users/user/pythonproject/AllDataset/VAT-OCR\\triple_receipt\\label\\train_fail\\photo_20250317145953_21.json\n"
     ]
    },
    {
     "name": "stderr",
     "output_type": "stream",
     "text": [
      "Processing entries:  84%|████████▍ | 1367/1621 [7:47:10<1:44:49, 24.76s/it]"
     ]
    },
    {
     "name": "stdout",
     "output_type": "stream",
     "text": [
      "[FAIL] photo_20250317145953_22.json -> C:/Users/user/pythonproject/AllDataset/VAT-OCR\\triple_receipt\\label\\train_fail\\photo_20250317145953_22.json\n"
     ]
    },
    {
     "name": "stderr",
     "output_type": "stream",
     "text": [
      "Processing entries:  84%|████████▍ | 1368/1621 [7:47:27<1:34:43, 22.47s/it]"
     ]
    },
    {
     "name": "stdout",
     "output_type": "stream",
     "text": [
      "[FAIL] photo_20250317145953_23.json -> C:/Users/user/pythonproject/AllDataset/VAT-OCR\\triple_receipt\\label\\train_fail\\photo_20250317145953_23.json\n"
     ]
    },
    {
     "name": "stderr",
     "output_type": "stream",
     "text": [
      "Processing entries:  84%|████████▍ | 1369/1621 [7:47:52<1:37:44, 23.27s/it]"
     ]
    },
    {
     "name": "stdout",
     "output_type": "stream",
     "text": [
      "[FAIL] photo_20250317145953_24.json -> C:/Users/user/pythonproject/AllDataset/VAT-OCR\\triple_receipt\\label\\train_fail\\photo_20250317145953_24.json\n"
     ]
    },
    {
     "name": "stderr",
     "output_type": "stream",
     "text": [
      "Processing entries:  85%|████████▍ | 1370/1621 [7:48:14<1:35:21, 22.80s/it]"
     ]
    },
    {
     "name": "stdout",
     "output_type": "stream",
     "text": [
      "[FAIL] photo_20250317145953_3.json -> C:/Users/user/pythonproject/AllDataset/VAT-OCR\\triple_receipt\\label\\train_fail\\photo_20250317145953_3.json\n"
     ]
    },
    {
     "name": "stderr",
     "output_type": "stream",
     "text": [
      "Processing entries:  85%|████████▍ | 1371/1621 [7:48:29<1:25:17, 20.47s/it]"
     ]
    },
    {
     "name": "stdout",
     "output_type": "stream",
     "text": [
      "[FAIL] photo_20250317145953_4.json -> C:/Users/user/pythonproject/AllDataset/VAT-OCR\\triple_receipt\\label\\train_fail\\photo_20250317145953_4.json\n"
     ]
    },
    {
     "name": "stderr",
     "output_type": "stream",
     "text": [
      "Processing entries:  85%|████████▍ | 1372/1621 [7:48:46<1:21:00, 19.52s/it]"
     ]
    },
    {
     "name": "stdout",
     "output_type": "stream",
     "text": [
      "[FAIL] photo_20250317145953_5.json -> C:/Users/user/pythonproject/AllDataset/VAT-OCR\\triple_receipt\\label\\train_fail\\photo_20250317145953_5.json\n"
     ]
    },
    {
     "name": "stderr",
     "output_type": "stream",
     "text": [
      "Processing entries:  85%|████████▍ | 1373/1621 [7:49:05<1:19:33, 19.25s/it]"
     ]
    },
    {
     "name": "stdout",
     "output_type": "stream",
     "text": [
      "[FAIL] photo_20250317145953_6.json -> C:/Users/user/pythonproject/AllDataset/VAT-OCR\\triple_receipt\\label\\train_fail\\photo_20250317145953_6.json\n"
     ]
    },
    {
     "name": "stderr",
     "output_type": "stream",
     "text": [
      "Processing entries:  85%|████████▍ | 1374/1621 [7:50:20<2:28:30, 36.07s/it]"
     ]
    },
    {
     "name": "stdout",
     "output_type": "stream",
     "text": [
      "[FAIL] photo_20250317145953_7.json -> C:/Users/user/pythonproject/AllDataset/VAT-OCR\\triple_receipt\\label\\train_fail\\photo_20250317145953_7.json\n"
     ]
    },
    {
     "name": "stderr",
     "output_type": "stream",
     "text": [
      "Processing entries:  85%|████████▍ | 1375/1621 [7:50:39<2:06:24, 30.83s/it]"
     ]
    },
    {
     "name": "stdout",
     "output_type": "stream",
     "text": [
      "[FAIL] photo_20250317145953_8.json -> C:/Users/user/pythonproject/AllDataset/VAT-OCR\\triple_receipt\\label\\train_fail\\photo_20250317145953_8.json\n"
     ]
    },
    {
     "name": "stderr",
     "output_type": "stream",
     "text": [
      "Processing entries:  85%|████████▍ | 1376/1621 [7:51:00<1:54:41, 28.09s/it]"
     ]
    },
    {
     "name": "stdout",
     "output_type": "stream",
     "text": [
      "[FAIL] photo_20250317145953_9.json -> C:/Users/user/pythonproject/AllDataset/VAT-OCR\\triple_receipt\\label\\train_fail\\photo_20250317145953_9.json\n"
     ]
    },
    {
     "name": "stderr",
     "output_type": "stream",
     "text": [
      "Processing entries:  85%|████████▍ | 1377/1621 [7:51:27<1:52:13, 27.60s/it]"
     ]
    },
    {
     "name": "stdout",
     "output_type": "stream",
     "text": [
      "[FAIL] photo_20250318020232_1.json -> C:/Users/user/pythonproject/AllDataset/VAT-OCR\\triple_receipt\\label\\train_fail\\photo_20250318020232_1.json\n"
     ]
    },
    {
     "name": "stderr",
     "output_type": "stream",
     "text": [
      "Processing entries:  85%|████████▌ | 1378/1621 [7:51:55<1:52:59, 27.90s/it]"
     ]
    },
    {
     "name": "stdout",
     "output_type": "stream",
     "text": [
      "[FAIL] photo_20250318020232_10.json -> C:/Users/user/pythonproject/AllDataset/VAT-OCR\\triple_receipt\\label\\train_fail\\photo_20250318020232_10.json\n"
     ]
    },
    {
     "name": "stderr",
     "output_type": "stream",
     "text": [
      "Processing entries:  85%|████████▌ | 1379/1621 [7:52:17<1:45:26, 26.14s/it]"
     ]
    },
    {
     "name": "stdout",
     "output_type": "stream",
     "text": [
      "[FAIL] photo_20250318020232_11.json -> C:/Users/user/pythonproject/AllDataset/VAT-OCR\\triple_receipt\\label\\train_fail\\photo_20250318020232_11.json\n"
     ]
    },
    {
     "name": "stderr",
     "output_type": "stream",
     "text": [
      "Processing entries:  85%|████████▌ | 1380/1621 [7:52:30<1:28:34, 22.05s/it]"
     ]
    },
    {
     "name": "stdout",
     "output_type": "stream",
     "text": [
      "[FAIL] photo_20250318020232_12.json -> C:/Users/user/pythonproject/AllDataset/VAT-OCR\\triple_receipt\\label\\train_fail\\photo_20250318020232_12.json\n"
     ]
    },
    {
     "name": "stderr",
     "output_type": "stream",
     "text": [
      "Processing entries:  85%|████████▌ | 1381/1621 [7:52:45<1:19:43, 19.93s/it]"
     ]
    },
    {
     "name": "stdout",
     "output_type": "stream",
     "text": [
      "[FAIL] photo_20250318020232_13.json -> C:/Users/user/pythonproject/AllDataset/VAT-OCR\\triple_receipt\\label\\train_fail\\photo_20250318020232_13.json\n"
     ]
    },
    {
     "name": "stderr",
     "output_type": "stream",
     "text": [
      "Processing entries:  85%|████████▌ | 1382/1621 [7:53:10<1:24:55, 21.32s/it]"
     ]
    },
    {
     "name": "stdout",
     "output_type": "stream",
     "text": [
      "[OK] photo_20250318020232_14.json -> C:/Users/user/pythonproject/AllDataset/VAT-OCR\\triple_receipt\\label\\train_new\\photo_20250318020232_14.json\n"
     ]
    },
    {
     "name": "stderr",
     "output_type": "stream",
     "text": [
      "Processing entries:  85%|████████▌ | 1383/1621 [7:53:34<1:28:19, 22.27s/it]"
     ]
    },
    {
     "name": "stdout",
     "output_type": "stream",
     "text": [
      "[FAIL] photo_20250318020232_15.json -> C:/Users/user/pythonproject/AllDataset/VAT-OCR\\triple_receipt\\label\\train_fail\\photo_20250318020232_15.json\n"
     ]
    },
    {
     "name": "stderr",
     "output_type": "stream",
     "text": [
      "Processing entries:  85%|████████▌ | 1384/1621 [7:53:56<1:27:50, 22.24s/it]"
     ]
    },
    {
     "name": "stdout",
     "output_type": "stream",
     "text": [
      "[OK] photo_20250318020232_16.json -> C:/Users/user/pythonproject/AllDataset/VAT-OCR\\triple_receipt\\label\\train_new\\photo_20250318020232_16.json\n"
     ]
    },
    {
     "name": "stderr",
     "output_type": "stream",
     "text": [
      "Processing entries:  85%|████████▌ | 1385/1621 [7:54:16<1:24:32, 21.49s/it]"
     ]
    },
    {
     "name": "stdout",
     "output_type": "stream",
     "text": [
      "[OK] photo_20250318020232_17.json -> C:/Users/user/pythonproject/AllDataset/VAT-OCR\\triple_receipt\\label\\train_new\\photo_20250318020232_17.json\n"
     ]
    },
    {
     "name": "stderr",
     "output_type": "stream",
     "text": [
      "Processing entries:  86%|████████▌ | 1386/1621 [7:54:39<1:25:31, 21.83s/it]"
     ]
    },
    {
     "name": "stdout",
     "output_type": "stream",
     "text": [
      "[OK] photo_20250318020232_18.json -> C:/Users/user/pythonproject/AllDataset/VAT-OCR\\triple_receipt\\label\\train_new\\photo_20250318020232_18.json\n"
     ]
    },
    {
     "name": "stderr",
     "output_type": "stream",
     "text": [
      "Processing entries:  86%|████████▌ | 1387/1621 [7:55:05<1:30:20, 23.16s/it]"
     ]
    },
    {
     "name": "stdout",
     "output_type": "stream",
     "text": [
      "[OK] photo_20250318020232_19.json -> C:/Users/user/pythonproject/AllDataset/VAT-OCR\\triple_receipt\\label\\train_new\\photo_20250318020232_19.json\n"
     ]
    },
    {
     "name": "stderr",
     "output_type": "stream",
     "text": [
      "Processing entries:  86%|████████▌ | 1388/1621 [7:55:28<1:29:27, 23.04s/it]"
     ]
    },
    {
     "name": "stdout",
     "output_type": "stream",
     "text": [
      "[FAIL] photo_20250318020232_2.json -> C:/Users/user/pythonproject/AllDataset/VAT-OCR\\triple_receipt\\label\\train_fail\\photo_20250318020232_2.json\n"
     ]
    },
    {
     "name": "stderr",
     "output_type": "stream",
     "text": [
      "Processing entries:  86%|████████▌ | 1389/1621 [7:55:53<1:31:58, 23.78s/it]"
     ]
    },
    {
     "name": "stdout",
     "output_type": "stream",
     "text": [
      "[FAIL] photo_20250318020232_20.json -> C:/Users/user/pythonproject/AllDataset/VAT-OCR\\triple_receipt\\label\\train_fail\\photo_20250318020232_20.json\n"
     ]
    },
    {
     "name": "stderr",
     "output_type": "stream",
     "text": [
      "Processing entries:  86%|████████▌ | 1390/1621 [7:56:12<1:25:44, 22.27s/it]"
     ]
    },
    {
     "name": "stdout",
     "output_type": "stream",
     "text": [
      "[FAIL] photo_20250318020232_21.json -> C:/Users/user/pythonproject/AllDataset/VAT-OCR\\triple_receipt\\label\\train_fail\\photo_20250318020232_21.json\n"
     ]
    },
    {
     "name": "stderr",
     "output_type": "stream",
     "text": [
      "Processing entries:  86%|████████▌ | 1391/1621 [7:56:36<1:28:02, 22.97s/it]"
     ]
    },
    {
     "name": "stdout",
     "output_type": "stream",
     "text": [
      "[FAIL] photo_20250318020232_22.json -> C:/Users/user/pythonproject/AllDataset/VAT-OCR\\triple_receipt\\label\\train_fail\\photo_20250318020232_22.json\n"
     ]
    },
    {
     "name": "stderr",
     "output_type": "stream",
     "text": [
      "Processing entries:  86%|████████▌ | 1392/1621 [7:57:04<1:33:31, 24.50s/it]"
     ]
    },
    {
     "name": "stdout",
     "output_type": "stream",
     "text": [
      "[OK] photo_20250318020232_23.json -> C:/Users/user/pythonproject/AllDataset/VAT-OCR\\triple_receipt\\label\\train_new\\photo_20250318020232_23.json\n"
     ]
    },
    {
     "name": "stderr",
     "output_type": "stream",
     "text": [
      "Processing entries:  86%|████████▌ | 1393/1621 [7:58:15<2:25:03, 38.17s/it]"
     ]
    },
    {
     "name": "stdout",
     "output_type": "stream",
     "text": [
      "[FAIL] photo_20250318020232_24.json -> C:/Users/user/pythonproject/AllDataset/VAT-OCR\\triple_receipt\\label\\train_fail\\photo_20250318020232_24.json\n"
     ]
    },
    {
     "name": "stderr",
     "output_type": "stream",
     "text": [
      "Processing entries:  86%|████████▌ | 1394/1621 [7:58:36<2:05:15, 33.11s/it]"
     ]
    },
    {
     "name": "stdout",
     "output_type": "stream",
     "text": [
      "[FAIL] photo_20250318020232_25.json -> C:/Users/user/pythonproject/AllDataset/VAT-OCR\\triple_receipt\\label\\train_fail\\photo_20250318020232_25.json\n"
     ]
    },
    {
     "name": "stderr",
     "output_type": "stream",
     "text": [
      "Processing entries:  86%|████████▌ | 1395/1621 [7:58:56<1:49:51, 29.17s/it]"
     ]
    },
    {
     "name": "stdout",
     "output_type": "stream",
     "text": [
      "[OK] photo_20250318020232_3.json -> C:/Users/user/pythonproject/AllDataset/VAT-OCR\\triple_receipt\\label\\train_new\\photo_20250318020232_3.json\n"
     ]
    },
    {
     "name": "stderr",
     "output_type": "stream",
     "text": [
      "Processing entries:  86%|████████▌ | 1396/1621 [7:59:14<1:36:54, 25.84s/it]"
     ]
    },
    {
     "name": "stdout",
     "output_type": "stream",
     "text": [
      "[OK] photo_20250318020232_4.json -> C:/Users/user/pythonproject/AllDataset/VAT-OCR\\triple_receipt\\label\\train_new\\photo_20250318020232_4.json\n"
     ]
    },
    {
     "name": "stderr",
     "output_type": "stream",
     "text": [
      "Processing entries:  86%|████████▌ | 1397/1621 [7:59:34<1:30:18, 24.19s/it]"
     ]
    },
    {
     "name": "stdout",
     "output_type": "stream",
     "text": [
      "[FAIL] photo_20250318020232_5.json -> C:/Users/user/pythonproject/AllDataset/VAT-OCR\\triple_receipt\\label\\train_fail\\photo_20250318020232_5.json\n"
     ]
    },
    {
     "name": "stderr",
     "output_type": "stream",
     "text": [
      "Processing entries:  86%|████████▌ | 1398/1621 [7:59:50<1:20:36, 21.69s/it]"
     ]
    },
    {
     "name": "stdout",
     "output_type": "stream",
     "text": [
      "[FAIL] photo_20250318020232_6.json -> C:/Users/user/pythonproject/AllDataset/VAT-OCR\\triple_receipt\\label\\train_fail\\photo_20250318020232_6.json\n"
     ]
    },
    {
     "name": "stderr",
     "output_type": "stream",
     "text": [
      "Processing entries:  86%|████████▋ | 1399/1621 [8:00:08<1:15:45, 20.47s/it]"
     ]
    },
    {
     "name": "stdout",
     "output_type": "stream",
     "text": [
      "[OK] photo_20250318020232_7.json -> C:/Users/user/pythonproject/AllDataset/VAT-OCR\\triple_receipt\\label\\train_new\\photo_20250318020232_7.json\n"
     ]
    },
    {
     "name": "stderr",
     "output_type": "stream",
     "text": [
      "Processing entries:  86%|████████▋ | 1400/1621 [8:00:23<1:09:11, 18.78s/it]"
     ]
    },
    {
     "name": "stdout",
     "output_type": "stream",
     "text": [
      "[FAIL] photo_20250318020232_8.json -> C:/Users/user/pythonproject/AllDataset/VAT-OCR\\triple_receipt\\label\\train_fail\\photo_20250318020232_8.json\n"
     ]
    },
    {
     "name": "stderr",
     "output_type": "stream",
     "text": [
      "Processing entries:  86%|████████▋ | 1401/1621 [8:00:38<1:04:50, 17.69s/it]"
     ]
    },
    {
     "name": "stdout",
     "output_type": "stream",
     "text": [
      "[FAIL] photo_20250318020232_9.json -> C:/Users/user/pythonproject/AllDataset/VAT-OCR\\triple_receipt\\label\\train_fail\\photo_20250318020232_9.json\n"
     ]
    },
    {
     "name": "stderr",
     "output_type": "stream",
     "text": [
      "Processing entries:  86%|████████▋ | 1402/1621 [8:00:54<1:03:09, 17.30s/it]"
     ]
    },
    {
     "name": "stdout",
     "output_type": "stream",
     "text": [
      "[FAIL] photo_20250318024100_1.json -> C:/Users/user/pythonproject/AllDataset/VAT-OCR\\triple_receipt\\label\\train_fail\\photo_20250318024100_1.json\n"
     ]
    },
    {
     "name": "stderr",
     "output_type": "stream",
     "text": [
      "Processing entries:  87%|████████▋ | 1403/1621 [8:01:12<1:03:53, 17.58s/it]"
     ]
    },
    {
     "name": "stdout",
     "output_type": "stream",
     "text": [
      "[OK] photo_20250318024100_10.json -> C:/Users/user/pythonproject/AllDataset/VAT-OCR\\triple_receipt\\label\\train_new\\photo_20250318024100_10.json\n"
     ]
    },
    {
     "name": "stderr",
     "output_type": "stream",
     "text": [
      "Processing entries:  87%|████████▋ | 1404/1621 [8:01:32<1:05:28, 18.10s/it]"
     ]
    },
    {
     "name": "stdout",
     "output_type": "stream",
     "text": [
      "[FAIL] photo_20250318024100_11.json -> C:/Users/user/pythonproject/AllDataset/VAT-OCR\\triple_receipt\\label\\train_fail\\photo_20250318024100_11.json\n"
     ]
    },
    {
     "name": "stderr",
     "output_type": "stream",
     "text": [
      "Processing entries:  87%|████████▋ | 1405/1621 [8:01:46<1:00:53, 16.91s/it]"
     ]
    },
    {
     "name": "stdout",
     "output_type": "stream",
     "text": [
      "[FAIL] photo_20250318024100_12.json -> C:/Users/user/pythonproject/AllDataset/VAT-OCR\\triple_receipt\\label\\train_fail\\photo_20250318024100_12.json\n"
     ]
    },
    {
     "name": "stderr",
     "output_type": "stream",
     "text": [
      "Processing entries:  87%|████████▋ | 1406/1621 [8:02:54<1:55:39, 32.28s/it]"
     ]
    },
    {
     "name": "stdout",
     "output_type": "stream",
     "text": [
      "[FAIL] photo_20250318024100_13.json -> C:/Users/user/pythonproject/AllDataset/VAT-OCR\\triple_receipt\\label\\train_fail\\photo_20250318024100_13.json\n"
     ]
    },
    {
     "name": "stderr",
     "output_type": "stream",
     "text": [
      "Processing entries:  87%|████████▋ | 1407/1621 [8:03:09<1:37:14, 27.26s/it]"
     ]
    },
    {
     "name": "stdout",
     "output_type": "stream",
     "text": [
      "[FAIL] photo_20250318024100_14.json -> C:/Users/user/pythonproject/AllDataset/VAT-OCR\\triple_receipt\\label\\train_fail\\photo_20250318024100_14.json\n"
     ]
    },
    {
     "name": "stderr",
     "output_type": "stream",
     "text": [
      "Processing entries:  87%|████████▋ | 1408/1621 [8:03:24<1:23:03, 23.40s/it]"
     ]
    },
    {
     "name": "stdout",
     "output_type": "stream",
     "text": [
      "[FAIL] photo_20250318024100_15.json -> C:/Users/user/pythonproject/AllDataset/VAT-OCR\\triple_receipt\\label\\train_fail\\photo_20250318024100_15.json\n"
     ]
    },
    {
     "name": "stderr",
     "output_type": "stream",
     "text": [
      "Processing entries:  87%|████████▋ | 1409/1621 [8:03:40<1:15:17, 21.31s/it]"
     ]
    },
    {
     "name": "stdout",
     "output_type": "stream",
     "text": [
      "[FAIL] photo_20250318024100_16.json -> C:/Users/user/pythonproject/AllDataset/VAT-OCR\\triple_receipt\\label\\train_fail\\photo_20250318024100_16.json\n"
     ]
    },
    {
     "name": "stderr",
     "output_type": "stream",
     "text": [
      "Processing entries:  87%|████████▋ | 1410/1621 [8:03:58<1:11:13, 20.25s/it]"
     ]
    },
    {
     "name": "stdout",
     "output_type": "stream",
     "text": [
      "[FAIL] photo_20250318024100_17.json -> C:/Users/user/pythonproject/AllDataset/VAT-OCR\\triple_receipt\\label\\train_fail\\photo_20250318024100_17.json\n"
     ]
    },
    {
     "name": "stderr",
     "output_type": "stream",
     "text": [
      "Processing entries:  87%|████████▋ | 1411/1621 [8:04:16<1:07:55, 19.41s/it]"
     ]
    },
    {
     "name": "stdout",
     "output_type": "stream",
     "text": [
      "[FAIL] photo_20250318024100_18.json -> C:/Users/user/pythonproject/AllDataset/VAT-OCR\\triple_receipt\\label\\train_fail\\photo_20250318024100_18.json\n"
     ]
    },
    {
     "name": "stderr",
     "output_type": "stream",
     "text": [
      "Processing entries:  87%|████████▋ | 1412/1621 [8:04:29<1:01:13, 17.58s/it]"
     ]
    },
    {
     "name": "stdout",
     "output_type": "stream",
     "text": [
      "[FAIL] photo_20250318024100_2.json -> C:/Users/user/pythonproject/AllDataset/VAT-OCR\\triple_receipt\\label\\train_fail\\photo_20250318024100_2.json\n"
     ]
    },
    {
     "name": "stderr",
     "output_type": "stream",
     "text": [
      "Processing entries:  87%|████████▋ | 1413/1621 [8:04:53<1:07:26, 19.45s/it]"
     ]
    },
    {
     "name": "stdout",
     "output_type": "stream",
     "text": [
      "[OK] photo_20250318024100_3.json -> C:/Users/user/pythonproject/AllDataset/VAT-OCR\\triple_receipt\\label\\train_new\\photo_20250318024100_3.json\n"
     ]
    },
    {
     "name": "stderr",
     "output_type": "stream",
     "text": [
      "Processing entries:  87%|████████▋ | 1414/1621 [8:05:12<1:06:29, 19.27s/it]"
     ]
    },
    {
     "name": "stdout",
     "output_type": "stream",
     "text": [
      "[FAIL] photo_20250318024100_4.json -> C:/Users/user/pythonproject/AllDataset/VAT-OCR\\triple_receipt\\label\\train_fail\\photo_20250318024100_4.json\n"
     ]
    },
    {
     "name": "stderr",
     "output_type": "stream",
     "text": [
      "Processing entries:  87%|████████▋ | 1415/1621 [8:05:29<1:04:10, 18.69s/it]"
     ]
    },
    {
     "name": "stdout",
     "output_type": "stream",
     "text": [
      "[FAIL] photo_20250318024100_5.json -> C:/Users/user/pythonproject/AllDataset/VAT-OCR\\triple_receipt\\label\\train_fail\\photo_20250318024100_5.json\n"
     ]
    },
    {
     "name": "stderr",
     "output_type": "stream",
     "text": [
      "Processing entries:  87%|████████▋ | 1416/1621 [8:05:46<1:01:55, 18.12s/it]"
     ]
    },
    {
     "name": "stdout",
     "output_type": "stream",
     "text": [
      "[FAIL] photo_20250318024100_6.json -> C:/Users/user/pythonproject/AllDataset/VAT-OCR\\triple_receipt\\label\\train_fail\\photo_20250318024100_6.json\n"
     ]
    },
    {
     "name": "stderr",
     "output_type": "stream",
     "text": [
      "Processing entries:  87%|████████▋ | 1417/1621 [8:06:08<1:06:14, 19.49s/it]"
     ]
    },
    {
     "name": "stdout",
     "output_type": "stream",
     "text": [
      "[FAIL] photo_20250318024100_7.json -> C:/Users/user/pythonproject/AllDataset/VAT-OCR\\triple_receipt\\label\\train_fail\\photo_20250318024100_7.json\n"
     ]
    },
    {
     "name": "stderr",
     "output_type": "stream",
     "text": [
      "Processing entries:  87%|████████▋ | 1418/1621 [8:07:18<1:56:31, 34.44s/it]"
     ]
    },
    {
     "name": "stdout",
     "output_type": "stream",
     "text": [
      "[FAIL] photo_20250318024100_8.json -> C:/Users/user/pythonproject/AllDataset/VAT-OCR\\triple_receipt\\label\\train_fail\\photo_20250318024100_8.json\n"
     ]
    },
    {
     "name": "stderr",
     "output_type": "stream",
     "text": [
      "Processing entries:  88%|████████▊ | 1419/1621 [8:07:32<1:35:43, 28.43s/it]"
     ]
    },
    {
     "name": "stdout",
     "output_type": "stream",
     "text": [
      "[FAIL] photo_20250318024100_9.json -> C:/Users/user/pythonproject/AllDataset/VAT-OCR\\triple_receipt\\label\\train_fail\\photo_20250318024100_9.json\n"
     ]
    },
    {
     "name": "stderr",
     "output_type": "stream",
     "text": [
      "Processing entries:  88%|████████▊ | 1420/1621 [8:07:51<1:25:28, 25.51s/it]"
     ]
    },
    {
     "name": "stdout",
     "output_type": "stream",
     "text": [
      "[OK] photo_20250318033546_1.json -> C:/Users/user/pythonproject/AllDataset/VAT-OCR\\triple_receipt\\label\\train_new\\photo_20250318033546_1.json\n"
     ]
    },
    {
     "name": "stderr",
     "output_type": "stream",
     "text": [
      "Processing entries:  88%|████████▊ | 1421/1621 [8:08:09<1:18:11, 23.46s/it]"
     ]
    },
    {
     "name": "stdout",
     "output_type": "stream",
     "text": [
      "[FAIL] photo_20250318033546_10.json -> C:/Users/user/pythonproject/AllDataset/VAT-OCR\\triple_receipt\\label\\train_fail\\photo_20250318033546_10.json\n"
     ]
    },
    {
     "name": "stderr",
     "output_type": "stream",
     "text": [
      "Processing entries:  88%|████████▊ | 1422/1621 [8:08:21<1:05:59, 19.90s/it]"
     ]
    },
    {
     "name": "stdout",
     "output_type": "stream",
     "text": [
      "[FAIL] photo_20250318033546_11.json -> C:/Users/user/pythonproject/AllDataset/VAT-OCR\\triple_receipt\\label\\train_fail\\photo_20250318033546_11.json\n"
     ]
    },
    {
     "name": "stderr",
     "output_type": "stream",
     "text": [
      "Processing entries:  88%|████████▊ | 1423/1621 [8:08:36<1:00:39, 18.38s/it]"
     ]
    },
    {
     "name": "stdout",
     "output_type": "stream",
     "text": [
      "[FAIL] photo_20250318033546_12.json -> C:/Users/user/pythonproject/AllDataset/VAT-OCR\\triple_receipt\\label\\train_fail\\photo_20250318033546_12.json\n"
     ]
    },
    {
     "name": "stderr",
     "output_type": "stream",
     "text": [
      "Processing entries:  88%|████████▊ | 1424/1621 [8:08:52<58:21, 17.78s/it]  "
     ]
    },
    {
     "name": "stdout",
     "output_type": "stream",
     "text": [
      "[FAIL] photo_20250318033546_13.json -> C:/Users/user/pythonproject/AllDataset/VAT-OCR\\triple_receipt\\label\\train_fail\\photo_20250318033546_13.json\n"
     ]
    },
    {
     "name": "stderr",
     "output_type": "stream",
     "text": [
      "Processing entries:  88%|████████▊ | 1425/1621 [8:09:07<55:08, 16.88s/it]"
     ]
    },
    {
     "name": "stdout",
     "output_type": "stream",
     "text": [
      "[FAIL] photo_20250318033546_14.json -> C:/Users/user/pythonproject/AllDataset/VAT-OCR\\triple_receipt\\label\\train_fail\\photo_20250318033546_14.json\n"
     ]
    },
    {
     "name": "stderr",
     "output_type": "stream",
     "text": [
      "Processing entries:  88%|████████▊ | 1426/1621 [8:09:20<51:17, 15.78s/it]"
     ]
    },
    {
     "name": "stdout",
     "output_type": "stream",
     "text": [
      "[FAIL] photo_20250318033546_15.json -> C:/Users/user/pythonproject/AllDataset/VAT-OCR\\triple_receipt\\label\\train_fail\\photo_20250318033546_15.json\n"
     ]
    },
    {
     "name": "stderr",
     "output_type": "stream",
     "text": [
      "Processing entries:  88%|████████▊ | 1427/1621 [8:09:36<50:47, 15.71s/it]"
     ]
    },
    {
     "name": "stdout",
     "output_type": "stream",
     "text": [
      "[OK] photo_20250318033546_16.json -> C:/Users/user/pythonproject/AllDataset/VAT-OCR\\triple_receipt\\label\\train_new\\photo_20250318033546_16.json\n"
     ]
    },
    {
     "name": "stderr",
     "output_type": "stream",
     "text": [
      "Processing entries:  88%|████████▊ | 1428/1621 [8:09:48<47:11, 14.67s/it]"
     ]
    },
    {
     "name": "stdout",
     "output_type": "stream",
     "text": [
      "[FAIL] photo_20250318033546_17.json -> C:/Users/user/pythonproject/AllDataset/VAT-OCR\\triple_receipt\\label\\train_fail\\photo_20250318033546_17.json\n"
     ]
    },
    {
     "name": "stderr",
     "output_type": "stream",
     "text": [
      "Processing entries:  88%|████████▊ | 1429/1621 [8:10:03<47:12, 14.75s/it]"
     ]
    },
    {
     "name": "stdout",
     "output_type": "stream",
     "text": [
      "[FAIL] photo_20250318033546_18.json -> C:/Users/user/pythonproject/AllDataset/VAT-OCR\\triple_receipt\\label\\train_fail\\photo_20250318033546_18.json\n"
     ]
    },
    {
     "name": "stderr",
     "output_type": "stream",
     "text": [
      "Processing entries:  88%|████████▊ | 1430/1621 [8:10:14<43:26, 13.65s/it]"
     ]
    },
    {
     "name": "stdout",
     "output_type": "stream",
     "text": [
      "[FAIL] photo_20250318033546_19.json -> C:/Users/user/pythonproject/AllDataset/VAT-OCR\\triple_receipt\\label\\train_fail\\photo_20250318033546_19.json\n"
     ]
    },
    {
     "name": "stderr",
     "output_type": "stream",
     "text": [
      "Processing entries:  88%|████████▊ | 1431/1621 [8:10:37<52:28, 16.57s/it]"
     ]
    },
    {
     "name": "stdout",
     "output_type": "stream",
     "text": [
      "[OK] photo_20250318033546_2.json -> C:/Users/user/pythonproject/AllDataset/VAT-OCR\\triple_receipt\\label\\train_new\\photo_20250318033546_2.json\n"
     ]
    },
    {
     "name": "stderr",
     "output_type": "stream",
     "text": [
      "Processing entries:  88%|████████▊ | 1432/1621 [8:10:53<51:03, 16.21s/it]"
     ]
    },
    {
     "name": "stdout",
     "output_type": "stream",
     "text": [
      "[FAIL] photo_20250318033546_20.json -> C:/Users/user/pythonproject/AllDataset/VAT-OCR\\triple_receipt\\label\\train_fail\\photo_20250318033546_20.json\n"
     ]
    },
    {
     "name": "stderr",
     "output_type": "stream",
     "text": [
      "Processing entries:  88%|████████▊ | 1433/1621 [8:11:07<49:18, 15.74s/it]"
     ]
    },
    {
     "name": "stdout",
     "output_type": "stream",
     "text": [
      "[FAIL] photo_20250318033546_21.json -> C:/Users/user/pythonproject/AllDataset/VAT-OCR\\triple_receipt\\label\\train_fail\\photo_20250318033546_21.json\n"
     ]
    },
    {
     "name": "stderr",
     "output_type": "stream",
     "text": [
      "Processing entries:  88%|████████▊ | 1434/1621 [8:11:20<46:27, 14.91s/it]"
     ]
    },
    {
     "name": "stdout",
     "output_type": "stream",
     "text": [
      "[FAIL] photo_20250318033546_22.json -> C:/Users/user/pythonproject/AllDataset/VAT-OCR\\triple_receipt\\label\\train_fail\\photo_20250318033546_22.json\n"
     ]
    },
    {
     "name": "stderr",
     "output_type": "stream",
     "text": [
      "Processing entries:  89%|████████▊ | 1435/1621 [8:11:37<47:23, 15.29s/it]"
     ]
    },
    {
     "name": "stdout",
     "output_type": "stream",
     "text": [
      "[FAIL] photo_20250318033546_23.json -> C:/Users/user/pythonproject/AllDataset/VAT-OCR\\triple_receipt\\label\\train_fail\\photo_20250318033546_23.json\n"
     ]
    },
    {
     "name": "stderr",
     "output_type": "stream",
     "text": [
      "Processing entries:  89%|████████▊ | 1436/1621 [8:11:53<47:58, 15.56s/it]"
     ]
    },
    {
     "name": "stdout",
     "output_type": "stream",
     "text": [
      "[FAIL] photo_20250318033546_24.json -> C:/Users/user/pythonproject/AllDataset/VAT-OCR\\triple_receipt\\label\\train_fail\\photo_20250318033546_24.json\n"
     ]
    },
    {
     "name": "stderr",
     "output_type": "stream",
     "text": [
      "Processing entries:  89%|████████▊ | 1437/1621 [8:12:08<47:12, 15.39s/it]"
     ]
    },
    {
     "name": "stdout",
     "output_type": "stream",
     "text": [
      "[OK] photo_20250318033546_25.json -> C:/Users/user/pythonproject/AllDataset/VAT-OCR\\triple_receipt\\label\\train_new\\photo_20250318033546_25.json\n"
     ]
    },
    {
     "name": "stderr",
     "output_type": "stream",
     "text": [
      "Processing entries:  89%|████████▊ | 1438/1621 [8:12:18<41:58, 13.76s/it]"
     ]
    },
    {
     "name": "stdout",
     "output_type": "stream",
     "text": [
      "[FAIL] photo_20250318033546_26.json -> C:/Users/user/pythonproject/AllDataset/VAT-OCR\\triple_receipt\\label\\train_fail\\photo_20250318033546_26.json\n"
     ]
    },
    {
     "name": "stderr",
     "output_type": "stream",
     "text": [
      "Processing entries:  89%|████████▉ | 1439/1621 [8:13:23<1:28:50, 29.29s/it]"
     ]
    },
    {
     "name": "stdout",
     "output_type": "stream",
     "text": [
      "[FAIL] photo_20250318033546_27.json -> C:/Users/user/pythonproject/AllDataset/VAT-OCR\\triple_receipt\\label\\train_fail\\photo_20250318033546_27.json\n"
     ]
    },
    {
     "name": "stderr",
     "output_type": "stream",
     "text": [
      "Processing entries:  89%|████████▉ | 1440/1621 [8:13:33<1:10:54, 23.51s/it]"
     ]
    },
    {
     "name": "stdout",
     "output_type": "stream",
     "text": [
      "[FAIL] photo_20250318033546_28.json -> C:/Users/user/pythonproject/AllDataset/VAT-OCR\\triple_receipt\\label\\train_fail\\photo_20250318033546_28.json\n"
     ]
    },
    {
     "name": "stderr",
     "output_type": "stream",
     "text": [
      "Processing entries:  89%|████████▉ | 1441/1621 [8:13:51<1:05:21, 21.79s/it]"
     ]
    },
    {
     "name": "stdout",
     "output_type": "stream",
     "text": [
      "[FAIL] photo_20250318033546_29.json -> C:/Users/user/pythonproject/AllDataset/VAT-OCR\\triple_receipt\\label\\train_fail\\photo_20250318033546_29.json\n"
     ]
    },
    {
     "name": "stderr",
     "output_type": "stream",
     "text": [
      "Processing entries:  89%|████████▉ | 1442/1621 [8:14:13<1:04:48, 21.72s/it]"
     ]
    },
    {
     "name": "stdout",
     "output_type": "stream",
     "text": [
      "[OK] photo_20250318033546_3.json -> C:/Users/user/pythonproject/AllDataset/VAT-OCR\\triple_receipt\\label\\train_new\\photo_20250318033546_3.json\n"
     ]
    },
    {
     "name": "stderr",
     "output_type": "stream",
     "text": [
      "Processing entries:  89%|████████▉ | 1443/1621 [8:14:29<59:19, 20.00s/it]  "
     ]
    },
    {
     "name": "stdout",
     "output_type": "stream",
     "text": [
      "[FAIL] photo_20250318033546_30.json -> C:/Users/user/pythonproject/AllDataset/VAT-OCR\\triple_receipt\\label\\train_fail\\photo_20250318033546_30.json\n"
     ]
    },
    {
     "name": "stderr",
     "output_type": "stream",
     "text": [
      "Processing entries:  89%|████████▉ | 1444/1621 [8:14:44<54:58, 18.64s/it]"
     ]
    },
    {
     "name": "stdout",
     "output_type": "stream",
     "text": [
      "[FAIL] photo_20250318033546_31.json -> C:/Users/user/pythonproject/AllDataset/VAT-OCR\\triple_receipt\\label\\train_fail\\photo_20250318033546_31.json\n"
     ]
    },
    {
     "name": "stderr",
     "output_type": "stream",
     "text": [
      "Processing entries:  89%|████████▉ | 1445/1621 [8:15:03<54:51, 18.70s/it]"
     ]
    },
    {
     "name": "stdout",
     "output_type": "stream",
     "text": [
      "[FAIL] photo_20250318033546_32.json -> C:/Users/user/pythonproject/AllDataset/VAT-OCR\\triple_receipt\\label\\train_fail\\photo_20250318033546_32.json\n"
     ]
    },
    {
     "name": "stderr",
     "output_type": "stream",
     "text": [
      "Processing entries:  89%|████████▉ | 1446/1621 [8:15:19<52:23, 17.96s/it]"
     ]
    },
    {
     "name": "stdout",
     "output_type": "stream",
     "text": [
      "[OK] photo_20250318033546_33.json -> C:/Users/user/pythonproject/AllDataset/VAT-OCR\\triple_receipt\\label\\train_new\\photo_20250318033546_33.json\n"
     ]
    },
    {
     "name": "stderr",
     "output_type": "stream",
     "text": [
      "Processing entries:  89%|████████▉ | 1447/1621 [8:15:35<50:15, 17.33s/it]"
     ]
    },
    {
     "name": "stdout",
     "output_type": "stream",
     "text": [
      "[FAIL] photo_20250318033546_4.json -> C:/Users/user/pythonproject/AllDataset/VAT-OCR\\triple_receipt\\label\\train_fail\\photo_20250318033546_4.json\n"
     ]
    },
    {
     "name": "stderr",
     "output_type": "stream",
     "text": [
      "Processing entries:  89%|████████▉ | 1448/1621 [8:15:51<48:53, 16.96s/it]"
     ]
    },
    {
     "name": "stdout",
     "output_type": "stream",
     "text": [
      "[OK] photo_20250318033546_5.json -> C:/Users/user/pythonproject/AllDataset/VAT-OCR\\triple_receipt\\label\\train_new\\photo_20250318033546_5.json\n"
     ]
    },
    {
     "name": "stderr",
     "output_type": "stream",
     "text": [
      "Processing entries:  89%|████████▉ | 1449/1621 [8:16:12<51:57, 18.13s/it]"
     ]
    },
    {
     "name": "stdout",
     "output_type": "stream",
     "text": [
      "[OK] photo_20250318033546_6.json -> C:/Users/user/pythonproject/AllDataset/VAT-OCR\\triple_receipt\\label\\train_new\\photo_20250318033546_6.json\n"
     ]
    },
    {
     "name": "stderr",
     "output_type": "stream",
     "text": [
      "Processing entries:  89%|████████▉ | 1450/1621 [8:16:31<52:26, 18.40s/it]"
     ]
    },
    {
     "name": "stdout",
     "output_type": "stream",
     "text": [
      "[FAIL] photo_20250318033546_7.json -> C:/Users/user/pythonproject/AllDataset/VAT-OCR\\triple_receipt\\label\\train_fail\\photo_20250318033546_7.json\n"
     ]
    },
    {
     "name": "stderr",
     "output_type": "stream",
     "text": [
      "Processing entries:  90%|████████▉ | 1451/1621 [8:16:45<48:04, 16.97s/it]"
     ]
    },
    {
     "name": "stdout",
     "output_type": "stream",
     "text": [
      "[FAIL] photo_20250318033546_8.json -> C:/Users/user/pythonproject/AllDataset/VAT-OCR\\triple_receipt\\label\\train_fail\\photo_20250318033546_8.json\n"
     ]
    },
    {
     "name": "stderr",
     "output_type": "stream",
     "text": [
      "Processing entries:  90%|████████▉ | 1452/1621 [8:17:01<47:21, 16.81s/it]"
     ]
    },
    {
     "name": "stdout",
     "output_type": "stream",
     "text": [
      "[FAIL] photo_20250318033546_9.json -> C:/Users/user/pythonproject/AllDataset/VAT-OCR\\triple_receipt\\label\\train_fail\\photo_20250318033546_9.json\n"
     ]
    },
    {
     "name": "stderr",
     "output_type": "stream",
     "text": [
      "Processing entries:  90%|████████▉ | 1453/1621 [8:17:13<42:52, 15.31s/it]"
     ]
    },
    {
     "name": "stdout",
     "output_type": "stream",
     "text": [
      "[FAIL] photo_20250318073403_1.json -> C:/Users/user/pythonproject/AllDataset/VAT-OCR\\triple_receipt\\label\\train_fail\\photo_20250318073403_1.json\n"
     ]
    },
    {
     "name": "stderr",
     "output_type": "stream",
     "text": [
      "Processing entries:  90%|████████▉ | 1454/1621 [8:17:35<48:10, 17.31s/it]"
     ]
    },
    {
     "name": "stdout",
     "output_type": "stream",
     "text": [
      "[OK] photo_20250318073403_10.json -> C:/Users/user/pythonproject/AllDataset/VAT-OCR\\triple_receipt\\label\\train_new\\photo_20250318073403_10.json\n"
     ]
    },
    {
     "name": "stderr",
     "output_type": "stream",
     "text": [
      "Processing entries:  90%|████████▉ | 1455/1621 [8:17:48<44:50, 16.21s/it]"
     ]
    },
    {
     "name": "stdout",
     "output_type": "stream",
     "text": [
      "[FAIL] photo_20250318073403_11.json -> C:/Users/user/pythonproject/AllDataset/VAT-OCR\\triple_receipt\\label\\train_fail\\photo_20250318073403_11.json\n"
     ]
    },
    {
     "name": "stderr",
     "output_type": "stream",
     "text": [
      "Processing entries:  90%|████████▉ | 1456/1621 [8:18:04<44:23, 16.14s/it]"
     ]
    },
    {
     "name": "stdout",
     "output_type": "stream",
     "text": [
      "[FAIL] photo_20250318073403_12.json -> C:/Users/user/pythonproject/AllDataset/VAT-OCR\\triple_receipt\\label\\train_fail\\photo_20250318073403_12.json\n"
     ]
    },
    {
     "name": "stderr",
     "output_type": "stream",
     "text": [
      "Processing entries:  90%|████████▉ | 1457/1621 [8:18:18<42:24, 15.52s/it]"
     ]
    },
    {
     "name": "stdout",
     "output_type": "stream",
     "text": [
      "[OK] photo_20250318073403_13.json -> C:/Users/user/pythonproject/AllDataset/VAT-OCR\\triple_receipt\\label\\train_new\\photo_20250318073403_13.json\n"
     ]
    },
    {
     "name": "stderr",
     "output_type": "stream",
     "text": [
      "Processing entries:  90%|████████▉ | 1458/1621 [8:18:32<40:25, 14.88s/it]"
     ]
    },
    {
     "name": "stdout",
     "output_type": "stream",
     "text": [
      "[FAIL] photo_20250318073403_14.json -> C:/Users/user/pythonproject/AllDataset/VAT-OCR\\triple_receipt\\label\\train_fail\\photo_20250318073403_14.json\n"
     ]
    },
    {
     "name": "stderr",
     "output_type": "stream",
     "text": [
      "Processing entries:  90%|█████████ | 1459/1621 [8:18:48<41:16, 15.28s/it]"
     ]
    },
    {
     "name": "stdout",
     "output_type": "stream",
     "text": [
      "[FAIL] photo_20250318073403_15.json -> C:/Users/user/pythonproject/AllDataset/VAT-OCR\\triple_receipt\\label\\train_fail\\photo_20250318073403_15.json\n"
     ]
    },
    {
     "name": "stderr",
     "output_type": "stream",
     "text": [
      "Processing entries:  90%|█████████ | 1460/1621 [8:19:12<47:35, 17.73s/it]"
     ]
    },
    {
     "name": "stdout",
     "output_type": "stream",
     "text": [
      "[FAIL] photo_20250318073403_16.json -> C:/Users/user/pythonproject/AllDataset/VAT-OCR\\triple_receipt\\label\\train_fail\\photo_20250318073403_16.json\n"
     ]
    },
    {
     "name": "stderr",
     "output_type": "stream",
     "text": [
      "Processing entries:  90%|█████████ | 1461/1621 [8:19:27<45:33, 17.08s/it]"
     ]
    },
    {
     "name": "stdout",
     "output_type": "stream",
     "text": [
      "[FAIL] photo_20250318073403_17.json -> C:/Users/user/pythonproject/AllDataset/VAT-OCR\\triple_receipt\\label\\train_fail\\photo_20250318073403_17.json\n"
     ]
    },
    {
     "name": "stderr",
     "output_type": "stream",
     "text": [
      "Processing entries:  90%|█████████ | 1462/1621 [8:19:43<44:08, 16.65s/it]"
     ]
    },
    {
     "name": "stdout",
     "output_type": "stream",
     "text": [
      "[FAIL] photo_20250318073403_18.json -> C:/Users/user/pythonproject/AllDataset/VAT-OCR\\triple_receipt\\label\\train_fail\\photo_20250318073403_18.json\n"
     ]
    },
    {
     "name": "stderr",
     "output_type": "stream",
     "text": [
      "Processing entries:  90%|█████████ | 1463/1621 [8:19:57<41:40, 15.83s/it]"
     ]
    },
    {
     "name": "stdout",
     "output_type": "stream",
     "text": [
      "[FAIL] photo_20250318073403_19.json -> C:/Users/user/pythonproject/AllDataset/VAT-OCR\\triple_receipt\\label\\train_fail\\photo_20250318073403_19.json\n"
     ]
    },
    {
     "name": "stderr",
     "output_type": "stream",
     "text": [
      "Processing entries:  90%|█████████ | 1464/1621 [8:20:11<39:50, 15.23s/it]"
     ]
    },
    {
     "name": "stdout",
     "output_type": "stream",
     "text": [
      "[FAIL] photo_20250318073403_2.json -> C:/Users/user/pythonproject/AllDataset/VAT-OCR\\triple_receipt\\label\\train_fail\\photo_20250318073403_2.json\n"
     ]
    },
    {
     "name": "stderr",
     "output_type": "stream",
     "text": [
      "Processing entries:  90%|█████████ | 1465/1621 [8:20:22<36:53, 14.19s/it]"
     ]
    },
    {
     "name": "stdout",
     "output_type": "stream",
     "text": [
      "[FAIL] photo_20250318073403_3.json -> C:/Users/user/pythonproject/AllDataset/VAT-OCR\\triple_receipt\\label\\train_fail\\photo_20250318073403_3.json\n"
     ]
    },
    {
     "name": "stderr",
     "output_type": "stream",
     "text": [
      "Processing entries:  90%|█████████ | 1466/1621 [8:20:34<34:42, 13.43s/it]"
     ]
    },
    {
     "name": "stdout",
     "output_type": "stream",
     "text": [
      "[FAIL] photo_20250318073403_4.json -> C:/Users/user/pythonproject/AllDataset/VAT-OCR\\triple_receipt\\label\\train_fail\\photo_20250318073403_4.json\n"
     ]
    },
    {
     "name": "stderr",
     "output_type": "stream",
     "text": [
      "Processing entries:  90%|█████████ | 1467/1621 [8:20:52<37:41, 14.68s/it]"
     ]
    },
    {
     "name": "stdout",
     "output_type": "stream",
     "text": [
      "[FAIL] photo_20250318073403_5.json -> C:/Users/user/pythonproject/AllDataset/VAT-OCR\\triple_receipt\\label\\train_fail\\photo_20250318073403_5.json\n"
     ]
    },
    {
     "name": "stderr",
     "output_type": "stream",
     "text": [
      "Processing entries:  91%|█████████ | 1468/1621 [8:21:08<38:45, 15.20s/it]"
     ]
    },
    {
     "name": "stdout",
     "output_type": "stream",
     "text": [
      "[FAIL] photo_20250318073403_6.json -> C:/Users/user/pythonproject/AllDataset/VAT-OCR\\triple_receipt\\label\\train_fail\\photo_20250318073403_6.json\n"
     ]
    },
    {
     "name": "stderr",
     "output_type": "stream",
     "text": [
      "Processing entries:  91%|█████████ | 1469/1621 [8:21:24<39:26, 15.57s/it]"
     ]
    },
    {
     "name": "stdout",
     "output_type": "stream",
     "text": [
      "[FAIL] photo_20250318073403_7.json -> C:/Users/user/pythonproject/AllDataset/VAT-OCR\\triple_receipt\\label\\train_fail\\photo_20250318073403_7.json\n"
     ]
    },
    {
     "name": "stderr",
     "output_type": "stream",
     "text": [
      "Processing entries:  91%|█████████ | 1470/1621 [8:21:45<42:46, 17.00s/it]"
     ]
    },
    {
     "name": "stdout",
     "output_type": "stream",
     "text": [
      "[OK] photo_20250318073403_8.json -> C:/Users/user/pythonproject/AllDataset/VAT-OCR\\triple_receipt\\label\\train_new\\photo_20250318073403_8.json\n"
     ]
    },
    {
     "name": "stderr",
     "output_type": "stream",
     "text": [
      "Processing entries:  91%|█████████ | 1471/1621 [8:22:16<53:04, 21.23s/it]"
     ]
    },
    {
     "name": "stdout",
     "output_type": "stream",
     "text": [
      "[OK] photo_20250318073403_9.json -> C:/Users/user/pythonproject/AllDataset/VAT-OCR\\triple_receipt\\label\\train_new\\photo_20250318073403_9.json\n"
     ]
    },
    {
     "name": "stderr",
     "output_type": "stream",
     "text": [
      "Processing entries:  91%|█████████ | 1472/1621 [8:22:32<49:08, 19.79s/it]"
     ]
    },
    {
     "name": "stdout",
     "output_type": "stream",
     "text": [
      "[OK] photo_20250318081530_1.json -> C:/Users/user/pythonproject/AllDataset/VAT-OCR\\triple_receipt\\label\\train_new\\photo_20250318081530_1.json\n"
     ]
    },
    {
     "name": "stderr",
     "output_type": "stream",
     "text": [
      "Processing entries:  91%|█████████ | 1473/1621 [8:23:44<1:27:22, 35.42s/it]"
     ]
    },
    {
     "name": "stdout",
     "output_type": "stream",
     "text": [
      "[FAIL] photo_20250318081530_10.json -> C:/Users/user/pythonproject/AllDataset/VAT-OCR\\triple_receipt\\label\\train_fail\\photo_20250318081530_10.json\n"
     ]
    },
    {
     "name": "stderr",
     "output_type": "stream",
     "text": [
      "Processing entries:  91%|█████████ | 1474/1621 [8:24:06<1:17:05, 31.47s/it]"
     ]
    },
    {
     "name": "stdout",
     "output_type": "stream",
     "text": [
      "[OK] photo_20250318081530_11.json -> C:/Users/user/pythonproject/AllDataset/VAT-OCR\\triple_receipt\\label\\train_new\\photo_20250318081530_11.json\n"
     ]
    },
    {
     "name": "stderr",
     "output_type": "stream",
     "text": [
      "Processing entries:  91%|█████████ | 1475/1621 [8:24:18<1:01:43, 25.36s/it]"
     ]
    },
    {
     "name": "stdout",
     "output_type": "stream",
     "text": [
      "[FAIL] photo_20250318081530_12.json -> C:/Users/user/pythonproject/AllDataset/VAT-OCR\\triple_receipt\\label\\train_fail\\photo_20250318081530_12.json\n"
     ]
    },
    {
     "name": "stderr",
     "output_type": "stream",
     "text": [
      "Processing entries:  91%|█████████ | 1476/1621 [8:24:41<59:52, 24.77s/it]  "
     ]
    },
    {
     "name": "stdout",
     "output_type": "stream",
     "text": [
      "[OK] photo_20250318081530_13.json -> C:/Users/user/pythonproject/AllDataset/VAT-OCR\\triple_receipt\\label\\train_new\\photo_20250318081530_13.json\n"
     ]
    },
    {
     "name": "stderr",
     "output_type": "stream",
     "text": [
      "Processing entries:  91%|█████████ | 1477/1621 [8:25:08<1:01:11, 25.50s/it]"
     ]
    },
    {
     "name": "stdout",
     "output_type": "stream",
     "text": [
      "[FAIL] photo_20250318081530_14.json -> C:/Users/user/pythonproject/AllDataset/VAT-OCR\\triple_receipt\\label\\train_fail\\photo_20250318081530_14.json\n"
     ]
    },
    {
     "name": "stderr",
     "output_type": "stream",
     "text": [
      "Processing entries:  91%|█████████ | 1478/1621 [8:25:26<55:29, 23.29s/it]  "
     ]
    },
    {
     "name": "stdout",
     "output_type": "stream",
     "text": [
      "[FAIL] photo_20250318081530_15.json -> C:/Users/user/pythonproject/AllDataset/VAT-OCR\\triple_receipt\\label\\train_fail\\photo_20250318081530_15.json\n"
     ]
    },
    {
     "name": "stderr",
     "output_type": "stream",
     "text": [
      "Processing entries:  91%|█████████ | 1479/1621 [8:25:44<51:27, 21.74s/it]"
     ]
    },
    {
     "name": "stdout",
     "output_type": "stream",
     "text": [
      "[OK] photo_20250318081530_16.json -> C:/Users/user/pythonproject/AllDataset/VAT-OCR\\triple_receipt\\label\\train_new\\photo_20250318081530_16.json\n"
     ]
    },
    {
     "name": "stderr",
     "output_type": "stream",
     "text": [
      "Processing entries:  91%|█████████▏| 1480/1621 [8:26:03<48:34, 20.67s/it]"
     ]
    },
    {
     "name": "stdout",
     "output_type": "stream",
     "text": [
      "[FAIL] photo_20250318081530_17.json -> C:/Users/user/pythonproject/AllDataset/VAT-OCR\\triple_receipt\\label\\train_fail\\photo_20250318081530_17.json\n"
     ]
    },
    {
     "name": "stderr",
     "output_type": "stream",
     "text": [
      "Processing entries:  91%|█████████▏| 1481/1621 [8:26:23<48:04, 20.60s/it]"
     ]
    },
    {
     "name": "stdout",
     "output_type": "stream",
     "text": [
      "[FAIL] photo_20250318081530_18.json -> C:/Users/user/pythonproject/AllDataset/VAT-OCR\\triple_receipt\\label\\train_fail\\photo_20250318081530_18.json\n"
     ]
    },
    {
     "name": "stderr",
     "output_type": "stream",
     "text": [
      "Processing entries:  91%|█████████▏| 1482/1621 [8:26:37<43:04, 18.59s/it]"
     ]
    },
    {
     "name": "stdout",
     "output_type": "stream",
     "text": [
      "[FAIL] photo_20250318081530_19.json -> C:/Users/user/pythonproject/AllDataset/VAT-OCR\\triple_receipt\\label\\train_fail\\photo_20250318081530_19.json\n"
     ]
    },
    {
     "name": "stderr",
     "output_type": "stream",
     "text": [
      "Processing entries:  91%|█████████▏| 1483/1621 [8:27:05<49:15, 21.41s/it]"
     ]
    },
    {
     "name": "stdout",
     "output_type": "stream",
     "text": [
      "[OK] photo_20250318081530_2.json -> C:/Users/user/pythonproject/AllDataset/VAT-OCR\\triple_receipt\\label\\train_new\\photo_20250318081530_2.json\n"
     ]
    },
    {
     "name": "stderr",
     "output_type": "stream",
     "text": [
      "Processing entries:  92%|█████████▏| 1484/1621 [8:27:21<45:26, 19.90s/it]"
     ]
    },
    {
     "name": "stdout",
     "output_type": "stream",
     "text": [
      "[OK] photo_20250318081530_20.json -> C:/Users/user/pythonproject/AllDataset/VAT-OCR\\triple_receipt\\label\\train_new\\photo_20250318081530_20.json\n"
     ]
    },
    {
     "name": "stderr",
     "output_type": "stream",
     "text": [
      "Processing entries:  92%|█████████▏| 1485/1621 [8:27:41<45:07, 19.91s/it]"
     ]
    },
    {
     "name": "stdout",
     "output_type": "stream",
     "text": [
      "[FAIL] photo_20250318081530_21.json -> C:/Users/user/pythonproject/AllDataset/VAT-OCR\\triple_receipt\\label\\train_fail\\photo_20250318081530_21.json\n"
     ]
    },
    {
     "name": "stderr",
     "output_type": "stream",
     "text": [
      "Processing entries:  92%|█████████▏| 1486/1621 [8:27:57<41:51, 18.60s/it]"
     ]
    },
    {
     "name": "stdout",
     "output_type": "stream",
     "text": [
      "[FAIL] photo_20250318081530_22.json -> C:/Users/user/pythonproject/AllDataset/VAT-OCR\\triple_receipt\\label\\train_fail\\photo_20250318081530_22.json\n"
     ]
    },
    {
     "name": "stderr",
     "output_type": "stream",
     "text": [
      "Processing entries:  92%|█████████▏| 1487/1621 [8:28:13<39:42, 17.78s/it]"
     ]
    },
    {
     "name": "stdout",
     "output_type": "stream",
     "text": [
      "[OK] photo_20250318081530_23.json -> C:/Users/user/pythonproject/AllDataset/VAT-OCR\\triple_receipt\\label\\train_new\\photo_20250318081530_23.json\n"
     ]
    },
    {
     "name": "stderr",
     "output_type": "stream",
     "text": [
      "Processing entries:  92%|█████████▏| 1488/1621 [8:28:29<38:47, 17.50s/it]"
     ]
    },
    {
     "name": "stdout",
     "output_type": "stream",
     "text": [
      "[OK] photo_20250318081530_24.json -> C:/Users/user/pythonproject/AllDataset/VAT-OCR\\triple_receipt\\label\\train_new\\photo_20250318081530_24.json\n"
     ]
    },
    {
     "name": "stderr",
     "output_type": "stream",
     "text": [
      "Processing entries:  92%|█████████▏| 1489/1621 [8:28:47<38:16, 17.40s/it]"
     ]
    },
    {
     "name": "stdout",
     "output_type": "stream",
     "text": [
      "[FAIL] photo_20250318081530_25.json -> C:/Users/user/pythonproject/AllDataset/VAT-OCR\\triple_receipt\\label\\train_fail\\photo_20250318081530_25.json\n"
     ]
    },
    {
     "name": "stderr",
     "output_type": "stream",
     "text": [
      "Processing entries:  92%|█████████▏| 1490/1621 [8:29:06<39:12, 17.96s/it]"
     ]
    },
    {
     "name": "stdout",
     "output_type": "stream",
     "text": [
      "[FAIL] photo_20250318081530_26.json -> C:/Users/user/pythonproject/AllDataset/VAT-OCR\\triple_receipt\\label\\train_fail\\photo_20250318081530_26.json\n"
     ]
    },
    {
     "name": "stderr",
     "output_type": "stream",
     "text": [
      "Processing entries:  92%|█████████▏| 1491/1621 [8:29:19<36:06, 16.66s/it]"
     ]
    },
    {
     "name": "stdout",
     "output_type": "stream",
     "text": [
      "[FAIL] photo_20250318081530_27.json -> C:/Users/user/pythonproject/AllDataset/VAT-OCR\\triple_receipt\\label\\train_fail\\photo_20250318081530_27.json\n"
     ]
    },
    {
     "name": "stderr",
     "output_type": "stream",
     "text": [
      "Processing entries:  92%|█████████▏| 1492/1621 [8:29:33<33:54, 15.77s/it]"
     ]
    },
    {
     "name": "stdout",
     "output_type": "stream",
     "text": [
      "[FAIL] photo_20250318081530_28.json -> C:/Users/user/pythonproject/AllDataset/VAT-OCR\\triple_receipt\\label\\train_fail\\photo_20250318081530_28.json\n"
     ]
    },
    {
     "name": "stderr",
     "output_type": "stream",
     "text": [
      "Processing entries:  92%|█████████▏| 1493/1621 [8:30:42<1:07:50, 31.80s/it]"
     ]
    },
    {
     "name": "stdout",
     "output_type": "stream",
     "text": [
      "[FAIL] photo_20250318081530_29.json -> C:/Users/user/pythonproject/AllDataset/VAT-OCR\\triple_receipt\\label\\train_fail\\photo_20250318081530_29.json\n"
     ]
    },
    {
     "name": "stderr",
     "output_type": "stream",
     "text": [
      "Processing entries:  92%|█████████▏| 1494/1621 [8:31:01<59:00, 27.88s/it]  "
     ]
    },
    {
     "name": "stdout",
     "output_type": "stream",
     "text": [
      "[OK] photo_20250318081530_3.json -> C:/Users/user/pythonproject/AllDataset/VAT-OCR\\triple_receipt\\label\\train_new\\photo_20250318081530_3.json\n"
     ]
    },
    {
     "name": "stderr",
     "output_type": "stream",
     "text": [
      "Processing entries:  92%|█████████▏| 1495/1621 [8:31:16<50:05, 23.85s/it]"
     ]
    },
    {
     "name": "stdout",
     "output_type": "stream",
     "text": [
      "[FAIL] photo_20250318081530_30.json -> C:/Users/user/pythonproject/AllDataset/VAT-OCR\\triple_receipt\\label\\train_fail\\photo_20250318081530_30.json\n"
     ]
    },
    {
     "name": "stderr",
     "output_type": "stream",
     "text": [
      "Processing entries:  92%|█████████▏| 1496/1621 [8:31:43<51:52, 24.90s/it]"
     ]
    },
    {
     "name": "stdout",
     "output_type": "stream",
     "text": [
      "[FAIL] photo_20250318081530_4.json -> C:/Users/user/pythonproject/AllDataset/VAT-OCR\\triple_receipt\\label\\train_fail\\photo_20250318081530_4.json\n"
     ]
    },
    {
     "name": "stderr",
     "output_type": "stream",
     "text": [
      "Processing entries:  92%|█████████▏| 1497/1621 [8:32:12<54:00, 26.13s/it]"
     ]
    },
    {
     "name": "stdout",
     "output_type": "stream",
     "text": [
      "[FAIL] photo_20250318081530_5.json -> C:/Users/user/pythonproject/AllDataset/VAT-OCR\\triple_receipt\\label\\train_fail\\photo_20250318081530_5.json\n"
     ]
    },
    {
     "name": "stderr",
     "output_type": "stream",
     "text": [
      "Processing entries:  92%|█████████▏| 1498/1621 [8:32:35<51:48, 25.27s/it]"
     ]
    },
    {
     "name": "stdout",
     "output_type": "stream",
     "text": [
      "[OK] photo_20250318081530_6.json -> C:/Users/user/pythonproject/AllDataset/VAT-OCR\\triple_receipt\\label\\train_new\\photo_20250318081530_6.json\n"
     ]
    },
    {
     "name": "stderr",
     "output_type": "stream",
     "text": [
      "Processing entries:  92%|█████████▏| 1499/1621 [8:32:55<47:56, 23.58s/it]"
     ]
    },
    {
     "name": "stdout",
     "output_type": "stream",
     "text": [
      "[FAIL] photo_20250318081530_7.json -> C:/Users/user/pythonproject/AllDataset/VAT-OCR\\triple_receipt\\label\\train_fail\\photo_20250318081530_7.json\n"
     ]
    },
    {
     "name": "stderr",
     "output_type": "stream",
     "text": [
      "Processing entries:  93%|█████████▎| 1500/1621 [8:33:18<47:29, 23.55s/it]"
     ]
    },
    {
     "name": "stdout",
     "output_type": "stream",
     "text": [
      "[FAIL] photo_20250318081530_8.json -> C:/Users/user/pythonproject/AllDataset/VAT-OCR\\triple_receipt\\label\\train_fail\\photo_20250318081530_8.json\n"
     ]
    },
    {
     "name": "stderr",
     "output_type": "stream",
     "text": [
      "Processing entries:  93%|█████████▎| 1501/1621 [8:33:41<46:48, 23.41s/it]"
     ]
    },
    {
     "name": "stdout",
     "output_type": "stream",
     "text": [
      "[OK] photo_20250318081530_9.json -> C:/Users/user/pythonproject/AllDataset/VAT-OCR\\triple_receipt\\label\\train_new\\photo_20250318081530_9.json\n"
     ]
    },
    {
     "name": "stderr",
     "output_type": "stream",
     "text": [
      "Processing entries:  93%|█████████▎| 1502/1621 [8:33:58<42:08, 21.24s/it]"
     ]
    },
    {
     "name": "stdout",
     "output_type": "stream",
     "text": [
      "[FAIL] photo_20250318085812_1.json -> C:/Users/user/pythonproject/AllDataset/VAT-OCR\\triple_receipt\\label\\train_fail\\photo_20250318085812_1.json\n"
     ]
    },
    {
     "name": "stderr",
     "output_type": "stream",
     "text": [
      "Processing entries:  93%|█████████▎| 1503/1621 [8:34:14<38:52, 19.77s/it]"
     ]
    },
    {
     "name": "stdout",
     "output_type": "stream",
     "text": [
      "[FAIL] photo_20250318085812_10.json -> C:/Users/user/pythonproject/AllDataset/VAT-OCR\\triple_receipt\\label\\train_fail\\photo_20250318085812_10.json\n"
     ]
    },
    {
     "name": "stderr",
     "output_type": "stream",
     "text": [
      "Processing entries:  93%|█████████▎| 1504/1621 [8:34:30<36:13, 18.58s/it]"
     ]
    },
    {
     "name": "stdout",
     "output_type": "stream",
     "text": [
      "[FAIL] photo_20250318085812_11.json -> C:/Users/user/pythonproject/AllDataset/VAT-OCR\\triple_receipt\\label\\train_fail\\photo_20250318085812_11.json\n"
     ]
    },
    {
     "name": "stderr",
     "output_type": "stream",
     "text": [
      "Processing entries:  93%|█████████▎| 1505/1621 [8:34:48<35:57, 18.60s/it]"
     ]
    },
    {
     "name": "stdout",
     "output_type": "stream",
     "text": [
      "[FAIL] photo_20250318085812_12.json -> C:/Users/user/pythonproject/AllDataset/VAT-OCR\\triple_receipt\\label\\train_fail\\photo_20250318085812_12.json\n"
     ]
    },
    {
     "name": "stderr",
     "output_type": "stream",
     "text": [
      "Processing entries:  93%|█████████▎| 1506/1621 [8:35:03<33:31, 17.49s/it]"
     ]
    },
    {
     "name": "stdout",
     "output_type": "stream",
     "text": [
      "[FAIL] photo_20250318085812_14.json -> C:/Users/user/pythonproject/AllDataset/VAT-OCR\\triple_receipt\\label\\train_fail\\photo_20250318085812_14.json\n"
     ]
    },
    {
     "name": "stderr",
     "output_type": "stream",
     "text": [
      "Processing entries:  93%|█████████▎| 1507/1621 [8:35:18<31:30, 16.58s/it]"
     ]
    },
    {
     "name": "stdout",
     "output_type": "stream",
     "text": [
      "[FAIL] photo_20250318085812_15.json -> C:/Users/user/pythonproject/AllDataset/VAT-OCR\\triple_receipt\\label\\train_fail\\photo_20250318085812_15.json\n"
     ]
    },
    {
     "name": "stderr",
     "output_type": "stream",
     "text": [
      "Processing entries:  93%|█████████▎| 1508/1621 [8:35:32<29:38, 15.74s/it]"
     ]
    },
    {
     "name": "stdout",
     "output_type": "stream",
     "text": [
      "[FAIL] photo_20250318085812_16.json -> C:/Users/user/pythonproject/AllDataset/VAT-OCR\\triple_receipt\\label\\train_fail\\photo_20250318085812_16.json\n"
     ]
    },
    {
     "name": "stderr",
     "output_type": "stream",
     "text": [
      "Processing entries:  93%|█████████▎| 1509/1621 [8:35:47<29:03, 15.56s/it]"
     ]
    },
    {
     "name": "stdout",
     "output_type": "stream",
     "text": [
      "[FAIL] photo_20250318085812_17.json -> C:/Users/user/pythonproject/AllDataset/VAT-OCR\\triple_receipt\\label\\train_fail\\photo_20250318085812_17.json\n"
     ]
    },
    {
     "name": "stderr",
     "output_type": "stream",
     "text": [
      "Processing entries:  93%|█████████▎| 1510/1621 [8:36:09<32:33, 17.60s/it]"
     ]
    },
    {
     "name": "stdout",
     "output_type": "stream",
     "text": [
      "[FAIL] photo_20250318085812_18.json -> C:/Users/user/pythonproject/AllDataset/VAT-OCR\\triple_receipt\\label\\train_fail\\photo_20250318085812_18.json\n"
     ]
    },
    {
     "name": "stderr",
     "output_type": "stream",
     "text": [
      "Processing entries:  93%|█████████▎| 1511/1621 [8:36:26<31:51, 17.38s/it]"
     ]
    },
    {
     "name": "stdout",
     "output_type": "stream",
     "text": [
      "[FAIL] photo_20250318085812_19.json -> C:/Users/user/pythonproject/AllDataset/VAT-OCR\\triple_receipt\\label\\train_fail\\photo_20250318085812_19.json\n"
     ]
    },
    {
     "name": "stderr",
     "output_type": "stream",
     "text": [
      "Processing entries:  93%|█████████▎| 1512/1621 [8:36:46<33:00, 18.17s/it]"
     ]
    },
    {
     "name": "stdout",
     "output_type": "stream",
     "text": [
      "[OK] photo_20250318085812_2.json -> C:/Users/user/pythonproject/AllDataset/VAT-OCR\\triple_receipt\\label\\train_new\\photo_20250318085812_2.json\n"
     ]
    },
    {
     "name": "stderr",
     "output_type": "stream",
     "text": [
      "Processing entries:  93%|█████████▎| 1513/1621 [8:37:04<32:30, 18.06s/it]"
     ]
    },
    {
     "name": "stdout",
     "output_type": "stream",
     "text": [
      "[FAIL] photo_20250318085812_20.json -> C:/Users/user/pythonproject/AllDataset/VAT-OCR\\triple_receipt\\label\\train_fail\\photo_20250318085812_20.json\n"
     ]
    },
    {
     "name": "stderr",
     "output_type": "stream",
     "text": [
      "Processing entries:  93%|█████████▎| 1514/1621 [8:37:31<36:54, 20.69s/it]"
     ]
    },
    {
     "name": "stdout",
     "output_type": "stream",
     "text": [
      "[FAIL] photo_20250318085812_21.json -> C:/Users/user/pythonproject/AllDataset/VAT-OCR\\triple_receipt\\label\\train_fail\\photo_20250318085812_21.json\n"
     ]
    },
    {
     "name": "stderr",
     "output_type": "stream",
     "text": [
      "Processing entries:  93%|█████████▎| 1515/1621 [8:37:49<35:34, 20.13s/it]"
     ]
    },
    {
     "name": "stdout",
     "output_type": "stream",
     "text": [
      "[FAIL] photo_20250318085812_22.json -> C:/Users/user/pythonproject/AllDataset/VAT-OCR\\triple_receipt\\label\\train_fail\\photo_20250318085812_22.json\n"
     ]
    },
    {
     "name": "stderr",
     "output_type": "stream",
     "text": [
      "Processing entries:  94%|█████████▎| 1516/1621 [8:38:06<33:14, 18.99s/it]"
     ]
    },
    {
     "name": "stdout",
     "output_type": "stream",
     "text": [
      "[FAIL] photo_20250318085812_24.json -> C:/Users/user/pythonproject/AllDataset/VAT-OCR\\triple_receipt\\label\\train_fail\\photo_20250318085812_24.json\n"
     ]
    },
    {
     "name": "stderr",
     "output_type": "stream",
     "text": [
      "Processing entries:  94%|█████████▎| 1517/1621 [8:38:23<32:04, 18.50s/it]"
     ]
    },
    {
     "name": "stdout",
     "output_type": "stream",
     "text": [
      "[FAIL] photo_20250318085812_25.json -> C:/Users/user/pythonproject/AllDataset/VAT-OCR\\triple_receipt\\label\\train_fail\\photo_20250318085812_25.json\n"
     ]
    },
    {
     "name": "stderr",
     "output_type": "stream",
     "text": [
      "Processing entries:  94%|█████████▎| 1518/1621 [8:38:44<32:56, 19.19s/it]"
     ]
    },
    {
     "name": "stdout",
     "output_type": "stream",
     "text": [
      "[OK] photo_20250318085812_3.json -> C:/Users/user/pythonproject/AllDataset/VAT-OCR\\triple_receipt\\label\\train_new\\photo_20250318085812_3.json\n"
     ]
    },
    {
     "name": "stderr",
     "output_type": "stream",
     "text": [
      "Processing entries:  94%|█████████▎| 1519/1621 [8:39:52<57:41, 33.94s/it]"
     ]
    },
    {
     "name": "stdout",
     "output_type": "stream",
     "text": [
      "[FAIL] photo_20250318085812_4.json -> C:/Users/user/pythonproject/AllDataset/VAT-OCR\\triple_receipt\\label\\train_fail\\photo_20250318085812_4.json\n"
     ]
    },
    {
     "name": "stderr",
     "output_type": "stream",
     "text": [
      "Processing entries:  94%|█████████▍| 1520/1621 [8:40:19<53:38, 31.87s/it]"
     ]
    },
    {
     "name": "stdout",
     "output_type": "stream",
     "text": [
      "[FAIL] photo_20250318085812_5.json -> C:/Users/user/pythonproject/AllDataset/VAT-OCR\\triple_receipt\\label\\train_fail\\photo_20250318085812_5.json\n"
     ]
    },
    {
     "name": "stderr",
     "output_type": "stream",
     "text": [
      "Processing entries:  94%|█████████▍| 1521/1621 [8:40:42<48:29, 29.10s/it]"
     ]
    },
    {
     "name": "stdout",
     "output_type": "stream",
     "text": [
      "[FAIL] photo_20250318085812_6.json -> C:/Users/user/pythonproject/AllDataset/VAT-OCR\\triple_receipt\\label\\train_fail\\photo_20250318085812_6.json\n"
     ]
    },
    {
     "name": "stderr",
     "output_type": "stream",
     "text": [
      "Processing entries:  94%|█████████▍| 1522/1621 [8:40:54<39:40, 24.04s/it]"
     ]
    },
    {
     "name": "stdout",
     "output_type": "stream",
     "text": [
      "[FAIL] photo_20250318085812_7.json -> C:/Users/user/pythonproject/AllDataset/VAT-OCR\\triple_receipt\\label\\train_fail\\photo_20250318085812_7.json\n"
     ]
    },
    {
     "name": "stderr",
     "output_type": "stream",
     "text": [
      "Processing entries:  94%|█████████▍| 1523/1621 [8:41:13<36:44, 22.49s/it]"
     ]
    },
    {
     "name": "stdout",
     "output_type": "stream",
     "text": [
      "[FAIL] photo_20250318085812_8.json -> C:/Users/user/pythonproject/AllDataset/VAT-OCR\\triple_receipt\\label\\train_fail\\photo_20250318085812_8.json\n"
     ]
    },
    {
     "name": "stderr",
     "output_type": "stream",
     "text": [
      "Processing entries:  94%|█████████▍| 1524/1621 [8:41:26<31:54, 19.73s/it]"
     ]
    },
    {
     "name": "stdout",
     "output_type": "stream",
     "text": [
      "[OK] photo_20250318085812_9.json -> C:/Users/user/pythonproject/AllDataset/VAT-OCR\\triple_receipt\\label\\train_new\\photo_20250318085812_9.json\n"
     ]
    },
    {
     "name": "stderr",
     "output_type": "stream",
     "text": [
      "Processing entries:  94%|█████████▍| 1525/1621 [8:41:43<30:02, 18.78s/it]"
     ]
    },
    {
     "name": "stdout",
     "output_type": "stream",
     "text": [
      "[OK] photo_20250318144419_1.json -> C:/Users/user/pythonproject/AllDataset/VAT-OCR\\triple_receipt\\label\\train_new\\photo_20250318144419_1.json\n"
     ]
    },
    {
     "name": "stderr",
     "output_type": "stream",
     "text": [
      "Processing entries:  94%|█████████▍| 1526/1621 [8:41:58<27:50, 17.59s/it]"
     ]
    },
    {
     "name": "stdout",
     "output_type": "stream",
     "text": [
      "[FAIL] photo_20250318144419_10.json -> C:/Users/user/pythonproject/AllDataset/VAT-OCR\\triple_receipt\\label\\train_fail\\photo_20250318144419_10.json\n"
     ]
    },
    {
     "name": "stderr",
     "output_type": "stream",
     "text": [
      "Processing entries:  94%|█████████▍| 1527/1621 [8:42:18<29:01, 18.53s/it]"
     ]
    },
    {
     "name": "stdout",
     "output_type": "stream",
     "text": [
      "[OK] photo_20250318144419_11.json -> C:/Users/user/pythonproject/AllDataset/VAT-OCR\\triple_receipt\\label\\train_new\\photo_20250318144419_11.json\n"
     ]
    },
    {
     "name": "stderr",
     "output_type": "stream",
     "text": [
      "Processing entries:  94%|█████████▍| 1528/1621 [8:42:34<27:21, 17.65s/it]"
     ]
    },
    {
     "name": "stdout",
     "output_type": "stream",
     "text": [
      "[FAIL] photo_20250318144419_12.json -> C:/Users/user/pythonproject/AllDataset/VAT-OCR\\triple_receipt\\label\\train_fail\\photo_20250318144419_12.json\n"
     ]
    },
    {
     "name": "stderr",
     "output_type": "stream",
     "text": [
      "Processing entries:  94%|█████████▍| 1529/1621 [8:42:46<24:34, 16.03s/it]"
     ]
    },
    {
     "name": "stdout",
     "output_type": "stream",
     "text": [
      "[FAIL] photo_20250318144419_13.json -> C:/Users/user/pythonproject/AllDataset/VAT-OCR\\triple_receipt\\label\\train_fail\\photo_20250318144419_13.json\n"
     ]
    },
    {
     "name": "stderr",
     "output_type": "stream",
     "text": [
      "Processing entries:  94%|█████████▍| 1530/1621 [8:43:08<26:46, 17.65s/it]"
     ]
    },
    {
     "name": "stdout",
     "output_type": "stream",
     "text": [
      "[FAIL] photo_20250318144419_14.json -> C:/Users/user/pythonproject/AllDataset/VAT-OCR\\triple_receipt\\label\\train_fail\\photo_20250318144419_14.json\n"
     ]
    },
    {
     "name": "stderr",
     "output_type": "stream",
     "text": [
      "Processing entries:  94%|█████████▍| 1531/1621 [8:43:26<26:47, 17.86s/it]"
     ]
    },
    {
     "name": "stdout",
     "output_type": "stream",
     "text": [
      "[FAIL] photo_20250318144419_15.json -> C:/Users/user/pythonproject/AllDataset/VAT-OCR\\triple_receipt\\label\\train_fail\\photo_20250318144419_15.json\n"
     ]
    },
    {
     "name": "stderr",
     "output_type": "stream",
     "text": [
      "Processing entries:  95%|█████████▍| 1532/1621 [8:43:39<24:12, 16.32s/it]"
     ]
    },
    {
     "name": "stdout",
     "output_type": "stream",
     "text": [
      "[FAIL] photo_20250318144419_16.json -> C:/Users/user/pythonproject/AllDataset/VAT-OCR\\triple_receipt\\label\\train_fail\\photo_20250318144419_16.json\n"
     ]
    },
    {
     "name": "stderr",
     "output_type": "stream",
     "text": [
      "Processing entries:  95%|█████████▍| 1533/1621 [8:43:53<22:59, 15.68s/it]"
     ]
    },
    {
     "name": "stdout",
     "output_type": "stream",
     "text": [
      "[FAIL] photo_20250318144419_17.json -> C:/Users/user/pythonproject/AllDataset/VAT-OCR\\triple_receipt\\label\\train_fail\\photo_20250318144419_17.json\n"
     ]
    },
    {
     "name": "stderr",
     "output_type": "stream",
     "text": [
      "Processing entries:  95%|█████████▍| 1534/1621 [8:44:13<24:47, 17.10s/it]"
     ]
    },
    {
     "name": "stdout",
     "output_type": "stream",
     "text": [
      "[FAIL] photo_20250318144419_18.json -> C:/Users/user/pythonproject/AllDataset/VAT-OCR\\triple_receipt\\label\\train_fail\\photo_20250318144419_18.json\n"
     ]
    },
    {
     "name": "stderr",
     "output_type": "stream",
     "text": [
      "Processing entries:  95%|█████████▍| 1535/1621 [8:44:37<27:16, 19.02s/it]"
     ]
    },
    {
     "name": "stdout",
     "output_type": "stream",
     "text": [
      "[FAIL] photo_20250318144419_19.json -> C:/Users/user/pythonproject/AllDataset/VAT-OCR\\triple_receipt\\label\\train_fail\\photo_20250318144419_19.json\n"
     ]
    },
    {
     "name": "stderr",
     "output_type": "stream",
     "text": [
      "Processing entries:  95%|█████████▍| 1536/1621 [8:44:55<26:37, 18.79s/it]"
     ]
    },
    {
     "name": "stdout",
     "output_type": "stream",
     "text": [
      "[FAIL] photo_20250318144419_2.json -> C:/Users/user/pythonproject/AllDataset/VAT-OCR\\triple_receipt\\label\\train_fail\\photo_20250318144419_2.json\n"
     ]
    },
    {
     "name": "stderr",
     "output_type": "stream",
     "text": [
      "Processing entries:  95%|█████████▍| 1537/1621 [8:45:15<26:38, 19.03s/it]"
     ]
    },
    {
     "name": "stdout",
     "output_type": "stream",
     "text": [
      "[FAIL] photo_20250318144419_20.json -> C:/Users/user/pythonproject/AllDataset/VAT-OCR\\triple_receipt\\label\\train_fail\\photo_20250318144419_20.json\n"
     ]
    },
    {
     "name": "stderr",
     "output_type": "stream",
     "text": [
      "Processing entries:  95%|█████████▍| 1538/1621 [8:45:29<24:12, 17.50s/it]"
     ]
    },
    {
     "name": "stdout",
     "output_type": "stream",
     "text": [
      "[FAIL] photo_20250318144419_21.json -> C:/Users/user/pythonproject/AllDataset/VAT-OCR\\triple_receipt\\label\\train_fail\\photo_20250318144419_21.json\n"
     ]
    },
    {
     "name": "stderr",
     "output_type": "stream",
     "text": [
      "Processing entries:  95%|█████████▍| 1539/1621 [8:45:42<22:19, 16.33s/it]"
     ]
    },
    {
     "name": "stdout",
     "output_type": "stream",
     "text": [
      "[FAIL] photo_20250318144419_22.json -> C:/Users/user/pythonproject/AllDataset/VAT-OCR\\triple_receipt\\label\\train_fail\\photo_20250318144419_22.json\n"
     ]
    },
    {
     "name": "stderr",
     "output_type": "stream",
     "text": [
      "Processing entries:  95%|█████████▌| 1540/1621 [8:45:59<22:26, 16.62s/it]"
     ]
    },
    {
     "name": "stdout",
     "output_type": "stream",
     "text": [
      "[FAIL] photo_20250318144419_23.json -> C:/Users/user/pythonproject/AllDataset/VAT-OCR\\triple_receipt\\label\\train_fail\\photo_20250318144419_23.json\n"
     ]
    },
    {
     "name": "stderr",
     "output_type": "stream",
     "text": [
      "Processing entries:  95%|█████████▌| 1541/1621 [8:46:13<20:45, 15.56s/it]"
     ]
    },
    {
     "name": "stdout",
     "output_type": "stream",
     "text": [
      "[FAIL] photo_20250318144419_24.json -> C:/Users/user/pythonproject/AllDataset/VAT-OCR\\triple_receipt\\label\\train_fail\\photo_20250318144419_24.json\n"
     ]
    },
    {
     "name": "stderr",
     "output_type": "stream",
     "text": [
      "Processing entries:  95%|█████████▌| 1542/1621 [8:46:31<21:30, 16.34s/it]"
     ]
    },
    {
     "name": "stdout",
     "output_type": "stream",
     "text": [
      "[FAIL] photo_20250318144419_25.json -> C:/Users/user/pythonproject/AllDataset/VAT-OCR\\triple_receipt\\label\\train_fail\\photo_20250318144419_25.json\n"
     ]
    },
    {
     "name": "stderr",
     "output_type": "stream",
     "text": [
      "Processing entries:  95%|█████████▌| 1543/1621 [8:46:48<21:26, 16.49s/it]"
     ]
    },
    {
     "name": "stdout",
     "output_type": "stream",
     "text": [
      "[FAIL] photo_20250318144419_26.json -> C:/Users/user/pythonproject/AllDataset/VAT-OCR\\triple_receipt\\label\\train_fail\\photo_20250318144419_26.json\n"
     ]
    },
    {
     "name": "stderr",
     "output_type": "stream",
     "text": [
      "Processing entries:  95%|█████████▌| 1544/1621 [8:47:08<22:35, 17.60s/it]"
     ]
    },
    {
     "name": "stdout",
     "output_type": "stream",
     "text": [
      "[FAIL] photo_20250318144419_3.json -> C:/Users/user/pythonproject/AllDataset/VAT-OCR\\triple_receipt\\label\\train_fail\\photo_20250318144419_3.json\n"
     ]
    },
    {
     "name": "stderr",
     "output_type": "stream",
     "text": [
      "Processing entries:  95%|█████████▌| 1545/1621 [8:47:31<24:29, 19.34s/it]"
     ]
    },
    {
     "name": "stdout",
     "output_type": "stream",
     "text": [
      "[FAIL] photo_20250318144419_4.json -> C:/Users/user/pythonproject/AllDataset/VAT-OCR\\triple_receipt\\label\\train_fail\\photo_20250318144419_4.json\n"
     ]
    },
    {
     "name": "stderr",
     "output_type": "stream",
     "text": [
      "Processing entries:  95%|█████████▌| 1546/1621 [8:47:58<26:59, 21.60s/it]"
     ]
    },
    {
     "name": "stdout",
     "output_type": "stream",
     "text": [
      "[FAIL] photo_20250318144419_5.json -> C:/Users/user/pythonproject/AllDataset/VAT-OCR\\triple_receipt\\label\\train_fail\\photo_20250318144419_5.json\n"
     ]
    },
    {
     "name": "stderr",
     "output_type": "stream",
     "text": [
      "Processing entries:  95%|█████████▌| 1547/1621 [8:48:17<25:32, 20.71s/it]"
     ]
    },
    {
     "name": "stdout",
     "output_type": "stream",
     "text": [
      "[OK] photo_20250318144419_6.json -> C:/Users/user/pythonproject/AllDataset/VAT-OCR\\triple_receipt\\label\\train_new\\photo_20250318144419_6.json\n"
     ]
    },
    {
     "name": "stderr",
     "output_type": "stream",
     "text": [
      "Processing entries:  95%|█████████▌| 1548/1621 [8:48:38<25:29, 20.96s/it]"
     ]
    },
    {
     "name": "stdout",
     "output_type": "stream",
     "text": [
      "[FAIL] photo_20250318144419_7.json -> C:/Users/user/pythonproject/AllDataset/VAT-OCR\\triple_receipt\\label\\train_fail\\photo_20250318144419_7.json\n"
     ]
    },
    {
     "name": "stderr",
     "output_type": "stream",
     "text": [
      "Processing entries:  96%|█████████▌| 1549/1621 [8:48:55<23:39, 19.72s/it]"
     ]
    },
    {
     "name": "stdout",
     "output_type": "stream",
     "text": [
      "[FAIL] photo_20250318144419_8.json -> C:/Users/user/pythonproject/AllDataset/VAT-OCR\\triple_receipt\\label\\train_fail\\photo_20250318144419_8.json\n"
     ]
    },
    {
     "name": "stderr",
     "output_type": "stream",
     "text": [
      "Processing entries:  96%|█████████▌| 1550/1621 [8:49:15<23:19, 19.71s/it]"
     ]
    },
    {
     "name": "stdout",
     "output_type": "stream",
     "text": [
      "[FAIL] photo_20250318144419_9.json -> C:/Users/user/pythonproject/AllDataset/VAT-OCR\\triple_receipt\\label\\train_fail\\photo_20250318144419_9.json\n"
     ]
    },
    {
     "name": "stderr",
     "output_type": "stream",
     "text": [
      "Processing entries:  96%|█████████▌| 1551/1621 [8:49:24<19:10, 16.43s/it]"
     ]
    },
    {
     "name": "stdout",
     "output_type": "stream",
     "text": [
      "[FAIL] photo_20250319031636_1.json -> C:/Users/user/pythonproject/AllDataset/VAT-OCR\\triple_receipt\\label\\train_fail\\photo_20250319031636_1.json\n"
     ]
    },
    {
     "name": "stderr",
     "output_type": "stream",
     "text": [
      "Processing entries:  96%|█████████▌| 1552/1621 [8:49:39<18:38, 16.22s/it]"
     ]
    },
    {
     "name": "stdout",
     "output_type": "stream",
     "text": [
      "[OK] photo_20250319031636_10.json -> C:/Users/user/pythonproject/AllDataset/VAT-OCR\\triple_receipt\\label\\train_new\\photo_20250319031636_10.json\n"
     ]
    },
    {
     "name": "stderr",
     "output_type": "stream",
     "text": [
      "Processing entries:  96%|█████████▌| 1553/1621 [8:49:58<19:14, 16.97s/it]"
     ]
    },
    {
     "name": "stdout",
     "output_type": "stream",
     "text": [
      "[FAIL] photo_20250319031636_11.json -> C:/Users/user/pythonproject/AllDataset/VAT-OCR\\triple_receipt\\label\\train_fail\\photo_20250319031636_11.json\n"
     ]
    },
    {
     "name": "stderr",
     "output_type": "stream",
     "text": [
      "Processing entries:  96%|█████████▌| 1554/1621 [8:50:15<19:02, 17.05s/it]"
     ]
    },
    {
     "name": "stdout",
     "output_type": "stream",
     "text": [
      "[FAIL] photo_20250319031636_12.json -> C:/Users/user/pythonproject/AllDataset/VAT-OCR\\triple_receipt\\label\\train_fail\\photo_20250319031636_12.json\n"
     ]
    },
    {
     "name": "stderr",
     "output_type": "stream",
     "text": [
      "Processing entries:  96%|█████████▌| 1555/1621 [8:50:29<17:31, 15.93s/it]"
     ]
    },
    {
     "name": "stdout",
     "output_type": "stream",
     "text": [
      "[FAIL] photo_20250319031636_13.json -> C:/Users/user/pythonproject/AllDataset/VAT-OCR\\triple_receipt\\label\\train_fail\\photo_20250319031636_13.json\n"
     ]
    },
    {
     "name": "stderr",
     "output_type": "stream",
     "text": [
      "Processing entries:  96%|█████████▌| 1556/1621 [8:50:44<17:11, 15.86s/it]"
     ]
    },
    {
     "name": "stdout",
     "output_type": "stream",
     "text": [
      "[FAIL] photo_20250319031636_14.json -> C:/Users/user/pythonproject/AllDataset/VAT-OCR\\triple_receipt\\label\\train_fail\\photo_20250319031636_14.json\n"
     ]
    },
    {
     "name": "stderr",
     "output_type": "stream",
     "text": [
      "Processing entries:  96%|█████████▌| 1557/1621 [8:51:01<17:08, 16.07s/it]"
     ]
    },
    {
     "name": "stdout",
     "output_type": "stream",
     "text": [
      "[FAIL] photo_20250319031636_15.json -> C:/Users/user/pythonproject/AllDataset/VAT-OCR\\triple_receipt\\label\\train_fail\\photo_20250319031636_15.json\n"
     ]
    },
    {
     "name": "stderr",
     "output_type": "stream",
     "text": [
      "Processing entries:  96%|█████████▌| 1558/1621 [8:51:15<16:26, 15.66s/it]"
     ]
    },
    {
     "name": "stdout",
     "output_type": "stream",
     "text": [
      "[OK] photo_20250319031636_16.json -> C:/Users/user/pythonproject/AllDataset/VAT-OCR\\triple_receipt\\label\\train_new\\photo_20250319031636_16.json\n"
     ]
    },
    {
     "name": "stderr",
     "output_type": "stream",
     "text": [
      "Processing entries:  96%|█████████▌| 1559/1621 [8:51:29<15:40, 15.16s/it]"
     ]
    },
    {
     "name": "stdout",
     "output_type": "stream",
     "text": [
      "[OK] photo_20250319031636_17.json -> C:/Users/user/pythonproject/AllDataset/VAT-OCR\\triple_receipt\\label\\train_new\\photo_20250319031636_17.json\n"
     ]
    },
    {
     "name": "stderr",
     "output_type": "stream",
     "text": [
      "Processing entries:  96%|█████████▌| 1560/1621 [8:51:45<15:38, 15.39s/it]"
     ]
    },
    {
     "name": "stdout",
     "output_type": "stream",
     "text": [
      "[OK] photo_20250319031636_18.json -> C:/Users/user/pythonproject/AllDataset/VAT-OCR\\triple_receipt\\label\\train_new\\photo_20250319031636_18.json\n"
     ]
    },
    {
     "name": "stderr",
     "output_type": "stream",
     "text": [
      "Processing entries:  96%|█████████▋| 1561/1621 [8:52:01<15:23, 15.40s/it]"
     ]
    },
    {
     "name": "stdout",
     "output_type": "stream",
     "text": [
      "[FAIL] photo_20250319031636_19.json -> C:/Users/user/pythonproject/AllDataset/VAT-OCR\\triple_receipt\\label\\train_fail\\photo_20250319031636_19.json\n"
     ]
    },
    {
     "name": "stderr",
     "output_type": "stream",
     "text": [
      "Processing entries:  96%|█████████▋| 1562/1621 [8:52:18<15:44, 16.01s/it]"
     ]
    },
    {
     "name": "stdout",
     "output_type": "stream",
     "text": [
      "[FAIL] photo_20250319031636_2.json -> C:/Users/user/pythonproject/AllDataset/VAT-OCR\\triple_receipt\\label\\train_fail\\photo_20250319031636_2.json\n"
     ]
    },
    {
     "name": "stderr",
     "output_type": "stream",
     "text": [
      "Processing entries:  96%|█████████▋| 1563/1621 [8:52:32<14:46, 15.28s/it]"
     ]
    },
    {
     "name": "stdout",
     "output_type": "stream",
     "text": [
      "[OK] photo_20250319031636_20.json -> C:/Users/user/pythonproject/AllDataset/VAT-OCR\\triple_receipt\\label\\train_new\\photo_20250319031636_20.json\n"
     ]
    },
    {
     "name": "stderr",
     "output_type": "stream",
     "text": [
      "Processing entries:  96%|█████████▋| 1564/1621 [8:52:45<14:02, 14.77s/it]"
     ]
    },
    {
     "name": "stdout",
     "output_type": "stream",
     "text": [
      "[FAIL] photo_20250319031636_21.json -> C:/Users/user/pythonproject/AllDataset/VAT-OCR\\triple_receipt\\label\\train_fail\\photo_20250319031636_21.json\n"
     ]
    },
    {
     "name": "stderr",
     "output_type": "stream",
     "text": [
      "Processing entries:  97%|█████████▋| 1565/1621 [8:52:59<13:29, 14.45s/it]"
     ]
    },
    {
     "name": "stdout",
     "output_type": "stream",
     "text": [
      "[FAIL] photo_20250319031636_22.json -> C:/Users/user/pythonproject/AllDataset/VAT-OCR\\triple_receipt\\label\\train_fail\\photo_20250319031636_22.json\n"
     ]
    },
    {
     "name": "stderr",
     "output_type": "stream",
     "text": [
      "Processing entries:  97%|█████████▋| 1566/1621 [8:53:13<13:06, 14.30s/it]"
     ]
    },
    {
     "name": "stdout",
     "output_type": "stream",
     "text": [
      "[FAIL] photo_20250319031636_23.json -> C:/Users/user/pythonproject/AllDataset/VAT-OCR\\triple_receipt\\label\\train_fail\\photo_20250319031636_23.json\n"
     ]
    },
    {
     "name": "stderr",
     "output_type": "stream",
     "text": [
      "Processing entries:  97%|█████████▋| 1567/1621 [8:53:28<13:04, 14.52s/it]"
     ]
    },
    {
     "name": "stdout",
     "output_type": "stream",
     "text": [
      "[FAIL] photo_20250319031636_24.json -> C:/Users/user/pythonproject/AllDataset/VAT-OCR\\triple_receipt\\label\\train_fail\\photo_20250319031636_24.json\n"
     ]
    },
    {
     "name": "stderr",
     "output_type": "stream",
     "text": [
      "Processing entries:  97%|█████████▋| 1568/1621 [8:53:44<13:09, 14.90s/it]"
     ]
    },
    {
     "name": "stdout",
     "output_type": "stream",
     "text": [
      "[FAIL] photo_20250319031636_25.json -> C:/Users/user/pythonproject/AllDataset/VAT-OCR\\triple_receipt\\label\\train_fail\\photo_20250319031636_25.json\n"
     ]
    },
    {
     "name": "stderr",
     "output_type": "stream",
     "text": [
      "Processing entries:  97%|█████████▋| 1569/1621 [8:53:59<12:53, 14.88s/it]"
     ]
    },
    {
     "name": "stdout",
     "output_type": "stream",
     "text": [
      "[OK] photo_20250319031636_26.json -> C:/Users/user/pythonproject/AllDataset/VAT-OCR\\triple_receipt\\label\\train_new\\photo_20250319031636_26.json\n"
     ]
    },
    {
     "name": "stderr",
     "output_type": "stream",
     "text": [
      "Processing entries:  97%|█████████▋| 1570/1621 [8:54:17<13:36, 16.00s/it]"
     ]
    },
    {
     "name": "stdout",
     "output_type": "stream",
     "text": [
      "[FAIL] photo_20250319031636_27.json -> C:/Users/user/pythonproject/AllDataset/VAT-OCR\\triple_receipt\\label\\train_fail\\photo_20250319031636_27.json\n"
     ]
    },
    {
     "name": "stderr",
     "output_type": "stream",
     "text": [
      "Processing entries:  97%|█████████▋| 1571/1621 [8:54:39<14:42, 17.64s/it]"
     ]
    },
    {
     "name": "stdout",
     "output_type": "stream",
     "text": [
      "[OK] photo_20250319031636_28.json -> C:/Users/user/pythonproject/AllDataset/VAT-OCR\\triple_receipt\\label\\train_new\\photo_20250319031636_28.json\n"
     ]
    },
    {
     "name": "stderr",
     "output_type": "stream",
     "text": [
      "Processing entries:  97%|█████████▋| 1572/1621 [8:55:03<16:07, 19.75s/it]"
     ]
    },
    {
     "name": "stdout",
     "output_type": "stream",
     "text": [
      "[FAIL] photo_20250319031636_29.json -> C:/Users/user/pythonproject/AllDataset/VAT-OCR\\triple_receipt\\label\\train_fail\\photo_20250319031636_29.json\n"
     ]
    },
    {
     "name": "stderr",
     "output_type": "stream",
     "text": [
      "Processing entries:  97%|█████████▋| 1573/1621 [8:55:24<15:57, 19.96s/it]"
     ]
    },
    {
     "name": "stdout",
     "output_type": "stream",
     "text": [
      "[FAIL] photo_20250319031636_3.json -> C:/Users/user/pythonproject/AllDataset/VAT-OCR\\triple_receipt\\label\\train_fail\\photo_20250319031636_3.json\n"
     ]
    },
    {
     "name": "stderr",
     "output_type": "stream",
     "text": [
      "Processing entries:  97%|█████████▋| 1574/1621 [8:55:41<14:52, 18.99s/it]"
     ]
    },
    {
     "name": "stdout",
     "output_type": "stream",
     "text": [
      "[FAIL] photo_20250319031636_33.json -> C:/Users/user/pythonproject/AllDataset/VAT-OCR\\triple_receipt\\label\\train_fail\\photo_20250319031636_33.json\n"
     ]
    },
    {
     "name": "stderr",
     "output_type": "stream",
     "text": [
      "Processing entries:  97%|█████████▋| 1575/1621 [8:55:57<13:53, 18.12s/it]"
     ]
    },
    {
     "name": "stdout",
     "output_type": "stream",
     "text": [
      "[FAIL] photo_20250319031636_34.json -> C:/Users/user/pythonproject/AllDataset/VAT-OCR\\triple_receipt\\label\\train_fail\\photo_20250319031636_34.json\n"
     ]
    },
    {
     "name": "stderr",
     "output_type": "stream",
     "text": [
      "Processing entries:  97%|█████████▋| 1576/1621 [8:56:12<12:58, 17.29s/it]"
     ]
    },
    {
     "name": "stdout",
     "output_type": "stream",
     "text": [
      "[FAIL] photo_20250319031636_36.json -> C:/Users/user/pythonproject/AllDataset/VAT-OCR\\triple_receipt\\label\\train_fail\\photo_20250319031636_36.json\n"
     ]
    },
    {
     "name": "stderr",
     "output_type": "stream",
     "text": [
      "Processing entries:  97%|█████████▋| 1577/1621 [8:56:28<12:21, 16.86s/it]"
     ]
    },
    {
     "name": "stdout",
     "output_type": "stream",
     "text": [
      "[OK] photo_20250319031636_4.json -> C:/Users/user/pythonproject/AllDataset/VAT-OCR\\triple_receipt\\label\\train_new\\photo_20250319031636_4.json\n"
     ]
    },
    {
     "name": "stderr",
     "output_type": "stream",
     "text": [
      "Processing entries:  97%|█████████▋| 1578/1621 [8:56:43<11:37, 16.21s/it]"
     ]
    },
    {
     "name": "stdout",
     "output_type": "stream",
     "text": [
      "[FAIL] photo_20250319031636_5.json -> C:/Users/user/pythonproject/AllDataset/VAT-OCR\\triple_receipt\\label\\train_fail\\photo_20250319031636_5.json\n"
     ]
    },
    {
     "name": "stderr",
     "output_type": "stream",
     "text": [
      "Processing entries:  97%|█████████▋| 1579/1621 [8:56:57<10:52, 15.54s/it]"
     ]
    },
    {
     "name": "stdout",
     "output_type": "stream",
     "text": [
      "[FAIL] photo_20250319031636_6.json -> C:/Users/user/pythonproject/AllDataset/VAT-OCR\\triple_receipt\\label\\train_fail\\photo_20250319031636_6.json\n"
     ]
    },
    {
     "name": "stderr",
     "output_type": "stream",
     "text": [
      "Processing entries:  97%|█████████▋| 1580/1621 [8:57:09<09:52, 14.45s/it]"
     ]
    },
    {
     "name": "stdout",
     "output_type": "stream",
     "text": [
      "[FAIL] photo_20250319031636_7.json -> C:/Users/user/pythonproject/AllDataset/VAT-OCR\\triple_receipt\\label\\train_fail\\photo_20250319031636_7.json\n"
     ]
    },
    {
     "name": "stderr",
     "output_type": "stream",
     "text": [
      "Processing entries:  98%|█████████▊| 1581/1621 [8:57:24<09:55, 14.89s/it]"
     ]
    },
    {
     "name": "stdout",
     "output_type": "stream",
     "text": [
      "[FAIL] photo_20250319031636_8.json -> C:/Users/user/pythonproject/AllDataset/VAT-OCR\\triple_receipt\\label\\train_fail\\photo_20250319031636_8.json\n"
     ]
    },
    {
     "name": "stderr",
     "output_type": "stream",
     "text": [
      "Processing entries:  98%|█████████▊| 1582/1621 [8:57:41<09:56, 15.30s/it]"
     ]
    },
    {
     "name": "stdout",
     "output_type": "stream",
     "text": [
      "[FAIL] photo_20250319031636_9.json -> C:/Users/user/pythonproject/AllDataset/VAT-OCR\\triple_receipt\\label\\train_fail\\photo_20250319031636_9.json\n"
     ]
    },
    {
     "name": "stderr",
     "output_type": "stream",
     "text": [
      "Processing entries:  98%|█████████▊| 1583/1621 [8:57:59<10:16, 16.21s/it]"
     ]
    },
    {
     "name": "stdout",
     "output_type": "stream",
     "text": [
      "[FAIL] photo_20250319043914_1.json -> C:/Users/user/pythonproject/AllDataset/VAT-OCR\\triple_receipt\\label\\train_fail\\photo_20250319043914_1.json\n"
     ]
    },
    {
     "name": "stderr",
     "output_type": "stream",
     "text": [
      "Processing entries:  98%|█████████▊| 1584/1621 [8:58:10<09:06, 14.78s/it]"
     ]
    },
    {
     "name": "stdout",
     "output_type": "stream",
     "text": [
      "[FAIL] photo_20250319043914_10.json -> C:/Users/user/pythonproject/AllDataset/VAT-OCR\\triple_receipt\\label\\train_fail\\photo_20250319043914_10.json\n"
     ]
    },
    {
     "name": "stderr",
     "output_type": "stream",
     "text": [
      "Processing entries:  98%|█████████▊| 1585/1621 [8:58:28<09:25, 15.71s/it]"
     ]
    },
    {
     "name": "stdout",
     "output_type": "stream",
     "text": [
      "[FAIL] photo_20250319043914_11.json -> C:/Users/user/pythonproject/AllDataset/VAT-OCR\\triple_receipt\\label\\train_fail\\photo_20250319043914_11.json\n"
     ]
    },
    {
     "name": "stderr",
     "output_type": "stream",
     "text": [
      "Processing entries:  98%|█████████▊| 1586/1621 [8:58:42<08:47, 15.08s/it]"
     ]
    },
    {
     "name": "stdout",
     "output_type": "stream",
     "text": [
      "[FAIL] photo_20250319043914_12.json -> C:/Users/user/pythonproject/AllDataset/VAT-OCR\\triple_receipt\\label\\train_fail\\photo_20250319043914_12.json\n"
     ]
    },
    {
     "name": "stderr",
     "output_type": "stream",
     "text": [
      "Processing entries:  98%|█████████▊| 1587/1621 [8:59:00<09:03, 15.97s/it]"
     ]
    },
    {
     "name": "stdout",
     "output_type": "stream",
     "text": [
      "[OK] photo_20250319043914_13.json -> C:/Users/user/pythonproject/AllDataset/VAT-OCR\\triple_receipt\\label\\train_new\\photo_20250319043914_13.json\n"
     ]
    },
    {
     "name": "stderr",
     "output_type": "stream",
     "text": [
      "Processing entries:  98%|█████████▊| 1588/1621 [8:59:15<08:34, 15.60s/it]"
     ]
    },
    {
     "name": "stdout",
     "output_type": "stream",
     "text": [
      "[FAIL] photo_20250319043914_14.json -> C:/Users/user/pythonproject/AllDataset/VAT-OCR\\triple_receipt\\label\\train_fail\\photo_20250319043914_14.json\n"
     ]
    },
    {
     "name": "stderr",
     "output_type": "stream",
     "text": [
      "Processing entries:  98%|█████████▊| 1589/1621 [8:59:36<09:15, 17.35s/it]"
     ]
    },
    {
     "name": "stdout",
     "output_type": "stream",
     "text": [
      "[FAIL] photo_20250319043914_15.json -> C:/Users/user/pythonproject/AllDataset/VAT-OCR\\triple_receipt\\label\\train_fail\\photo_20250319043914_15.json\n"
     ]
    },
    {
     "name": "stderr",
     "output_type": "stream",
     "text": [
      "Processing entries:  98%|█████████▊| 1590/1621 [8:59:51<08:37, 16.71s/it]"
     ]
    },
    {
     "name": "stdout",
     "output_type": "stream",
     "text": [
      "[FAIL] photo_20250319043914_16.json -> C:/Users/user/pythonproject/AllDataset/VAT-OCR\\triple_receipt\\label\\train_fail\\photo_20250319043914_16.json\n"
     ]
    },
    {
     "name": "stderr",
     "output_type": "stream",
     "text": [
      "Processing entries:  98%|█████████▊| 1591/1621 [9:00:07<08:08, 16.29s/it]"
     ]
    },
    {
     "name": "stdout",
     "output_type": "stream",
     "text": [
      "[FAIL] photo_20250319043914_17.json -> C:/Users/user/pythonproject/AllDataset/VAT-OCR\\triple_receipt\\label\\train_fail\\photo_20250319043914_17.json\n"
     ]
    },
    {
     "name": "stderr",
     "output_type": "stream",
     "text": [
      "Processing entries:  98%|█████████▊| 1592/1621 [9:00:22<07:39, 15.84s/it]"
     ]
    },
    {
     "name": "stdout",
     "output_type": "stream",
     "text": [
      "[OK] photo_20250319043914_18.json -> C:/Users/user/pythonproject/AllDataset/VAT-OCR\\triple_receipt\\label\\train_new\\photo_20250319043914_18.json\n"
     ]
    },
    {
     "name": "stderr",
     "output_type": "stream",
     "text": [
      "Processing entries:  98%|█████████▊| 1593/1621 [9:00:35<07:06, 15.23s/it]"
     ]
    },
    {
     "name": "stdout",
     "output_type": "stream",
     "text": [
      "[FAIL] photo_20250319043914_19.json -> C:/Users/user/pythonproject/AllDataset/VAT-OCR\\triple_receipt\\label\\train_fail\\photo_20250319043914_19.json\n"
     ]
    },
    {
     "name": "stderr",
     "output_type": "stream",
     "text": [
      "Processing entries:  98%|█████████▊| 1594/1621 [9:00:51<06:52, 15.27s/it]"
     ]
    },
    {
     "name": "stdout",
     "output_type": "stream",
     "text": [
      "[FAIL] photo_20250319043914_2.json -> C:/Users/user/pythonproject/AllDataset/VAT-OCR\\triple_receipt\\label\\train_fail\\photo_20250319043914_2.json\n"
     ]
    },
    {
     "name": "stderr",
     "output_type": "stream",
     "text": [
      "Processing entries:  98%|█████████▊| 1595/1621 [9:00:59<05:41, 13.12s/it]"
     ]
    },
    {
     "name": "stdout",
     "output_type": "stream",
     "text": [
      "[FAIL] photo_20250319043914_20.json -> C:/Users/user/pythonproject/AllDataset/VAT-OCR\\triple_receipt\\label\\train_fail\\photo_20250319043914_20.json\n"
     ]
    },
    {
     "name": "stderr",
     "output_type": "stream",
     "text": [
      "Processing entries:  98%|█████████▊| 1596/1621 [9:01:13<05:37, 13.48s/it]"
     ]
    },
    {
     "name": "stdout",
     "output_type": "stream",
     "text": [
      "[OK] photo_20250319043914_21.json -> C:/Users/user/pythonproject/AllDataset/VAT-OCR\\triple_receipt\\label\\train_new\\photo_20250319043914_21.json\n"
     ]
    },
    {
     "name": "stderr",
     "output_type": "stream",
     "text": [
      "Processing entries:  99%|█████████▊| 1597/1621 [9:01:34<06:20, 15.84s/it]"
     ]
    },
    {
     "name": "stdout",
     "output_type": "stream",
     "text": [
      "[OK] photo_20250319043914_22.json -> C:/Users/user/pythonproject/AllDataset/VAT-OCR\\triple_receipt\\label\\train_new\\photo_20250319043914_22.json\n"
     ]
    },
    {
     "name": "stderr",
     "output_type": "stream",
     "text": [
      "Processing entries:  99%|█████████▊| 1598/1621 [9:01:57<06:51, 17.89s/it]"
     ]
    },
    {
     "name": "stdout",
     "output_type": "stream",
     "text": [
      "[FAIL] photo_20250319043914_23.json -> C:/Users/user/pythonproject/AllDataset/VAT-OCR\\triple_receipt\\label\\train_fail\\photo_20250319043914_23.json\n"
     ]
    },
    {
     "name": "stderr",
     "output_type": "stream",
     "text": [
      "Processing entries:  99%|█████████▊| 1599/1621 [9:02:13<06:20, 17.30s/it]"
     ]
    },
    {
     "name": "stdout",
     "output_type": "stream",
     "text": [
      "[FAIL] photo_20250319043914_24.json -> C:/Users/user/pythonproject/AllDataset/VAT-OCR\\triple_receipt\\label\\train_fail\\photo_20250319043914_24.json\n"
     ]
    },
    {
     "name": "stderr",
     "output_type": "stream",
     "text": [
      "Processing entries:  99%|█████████▊| 1600/1621 [9:02:30<06:02, 17.27s/it]"
     ]
    },
    {
     "name": "stdout",
     "output_type": "stream",
     "text": [
      "[OK] photo_20250319043914_3.json -> C:/Users/user/pythonproject/AllDataset/VAT-OCR\\triple_receipt\\label\\train_new\\photo_20250319043914_3.json\n"
     ]
    },
    {
     "name": "stderr",
     "output_type": "stream",
     "text": [
      "Processing entries:  99%|█████████▉| 1601/1621 [9:02:51<06:07, 18.39s/it]"
     ]
    },
    {
     "name": "stdout",
     "output_type": "stream",
     "text": [
      "[FAIL] photo_20250319043914_4.json -> C:/Users/user/pythonproject/AllDataset/VAT-OCR\\triple_receipt\\label\\train_fail\\photo_20250319043914_4.json\n"
     ]
    },
    {
     "name": "stderr",
     "output_type": "stream",
     "text": [
      "Processing entries:  99%|█████████▉| 1602/1621 [9:04:00<10:37, 33.53s/it]"
     ]
    },
    {
     "name": "stdout",
     "output_type": "stream",
     "text": [
      "[FAIL] photo_20250319043914_5.json -> C:/Users/user/pythonproject/AllDataset/VAT-OCR\\triple_receipt\\label\\train_fail\\photo_20250319043914_5.json\n"
     ]
    },
    {
     "name": "stderr",
     "output_type": "stream",
     "text": [
      "Processing entries:  99%|█████████▉| 1603/1621 [9:04:14<08:18, 27.67s/it]"
     ]
    },
    {
     "name": "stdout",
     "output_type": "stream",
     "text": [
      "[FAIL] photo_20250319043914_6.json -> C:/Users/user/pythonproject/AllDataset/VAT-OCR\\triple_receipt\\label\\train_fail\\photo_20250319043914_6.json\n"
     ]
    },
    {
     "name": "stderr",
     "output_type": "stream",
     "text": [
      "Processing entries:  99%|█████████▉| 1604/1621 [9:04:30<06:51, 24.22s/it]"
     ]
    },
    {
     "name": "stdout",
     "output_type": "stream",
     "text": [
      "[FAIL] photo_20250319043914_7.json -> C:/Users/user/pythonproject/AllDataset/VAT-OCR\\triple_receipt\\label\\train_fail\\photo_20250319043914_7.json\n"
     ]
    },
    {
     "name": "stderr",
     "output_type": "stream",
     "text": [
      "Processing entries:  99%|█████████▉| 1605/1621 [9:04:46<05:47, 21.73s/it]"
     ]
    },
    {
     "name": "stdout",
     "output_type": "stream",
     "text": [
      "[OK] photo_20250319043914_8.json -> C:/Users/user/pythonproject/AllDataset/VAT-OCR\\triple_receipt\\label\\train_new\\photo_20250319043914_8.json\n"
     ]
    },
    {
     "name": "stderr",
     "output_type": "stream",
     "text": [
      "Processing entries:  99%|█████████▉| 1606/1621 [9:05:04<05:09, 20.64s/it]"
     ]
    },
    {
     "name": "stdout",
     "output_type": "stream",
     "text": [
      "[FAIL] photo_20250319043914_9.json -> C:/Users/user/pythonproject/AllDataset/VAT-OCR\\triple_receipt\\label\\train_fail\\photo_20250319043914_9.json\n"
     ]
    },
    {
     "name": "stderr",
     "output_type": "stream",
     "text": [
      "Processing entries:  99%|█████████▉| 1607/1621 [9:05:21<04:32, 19.50s/it]"
     ]
    },
    {
     "name": "stdout",
     "output_type": "stream",
     "text": [
      "[FAIL] photo_20250320022142_1.json -> C:/Users/user/pythonproject/AllDataset/VAT-OCR\\triple_receipt\\label\\train_fail\\photo_20250320022142_1.json\n"
     ]
    },
    {
     "name": "stderr",
     "output_type": "stream",
     "text": [
      "Processing entries:  99%|█████████▉| 1608/1621 [9:05:35<03:51, 17.78s/it]"
     ]
    },
    {
     "name": "stdout",
     "output_type": "stream",
     "text": [
      "[OK] photo_20250320022142_10.json -> C:/Users/user/pythonproject/AllDataset/VAT-OCR\\triple_receipt\\label\\train_new\\photo_20250320022142_10.json\n"
     ]
    },
    {
     "name": "stderr",
     "output_type": "stream",
     "text": [
      "Processing entries:  99%|█████████▉| 1609/1621 [9:05:53<03:33, 17.81s/it]"
     ]
    },
    {
     "name": "stdout",
     "output_type": "stream",
     "text": [
      "[OK] photo_20250320022142_11.json -> C:/Users/user/pythonproject/AllDataset/VAT-OCR\\triple_receipt\\label\\train_new\\photo_20250320022142_11.json\n"
     ]
    },
    {
     "name": "stderr",
     "output_type": "stream",
     "text": [
      "Processing entries:  99%|█████████▉| 1610/1621 [9:06:10<03:14, 17.64s/it]"
     ]
    },
    {
     "name": "stdout",
     "output_type": "stream",
     "text": [
      "[FAIL] photo_20250320022142_12.json -> C:/Users/user/pythonproject/AllDataset/VAT-OCR\\triple_receipt\\label\\train_fail\\photo_20250320022142_12.json\n"
     ]
    },
    {
     "name": "stderr",
     "output_type": "stream",
     "text": [
      "Processing entries:  99%|█████████▉| 1611/1621 [9:06:28<02:56, 17.60s/it]"
     ]
    },
    {
     "name": "stdout",
     "output_type": "stream",
     "text": [
      "[FAIL] photo_20250320022142_13.json -> C:/Users/user/pythonproject/AllDataset/VAT-OCR\\triple_receipt\\label\\train_fail\\photo_20250320022142_13.json\n"
     ]
    },
    {
     "name": "stderr",
     "output_type": "stream",
     "text": [
      "Processing entries:  99%|█████████▉| 1612/1621 [9:06:45<02:37, 17.45s/it]"
     ]
    },
    {
     "name": "stdout",
     "output_type": "stream",
     "text": [
      "[FAIL] photo_20250320022142_14.json -> C:/Users/user/pythonproject/AllDataset/VAT-OCR\\triple_receipt\\label\\train_fail\\photo_20250320022142_14.json\n"
     ]
    },
    {
     "name": "stderr",
     "output_type": "stream",
     "text": [
      "Processing entries: 100%|█████████▉| 1613/1621 [9:07:00<02:14, 16.76s/it]"
     ]
    },
    {
     "name": "stdout",
     "output_type": "stream",
     "text": [
      "[FAIL] photo_20250320022142_15.json -> C:/Users/user/pythonproject/AllDataset/VAT-OCR\\triple_receipt\\label\\train_fail\\photo_20250320022142_15.json\n"
     ]
    },
    {
     "name": "stderr",
     "output_type": "stream",
     "text": [
      "Processing entries: 100%|█████████▉| 1614/1621 [9:07:15<01:54, 16.34s/it]"
     ]
    },
    {
     "name": "stdout",
     "output_type": "stream",
     "text": [
      "[FAIL] photo_20250320022142_2.json -> C:/Users/user/pythonproject/AllDataset/VAT-OCR\\triple_receipt\\label\\train_fail\\photo_20250320022142_2.json\n"
     ]
    },
    {
     "name": "stderr",
     "output_type": "stream",
     "text": [
      "Processing entries: 100%|█████████▉| 1615/1621 [9:07:31<01:37, 16.32s/it]"
     ]
    },
    {
     "name": "stdout",
     "output_type": "stream",
     "text": [
      "[OK] photo_20250320022142_3.json -> C:/Users/user/pythonproject/AllDataset/VAT-OCR\\triple_receipt\\label\\train_new\\photo_20250320022142_3.json\n"
     ]
    },
    {
     "name": "stderr",
     "output_type": "stream",
     "text": [
      "Processing entries: 100%|█████████▉| 1616/1621 [9:07:48<01:21, 16.32s/it]"
     ]
    },
    {
     "name": "stdout",
     "output_type": "stream",
     "text": [
      "[FAIL] photo_20250320022142_4.json -> C:/Users/user/pythonproject/AllDataset/VAT-OCR\\triple_receipt\\label\\train_fail\\photo_20250320022142_4.json\n"
     ]
    },
    {
     "name": "stderr",
     "output_type": "stream",
     "text": [
      "Processing entries: 100%|█████████▉| 1617/1621 [9:08:07<01:09, 17.29s/it]"
     ]
    },
    {
     "name": "stdout",
     "output_type": "stream",
     "text": [
      "[FAIL] photo_20250320022142_5.json -> C:/Users/user/pythonproject/AllDataset/VAT-OCR\\triple_receipt\\label\\train_fail\\photo_20250320022142_5.json\n"
     ]
    },
    {
     "name": "stderr",
     "output_type": "stream",
     "text": [
      "Processing entries: 100%|█████████▉| 1618/1621 [9:08:22<00:49, 16.58s/it]"
     ]
    },
    {
     "name": "stdout",
     "output_type": "stream",
     "text": [
      "[FAIL] photo_20250320022142_6.json -> C:/Users/user/pythonproject/AllDataset/VAT-OCR\\triple_receipt\\label\\train_fail\\photo_20250320022142_6.json\n"
     ]
    },
    {
     "name": "stderr",
     "output_type": "stream",
     "text": [
      "Processing entries: 100%|█████████▉| 1619/1621 [9:08:36<00:31, 15.77s/it]"
     ]
    },
    {
     "name": "stdout",
     "output_type": "stream",
     "text": [
      "[FAIL] photo_20250320022142_7.json -> C:/Users/user/pythonproject/AllDataset/VAT-OCR\\triple_receipt\\label\\train_fail\\photo_20250320022142_7.json\n"
     ]
    },
    {
     "name": "stderr",
     "output_type": "stream",
     "text": [
      "Processing entries: 100%|█████████▉| 1620/1621 [9:08:55<00:16, 16.86s/it]"
     ]
    },
    {
     "name": "stdout",
     "output_type": "stream",
     "text": [
      "[FAIL] photo_20250320022142_8.json -> C:/Users/user/pythonproject/AllDataset/VAT-OCR\\triple_receipt\\label\\train_fail\\photo_20250320022142_8.json\n"
     ]
    },
    {
     "name": "stderr",
     "output_type": "stream",
     "text": [
      "Processing entries: 100%|██████████| 1621/1621 [9:09:10<00:00, 20.33s/it]"
     ]
    },
    {
     "name": "stdout",
     "output_type": "stream",
     "text": [
      "[FAIL] photo_20250320022142_9.json -> C:/Users/user/pythonproject/AllDataset/VAT-OCR\\triple_receipt\\label\\train_fail\\photo_20250320022142_9.json\n"
     ]
    },
    {
     "name": "stderr",
     "output_type": "stream",
     "text": [
      "\n"
     ]
    }
   ],
   "source": [
    "import os\n",
    "import json\n",
    "from tqdm import tqdm\n",
    "from PIL import Image  # 新增：載入影像\n",
    "\n",
    "# 你現有的設定\n",
    "doc_class = \"triple_receipt\"  # triple_receipt, triple_invoice\n",
    "root_dir = os.path.join(\"C:/Users/user/pythonproject/AllDataset/VAT-OCR\", doc_class)\n",
    "mode = 'train'  # 'train' or 'test'\n",
    "\n",
    "label_dir = os.path.join(root_dir, 'label', mode)\n",
    "image_dir = os.path.join(root_dir, 'image')\n",
    "\n",
    "# 目的地資料夾：<mode>_new / <mode>_fail\n",
    "out_base_dir = os.path.join(root_dir, 'label')\n",
    "out_dir_pass = os.path.join(out_base_dir, f'{mode}_new')   # e.g., train_new\n",
    "out_dir_fail = os.path.join(out_base_dir, f'{mode}_fail')  # e.g., train_fail\n",
    "os.makedirs(out_dir_pass, exist_ok=True)\n",
    "os.makedirs(out_dir_fail, exist_ok=True)\n",
    "\n",
    "entries = [os.path.splitext(f)[0] + '.json' for f in os.listdir(image_dir) if f.lower().endswith('.jpg')]\n",
    "print(f\"Total entries found: {len(entries)}\")\n",
    "\n",
    "for entry in tqdm(entries, desc=\"Processing entries\"):\n",
    "    try:\n",
    "        base = os.path.splitext(entry)[0]\n",
    "        json_path = os.path.join(label_dir, entry)\n",
    "        img_name = base + '.jpg'\n",
    "        img_path = os.path.join(image_dir, img_name)\n",
    "\n",
    "        # 載入影像 → 丟到你的模型\n",
    "        image = Image.open(img_path).convert(\"RGB\")\n",
    "        model_output = chat_once(image)  # 你的函式，回傳可被 json.loads 的字串\n",
    "        input_string = json.loads(model_output)\n",
    "\n",
    "        # 指定 doc_class（你的 check_compliance 會大小寫不敏感）\n",
    "        if 'gt_parse' not in input_string:\n",
    "            input_string['gt_parse'] = {}\n",
    "        input_string['gt_parse']['doc_class'] = doc_class\n",
    "\n",
    "        # 檢核與正規化（你的 check_compliance 會回傳 (compliance, edit_string)）\n",
    "        compliance, edit_string = check_compliance(input_string)\n",
    "\n",
    "        # 判斷是否所有布林值皆 True（忽略非布林的 @normalized:XXX 等）\n",
    "        bool_flags = [v for v in compliance.values() if isinstance(v, bool)]\n",
    "        all_pass = len(bool_flags) > 0 and all(bool_flags)\n",
    "\n",
    "        # 目的地：全通過 → <mode>_new；任一 False → <mode>_fail\n",
    "        dest_dir = out_dir_pass if all_pass else out_dir_fail\n",
    "        dest_path = os.path.join(dest_dir, entry)  # 沿用原本 json 檔名\n",
    "\n",
    "        # 寫出正規化後的 edit_string\n",
    "        with open(dest_path, 'w', encoding='utf-8') as f:\n",
    "            json.dump(edit_string['gt_parse'], f, ensure_ascii=False, indent=2)\n",
    "\n",
    "        # 可選：印出簡短紀錄\n",
    "        # 也可以印失敗鍵：failed = [k for k,v in compliance.items() if isinstance(v,bool) and not v]\n",
    "        print(f\"[{'OK' if all_pass else 'FAIL'}] {entry} -> {dest_path}\")\n",
    "\n",
    "    except Exception as e:\n",
    "        # 若某檔處理失敗，丟去 fail 夾並記錄錯誤\n",
    "        dest_path = os.path.join(out_dir_fail, entry)\n",
    "        try:\n",
    "            # 若 edit_string 沒成功產生，就把模型原輸出包裝一下存檔，避免遺失樣本\n",
    "            payload = edit_string if 'edit_string' in locals() else {\"raw\": model_output if 'model_output' in locals() else None}\n",
    "            with open(dest_path, 'w', encoding='utf-8') as f:\n",
    "                json.dump(payload, f, ensure_ascii=False, indent=2)\n",
    "        except Exception:\n",
    "            pass\n",
    "        print(f\"[ERROR] {entry}: {e}\")\n"
   ]
  },
  {
   "cell_type": "markdown",
   "id": "f7595682",
   "metadata": {},
   "source": [
    "(old inference)"
   ]
  },
  {
   "cell_type": "code",
   "execution_count": null,
   "id": "625160c1",
   "metadata": {},
   "outputs": [
    {
     "name": "stdout",
     "output_type": "stream",
     "text": [
      "{'gt_parse': {'Other': ['柏格文具禮品股份有限公司', '台南市永康區崙山街183巷23號', '統編', '710'], 'Tail': {'SalesTax': '475', 'SalesTotalAmount': '9498', 'TotalAmount': '9973'}, 'body': {'BuyerTaxIDNumber': '53812386', 'CompanyTaxIDNumber': '28652798'}, 'header': {'InvoiceDay': '15', 'InvoiceMonth': '12', 'InvoiceYear': '110', 'PrefixTwoLetters': 'TC'}}}<|im_end|>\n"
     ]
    }
   ],
   "source": [
    "from PIL import Image\n",
    "\n",
    "image = Image.open(\"./invoice.jpg\").convert(\"RGB\")\n",
    "instruction = \"你是發票/單據分類器與結構化抽取器，請辨識這張文件\"\n",
    "\n",
    "messages = [\n",
    "    {\"role\": \"user\", \"content\": [\n",
    "        {\"type\": \"image\"},\n",
    "        {\"type\": \"text\", \"text\": instruction}\n",
    "    ]}\n",
    "]\n",
    "input_text = tokenizer.apply_chat_template(messages, add_generation_prompt = True)\n",
    "inputs = tokenizer(\n",
    "    image,\n",
    "    input_text,\n",
    "    add_special_tokens = False,\n",
    "    return_tensors = \"pt\",\n",
    ").to(\"cuda\")\n",
    "\n",
    "from transformers import TextStreamer\n",
    "text_streamer = TextStreamer(tokenizer, skip_prompt = True)\n",
    "_ = model.generate(**inputs, streamer = text_streamer, max_new_tokens = 256,\n",
    "                   use_cache = True, temperature = 1.5, min_p = 0.1)"
   ]
  }
 ],
 "metadata": {
  "kernelspec": {
   "display_name": "VAT",
   "language": "python",
   "name": "python3"
  },
  "language_info": {
   "codemirror_mode": {
    "name": "ipython",
    "version": 3
   },
   "file_extension": ".py",
   "mimetype": "text/x-python",
   "name": "python",
   "nbconvert_exporter": "python",
   "pygments_lexer": "ipython3",
   "version": "3.11.13"
  }
 },
 "nbformat": 4,
 "nbformat_minor": 5
}
